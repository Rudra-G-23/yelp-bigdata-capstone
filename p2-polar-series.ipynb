{
 "cells": [
  {
   "cell_type": "markdown",
   "id": "8c9a834f",
   "metadata": {},
   "source": [
    "# Polars"
   ]
  },
  {
   "cell_type": "markdown",
   "id": "454141f0",
   "metadata": {},
   "source": [
    "## Polars Series\n"
   ]
  },
  {
   "cell_type": "code",
   "execution_count": null,
   "id": "126e439e",
   "metadata": {},
   "outputs": [],
   "source": [
    "#!pip install polars -q"
   ]
  },
  {
   "cell_type": "markdown",
   "id": "8c13b401",
   "metadata": {},
   "source": [
    "## Importing Polars\n"
   ]
  },
  {
   "cell_type": "code",
   "execution_count": 1,
   "id": "c395e4f9",
   "metadata": {},
   "outputs": [],
   "source": [
    "import polars as pl"
   ]
  },
  {
   "cell_type": "markdown",
   "id": "01f2efee",
   "metadata": {},
   "source": [
    "\n",
    "# Creating Series Method\n",
    "Series from lists\n",
    "series from dict\n",
    "series attributes\n",
    "series using csv & json\n"
   ]
  },
  {
   "cell_type": "markdown",
   "id": "20752485",
   "metadata": {},
   "source": [
    "\n",
    "# Series Methods\n",
    "head() & tail()\n",
    "sample()\n",
    "value_count()\n",
    "sort_index()\n",
    "sort_values()\n"
   ]
  },
  {
   "cell_type": "markdown",
   "id": "4b626a0c",
   "metadata": {},
   "source": [
    "\n",
    "# series math methods\n",
    "count()\n",
    "product() & sum*()\n",
    "mean/meadian/mode/std/var\n",
    "describe()\n"
   ]
  },
  {
   "cell_type": "markdown",
   "id": "2a09301e",
   "metadata": {},
   "source": [
    "\n",
    "# Series Indexing & Slicing\n",
    "Normal Indexing\n",
    "Negative Indexing\n",
    "Slicing\n",
    "Fancy Indexing\n",
    "Editing Series\n",
    "Copy & Views\n"
   ]
  },
  {
   "cell_type": "markdown",
   "id": "c6bb3f2f",
   "metadata": {},
   "source": [
    "\n",
    "\n",
    "# Series with Python Functionalities \n",
    "len/type/dir/storted\n",
    "membership operator\n",
    "looping\n",
    "broadcasting\n",
    "relational\n",
    "bollean indexing on series\n",
    "Ploting graphs on Series\n"
   ]
  },
  {
   "cell_type": "markdown",
   "id": "049d6cbe",
   "metadata": {},
   "source": [
    "\n",
    "# Important Series Methods\n",
    "Astype\n",
    "between\n",
    "clip()\n",
    "drop_duplicates()\n",
    "duplicated()\n",
    "count()\n",
    "isnull()\n",
    "fillna()\n",
    "isin()\n",
    "apply & lambda\n",
    "copy\n"
   ]
  },
  {
   "cell_type": "code",
   "execution_count": 13,
   "id": "09653d5c",
   "metadata": {},
   "outputs": [],
   "source": [
    "import polars"
   ]
  },
  {
   "cell_type": "code",
   "execution_count": 14,
   "id": "0a5f1cea",
   "metadata": {},
   "outputs": [
    {
     "data": {
      "text/plain": [
       "'1.31.0'"
      ]
     },
     "execution_count": 14,
     "metadata": {},
     "output_type": "execute_result"
    }
   ],
   "source": [
    "polars.__version__"
   ]
  },
  {
   "cell_type": "code",
   "execution_count": 2,
   "id": "fd111247",
   "metadata": {},
   "outputs": [
    {
     "name": "stdout",
     "output_type": "stream",
     "text": [
      "shape: (5,)\n",
      "Series: 'my_series' [i64]\n",
      "[\n",
      "\t1\n",
      "\t2\n",
      "\t3\n",
      "\t4\n",
      "\t5\n",
      "]\n"
     ]
    }
   ],
   "source": [
    "import polars as pl\n",
    "\n",
    "# Create a Series from a Python list\n",
    "s = pl.Series(\"my_series\", [1, 2, 3, 4, 5])\n",
    "\n",
    "print(s)\n"
   ]
  },
  {
   "cell_type": "code",
   "execution_count": 3,
   "id": "8ddd6bf8",
   "metadata": {},
   "outputs": [
    {
     "ename": "TypeError",
     "evalue": "Series constructor called with unsupported type 'dict' for the `values` parameter",
     "output_type": "error",
     "traceback": [
      "\u001b[31m---------------------------------------------------------------------------\u001b[39m",
      "\u001b[31mTypeError\u001b[39m                                 Traceback (most recent call last)",
      "\u001b[36mCell\u001b[39m\u001b[36m \u001b[39m\u001b[32mIn[3]\u001b[39m\u001b[32m, line 2\u001b[39m\n\u001b[32m      1\u001b[39m \u001b[38;5;66;03m# Create a Series from a dictionary\u001b[39;00m\n\u001b[32m----> \u001b[39m\u001b[32m2\u001b[39m s_dict = \u001b[43mpl\u001b[49m\u001b[43m.\u001b[49m\u001b[43mSeries\u001b[49m\u001b[43m(\u001b[49m\u001b[33;43m\"\u001b[39;49m\u001b[33;43mmy_series\u001b[39;49m\u001b[33;43m\"\u001b[39;49m\u001b[43m,\u001b[49m\u001b[43m \u001b[49m\u001b[43m{\u001b[49m\u001b[33;43m\"\u001b[39;49m\u001b[33;43ma\u001b[39;49m\u001b[33;43m\"\u001b[39;49m\u001b[43m:\u001b[49m\u001b[43m \u001b[49m\u001b[32;43m1\u001b[39;49m\u001b[43m,\u001b[49m\u001b[43m \u001b[49m\u001b[33;43m\"\u001b[39;49m\u001b[33;43mb\u001b[39;49m\u001b[33;43m\"\u001b[39;49m\u001b[43m:\u001b[49m\u001b[43m \u001b[49m\u001b[32;43m2\u001b[39;49m\u001b[43m,\u001b[49m\u001b[43m \u001b[49m\u001b[33;43m\"\u001b[39;49m\u001b[33;43mc\u001b[39;49m\u001b[33;43m\"\u001b[39;49m\u001b[43m:\u001b[49m\u001b[43m \u001b[49m\u001b[32;43m3\u001b[39;49m\u001b[43m}\u001b[49m\u001b[43m)\u001b[49m\n\u001b[32m      4\u001b[39m \u001b[38;5;28mprint\u001b[39m(s_dict)\n",
      "\u001b[36mFile \u001b[39m\u001b[32m~\\AppData\\Roaming\\Python\\Python311\\site-packages\\polars\\series\\series.py:374\u001b[39m, in \u001b[36mSeries.__init__\u001b[39m\u001b[34m(self, name, values, dtype, strict, nan_to_null)\u001b[39m\n\u001b[32m    369\u001b[39m \u001b[38;5;28;01melse\u001b[39;00m:\n\u001b[32m    370\u001b[39m     msg = (\n\u001b[32m    371\u001b[39m         \u001b[33mf\u001b[39m\u001b[33m\"\u001b[39m\u001b[33mSeries constructor called with unsupported type \u001b[39m\u001b[38;5;132;01m{\u001b[39;00m\u001b[38;5;28mtype\u001b[39m(values).\u001b[34m__name__\u001b[39m\u001b[38;5;132;01m!r}\u001b[39;00m\u001b[33m\"\u001b[39m\n\u001b[32m    372\u001b[39m         \u001b[33m\"\u001b[39m\u001b[33m for the `values` parameter\u001b[39m\u001b[33m\"\u001b[39m\n\u001b[32m    373\u001b[39m     )\n\u001b[32m--> \u001b[39m\u001b[32m374\u001b[39m     \u001b[38;5;28;01mraise\u001b[39;00m \u001b[38;5;167;01mTypeError\u001b[39;00m(msg)\n",
      "\u001b[31mTypeError\u001b[39m: Series constructor called with unsupported type 'dict' for the `values` parameter"
     ]
    }
   ],
   "source": [
    "# Create a Series from a dictionary\n",
    "s_dict = pl.Series(\"my_series\", {\"a\": 1, \"b\": 2, \"c\": 3})\n",
    "\n",
    "print(s_dict)\n"
   ]
  },
  {
   "cell_type": "code",
   "execution_count": 5,
   "id": "40967d1f",
   "metadata": {},
   "outputs": [
    {
     "name": "stdout",
     "output_type": "stream",
     "text": [
      "name my_series\n",
      "Int64\n",
      "(5,)\n",
      "5\n",
      "False\n",
      "0\n",
      "shape: (4,)\n",
      "Series: 'my_series' [i64]\n",
      "[\n",
      "\t1\n",
      "\t2\n",
      "\t4\n",
      "\t5\n",
      "]\n"
     ]
    }
   ],
   "source": [
    "s = pl.Series(\"my_series\", [1, 2, 2, 4, 5])\n",
    "\n",
    "# Attributes\n",
    "print(\"name\", s.name)        # Output: my_series\n",
    "print(s.dtype)       # Output: Int64\n",
    "print(s.shape)       # Output: (5,)\n",
    "print(len(s))        # Output: 5\n",
    "print(s.is_empty())  # Output: False\n",
    "print(s.null_count()) # Output: 0\n",
    "print(s.unique())    # Output: Series: 'my_series' [i64] [1, 2, 4, 5]\n"
   ]
  },
  {
   "cell_type": "code",
   "execution_count": 6,
   "id": "5215b162",
   "metadata": {},
   "outputs": [
    {
     "name": "stdout",
     "output_type": "stream",
     "text": [
      "shape: (5,)\n",
      "Series: 'my_series' [i64]\n",
      "[\n",
      "\t11\n",
      "\t12\n",
      "\t13\n",
      "\t14\n",
      "\t15\n",
      "]\n",
      "shape: (5,)\n",
      "Series: 'my_series' [i64]\n",
      "[\n",
      "\t2\n",
      "\t4\n",
      "\t6\n",
      "\t8\n",
      "\t10\n",
      "]\n"
     ]
    }
   ],
   "source": [
    "# Mathematical operations\n",
    "s = pl.Series(\"my_series\", [1, 2, 3, 4, 5])\n",
    "\n",
    "# Addition\n",
    "s_add = s + 10\n",
    "\n",
    "# Multiplication\n",
    "s_mul = s * 2\n",
    "\n",
    "print(s_add)  # Output: Series: 'my_series' [i64] [11, 12, 13, 14, 15]\n",
    "print(s_mul)  # Output: Series: 'my_series' [i64] [2, 4, 6, 8, 10]\n"
   ]
  },
  {
   "cell_type": "code",
   "execution_count": 7,
   "id": "e8245ae0",
   "metadata": {},
   "outputs": [
    {
     "name": "stdout",
     "output_type": "stream",
     "text": [
      "15\n",
      "3.0\n",
      "1\n",
      "5\n"
     ]
    }
   ],
   "source": [
    "# Aggregation methods\n",
    "print(s.sum())   # Output: 15\n",
    "print(s.mean())  # Output: 3.0\n",
    "print(s.min())   # Output: 1\n",
    "print(s.max())   # Output: 5\n"
   ]
  },
  {
   "cell_type": "code",
   "execution_count": 8,
   "id": "9a4873a8",
   "metadata": {},
   "outputs": [
    {
     "ename": "AttributeError",
     "evalue": "'StringNameSpace' object has no attribute 'upper'",
     "output_type": "error",
     "traceback": [
      "\u001b[31m---------------------------------------------------------------------------\u001b[39m",
      "\u001b[31mAttributeError\u001b[39m                            Traceback (most recent call last)",
      "\u001b[36mCell\u001b[39m\u001b[36m \u001b[39m\u001b[32mIn[8]\u001b[39m\u001b[32m, line 5\u001b[39m\n\u001b[32m      2\u001b[39m s_str = pl.Series(\u001b[33m\"\u001b[39m\u001b[33mnames\u001b[39m\u001b[33m\"\u001b[39m, [\u001b[33m\"\u001b[39m\u001b[33mAlice\u001b[39m\u001b[33m\"\u001b[39m, \u001b[33m\"\u001b[39m\u001b[33mBob\u001b[39m\u001b[33m\"\u001b[39m, \u001b[33m\"\u001b[39m\u001b[33mCharlie\u001b[39m\u001b[33m\"\u001b[39m, \u001b[33m\"\u001b[39m\u001b[33mDavid\u001b[39m\u001b[33m\"\u001b[39m])\n\u001b[32m      4\u001b[39m \u001b[38;5;66;03m# String operations\u001b[39;00m\n\u001b[32m----> \u001b[39m\u001b[32m5\u001b[39m \u001b[38;5;28mprint\u001b[39m(\u001b[43ms_str\u001b[49m\u001b[43m.\u001b[49m\u001b[43mstr\u001b[49m\u001b[43m.\u001b[49m\u001b[43mupper\u001b[49m())  \u001b[38;5;66;03m# Converts all names to uppercase\u001b[39;00m\n\u001b[32m      6\u001b[39m \u001b[38;5;66;03m# Output: Series: 'names' [str] ['ALICE', 'BOB', 'CHARLIE', 'DAVID']\u001b[39;00m\n",
      "\u001b[31mAttributeError\u001b[39m: 'StringNameSpace' object has no attribute 'upper'"
     ]
    }
   ],
   "source": [
    "# Create a Series of strings\n",
    "s_str = pl.Series(\"names\", [\"Alice\", \"Bob\", \"Charlie\", \"David\"])\n",
    "\n",
    "# String operations\n",
    "print(s_str.str.upper())  # Converts all names to uppercase\n",
    "# Output: Series: 'names' [str] ['ALICE', 'BOB', 'CHARLIE', 'DAVID']\n"
   ]
  },
  {
   "cell_type": "code",
   "execution_count": 9,
   "id": "399e63c2",
   "metadata": {},
   "outputs": [
    {
     "ename": "AttributeError",
     "evalue": "'Series' object has no attribute 'fill_none'",
     "output_type": "error",
     "traceback": [
      "\u001b[31m---------------------------------------------------------------------------\u001b[39m",
      "\u001b[31mAttributeError\u001b[39m                            Traceback (most recent call last)",
      "\u001b[36mCell\u001b[39m\u001b[36m \u001b[39m\u001b[32mIn[9]\u001b[39m\u001b[32m, line 5\u001b[39m\n\u001b[32m      2\u001b[39m s_null = pl.Series(\u001b[33m\"\u001b[39m\u001b[33mvalues\u001b[39m\u001b[33m\"\u001b[39m, [\u001b[32m1\u001b[39m, \u001b[38;5;28;01mNone\u001b[39;00m, \u001b[32m3\u001b[39m, \u001b[38;5;28;01mNone\u001b[39;00m, \u001b[32m5\u001b[39m])\n\u001b[32m      4\u001b[39m \u001b[38;5;66;03m# Fill None values with a specified value\u001b[39;00m\n\u001b[32m----> \u001b[39m\u001b[32m5\u001b[39m s_filled = \u001b[43ms_null\u001b[49m\u001b[43m.\u001b[49m\u001b[43mfill_none\u001b[49m(\u001b[32m0\u001b[39m)\n\u001b[32m      7\u001b[39m \u001b[38;5;66;03m# Check for nulls\u001b[39;00m\n\u001b[32m      8\u001b[39m \u001b[38;5;28mprint\u001b[39m(s_null.is_null())  \u001b[38;5;66;03m# Output: Series: 'values' [bool] [False, True, False, True, False]\u001b[39;00m\n",
      "\u001b[31mAttributeError\u001b[39m: 'Series' object has no attribute 'fill_none'"
     ]
    }
   ],
   "source": [
    "# Create a Series with null values\n",
    "s_null = pl.Series(\"values\", [1, None, 3, None, 5])\n",
    "\n",
    "# Fill None values with a specified value\n",
    "s_filled = s_null.fill_none(0)\n",
    "\n",
    "# Check for nulls\n",
    "print(s_null.is_null())  # Output: Series: 'values' [bool] [False, True, False, True, False]\n",
    "print(s_filled)  # Output: Series: 'values' [i64] [1, 0, 3, 0, 5]\n"
   ]
  },
  {
   "cell_type": "code",
   "execution_count": 10,
   "id": "a93486e3",
   "metadata": {},
   "outputs": [
    {
     "ename": "AttributeError",
     "evalue": "'Series' object has no attribute 'apply'",
     "output_type": "error",
     "traceback": [
      "\u001b[31m---------------------------------------------------------------------------\u001b[39m",
      "\u001b[31mAttributeError\u001b[39m                            Traceback (most recent call last)",
      "\u001b[36mCell\u001b[39m\u001b[36m \u001b[39m\u001b[32mIn[10]\u001b[39m\u001b[32m, line 2\u001b[39m\n\u001b[32m      1\u001b[39m \u001b[38;5;66;03m# Apply a custom function to the Series\u001b[39;00m\n\u001b[32m----> \u001b[39m\u001b[32m2\u001b[39m s_custom = \u001b[43ms\u001b[49m\u001b[43m.\u001b[49m\u001b[43mapply\u001b[49m(\u001b[38;5;28;01mlambda\u001b[39;00m x: x ** \u001b[32m2\u001b[39m)\n\u001b[32m      4\u001b[39m \u001b[38;5;28mprint\u001b[39m(s_custom)  \u001b[38;5;66;03m# Output: Series: 'my_series' [i64] [1, 4, 9, 16, 25]\u001b[39;00m\n",
      "\u001b[31mAttributeError\u001b[39m: 'Series' object has no attribute 'apply'"
     ]
    }
   ],
   "source": [
    "# Apply a custom function to the Series\n",
    "s_custom = s.apply(lambda x: x ** 2)\n",
    "\n",
    "print(s_custom)  # Output: Series: 'my_series' [i64] [1, 4, 9, 16, 25]\n"
   ]
  },
  {
   "cell_type": "code",
   "execution_count": 11,
   "id": "23684e61",
   "metadata": {},
   "outputs": [
    {
     "name": "stdout",
     "output_type": "stream",
     "text": [
      "shape: (5,)\n",
      "Series: 'my_series' [i64]\n",
      "[\n",
      "\t1\n",
      "\t2\n",
      "\t3\n",
      "\t4\n",
      "\t5\n",
      "]\n",
      "shape: (5,)\n",
      "Series: 'my_series' [i64]\n",
      "[\n",
      "\t5\n",
      "\t4\n",
      "\t3\n",
      "\t2\n",
      "\t1\n",
      "]\n",
      "shape: (5,)\n",
      "Series: 'my_series' [f64]\n",
      "[\n",
      "\t1.0\n",
      "\t2.0\n",
      "\t3.0\n",
      "\t4.0\n",
      "\t5.0\n",
      "]\n"
     ]
    }
   ],
   "source": [
    "# Sorting\n",
    "sorted_s = s.sort()\n",
    "\n",
    "# Reverse\n",
    "reversed_s = s.reverse()\n",
    "\n",
    "# Cast to a different type (e.g., float)\n",
    "s_float = s.cast(pl.Float64)\n",
    "\n",
    "# Convert to Pandas\n",
    "pandas_series = s.to_pandas()\n",
    "\n",
    "print(sorted_s)  # Output: Series: 'my_series' [i64] [1, 2, 3, 4, 5]\n",
    "print(reversed_s)  # Output: Series: 'my_series' [i64] [5, 4, 3, 2, 1]\n",
    "print(s_float)  # Output: Series: 'my_series' [f64] [1.0, 2.0, 3.0, 4.0, 5.0]\n"
   ]
  },
  {
   "cell_type": "markdown",
   "id": "021f9d0f",
   "metadata": {},
   "source": [
    "## Polars Series\n",
    "## Importing Polars\n",
    "\n",
    "# Creating Series Method\n",
    "Series from lists\n",
    "series from dict\n",
    "series attributes\n",
    "series using csv & json\n",
    "\n",
    "# Series Methods\n",
    "head() & tail()\n",
    "sample()\n",
    "value_count()\n",
    "sort_index()\n",
    "sort_values()\n",
    "\n",
    "# series math methods\n",
    "count()\n",
    "product() & sum*()\n",
    "mean/meadian/mode/std/var\n",
    "describe()\n",
    "\n",
    "# Series Indexing & Slicing\n",
    "Normal Indexing\n",
    "Negative Indexing\n",
    "Slicing\n",
    "Fancy Indexing\n",
    "Editing Series\n",
    "Copy & Views\n",
    "\n",
    "\n",
    "# Series with Python Functionalities \n",
    "len/type/dir/storted\n",
    "membership operator\n",
    "looping\n",
    "broadcasting\n",
    "relational\n",
    "bollean indexing on series\n",
    "Ploting graphs on Series\n",
    "\n",
    "# Important Series Methods\n",
    "Astype\n",
    "between\n",
    "clip()\n",
    "drop_duplicates()\n",
    "duplicated()\n",
    "count()\n",
    "isnull()\n",
    "fillna()\n",
    "isin()\n",
    "apply & lambda\n",
    "copy\n"
   ]
  }
 ],
 "metadata": {
  "kernelspec": {
   "display_name": "Python 3",
   "language": "python",
   "name": "python3"
  },
  "language_info": {
   "codemirror_mode": {
    "name": "ipython",
    "version": 3
   },
   "file_extension": ".py",
   "mimetype": "text/x-python",
   "name": "python",
   "nbconvert_exporter": "python",
   "pygments_lexer": "ipython3",
   "version": "3.11.9"
  }
 },
 "nbformat": 4,
 "nbformat_minor": 5
}
