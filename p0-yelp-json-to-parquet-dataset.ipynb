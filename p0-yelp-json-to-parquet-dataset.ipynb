{
 "cells": [
  {
   "cell_type": "code",
   "execution_count": 1,
   "id": "cf66ea3d",
   "metadata": {},
   "outputs": [],
   "source": [
    "import pandas as pd"
   ]
  },
  {
   "cell_type": "code",
   "execution_count": 2,
   "id": "39b3f76f",
   "metadata": {},
   "outputs": [],
   "source": [
    "df = pd.read_csv(r\"C:\\Users\\Rudra\\Desktop\\yelp\\data\\business.csv\")\n",
    "\n",
    "df.to_parquet(r\"C:\\Users\\Rudra\\Desktop\\yelp\\parquet-data\\business.parquet \", index=False)"
   ]
  },
  {
   "cell_type": "code",
   "execution_count": 2,
   "id": "ed47b56a",
   "metadata": {},
   "outputs": [],
   "source": [
    "df = pd.read_csv(r\"C:\\Users\\Rudra\\Desktop\\yelp\\data\\checkin.csv\")\n",
    "\n",
    "df.to_parquet(r\"C:\\Users\\Rudra\\Desktop\\yelp\\parquet-data\\checkin.parquet \", index=False)"
   ]
  },
  {
   "cell_type": "code",
   "execution_count": 3,
   "id": "2acb4715",
   "metadata": {},
   "outputs": [],
   "source": [
    "df = pd.read_csv(r\"C:\\Users\\Rudra\\Desktop\\yelp\\data\\review.csv\")\n",
    "\n",
    "df.to_parquet(r\"C:\\Users\\Rudra\\Desktop\\yelp\\parquet-data\\review.parquet \", index=False)"
   ]
  },
  {
   "cell_type": "code",
   "execution_count": 4,
   "id": "5199cc41",
   "metadata": {},
   "outputs": [],
   "source": [
    "df = pd.read_csv(r\"C:\\Users\\Rudra\\Desktop\\yelp\\data\\tip.csv\")\n",
    "\n",
    "df.to_parquet(r\"C:\\Users\\Rudra\\Desktop\\yelp\\parquet-data\\tip.parquet \", index=False)"
   ]
  },
  {
   "cell_type": "code",
   "execution_count": 5,
   "id": "90cff8f6",
   "metadata": {},
   "outputs": [
    {
     "name": "stderr",
     "output_type": "stream",
     "text": [
      "C:\\Users\\Rudra\\AppData\\Local\\Temp\\ipykernel_25096\\2501685908.py:1: DtypeWarning: Columns (8) have mixed types. Specify dtype option on import or set low_memory=False.\n",
      "  df = pd.read_csv(r\"C:\\Users\\Rudra\\Desktop\\yelp\\data\\yelp_user.csv\")\n"
     ]
    }
   ],
   "source": [
    "df = pd.read_csv(r\"C:\\Users\\Rudra\\Desktop\\yelp\\data\\yelp_user.csv\")\n",
    "\n",
    "df.to_parquet(r\"C:\\Users\\Rudra\\Desktop\\yelp\\parquet-data\\yelp_user.parquet \", index=False)"
   ]
  },
  {
   "cell_type": "code",
   "execution_count": null,
   "id": "4e8bc511",
   "metadata": {},
   "outputs": [
    {
     "data": {
      "text/plain": [
       "'friends'"
      ]
     },
     "execution_count": 6,
     "metadata": {},
     "output_type": "execute_result"
    }
   ],
   "source": [
    "df.columns[8]"
   ]
  },
  {
   "cell_type": "code",
   "execution_count": null,
   "id": "d7d64280",
   "metadata": {},
   "outputs": [],
   "source": []
  }
 ],
 "metadata": {
  "kernelspec": {
   "display_name": "Python 3",
   "language": "python",
   "name": "python3"
  },
  "language_info": {
   "codemirror_mode": {
    "name": "ipython",
    "version": 3
   },
   "file_extension": ".py",
   "mimetype": "text/x-python",
   "name": "python",
   "nbconvert_exporter": "python",
   "pygments_lexer": "ipython3",
   "version": "3.11.9"
  }
 },
 "nbformat": 4,
 "nbformat_minor": 5
}
