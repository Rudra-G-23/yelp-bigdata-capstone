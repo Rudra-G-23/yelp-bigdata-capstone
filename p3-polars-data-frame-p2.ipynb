{
 "cells": [
  {
   "cell_type": "code",
   "execution_count": null,
   "id": "9a891906",
   "metadata": {},
   "outputs": [],
   "source": [
    "#!pip install polars -q"
   ]
  },
  {
   "cell_type": "code",
   "execution_count": 1,
   "id": "ee832e7f",
   "metadata": {},
   "outputs": [],
   "source": [
    "import polars as pl\n",
    "from warnings import filterwarnings\n",
    "\n",
    "filterwarnings('ignore')"
   ]
  },
  {
   "cell_type": "markdown",
   "id": "c3f4e935",
   "metadata": {},
   "source": [
    "# <strong style=\"color:#5e17eb\">I. Data Frame  </strong>\n"
   ]
  },
  {
   "cell_type": "markdown",
   "id": "66eef1c1",
   "metadata": {},
   "source": [
    "<strong style=\"color:#5e17eb\"> Parquet </strong>"
   ]
  },
  {
   "cell_type": "code",
   "execution_count": null,
   "id": "62f2034e",
   "metadata": {},
   "outputs": [],
   "source": [
    "# df.write_parquet(r\"C:\\Users\\Rudra\\Desktop\\yelp\\parquet-data\\business.parquet\")"
   ]
  },
  {
   "cell_type": "code",
   "execution_count": 4,
   "id": "07b0fdc0",
   "metadata": {},
   "outputs": [],
   "source": [
    "df = pl.DataFrame()\n",
    "df = pl.read_parquet(r\"C:\\Users\\Rudra\\Desktop\\yelp\\parquet-data\\business.parquet\")"
   ]
  },
  {
   "cell_type": "code",
   "execution_count": 3,
   "id": "60654808",
   "metadata": {},
   "outputs": [
    {
     "data": {
      "text/html": [
       "<div><style>\n",
       ".dataframe > thead > tr,\n",
       ".dataframe > tbody > tr {\n",
       "  text-align: right;\n",
       "  white-space: pre-wrap;\n",
       "}\n",
       "</style>\n",
       "<small>shape: (1, 14)</small><table border=\"1\" class=\"dataframe\"><thead><tr><th>business_id</th><th>name</th><th>address</th><th>city</th><th>state</th><th>postal_code</th><th>latitude</th><th>longitude</th><th>stars</th><th>review_count</th><th>is_open</th><th>attributes</th><th>categories</th><th>hours</th></tr><tr><td>str</td><td>str</td><td>str</td><td>str</td><td>str</td><td>str</td><td>f64</td><td>f64</td><td>f64</td><td>i64</td><td>i64</td><td>str</td><td>str</td><td>str</td></tr></thead><tbody><tr><td>&quot;nyq0Z7rAx3kiD-HxEY4Oeg&quot;</td><td>&quot;Salty Dog&quot;</td><td>&quot;8502 Manchester Rd&quot;</td><td>&quot;Saint Louis&quot;</td><td>&quot;MO&quot;</td><td>&quot;63144&quot;</td><td>38.612232</td><td>-90.342895</td><td>3.5</td><td>5</td><td>0</td><td>null</td><td>&quot;Pets, Pet Services, Pet Sittin…</td><td>null</td></tr></tbody></table></div>"
      ],
      "text/plain": [
       "shape: (1, 14)\n",
       "┌──────────────┬───────────┬──────────────┬───────┬───┬─────────┬────────────┬─────────────┬───────┐\n",
       "│ business_id  ┆ name      ┆ address      ┆ city  ┆ … ┆ is_open ┆ attributes ┆ categories  ┆ hours │\n",
       "│ ---          ┆ ---       ┆ ---          ┆ ---   ┆   ┆ ---     ┆ ---        ┆ ---         ┆ ---   │\n",
       "│ str          ┆ str       ┆ str          ┆ str   ┆   ┆ i64     ┆ str        ┆ str         ┆ str   │\n",
       "╞══════════════╪═══════════╪══════════════╪═══════╪═══╪═════════╪════════════╪═════════════╪═══════╡\n",
       "│ nyq0Z7rAx3ki ┆ Salty Dog ┆ 8502         ┆ Saint ┆ … ┆ 0       ┆ null       ┆ Pets, Pet   ┆ null  │\n",
       "│ D-HxEY4Oeg   ┆           ┆ Manchester   ┆ Louis ┆   ┆         ┆            ┆ Services,   ┆       │\n",
       "│              ┆           ┆ Rd           ┆       ┆   ┆         ┆            ┆ Pet Sittin… ┆       │\n",
       "└──────────────┴───────────┴──────────────┴───────┴───┴─────────┴────────────┴─────────────┴───────┘"
      ]
     },
     "execution_count": 3,
     "metadata": {},
     "output_type": "execute_result"
    }
   ],
   "source": [
    "df.sample()"
   ]
  },
  {
   "cell_type": "code",
   "execution_count": null,
   "id": "b6b6ae91",
   "metadata": {},
   "outputs": [],
   "source": [
    "dff = df.clone()"
   ]
  },
  {
   "cell_type": "markdown",
   "id": "c0865de5",
   "metadata": {},
   "source": [
    "#  <strong style=\"color:#5e17eb\">  II. DataFrame Attributes & Methods</strong>\n"
   ]
  },
  {
   "cell_type": "markdown",
   "id": "ff650938",
   "metadata": {},
   "source": [
    "## <strong style=\"color:#5e17eb\"> is_duplicated() </strong>\n"
   ]
  },
  {
   "cell_type": "code",
   "execution_count": 40,
   "id": "4ee35cdb",
   "metadata": {},
   "outputs": [
    {
     "data": {
      "text/html": [
       "<div><style>\n",
       ".dataframe > thead > tr,\n",
       ".dataframe > tbody > tr {\n",
       "  text-align: right;\n",
       "  white-space: pre-wrap;\n",
       "}\n",
       "</style>\n",
       "<small>shape: (0, 14)</small><table border=\"1\" class=\"dataframe\"><thead><tr><th>business_id</th><th>name</th><th>address</th><th>city</th><th>state</th><th>postal_code</th><th>latitude</th><th>longitude</th><th>stars</th><th>review_count</th><th>is_open</th><th>attributes</th><th>categories</th><th>hours</th></tr><tr><td>str</td><td>str</td><td>str</td><td>str</td><td>str</td><td>str</td><td>f64</td><td>f64</td><td>f64</td><td>i64</td><td>i64</td><td>str</td><td>str</td><td>str</td></tr></thead><tbody></tbody></table></div>"
      ],
      "text/plain": [
       "shape: (0, 14)\n",
       "┌─────────────┬──────┬─────────┬──────┬───┬─────────┬────────────┬────────────┬───────┐\n",
       "│ business_id ┆ name ┆ address ┆ city ┆ … ┆ is_open ┆ attributes ┆ categories ┆ hours │\n",
       "│ ---         ┆ ---  ┆ ---     ┆ ---  ┆   ┆ ---     ┆ ---        ┆ ---        ┆ ---   │\n",
       "│ str         ┆ str  ┆ str     ┆ str  ┆   ┆ i64     ┆ str        ┆ str        ┆ str   │\n",
       "╞═════════════╪══════╪═════════╪══════╪═══╪═════════╪════════════╪════════════╪═══════╡\n",
       "└─────────────┴──────┴─────────┴──────┴───┴─────────┴────────────┴────────────┴───────┘"
      ]
     },
     "execution_count": 40,
     "metadata": {},
     "output_type": "execute_result"
    }
   ],
   "source": [
    "# df[df.is_duplicated()] this is the pandas style\n",
    "df.filter(df.is_duplicated())"
   ]
  },
  {
   "cell_type": "markdown",
   "id": "d192912d",
   "metadata": {},
   "source": [
    "## <strong style=\"color:#5e17eb\"> is_empty() </strong>\n"
   ]
  },
  {
   "cell_type": "code",
   "execution_count": 42,
   "id": "217be430",
   "metadata": {},
   "outputs": [
    {
     "data": {
      "text/plain": [
       "False"
      ]
     },
     "execution_count": 42,
     "metadata": {},
     "output_type": "execute_result"
    }
   ],
   "source": [
    "df.is_empty()"
   ]
  },
  {
   "cell_type": "markdown",
   "id": "4511e8ef",
   "metadata": {},
   "source": [
    "## <strong style=\"color:#5e17eb\"> extend() </strong>\n",
    "- When the we merge to data quickly"
   ]
  },
  {
   "cell_type": "code",
   "execution_count": null,
   "id": "24c183b3",
   "metadata": {},
   "outputs": [],
   "source": [
    "# df.extend(other_df)"
   ]
  },
  {
   "cell_type": "markdown",
   "id": "519e03c1",
   "metadata": {},
   "source": [
    "## <strong style=\"color:#5e17eb\">  explode() </strong>\n"
   ]
  },
  {
   "cell_type": "markdown",
   "id": "6afe3e0f",
   "metadata": {},
   "source": [
    "- What: Turns list-like column into multiple rows.\n",
    "\n",
    "- Modifies Original?  No (returns new df).\n",
    "\n",
    "- Why: To flatten nested lists."
   ]
  },
  {
   "cell_type": "code",
   "execution_count": 55,
   "id": "10616d48",
   "metadata": {},
   "outputs": [
    {
     "data": {
      "text/html": [
       "<div><style>\n",
       ".dataframe > thead > tr,\n",
       ".dataframe > tbody > tr {\n",
       "  text-align: right;\n",
       "  white-space: pre-wrap;\n",
       "}\n",
       "</style>\n",
       "<small>shape: (3, 1)</small><table border=\"1\" class=\"dataframe\"><thead><tr><th>a</th></tr><tr><td>i64</td></tr></thead><tbody><tr><td>1</td></tr><tr><td>2</td></tr><tr><td>3</td></tr></tbody></table></div>"
      ],
      "text/plain": [
       "shape: (3, 1)\n",
       "┌─────┐\n",
       "│ a   │\n",
       "│ --- │\n",
       "│ i64 │\n",
       "╞═════╡\n",
       "│ 1   │\n",
       "│ 2   │\n",
       "│ 3   │\n",
       "└─────┘"
      ]
     },
     "execution_count": 55,
     "metadata": {},
     "output_type": "execute_result"
    }
   ],
   "source": [
    "pl.DataFrame({\"a\": [[1, 2], [3]]}).explode(\"a\")\n",
    "# Output: 1 row → 2 rows"
   ]
  },
  {
   "cell_type": "markdown",
   "id": "38d5ae41",
   "metadata": {},
   "source": [
    "## <strong style=\"color:#5e17eb\"> cast() </strong>\n"
   ]
  },
  {
   "cell_type": "code",
   "execution_count": 63,
   "id": "ea4af20a",
   "metadata": {},
   "outputs": [
    {
     "data": {
      "text/plain": [
       "Schema([('business_id', String),\n",
       "        ('name', String),\n",
       "        ('address', String),\n",
       "        ('city', String),\n",
       "        ('state', String),\n",
       "        ('postal_code', String),\n",
       "        ('latitude', Float64),\n",
       "        ('longitude', Float64),\n",
       "        ('stars', Float64),\n",
       "        ('review_count', Int64),\n",
       "        ('is_open', Int64),\n",
       "        ('attributes', String),\n",
       "        ('categories', String),\n",
       "        ('hours', String)])"
      ]
     },
     "execution_count": 63,
     "metadata": {},
     "output_type": "execute_result"
    }
   ],
   "source": [
    "df.schema"
   ]
  },
  {
   "cell_type": "code",
   "execution_count": 67,
   "id": "f24047e4",
   "metadata": {},
   "outputs": [
    {
     "data": {
      "text/plain": [
       "Schema([('business_id', String),\n",
       "        ('name', String),\n",
       "        ('address', String),\n",
       "        ('city', String),\n",
       "        ('state', String),\n",
       "        ('postal_code', String),\n",
       "        ('latitude', Float64),\n",
       "        ('longitude', Float64),\n",
       "        ('stars', Float32),\n",
       "        ('review_count', Int64),\n",
       "        ('is_open', Int64),\n",
       "        ('attributes', String),\n",
       "        ('categories', String),\n",
       "        ('hours', String)])"
      ]
     },
     "execution_count": 67,
     "metadata": {},
     "output_type": "execute_result"
    }
   ],
   "source": [
    "df.with_columns(\n",
    "    pl.col(\"stars\").cast(pl.Float32)\n",
    ").schema"
   ]
  },
  {
   "cell_type": "markdown",
   "id": "94c71b7a",
   "metadata": {},
   "source": [
    "## <strong style=\"color:#5e17eb\">  approx_n_unique()</strong>\n"
   ]
  },
  {
   "cell_type": "code",
   "execution_count": null,
   "id": "70405580",
   "metadata": {},
   "outputs": [],
   "source": [
    "df.select(pl.all().approx_n_unique()).collect()"
   ]
  },
  {
   "cell_type": "code",
   "execution_count": 68,
   "id": "2204f061",
   "metadata": {},
   "outputs": [
    {
     "data": {
      "text/html": [
       "<div><style>\n",
       ".dataframe > thead > tr,\n",
       ".dataframe > tbody > tr {\n",
       "  text-align: right;\n",
       "  white-space: pre-wrap;\n",
       "}\n",
       "</style>\n",
       "<small>shape: (1, 14)</small><table border=\"1\" class=\"dataframe\"><thead><tr><th>business_id</th><th>name</th><th>address</th><th>city</th><th>state</th><th>postal_code</th><th>latitude</th><th>longitude</th><th>stars</th><th>review_count</th><th>is_open</th><th>attributes</th><th>categories</th><th>hours</th></tr><tr><td>u32</td><td>u32</td><td>u32</td><td>u32</td><td>u32</td><td>u32</td><td>u32</td><td>u32</td><td>u32</td><td>u32</td><td>u32</td><td>u32</td><td>u32</td><td>u32</td></tr></thead><tbody><tr><td>149577</td><td>114011</td><td>120883</td><td>1395</td><td>27</td><td>3330</td><td>135521</td><td>131885</td><td>9</td><td>1160</td><td>2</td><td>87437</td><td>82225</td><td>49324</td></tr></tbody></table></div>"
      ],
      "text/plain": [
       "shape: (1, 14)\n",
       "┌─────────────┬────────┬─────────┬──────┬───┬─────────┬────────────┬────────────┬───────┐\n",
       "│ business_id ┆ name   ┆ address ┆ city ┆ … ┆ is_open ┆ attributes ┆ categories ┆ hours │\n",
       "│ ---         ┆ ---    ┆ ---     ┆ ---  ┆   ┆ ---     ┆ ---        ┆ ---        ┆ ---   │\n",
       "│ u32         ┆ u32    ┆ u32     ┆ u32  ┆   ┆ u32     ┆ u32        ┆ u32        ┆ u32   │\n",
       "╞═════════════╪════════╪═════════╪══════╪═══╪═════════╪════════════╪════════════╪═══════╡\n",
       "│ 149577      ┆ 114011 ┆ 120883  ┆ 1395 ┆ … ┆ 2       ┆ 87437      ┆ 82225      ┆ 49324 │\n",
       "└─────────────┴────────┴─────────┴──────┴───┴─────────┴────────────┴────────────┴───────┘"
      ]
     },
     "execution_count": 68,
     "metadata": {},
     "output_type": "execute_result"
    }
   ],
   "source": [
    "df.approx_n_unique()\n"
   ]
  },
  {
   "cell_type": "markdown",
   "id": "f3c2e76b",
   "metadata": {},
   "source": [
    "## <strong style=\"color:#5e17eb\">  fill_nan() & fill_null()</strong>\n",
    "\n",
    "| Function      | Fills | Type Targeted | Example Use                    |\n",
    "| ------------- | ----- | ------------- | ------------------------------ |\n",
    "| `fill_nan()`  | NaN   | Only float    | Replace invalid floats         |\n",
    "| `fill_null()` | null  | Any dtype     | Replace `None`, missing values |\n"
   ]
  },
  {
   "cell_type": "markdown",
   "id": "894291ec",
   "metadata": {},
   "source": [
    "| Property | `null`               | `NaN`                    |\n",
    "| -------- | -------------------- | ------------------------ |\n",
    "| Type     | Missing value        | Invalid float (IEEE 754) |\n",
    "| Dtypes   | Any (int, str, etc.) | Only floats              |\n",
    "| Meaning  | “No value at all”    | “Not a number”           |\n"
   ]
  },
  {
   "cell_type": "markdown",
   "id": "301a578f",
   "metadata": {},
   "source": [
    "## <strong style=\"color:#5e17eb\"> height() & weight() </strong>\n",
    "- Number of rows"
   ]
  },
  {
   "cell_type": "code",
   "execution_count": 69,
   "id": "d71ec3d7",
   "metadata": {},
   "outputs": [
    {
     "name": "stdout",
     "output_type": "stream",
     "text": [
      "150346\n"
     ]
    }
   ],
   "source": [
    "print(df.height)  # Same as df.shape[0]\n"
   ]
  },
  {
   "cell_type": "code",
   "execution_count": null,
   "id": "6db43573",
   "metadata": {},
   "outputs": [],
   "source": [
    "print(df.width)"
   ]
  },
  {
   "cell_type": "markdown",
   "id": "dacfd2fc",
   "metadata": {},
   "source": [
    "## <strong style=\"color:#5e17eb\"> interpolate()  </strong>"
   ]
  },
  {
   "cell_type": "markdown",
   "id": "f5aa0881",
   "metadata": {},
   "source": [
    "- What: Fill missing numeric values linearly.\n",
    "\n",
    "- Why: For time-series or ordered data gaps."
   ]
  },
  {
   "cell_type": "markdown",
   "id": "1d7ab283",
   "metadata": {},
   "source": [
    "## <strong style=\"color:#5e17eb\"> hash_rows() </strong>\n"
   ]
  },
  {
   "cell_type": "markdown",
   "id": "82944f9b",
   "metadata": {},
   "source": [
    "- What: Create hash values for each row (like fingerprints).\n",
    "\n",
    "- Why: Fast comparisons, joins, deduplication."
   ]
  },
  {
   "cell_type": "code",
   "execution_count": 71,
   "id": "bf11511a",
   "metadata": {},
   "outputs": [
    {
     "data": {
      "text/html": [
       "<div><style>\n",
       ".dataframe > thead > tr,\n",
       ".dataframe > tbody > tr {\n",
       "  text-align: right;\n",
       "  white-space: pre-wrap;\n",
       "}\n",
       "</style>\n",
       "<small>shape: (150_346,)</small><table border=\"1\" class=\"dataframe\"><thead><tr><th></th></tr><tr><td>u64</td></tr></thead><tbody><tr><td>1016177515689230841</td></tr><tr><td>9535693652620671175</td></tr><tr><td>13099489936039061843</td></tr><tr><td>3073835934067927028</td></tr><tr><td>12733077377254317125</td></tr><tr><td>&hellip;</td></tr><tr><td>2387885169568056652</td></tr><tr><td>11105544557764227190</td></tr><tr><td>17158366205228388882</td></tr><tr><td>16152773107607132338</td></tr><tr><td>11840458315768547291</td></tr></tbody></table></div>"
      ],
      "text/plain": [
       "shape: (150_346,)\n",
       "Series: '' [u64]\n",
       "[\n",
       "\t1016177515689230841\n",
       "\t9535693652620671175\n",
       "\t13099489936039061843\n",
       "\t3073835934067927028\n",
       "\t12733077377254317125\n",
       "\t…\n",
       "\t2387885169568056652\n",
       "\t11105544557764227190\n",
       "\t17158366205228388882\n",
       "\t16152773107607132338\n",
       "\t11840458315768547291\n",
       "]"
      ]
     },
     "execution_count": 71,
     "metadata": {},
     "output_type": "execute_result"
    }
   ],
   "source": [
    "df.hash_rows()"
   ]
  },
  {
   "cell_type": "markdown",
   "id": "6be29b98",
   "metadata": {},
   "source": [
    "## <strong style=\"color:#5e17eb\"> flags  </strong>\n"
   ]
  },
  {
   "cell_type": "code",
   "execution_count": 76,
   "id": "47d27841",
   "metadata": {},
   "outputs": [
    {
     "data": {
      "text/plain": [
       "{'col1': {'SORTED_ASC': False, 'SORTED_DESC': False},\n",
       " 'col2': {'SORTED_ASC': False, 'SORTED_DESC': False}}"
      ]
     },
     "execution_count": 76,
     "metadata": {},
     "output_type": "execute_result"
    }
   ],
   "source": [
    "g = pl.DataFrame({\n",
    "    \"col1\": [1, 2, 3],\n",
    "    \"col2\": [\"a\", \"b\", \"c\"]\n",
    "})\n",
    "\n",
    "g.flags\n"
   ]
  },
  {
   "cell_type": "code",
   "execution_count": 73,
   "id": "d2879dcc",
   "metadata": {},
   "outputs": [
    {
     "data": {
      "text/plain": [
       "{'business_id': {'SORTED_ASC': False, 'SORTED_DESC': False},\n",
       " 'name': {'SORTED_ASC': False, 'SORTED_DESC': False},\n",
       " 'address': {'SORTED_ASC': False, 'SORTED_DESC': False},\n",
       " 'city': {'SORTED_ASC': False, 'SORTED_DESC': False},\n",
       " 'state': {'SORTED_ASC': False, 'SORTED_DESC': False},\n",
       " 'postal_code': {'SORTED_ASC': False, 'SORTED_DESC': False},\n",
       " 'latitude': {'SORTED_ASC': False, 'SORTED_DESC': False},\n",
       " 'longitude': {'SORTED_ASC': False, 'SORTED_DESC': False},\n",
       " 'stars': {'SORTED_ASC': False, 'SORTED_DESC': False},\n",
       " 'review_count': {'SORTED_ASC': False, 'SORTED_DESC': False},\n",
       " 'is_open': {'SORTED_ASC': False, 'SORTED_DESC': False},\n",
       " 'attributes': {'SORTED_ASC': False, 'SORTED_DESC': False},\n",
       " 'categories': {'SORTED_ASC': False, 'SORTED_DESC': False},\n",
       " 'hours': {'SORTED_ASC': False, 'SORTED_DESC': False}}"
      ]
     },
     "execution_count": 73,
     "metadata": {},
     "output_type": "execute_result"
    }
   ],
   "source": [
    "df.flags"
   ]
  },
  {
   "cell_type": "markdown",
   "id": "3ccc448a",
   "metadata": {},
   "source": [
    "## <strong style=\"color:#5e17eb\"> item() </strong>\n",
    "- Only for series\n",
    "- What: Return Python scalar from 1-element Series."
   ]
  },
  {
   "cell_type": "code",
   "execution_count": null,
   "id": "4bd74d64",
   "metadata": {},
   "outputs": [
    {
     "data": {
      "text/plain": [
       "42"
      ]
     },
     "execution_count": 79,
     "metadata": {},
     "output_type": "execute_result"
    }
   ],
   "source": [
    "pl.Series([42]).item()"
   ]
  },
  {
   "cell_type": "markdown",
   "id": "0041569e",
   "metadata": {},
   "source": [
    "## <strong style=\"color:#5e17eb\"> lazy()  </strong>"
   ]
  },
  {
   "cell_type": "markdown",
   "id": "009deba1",
   "metadata": {},
   "source": [
    "- What: Convert eager DataFrame to LazyFrame.\n",
    "\n",
    "- Why: For optimization and deferred execution."
   ]
  },
  {
   "cell_type": "code",
   "execution_count": 80,
   "id": "580eb5cf",
   "metadata": {},
   "outputs": [],
   "source": [
    "lf = df.lazy()"
   ]
  },
  {
   "cell_type": "markdown",
   "id": "f7f3bb0a",
   "metadata": {},
   "source": [
    "## <strong style=\"color:#5e17eb\"> limit(n)  </strong>\n"
   ]
  },
  {
   "cell_type": "code",
   "execution_count": 81,
   "id": "170eeebe",
   "metadata": {},
   "outputs": [
    {
     "data": {
      "text/html": [
       "<div><style>\n",
       ".dataframe > thead > tr,\n",
       ".dataframe > tbody > tr {\n",
       "  text-align: right;\n",
       "  white-space: pre-wrap;\n",
       "}\n",
       "</style>\n",
       "<small>shape: (3, 14)</small><table border=\"1\" class=\"dataframe\"><thead><tr><th>business_id</th><th>name</th><th>address</th><th>city</th><th>state</th><th>postal_code</th><th>latitude</th><th>longitude</th><th>stars</th><th>review_count</th><th>is_open</th><th>attributes</th><th>categories</th><th>hours</th></tr><tr><td>str</td><td>str</td><td>str</td><td>str</td><td>str</td><td>str</td><td>f64</td><td>f64</td><td>f64</td><td>i64</td><td>i64</td><td>str</td><td>str</td><td>str</td></tr></thead><tbody><tr><td>&quot;Pns2l4eNsfO8kk83dixA6A&quot;</td><td>&quot;Abby Rappoport, LAC, CMQ&quot;</td><td>&quot;1616 Chapala St, Ste 2&quot;</td><td>&quot;Santa Barbara&quot;</td><td>&quot;CA&quot;</td><td>&quot;93101&quot;</td><td>34.426679</td><td>-119.711197</td><td>5.0</td><td>7</td><td>0</td><td>&quot;{&#x27;ByAppointmentOnly&#x27;: &#x27;True&#x27;}&quot;</td><td>&quot;Doctors, Traditional Chinese M…</td><td>null</td></tr><tr><td>&quot;mpf3x-BjTdTEA3yCZrAYPw&quot;</td><td>&quot;The UPS Store&quot;</td><td>&quot;87 Grasso Plaza Shopping Cente…</td><td>&quot;Affton&quot;</td><td>&quot;MO&quot;</td><td>&quot;63123&quot;</td><td>38.551126</td><td>-90.335695</td><td>3.0</td><td>15</td><td>1</td><td>&quot;{&#x27;BusinessAcceptsCreditCards&#x27;:…</td><td>&quot;Shipping Centers, Local Servic…</td><td>&quot;{&#x27;Monday&#x27;: &#x27;0:0-0:0&#x27;, &#x27;Tuesday…</td></tr><tr><td>&quot;tUFrWirKiKi_TAnsVWINQQ&quot;</td><td>&quot;Target&quot;</td><td>&quot;5255 E Broadway Blvd&quot;</td><td>&quot;Tucson&quot;</td><td>&quot;AZ&quot;</td><td>&quot;85711&quot;</td><td>32.223236</td><td>-110.880452</td><td>3.5</td><td>22</td><td>0</td><td>&quot;{&#x27;BikeParking&#x27;: &#x27;True&#x27;, &#x27;Busin…</td><td>&quot;Department Stores, Shopping, F…</td><td>&quot;{&#x27;Monday&#x27;: &#x27;8:0-22:0&#x27;, &#x27;Tuesda…</td></tr></tbody></table></div>"
      ],
      "text/plain": [
       "shape: (3, 14)\n",
       "┌────────────┬───────────┬───────────┬───────────┬───┬─────────┬───────────┬───────────┬───────────┐\n",
       "│ business_i ┆ name      ┆ address   ┆ city      ┆ … ┆ is_open ┆ attribute ┆ categorie ┆ hours     │\n",
       "│ d          ┆ ---       ┆ ---       ┆ ---       ┆   ┆ ---     ┆ s         ┆ s         ┆ ---       │\n",
       "│ ---        ┆ str       ┆ str       ┆ str       ┆   ┆ i64     ┆ ---       ┆ ---       ┆ str       │\n",
       "│ str        ┆           ┆           ┆           ┆   ┆         ┆ str       ┆ str       ┆           │\n",
       "╞════════════╪═══════════╪═══════════╪═══════════╪═══╪═════════╪═══════════╪═══════════╪═══════════╡\n",
       "│ Pns2l4eNsf ┆ Abby Rapp ┆ 1616      ┆ Santa     ┆ … ┆ 0       ┆ {'ByAppoi ┆ Doctors,  ┆ null      │\n",
       "│ O8kk83dixA ┆ oport,    ┆ Chapala   ┆ Barbara   ┆   ┆         ┆ ntmentOnl ┆ Tradition ┆           │\n",
       "│ 6A         ┆ LAC, CMQ  ┆ St, Ste 2 ┆           ┆   ┆         ┆ y':       ┆ al        ┆           │\n",
       "│            ┆           ┆           ┆           ┆   ┆         ┆ 'True'}   ┆ Chinese   ┆           │\n",
       "│            ┆           ┆           ┆           ┆   ┆         ┆           ┆ M…        ┆           │\n",
       "│ mpf3x-BjTd ┆ The UPS   ┆ 87 Grasso ┆ Affton    ┆ … ┆ 1       ┆ {'Busines ┆ Shipping  ┆ {'Monday' │\n",
       "│ TEA3yCZrAY ┆ Store     ┆ Plaza     ┆           ┆   ┆         ┆ sAcceptsC ┆ Centers,  ┆ : '0:0-0: │\n",
       "│ Pw         ┆           ┆ Shopping  ┆           ┆   ┆         ┆ reditCard ┆ Local     ┆ 0',       │\n",
       "│            ┆           ┆ Cente…    ┆           ┆   ┆         ┆ s':…      ┆ Servic…   ┆ 'Tuesday… │\n",
       "│ tUFrWirKiK ┆ Target    ┆ 5255 E    ┆ Tucson    ┆ … ┆ 0       ┆ {'BikePar ┆ Departmen ┆ {'Monday' │\n",
       "│ i_TAnsVWIN ┆           ┆ Broadway  ┆           ┆   ┆         ┆ king':    ┆ t Stores, ┆ : '8:0-22 │\n",
       "│ QQ         ┆           ┆ Blvd      ┆           ┆   ┆         ┆ 'True',   ┆ Shopping, ┆ :0',      │\n",
       "│            ┆           ┆           ┆           ┆   ┆         ┆ 'Busin…   ┆ F…        ┆ 'Tuesda…  │\n",
       "└────────────┴───────────┴───────────┴───────────┴───┴─────────┴───────────┴───────────┴───────────┘"
      ]
     },
     "execution_count": 81,
     "metadata": {},
     "output_type": "execute_result"
    }
   ],
   "source": [
    "df.limit(3)"
   ]
  },
  {
   "cell_type": "markdown",
   "id": "eb875851",
   "metadata": {},
   "source": [
    "## <strong style=\"color:#5e17eb\"> max() </strong>"
   ]
  },
  {
   "cell_type": "code",
   "execution_count": 82,
   "id": "ce8ed21a",
   "metadata": {},
   "outputs": [
    {
     "name": "stdout",
     "output_type": "stream",
     "text": [
      "shape: (1, 3)\n",
      "┌─────┬─────┬────────┐\n",
      "│ A   ┆ B   ┆ C      │\n",
      "│ --- ┆ --- ┆ ---    │\n",
      "│ i64 ┆ i64 ┆ str    │\n",
      "╞═════╪═════╪════════╡\n",
      "│ 3   ┆ 8   ┆ cherry │\n",
      "└─────┴─────┴────────┘\n"
     ]
    }
   ],
   "source": [
    "max_df_ex = pl.DataFrame({\n",
    "    \"A\": [1, 2, 3],\n",
    "    \"B\": [6, 7, 8],\n",
    "    \"C\": [\"apple\", \"banana\", \"cherry\"],\n",
    "})\n",
    "\n",
    "max_values = max_df_ex.max()\n",
    "print(max_values)\n"
   ]
  },
  {
   "cell_type": "markdown",
   "id": "0eb5ae86",
   "metadata": {},
   "source": [
    "-  max() function on a string column (or a Series of strings), it determines the \"maximum\" value based on *lexicographical* (dictionary) order. "
   ]
  },
  {
   "cell_type": "code",
   "execution_count": 83,
   "id": "4a2dd91c",
   "metadata": {},
   "outputs": [
    {
     "data": {
      "text/html": [
       "<div><style>\n",
       ".dataframe > thead > tr,\n",
       ".dataframe > tbody > tr {\n",
       "  text-align: right;\n",
       "  white-space: pre-wrap;\n",
       "}\n",
       "</style>\n",
       "<small>shape: (1, 14)</small><table border=\"1\" class=\"dataframe\"><thead><tr><th>business_id</th><th>name</th><th>address</th><th>city</th><th>state</th><th>postal_code</th><th>latitude</th><th>longitude</th><th>stars</th><th>review_count</th><th>is_open</th><th>attributes</th><th>categories</th><th>hours</th></tr><tr><td>str</td><td>str</td><td>str</td><td>str</td><td>str</td><td>str</td><td>f64</td><td>f64</td><td>f64</td><td>i64</td><td>i64</td><td>str</td><td>str</td><td>str</td></tr></thead><tbody><tr><td>&quot;zzyx5x0Z7xXWWvWnZFuxlQ&quot;</td><td>&quot;​​Transformational Abdominal M…</td><td>&quot;​185 E State St&quot;</td><td>&quot;​Lithia&quot;</td><td>&quot;XMS&quot;</td><td>&quot;T9E 0V3&quot;</td><td>53.679197</td><td>-73.200457</td><td>5.0</td><td>7568</td><td>1</td><td>&quot;{&#x27;WiFi&#x27;: &#x27;None&#x27;}&quot;</td><td>&quot;Zoos, Tours, Arts &amp; Entertainm…</td><td>&quot;{&#x27;Wednesday&#x27;: &#x27;9:30-20:0&#x27;, &#x27;Th…</td></tr></tbody></table></div>"
      ],
      "text/plain": [
       "shape: (1, 14)\n",
       "┌────────────┬────────────┬────────────┬────────┬───┬─────────┬────────────┬───────────┬───────────┐\n",
       "│ business_i ┆ name       ┆ address    ┆ city   ┆ … ┆ is_open ┆ attributes ┆ categorie ┆ hours     │\n",
       "│ d          ┆ ---        ┆ ---        ┆ ---    ┆   ┆ ---     ┆ ---        ┆ s         ┆ ---       │\n",
       "│ ---        ┆ str        ┆ str        ┆ str    ┆   ┆ i64     ┆ str        ┆ ---       ┆ str       │\n",
       "│ str        ┆            ┆            ┆        ┆   ┆         ┆            ┆ str       ┆           │\n",
       "╞════════════╪════════════╪════════════╪════════╪═══╪═════════╪════════════╪═══════════╪═══════════╡\n",
       "│ zzyx5x0Z7x ┆ ​​Transforma ┆ ​185 E      ┆ ​Lithia ┆ … ┆ 1       ┆ {'WiFi':   ┆ Zoos,     ┆ {'Wednesd │\n",
       "│ XWWvWnZFux ┆ tional     ┆ State St   ┆        ┆   ┆         ┆ 'None'}    ┆ Tours,    ┆ ay': '9:3 │\n",
       "│ lQ         ┆ Abdominal  ┆            ┆        ┆   ┆         ┆            ┆ Arts &    ┆ 0-20:0',  │\n",
       "│            ┆ M…         ┆            ┆        ┆   ┆         ┆            ┆ Entertain ┆ 'Th…      │\n",
       "│            ┆            ┆            ┆        ┆   ┆         ┆            ┆ m…        ┆           │\n",
       "└────────────┴────────────┴────────────┴────────┴───┴─────────┴────────────┴───────────┴───────────┘"
      ]
     },
     "execution_count": 83,
     "metadata": {},
     "output_type": "execute_result"
    }
   ],
   "source": [
    "df.max()"
   ]
  },
  {
   "cell_type": "markdown",
   "id": "159be8b6",
   "metadata": {},
   "source": [
    "## <strong style=\"color:#5e17eb\"> max_horizontal()  </strong>\n",
    "- Row-wise maximum"
   ]
  },
  {
   "cell_type": "code",
   "execution_count": 86,
   "id": "c7fc40f9",
   "metadata": {},
   "outputs": [
    {
     "name": "stdout",
     "output_type": "stream",
     "text": [
      "shape: (3,)\n",
      "Series: 'max' [i64]\n",
      "[\n",
      "\t8\n",
      "\t5\n",
      "\t6\n",
      "]\n"
     ]
    }
   ],
   "source": [
    "max_hor_df = pl.DataFrame({\n",
    "    \"col1\": [1, 5, 2],\n",
    "    \"col2\": [8, 3, 6],\n",
    "})\n",
    "\n",
    "row_wise_max = max_hor_df.max_horizontal()\n",
    "print(row_wise_max)\n"
   ]
  },
  {
   "cell_type": "markdown",
   "id": "97a25102",
   "metadata": {},
   "source": [
    "## <strong style=\"color:#5e17eb\"> map_rows() </strong>\n",
    "- What: Row-wise Python function application.\n",
    "\n",
    "- Warning: Slower than expressions. Use only when necessary."
   ]
  },
  {
   "cell_type": "code",
   "execution_count": null,
   "id": "92d8b2eb",
   "metadata": {},
   "outputs": [],
   "source": [
    "# df.map_rows(lambda row: row[0] + row[1])"
   ]
  },
  {
   "cell_type": "markdown",
   "id": "9fa83f8b",
   "metadata": {},
   "source": [
    "## <strong style=\"color:#5e17eb\"> n_unique()  </strong>\n"
   ]
  },
  {
   "cell_type": "code",
   "execution_count": null,
   "id": "97b2a4ff",
   "metadata": {},
   "outputs": [
    {
     "data": {
      "text/plain": [
       "9"
      ]
     },
     "execution_count": 5,
     "metadata": {},
     "output_type": "execute_result"
    }
   ],
   "source": [
    "# number of unique values\n",
    "df[\"stars\"].n_unique()"
   ]
  },
  {
   "cell_type": "markdown",
   "id": "c1d5e47d",
   "metadata": {},
   "source": [
    "## <strong style=\"color:#5e17eb\"> n_chunks </strong>\n",
    "- What: Shows number of memory chunks.\n",
    "\n",
    "- Why: Internal info on memory layout.\n",
    "\n",
    "- Use: For debugging performance."
   ]
  },
  {
   "cell_type": "code",
   "execution_count": 7,
   "id": "685253a7",
   "metadata": {},
   "outputs": [
    {
     "data": {
      "text/plain": [
       "12"
      ]
     },
     "execution_count": 7,
     "metadata": {},
     "output_type": "execute_result"
    }
   ],
   "source": [
    "df.n_chunks()"
   ]
  },
  {
   "cell_type": "code",
   "execution_count": null,
   "id": "4a54cacf",
   "metadata": {},
   "outputs": [
    {
     "name": "stdout",
     "output_type": "stream",
     "text": [
      "Number of chunks in DataFrame (first series): 12\n",
      "Number of chunks in DataFrame (all series): [12, 12, 12, 12, 12, 12, 12, 12, 12, 12, 12, 12, 12, 12]\n"
     ]
    }
   ],
   "source": [
    "print(f\"Number of chunks in DataFrame (first series): {df.n_chunks(strategy='first')}\")\n",
    "print(f\"Number of chunks in DataFrame (all series): {df.n_chunks(strategy='all')}\")"
   ]
  },
  {
   "cell_type": "markdown",
   "id": "1131482e",
   "metadata": {},
   "source": [
    "<strong style=\"color:#5e17eb\"> Summary </strong>\n",
    "\n",
    "- Now, imagine that building the whole castle at once is hard, especially if it's super big, like a giant LEGO city! It might even be too much for your hands to hold all the pieces at once.\n",
    "- It means that every column in your Polars DataFrame is currently stored in 12 separate chunks or memory allocations\n",
    "- In summary, the output indicates that your DataFrame's columns are uniformly chunked. This is generally a reasonable state. However, it's a good practice to be aware of the concept of chunking and the availability of `.rechunk()` for potential performance optimization if needed. "
   ]
  },
  {
   "cell_type": "markdown",
   "id": "f27e25d4",
   "metadata": {},
   "source": [
    "## <strong style=\"color:#5e17eb\"> Pipe </strong>\n"
   ]
  },
  {
   "cell_type": "markdown",
   "id": "0440340e",
   "metadata": {},
   "source": [
    "- It lets you pass a DataFrame through a function as part of a chain.\n",
    "\n",
    "- Makes your code modular and readable\n",
    "\n",
    "- Clean chaining of custom Python logic with Polars expressions"
   ]
  },
  {
   "cell_type": "code",
   "execution_count": null,
   "id": "c472e8b4",
   "metadata": {},
   "outputs": [
    {
     "data": {
      "text/html": [
       "<div><style>\n",
       ".dataframe > thead > tr,\n",
       ".dataframe > tbody > tr {\n",
       "  text-align: right;\n",
       "  white-space: pre-wrap;\n",
       "}\n",
       "</style>\n",
       "<small>shape: (150_346, 15)</small><table border=\"1\" class=\"dataframe\"><thead><tr><th>business_id</th><th>name</th><th>address</th><th>city</th><th>state</th><th>postal_code</th><th>latitude</th><th>longitude</th><th>stars</th><th>review_count</th><th>is_open</th><th>attributes</th><th>categories</th><th>hours</th><th>double</th></tr><tr><td>str</td><td>str</td><td>str</td><td>str</td><td>str</td><td>str</td><td>f64</td><td>f64</td><td>f64</td><td>i64</td><td>i64</td><td>str</td><td>str</td><td>str</td><td>f64</td></tr></thead><tbody><tr><td>&quot;Pns2l4eNsfO8kk83dixA6A&quot;</td><td>&quot;Abby Rappoport, LAC, CMQ&quot;</td><td>&quot;1616 Chapala St, Ste 2&quot;</td><td>&quot;Santa Barbara&quot;</td><td>&quot;CA&quot;</td><td>&quot;93101&quot;</td><td>34.426679</td><td>-119.711197</td><td>5.0</td><td>7</td><td>0</td><td>&quot;{&#x27;ByAppointmentOnly&#x27;: &#x27;True&#x27;}&quot;</td><td>&quot;Doctors, Traditional Chinese M…</td><td>null</td><td>10.0</td></tr><tr><td>&quot;mpf3x-BjTdTEA3yCZrAYPw&quot;</td><td>&quot;The UPS Store&quot;</td><td>&quot;87 Grasso Plaza Shopping Cente…</td><td>&quot;Affton&quot;</td><td>&quot;MO&quot;</td><td>&quot;63123&quot;</td><td>38.551126</td><td>-90.335695</td><td>3.0</td><td>15</td><td>1</td><td>&quot;{&#x27;BusinessAcceptsCreditCards&#x27;:…</td><td>&quot;Shipping Centers, Local Servic…</td><td>&quot;{&#x27;Monday&#x27;: &#x27;0:0-0:0&#x27;, &#x27;Tuesday…</td><td>6.0</td></tr><tr><td>&quot;tUFrWirKiKi_TAnsVWINQQ&quot;</td><td>&quot;Target&quot;</td><td>&quot;5255 E Broadway Blvd&quot;</td><td>&quot;Tucson&quot;</td><td>&quot;AZ&quot;</td><td>&quot;85711&quot;</td><td>32.223236</td><td>-110.880452</td><td>3.5</td><td>22</td><td>0</td><td>&quot;{&#x27;BikeParking&#x27;: &#x27;True&#x27;, &#x27;Busin…</td><td>&quot;Department Stores, Shopping, F…</td><td>&quot;{&#x27;Monday&#x27;: &#x27;8:0-22:0&#x27;, &#x27;Tuesda…</td><td>7.0</td></tr><tr><td>&quot;MTSW4McQd7CbVtyjqoe9mw&quot;</td><td>&quot;St Honore Pastries&quot;</td><td>&quot;935 Race St&quot;</td><td>&quot;Philadelphia&quot;</td><td>&quot;PA&quot;</td><td>&quot;19107&quot;</td><td>39.955505</td><td>-75.155564</td><td>4.0</td><td>80</td><td>1</td><td>&quot;{&#x27;RestaurantsDelivery&#x27;: &#x27;False…</td><td>&quot;Restaurants, Food, Bubble Tea,…</td><td>&quot;{&#x27;Monday&#x27;: &#x27;7:0-20:0&#x27;, &#x27;Tuesda…</td><td>8.0</td></tr><tr><td>&quot;mWMc6_wTdE0EUBKIGXDVfA&quot;</td><td>&quot;Perkiomen Valley Brewery&quot;</td><td>&quot;101 Walnut St&quot;</td><td>&quot;Green Lane&quot;</td><td>&quot;PA&quot;</td><td>&quot;18054&quot;</td><td>40.338183</td><td>-75.471659</td><td>4.5</td><td>13</td><td>1</td><td>&quot;{&#x27;BusinessAcceptsCreditCards&#x27;:…</td><td>&quot;Brewpubs, Breweries, Food&quot;</td><td>&quot;{&#x27;Wednesday&#x27;: &#x27;14:0-22:0&#x27;, &#x27;Th…</td><td>9.0</td></tr><tr><td>&hellip;</td><td>&hellip;</td><td>&hellip;</td><td>&hellip;</td><td>&hellip;</td><td>&hellip;</td><td>&hellip;</td><td>&hellip;</td><td>&hellip;</td><td>&hellip;</td><td>&hellip;</td><td>&hellip;</td><td>&hellip;</td><td>&hellip;</td><td>&hellip;</td></tr><tr><td>&quot;IUQopTMmYQG-qRtBk-8QnA&quot;</td><td>&quot;Binh&#x27;s Nails&quot;</td><td>&quot;3388 Gateway Blvd&quot;</td><td>&quot;Edmonton&quot;</td><td>&quot;AB&quot;</td><td>&quot;T6J 5H2&quot;</td><td>53.468419</td><td>-113.492054</td><td>3.0</td><td>13</td><td>1</td><td>&quot;{&#x27;ByAppointmentOnly&#x27;: &#x27;False&#x27;,…</td><td>&quot;Nail Salons, Beauty &amp; Spas&quot;</td><td>&quot;{&#x27;Monday&#x27;: &#x27;10:0-19:30&#x27;, &#x27;Tues…</td><td>6.0</td></tr><tr><td>&quot;c8GjPIOTGVmIemT7j5_SyQ&quot;</td><td>&quot;Wild Birds Unlimited&quot;</td><td>&quot;2813 Bransford Ave&quot;</td><td>&quot;Nashville&quot;</td><td>&quot;TN&quot;</td><td>&quot;37204&quot;</td><td>36.115118</td><td>-86.766925</td><td>4.0</td><td>5</td><td>1</td><td>&quot;{&#x27;BusinessAcceptsCreditCards&#x27;:…</td><td>&quot;Pets, Nurseries &amp; Gardening, P…</td><td>&quot;{&#x27;Monday&#x27;: &#x27;9:30-17:30&#x27;, &#x27;Tues…</td><td>8.0</td></tr><tr><td>&quot;_QAMST-NrQobXduilWEqSw&quot;</td><td>&quot;Claire&#x27;s Boutique&quot;</td><td>&quot;6020 E 82nd St, Ste 46&quot;</td><td>&quot;Indianapolis&quot;</td><td>&quot;IN&quot;</td><td>&quot;46250&quot;</td><td>39.908707</td><td>-86.065088</td><td>3.5</td><td>8</td><td>1</td><td>&quot;{&#x27;RestaurantsPriceRange2&#x27;: &#x27;1&#x27;…</td><td>&quot;Shopping, Jewelry, Piercing, T…</td><td>null</td><td>7.0</td></tr><tr><td>&quot;mtGm22y5c2UHNXDFAjaPNw&quot;</td><td>&quot;Cyclery &amp; Fitness Center&quot;</td><td>&quot;2472 Troy Rd&quot;</td><td>&quot;Edwardsville&quot;</td><td>&quot;IL&quot;</td><td>&quot;62025&quot;</td><td>38.782351</td><td>-89.950558</td><td>4.0</td><td>24</td><td>1</td><td>&quot;{&#x27;BusinessParking&#x27;: &quot;{&#x27;garage&#x27;…</td><td>&quot;Fitness/Exercise Equipment, Ey…</td><td>&quot;{&#x27;Monday&#x27;: &#x27;9:0-20:0&#x27;, &#x27;Tuesda…</td><td>8.0</td></tr><tr><td>&quot;jV_XOycEzSlTx-65W906pg&quot;</td><td>&quot;Sic Ink&quot;</td><td>&quot;238 Apollo Beach Blvd&quot;</td><td>&quot;Apollo beach&quot;</td><td>&quot;FL&quot;</td><td>&quot;33572&quot;</td><td>27.771002</td><td>-82.39491</td><td>4.5</td><td>9</td><td>1</td><td>&quot;{&#x27;WheelchairAccessible&#x27;: &#x27;True…</td><td>&quot;Beauty &amp; Spas, Permanent Makeu…</td><td>&quot;{&#x27;Tuesday&#x27;: &#x27;12:0-19:0&#x27;, &#x27;Wedn…</td><td>9.0</td></tr></tbody></table></div>"
      ],
      "text/plain": [
       "shape: (150_346, 15)\n",
       "┌────────────┬────────────┬───────────┬───────────┬───┬───────────┬───────────┬───────────┬────────┐\n",
       "│ business_i ┆ name       ┆ address   ┆ city      ┆ … ┆ attribute ┆ categorie ┆ hours     ┆ double │\n",
       "│ d          ┆ ---        ┆ ---       ┆ ---       ┆   ┆ s         ┆ s         ┆ ---       ┆ ---    │\n",
       "│ ---        ┆ str        ┆ str       ┆ str       ┆   ┆ ---       ┆ ---       ┆ str       ┆ f64    │\n",
       "│ str        ┆            ┆           ┆           ┆   ┆ str       ┆ str       ┆           ┆        │\n",
       "╞════════════╪════════════╪═══════════╪═══════════╪═══╪═══════════╪═══════════╪═══════════╪════════╡\n",
       "│ Pns2l4eNsf ┆ Abby       ┆ 1616      ┆ Santa     ┆ … ┆ {'ByAppoi ┆ Doctors,  ┆ null      ┆ 10.0   │\n",
       "│ O8kk83dixA ┆ Rappoport, ┆ Chapala   ┆ Barbara   ┆   ┆ ntmentOnl ┆ Tradition ┆           ┆        │\n",
       "│ 6A         ┆ LAC, CMQ   ┆ St, Ste 2 ┆           ┆   ┆ y':       ┆ al        ┆           ┆        │\n",
       "│            ┆            ┆           ┆           ┆   ┆ 'True'}   ┆ Chinese   ┆           ┆        │\n",
       "│            ┆            ┆           ┆           ┆   ┆           ┆ M…        ┆           ┆        │\n",
       "│ mpf3x-BjTd ┆ The UPS    ┆ 87 Grasso ┆ Affton    ┆ … ┆ {'Busines ┆ Shipping  ┆ {'Monday' ┆ 6.0    │\n",
       "│ TEA3yCZrAY ┆ Store      ┆ Plaza     ┆           ┆   ┆ sAcceptsC ┆ Centers,  ┆ : '0:0-0: ┆        │\n",
       "│ Pw         ┆            ┆ Shopping  ┆           ┆   ┆ reditCard ┆ Local     ┆ 0',       ┆        │\n",
       "│            ┆            ┆ Cente…    ┆           ┆   ┆ s':…      ┆ Servic…   ┆ 'Tuesday… ┆        │\n",
       "│ tUFrWirKiK ┆ Target     ┆ 5255 E    ┆ Tucson    ┆ … ┆ {'BikePar ┆ Departmen ┆ {'Monday' ┆ 7.0    │\n",
       "│ i_TAnsVWIN ┆            ┆ Broadway  ┆           ┆   ┆ king':    ┆ t Stores, ┆ : '8:0-22 ┆        │\n",
       "│ QQ         ┆            ┆ Blvd      ┆           ┆   ┆ 'True',   ┆ Shopping, ┆ :0',      ┆        │\n",
       "│            ┆            ┆           ┆           ┆   ┆ 'Busin…   ┆ F…        ┆ 'Tuesda…  ┆        │\n",
       "│ MTSW4McQd7 ┆ St Honore  ┆ 935 Race  ┆ Philadelp ┆ … ┆ {'Restaur ┆ Restauran ┆ {'Monday' ┆ 8.0    │\n",
       "│ CbVtyjqoe9 ┆ Pastries   ┆ St        ┆ hia       ┆   ┆ antsDeliv ┆ ts, Food, ┆ : '7:0-20 ┆        │\n",
       "│ mw         ┆            ┆           ┆           ┆   ┆ ery':     ┆ Bubble    ┆ :0',      ┆        │\n",
       "│            ┆            ┆           ┆           ┆   ┆ 'False…   ┆ Tea,…     ┆ 'Tuesda…  ┆        │\n",
       "│ mWMc6_wTdE ┆ Perkiomen  ┆ 101       ┆ Green     ┆ … ┆ {'Busines ┆ Brewpubs, ┆ {'Wednesd ┆ 9.0    │\n",
       "│ 0EUBKIGXDV ┆ Valley     ┆ Walnut St ┆ Lane      ┆   ┆ sAcceptsC ┆ Breweries ┆ ay': '14: ┆        │\n",
       "│ fA         ┆ Brewery    ┆           ┆           ┆   ┆ reditCard ┆ , Food    ┆ 0-22:0',  ┆        │\n",
       "│            ┆            ┆           ┆           ┆   ┆ s':…      ┆           ┆ 'Th…      ┆        │\n",
       "│ …          ┆ …          ┆ …         ┆ …         ┆ … ┆ …         ┆ …         ┆ …         ┆ …      │\n",
       "│ IUQopTMmYQ ┆ Binh's     ┆ 3388      ┆ Edmonton  ┆ … ┆ {'ByAppoi ┆ Nail      ┆ {'Monday' ┆ 6.0    │\n",
       "│ G-qRtBk-8Q ┆ Nails      ┆ Gateway   ┆           ┆   ┆ ntmentOnl ┆ Salons,   ┆ : '10:0-1 ┆        │\n",
       "│ nA         ┆            ┆ Blvd      ┆           ┆   ┆ y':       ┆ Beauty &  ┆ 9:30',    ┆        │\n",
       "│            ┆            ┆           ┆           ┆   ┆ 'False',… ┆ Spas      ┆ 'Tues…    ┆        │\n",
       "│ c8GjPIOTGV ┆ Wild Birds ┆ 2813      ┆ Nashville ┆ … ┆ {'Busines ┆ Pets,     ┆ {'Monday' ┆ 8.0    │\n",
       "│ mIemT7j5_S ┆ Unlimited  ┆ Bransford ┆           ┆   ┆ sAcceptsC ┆ Nurseries ┆ : '9:30-1 ┆        │\n",
       "│ yQ         ┆            ┆ Ave       ┆           ┆   ┆ reditCard ┆ & Gardeni ┆ 7:30',    ┆        │\n",
       "│            ┆            ┆           ┆           ┆   ┆ s':…      ┆ ng, P…    ┆ 'Tues…    ┆        │\n",
       "│ _QAMST-NrQ ┆ Claire's   ┆ 6020 E    ┆ Indianapo ┆ … ┆ {'Restaur ┆ Shopping, ┆ null      ┆ 7.0    │\n",
       "│ obXduilWEq ┆ Boutique   ┆ 82nd St,  ┆ lis       ┆   ┆ antsPrice ┆ Jewelry,  ┆           ┆        │\n",
       "│ Sw         ┆            ┆ Ste 46    ┆           ┆   ┆ Range2':  ┆ Piercing, ┆           ┆        │\n",
       "│            ┆            ┆           ┆           ┆   ┆ '1'…      ┆ T…        ┆           ┆        │\n",
       "│ mtGm22y5c2 ┆ Cyclery &  ┆ 2472 Troy ┆ Edwardsvi ┆ … ┆ {'Busines ┆ Fitness/E ┆ {'Monday' ┆ 8.0    │\n",
       "│ UHNXDFAjaP ┆ Fitness    ┆ Rd        ┆ lle       ┆   ┆ sParking' ┆ xercise   ┆ : '9:0-20 ┆        │\n",
       "│ Nw         ┆ Center     ┆           ┆           ┆   ┆ : \"{'gara ┆ Equipment ┆ :0',      ┆        │\n",
       "│            ┆            ┆           ┆           ┆   ┆ ge'…      ┆ , Ey…     ┆ 'Tuesda…  ┆        │\n",
       "│ jV_XOycEzS ┆ Sic Ink    ┆ 238       ┆ Apollo    ┆ … ┆ {'Wheelch ┆ Beauty &  ┆ {'Tuesday ┆ 9.0    │\n",
       "│ lTx-65W906 ┆            ┆ Apollo    ┆ beach     ┆   ┆ airAccess ┆ Spas,     ┆ ': '12:0- ┆        │\n",
       "│ pg         ┆            ┆ Beach     ┆           ┆   ┆ ible':    ┆ Permanent ┆ 19:0',    ┆        │\n",
       "│            ┆            ┆ Blvd      ┆           ┆   ┆ 'True…    ┆ Makeu…    ┆ 'Wedn…    ┆        │\n",
       "└────────────┴────────────┴───────────┴───────────┴───┴───────────┴───────────┴───────────┴────────┘"
      ]
     },
     "execution_count": 10,
     "metadata": {},
     "output_type": "execute_result"
    }
   ],
   "source": [
    "def double_stars(df): \n",
    "    return df.with_columns((pl.col(\"stars\") * 2).alias(\"double\"))\n",
    "\n",
    "df.pipe(double_stars)"
   ]
  },
  {
   "cell_type": "code",
   "execution_count": null,
   "id": "dfe7b30f",
   "metadata": {},
   "outputs": [],
   "source": [
    "def extract_categories(df):\n",
    "    return df.with_columns(\n",
    "        pl.col(\"categories\")\n",
    "        .str.split(\", \")\n",
    "        .alias(\"categories_list\")\n",
    "    )\n",
    "\n",
    "df = df.pipe(extract_categories)"
   ]
  },
  {
   "cell_type": "code",
   "execution_count": 15,
   "id": "cecec0bc",
   "metadata": {},
   "outputs": [
    {
     "data": {
      "text/html": [
       "<div><style>\n",
       ".dataframe > thead > tr,\n",
       ".dataframe > tbody > tr {\n",
       "  text-align: right;\n",
       "  white-space: pre-wrap;\n",
       "}\n",
       "</style>\n",
       "<small>shape: (150_346,)</small><table border=\"1\" class=\"dataframe\"><thead><tr><th>categories_list</th></tr><tr><td>list[str]</td></tr></thead><tbody><tr><td>[&quot;Doctors&quot;, &quot;Traditional Chinese Medicine&quot;, … &quot;Nutritionists&quot;]</td></tr><tr><td>[&quot;Shipping Centers&quot;, &quot;Local Services&quot;, … &quot;Printing Services&quot;]</td></tr><tr><td>[&quot;Department Stores&quot;, &quot;Shopping&quot;, … &quot;Furniture Stores&quot;]</td></tr><tr><td>[&quot;Restaurants&quot;, &quot;Food&quot;, … &quot;Bakeries&quot;]</td></tr><tr><td>[&quot;Brewpubs&quot;, &quot;Breweries&quot;, &quot;Food&quot;]</td></tr><tr><td>&hellip;</td></tr><tr><td>[&quot;Nail Salons&quot;, &quot;Beauty &amp; Spas&quot;]</td></tr><tr><td>[&quot;Pets&quot;, &quot;Nurseries &amp; Gardening&quot;, … &quot;Shopping&quot;]</td></tr><tr><td>[&quot;Shopping&quot;, &quot;Jewelry&quot;, … &quot;Fashion&quot;]</td></tr><tr><td>[&quot;Fitness/Exercise Equipment&quot;, &quot;Eyewear &amp; Opticians&quot;, … &quot;Bikes&quot;]</td></tr><tr><td>[&quot;Beauty &amp; Spas&quot;, &quot;Permanent Makeup&quot;, … &quot;Tattoo&quot;]</td></tr></tbody></table></div>"
      ],
      "text/plain": [
       "shape: (150_346,)\n",
       "Series: 'categories_list' [list[str]]\n",
       "[\n",
       "\t[\"Doctors\", \"Traditional Chinese Medicine\", … \"Nutritionists\"]\n",
       "\t[\"Shipping Centers\", \"Local Services\", … \"Printing Services\"]\n",
       "\t[\"Department Stores\", \"Shopping\", … \"Furniture Stores\"]\n",
       "\t[\"Restaurants\", \"Food\", … \"Bakeries\"]\n",
       "\t[\"Brewpubs\", \"Breweries\", \"Food\"]\n",
       "\t…\n",
       "\t[\"Nail Salons\", \"Beauty & Spas\"]\n",
       "\t[\"Pets\", \"Nurseries & Gardening\", … \"Shopping\"]\n",
       "\t[\"Shopping\", \"Jewelry\", … \"Fashion\"]\n",
       "\t[\"Fitness/Exercise Equipment\", \"Eyewear & Opticians\", … \"Bikes\"]\n",
       "\t[\"Beauty & Spas\", \"Permanent Makeup\", … \"Tattoo\"]\n",
       "]"
      ]
     },
     "execution_count": 15,
     "metadata": {},
     "output_type": "execute_result"
    }
   ],
   "source": [
    "df[\"categories_list\"]"
   ]
  },
  {
   "cell_type": "markdown",
   "id": "381725e4",
   "metadata": {},
   "source": [
    "## <strong style=\"color:#5e17eb\">  Product</strong>\n"
   ]
  },
  {
   "cell_type": "code",
   "execution_count": 19,
   "id": "cf684565",
   "metadata": {},
   "outputs": [
    {
     "data": {
      "text/html": [
       "<div><style>\n",
       ".dataframe > thead > tr,\n",
       ".dataframe > tbody > tr {\n",
       "  text-align: right;\n",
       "  white-space: pre-wrap;\n",
       "}\n",
       "</style>\n",
       "<small>shape: (1, 1)</small><table border=\"1\" class=\"dataframe\"><thead><tr><th>stars</th></tr><tr><td>f64</td></tr></thead><tbody><tr><td>inf</td></tr></tbody></table></div>"
      ],
      "text/plain": [
       "shape: (1, 1)\n",
       "┌───────┐\n",
       "│ stars │\n",
       "│ ---   │\n",
       "│ f64   │\n",
       "╞═══════╡\n",
       "│ inf   │\n",
       "└───────┘"
      ]
     },
     "execution_count": 19,
     "metadata": {},
     "output_type": "execute_result"
    }
   ],
   "source": [
    "df.select(pl.col(\"stars\").product())\n"
   ]
  },
  {
   "cell_type": "markdown",
   "id": "287ccb39",
   "metadata": {},
   "source": [
    "# <strong style=\"color:#5e17eb\"> III. Summary Table </strong>\n",
    "\n",
    "| Method              | What it Does                           | \n",
    "| ------------------- | -------------------------------------- | \n",
    "| `extend()`          | Append another df (in-place)           |\n",
    "| `explode()`         | Flatten list column to rows            | \n",
    "| `cast()`            | Change dtype                           |\n",
    "| `approx_n_unique()` | Fast estimate of unique rows           | \n",
    "| `fill_nan()`        | Fill only float NaNs                   | \n",
    "| `fill_null()`       | Fill nulls (any type)                  | \n",
    "| `fold()`            | Row-wise reduce columns                | \n",
    "| `height`            | Row count                              |\n",
    "| `interpolate()`     | Fill missing values linearly           | \n",
    "| `hash_rows()`       | Hash each row                          | \n",
    "| `item()`            | Get single value from 1-element Series | \n",
    "| `lazy()`            | Convert eager to lazy                  | \n",
    "| `limit()`           | First `n` rows                         | \n",
    "| `max()`             | Max values per column                  | \n",
    "| `map_rows()`        | Row-wise function (slow!)              | \n",
    "| `n_unique()`        | Unique value count                     | \n",
    "| `n_chunks()`        | Memory layout info                     | \n",
    "| `pipe()`            | Chainable functions                    | \n",
    "| `product()`         | Multiply all values in a column        | \n"
   ]
  },
  {
   "cell_type": "markdown",
   "id": "05588058",
   "metadata": {},
   "source": [
    "<div style=\"text-align: center;\">\n",
    "  <h4 style=\"\n",
    "    display: inline-block;\n",
    "    color: #5e17eb;\n",
    "    font-family: 'Segoe UI';\n",
    "    border-left: 5px solid #729be8ff;\n",
    "    background-color: #F8F9F9;\n",
    "    padding: 10px 20px;\n",
    "    border-radius: 5px;\n",
    "    text-align: left;\n",
    "  \"><b>\n",
    "    Thank You 💜\n",
    "    </b>\n",
    "  </h4>\n",
    "</div>"
   ]
  }
 ],
 "metadata": {
  "kernelspec": {
   "display_name": "Python 3",
   "language": "python",
   "name": "python3"
  },
  "language_info": {
   "codemirror_mode": {
    "name": "ipython",
    "version": 3
   },
   "file_extension": ".py",
   "mimetype": "text/x-python",
   "name": "python",
   "nbconvert_exporter": "python",
   "pygments_lexer": "ipython3",
   "version": "3.11.9"
  }
 },
 "nbformat": 4,
 "nbformat_minor": 5
}
