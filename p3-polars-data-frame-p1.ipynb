{
 "cells": [
  {
   "cell_type": "code",
   "execution_count": null,
   "id": "9a891906",
   "metadata": {},
   "outputs": [],
   "source": [
    "#!pip install polars -q"
   ]
  },
  {
   "cell_type": "code",
   "execution_count": 2,
   "id": "ee832e7f",
   "metadata": {},
   "outputs": [],
   "source": [
    "import polars as pl\n",
    "from warnings import filterwarnings\n",
    "\n",
    "filterwarnings('ignore')"
   ]
  },
  {
   "cell_type": "markdown",
   "id": "c3f4e935",
   "metadata": {},
   "source": [
    "# I. <strong style=\"color:#5e17eb\"> Creating Data Frame </strong>\n"
   ]
  },
  {
   "cell_type": "markdown",
   "id": "6e2186e1",
   "metadata": {},
   "source": [
    "## <strong style=\"color:#5e17eb\"> From List </strong>\n"
   ]
  },
  {
   "cell_type": "code",
   "execution_count": null,
   "id": "f6379c42",
   "metadata": {},
   "outputs": [],
   "source": [
    "import polars as pl\n",
    "\n",
    "df = pl.DataFrame([\n",
    "    [\"Abby\", \"Santa Barbara\", 5],\n",
    "    [\"Joe\", \"Los Angeles\", 4]\n",
    "], schema=[\"name\", \"city\", \"stars\"])\n",
    "\n",
    "df"
   ]
  },
  {
   "cell_type": "markdown",
   "id": "3f50f6d8",
   "metadata": {},
   "source": [
    "## <strong style=\"color:#5e17eb\"> From Dictionary </strong>\n"
   ]
  },
  {
   "cell_type": "code",
   "execution_count": null,
   "id": "812e8f23",
   "metadata": {},
   "outputs": [],
   "source": [
    "data = {\n",
    "    \"name\": [\"Abby\", \"Joe\"],\n",
    "    \"city\": [\"Santa Barbara\", \"Los Angeles\"],\n",
    "    \"stars\": [5, 4]\n",
    "}\n",
    "\n",
    "df = pl.DataFrame(data)\n",
    "df"
   ]
  },
  {
   "cell_type": "markdown",
   "id": "dc7e87d3",
   "metadata": {},
   "source": [
    "## <strong style=\"color:#5e17eb\">  From a CSV file</strong>\n"
   ]
  },
  {
   "cell_type": "code",
   "execution_count": null,
   "id": "eb125124",
   "metadata": {},
   "outputs": [],
   "source": [
    "df = pl.read_csv(r\"C:\\Users\\Rudra\\Desktop\\yelp\\data\\business.csv\")\n",
    "df.sample()"
   ]
  },
  {
   "cell_type": "markdown",
   "id": "372905ce",
   "metadata": {},
   "source": [
    "## <strong style=\"color:#5e17eb\"> Lazy vs Eager Execution  </strong>\n"
   ]
  },
  {
   "cell_type": "markdown",
   "id": "9b40d14c",
   "metadata": {},
   "source": [
    "<strong style=\"color:#5e17eb\">  Lazy vs Eager Execution </strong>\n",
    "\n",
    "- `Lary` \n",
    "  - Doesn’t load the entire data into memory.\n",
    "  - collect(): executes the operations and brings result into memory.\n",
    "  - When to used -> when the dataset is large (in GB/TB size) and you have low memory\n",
    "  - How to used -> scan_\n",
    "- `Eager`\n",
    "  - When to used -> When we have the small dataset or when we can load whole dataset into our memory\n",
    "  - How to used -> read_\n",
    "  - Immediate Execution\n",
    "\n",
    "\n",
    "What we used in this series?\n",
    "- I have the 8GB ram so we can load the the this business dataset into our memory.\n",
    "- For fast learning, now we used the eager mood. \n",
    "- Later in this series we go in another mood.\n",
    "\n",
    "> Before decide the mode used the scan then check the size.\n",
    "\n",
    "|MOOD| When to used |\n",
    "|------|-------------|\n",
    "|Lary|When we can't load whole dataset in memory |\n",
    "|Eager|When we load whole dataset in memory|"
   ]
  },
  {
   "cell_type": "code",
   "execution_count": null,
   "id": "bc69f776",
   "metadata": {},
   "outputs": [],
   "source": [
    "df.estimated_size(unit='mb')"
   ]
  },
  {
   "cell_type": "markdown",
   "id": "d75238f3",
   "metadata": {},
   "source": [
    "## <strong style=\"color:#5e17eb\"> From a JSON File  </strong>\n"
   ]
  },
  {
   "cell_type": "code",
   "execution_count": null,
   "id": "eb91a774",
   "metadata": {},
   "outputs": [],
   "source": [
    "import os\n",
    "filepath = r\"C:\\Users\\Rudra\\Desktop\\yelp\\big-data\\yelp_academic_dataset_business.json\"\n",
    "if os.path.exists(filepath):\n",
    "    print(\"File exists!\")\n",
    "else:\n",
    "    print(\"File not found at specified path.\")\n"
   ]
  },
  {
   "cell_type": "code",
   "execution_count": null,
   "id": "8e1b2bca",
   "metadata": {},
   "outputs": [],
   "source": [
    "#df = pl.read_json(r\"C:\\Users\\Rudra\\Desktop\\yelp\\big-data\\yelp_academic_dataset_business.json\")\n",
    "df = pl.read_ndjson(r\"C:\\Users\\Rudra\\Desktop\\yelp\\big-data\\yelp_academic_dataset_business.json\")\n",
    "df.sample()"
   ]
  },
  {
   "cell_type": "markdown",
   "id": "d24fef16",
   "metadata": {},
   "source": [
    "## <strong style=\"color:#5e17eb\"> From Parquet </strong>\n"
   ]
  },
  {
   "cell_type": "markdown",
   "id": "66eef1c1",
   "metadata": {},
   "source": [
    "<strong style=\"color:#5e17eb\"> Parquet </strong>\n",
    "- Polars + Parquet == More speed\n",
    "- So we converted all json -> csv -> parquet file "
   ]
  },
  {
   "cell_type": "code",
   "execution_count": null,
   "id": "62f2034e",
   "metadata": {},
   "outputs": [],
   "source": [
    "# f.write_parquet(r\"C:\\Users\\Rudra\\Desktop\\yelp\\parquet-data\\business.parquet\")"
   ]
  },
  {
   "cell_type": "code",
   "execution_count": 3,
   "id": "07b0fdc0",
   "metadata": {},
   "outputs": [],
   "source": [
    "df = pl.read_parquet(r\"C:\\Users\\Rudra\\Desktop\\yelp\\parquet-data\\business.parquet\")"
   ]
  },
  {
   "cell_type": "code",
   "execution_count": 4,
   "id": "60654808",
   "metadata": {},
   "outputs": [
    {
     "data": {
      "text/html": [
       "<div><style>\n",
       ".dataframe > thead > tr,\n",
       ".dataframe > tbody > tr {\n",
       "  text-align: right;\n",
       "  white-space: pre-wrap;\n",
       "}\n",
       "</style>\n",
       "<small>shape: (1, 14)</small><table border=\"1\" class=\"dataframe\"><thead><tr><th>business_id</th><th>name</th><th>address</th><th>city</th><th>state</th><th>postal_code</th><th>latitude</th><th>longitude</th><th>stars</th><th>review_count</th><th>is_open</th><th>attributes</th><th>categories</th><th>hours</th></tr><tr><td>str</td><td>str</td><td>str</td><td>str</td><td>str</td><td>str</td><td>f64</td><td>f64</td><td>f64</td><td>i64</td><td>i64</td><td>str</td><td>str</td><td>str</td></tr></thead><tbody><tr><td>&quot;eP-qr9WjtfDpTlisqV718w&quot;</td><td>&quot;The Sandbox&quot;</td><td>&quot;2701 N Swan Rd&quot;</td><td>&quot;Tucson&quot;</td><td>&quot;AZ&quot;</td><td>&quot;85712&quot;</td><td>32.256407</td><td>-110.893058</td><td>3.5</td><td>20</td><td>1</td><td>&quot;{&#x27;BusinessAcceptsCreditCards&#x27;:…</td><td>&quot;Preschools, Elementary Schools…</td><td>&quot;{&#x27;Monday&#x27;: &#x27;6:30-18:0&#x27;, &#x27;Tuesd…</td></tr></tbody></table></div>"
      ],
      "text/plain": [
       "shape: (1, 14)\n",
       "┌────────────┬────────────┬────────────┬────────┬───┬─────────┬────────────┬───────────┬───────────┐\n",
       "│ business_i ┆ name       ┆ address    ┆ city   ┆ … ┆ is_open ┆ attributes ┆ categorie ┆ hours     │\n",
       "│ d          ┆ ---        ┆ ---        ┆ ---    ┆   ┆ ---     ┆ ---        ┆ s         ┆ ---       │\n",
       "│ ---        ┆ str        ┆ str        ┆ str    ┆   ┆ i64     ┆ str        ┆ ---       ┆ str       │\n",
       "│ str        ┆            ┆            ┆        ┆   ┆         ┆            ┆ str       ┆           │\n",
       "╞════════════╪════════════╪════════════╪════════╪═══╪═════════╪════════════╪═══════════╪═══════════╡\n",
       "│ eP-qr9Wjtf ┆ The        ┆ 2701 N     ┆ Tucson ┆ … ┆ 1       ┆ {'Business ┆ Preschool ┆ {'Monday' │\n",
       "│ DpTlisqV71 ┆ Sandbox    ┆ Swan Rd    ┆        ┆   ┆         ┆ AcceptsCre ┆ s, Elemen ┆ : '6:30-1 │\n",
       "│ 8w         ┆            ┆            ┆        ┆   ┆         ┆ ditCards': ┆ tary      ┆ 8:0',     │\n",
       "│            ┆            ┆            ┆        ┆   ┆         ┆ …          ┆ Schools…  ┆ 'Tuesd…   │\n",
       "└────────────┴────────────┴────────────┴────────┴───┴─────────┴────────────┴───────────┴───────────┘"
      ]
     },
     "execution_count": 4,
     "metadata": {},
     "output_type": "execute_result"
    }
   ],
   "source": [
    "df.sample()"
   ]
  },
  {
   "cell_type": "code",
   "execution_count": null,
   "id": "51f8fce2",
   "metadata": {},
   "outputs": [],
   "source": [
    "# df.sample(fraction=0.0001)"
   ]
  },
  {
   "cell_type": "code",
   "execution_count": null,
   "id": "be67cbd3",
   "metadata": {},
   "outputs": [],
   "source": [
    "df.sample(n=1, with_replacement=True)"
   ]
  },
  {
   "cell_type": "markdown",
   "id": "6245df80",
   "metadata": {},
   "source": [
    "## <strong style=\"color:#5e17eb\">  Copy the data frame</strong>\n"
   ]
  },
  {
   "cell_type": "code",
   "execution_count": null,
   "id": "b6b6ae91",
   "metadata": {},
   "outputs": [],
   "source": [
    "dff = df.clone()"
   ]
  },
  {
   "cell_type": "markdown",
   "id": "c0865de5",
   "metadata": {},
   "source": [
    "# <strong style=\"color:#5e17eb\"> II. DataFrame Attributes & Methods  </strong>\n"
   ]
  },
  {
   "cell_type": "markdown",
   "id": "f7c7df73",
   "metadata": {},
   "source": [
    "| Pandas              | Polars                |\n",
    "| ------------------- | --------------------- |\n",
    "| `df.shape`          | `df.shape`            |\n",
    "| `df.columns`        | `df.columns`          |\n",
    "| `df.head()`         | `df.head()`           |\n",
    "| `df.tail()`         | `df.tail()`           |\n",
    "| `df.info()`         | `df.describe()`       |\n",
    "| `df.dtypes`         | `df.dtypes`           |\n",
    "| `df.memory_usage()` | `df.estimated_size()` |\n"
   ]
  },
  {
   "cell_type": "markdown",
   "id": "700c6dde",
   "metadata": {},
   "source": [
    "## <strong style=\"color:#5e17eb\"> shape </strong>\n"
   ]
  },
  {
   "cell_type": "code",
   "execution_count": null,
   "id": "32af401d",
   "metadata": {},
   "outputs": [],
   "source": [
    "df.shape"
   ]
  },
  {
   "cell_type": "markdown",
   "id": "628116d5",
   "metadata": {},
   "source": [
    "## <strong style=\"color:#5e17eb\"> columns </strong>\n"
   ]
  },
  {
   "cell_type": "code",
   "execution_count": 1,
   "id": "5e06b3f0",
   "metadata": {},
   "outputs": [
    {
     "ename": "NameError",
     "evalue": "name 'df' is not defined",
     "output_type": "error",
     "traceback": [
      "\u001b[31m---------------------------------------------------------------------------\u001b[39m",
      "\u001b[31mNameError\u001b[39m                                 Traceback (most recent call last)",
      "\u001b[36mCell\u001b[39m\u001b[36m \u001b[39m\u001b[32mIn[1]\u001b[39m\u001b[32m, line 1\u001b[39m\n\u001b[32m----> \u001b[39m\u001b[32m1\u001b[39m \u001b[43mdf\u001b[49m.columns\n",
      "\u001b[31mNameError\u001b[39m: name 'df' is not defined"
     ]
    }
   ],
   "source": [
    "df.columns"
   ]
  },
  {
   "cell_type": "markdown",
   "id": "01f63f5f",
   "metadata": {},
   "source": [
    "## <strong style=\"color:#5e17eb\"> dtypes </strong>\n"
   ]
  },
  {
   "cell_type": "code",
   "execution_count": 2,
   "id": "e46cf48e",
   "metadata": {},
   "outputs": [
    {
     "ename": "NameError",
     "evalue": "name 'df' is not defined",
     "output_type": "error",
     "traceback": [
      "\u001b[31m---------------------------------------------------------------------------\u001b[39m",
      "\u001b[31mNameError\u001b[39m                                 Traceback (most recent call last)",
      "\u001b[36mCell\u001b[39m\u001b[36m \u001b[39m\u001b[32mIn[2]\u001b[39m\u001b[32m, line 1\u001b[39m\n\u001b[32m----> \u001b[39m\u001b[32m1\u001b[39m \u001b[43mdf\u001b[49m.dtypes\n",
      "\u001b[31mNameError\u001b[39m: name 'df' is not defined"
     ]
    }
   ],
   "source": [
    "df.dtypes"
   ]
  },
  {
   "cell_type": "markdown",
   "id": "3f63a13c",
   "metadata": {},
   "source": [
    "- Rather then printing the data types\n",
    "- schema gives the better idea on column & data type \n",
    "- Data type only provides the type not columns \n",
    "- How we know the columns 😆\n"
   ]
  },
  {
   "cell_type": "markdown",
   "id": "0c5293ae",
   "metadata": {},
   "source": [
    "## <strong style=\"color:#5e17eb\"> schema </strong>\n"
   ]
  },
  {
   "cell_type": "markdown",
   "id": "ea15edc1",
   "metadata": {},
   "source": [
    "<strong style=\"color:#5e17eb\"> Schema </strong>\n",
    "- Returns a Python dict showing the column names and their data types.\n",
    "- You are checking the actual structure of your DataFrame at a given moment (especially in eager mode)."
   ]
  },
  {
   "cell_type": "code",
   "execution_count": 3,
   "id": "19b39a3a",
   "metadata": {},
   "outputs": [
    {
     "ename": "NameError",
     "evalue": "name 'df' is not defined",
     "output_type": "error",
     "traceback": [
      "\u001b[31m---------------------------------------------------------------------------\u001b[39m",
      "\u001b[31mNameError\u001b[39m                                 Traceback (most recent call last)",
      "\u001b[36mCell\u001b[39m\u001b[36m \u001b[39m\u001b[32mIn[3]\u001b[39m\u001b[32m, line 1\u001b[39m\n\u001b[32m----> \u001b[39m\u001b[32m1\u001b[39m \u001b[43mdf\u001b[49m.schema\n",
      "\u001b[31mNameError\u001b[39m: name 'df' is not defined"
     ]
    }
   ],
   "source": [
    "df.schema"
   ]
  },
  {
   "cell_type": "markdown",
   "id": "b5adc20f",
   "metadata": {},
   "source": [
    "## <strong style=\"color:#5e17eb\"> collect_schema() </strong>\n"
   ]
  },
  {
   "cell_type": "markdown",
   "id": "60f73a2b",
   "metadata": {},
   "source": [
    "`df.collect_schema()`\n",
    "- As we discussed early we used collect when we are in lary mood \n",
    "- So this functions helps to fetch the schema"
   ]
  },
  {
   "cell_type": "code",
   "execution_count": 4,
   "id": "16d431f6",
   "metadata": {},
   "outputs": [
    {
     "ename": "NameError",
     "evalue": "name 'df' is not defined",
     "output_type": "error",
     "traceback": [
      "\u001b[31m---------------------------------------------------------------------------\u001b[39m",
      "\u001b[31mNameError\u001b[39m                                 Traceback (most recent call last)",
      "\u001b[36mCell\u001b[39m\u001b[36m \u001b[39m\u001b[32mIn[4]\u001b[39m\u001b[32m, line 1\u001b[39m\n\u001b[32m----> \u001b[39m\u001b[32m1\u001b[39m \u001b[43mdf\u001b[49m.collect_schema()\n",
      "\u001b[31mNameError\u001b[39m: name 'df' is not defined"
     ]
    }
   ],
   "source": [
    "df.collect_schema()"
   ]
  },
  {
   "cell_type": "markdown",
   "id": "eafe4076",
   "metadata": {},
   "source": [
    "## <strong style=\"color:#5e17eb\"> match_to_schema </strong>\n"
   ]
  },
  {
   "cell_type": "markdown",
   "id": "fed0fcee",
   "metadata": {},
   "source": [
    "- In operations like `concat`, `join`, or `merging` multiple files, schemas must match.\n",
    "\n",
    "> ❗ match_schema() works at the type and column-name level, not just names."
   ]
  },
  {
   "cell_type": "code",
   "execution_count": null,
   "id": "436a2cb7",
   "metadata": {},
   "outputs": [],
   "source": [
    "df1 = pl.DataFrame({\"a\": [1, 2], \"b\": [\"x\", \"y\"]})\n",
    "df2 = pl.DataFrame({\"a\": [3, 4], \"b\": [\"z\", \"w\"]})\n",
    "\n",
    "print(df1.schema == df2.schema ) \n",
    "print(df1.schema.items() == df2.schema.items()) "
   ]
  },
  {
   "cell_type": "markdown",
   "id": "bc78d452",
   "metadata": {},
   "source": [
    "## <strong style=\"color:#5e17eb\">   head() & tail()</strong>\n"
   ]
  },
  {
   "cell_type": "code",
   "execution_count": null,
   "id": "77494912",
   "metadata": {},
   "outputs": [],
   "source": [
    "df.head()"
   ]
  },
  {
   "cell_type": "code",
   "execution_count": null,
   "id": "98526a62",
   "metadata": {},
   "outputs": [],
   "source": [
    "df.tail()"
   ]
  },
  {
   "cell_type": "markdown",
   "id": "637ac4ab",
   "metadata": {},
   "source": [
    "## <strong style=\"color:#5e17eb\"> describe() </strong>\n"
   ]
  },
  {
   "cell_type": "code",
   "execution_count": null,
   "id": "0828120a",
   "metadata": {},
   "outputs": [],
   "source": [
    "df.describe()"
   ]
  },
  {
   "cell_type": "markdown",
   "id": "89bea85e",
   "metadata": {},
   "source": [
    "## <strong style=\"color:#5e17eb\">  estimated_size() </strong>\n"
   ]
  },
  {
   "cell_type": "code",
   "execution_count": null,
   "id": "756f64ae",
   "metadata": {},
   "outputs": [],
   "source": [
    "df.estimated_size()"
   ]
  },
  {
   "cell_type": "markdown",
   "id": "9e1ba2f1",
   "metadata": {},
   "source": [
    "## <strong style=\"color:#5e17eb\"> null_count </strong>\n"
   ]
  },
  {
   "cell_type": "code",
   "execution_count": null,
   "id": "7da051cd",
   "metadata": {},
   "outputs": [],
   "source": [
    "df.null_count()"
   ]
  },
  {
   "cell_type": "markdown",
   "id": "c770c0ba",
   "metadata": {},
   "source": [
    "## <strong style=\"color:#5e17eb\"> drop() & drop_nulls() & drop_nans() </strong>\n"
   ]
  },
  {
   "cell_type": "markdown",
   "id": "1c75a4f1",
   "metadata": {},
   "source": [
    "| Method            | Drops   | Acts on   | In-place? | Notes                        |\n",
    "| ----------------- | ------- | --------- | --------- | ---------------------------- |\n",
    "| `drop()`          | Columns | Structure | ❌         | Returns new df               |\n",
    "| `drop_in_place()` | Columns | Structure | ✅         | Directly modifies df         |\n",
    "| `drop_nulls()`    | Rows    | Content   | ❌         | Removes rows with any `null` |\n",
    "| `drop_nans()`     | Rows    | Content   | ❌         | Removes rows with any `NaN`  |\n"
   ]
  },
  {
   "cell_type": "markdown",
   "id": "0785215f",
   "metadata": {},
   "source": [
    "## <strong style=\"color:#5e17eb\">corr()  </strong>\n"
   ]
  },
  {
   "cell_type": "code",
   "execution_count": null,
   "id": "7e35254c",
   "metadata": {},
   "outputs": [],
   "source": [
    "# This take time\n",
    "# df.corr()"
   ]
  },
  {
   "cell_type": "markdown",
   "id": "8b9d50bc",
   "metadata": {},
   "source": [
    "## <strong style=\"color:#5e17eb\">  count() </strong>\n"
   ]
  },
  {
   "cell_type": "code",
   "execution_count": 6,
   "id": "e04cf4b0",
   "metadata": {},
   "outputs": [
    {
     "data": {
      "text/html": [
       "<div><style>\n",
       ".dataframe > thead > tr,\n",
       ".dataframe > tbody > tr {\n",
       "  text-align: right;\n",
       "  white-space: pre-wrap;\n",
       "}\n",
       "</style>\n",
       "<small>shape: (1, 14)</small><table border=\"1\" class=\"dataframe\"><thead><tr><th>business_id</th><th>name</th><th>address</th><th>city</th><th>state</th><th>postal_code</th><th>latitude</th><th>longitude</th><th>stars</th><th>review_count</th><th>is_open</th><th>attributes</th><th>categories</th><th>hours</th></tr><tr><td>u32</td><td>u32</td><td>u32</td><td>u32</td><td>u32</td><td>u32</td><td>u32</td><td>u32</td><td>u32</td><td>u32</td><td>u32</td><td>u32</td><td>u32</td><td>u32</td></tr></thead><tbody><tr><td>150346</td><td>150346</td><td>145219</td><td>150346</td><td>150346</td><td>150273</td><td>150346</td><td>150346</td><td>150346</td><td>150346</td><td>150346</td><td>136602</td><td>150243</td><td>127123</td></tr></tbody></table></div>"
      ],
      "text/plain": [
       "shape: (1, 14)\n",
       "┌─────────────┬────────┬─────────┬────────┬───┬─────────┬────────────┬────────────┬────────┐\n",
       "│ business_id ┆ name   ┆ address ┆ city   ┆ … ┆ is_open ┆ attributes ┆ categories ┆ hours  │\n",
       "│ ---         ┆ ---    ┆ ---     ┆ ---    ┆   ┆ ---     ┆ ---        ┆ ---        ┆ ---    │\n",
       "│ u32         ┆ u32    ┆ u32     ┆ u32    ┆   ┆ u32     ┆ u32        ┆ u32        ┆ u32    │\n",
       "╞═════════════╪════════╪═════════╪════════╪═══╪═════════╪════════════╪════════════╪════════╡\n",
       "│ 150346      ┆ 150346 ┆ 145219  ┆ 150346 ┆ … ┆ 150346  ┆ 136602     ┆ 150243     ┆ 127123 │\n",
       "└─────────────┴────────┴─────────┴────────┴───┴─────────┴────────────┴────────────┴────────┘"
      ]
     },
     "execution_count": 6,
     "metadata": {},
     "output_type": "execute_result"
    }
   ],
   "source": [
    "df.count()"
   ]
  },
  {
   "cell_type": "markdown",
   "id": "1a3604b8",
   "metadata": {},
   "source": [
    "## <strong style=\"color:#5e17eb\">  select() & select_seq() </strong>\n"
   ]
  },
  {
   "cell_type": "markdown",
   "id": "b51d5295",
   "metadata": {},
   "source": [
    "- `.select()` → Pick columns or transformations (like SQL SELECT).\n",
    "\n",
    "- `.select_seq()` → Sequential version (executes expressions in order of appearance), useful when later columns depend on earlier ones."
   ]
  },
  {
   "cell_type": "code",
   "execution_count": 7,
   "id": "1f897b8b",
   "metadata": {},
   "outputs": [
    {
     "data": {
      "text/html": [
       "<div><style>\n",
       ".dataframe > thead > tr,\n",
       ".dataframe > tbody > tr {\n",
       "  text-align: right;\n",
       "  white-space: pre-wrap;\n",
       "}\n",
       "</style>\n",
       "<small>shape: (150_346, 1)</small><table border=\"1\" class=\"dataframe\"><thead><tr><th>hours</th></tr><tr><td>str</td></tr></thead><tbody><tr><td>null</td></tr><tr><td>&quot;{&#x27;Monday&#x27;: &#x27;0:0-0:0&#x27;, &#x27;Tuesday…</td></tr><tr><td>&quot;{&#x27;Monday&#x27;: &#x27;8:0-22:0&#x27;, &#x27;Tuesda…</td></tr><tr><td>&quot;{&#x27;Monday&#x27;: &#x27;7:0-20:0&#x27;, &#x27;Tuesda…</td></tr><tr><td>&quot;{&#x27;Wednesday&#x27;: &#x27;14:0-22:0&#x27;, &#x27;Th…</td></tr><tr><td>&hellip;</td></tr><tr><td>&quot;{&#x27;Monday&#x27;: &#x27;10:0-19:30&#x27;, &#x27;Tues…</td></tr><tr><td>&quot;{&#x27;Monday&#x27;: &#x27;9:30-17:30&#x27;, &#x27;Tues…</td></tr><tr><td>null</td></tr><tr><td>&quot;{&#x27;Monday&#x27;: &#x27;9:0-20:0&#x27;, &#x27;Tuesda…</td></tr><tr><td>&quot;{&#x27;Tuesday&#x27;: &#x27;12:0-19:0&#x27;, &#x27;Wedn…</td></tr></tbody></table></div>"
      ],
      "text/plain": [
       "shape: (150_346, 1)\n",
       "┌─────────────────────────────────┐\n",
       "│ hours                           │\n",
       "│ ---                             │\n",
       "│ str                             │\n",
       "╞═════════════════════════════════╡\n",
       "│ null                            │\n",
       "│ {'Monday': '0:0-0:0', 'Tuesday… │\n",
       "│ {'Monday': '8:0-22:0', 'Tuesda… │\n",
       "│ {'Monday': '7:0-20:0', 'Tuesda… │\n",
       "│ {'Wednesday': '14:0-22:0', 'Th… │\n",
       "│ …                               │\n",
       "│ {'Monday': '10:0-19:30', 'Tues… │\n",
       "│ {'Monday': '9:30-17:30', 'Tues… │\n",
       "│ null                            │\n",
       "│ {'Monday': '9:0-20:0', 'Tuesda… │\n",
       "│ {'Tuesday': '12:0-19:0', 'Wedn… │\n",
       "└─────────────────────────────────┘"
      ]
     },
     "execution_count": 7,
     "metadata": {},
     "output_type": "execute_result"
    }
   ],
   "source": [
    "df.select('hours')"
   ]
  },
  {
   "cell_type": "code",
   "execution_count": 11,
   "id": "85cd58d6",
   "metadata": {},
   "outputs": [
    {
     "data": {
      "text/html": [
       "<div><style>\n",
       ".dataframe > thead > tr,\n",
       ".dataframe > tbody > tr {\n",
       "  text-align: right;\n",
       "  white-space: pre-wrap;\n",
       "}\n",
       "</style>\n",
       "<small>shape: (150_346, 2)</small><table border=\"1\" class=\"dataframe\"><thead><tr><th>x</th><th>stars_plus_one</th></tr><tr><td>f64</td><td>f64</td></tr></thead><tbody><tr><td>5.0</td><td>6.0</td></tr><tr><td>3.0</td><td>4.0</td></tr><tr><td>3.5</td><td>4.5</td></tr><tr><td>4.0</td><td>5.0</td></tr><tr><td>4.5</td><td>5.5</td></tr><tr><td>&hellip;</td><td>&hellip;</td></tr><tr><td>3.0</td><td>4.0</td></tr><tr><td>4.0</td><td>5.0</td></tr><tr><td>3.5</td><td>4.5</td></tr><tr><td>4.0</td><td>5.0</td></tr><tr><td>4.5</td><td>5.5</td></tr></tbody></table></div>"
      ],
      "text/plain": [
       "shape: (150_346, 2)\n",
       "┌─────┬────────────────┐\n",
       "│ x   ┆ stars_plus_one │\n",
       "│ --- ┆ ---            │\n",
       "│ f64 ┆ f64            │\n",
       "╞═════╪════════════════╡\n",
       "│ 5.0 ┆ 6.0            │\n",
       "│ 3.0 ┆ 4.0            │\n",
       "│ 3.5 ┆ 4.5            │\n",
       "│ 4.0 ┆ 5.0            │\n",
       "│ 4.5 ┆ 5.5            │\n",
       "│ …   ┆ …              │\n",
       "│ 3.0 ┆ 4.0            │\n",
       "│ 4.0 ┆ 5.0            │\n",
       "│ 3.5 ┆ 4.5            │\n",
       "│ 4.0 ┆ 5.0            │\n",
       "│ 4.5 ┆ 5.5            │\n",
       "└─────┴────────────────┘"
      ]
     },
     "execution_count": 11,
     "metadata": {},
     "output_type": "execute_result"
    }
   ],
   "source": [
    "df.select_seq([\n",
    "    pl.col(\"stars\").alias('x'),\n",
    "    (pl.col(\"stars\") + 1).alias(\"stars_plus_one\")\n",
    "]).select(['x', 'stars_plus_one'])"
   ]
  },
  {
   "cell_type": "markdown",
   "id": "08e7bc3f",
   "metadata": {},
   "source": [
    "> 🔥 Use `.select_seq()` when transformations are step-wise dependent."
   ]
  },
  {
   "cell_type": "markdown",
   "id": "eb2bedf0",
   "metadata": {},
   "source": [
    "## <strong style=\"color:#5e17eb\">  df.serialize()\n",
    " </strong>\n",
    "\n",
    "- Converts the entire DataFrame into raw bytes (for storage or transmission).\n",
    "- Used when saving Polars DataFrames in custom binary formats.\n",
    "- Not for human-readable saving (use .write_parquet() for that)."
   ]
  },
  {
   "cell_type": "code",
   "execution_count": null,
   "id": "2032193f",
   "metadata": {},
   "outputs": [],
   "source": [
    "#df.serialize()"
   ]
  },
  {
   "cell_type": "markdown",
   "id": "5536df07",
   "metadata": {},
   "source": [
    "## <strong style=\"color:#5e17eb\">  df.slice(offset, length) </strong>\n",
    "- offset -> Row index\n",
    "- length -> how may rows"
   ]
  },
  {
   "cell_type": "code",
   "execution_count": 22,
   "id": "2db02af4",
   "metadata": {},
   "outputs": [
    {
     "data": {
      "text/html": [
       "<div><style>\n",
       ".dataframe > thead > tr,\n",
       ".dataframe > tbody > tr {\n",
       "  text-align: right;\n",
       "  white-space: pre-wrap;\n",
       "}\n",
       "</style>\n",
       "<small>shape: (3, 14)</small><table border=\"1\" class=\"dataframe\"><thead><tr><th>business_id</th><th>name</th><th>address</th><th>city</th><th>state</th><th>postal_code</th><th>latitude</th><th>longitude</th><th>stars</th><th>review_count</th><th>is_open</th><th>attributes</th><th>categories</th><th>hours</th></tr><tr><td>str</td><td>str</td><td>str</td><td>str</td><td>str</td><td>str</td><td>f64</td><td>f64</td><td>f64</td><td>i64</td><td>i64</td><td>str</td><td>str</td><td>str</td></tr></thead><tbody><tr><td>&quot;jaxMSoInw8Poo3XeMJt8lQ&quot;</td><td>&quot;Adams Dental&quot;</td><td>&quot;15 N Missouri Ave&quot;</td><td>&quot;Clearwater&quot;</td><td>&quot;FL&quot;</td><td>&quot;33755&quot;</td><td>27.966235</td><td>-82.787412</td><td>5.0</td><td>10</td><td>1</td><td>&quot;{&#x27;ByAppointmentOnly&#x27;: &#x27;True&#x27;}&quot;</td><td>&quot;General Dentistry, Dentists, H…</td><td>&quot;{&#x27;Monday&#x27;: &#x27;7:30-15:30&#x27;, &#x27;Tues…</td></tr><tr><td>&quot;0bPLkL0QhhPO5kt1_EXmNQ&quot;</td><td>&quot;Zio&#x27;s Italian Market&quot;</td><td>&quot;2575 E Bay Dr&quot;</td><td>&quot;Largo&quot;</td><td>&quot;FL&quot;</td><td>&quot;33771&quot;</td><td>27.916116</td><td>-82.760461</td><td>4.5</td><td>100</td><td>0</td><td>&quot;{&#x27;OutdoorSeating&#x27;: &#x27;False&#x27;, &#x27;R…</td><td>&quot;Food, Delis, Italian, Bakeries…</td><td>&quot;{&#x27;Monday&#x27;: &#x27;10:0-18:0&#x27;, &#x27;Tuesd…</td></tr><tr><td>&quot;MUTTqe8uqyMdBl186RmNeA&quot;</td><td>&quot;Tuna Bar&quot;</td><td>&quot;205 Race St&quot;</td><td>&quot;Philadelphia&quot;</td><td>&quot;PA&quot;</td><td>&quot;19106&quot;</td><td>39.953949</td><td>-75.143226</td><td>4.0</td><td>245</td><td>1</td><td>&quot;{&#x27;RestaurantsReservations&#x27;: &#x27;T…</td><td>&quot;Sushi Bars, Restaurants, Japan…</td><td>&quot;{&#x27;Tuesday&#x27;: &#x27;13:30-22:0&#x27;, &#x27;Wed…</td></tr></tbody></table></div>"
      ],
      "text/plain": [
       "shape: (3, 14)\n",
       "┌────────────┬───────────┬───────────┬───────────┬───┬─────────┬───────────┬───────────┬───────────┐\n",
       "│ business_i ┆ name      ┆ address   ┆ city      ┆ … ┆ is_open ┆ attribute ┆ categorie ┆ hours     │\n",
       "│ d          ┆ ---       ┆ ---       ┆ ---       ┆   ┆ ---     ┆ s         ┆ s         ┆ ---       │\n",
       "│ ---        ┆ str       ┆ str       ┆ str       ┆   ┆ i64     ┆ ---       ┆ ---       ┆ str       │\n",
       "│ str        ┆           ┆           ┆           ┆   ┆         ┆ str       ┆ str       ┆           │\n",
       "╞════════════╪═══════════╪═══════════╪═══════════╪═══╪═════════╪═══════════╪═══════════╪═══════════╡\n",
       "│ jaxMSoInw8 ┆ Adams     ┆ 15 N      ┆ Clearwate ┆ … ┆ 1       ┆ {'ByAppoi ┆ General   ┆ {'Monday' │\n",
       "│ Poo3XeMJt8 ┆ Dental    ┆ Missouri  ┆ r         ┆   ┆         ┆ ntmentOnl ┆ Dentistry ┆ : '7:30-1 │\n",
       "│ lQ         ┆           ┆ Ave       ┆           ┆   ┆         ┆ y':       ┆ ,         ┆ 5:30',    │\n",
       "│            ┆           ┆           ┆           ┆   ┆         ┆ 'True'}   ┆ Dentists, ┆ 'Tues…    │\n",
       "│            ┆           ┆           ┆           ┆   ┆         ┆           ┆ H…        ┆           │\n",
       "│ 0bPLkL0Qhh ┆ Zio's     ┆ 2575 E    ┆ Largo     ┆ … ┆ 0       ┆ {'Outdoor ┆ Food,     ┆ {'Monday' │\n",
       "│ PO5kt1_EXm ┆ Italian   ┆ Bay Dr    ┆           ┆   ┆         ┆ Seating': ┆ Delis,    ┆ : '10:0-1 │\n",
       "│ NQ         ┆ Market    ┆           ┆           ┆   ┆         ┆ 'False',  ┆ Italian,  ┆ 8:0',     │\n",
       "│            ┆           ┆           ┆           ┆   ┆         ┆ 'R…       ┆ Bakeries… ┆ 'Tuesd…   │\n",
       "│ MUTTqe8uqy ┆ Tuna Bar  ┆ 205 Race  ┆ Philadelp ┆ … ┆ 1       ┆ {'Restaur ┆ Sushi     ┆ {'Tuesday │\n",
       "│ MdBl186RmN ┆           ┆ St        ┆ hia       ┆   ┆         ┆ antsReser ┆ Bars, Res ┆ ': '13:30 │\n",
       "│ eA         ┆           ┆           ┆           ┆   ┆         ┆ vations': ┆ taurants, ┆ -22:0',   │\n",
       "│            ┆           ┆           ┆           ┆   ┆         ┆ 'T…       ┆ Japan…    ┆ 'Wed…     │\n",
       "└────────────┴───────────┴───────────┴───────────┴───┴─────────┴───────────┴───────────┴───────────┘"
      ]
     },
     "execution_count": 22,
     "metadata": {},
     "output_type": "execute_result"
    }
   ],
   "source": [
    "df.slice(offset=13, length=3)"
   ]
  },
  {
   "cell_type": "markdown",
   "id": "3bbcb16c",
   "metadata": {},
   "source": [
    "## <strong style=\"color:#5e17eb\"> to_series()  </strong>\n"
   ]
  },
  {
   "cell_type": "code",
   "execution_count": 23,
   "id": "68ac208e",
   "metadata": {},
   "outputs": [],
   "source": [
    "#df.to_series()"
   ]
  },
  {
   "cell_type": "markdown",
   "id": "cf02e6d9",
   "metadata": {},
   "source": [
    "## <strong style=\"color:#5e17eb\">  sort() & set_sorted() </strong>\n"
   ]
  },
  {
   "cell_type": "code",
   "execution_count": 28,
   "id": "f28fca47",
   "metadata": {},
   "outputs": [
    {
     "data": {
      "text/html": [
       "<div><style>\n",
       ".dataframe > thead > tr,\n",
       ".dataframe > tbody > tr {\n",
       "  text-align: right;\n",
       "  white-space: pre-wrap;\n",
       "}\n",
       "</style>\n",
       "<small>shape: (150_346, 1)</small><table border=\"1\" class=\"dataframe\"><thead><tr><th>stars</th></tr><tr><td>f64</td></tr></thead><tbody><tr><td>1.0</td></tr><tr><td>1.0</td></tr><tr><td>1.0</td></tr><tr><td>1.0</td></tr><tr><td>1.0</td></tr><tr><td>&hellip;</td></tr><tr><td>5.0</td></tr><tr><td>5.0</td></tr><tr><td>5.0</td></tr><tr><td>5.0</td></tr><tr><td>5.0</td></tr></tbody></table></div>"
      ],
      "text/plain": [
       "shape: (150_346, 1)\n",
       "┌───────┐\n",
       "│ stars │\n",
       "│ ---   │\n",
       "│ f64   │\n",
       "╞═══════╡\n",
       "│ 1.0   │\n",
       "│ 1.0   │\n",
       "│ 1.0   │\n",
       "│ 1.0   │\n",
       "│ 1.0   │\n",
       "│ …     │\n",
       "│ 5.0   │\n",
       "│ 5.0   │\n",
       "│ 5.0   │\n",
       "│ 5.0   │\n",
       "│ 5.0   │\n",
       "└───────┘"
      ]
     },
     "execution_count": 28,
     "metadata": {},
     "output_type": "execute_result"
    }
   ],
   "source": [
    "df.sort(\"stars\").select(['stars'])"
   ]
  },
  {
   "cell_type": "code",
   "execution_count": 25,
   "id": "fcc19d07",
   "metadata": {},
   "outputs": [
    {
     "data": {
      "text/html": [
       "<div><style>\n",
       ".dataframe > thead > tr,\n",
       ".dataframe > tbody > tr {\n",
       "  text-align: right;\n",
       "  white-space: pre-wrap;\n",
       "}\n",
       "</style>\n",
       "<small>shape: (150_346, 1)</small><table border=\"1\" class=\"dataframe\"><thead><tr><th>stars</th></tr><tr><td>f64</td></tr></thead><tbody><tr><td>5.0</td></tr><tr><td>3.0</td></tr><tr><td>3.5</td></tr><tr><td>4.0</td></tr><tr><td>4.5</td></tr><tr><td>&hellip;</td></tr><tr><td>3.0</td></tr><tr><td>4.0</td></tr><tr><td>3.5</td></tr><tr><td>4.0</td></tr><tr><td>4.5</td></tr></tbody></table></div>"
      ],
      "text/plain": [
       "shape: (150_346, 1)\n",
       "┌───────┐\n",
       "│ stars │\n",
       "│ ---   │\n",
       "│ f64   │\n",
       "╞═══════╡\n",
       "│ 5.0   │\n",
       "│ 3.0   │\n",
       "│ 3.5   │\n",
       "│ 4.0   │\n",
       "│ 4.5   │\n",
       "│ …     │\n",
       "│ 3.0   │\n",
       "│ 4.0   │\n",
       "│ 3.5   │\n",
       "│ 4.0   │\n",
       "│ 4.5   │\n",
       "└───────┘"
      ]
     },
     "execution_count": 25,
     "metadata": {},
     "output_type": "execute_result"
    }
   ],
   "source": [
    "df.set_sorted(\"stars\").select(['stars'])"
   ]
  },
  {
   "cell_type": "markdown",
   "id": "11da0a96",
   "metadata": {},
   "source": [
    "| Method                 | Changes Row Order? | Affects Display? | Use Case                  |\n",
    "| ---------------------- | ------------------ | ---------------- | ------------------------- |\n",
    "| `df.sort(\"col\")`       | ✅ Yes              | ✅ Yes            | To reorder data           |\n",
    "| `df.set_sorted(\"col\")` | ❌ No               | ❌ No             | To **optimize** later ops |\n",
    "\n",
    "--\n",
    "\n",
    "> set_sorted(\"col\") is a promise, not an action.\n",
    "> If your data isn’t actually sorted, use .sort(\"col\")."
   ]
  },
  {
   "cell_type": "markdown",
   "id": "3f1f06cb",
   "metadata": {},
   "source": [
    "## <strong style=\"color:#5e17eb\"> df.iter_slices(n_rows)  </strong>\n",
    "\n",
    "- Iterates through the DataFrame in row batches (n_rows at a time).\n",
    "\n",
    "- Great for low memory environments."
   ]
  },
  {
   "cell_type": "code",
   "execution_count": 32,
   "id": "d3975e48",
   "metadata": {},
   "outputs": [
    {
     "name": "stdout",
     "output_type": "stream",
     "text": [
      "shape: (100_000, 14)\n",
      "┌────────────┬───────────┬───────────┬───────────┬───┬─────────┬───────────┬───────────┬───────────┐\n",
      "│ business_i ┆ name      ┆ address   ┆ city      ┆ … ┆ is_open ┆ attribute ┆ categorie ┆ hours     │\n",
      "│ d          ┆ ---       ┆ ---       ┆ ---       ┆   ┆ ---     ┆ s         ┆ s         ┆ ---       │\n",
      "│ ---        ┆ str       ┆ str       ┆ str       ┆   ┆ i64     ┆ ---       ┆ ---       ┆ str       │\n",
      "│ str        ┆           ┆           ┆           ┆   ┆         ┆ str       ┆ str       ┆           │\n",
      "╞════════════╪═══════════╪═══════════╪═══════════╪═══╪═════════╪═══════════╪═══════════╪═══════════╡\n",
      "│ Pns2l4eNsf ┆ Abby Rapp ┆ 1616      ┆ Santa     ┆ … ┆ 0       ┆ {'ByAppoi ┆ Doctors,  ┆ null      │\n",
      "│ O8kk83dixA ┆ oport,    ┆ Chapala   ┆ Barbara   ┆   ┆         ┆ ntmentOnl ┆ Tradition ┆           │\n",
      "│ 6A         ┆ LAC, CMQ  ┆ St, Ste 2 ┆           ┆   ┆         ┆ y':       ┆ al        ┆           │\n",
      "│            ┆           ┆           ┆           ┆   ┆         ┆ 'True'}   ┆ Chinese   ┆           │\n",
      "│            ┆           ┆           ┆           ┆   ┆         ┆           ┆ M…        ┆           │\n",
      "│ mpf3x-BjTd ┆ The UPS   ┆ 87 Grasso ┆ Affton    ┆ … ┆ 1       ┆ {'Busines ┆ Shipping  ┆ {'Monday' │\n",
      "│ TEA3yCZrAY ┆ Store     ┆ Plaza     ┆           ┆   ┆         ┆ sAcceptsC ┆ Centers,  ┆ : '0:0-0: │\n",
      "│ Pw         ┆           ┆ Shopping  ┆           ┆   ┆         ┆ reditCard ┆ Local     ┆ 0',       │\n",
      "│            ┆           ┆ Cente…    ┆           ┆   ┆         ┆ s':…      ┆ Servic…   ┆ 'Tuesday… │\n",
      "│ tUFrWirKiK ┆ Target    ┆ 5255 E    ┆ Tucson    ┆ … ┆ 0       ┆ {'BikePar ┆ Departmen ┆ {'Monday' │\n",
      "│ i_TAnsVWIN ┆           ┆ Broadway  ┆           ┆   ┆         ┆ king':    ┆ t Stores, ┆ : '8:0-22 │\n",
      "│ QQ         ┆           ┆ Blvd      ┆           ┆   ┆         ┆ 'True',   ┆ Shopping, ┆ :0',      │\n",
      "│            ┆           ┆           ┆           ┆   ┆         ┆ 'Busin…   ┆ F…        ┆ 'Tuesda…  │\n",
      "│ MTSW4McQd7 ┆ St Honore ┆ 935 Race  ┆ Philadelp ┆ … ┆ 1       ┆ {'Restaur ┆ Restauran ┆ {'Monday' │\n",
      "│ CbVtyjqoe9 ┆ Pastries  ┆ St        ┆ hia       ┆   ┆         ┆ antsDeliv ┆ ts, Food, ┆ : '7:0-20 │\n",
      "│ mw         ┆           ┆           ┆           ┆   ┆         ┆ ery':     ┆ Bubble    ┆ :0',      │\n",
      "│            ┆           ┆           ┆           ┆   ┆         ┆ 'False…   ┆ Tea,…     ┆ 'Tuesda…  │\n",
      "│ mWMc6_wTdE ┆ Perkiomen ┆ 101       ┆ Green     ┆ … ┆ 1       ┆ {'Busines ┆ Brewpubs, ┆ {'Wednesd │\n",
      "│ 0EUBKIGXDV ┆ Valley    ┆ Walnut St ┆ Lane      ┆   ┆         ┆ sAcceptsC ┆ Breweries ┆ ay': '14: │\n",
      "│ fA         ┆ Brewery   ┆           ┆           ┆   ┆         ┆ reditCard ┆ , Food    ┆ 0-22:0',  │\n",
      "│            ┆           ┆           ┆           ┆   ┆         ┆ s':…      ┆           ┆ 'Th…      │\n",
      "│ …          ┆ …         ┆ …         ┆ …         ┆ … ┆ …       ┆ …         ┆ …         ┆ …         │\n",
      "│ XwEzff2lxc ┆ The Groom ┆ 210       ┆ Nashville ┆ … ┆ 1       ┆ {'Busines ┆ Waxing,   ┆ {'Monday' │\n",
      "│ n2MoWdRaMq ┆ Room      ┆ Louise    ┆           ┆   ┆         ┆ sAcceptsC ┆ Spray     ┆ : '0:0-0: │\n",
      "│ Ug         ┆           ┆ Ave       ┆           ┆   ┆         ┆ reditCard ┆ Tanning,  ┆ 0',       │\n",
      "│            ┆           ┆           ┆           ┆   ┆         ┆ s':…      ┆ Permane…  ┆ 'Tuesday… │\n",
      "│ BjRz_MdoqU ┆ 61Five    ┆ 1913      ┆ Nashville ┆ … ┆ 1       ┆ {'Busines ┆ IV Hydrat ┆ {'Monday' │\n",
      "│ n6FYDsjAqn ┆ Health &  ┆ Church St ┆           ┆   ┆         ┆ sAcceptsC ┆ ion,      ┆ : '0:0-0: │\n",
      "│ 6Q         ┆ Wellness  ┆           ┆           ┆   ┆         ┆ reditCard ┆ Beauty &  ┆ 0',       │\n",
      "│            ┆           ┆           ┆           ┆   ┆         ┆ s':…      ┆ Spas, M…  ┆ 'Tuesday… │\n",
      "│ 2pWRW7ASh_ ┆ Ridge     ┆ 7373      ┆ Philadelp ┆ … ┆ 1       ┆ {'Busines ┆ Real      ┆ {'Monday' │\n",
      "│ Bw5q5V64Lu ┆ Carlton   ┆ Ridge Ave ┆ hia       ┆   ┆         ┆ sAcceptsC ┆ Estate,   ┆ : '9:0-17 │\n",
      "│ uw         ┆ Apartment ┆           ┆           ┆   ┆         ┆ reditCard ┆ Home      ┆ :0',      │\n",
      "│            ┆ s         ┆           ┆           ┆   ┆         ┆ s':…      ┆ Services, ┆ 'Tuesda…  │\n",
      "│            ┆           ┆           ┆           ┆   ┆         ┆           ┆ Ap…       ┆           │\n",
      "│ ccwhUs2fCL ┆ China     ┆ 57 Fenton ┆ Fenton    ┆ … ┆ 0       ┆ {'Restaur ┆ Chinese,  ┆ null      │\n",
      "│ WTQLMa1L_x ┆ Buffet    ┆ Plz       ┆           ┆   ┆         ┆ antsAttir ┆ Restauran ┆           │\n",
      "│ NQ         ┆           ┆           ┆           ┆   ┆         ┆ e':       ┆ ts        ┆           │\n",
      "│            ┆           ┆           ┆           ┆   ┆         ┆ \"u'casua… ┆           ┆           │\n",
      "│ 6bhEQ4Y3qA ┆ Duncan    ┆ 6630 S    ┆ Reno      ┆ … ┆ 1       ┆ {'Accepts ┆ Health &  ┆ {'Monday' │\n",
      "│ JuMxy1xpdJ ┆ Family    ┆ Mccarran  ┆           ┆   ┆         ┆ Insurance ┆ Medical,  ┆ : '0:0-0: │\n",
      "│ nA         ┆ Healthcar ┆ Blvd, Ste ┆           ┆   ┆         ┆ ':        ┆ Weight    ┆ 0',       │\n",
      "│            ┆ e         ┆ 12A       ┆           ┆   ┆         ┆ 'True',   ┆ Loss …    ┆ 'Tuesday… │\n",
      "│            ┆           ┆           ┆           ┆   ┆         ┆ '…        ┆           ┆           │\n",
      "└────────────┴───────────┴───────────┴───────────┴───┴─────────┴───────────┴───────────┴───────────┘\n",
      "shape: (50_346, 14)\n",
      "┌────────────┬───────────┬───────────┬───────────┬───┬─────────┬───────────┬───────────┬───────────┐\n",
      "│ business_i ┆ name      ┆ address   ┆ city      ┆ … ┆ is_open ┆ attribute ┆ categorie ┆ hours     │\n",
      "│ d          ┆ ---       ┆ ---       ┆ ---       ┆   ┆ ---     ┆ s         ┆ s         ┆ ---       │\n",
      "│ ---        ┆ str       ┆ str       ┆ str       ┆   ┆ i64     ┆ ---       ┆ ---       ┆ str       │\n",
      "│ str        ┆           ┆           ┆           ┆   ┆         ┆ str       ┆ str       ┆           │\n",
      "╞════════════╪═══════════╪═══════════╪═══════════╪═══╪═════════╪═══════════╪═══════════╪═══════════╡\n",
      "│ 3npb5kO8xq ┆ Mid-Atlan ┆ 3521 Silv ┆ Wilmingto ┆ … ┆ 1       ┆ {'ByAppoi ┆ Doctors,  ┆ {'Monday' │\n",
      "│ 8TxMN1nOgT ┆ tic Behav ┆ erside    ┆ n         ┆   ┆         ┆ ntmentOnl ┆ Health &  ┆ : '0:0-0: │\n",
      "│ ww         ┆ ioral     ┆ Rd, Ste   ┆           ┆   ┆         ┆ y':       ┆ Medical,  ┆ 0',       │\n",
      "│            ┆ Health    ┆ 2F1 Qu…   ┆           ┆   ┆         ┆ 'True', … ┆ Cou…      ┆ 'Tuesday… │\n",
      "│ grEJZ7iyhU ┆ Villa     ┆ 15        ┆ Santa     ┆ … ┆ 1       ┆ {'WiFi':  ┆ Event     ┆ {'Monday' │\n",
      "│ bF8xuwmFRd ┆ Rosa Inn  ┆ Chapala   ┆ Barbara   ┆   ┆         ┆ \"u'free'\" ┆ Planning  ┆ : '0:0-0: │\n",
      "│ AA         ┆           ┆ St        ┆           ┆   ┆         ┆ , 'Busine ┆ &         ┆ 0',       │\n",
      "│            ┆           ┆           ┆           ┆   ┆         ┆ ssA…      ┆ Services, ┆ 'Tuesday… │\n",
      "│            ┆           ┆           ┆           ┆   ┆         ┆           ┆ Bed…      ┆           │\n",
      "│ z7cqGsL3AM ┆ Visionwor ┆ 34 S      ┆ St Louis  ┆ … ┆ 1       ┆ {'Busines ┆ Optometri ┆ {'Monday' │\n",
      "│ SIHk1AoTFZ ┆ ks South  ┆ County    ┆           ┆   ┆         ┆ sAcceptsC ┆ sts,      ┆ : '10:0-1 │\n",
      "│ MQ         ┆ County    ┆ Center    ┆           ┆   ┆         ┆ reditCard ┆ Fashion,  ┆ 8:30',    │\n",
      "│            ┆ Mall      ┆ Way       ┆           ┆   ┆         ┆ s':…      ┆ Health …  ┆ 'Tues…    │\n",
      "│ n4iXrGYnpf ┆ Gulfport  ┆ 5808 28th ┆ Gulfport  ┆ … ┆ 1       ┆ {'HasTV': ┆ Food,     ┆ {'Tuesday │\n",
      "│ TeR2_y006x ┆ Comfort   ┆ Ave S     ┆           ┆   ┆         ┆ 'True',   ┆ Cafes,    ┆ ': '7:0-1 │\n",
      "│ Pw         ┆ Cafe      ┆           ┆           ┆   ┆         ┆ 'GoodForM ┆ Coffee &  ┆ 4:0',     │\n",
      "│            ┆           ┆           ┆           ┆   ┆         ┆ eal…      ┆ Tea, Bre… ┆ 'Wedne…   │\n",
      "│ BELS5YkYjD ┆ Nourish   ┆ 943 S 9th ┆ Philadelp ┆ … ┆ 1       ┆ {'NoiseLe ┆ Food,     ┆ {'Monday' │\n",
      "│ FkpbM2FuDd ┆           ┆ St        ┆ hia       ┆   ┆         ┆ vel': \"u' ┆ Juice     ┆ : '9:0-22 │\n",
      "│ aA         ┆           ┆           ┆           ┆   ┆         ┆ average'\" ┆ Bars &    ┆ :0',      │\n",
      "│            ┆           ┆           ┆           ┆   ┆         ┆ , '…      ┆ Smoothies ┆ 'Tuesda…  │\n",
      "│            ┆           ┆           ┆           ┆   ┆         ┆           ┆ , …       ┆           │\n",
      "│ …          ┆ …         ┆ …         ┆ …         ┆ … ┆ …       ┆ …         ┆ …         ┆ …         │\n",
      "│ IUQopTMmYQ ┆ Binh's    ┆ 3388      ┆ Edmonton  ┆ … ┆ 1       ┆ {'ByAppoi ┆ Nail      ┆ {'Monday' │\n",
      "│ G-qRtBk-8Q ┆ Nails     ┆ Gateway   ┆           ┆   ┆         ┆ ntmentOnl ┆ Salons,   ┆ : '10:0-1 │\n",
      "│ nA         ┆           ┆ Blvd      ┆           ┆   ┆         ┆ y':       ┆ Beauty &  ┆ 9:30',    │\n",
      "│            ┆           ┆           ┆           ┆   ┆         ┆ 'False',… ┆ Spas      ┆ 'Tues…    │\n",
      "│ c8GjPIOTGV ┆ Wild      ┆ 2813      ┆ Nashville ┆ … ┆ 1       ┆ {'Busines ┆ Pets,     ┆ {'Monday' │\n",
      "│ mIemT7j5_S ┆ Birds     ┆ Bransford ┆           ┆   ┆         ┆ sAcceptsC ┆ Nurseries ┆ : '9:30-1 │\n",
      "│ yQ         ┆ Unlimited ┆ Ave       ┆           ┆   ┆         ┆ reditCard ┆ & Gardeni ┆ 7:30',    │\n",
      "│            ┆           ┆           ┆           ┆   ┆         ┆ s':…      ┆ ng, P…    ┆ 'Tues…    │\n",
      "│ _QAMST-NrQ ┆ Claire's  ┆ 6020 E    ┆ Indianapo ┆ … ┆ 1       ┆ {'Restaur ┆ Shopping, ┆ null      │\n",
      "│ obXduilWEq ┆ Boutique  ┆ 82nd St,  ┆ lis       ┆   ┆         ┆ antsPrice ┆ Jewelry,  ┆           │\n",
      "│ Sw         ┆           ┆ Ste 46    ┆           ┆   ┆         ┆ Range2':  ┆ Piercing, ┆           │\n",
      "│            ┆           ┆           ┆           ┆   ┆         ┆ '1'…      ┆ T…        ┆           │\n",
      "│ mtGm22y5c2 ┆ Cyclery & ┆ 2472 Troy ┆ Edwardsvi ┆ … ┆ 1       ┆ {'Busines ┆ Fitness/E ┆ {'Monday' │\n",
      "│ UHNXDFAjaP ┆ Fitness   ┆ Rd        ┆ lle       ┆   ┆         ┆ sParking' ┆ xercise   ┆ : '9:0-20 │\n",
      "│ Nw         ┆ Center    ┆           ┆           ┆   ┆         ┆ : \"{'gara ┆ Equipment ┆ :0',      │\n",
      "│            ┆           ┆           ┆           ┆   ┆         ┆ ge'…      ┆ , Ey…     ┆ 'Tuesda…  │\n",
      "│ jV_XOycEzS ┆ Sic Ink   ┆ 238       ┆ Apollo    ┆ … ┆ 1       ┆ {'Wheelch ┆ Beauty &  ┆ {'Tuesday │\n",
      "│ lTx-65W906 ┆           ┆ Apollo    ┆ beach     ┆   ┆         ┆ airAccess ┆ Spas,     ┆ ': '12:0- │\n",
      "│ pg         ┆           ┆ Beach     ┆           ┆   ┆         ┆ ible':    ┆ Permanent ┆ 19:0',    │\n",
      "│            ┆           ┆ Blvd      ┆           ┆   ┆         ┆ 'True…    ┆ Makeu…    ┆ 'Wedn…    │\n",
      "└────────────┴───────────┴───────────┴───────────┴───┴─────────┴───────────┴───────────┴───────────┘\n"
     ]
    }
   ],
   "source": [
    "for batch in df.iter_slices(100_000):\n",
    "    print(batch)"
   ]
  },
  {
   "cell_type": "markdown",
   "id": "4c511937",
   "metadata": {},
   "source": [
    "## <strong style=\"color:#5e17eb\"> df.with_columns() & df.with_columns_seq() </strong>\n"
   ]
  },
  {
   "cell_type": "markdown",
   "id": "0f2bcad7",
   "metadata": {},
   "source": [
    "- with_columns() → Add or modify columns.\n",
    "\n",
    "- with_columns_seq() → Like .select_seq(), but for step-dependent column transformations."
   ]
  },
  {
   "cell_type": "code",
   "execution_count": 34,
   "id": "f834353a",
   "metadata": {},
   "outputs": [],
   "source": [
    "dff = df.with_columns([\n",
    "    (pl.col(\"stars\") + 1).alias(\"stars_plus_1\")\n",
    "])\n"
   ]
  },
  {
   "cell_type": "markdown",
   "id": "b5a33b73",
   "metadata": {},
   "source": [
    "# III. <strong style=\"color:#5e17eb\">  Summary </strong>\n",
    "\n",
    "\n",
    "| Function                        | Use Case / Description                         | When & Why to Use                                                        |\n",
    "| ------------------------------- | ---------------------------------------------- | ------------------------------------------------------------------------ |\n",
    "| df.select()                     | Select specific column(s)                      | Extract a subset of columns for faster processing                        |\n",
    "| df.filter()                     | Filter rows based on conditions                | Focus on specific segments of data (e.g. open businesses with ≥ 4 stars) |\n",
    "| df.with\\_columns()              | Add or modify columns                          | Feature engineering, transforming values                                 |\n",
    "| df.drop()                       | Remove column(s)                               | Reduce memory footprint, remove unwanted data                            |\n",
    "| df.take(\\[i, j])                | Take rows by index positions                   | Quick sampling or slicing                                                |\n",
    "| df.row(index)                   | Get a single row as a Python tuple             | Look up a specific record                                                |\n",
    "| df.null\\_count()                | Count of nulls in each column                  | Identify missing values                                                  |\n",
    "| df.describe()                   | Summary stats (mean, std, min, max, etc.)      | EDA: quick overview of numeric columns                                   |\n",
    "| df.estimated\\_size()            | Estimate memory size of the DataFrame          | For RAM usage planning                                                   |\n",
    "| df.n\\_unique()                  | Exact number of unique values per column       | Helpful in categorical columns or key detection                          |\n",
    "| df.approx\\_n\\_unique()          | Approximate unique count (fast for large data) | Faster uniqueness estimate on big datasets                               |\n",
    "| df.bottom\\_k(\"col\", k=5)        | Get rows with the lowest k values in column    | Useful for ranking tasks, outlier detection                              |\n",
    "| df.top\\_k(\"col\", k=5)           | Get rows with the highest k values             | See best-performing businesses, top-rated, etc.                          |\n",
    "| df.schema                       | Returns dict of column names and datatypes     | Validate structure before downstream tasks                               |\n",
    "| df.columns                      | List of all column names                       | Use in loops or programmatic column selection                            |\n",
    "| df.dtypes                       | Data types of each column                      | Check for type mismatches                                                |\n",
    "| df.get\\_column(\"col\")           | Return one column as a Series                  | Useful for column-wise computation                                       |\n",
    "| df.get\\_column\\_index(\"col\")    | Return the integer index of a named column     | Needed for low-level indexing                                            |\n",
    "| df.unique()                     | Return only unique rows                        | Use for deduplication                                                    |\n",
    "| df.corr(\"a\", \"b\")               | Correlation between two numeric columns        | Stars vs. review\\_count, e.g.                                            |\n",
    "| df.mean(), df.max() etc.        | Aggregate calculations                         | Quick summaries                                                          |\n",
    "| df.to\\_pandas()                 | Convert to pandas DataFrame                    | When needed to use pandas-specific tools                                 |\n",
    "| df.clone()                      | Deep copy of a DataFrame                       | To safely modify without affecting original                              |\n",
    "| df.sort(\"col\", descending=True) | Sort by a column                               | Rank data for display                                                    |\n",
    "| df.melt()                       | Wide to long format                            | Reshape data for plotting                                                |\n",
    "| df.explode(\"col\")               | Explode list-like column into multiple rows    | Use for category splitting                                               |\n",
    "| df.rename({\"old\": \"new\"})       | Rename columns                                 | Clean up for consistency                                                 |\n",
    "| df.cast({\"col\": pl.Int64})      | Change data type                               | Convert float to int, string to date, etc.                               |\n",
    "| df.is\\_empty()                  | Check if DataFrame is empty                    | For guarding downstream logic                                            |\n",
    "| df.find\\_idx\\_by\\_name(\"col\")   | Alternative to get\\_column\\_index              | Internal use for indexing                                                |\n",
    "| df.drop\\_nulls()                | Drop any rows with nulls                       | Simple data cleanup                                                      |\n",
    "| df.hash\\_rows()                 | Generate unique hash per row                   | For deduplication or join keys                                           |\n",
    "| df.sample(n=5)                  | Random sample of n rows                        | EDA, previewing                                                          |\n",
    "| df.limit(n)                     | Return first n rows                            | Quick preview                                                            |\n",
    "| df.frame\\_equal(df2)            | Test if two DataFrames are equal               | Unit testing or validation                                               |\n"
   ]
  },
  {
   "cell_type": "markdown",
   "id": "75419d3b",
   "metadata": {},
   "source": [
    "<div style=\"text-align: center;\">\n",
    "  <h4 style=\"\n",
    "    display: inline-block;\n",
    "    color: #5e17eb;\n",
    "    font-family: 'Segoe UI';\n",
    "    border-left: 5px solid #729be8ff;\n",
    "    background-color: #F8F9F9;\n",
    "    padding: 10px 20px;\n",
    "    border-radius: 5px;\n",
    "    text-align: left;\n",
    "  \"><b>\n",
    "    Thank You 💜\n",
    "    </b>\n",
    "  </h4>\n",
    "</div>"
   ]
  }
 ],
 "metadata": {
  "kernelspec": {
   "display_name": "Python 3",
   "language": "python",
   "name": "python3"
  },
  "language_info": {
   "codemirror_mode": {
    "name": "ipython",
    "version": 3
   },
   "file_extension": ".py",
   "mimetype": "text/x-python",
   "name": "python",
   "nbconvert_exporter": "python",
   "pygments_lexer": "ipython3",
   "version": "3.11.9"
  }
 },
 "nbformat": 4,
 "nbformat_minor": 5
}
