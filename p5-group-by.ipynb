{
 "cells": [
  {
   "cell_type": "code",
   "execution_count": 105,
   "id": "a1fa3037",
   "metadata": {},
   "outputs": [],
   "source": [
    "import polars as pl\n",
    "from warnings import filterwarnings\n",
    "\n",
    "filterwarnings('ignore')"
   ]
  },
  {
   "cell_type": "code",
   "execution_count": 106,
   "id": "c3509dfa",
   "metadata": {},
   "outputs": [],
   "source": [
    "df = pl.read_parquet(r\"C:\\Users\\Rudra\\Desktop\\yelp\\parquet-data\\business.parquet\")"
   ]
  },
  {
   "cell_type": "code",
   "execution_count": 107,
   "id": "10010d9c",
   "metadata": {},
   "outputs": [],
   "source": [
    "user_lf = pl.scan_parquet(r\"C:\\Users\\Rudra\\Desktop\\yelp\\parquet-data\\yelp_user.parquet\")"
   ]
  },
  {
   "cell_type": "code",
   "execution_count": 108,
   "id": "8809d5d9",
   "metadata": {},
   "outputs": [
    {
     "data": {
      "text/html": [
       "<div><style>\n",
       ".dataframe > thead > tr,\n",
       ".dataframe > tbody > tr {\n",
       "  text-align: right;\n",
       "  white-space: pre-wrap;\n",
       "}\n",
       "</style>\n",
       "<small>shape: (5, 14)</small><table border=\"1\" class=\"dataframe\"><thead><tr><th>business_id</th><th>name</th><th>address</th><th>city</th><th>state</th><th>postal_code</th><th>latitude</th><th>longitude</th><th>stars</th><th>review_count</th><th>is_open</th><th>attributes</th><th>categories</th><th>hours</th></tr><tr><td>str</td><td>str</td><td>str</td><td>str</td><td>str</td><td>str</td><td>f64</td><td>f64</td><td>f64</td><td>i64</td><td>i64</td><td>str</td><td>str</td><td>str</td></tr></thead><tbody><tr><td>&quot;vADvPGRUDVpVdeprVoidHQ&quot;</td><td>&quot;Panera Bread&quot;</td><td>&quot;7622 Highway 70 S&quot;</td><td>&quot;Nashville&quot;</td><td>&quot;TN&quot;</td><td>&quot;37221&quot;</td><td>36.078712</td><td>-86.949333</td><td>2.0</td><td>42</td><td>1</td><td>&quot;{&#x27;GoodForMeal&#x27;: &quot;{&#x27;dessert&#x27;: F…</td><td>&quot;Restaurants, Salad, Coffee &amp; T…</td><td>&quot;{&#x27;Monday&#x27;: &#x27;6:0-21:0&#x27;, &#x27;Tuesda…</td></tr><tr><td>&quot;g09Ynyo0ci0piXXTYnXOaw&quot;</td><td>&quot;Jiffy Lube&quot;</td><td>&quot;7969 Pendleton Pike&quot;</td><td>&quot;Indianapolis&quot;</td><td>&quot;IN&quot;</td><td>&quot;46226&quot;</td><td>39.835793</td><td>-86.027442</td><td>3.0</td><td>13</td><td>1</td><td>&quot;{&#x27;BusinessAcceptsCreditCards&#x27;:…</td><td>&quot;Automotive, Auto Repair, Winds…</td><td>&quot;{&#x27;Monday&#x27;: &#x27;8:0-19:0&#x27;, &#x27;Tuesda…</td></tr><tr><td>&quot;45tEG1MkycYLfzS80qk_kQ&quot;</td><td>&quot;Bait House Charters&quot;</td><td>&quot;46 Causeway Blvd&quot;</td><td>&quot;Clearwater&quot;</td><td>&quot;FL&quot;</td><td>&quot;33767&quot;</td><td>27.977138</td><td>-82.824562</td><td>5.0</td><td>5</td><td>1</td><td>&quot;{&#x27;BusinessAcceptsCreditCards&#x27;:…</td><td>&quot;Boat Charters, Event Planning …</td><td>null</td></tr><tr><td>&quot;uzfRXzHPFOlXqE863Hjzqg&quot;</td><td>&quot;ABChiropractic Family &amp; Wellne…</td><td>&quot;2201 1st Capitol Dr, Ste 100&quot;</td><td>&quot;Saint Charles&quot;</td><td>&quot;MO&quot;</td><td>&quot;63301&quot;</td><td>38.780998</td><td>-90.508034</td><td>4.0</td><td>8</td><td>1</td><td>&quot;{&#x27;BusinessAcceptsCreditCards&#x27;:…</td><td>&quot;Sports Medicine, Chiropractors…</td><td>&quot;{&#x27;Monday&#x27;: &#x27;8:0-18:30&#x27;, &#x27;Tuesd…</td></tr><tr><td>&quot;3dR5YBWV5jb5yUd9bZGCfA&quot;</td><td>&quot;CVS Pharmacy&quot;</td><td>&quot;2100 66th St N&quot;</td><td>&quot;Saint Petersburg&quot;</td><td>&quot;FL&quot;</td><td>&quot;33710&quot;</td><td>27.790125</td><td>-82.729204</td><td>2.0</td><td>10</td><td>1</td><td>&quot;{&#x27;BusinessParking&#x27;: &quot;{&#x27;garage&#x27;…</td><td>&quot;Drugstores, Convenience Stores…</td><td>&quot;{&#x27;Monday&#x27;: &#x27;7:0-0:0&#x27;, &#x27;Tuesday…</td></tr></tbody></table></div>"
      ],
      "text/plain": [
       "shape: (5, 14)\n",
       "┌────────────┬───────────┬───────────┬───────────┬───┬─────────┬───────────┬───────────┬───────────┐\n",
       "│ business_i ┆ name      ┆ address   ┆ city      ┆ … ┆ is_open ┆ attribute ┆ categorie ┆ hours     │\n",
       "│ d          ┆ ---       ┆ ---       ┆ ---       ┆   ┆ ---     ┆ s         ┆ s         ┆ ---       │\n",
       "│ ---        ┆ str       ┆ str       ┆ str       ┆   ┆ i64     ┆ ---       ┆ ---       ┆ str       │\n",
       "│ str        ┆           ┆           ┆           ┆   ┆         ┆ str       ┆ str       ┆           │\n",
       "╞════════════╪═══════════╪═══════════╪═══════════╪═══╪═════════╪═══════════╪═══════════╪═══════════╡\n",
       "│ vADvPGRUDV ┆ Panera    ┆ 7622      ┆ Nashville ┆ … ┆ 1       ┆ {'GoodFor ┆ Restauran ┆ {'Monday' │\n",
       "│ pVdeprVoid ┆ Bread     ┆ Highway   ┆           ┆   ┆         ┆ Meal':    ┆ ts,       ┆ : '6:0-21 │\n",
       "│ HQ         ┆           ┆ 70 S      ┆           ┆   ┆         ┆ \"{'desser ┆ Salad,    ┆ :0',      │\n",
       "│            ┆           ┆           ┆           ┆   ┆         ┆ t': F…    ┆ Coffee &  ┆ 'Tuesda…  │\n",
       "│            ┆           ┆           ┆           ┆   ┆         ┆           ┆ T…        ┆           │\n",
       "│ g09Ynyo0ci ┆ Jiffy     ┆ 7969      ┆ Indianapo ┆ … ┆ 1       ┆ {'Busines ┆ Automotiv ┆ {'Monday' │\n",
       "│ 0piXXTYnXO ┆ Lube      ┆ Pendleton ┆ lis       ┆   ┆         ┆ sAcceptsC ┆ e, Auto   ┆ : '8:0-19 │\n",
       "│ aw         ┆           ┆ Pike      ┆           ┆   ┆         ┆ reditCard ┆ Repair,   ┆ :0',      │\n",
       "│            ┆           ┆           ┆           ┆   ┆         ┆ s':…      ┆ Winds…    ┆ 'Tuesda…  │\n",
       "│ 45tEG1Mkyc ┆ Bait      ┆ 46        ┆ Clearwate ┆ … ┆ 1       ┆ {'Busines ┆ Boat      ┆ null      │\n",
       "│ YLfzS80qk_ ┆ House     ┆ Causeway  ┆ r         ┆   ┆         ┆ sAcceptsC ┆ Charters, ┆           │\n",
       "│ kQ         ┆ Charters  ┆ Blvd      ┆           ┆   ┆         ┆ reditCard ┆ Event     ┆           │\n",
       "│            ┆           ┆           ┆           ┆   ┆         ┆ s':…      ┆ Planning  ┆           │\n",
       "│            ┆           ┆           ┆           ┆   ┆         ┆           ┆ …         ┆           │\n",
       "│ uzfRXzHPFO ┆ ABChiropr ┆ 2201 1st  ┆ Saint     ┆ … ┆ 1       ┆ {'Busines ┆ Sports    ┆ {'Monday' │\n",
       "│ lXqE863Hjz ┆ actic     ┆ Capitol   ┆ Charles   ┆   ┆         ┆ sAcceptsC ┆ Medicine, ┆ : '8:0-18 │\n",
       "│ qg         ┆ Family &  ┆ Dr, Ste   ┆           ┆   ┆         ┆ reditCard ┆ Chiroprac ┆ :30',     │\n",
       "│            ┆ Wellne…   ┆ 100       ┆           ┆   ┆         ┆ s':…      ┆ tors…     ┆ 'Tuesd…   │\n",
       "│ 3dR5YBWV5j ┆ CVS       ┆ 2100 66th ┆ Saint Pet ┆ … ┆ 1       ┆ {'Busines ┆ Drugstore ┆ {'Monday' │\n",
       "│ b5yUd9bZGC ┆ Pharmacy  ┆ St N      ┆ ersburg   ┆   ┆         ┆ sParking' ┆ s, Conven ┆ : '7:0-0: │\n",
       "│ fA         ┆           ┆           ┆           ┆   ┆         ┆ : \"{'gara ┆ ience     ┆ 0',       │\n",
       "│            ┆           ┆           ┆           ┆   ┆         ┆ ge'…      ┆ Stores…   ┆ 'Tuesday… │\n",
       "└────────────┴───────────┴───────────┴───────────┴───┴─────────┴───────────┴───────────┴───────────┘"
      ]
     },
     "execution_count": 108,
     "metadata": {},
     "output_type": "execute_result"
    }
   ],
   "source": [
    "df.sample(5)"
   ]
  },
  {
   "cell_type": "markdown",
   "id": "066a0c8e",
   "metadata": {},
   "source": [
    "# <strong style=\"color:#5e17eb\"> 1. Common group_by Aggregations </strong>\n"
   ]
  },
  {
   "cell_type": "code",
   "execution_count": 109,
   "id": "ccb41e2f",
   "metadata": {},
   "outputs": [
    {
     "data": {
      "text/plain": [
       "<bound method DataFrame.item of shape: (150_346, 2)\n",
       "┌─────────────┬───────────────┐\n",
       "│ mean_starts ┆ median_starts │\n",
       "│ ---         ┆ ---           │\n",
       "│ f64         ┆ f64           │\n",
       "╞═════════════╪═══════════════╡\n",
       "│ 3.596724    ┆ 3.5           │\n",
       "│ 3.596724    ┆ 3.5           │\n",
       "│ 3.596724    ┆ 3.5           │\n",
       "│ 3.596724    ┆ 3.5           │\n",
       "│ 3.596724    ┆ 3.5           │\n",
       "│ …           ┆ …             │\n",
       "│ 3.596724    ┆ 3.5           │\n",
       "│ 3.596724    ┆ 3.5           │\n",
       "│ 3.596724    ┆ 3.5           │\n",
       "│ 3.596724    ┆ 3.5           │\n",
       "│ 3.596724    ┆ 3.5           │\n",
       "└─────────────┴───────────────┘>"
      ]
     },
     "execution_count": 109,
     "metadata": {},
     "output_type": "execute_result"
    }
   ],
   "source": [
    "df.with_columns([\n",
    "    (pl.col(\"stars\").mean()).alias(\"mean_starts\"),\n",
    "    (pl.col(\"stars\").median()).alias(\"median_starts\"),\n",
    "])[['mean_starts', 'median_starts']].item"
   ]
  },
  {
   "cell_type": "code",
   "execution_count": 110,
   "id": "b6f15aac",
   "metadata": {},
   "outputs": [
    {
     "data": {
      "text/plain": [
       "540753.0"
      ]
     },
     "execution_count": 110,
     "metadata": {},
     "output_type": "execute_result"
    }
   ],
   "source": [
    "df.select(pl.col(\"stars\").sum()).item()"
   ]
  },
  {
   "cell_type": "code",
   "execution_count": 111,
   "id": "0c2b691c",
   "metadata": {},
   "outputs": [
    {
     "data": {
      "text/html": [
       "<div><style>\n",
       ".dataframe > thead > tr,\n",
       ".dataframe > tbody > tr {\n",
       "  text-align: right;\n",
       "  white-space: pre-wrap;\n",
       "}\n",
       "</style>\n",
       "<small>shape: (1, 1)</small><table border=\"1\" class=\"dataframe\"><thead><tr><th>stars</th></tr><tr><td>u32</td></tr></thead><tbody><tr><td>9</td></tr></tbody></table></div>"
      ],
      "text/plain": [
       "shape: (1, 1)\n",
       "┌───────┐\n",
       "│ stars │\n",
       "│ ---   │\n",
       "│ u32   │\n",
       "╞═══════╡\n",
       "│ 9     │\n",
       "└───────┘"
      ]
     },
     "execution_count": 111,
     "metadata": {},
     "output_type": "execute_result"
    }
   ],
   "source": [
    "df.select(pl.col(\"stars\").n_unique())"
   ]
  },
  {
   "cell_type": "code",
   "execution_count": 112,
   "id": "ea20b3dd",
   "metadata": {},
   "outputs": [
    {
     "data": {
      "text/html": [
       "<div><style>\n",
       ".dataframe > thead > tr,\n",
       ".dataframe > tbody > tr {\n",
       "  text-align: right;\n",
       "  white-space: pre-wrap;\n",
       "}\n",
       "</style>\n",
       "<small>shape: (9, 1)</small><table border=\"1\" class=\"dataframe\"><thead><tr><th>stars</th></tr><tr><td>f64</td></tr></thead><tbody><tr><td>1.0</td></tr><tr><td>1.5</td></tr><tr><td>2.0</td></tr><tr><td>2.5</td></tr><tr><td>3.0</td></tr><tr><td>3.5</td></tr><tr><td>4.0</td></tr><tr><td>4.5</td></tr><tr><td>5.0</td></tr></tbody></table></div>"
      ],
      "text/plain": [
       "shape: (9, 1)\n",
       "┌───────┐\n",
       "│ stars │\n",
       "│ ---   │\n",
       "│ f64   │\n",
       "╞═══════╡\n",
       "│ 1.0   │\n",
       "│ 1.5   │\n",
       "│ 2.0   │\n",
       "│ 2.5   │\n",
       "│ 3.0   │\n",
       "│ 3.5   │\n",
       "│ 4.0   │\n",
       "│ 4.5   │\n",
       "│ 5.0   │\n",
       "└───────┘"
      ]
     },
     "execution_count": 112,
     "metadata": {},
     "output_type": "execute_result"
    }
   ],
   "source": [
    "df.select(pl.col(\"stars\").unique())"
   ]
  },
  {
   "cell_type": "markdown",
   "id": "1c06497c",
   "metadata": {},
   "source": [
    "## <strong style=\"color:#5e17eb\"> Summary </strong>\n"
   ]
  },
  {
   "cell_type": "markdown",
   "id": "b5139915",
   "metadata": {},
   "source": [
    "**Common group_by Aggregations**\n",
    "\n",
    "\n",
    "* `pl.count()` → count of rows\n",
    "* `pl.col(\"col\").mean()` → average\n",
    "* `pl.col(\"col\").sum()` → sum\n",
    "* `pl.col(\"col\").n_unique()` → unique count\n",
    "* `pl.col(\"col\").min()`, `pl.col(\"col\").max()` → min/max\n",
    "* `pl.col(\"col\").first()`, `pl.col(\"col\").last()` → first/last row\n",
    "* `pl.col(\"col\").list()` → all values in a list\n",
    "\n"
   ]
  },
  {
   "cell_type": "markdown",
   "id": "0819e8ad",
   "metadata": {},
   "source": [
    "# <strong style=\"color:#5e17eb\"> 2. Basic group_by </strong>\n"
   ]
  },
  {
   "cell_type": "markdown",
   "id": "f2c5f628",
   "metadata": {},
   "source": [
    "## <strong style=\"color:#5e17eb\">  Single Column </strong>"
   ]
  },
  {
   "cell_type": "markdown",
   "id": "c636215a",
   "metadata": {},
   "source": [
    "Find out mean of stars for each city"
   ]
  },
  {
   "cell_type": "code",
   "execution_count": 113,
   "id": "3f1e3569",
   "metadata": {},
   "outputs": [
    {
     "data": {
      "text/html": [
       "<div><style>\n",
       ".dataframe > thead > tr,\n",
       ".dataframe > tbody > tr {\n",
       "  text-align: right;\n",
       "  white-space: pre-wrap;\n",
       "}\n",
       "</style>\n",
       "<small>shape: (1_416, 2)</small><table border=\"1\" class=\"dataframe\"><thead><tr><th>city</th><th>stars_mean</th></tr><tr><td>str</td><td>f64</td></tr></thead><tbody><tr><td>&quot;Westmont - Haddon Towsship&quot;</td><td>3.0</td></tr><tr><td>&quot;River Ridge&quot;</td><td>3.567568</td></tr><tr><td>&quot;Phila&quot;</td><td>3.083333</td></tr><tr><td>&quot;Casas Adobes&quot;</td><td>3.25</td></tr><tr><td>&quot;Kuna&quot;</td><td>3.625</td></tr><tr><td>&hellip;</td><td>&hellip;</td></tr><tr><td>&quot;Pilot Sound Area West Portion&quot;</td><td>1.5</td></tr><tr><td>&quot;Swansea&quot;</td><td>3.37931</td></tr><tr><td>&quot;Bywater&quot;</td><td>4.0</td></tr><tr><td>&quot;Lansdale &quot;</td><td>4.0</td></tr><tr><td>&quot;Feasterville Trevose&quot;</td><td>3.459596</td></tr></tbody></table></div>"
      ],
      "text/plain": [
       "shape: (1_416, 2)\n",
       "┌───────────────────────────────┬────────────┐\n",
       "│ city                          ┆ stars_mean │\n",
       "│ ---                           ┆ ---        │\n",
       "│ str                           ┆ f64        │\n",
       "╞═══════════════════════════════╪════════════╡\n",
       "│ Westmont - Haddon Towsship    ┆ 3.0        │\n",
       "│ River Ridge                   ┆ 3.567568   │\n",
       "│ Phila                         ┆ 3.083333   │\n",
       "│ Casas Adobes                  ┆ 3.25       │\n",
       "│ Kuna                          ┆ 3.625      │\n",
       "│ …                             ┆ …          │\n",
       "│ Pilot Sound Area West Portion ┆ 1.5        │\n",
       "│ Swansea                       ┆ 3.37931    │\n",
       "│ Bywater                       ┆ 4.0        │\n",
       "│ Lansdale                      ┆ 4.0        │\n",
       "│ Feasterville Trevose          ┆ 3.459596   │\n",
       "└───────────────────────────────┴────────────┘"
      ]
     },
     "execution_count": 113,
     "metadata": {},
     "output_type": "execute_result"
    }
   ],
   "source": [
    "df.group_by(\"city\").agg(\n",
    "    (pl.col(\"stars\").mean()).alias(\"stars_mean\"),\n",
    ")"
   ]
  },
  {
   "cell_type": "markdown",
   "id": "7e08c94a",
   "metadata": {},
   "source": [
    "## <strong style=\"color:#5e17eb\">  Multiple Columns </strong>"
   ]
  },
  {
   "cell_type": "code",
   "execution_count": 114,
   "id": "9ca51188",
   "metadata": {},
   "outputs": [
    {
     "data": {
      "text/html": [
       "<div><style>\n",
       ".dataframe > thead > tr,\n",
       ".dataframe > tbody > tr {\n",
       "  text-align: right;\n",
       "  white-space: pre-wrap;\n",
       "}\n",
       "</style>\n",
       "<small>shape: (1_467, 3)</small><table border=\"1\" class=\"dataframe\"><thead><tr><th>state</th><th>city</th><th>stars</th></tr><tr><td>str</td><td>str</td><td>f64</td></tr></thead><tbody><tr><td>&quot;IN&quot;</td><td>&quot;Lawrence Township&quot;</td><td>4.5</td></tr><tr><td>&quot;IL&quot;</td><td>&quot;Scott Air Force Base&quot;</td><td>4.0</td></tr><tr><td>&quot;NJ&quot;</td><td>&quot;West Berlin&quot;</td><td>3.376471</td></tr><tr><td>&quot;IN&quot;</td><td>&quot;Boone&quot;</td><td>3.0</td></tr><tr><td>&quot;DE&quot;</td><td>&quot;Marshallton&quot;</td><td>3.666667</td></tr><tr><td>&hellip;</td><td>&hellip;</td><td>&hellip;</td></tr><tr><td>&quot;CA&quot;</td><td>&quot;West Hill&quot;</td><td>5.0</td></tr><tr><td>&quot;PA&quot;</td><td>&quot;Sanatoga&quot;</td><td>3.666667</td></tr><tr><td>&quot;PA&quot;</td><td>&quot;West Chester PA&quot;</td><td>4.5</td></tr><tr><td>&quot;CA&quot;</td><td>&quot;Cerritos&quot;</td><td>3.0</td></tr><tr><td>&quot;PA&quot;</td><td>&quot;Upper Pottsgrove&quot;</td><td>3.0</td></tr></tbody></table></div>"
      ],
      "text/plain": [
       "shape: (1_467, 3)\n",
       "┌───────┬──────────────────────┬──────────┐\n",
       "│ state ┆ city                 ┆ stars    │\n",
       "│ ---   ┆ ---                  ┆ ---      │\n",
       "│ str   ┆ str                  ┆ f64      │\n",
       "╞═══════╪══════════════════════╪══════════╡\n",
       "│ IN    ┆ Lawrence Township    ┆ 4.5      │\n",
       "│ IL    ┆ Scott Air Force Base ┆ 4.0      │\n",
       "│ NJ    ┆ West Berlin          ┆ 3.376471 │\n",
       "│ IN    ┆ Boone                ┆ 3.0      │\n",
       "│ DE    ┆ Marshallton          ┆ 3.666667 │\n",
       "│ …     ┆ …                    ┆ …        │\n",
       "│ CA    ┆ West Hill            ┆ 5.0      │\n",
       "│ PA    ┆ Sanatoga             ┆ 3.666667 │\n",
       "│ PA    ┆ West Chester PA      ┆ 4.5      │\n",
       "│ CA    ┆ Cerritos             ┆ 3.0      │\n",
       "│ PA    ┆ Upper Pottsgrove     ┆ 3.0      │\n",
       "└───────┴──────────────────────┴──────────┘"
      ]
     },
     "execution_count": 114,
     "metadata": {},
     "output_type": "execute_result"
    }
   ],
   "source": [
    "df.group_by([\"state\", \"city\"]).agg(\n",
    "    pl.col(\"stars\").mean()\n",
    ")"
   ]
  },
  {
   "cell_type": "markdown",
   "id": "f10b3153",
   "metadata": {},
   "source": [
    "## <strong style=\"color:#5e17eb\">Aggregation Functions  </strong>\n",
    "- Mean, sum, count, min, max, median, etc."
   ]
  },
  {
   "cell_type": "code",
   "execution_count": 115,
   "id": "6e1a5dde",
   "metadata": {},
   "outputs": [
    {
     "data": {
      "text/plain": [
       "(34039, 14)"
      ]
     },
     "execution_count": 115,
     "metadata": {},
     "output_type": "execute_result"
    }
   ],
   "source": [
    "df.filter(\n",
    "    pl.col(\"state\") == \"PA\"\n",
    ").shape"
   ]
  },
  {
   "cell_type": "markdown",
   "id": "5818facb",
   "metadata": {},
   "source": [
    "Find out city on the NJ state, with average stars and total review of that city?"
   ]
  },
  {
   "cell_type": "code",
   "execution_count": 116,
   "id": "46d6b299",
   "metadata": {},
   "outputs": [
    {
     "data": {
      "text/html": [
       "<div><style>\n",
       ".dataframe > thead > tr,\n",
       ".dataframe > tbody > tr {\n",
       "  text-align: right;\n",
       "  white-space: pre-wrap;\n",
       "}\n",
       "</style>\n",
       "<small>shape: (239, 4)</small><table border=\"1\" class=\"dataframe\"><thead><tr><th>state</th><th>city</th><th>avg_stars</th><th>total_review</th></tr><tr><td>str</td><td>str</td><td>f64</td><td>i64</td></tr></thead><tbody><tr><td>&quot;NJ&quot;</td><td>&quot;Springfield&quot;</td><td>3.0</td><td>40</td></tr><tr><td>&quot;NJ&quot;</td><td>&quot;Hi Nella&quot;</td><td>1.5</td><td>5</td></tr><tr><td>&quot;NJ&quot;</td><td>&quot;Washington Twp&quot;</td><td>4.0</td><td>15</td></tr><tr><td>&quot;NJ&quot;</td><td>&quot;Titusville&quot;</td><td>4.285714</td><td>336</td></tr><tr><td>&quot;NJ&quot;</td><td>&quot;Southampton Township&quot;</td><td>3.375</td><td>48</td></tr><tr><td>&hellip;</td><td>&hellip;</td><td>&hellip;</td><td>&hellip;</td></tr><tr><td>&quot;NJ&quot;</td><td>&quot;Mickleton&quot;</td><td>4.375</td><td>37</td></tr><tr><td>&quot;NJ&quot;</td><td>&quot;Florence&quot;</td><td>3.625</td><td>209</td></tr><tr><td>&quot;NJ&quot;</td><td>&quot;Sewell&quot;</td><td>3.517699</td><td>5477</td></tr><tr><td>&quot;NJ&quot;</td><td>&quot;Elk Township&quot;</td><td>4.0</td><td>6</td></tr><tr><td>&quot;NJ&quot;</td><td>&quot;Tren&quot;</td><td>3.0</td><td>10</td></tr></tbody></table></div>"
      ],
      "text/plain": [
       "shape: (239, 4)\n",
       "┌───────┬──────────────────────┬───────────┬──────────────┐\n",
       "│ state ┆ city                 ┆ avg_stars ┆ total_review │\n",
       "│ ---   ┆ ---                  ┆ ---       ┆ ---          │\n",
       "│ str   ┆ str                  ┆ f64       ┆ i64          │\n",
       "╞═══════╪══════════════════════╪═══════════╪══════════════╡\n",
       "│ NJ    ┆ Springfield          ┆ 3.0       ┆ 40           │\n",
       "│ NJ    ┆ Hi Nella             ┆ 1.5       ┆ 5            │\n",
       "│ NJ    ┆ Washington Twp       ┆ 4.0       ┆ 15           │\n",
       "│ NJ    ┆ Titusville           ┆ 4.285714  ┆ 336          │\n",
       "│ NJ    ┆ Southampton Township ┆ 3.375     ┆ 48           │\n",
       "│ …     ┆ …                    ┆ …         ┆ …            │\n",
       "│ NJ    ┆ Mickleton            ┆ 4.375     ┆ 37           │\n",
       "│ NJ    ┆ Florence             ┆ 3.625     ┆ 209          │\n",
       "│ NJ    ┆ Sewell               ┆ 3.517699  ┆ 5477         │\n",
       "│ NJ    ┆ Elk Township         ┆ 4.0       ┆ 6            │\n",
       "│ NJ    ┆ Tren                 ┆ 3.0       ┆ 10           │\n",
       "└───────┴──────────────────────┴───────────┴──────────────┘"
      ]
     },
     "execution_count": 116,
     "metadata": {},
     "output_type": "execute_result"
    }
   ],
   "source": [
    "df.filter(pl.col(\"state\") == \"NJ\") \\\n",
    "    .group_by([\"state\", \"city\"]) \\\n",
    "    .agg(\n",
    "        pl.col(\"stars\").mean().alias(\"avg_stars\"),\n",
    "        pl.col(\"review_count\").sum().alias(\"total_review\")\n",
    "    )"
   ]
  },
  {
   "cell_type": "markdown",
   "id": "9e68c5f6",
   "metadata": {},
   "source": [
    "## <strong style=\"color:#5e17eb\">  Multiple Aggregations</strong>"
   ]
  },
  {
   "cell_type": "code",
   "execution_count": 117,
   "id": "6b667a91",
   "metadata": {},
   "outputs": [
    {
     "data": {
      "text/html": [
       "<div><style>\n",
       ".dataframe > thead > tr,\n",
       ".dataframe > tbody > tr {\n",
       "  text-align: right;\n",
       "  white-space: pre-wrap;\n",
       "}\n",
       "</style>\n",
       "<small>shape: (27, 3)</small><table border=\"1\" class=\"dataframe\"><thead><tr><th>state</th><th>mean_stars</th><th>std_stars</th></tr><tr><td>str</td><td>f64</td><td>f64</td></tr></thead><tbody><tr><td>&quot;VT&quot;</td><td>4.5</td><td>null</td></tr><tr><td>&quot;MT&quot;</td><td>5.0</td><td>null</td></tr><tr><td>&quot;TN&quot;</td><td>3.5715</td><td>0.996775</td></tr><tr><td>&quot;DE&quot;</td><td>3.354967</td><td>0.998587</td></tr><tr><td>&quot;IN&quot;</td><td>3.588246</td><td>0.978843</td></tr><tr><td>&hellip;</td><td>&hellip;</td><td>&hellip;</td></tr><tr><td>&quot;CO&quot;</td><td>4.0</td><td>0.5</td></tr><tr><td>&quot;MO&quot;</td><td>3.546092</td><td>0.971096</td></tr><tr><td>&quot;UT&quot;</td><td>4.5</td><td>null</td></tr><tr><td>&quot;NV&quot;</td><td>3.736876</td><td>0.981113</td></tr><tr><td>&quot;MI&quot;</td><td>2.5</td><td>null</td></tr></tbody></table></div>"
      ],
      "text/plain": [
       "shape: (27, 3)\n",
       "┌───────┬────────────┬───────────┐\n",
       "│ state ┆ mean_stars ┆ std_stars │\n",
       "│ ---   ┆ ---        ┆ ---       │\n",
       "│ str   ┆ f64        ┆ f64       │\n",
       "╞═══════╪════════════╪═══════════╡\n",
       "│ VT    ┆ 4.5        ┆ null      │\n",
       "│ MT    ┆ 5.0        ┆ null      │\n",
       "│ TN    ┆ 3.5715     ┆ 0.996775  │\n",
       "│ DE    ┆ 3.354967   ┆ 0.998587  │\n",
       "│ IN    ┆ 3.588246   ┆ 0.978843  │\n",
       "│ …     ┆ …          ┆ …         │\n",
       "│ CO    ┆ 4.0        ┆ 0.5       │\n",
       "│ MO    ┆ 3.546092   ┆ 0.971096  │\n",
       "│ UT    ┆ 4.5        ┆ null      │\n",
       "│ NV    ┆ 3.736876   ┆ 0.981113  │\n",
       "│ MI    ┆ 2.5        ┆ null      │\n",
       "└───────┴────────────┴───────────┘"
      ]
     },
     "execution_count": 117,
     "metadata": {},
     "output_type": "execute_result"
    }
   ],
   "source": [
    "df.group_by(\"state\").agg(\n",
    "    pl.col(\"stars\").mean().alias(\"mean_stars\"),\n",
    "    pl.col(\"stars\").std().alias(\"std_stars\"),\n",
    ")"
   ]
  },
  {
   "cell_type": "markdown",
   "id": "20da3d44",
   "metadata": {},
   "source": [
    "## <strong style=\"color:#5e17eb\">  Multiple Aggregations columns </strong>"
   ]
  },
  {
   "cell_type": "code",
   "execution_count": 118,
   "id": "0e8984e9",
   "metadata": {},
   "outputs": [
    {
     "data": {
      "text/html": [
       "<div><style>\n",
       ".dataframe > thead > tr,\n",
       ".dataframe > tbody > tr {\n",
       "  text-align: right;\n",
       "  white-space: pre-wrap;\n",
       "}\n",
       "</style>\n",
       "<small>shape: (27, 3)</small><table border=\"1\" class=\"dataframe\"><thead><tr><th>state</th><th>stars</th><th>review_count</th></tr><tr><td>str</td><td>f64</td><td>f64</td></tr></thead><tbody><tr><td>&quot;IL&quot;</td><td>3.369697</td><td>23.158974</td></tr><tr><td>&quot;MI&quot;</td><td>2.5</td><td>9.0</td></tr><tr><td>&quot;XMS&quot;</td><td>4.0</td><td>5.0</td></tr><tr><td>&quot;PA&quot;</td><td>3.573019</td><td>45.265431</td></tr><tr><td>&quot;MO&quot;</td><td>3.546092</td><td>44.341336</td></tr><tr><td>&hellip;</td><td>&hellip;</td><td>&hellip;</td></tr><tr><td>&quot;MA&quot;</td><td>1.25</td><td>21.5</td></tr><tr><td>&quot;UT&quot;</td><td>4.5</td><td>19.0</td></tr><tr><td>&quot;VT&quot;</td><td>4.5</td><td>10.0</td></tr><tr><td>&quot;NV&quot;</td><td>3.736876</td><td>53.136747</td></tr><tr><td>&quot;AZ&quot;</td><td>3.59201</td><td>41.630246</td></tr></tbody></table></div>"
      ],
      "text/plain": [
       "shape: (27, 3)\n",
       "┌───────┬──────────┬──────────────┐\n",
       "│ state ┆ stars    ┆ review_count │\n",
       "│ ---   ┆ ---      ┆ ---          │\n",
       "│ str   ┆ f64      ┆ f64          │\n",
       "╞═══════╪══════════╪══════════════╡\n",
       "│ IL    ┆ 3.369697 ┆ 23.158974    │\n",
       "│ MI    ┆ 2.5      ┆ 9.0          │\n",
       "│ XMS   ┆ 4.0      ┆ 5.0          │\n",
       "│ PA    ┆ 3.573019 ┆ 45.265431    │\n",
       "│ MO    ┆ 3.546092 ┆ 44.341336    │\n",
       "│ …     ┆ …        ┆ …            │\n",
       "│ MA    ┆ 1.25     ┆ 21.5         │\n",
       "│ UT    ┆ 4.5      ┆ 19.0         │\n",
       "│ VT    ┆ 4.5      ┆ 10.0         │\n",
       "│ NV    ┆ 3.736876 ┆ 53.136747    │\n",
       "│ AZ    ┆ 3.59201  ┆ 41.630246    │\n",
       "└───────┴──────────┴──────────────┘"
      ]
     },
     "execution_count": 118,
     "metadata": {},
     "output_type": "execute_result"
    }
   ],
   "source": [
    "df.group_by(\"state\").agg(pl.all().mean())['state','stars', 'review_count']"
   ]
  },
  {
   "cell_type": "markdown",
   "id": "3768e7d3",
   "metadata": {},
   "source": [
    "## <strong style=\"color:#5e17eb\"> Summary </strong>\n"
   ]
  },
  {
   "cell_type": "markdown",
   "id": "bb5bd4eb",
   "metadata": {},
   "source": [
    " **Goal: Aggregate data by one or more columns**\n",
    " \n",
    " | **Sub-Topic**                        | **Description**                          | **Example (Yelp)**                                                         |\n",
    "| ------------------------------------ | ---------------------------------------- | -------------------------------------------------------------------------- |\n",
    "| **Single Column**                | Group by one column and summarize        | `df.group_by(\"city\").agg(pl.col(\"stars\").mean())`                           |\n",
    "| **Multiple Columns**             | Group by more than one column            | `df.group_by([\"state\", \"city\"]).agg(pl.col(\"stars\").mean())`                |\n",
    "| **Aggregation Functions**        | Mean, sum, count, min, max, median, etc. | `df.group_by(\"state\").agg(pl.col(\"review_count\").sum())`                    |\n",
    "| **Multiple Aggregations**        | Apply multiple functions to same col     | `df.group_by(\"state\").agg([pl.col(\"stars\").mean(), pl.col(\"stars\").max()])` |\n",
    "| **Aggregating Multiple Columns** | Summary across multiple columns          | `df.group_by(\"state\").agg(pl.all().mean())`                                 |\n"
   ]
  },
  {
   "cell_type": "markdown",
   "id": "900d4900",
   "metadata": {},
   "source": [
    "# <strong style=\"color:#5e17eb\"> 3. group_by with Expressions </strong>\n"
   ]
  },
  {
   "cell_type": "markdown",
   "id": "49a28c1a",
   "metadata": {},
   "source": [
    "## <strong style=\"color:#5e17eb\">Derived Columns in Group  </strong>\n"
   ]
  },
  {
   "cell_type": "code",
   "execution_count": 119,
   "id": "3046f634",
   "metadata": {},
   "outputs": [
    {
     "data": {
      "text/plain": [
       "0"
      ]
     },
     "execution_count": 119,
     "metadata": {},
     "output_type": "execute_result"
    }
   ],
   "source": [
    "# No null value in the review column\n",
    "df.select(pl.col(\"review_count\").is_null().sum()).item()"
   ]
  },
  {
   "cell_type": "code",
   "execution_count": 120,
   "id": "c9199776",
   "metadata": {},
   "outputs": [
    {
     "data": {
      "text/html": [
       "<div><style>\n",
       ".dataframe > thead > tr,\n",
       ".dataframe > tbody > tr {\n",
       "  text-align: right;\n",
       "  white-space: pre-wrap;\n",
       "}\n",
       "</style>\n",
       "<small>shape: (9, 2)</small><table border=\"1\" class=\"dataframe\"><thead><tr><th>statistic</th><th>value</th></tr><tr><td>str</td><td>f64</td></tr></thead><tbody><tr><td>&quot;count&quot;</td><td>150346.0</td></tr><tr><td>&quot;null_count&quot;</td><td>0.0</td></tr><tr><td>&quot;mean&quot;</td><td>44.866561</td></tr><tr><td>&quot;std&quot;</td><td>121.120136</td></tr><tr><td>&quot;min&quot;</td><td>5.0</td></tr><tr><td>&quot;25%&quot;</td><td>8.0</td></tr><tr><td>&quot;50%&quot;</td><td>15.0</td></tr><tr><td>&quot;75%&quot;</td><td>37.0</td></tr><tr><td>&quot;max&quot;</td><td>7568.0</td></tr></tbody></table></div>"
      ],
      "text/plain": [
       "shape: (9, 2)\n",
       "┌────────────┬────────────┐\n",
       "│ statistic  ┆ value      │\n",
       "│ ---        ┆ ---        │\n",
       "│ str        ┆ f64        │\n",
       "╞════════════╪════════════╡\n",
       "│ count      ┆ 150346.0   │\n",
       "│ null_count ┆ 0.0        │\n",
       "│ mean       ┆ 44.866561  │\n",
       "│ std        ┆ 121.120136 │\n",
       "│ min        ┆ 5.0        │\n",
       "│ 25%        ┆ 8.0        │\n",
       "│ 50%        ┆ 15.0       │\n",
       "│ 75%        ┆ 37.0       │\n",
       "│ max        ┆ 7568.0     │\n",
       "└────────────┴────────────┘"
      ]
     },
     "execution_count": 120,
     "metadata": {},
     "output_type": "execute_result"
    }
   ],
   "source": [
    "df['review_count'].describe()"
   ]
  },
  {
   "cell_type": "code",
   "execution_count": 121,
   "id": "92049d0c",
   "metadata": {},
   "outputs": [
    {
     "data": {
      "text/html": [
       "<div><style>\n",
       ".dataframe > thead > tr,\n",
       ".dataframe > tbody > tr {\n",
       "  text-align: right;\n",
       "  white-space: pre-wrap;\n",
       "}\n",
       "</style>\n",
       "<small>shape: (1_416, 4)</small><table border=\"1\" class=\"dataframe\"><thead><tr><th>city</th><th>share</th><th>avg_stars</th><th>review_per_business</th></tr><tr><td>str</td><td>f64</td><td>f64</td><td>f64</td></tr></thead><tbody><tr><td>&quot;Mount Royal&quot;</td><td>0.0</td><td>4.0</td><td>24.0</td></tr><tr><td>&quot;Chestnut Hill&quot;</td><td>0.0</td><td>4.5</td><td>35.7</td></tr><tr><td>&quot;Carney&#x27;s Point&quot;</td><td>0.0</td><td>2.5</td><td>32.0</td></tr><tr><td>&quot;Wilmington &quot;</td><td>0.0</td><td>4.5</td><td>11.0</td></tr><tr><td>&quot;Mt.Juliet&quot;</td><td>0.0</td><td>2.0</td><td>14.0</td></tr><tr><td>&hellip;</td><td>&hellip;</td><td>&hellip;</td><td>&hellip;</td></tr><tr><td>&quot;Bryn Athyn&quot;</td><td>0.0</td><td>4.07</td><td>10.6</td></tr><tr><td>&quot;Cornwells Heights&quot;</td><td>0.0</td><td>2.0</td><td>8.5</td></tr><tr><td>&quot;Charles&quot;</td><td>0.0</td><td>4.0</td><td>7.0</td></tr><tr><td>&quot;Mont Clare&quot;</td><td>0.0</td><td>4.17</td><td>18.3</td></tr><tr><td>&quot;Tampa Florida&quot;</td><td>0.0</td><td>3.75</td><td>23.0</td></tr></tbody></table></div>"
      ],
      "text/plain": [
       "shape: (1_416, 4)\n",
       "┌───────────────────┬───────┬───────────┬─────────────────────┐\n",
       "│ city              ┆ share ┆ avg_stars ┆ review_per_business │\n",
       "│ ---               ┆ ---   ┆ ---       ┆ ---                 │\n",
       "│ str               ┆ f64   ┆ f64       ┆ f64                 │\n",
       "╞═══════════════════╪═══════╪═══════════╪═════════════════════╡\n",
       "│ Mount Royal       ┆ 0.0   ┆ 4.0       ┆ 24.0                │\n",
       "│ Chestnut Hill     ┆ 0.0   ┆ 4.5       ┆ 35.7                │\n",
       "│ Carney's Point    ┆ 0.0   ┆ 2.5       ┆ 32.0                │\n",
       "│ Wilmington        ┆ 0.0   ┆ 4.5       ┆ 11.0                │\n",
       "│ Mt.Juliet         ┆ 0.0   ┆ 2.0       ┆ 14.0                │\n",
       "│ …                 ┆ …     ┆ …         ┆ …                   │\n",
       "│ Bryn Athyn        ┆ 0.0   ┆ 4.07      ┆ 10.6                │\n",
       "│ Cornwells Heights ┆ 0.0   ┆ 2.0       ┆ 8.5                 │\n",
       "│ Charles           ┆ 0.0   ┆ 4.0       ┆ 7.0                 │\n",
       "│ Mont Clare        ┆ 0.0   ┆ 4.17      ┆ 18.3                │\n",
       "│ Tampa Florida     ┆ 0.0   ┆ 3.75      ┆ 23.0                │\n",
       "└───────────────────┴───────┴───────────┴─────────────────────┘"
      ]
     },
     "execution_count": 121,
     "metadata": {},
     "output_type": "execute_result"
    }
   ],
   "source": [
    "total_reviews = df[\"review_count\"].sum()\n",
    "\n",
    "df.group_by(\"city\") \\\n",
    "    .agg([\n",
    "        # Share of reviews (rounded to 2 decimals)\n",
    "        (pl.col(\"review_count\").sum() / total_reviews).round(2).alias(\"share\"),\n",
    "\n",
    "        # Average stars per city\n",
    "        pl.col(\"stars\").mean().round(2).alias(\"avg_stars\"),\n",
    "\n",
    "        # Average reviews per business in the city\n",
    "        (pl.col(\"review_count\").mean().round(1)).alias(\"review_per_business\")\n",
    "    ])\n"
   ]
  },
  {
   "cell_type": "markdown",
   "id": "be485e8b",
   "metadata": {},
   "source": [
    "## <strong style=\"color:#5e17eb\"> Conditional Aggregation </strong>\n"
   ]
  },
  {
   "cell_type": "code",
   "execution_count": 122,
   "id": "738cdef6",
   "metadata": {},
   "outputs": [
    {
     "data": {
      "text/html": [
       "<div><style>\n",
       ".dataframe > thead > tr,\n",
       ".dataframe > tbody > tr {\n",
       "  text-align: right;\n",
       "  white-space: pre-wrap;\n",
       "}\n",
       "</style>\n",
       "<small>shape: (27, 2)</small><table border=\"1\" class=\"dataframe\"><thead><tr><th>state</th><th>open_avg_stars</th></tr><tr><td>str</td><td>f64</td></tr></thead><tbody><tr><td>&quot;SD&quot;</td><td>4.5</td></tr><tr><td>&quot;VI&quot;</td><td>null</td></tr><tr><td>&quot;XMS&quot;</td><td>4.0</td></tr><tr><td>&quot;NC&quot;</td><td>null</td></tr><tr><td>&quot;MA&quot;</td><td>1.25</td></tr><tr><td>&hellip;</td><td>&hellip;</td></tr><tr><td>&quot;CA&quot;</td><td>4.076138</td></tr><tr><td>&quot;IL&quot;</td><td>3.369972</td></tr><tr><td>&quot;ID&quot;</td><td>3.73328</td></tr><tr><td>&quot;LA&quot;</td><td>3.698541</td></tr><tr><td>&quot;UT&quot;</td><td>4.5</td></tr></tbody></table></div>"
      ],
      "text/plain": [
       "shape: (27, 2)\n",
       "┌───────┬────────────────┐\n",
       "│ state ┆ open_avg_stars │\n",
       "│ ---   ┆ ---            │\n",
       "│ str   ┆ f64            │\n",
       "╞═══════╪════════════════╡\n",
       "│ SD    ┆ 4.5            │\n",
       "│ VI    ┆ null           │\n",
       "│ XMS   ┆ 4.0            │\n",
       "│ NC    ┆ null           │\n",
       "│ MA    ┆ 1.25           │\n",
       "│ …     ┆ …              │\n",
       "│ CA    ┆ 4.076138       │\n",
       "│ IL    ┆ 3.369972       │\n",
       "│ ID    ┆ 3.73328        │\n",
       "│ LA    ┆ 3.698541       │\n",
       "│ UT    ┆ 4.5            │\n",
       "└───────┴────────────────┘"
      ]
     },
     "execution_count": 122,
     "metadata": {},
     "output_type": "execute_result"
    }
   ],
   "source": [
    "df.group_by(\"state\").agg(\n",
    "    pl.col(\"stars\")\n",
    "        .filter(pl.col(\"is_open\") == 1)\n",
    "        .mean()\n",
    "        .alias(\"open_avg_stars\")\n",
    ")"
   ]
  },
  {
   "cell_type": "code",
   "execution_count": 123,
   "id": "c7e0f9cc",
   "metadata": {},
   "outputs": [
    {
     "data": {
      "text/html": [
       "<div><style>\n",
       ".dataframe > thead > tr,\n",
       ".dataframe > tbody > tr {\n",
       "  text-align: right;\n",
       "  white-space: pre-wrap;\n",
       "}\n",
       "</style>\n",
       "<small>shape: (24, 2)</small><table border=\"1\" class=\"dataframe\"><thead><tr><th>state</th><th>open_avg_stars</th></tr><tr><td>str</td><td>f64</td></tr></thead><tbody><tr><td>&quot;CA&quot;</td><td>4.076138</td></tr><tr><td>&quot;TX&quot;</td><td>2.875</td></tr><tr><td>&quot;DE&quot;</td><td>3.365892</td></tr><tr><td>&quot;XMS&quot;</td><td>4.0</td></tr><tr><td>&quot;NJ&quot;</td><td>3.470915</td></tr><tr><td>&hellip;</td><td>&hellip;</td></tr><tr><td>&quot;MO&quot;</td><td>3.567261</td></tr><tr><td>&quot;MA&quot;</td><td>1.25</td></tr><tr><td>&quot;PA&quot;</td><td>3.603579</td></tr><tr><td>&quot;VT&quot;</td><td>4.5</td></tr><tr><td>&quot;AZ&quot;</td><td>3.618833</td></tr></tbody></table></div>"
      ],
      "text/plain": [
       "shape: (24, 2)\n",
       "┌───────┬────────────────┐\n",
       "│ state ┆ open_avg_stars │\n",
       "│ ---   ┆ ---            │\n",
       "│ str   ┆ f64            │\n",
       "╞═══════╪════════════════╡\n",
       "│ CA    ┆ 4.076138       │\n",
       "│ TX    ┆ 2.875          │\n",
       "│ DE    ┆ 3.365892       │\n",
       "│ XMS   ┆ 4.0            │\n",
       "│ NJ    ┆ 3.470915       │\n",
       "│ …     ┆ …              │\n",
       "│ MO    ┆ 3.567261       │\n",
       "│ MA    ┆ 1.25           │\n",
       "│ PA    ┆ 3.603579       │\n",
       "│ VT    ┆ 4.5            │\n",
       "│ AZ    ┆ 3.618833       │\n",
       "└───────┴────────────────┘"
      ]
     },
     "execution_count": 123,
     "metadata": {},
     "output_type": "execute_result"
    }
   ],
   "source": [
    "# 2nd way to do this\n",
    "df.filter(pl.col(\"is_open\") == 1) \\\n",
    "    .group_by(\"state\") \\\n",
    "    .agg(\n",
    "        pl.col(\"stars\").mean().alias(\"open_avg_stars\")\n",
    "    )"
   ]
  },
  {
   "cell_type": "markdown",
   "id": "2273cd8d",
   "metadata": {},
   "source": [
    "## <strong style=\"color:#5e17eb\"> Aggregating Unique Values </strong>\n"
   ]
  },
  {
   "cell_type": "code",
   "execution_count": 124,
   "id": "0c766d78",
   "metadata": {},
   "outputs": [
    {
     "data": {
      "text/html": [
       "<div><style>\n",
       ".dataframe > thead > tr,\n",
       ".dataframe > tbody > tr {\n",
       "  text-align: right;\n",
       "  white-space: pre-wrap;\n",
       "}\n",
       "</style>\n",
       "<small>shape: (27, 2)</small><table border=\"1\" class=\"dataframe\"><thead><tr><th>state</th><th>unique_cities</th></tr><tr><td>str</td><td>u32</td></tr></thead><tbody><tr><td>&quot;CA&quot;</td><td>39</td></tr><tr><td>&quot;MA&quot;</td><td>2</td></tr><tr><td>&quot;VI&quot;</td><td>1</td></tr><tr><td>&quot;NV&quot;</td><td>31</td></tr><tr><td>&quot;IN&quot;</td><td>58</td></tr><tr><td>&hellip;</td><td>&hellip;</td></tr><tr><td>&quot;FL&quot;</td><td>226</td></tr><tr><td>&quot;ID&quot;</td><td>24</td></tr><tr><td>&quot;TX&quot;</td><td>4</td></tr><tr><td>&quot;XMS&quot;</td><td>1</td></tr><tr><td>&quot;CO&quot;</td><td>3</td></tr></tbody></table></div>"
      ],
      "text/plain": [
       "shape: (27, 2)\n",
       "┌───────┬───────────────┐\n",
       "│ state ┆ unique_cities │\n",
       "│ ---   ┆ ---           │\n",
       "│ str   ┆ u32           │\n",
       "╞═══════╪═══════════════╡\n",
       "│ CA    ┆ 39            │\n",
       "│ MA    ┆ 2             │\n",
       "│ VI    ┆ 1             │\n",
       "│ NV    ┆ 31            │\n",
       "│ IN    ┆ 58            │\n",
       "│ …     ┆ …             │\n",
       "│ FL    ┆ 226           │\n",
       "│ ID    ┆ 24            │\n",
       "│ TX    ┆ 4             │\n",
       "│ XMS   ┆ 1             │\n",
       "│ CO    ┆ 3             │\n",
       "└───────┴───────────────┘"
      ]
     },
     "execution_count": 124,
     "metadata": {},
     "output_type": "execute_result"
    }
   ],
   "source": [
    "df.group_by(\"state\").agg(\n",
    "    pl.col(\"city\").n_unique().alias(\"unique_cities\")\n",
    ")"
   ]
  },
  {
   "cell_type": "markdown",
   "id": "563944ec",
   "metadata": {},
   "source": [
    "## <strong style=\"color:#5e17eb\"> Summary </strong>\n"
   ]
  },
  {
   "cell_type": "markdown",
   "id": "1b452505",
   "metadata": {},
   "source": [
    "**Goal: Use transformations inside group_by**\n",
    "\n",
    "| **Sub-Topic**                     | **Description**                          | **Example (Yelp)**                                                                                       |\n",
    "| --------------------------------- | ---------------------------------------- | -------------------------------------------------------------------------------------------------------- |\n",
    "| **Derived Columns in Group**  | Create calculated metrics inside group_by | `df.group_by(\"city\").agg((pl.col(\"review_count\") / pl.col(\"review_count\").sum()).alias(\"share\"))`         |\n",
    "| **Conditional Aggregation**   | Aggregate only subset of data            | `df.group_by(\"state\").agg(pl.col(\"stars\").filter(pl.col(\"is_open\") == 1).mean().alias(\"open_avg_stars\"))` |\n",
    "| **Aggregating Unique Values** | Count distinct entries                   | `df.group_by(\"state\").agg(pl.col(\"city\").n_unique().alias(\"unique_cities\"))`                              |\n"
   ]
  },
  {
   "cell_type": "markdown",
   "id": "4faf0923",
   "metadata": {},
   "source": [
    "# <strong style=\"color:#5e17eb\">  4. group_by with `group_by_dynamic`</strong>\n",
    "\n",
    "- In this notebook we only focused on the *group_by_dynamic* works \n",
    "- In this **Polars Series** we discussed the date & time properly\n",
    "- Before applying the functions always sort the values\n",
    "\n",
    "- https://docs.pola.rs/api/python/stable/reference/dataframe/api/polars.DataFrame.group_by_dynamic.html\n",
    "\n"
   ]
  },
  {
   "cell_type": "markdown",
   "id": "d3d4f971",
   "metadata": {},
   "source": [
    "## <strong style=\"color:#5e17eb\">  Date/Time Based </strong>\n",
    "\n",
    "- For data and time we used yelp_user dataset\n",
    "- First casting the data type"
   ]
  },
  {
   "cell_type": "code",
   "execution_count": 125,
   "id": "5c3af98b",
   "metadata": {},
   "outputs": [
    {
     "data": {
      "text/html": [
       "<div><style>\n",
       ".dataframe > thead > tr,\n",
       ".dataframe > tbody > tr {\n",
       "  text-align: right;\n",
       "  white-space: pre-wrap;\n",
       "}\n",
       "</style>\n",
       "<small>shape: (1, 1)</small><table border=\"1\" class=\"dataframe\"><thead><tr><th>yelping_since</th></tr><tr><td>str</td></tr></thead><tbody><tr><td>&quot;2007-01-25 16:47:26&quot;</td></tr></tbody></table></div>"
      ],
      "text/plain": [
       "shape: (1, 1)\n",
       "┌─────────────────────┐\n",
       "│ yelping_since       │\n",
       "│ ---                 │\n",
       "│ str                 │\n",
       "╞═════════════════════╡\n",
       "│ 2007-01-25 16:47:26 │\n",
       "└─────────────────────┘"
      ]
     },
     "execution_count": 125,
     "metadata": {},
     "output_type": "execute_result"
    }
   ],
   "source": [
    "user_lf.select(\"yelping_since\").limit(1).collect()"
   ]
  },
  {
   "cell_type": "code",
   "execution_count": 126,
   "id": "8ab05155",
   "metadata": {},
   "outputs": [],
   "source": [
    "user_lf = user_lf.with_columns(\n",
    "    pl.col(\"yelping_since\").str.strptime(pl.Datetime, format=\"%Y-%m-%d %H:%M:%S\")\n",
    ")"
   ]
  },
  {
   "cell_type": "code",
   "execution_count": 127,
   "id": "603d83ce",
   "metadata": {},
   "outputs": [
    {
     "data": {
      "text/html": [
       "<div><style>\n",
       ".dataframe > thead > tr,\n",
       ".dataframe > tbody > tr {\n",
       "  text-align: right;\n",
       "  white-space: pre-wrap;\n",
       "}\n",
       "</style>\n",
       "<small>shape: (3, 1)</small><table border=\"1\" class=\"dataframe\"><thead><tr><th>yelping_since</th></tr><tr><td>datetime[μs]</td></tr></thead><tbody><tr><td>2007-01-25 16:47:26</td></tr><tr><td>2009-01-25 04:35:42</td></tr><tr><td>2008-07-25 10:41:00</td></tr></tbody></table></div>"
      ],
      "text/plain": [
       "shape: (3, 1)\n",
       "┌─────────────────────┐\n",
       "│ yelping_since       │\n",
       "│ ---                 │\n",
       "│ datetime[μs]        │\n",
       "╞═════════════════════╡\n",
       "│ 2007-01-25 16:47:26 │\n",
       "│ 2009-01-25 04:35:42 │\n",
       "│ 2008-07-25 10:41:00 │\n",
       "└─────────────────────┘"
      ]
     },
     "execution_count": 127,
     "metadata": {},
     "output_type": "execute_result"
    }
   ],
   "source": [
    "user_lf.select(\"yelping_since\").limit(3).collect()"
   ]
  },
  {
   "cell_type": "code",
   "execution_count": 128,
   "id": "e8a6de9b",
   "metadata": {},
   "outputs": [
    {
     "data": {
      "text/html": [
       "<div><style>\n",
       ".dataframe > thead > tr,\n",
       ".dataframe > tbody > tr {\n",
       "  text-align: right;\n",
       "  white-space: pre-wrap;\n",
       "}\n",
       "</style>\n",
       "<small>shape: (19, 3)</small><table border=\"1\" class=\"dataframe\"><thead><tr><th>yelping_since</th><th>total_reviews</th><th>user_count</th></tr><tr><td>datetime[μs]</td><td>i64</td><td>u32</td></tr></thead><tbody><tr><td>2004-01-01 00:00:00</td><td>14577</td><td>90</td></tr><tr><td>2005-01-01 00:00:00</td><td>226005</td><td>937</td></tr><tr><td>2006-01-01 00:00:00</td><td>920176</td><td>5423</td></tr><tr><td>2007-01-01 00:00:00</td><td>2011487</td><td>15340</td></tr><tr><td>2008-01-01 00:00:00</td><td>3162898</td><td>31097</td></tr><tr><td>&hellip;</td><td>&hellip;</td><td>&hellip;</td></tr><tr><td>2018-01-01 00:00:00</td><td>938027</td><td>133568</td></tr><tr><td>2019-01-01 00:00:00</td><td>559500</td><td>104655</td></tr><tr><td>2020-01-01 00:00:00</td><td>197284</td><td>47444</td></tr><tr><td>2021-01-01 00:00:00</td><td>112349</td><td>40485</td></tr><tr><td>2022-01-01 00:00:00</td><td>3723</td><td>2782</td></tr></tbody></table></div>"
      ],
      "text/plain": [
       "shape: (19, 3)\n",
       "┌─────────────────────┬───────────────┬────────────┐\n",
       "│ yelping_since       ┆ total_reviews ┆ user_count │\n",
       "│ ---                 ┆ ---           ┆ ---        │\n",
       "│ datetime[μs]        ┆ i64           ┆ u32        │\n",
       "╞═════════════════════╪═══════════════╪════════════╡\n",
       "│ 2004-01-01 00:00:00 ┆ 14577         ┆ 90         │\n",
       "│ 2005-01-01 00:00:00 ┆ 226005        ┆ 937        │\n",
       "│ 2006-01-01 00:00:00 ┆ 920176        ┆ 5423       │\n",
       "│ 2007-01-01 00:00:00 ┆ 2011487       ┆ 15340      │\n",
       "│ 2008-01-01 00:00:00 ┆ 3162898       ┆ 31097      │\n",
       "│ …                   ┆ …             ┆ …          │\n",
       "│ 2018-01-01 00:00:00 ┆ 938027        ┆ 133568     │\n",
       "│ 2019-01-01 00:00:00 ┆ 559500        ┆ 104655     │\n",
       "│ 2020-01-01 00:00:00 ┆ 197284        ┆ 47444      │\n",
       "│ 2021-01-01 00:00:00 ┆ 112349        ┆ 40485      │\n",
       "│ 2022-01-01 00:00:00 ┆ 3723          ┆ 2782       │\n",
       "└─────────────────────┴───────────────┴────────────┘"
      ]
     },
     "execution_count": 128,
     "metadata": {},
     "output_type": "execute_result"
    }
   ],
   "source": [
    "user_lf \\\n",
    "    .sort(\"yelping_since\") \\\n",
    "    .group_by_dynamic(\n",
    "        index_column=\"yelping_since\",\n",
    "        every='1y'\n",
    "    ).agg(\n",
    "        pl.col(\"review_count\").sum().alias(\"total_reviews\"),\n",
    "        pl.count().alias(\"user_count\")\n",
    "    ).collect()"
   ]
  },
  {
   "cell_type": "markdown",
   "id": "9896b9bd",
   "metadata": {},
   "source": [
    "## <strong style=\"color:#5e17eb\"> Rolling Windows </strong>\n"
   ]
  },
  {
   "cell_type": "code",
   "execution_count": 129,
   "id": "fc39be02",
   "metadata": {},
   "outputs": [
    {
     "data": {
      "text/html": [
       "<div><style>\n",
       ".dataframe > thead > tr,\n",
       ".dataframe > tbody > tr {\n",
       "  text-align: right;\n",
       "  white-space: pre-wrap;\n",
       "}\n",
       "</style>\n",
       "<small>shape: (36, 3)</small><table border=\"1\" class=\"dataframe\"><thead><tr><th>yelping_since</th><th>rolling_total_review</th><th>user_in_window_of_6mo</th></tr><tr><td>datetime[μs]</td><td>i64</td><td>u32</td></tr></thead><tbody><tr><td>2004-07-01 00:00:00</td><td>576918</td><td>2807</td></tr><tr><td>2005-01-01 00:00:00</td><td>1146181</td><td>6360</td></tr><tr><td>2005-07-01 00:00:00</td><td>2012149</td><td>12598</td></tr><tr><td>2006-01-01 00:00:00</td><td>2931663</td><td>20763</td></tr><tr><td>2006-07-01 00:00:00</td><td>4065775</td><td>31722</td></tr><tr><td>&hellip;</td><td>&hellip;</td><td>&hellip;</td></tr><tr><td>2020-01-01 00:00:00</td><td>309633</td><td>87929</td></tr><tr><td>2020-07-01 00:00:00</td><td>217676</td><td>67300</td></tr><tr><td>2021-01-01 00:00:00</td><td>116072</td><td>43267</td></tr><tr><td>2021-07-01 00:00:00</td><td>43515</td><td>20977</td></tr><tr><td>2022-01-01 00:00:00</td><td>3723</td><td>2782</td></tr></tbody></table></div>"
      ],
      "text/plain": [
       "shape: (36, 3)\n",
       "┌─────────────────────┬──────────────────────┬───────────────────────┐\n",
       "│ yelping_since       ┆ rolling_total_review ┆ user_in_window_of_6mo │\n",
       "│ ---                 ┆ ---                  ┆ ---                   │\n",
       "│ datetime[μs]        ┆ i64                  ┆ u32                   │\n",
       "╞═════════════════════╪══════════════════════╪═══════════════════════╡\n",
       "│ 2004-07-01 00:00:00 ┆ 576918               ┆ 2807                  │\n",
       "│ 2005-01-01 00:00:00 ┆ 1146181              ┆ 6360                  │\n",
       "│ 2005-07-01 00:00:00 ┆ 2012149              ┆ 12598                 │\n",
       "│ 2006-01-01 00:00:00 ┆ 2931663              ┆ 20763                 │\n",
       "│ 2006-07-01 00:00:00 ┆ 4065775              ┆ 31722                 │\n",
       "│ …                   ┆ …                    ┆ …                     │\n",
       "│ 2020-01-01 00:00:00 ┆ 309633               ┆ 87929                 │\n",
       "│ 2020-07-01 00:00:00 ┆ 217676               ┆ 67300                 │\n",
       "│ 2021-01-01 00:00:00 ┆ 116072               ┆ 43267                 │\n",
       "│ 2021-07-01 00:00:00 ┆ 43515                ┆ 20977                 │\n",
       "│ 2022-01-01 00:00:00 ┆ 3723                 ┆ 2782                  │\n",
       "└─────────────────────┴──────────────────────┴───────────────────────┘"
      ]
     },
     "execution_count": 129,
     "metadata": {},
     "output_type": "execute_result"
    }
   ],
   "source": [
    "user_lf \\\n",
    "    .sort(\"yelping_since\") \\\n",
    "    .group_by_dynamic(\n",
    "        index_column=\"yelping_since\",\n",
    "        every='6mo',\n",
    "        period='2y',\n",
    "    ).agg([\n",
    "        pl.col(\"review_count\").sum().alias(\"rolling_total_review\"),\n",
    "        pl.count().alias(\"user_in_window_of_6mo\"),\n",
    "    ]).collect()"
   ]
  },
  {
   "cell_type": "markdown",
   "id": "59c7d479",
   "metadata": {},
   "source": [
    "## <strong style=\"color:#5e17eb\"> Summary </strong>\n"
   ]
  },
  {
   "cell_type": "markdown",
   "id": "94ce933f",
   "metadata": {},
   "source": [
    "**Goal: Time-based or range-based grouping**\n",
    "\n",
    "\n",
    "| **Sub-Topic**               | **Description**                             | **Example (Yelp)**                                                              |\n",
    "| --------------------------- | ------------------------------------------- | ------------------------------------------------------------------------------- |\n",
    "| **Date/Time Based**     | Aggregate per fixed time windows            | `df.group_by_dynamic(\"date_col\", every=\"1mo\").agg(pl.col(\"review_count\").sum())` |\n",
    "| **Rolling Windows**     | Use rolling intervals                       | `df.group_by_dynamic(\"date_col\", every=\"7d\", period=\"7d\").agg(...)`              |\n",
    "\n"
   ]
  },
  {
   "cell_type": "markdown",
   "id": "ef6376e5",
   "metadata": {},
   "source": [
    "# <strong style=\"color:#5e17eb\"> 5. group_by Advanced Methods  </strong>\n"
   ]
  },
  {
   "cell_type": "markdown",
   "id": "44e103f9",
   "metadata": {},
   "source": [
    "## <strong style=\"color:#5e17eb\">  `.over()` Window Functions</strong>\n"
   ]
  },
  {
   "cell_type": "code",
   "execution_count": 130,
   "id": "f2712ec1",
   "metadata": {},
   "outputs": [
    {
     "data": {
      "text/plain": [
       "27"
      ]
     },
     "execution_count": 130,
     "metadata": {},
     "output_type": "execute_result"
    }
   ],
   "source": [
    "df['state'].n_unique()"
   ]
  },
  {
   "cell_type": "code",
   "execution_count": 131,
   "id": "abeb5710",
   "metadata": {},
   "outputs": [
    {
     "data": {
      "text/html": [
       "<div><style>\n",
       ".dataframe > thead > tr,\n",
       ".dataframe > tbody > tr {\n",
       "  text-align: right;\n",
       "  white-space: pre-wrap;\n",
       "}\n",
       "</style>\n",
       "<small>shape: (150_346, 3)</small><table border=\"1\" class=\"dataframe\"><thead><tr><th>state</th><th>stars</th><th>state_avg</th></tr><tr><td>str</td><td>f64</td><td>f64</td></tr></thead><tbody><tr><td>&quot;CA&quot;</td><td>5.0</td><td>3.996733</td></tr><tr><td>&quot;MO&quot;</td><td>3.0</td><td>3.546092</td></tr><tr><td>&quot;AZ&quot;</td><td>3.5</td><td>3.59201</td></tr><tr><td>&quot;PA&quot;</td><td>4.0</td><td>3.573019</td></tr><tr><td>&quot;PA&quot;</td><td>4.5</td><td>3.573019</td></tr><tr><td>&hellip;</td><td>&hellip;</td><td>&hellip;</td></tr><tr><td>&quot;AB&quot;</td><td>3.0</td><td>3.447515</td></tr><tr><td>&quot;TN&quot;</td><td>4.0</td><td>3.5715</td></tr><tr><td>&quot;IN&quot;</td><td>3.5</td><td>3.588246</td></tr><tr><td>&quot;IL&quot;</td><td>4.0</td><td>3.369697</td></tr><tr><td>&quot;FL&quot;</td><td>4.5</td><td>3.610957</td></tr></tbody></table></div>"
      ],
      "text/plain": [
       "shape: (150_346, 3)\n",
       "┌───────┬───────┬───────────┐\n",
       "│ state ┆ stars ┆ state_avg │\n",
       "│ ---   ┆ ---   ┆ ---       │\n",
       "│ str   ┆ f64   ┆ f64       │\n",
       "╞═══════╪═══════╪═══════════╡\n",
       "│ CA    ┆ 5.0   ┆ 3.996733  │\n",
       "│ MO    ┆ 3.0   ┆ 3.546092  │\n",
       "│ AZ    ┆ 3.5   ┆ 3.59201   │\n",
       "│ PA    ┆ 4.0   ┆ 3.573019  │\n",
       "│ PA    ┆ 4.5   ┆ 3.573019  │\n",
       "│ …     ┆ …     ┆ …         │\n",
       "│ AB    ┆ 3.0   ┆ 3.447515  │\n",
       "│ TN    ┆ 4.0   ┆ 3.5715    │\n",
       "│ IN    ┆ 3.5   ┆ 3.588246  │\n",
       "│ IL    ┆ 4.0   ┆ 3.369697  │\n",
       "│ FL    ┆ 4.5   ┆ 3.610957  │\n",
       "└───────┴───────┴───────────┘"
      ]
     },
     "execution_count": 131,
     "metadata": {},
     "output_type": "execute_result"
    }
   ],
   "source": [
    "df.with_columns(\n",
    "    pl.col(\"stars\").mean().over(\"state\").alias(\"state_avg\")\n",
    ")['state','stars', 'state_avg']"
   ]
  },
  {
   "cell_type": "markdown",
   "id": "08faeed3",
   "metadata": {},
   "source": [
    "## <strong style=\"color:#5e17eb\"> Sorting Inside Groups </strong>\n"
   ]
  },
  {
   "cell_type": "code",
   "execution_count": 132,
   "id": "e190930f",
   "metadata": {},
   "outputs": [
    {
     "data": {
      "text/html": [
       "<div><style>\n",
       ".dataframe > thead > tr,\n",
       ".dataframe > tbody > tr {\n",
       "  text-align: right;\n",
       "  white-space: pre-wrap;\n",
       "}\n",
       "</style>\n",
       "<small>shape: (27, 2)</small><table border=\"1\" class=\"dataframe\"><thead><tr><th>state</th><th>avg_review_count</th></tr><tr><td>str</td><td>f64</td></tr></thead><tbody><tr><td>&quot;LA&quot;</td><td>74.886739</td></tr><tr><td>&quot;CA&quot;</td><td>65.277148</td></tr><tr><td>&quot;NV&quot;</td><td>53.136747</td></tr><tr><td>&quot;TN&quot;</td><td>49.618033</td></tr><tr><td>&quot;PA&quot;</td><td>45.265431</td></tr><tr><td>&hellip;</td><td>&hellip;</td></tr><tr><td>&quot;WA&quot;</td><td>9.5</td></tr><tr><td>&quot;MI&quot;</td><td>9.0</td></tr><tr><td>&quot;TX&quot;</td><td>8.25</td></tr><tr><td>&quot;MT&quot;</td><td>6.0</td></tr><tr><td>&quot;XMS&quot;</td><td>5.0</td></tr></tbody></table></div>"
      ],
      "text/plain": [
       "shape: (27, 2)\n",
       "┌───────┬──────────────────┐\n",
       "│ state ┆ avg_review_count │\n",
       "│ ---   ┆ ---              │\n",
       "│ str   ┆ f64              │\n",
       "╞═══════╪══════════════════╡\n",
       "│ LA    ┆ 74.886739        │\n",
       "│ CA    ┆ 65.277148        │\n",
       "│ NV    ┆ 53.136747        │\n",
       "│ TN    ┆ 49.618033        │\n",
       "│ PA    ┆ 45.265431        │\n",
       "│ …     ┆ …                │\n",
       "│ WA    ┆ 9.5              │\n",
       "│ MI    ┆ 9.0              │\n",
       "│ TX    ┆ 8.25             │\n",
       "│ MT    ┆ 6.0              │\n",
       "│ XMS   ┆ 5.0              │\n",
       "└───────┴──────────────────┘"
      ]
     },
     "execution_count": 132,
     "metadata": {},
     "output_type": "execute_result"
    }
   ],
   "source": [
    "df.group_by(\"state\").agg(\n",
    "    pl.col(\"review_count\").mean().alias(\"avg_review_count\")\n",
    ").sort(\"avg_review_count\", descending=True)  \n"
   ]
  },
  {
   "cell_type": "markdown",
   "id": "70f9b9b9",
   "metadata": {},
   "source": [
    "## <strong style=\"color:#5e17eb\"> Keep First/Last in Groups </strong>\n"
   ]
  },
  {
   "cell_type": "code",
   "execution_count": 133,
   "id": "727c1446",
   "metadata": {},
   "outputs": [
    {
     "data": {
      "text/html": [
       "<div><style>\n",
       ".dataframe > thead > tr,\n",
       ".dataframe > tbody > tr {\n",
       "  text-align: right;\n",
       "  white-space: pre-wrap;\n",
       "}\n",
       "</style>\n",
       "<small>shape: (4, 2)</small><table border=\"1\" class=\"dataframe\"><thead><tr><th>state</th><th>stars</th></tr><tr><td>str</td><td>f64</td></tr></thead><tbody><tr><td>&quot;AB&quot;</td><td>3.447515</td></tr><tr><td>&quot;AZ&quot;</td><td>3.59201</td></tr><tr><td>&quot;CA&quot;</td><td>3.996733</td></tr><tr><td>&quot;CO&quot;</td><td>4.0</td></tr></tbody></table></div>"
      ],
      "text/plain": [
       "shape: (4, 2)\n",
       "┌───────┬──────────┐\n",
       "│ state ┆ stars    │\n",
       "│ ---   ┆ ---      │\n",
       "│ str   ┆ f64      │\n",
       "╞═══════╪══════════╡\n",
       "│ AB    ┆ 3.447515 │\n",
       "│ AZ    ┆ 3.59201  │\n",
       "│ CA    ┆ 3.996733 │\n",
       "│ CO    ┆ 4.0      │\n",
       "└───────┴──────────┘"
      ]
     },
     "execution_count": 133,
     "metadata": {},
     "output_type": "execute_result"
    }
   ],
   "source": [
    "df.sort(\"state\") \\\n",
    "    .group_by(\"state\").agg(\n",
    "        pl.col(\"stars\").mean()\n",
    "    ).limit(4)"
   ]
  },
  {
   "cell_type": "markdown",
   "id": "184ed8e5",
   "metadata": {},
   "source": [
    "## <strong style=\"color:#5e17eb\">  List Aggregation </strong>\n"
   ]
  },
  {
   "cell_type": "code",
   "execution_count": 134,
   "id": "ca6dbda9",
   "metadata": {},
   "outputs": [
    {
     "data": {
      "text/html": [
       "<div><style>\n",
       ".dataframe > thead > tr,\n",
       ".dataframe > tbody > tr {\n",
       "  text-align: right;\n",
       "  white-space: pre-wrap;\n",
       "}\n",
       "</style>\n",
       "<small>shape: (27, 2)</small><table border=\"1\" class=\"dataframe\"><thead><tr><th>state</th><th>city_list</th></tr><tr><td>str</td><td>list[str]</td></tr></thead><tbody><tr><td>&quot;IN&quot;</td><td>[&quot;Indianapolis&quot;, &quot;Indianapolis&quot;, … &quot;Indianapolis&quot;]</td></tr><tr><td>&quot;DE&quot;</td><td>[&quot;Wilmington&quot;, &quot;Wilmington&quot;, … &quot;Aston&quot;]</td></tr><tr><td>&quot;CO&quot;</td><td>[&quot;Vail&quot;, &quot;Dumont&quot;, &quot;Denver&quot;]</td></tr><tr><td>&quot;AZ&quot;</td><td>[&quot;Tucson&quot;, &quot;Tucson&quot;, … &quot;Tucson&quot;]</td></tr><tr><td>&quot;MO&quot;</td><td>[&quot;Affton&quot;, &quot;Brentwood&quot;, … &quot;Saint Louis&quot;]</td></tr><tr><td>&hellip;</td><td>&hellip;</td></tr><tr><td>&quot;ID&quot;</td><td>[&quot;Boise&quot;, &quot;Meridian&quot;, … &quot;Boise&quot;]</td></tr><tr><td>&quot;VI&quot;</td><td>[&quot;Tortola&quot;]</td></tr><tr><td>&quot;LA&quot;</td><td>[&quot;New Orleans&quot;, &quot;Kenner&quot;, … &quot;New Orleans&quot;]</td></tr><tr><td>&quot;VT&quot;</td><td>[&quot;Bennington&quot;]</td></tr><tr><td>&quot;WA&quot;</td><td>[&quot;Spokane&quot;, &quot;College Place&quot;]</td></tr></tbody></table></div>"
      ],
      "text/plain": [
       "shape: (27, 2)\n",
       "┌───────┬─────────────────────────────────┐\n",
       "│ state ┆ city_list                       │\n",
       "│ ---   ┆ ---                             │\n",
       "│ str   ┆ list[str]                       │\n",
       "╞═══════╪═════════════════════════════════╡\n",
       "│ IN    ┆ [\"Indianapolis\", \"Indianapolis… │\n",
       "│ DE    ┆ [\"Wilmington\", \"Wilmington\", …… │\n",
       "│ CO    ┆ [\"Vail\", \"Dumont\", \"Denver\"]    │\n",
       "│ AZ    ┆ [\"Tucson\", \"Tucson\", … \"Tucson… │\n",
       "│ MO    ┆ [\"Affton\", \"Brentwood\", … \"Sai… │\n",
       "│ …     ┆ …                               │\n",
       "│ ID    ┆ [\"Boise\", \"Meridian\", … \"Boise… │\n",
       "│ VI    ┆ [\"Tortola\"]                     │\n",
       "│ LA    ┆ [\"New Orleans\", \"Kenner\", … \"N… │\n",
       "│ VT    ┆ [\"Bennington\"]                  │\n",
       "│ WA    ┆ [\"Spokane\", \"College Place\"]    │\n",
       "└───────┴─────────────────────────────────┘"
      ]
     },
     "execution_count": 134,
     "metadata": {},
     "output_type": "execute_result"
    }
   ],
   "source": [
    "df.group_by(\"state\").agg(\n",
    "    pl.col(\"city\").alias(\"city_list\")\n",
    ")"
   ]
  },
  {
   "cell_type": "markdown",
   "id": "fb3f5541",
   "metadata": {},
   "source": [
    "## <strong style=\"color:#5e17eb\"> Summary </strong>\n"
   ]
  },
  {
   "cell_type": "markdown",
   "id": "0434a12d",
   "metadata": {},
   "source": [
    " **Goal: Go beyond simple aggregation**\n",
    "\n",
    "| **Sub-Topic**                      | **Description**                         | **Example (Yelp)**                                                         |\n",
    "| ---------------------------------- | --------------------------------------- | -------------------------------------------------------------------------- |\n",
    "| **`.over()` Window Functions** | Running stats without collapsing groups | `df.with_columns(pl.col(\"stars\").mean().over(\"state\").alias(\"state_avg\"))` |\n",
    "| **Sorting Inside Groups**      | Sort by a metric within groups          | `df.group_by(\"state\").agg(pl.col(\"review_count\").sort(descending=True))`    |\n",
    "| **Keep First/Last in Groups**  | Top/bottom rows in each group           | `df.group_by(\"state\").agg(pl.col(\"stars\").first())`                         |\n",
    "| **List Aggregation**           | Keep group data as lists                | `df.group_by(\"state\").agg(pl.col(\"city\").alias(\"cities_list\"))`             |\n"
   ]
  },
  {
   "cell_type": "code",
   "execution_count": null,
   "id": "fa47b043",
   "metadata": {},
   "outputs": [],
   "source": []
  },
  {
   "cell_type": "markdown",
   "id": "0e57037e",
   "metadata": {},
   "source": [
    "# <strong style=\"color:#5e17eb\"> 6. Looping over Groups </strong>\n"
   ]
  },
  {
   "cell_type": "markdown",
   "id": "c37aa63c",
   "metadata": {},
   "source": [
    "## <strong style=\"color:#5e17eb\"> Convert to Pandas Loop </strong>\n"
   ]
  },
  {
   "cell_type": "code",
   "execution_count": 135,
   "id": "90914f40",
   "metadata": {},
   "outputs": [
    {
     "name": "stdout",
     "output_type": "stream",
     "text": [
      "('HI',) shape: (1, 14)\n",
      "┌────────────┬────────────┬────────────┬───────────┬───┬─────────┬────────────┬────────────┬───────┐\n",
      "│ business_i ┆ name       ┆ address    ┆ city      ┆ … ┆ is_open ┆ attributes ┆ categories ┆ hours │\n",
      "│ d          ┆ ---        ┆ ---        ┆ ---       ┆   ┆ ---     ┆ ---        ┆ ---        ┆ ---   │\n",
      "│ ---        ┆ str        ┆ str        ┆ str       ┆   ┆ i64     ┆ str        ┆ str        ┆ str   │\n",
      "│ str        ┆            ┆            ┆           ┆   ┆         ┆            ┆            ┆       │\n",
      "╞════════════╪════════════╪════════════╪═══════════╪═══╪═════════╪════════════╪════════════╪═══════╡\n",
      "│ bw90rjFL02 ┆ Cosmetic   ┆ 1010 Lula  ┆ Lula Lula ┆ … ┆ 1       ┆ {'Business ┆ Cosmetic   ┆ null  │\n",
      "│ A_8rVE34m5 ┆ Solutions  ┆ Lula Dr    ┆           ┆   ┆         ┆ AcceptsCre ┆ Surgeons,  ┆       │\n",
      "│ Lg         ┆            ┆            ┆           ┆   ┆         ┆ ditCards': ┆ Pizza,     ┆       │\n",
      "│            ┆            ┆            ┆           ┆   ┆         ┆ …          ┆ Doct…      ┆       │\n",
      "└────────────┴────────────┴────────────┴───────────┴───┴─────────┴────────────┴────────────┴───────┘\n",
      "('ID',) shape: (1, 14)\n",
      "┌────────────┬────────────┬────────────┬───────┬───┬─────────┬────────────┬────────────┬───────────┐\n",
      "│ business_i ┆ name       ┆ address    ┆ city  ┆ … ┆ is_open ┆ attributes ┆ categories ┆ hours     │\n",
      "│ d          ┆ ---        ┆ ---        ┆ ---   ┆   ┆ ---     ┆ ---        ┆ ---        ┆ ---       │\n",
      "│ ---        ┆ str        ┆ str        ┆ str   ┆   ┆ i64     ┆ str        ┆ str        ┆ str       │\n",
      "│ str        ┆            ┆            ┆       ┆   ┆         ┆            ┆            ┆           │\n",
      "╞════════════╪════════════╪════════════╪═══════╪═══╪═════════╪════════════╪════════════╪═══════════╡\n",
      "│ fvWn8oXXwb ┆ Altitude   ┆ 1301 N     ┆ Boise ┆ … ┆ 1       ┆ {'Business ┆ Trampoline ┆ {'Monday' │\n",
      "│ j2l79cochZ ┆ Trampoline ┆ Milwaukee  ┆       ┆   ┆         ┆ Parking':  ┆ Parks,     ┆ : '10:0-2 │\n",
      "│ yw         ┆ Park -     ┆ St         ┆       ┆   ┆         ┆ \"{'garage' ┆ Active     ┆ 0:0',     │\n",
      "│            ┆ Boi…       ┆            ┆       ┆   ┆         ┆ …          ┆ Life       ┆ 'Tuesd…   │\n",
      "└────────────┴────────────┴────────────┴───────┴───┴─────────┴────────────┴────────────┴───────────┘\n",
      "('NJ',) shape: (1, 14)\n",
      "┌────────────┬────────────┬────────────┬────────┬───┬─────────┬────────────┬───────────┬───────────┐\n",
      "│ business_i ┆ name       ┆ address    ┆ city   ┆ … ┆ is_open ┆ attributes ┆ categorie ┆ hours     │\n",
      "│ d          ┆ ---        ┆ ---        ┆ ---    ┆   ┆ ---     ┆ ---        ┆ s         ┆ ---       │\n",
      "│ ---        ┆ str        ┆ str        ┆ str    ┆   ┆ i64     ┆ str        ┆ ---       ┆ str       │\n",
      "│ str        ┆            ┆            ┆        ┆   ┆         ┆            ┆ str       ┆           │\n",
      "╞════════════╪════════════╪════════════╪════════╪═══╪═════════╪════════════╪═══════════╪═══════════╡\n",
      "│ lwItZ1Ck3K ┆ Stomel     ┆ 532 Rte 70 ┆ Cherry ┆ … ┆ 1       ┆ null       ┆ DUI Law,  ┆ {'Monday' │\n",
      "│ tpCgG4CPFm ┆ Elliot Att ┆ W, Fl 2    ┆ Hill   ┆   ┆         ┆            ┆ Professio ┆ : '0:0-0: │\n",
      "│ pQ         ┆ orney-At-L ┆            ┆        ┆   ┆         ┆            ┆ nal       ┆ 0',       │\n",
      "│            ┆ aw         ┆            ┆        ┆   ┆         ┆            ┆ Services… ┆ 'Tuesday… │\n",
      "└────────────┴────────────┴────────────┴────────┴───┴─────────┴────────────┴───────────┴───────────┘\n",
      "('SD',) shape: (1, 14)\n",
      "┌─────────────┬────────┬─────────────┬───────┬───┬─────────┬─────────────┬────────────┬────────────┐\n",
      "│ business_id ┆ name   ┆ address     ┆ city  ┆ … ┆ is_open ┆ attributes  ┆ categories ┆ hours      │\n",
      "│ ---         ┆ ---    ┆ ---         ┆ ---   ┆   ┆ ---     ┆ ---         ┆ ---        ┆ ---        │\n",
      "│ str         ┆ str    ┆ str         ┆ str   ┆   ┆ i64     ┆ str         ┆ str        ┆ str        │\n",
      "╞═════════════╪════════╪═════════════╪═══════╪═══╪═════════╪═════════════╪════════════╪════════════╡\n",
      "│ RXW3WsOBAks ┆ K Soho ┆ 715 S       ┆ Tampa ┆ … ┆ 1       ┆ {'Restauran ┆ Beauty &   ┆ {'Tuesday' │\n",
      "│ pYaJ96GRQUg ┆ Salon  ┆ Howard Ave, ┆       ┆   ┆         ┆ tsPriceRang ┆ Spas, Hair ┆ : '10:0-18 │\n",
      "│             ┆        ┆ Ste 100     ┆       ┆   ┆         ┆ e2': '2'…   ┆ Salons,    ┆ :30',      │\n",
      "│             ┆        ┆             ┆       ┆   ┆         ┆             ┆ Ma…        ┆ 'Wed…      │\n",
      "└─────────────┴────────┴─────────────┴───────┴───┴─────────┴─────────────┴────────────┴────────────┘\n",
      "('FL',) shape: (1, 14)\n",
      "┌────────────┬───────────┬───────────┬───────────┬───┬─────────┬───────────┬───────────┬───────────┐\n",
      "│ business_i ┆ name      ┆ address   ┆ city      ┆ … ┆ is_open ┆ attribute ┆ categorie ┆ hours     │\n",
      "│ d          ┆ ---       ┆ ---       ┆ ---       ┆   ┆ ---     ┆ s         ┆ s         ┆ ---       │\n",
      "│ ---        ┆ str       ┆ str       ┆ str       ┆   ┆ i64     ┆ ---       ┆ ---       ┆ str       │\n",
      "│ str        ┆           ┆           ┆           ┆   ┆         ┆ str       ┆ str       ┆           │\n",
      "╞════════════╪═══════════╪═══════════╪═══════════╪═══╪═════════╪═══════════╪═══════════╪═══════════╡\n",
      "│ qkRM_2X51Y ┆ Temple    ┆ 400       ┆ St. Peter ┆ … ┆ 1       ┆ null      ┆ Synagogue ┆ {'Monday' │\n",
      "│ qxk3btlwAQ ┆ Beth-El   ┆ Pasadena  ┆ sburg     ┆   ┆         ┆           ┆ s,        ┆ : '9:0-17 │\n",
      "│ Ig         ┆           ┆ Ave S     ┆           ┆   ┆         ┆           ┆ Religious ┆ :0',      │\n",
      "│            ┆           ┆           ┆           ┆   ┆         ┆           ┆ Organiza… ┆ 'Tuesda…  │\n",
      "└────────────┴───────────┴───────────┴───────────┴───┴─────────┴───────────┴───────────┴───────────┘\n",
      "('AZ',) shape: (1, 14)\n",
      "┌─────────────┬────────┬─────────────┬────────┬───┬─────────┬────────────┬────────────┬────────────┐\n",
      "│ business_id ┆ name   ┆ address     ┆ city   ┆ … ┆ is_open ┆ attributes ┆ categories ┆ hours      │\n",
      "│ ---         ┆ ---    ┆ ---         ┆ ---    ┆   ┆ ---     ┆ ---        ┆ ---        ┆ ---        │\n",
      "│ str         ┆ str    ┆ str         ┆ str    ┆   ┆ i64     ┆ str        ┆ str        ┆ str        │\n",
      "╞═════════════╪════════╪═════════════╪════════╪═══╪═════════╪════════════╪════════════╪════════════╡\n",
      "│ tUFrWirKiKi ┆ Target ┆ 5255 E      ┆ Tucson ┆ … ┆ 0       ┆ {'BikePark ┆ Department ┆ {'Monday': │\n",
      "│ _TAnsVWINQQ ┆        ┆ Broadway    ┆        ┆   ┆         ┆ ing':      ┆ Stores,    ┆ '8:0-22:0' │\n",
      "│             ┆        ┆ Blvd        ┆        ┆   ┆         ┆ 'True',    ┆ Shopping,  ┆ , 'Tuesda… │\n",
      "│             ┆        ┆             ┆        ┆   ┆         ┆ 'Busin…    ┆ F…         ┆            │\n",
      "└─────────────┴────────┴─────────────┴────────┴───┴─────────┴────────────┴────────────┴────────────┘\n",
      "('UT',) shape: (1, 14)\n",
      "┌──────────────┬──────────────┬─────────┬───────┬───┬─────────┬──────────────┬─────────────┬───────┐\n",
      "│ business_id  ┆ name         ┆ address ┆ city  ┆ … ┆ is_open ┆ attributes   ┆ categories  ┆ hours │\n",
      "│ ---          ┆ ---          ┆ ---     ┆ ---   ┆   ┆ ---     ┆ ---          ┆ ---         ┆ ---   │\n",
      "│ str          ┆ str          ┆ str     ┆ str   ┆   ┆ i64     ┆ str          ┆ str         ┆ str   │\n",
      "╞══════════════╪══════════════╪═════════╪═══════╪═══╪═════════╪══════════════╪═════════════╪═══════╡\n",
      "│ f-S2Y0OO00cQ ┆ Find Your    ┆ null    ┆ Eagle ┆ … ┆ 1       ┆ {'ByAppointm ┆ Health &    ┆ null  │\n",
      "│ jo8yj3upKg   ┆ Zen          ┆         ┆       ┆   ┆         ┆ entOnly':    ┆ Medical,    ┆       │\n",
      "│              ┆              ┆         ┆       ┆   ┆         ┆ 'True', …    ┆ Fitness &   ┆       │\n",
      "│              ┆              ┆         ┆       ┆   ┆         ┆              ┆ In…         ┆       │\n",
      "└──────────────┴──────────────┴─────────┴───────┴───┴─────────┴──────────────┴─────────────┴───────┘\n",
      "('NC',) shape: (1, 14)\n",
      "┌─────────────┬──────┬─────────────┬───────┬───┬─────────┬─────────────┬─────────────┬─────────────┐\n",
      "│ business_id ┆ name ┆ address     ┆ city  ┆ … ┆ is_open ┆ attributes  ┆ categories  ┆ hours       │\n",
      "│ ---         ┆ ---  ┆ ---         ┆ ---   ┆   ┆ ---     ┆ ---         ┆ ---         ┆ ---         │\n",
      "│ str         ┆ str  ┆ str         ┆ str   ┆   ┆ i64     ┆ str         ┆ str         ┆ str         │\n",
      "╞═════════════╪══════╪═════════════╪═══════╪═══╪═════════╪═════════════╪═════════════╪═════════════╡\n",
      "│ em474WuTw7- ┆ IHOP ┆ 702 Blowing ┆ Boone ┆ … ┆ 0       ┆ {'Alcohol': ┆ Breakfast & ┆ {'Monday':  │\n",
      "│ OkhPfX4EohA ┆      ┆ Rock Rd     ┆       ┆   ┆         ┆ \"'none'\",   ┆ Brunch,     ┆ '0:0-0:0',  │\n",
      "│             ┆      ┆             ┆       ┆   ┆         ┆ 'Restaur…   ┆ Coffee & T… ┆ 'Tuesday…   │\n",
      "└─────────────┴──────┴─────────────┴───────┴───┴─────────┴─────────────┴─────────────┴─────────────┘\n",
      "('MO',) shape: (1, 14)\n",
      "┌────────────┬────────────┬────────────┬────────┬───┬─────────┬────────────┬───────────┬───────────┐\n",
      "│ business_i ┆ name       ┆ address    ┆ city   ┆ … ┆ is_open ┆ attributes ┆ categorie ┆ hours     │\n",
      "│ d          ┆ ---        ┆ ---        ┆ ---    ┆   ┆ ---     ┆ ---        ┆ s         ┆ ---       │\n",
      "│ ---        ┆ str        ┆ str        ┆ str    ┆   ┆ i64     ┆ str        ┆ ---       ┆ str       │\n",
      "│ str        ┆            ┆            ┆        ┆   ┆         ┆            ┆ str       ┆           │\n",
      "╞════════════╪════════════╪════════════╪════════╪═══╪═════════╪════════════╪═══════════╪═══════════╡\n",
      "│ mpf3x-BjTd ┆ The UPS    ┆ 87 Grasso  ┆ Affton ┆ … ┆ 1       ┆ {'Business ┆ Shipping  ┆ {'Monday' │\n",
      "│ TEA3yCZrAY ┆ Store      ┆ Plaza      ┆        ┆   ┆         ┆ AcceptsCre ┆ Centers,  ┆ : '0:0-0: │\n",
      "│ Pw         ┆            ┆ Shopping   ┆        ┆   ┆         ┆ ditCards': ┆ Local     ┆ 0',       │\n",
      "│            ┆            ┆ Cente…     ┆        ┆   ┆         ┆ …          ┆ Servic…   ┆ 'Tuesday… │\n",
      "└────────────┴────────────┴────────────┴────────┴───┴─────────┴────────────┴───────────┴───────────┘\n",
      "('IL',) shape: (1, 14)\n",
      "┌────────────┬───────────┬───────────┬───────────┬───┬─────────┬───────────┬───────────┬───────────┐\n",
      "│ business_i ┆ name      ┆ address   ┆ city      ┆ … ┆ is_open ┆ attribute ┆ categorie ┆ hours     │\n",
      "│ d          ┆ ---       ┆ ---       ┆ ---       ┆   ┆ ---     ┆ s         ┆ s         ┆ ---       │\n",
      "│ ---        ┆ str       ┆ str       ┆ str       ┆   ┆ i64     ┆ ---       ┆ ---       ┆ str       │\n",
      "│ str        ┆           ┆           ┆           ┆   ┆         ┆ str       ┆ str       ┆           │\n",
      "╞════════════╪═══════════╪═══════════╪═══════════╪═══╪═════════╪═══════════╪═══════════╪═══════════╡\n",
      "│ LcAozWCMLG ┆ Edwardsvi ┆ 722       ┆ Edwardsvi ┆ … ┆ 1       ┆ {'GoodFor ┆ Museums,  ┆ {'Monday' │\n",
      "│ jwRbokaJAK ┆ lle Child ┆ Holyoake  ┆ lle       ┆   ┆         ┆ Kids':    ┆ Kids Acti ┆ : '10:0-1 │\n",
      "│ Mg         ┆ ren's     ┆ Rd        ┆           ┆   ┆         ┆ 'True',   ┆ vities,   ┆ 5:0',     │\n",
      "│            ┆ Museum    ┆           ┆           ┆   ┆         ┆ 'Busin…   ┆ Arts…     ┆ 'Tuesd…   │\n",
      "└────────────┴───────────┴───────────┴───────────┴───┴─────────┴───────────┴───────────┴───────────┘\n",
      "('VT',) shape: (1, 14)\n",
      "┌────────────┬───────────┬───────────┬───────────┬───┬─────────┬───────────┬───────────┬───────────┐\n",
      "│ business_i ┆ name      ┆ address   ┆ city      ┆ … ┆ is_open ┆ attribute ┆ categorie ┆ hours     │\n",
      "│ d          ┆ ---       ┆ ---       ┆ ---       ┆   ┆ ---     ┆ s         ┆ s         ┆ ---       │\n",
      "│ ---        ┆ str       ┆ str       ┆ str       ┆   ┆ i64     ┆ ---       ┆ ---       ┆ str       │\n",
      "│ str        ┆           ┆           ┆           ┆   ┆         ┆ str       ┆ str       ┆           │\n",
      "╞════════════╪═══════════╪═══════════╪═══════════╪═══╪═════════╪═══════════╪═══════════╪═══════════╡\n",
      "│ g0fYqQRRKm ┆ All       ┆ 212       ┆ Benningto ┆ … ┆ 1       ┆ {'Busines ┆ Oil       ┆ {'Monday' │\n",
      "│ YIfChE4jML ┆ Service   ┆ Lincoln   ┆ n         ┆   ┆         ┆ sAcceptsC ┆ Change    ┆ : '0:0-0: │\n",
      "│ sg         ┆ Citgo     ┆ St        ┆           ┆   ┆         ┆ reditCard ┆ Stations, ┆ 0',       │\n",
      "│            ┆           ┆           ┆           ┆   ┆         ┆ s':…      ┆ Automotiv ┆ 'Tuesday… │\n",
      "│            ┆           ┆           ┆           ┆   ┆         ┆           ┆ …         ┆           │\n",
      "└────────────┴───────────┴───────────┴───────────┴───┴─────────┴───────────┴───────────┴───────────┘\n",
      "('PA',) shape: (1, 14)\n",
      "┌────────────┬───────────┬───────────┬───────────┬───┬─────────┬───────────┬───────────┬───────────┐\n",
      "│ business_i ┆ name      ┆ address   ┆ city      ┆ … ┆ is_open ┆ attribute ┆ categorie ┆ hours     │\n",
      "│ d          ┆ ---       ┆ ---       ┆ ---       ┆   ┆ ---     ┆ s         ┆ s         ┆ ---       │\n",
      "│ ---        ┆ str       ┆ str       ┆ str       ┆   ┆ i64     ┆ ---       ┆ ---       ┆ str       │\n",
      "│ str        ┆           ┆           ┆           ┆   ┆         ┆ str       ┆ str       ┆           │\n",
      "╞════════════╪═══════════╪═══════════╪═══════════╪═══╪═════════╪═══════════╪═══════════╪═══════════╡\n",
      "│ MTSW4McQd7 ┆ St Honore ┆ 935 Race  ┆ Philadelp ┆ … ┆ 1       ┆ {'Restaur ┆ Restauran ┆ {'Monday' │\n",
      "│ CbVtyjqoe9 ┆ Pastries  ┆ St        ┆ hia       ┆   ┆         ┆ antsDeliv ┆ ts, Food, ┆ : '7:0-20 │\n",
      "│ mw         ┆           ┆           ┆           ┆   ┆         ┆ ery':     ┆ Bubble    ┆ :0',      │\n",
      "│            ┆           ┆           ┆           ┆   ┆         ┆ 'False…   ┆ Tea,…     ┆ 'Tuesda…  │\n",
      "└────────────┴───────────┴───────────┴───────────┴───┴─────────┴───────────┴───────────┴───────────┘\n",
      "('LA',) shape: (1, 14)\n",
      "┌────────────┬───────────┬───────────┬───────────┬───┬─────────┬───────────┬───────────┬───────────┐\n",
      "│ business_i ┆ name      ┆ address   ┆ city      ┆ … ┆ is_open ┆ attribute ┆ categorie ┆ hours     │\n",
      "│ d          ┆ ---       ┆ ---       ┆ ---       ┆   ┆ ---     ┆ s         ┆ s         ┆ ---       │\n",
      "│ ---        ┆ str       ┆ str       ┆ str       ┆   ┆ i64     ┆ ---       ┆ ---       ┆ str       │\n",
      "│ str        ┆           ┆           ┆           ┆   ┆         ┆ str       ┆ str       ┆           │\n",
      "╞════════════╪═══════════╪═══════════╪═══════════╪═══╪═════════╪═══════════╪═══════════╪═══════════╡\n",
      "│ M0XSSHqrAS ┆ Herb      ┆ 712 Adams ┆ New       ┆ … ┆ 1       ┆ {'Busines ┆ Vape      ┆ {'Monday' │\n",
      "│ OnhgbWDJIp ┆ Import Co ┆ St        ┆ Orleans   ┆   ┆         ┆ sParking' ┆ Shops,    ┆ : '10:0-1 │\n",
      "│ QA         ┆           ┆           ┆           ┆   ┆         ┆ : \"{'gara ┆ Tobacco   ┆ 9:0',     │\n",
      "│            ┆           ┆           ┆           ┆   ┆         ┆ ge'…      ┆ Shops,    ┆ 'Tuesd…   │\n",
      "│            ┆           ┆           ┆           ┆   ┆         ┆           ┆ Per…      ┆           │\n",
      "└────────────┴───────────┴───────────┴───────────┴───┴─────────┴───────────┴───────────┴───────────┘\n",
      "('MA',) shape: (1, 14)\n",
      "┌─────────────┬─────────┬─────────────┬───────────┬───┬─────────┬─────────────┬────────────┬───────┐\n",
      "│ business_id ┆ name    ┆ address     ┆ city      ┆ … ┆ is_open ┆ attributes  ┆ categories ┆ hours │\n",
      "│ ---         ┆ ---     ┆ ---         ┆ ---       ┆   ┆ ---     ┆ ---         ┆ ---        ┆ ---   │\n",
      "│ str         ┆ str     ┆ str         ┆ str       ┆   ┆ i64     ┆ str         ┆ str        ┆ str   │\n",
      "╞═════════════╪═════════╪═════════════╪═══════════╪═══╪═════════╪═════════════╪════════════╪═══════╡\n",
      "│ NJXvZ25bka5 ┆ United  ┆ 110 Kimball ┆ Lynnfield ┆ … ┆ 1       ┆ {'BusinessA ┆ Local      ┆ null  │\n",
      "│ hHEPa3PmJVA ┆ Parcel  ┆ Ln          ┆           ┆   ┆         ┆ cceptsCredi ┆ Services,  ┆       │\n",
      "│             ┆ Service ┆             ┆           ┆   ┆         ┆ tCards':…   ┆ Shipping   ┆       │\n",
      "│             ┆         ┆             ┆           ┆   ┆         ┆             ┆ Cente…     ┆       │\n",
      "└─────────────┴─────────┴─────────────┴───────────┴───┴─────────┴─────────────┴────────────┴───────┘\n",
      "('IN',) shape: (1, 14)\n",
      "┌────────────┬─────────┬────────────┬────────────┬───┬─────────┬───────────┬───────────┬───────────┐\n",
      "│ business_i ┆ name    ┆ address    ┆ city       ┆ … ┆ is_open ┆ attribute ┆ categorie ┆ hours     │\n",
      "│ d          ┆ ---     ┆ ---        ┆ ---        ┆   ┆ ---     ┆ s         ┆ s         ┆ ---       │\n",
      "│ ---        ┆ str     ┆ str        ┆ str        ┆   ┆ i64     ┆ ---       ┆ ---       ┆ str       │\n",
      "│ str        ┆         ┆            ┆            ┆   ┆         ┆ str       ┆ str       ┆           │\n",
      "╞════════════╪═════════╪════════════╪════════════╪═══╪═════════╪═══════════╪═══════════╪═══════════╡\n",
      "│ il_Ro8jwPl ┆ Denny's ┆ 8901 US 31 ┆ Indianapol ┆ … ┆ 1       ┆ {'Restaur ┆ American  ┆ {'Monday' │\n",
      "│ Hresjw9EGm ┆         ┆ S          ┆ is         ┆   ┆         ┆ antsReser ┆ (Traditio ┆ : '6:0-22 │\n",
      "│ Bg         ┆         ┆            ┆            ┆   ┆         ┆ vations': ┆ nal),     ┆ :0',      │\n",
      "│            ┆         ┆            ┆            ┆   ┆         ┆ 'F…       ┆ Restau…   ┆ 'Tuesda…  │\n",
      "└────────────┴─────────┴────────────┴────────────┴───┴─────────┴───────────┴───────────┴───────────┘\n",
      "('WA',) shape: (1, 14)\n",
      "┌──────────────┬───────┬──────────────┬─────────┬───┬─────────┬──────────────┬─────────────┬───────┐\n",
      "│ business_id  ┆ name  ┆ address      ┆ city    ┆ … ┆ is_open ┆ attributes   ┆ categories  ┆ hours │\n",
      "│ ---          ┆ ---   ┆ ---          ┆ ---     ┆   ┆ ---     ┆ ---          ┆ ---         ┆ ---   │\n",
      "│ str          ┆ str   ┆ str          ┆ str     ┆   ┆ i64     ┆ str          ┆ str         ┆ str   │\n",
      "╞══════════════╪═══════╪══════════════╪═════════╪═══╪═════════╪══════════════╪═════════════╪═══════╡\n",
      "│ kNK3tjrKa6e_ ┆ Suave ┆ 4013 N       ┆ Spokane ┆ … ┆ 1       ┆ {'BikeParkin ┆ Beauty &    ┆ null  │\n",
      "│ Tf9c9WWehA   ┆ Nails ┆ Market St    ┆         ┆   ┆         ┆ g': 'True',  ┆ Spas, Nail  ┆       │\n",
      "│              ┆       ┆              ┆         ┆   ┆         ┆ 'Busin…      ┆ Salons      ┆       │\n",
      "└──────────────┴───────┴──────────────┴─────────┴───┴─────────┴──────────────┴─────────────┴───────┘\n",
      "('NV',) shape: (1, 14)\n",
      "┌────────────┬────────────┬────────────┬──────┬───┬─────────┬────────────┬────────────┬────────────┐\n",
      "│ business_i ┆ name       ┆ address    ┆ city ┆ … ┆ is_open ┆ attributes ┆ categories ┆ hours      │\n",
      "│ d          ┆ ---        ┆ ---        ┆ ---  ┆   ┆ ---     ┆ ---        ┆ ---        ┆ ---        │\n",
      "│ ---        ┆ str        ┆ str        ┆ str  ┆   ┆ i64     ┆ str        ┆ str        ┆ str        │\n",
      "│ str        ┆            ┆            ┆      ┆   ┆         ┆            ┆            ┆            │\n",
      "╞════════════╪════════════╪════════════╪══════╪═══╪═════════╪════════════╪════════════╪════════════╡\n",
      "│ 9OG5YkX1g2 ┆ Romano's   ┆ 5505 S     ┆ Reno ┆ … ┆ 1       ┆ {'Restaura ┆ Restaurant ┆ {'Monday': │\n",
      "│ GReZM0Aski ┆ Macaroni   ┆ Virginia   ┆      ┆   ┆         ┆ ntsGoodFor ┆ s, Italian ┆ '11:0-22:0 │\n",
      "│ zA         ┆ Grill      ┆ St         ┆      ┆   ┆         ┆ Groups':   ┆            ┆ ', 'Tuesd… │\n",
      "│            ┆            ┆            ┆      ┆   ┆         ┆ '…         ┆            ┆            │\n",
      "└────────────┴────────────┴────────────┴──────┴───┴─────────┴────────────┴────────────┴────────────┘\n",
      "('AB',) shape: (1, 14)\n",
      "┌────────────┬────────────┬───────────┬──────────┬───┬─────────┬───────────┬───────────┬───────────┐\n",
      "│ business_i ┆ name       ┆ address   ┆ city     ┆ … ┆ is_open ┆ attribute ┆ categorie ┆ hours     │\n",
      "│ d          ┆ ---        ┆ ---       ┆ ---      ┆   ┆ ---     ┆ s         ┆ s         ┆ ---       │\n",
      "│ ---        ┆ str        ┆ str       ┆ str      ┆   ┆ i64     ┆ ---       ┆ ---       ┆ str       │\n",
      "│ str        ┆            ┆           ┆          ┆   ┆         ┆ str       ┆ str       ┆           │\n",
      "╞════════════╪════════════╪═══════════╪══════════╪═══╪═════════╪═══════════╪═══════════╪═══════════╡\n",
      "│ WKMJwqnfZK ┆ Roast Coff ┆ 10359 104 ┆ Edmonton ┆ … ┆ 0       ┆ {'Outdoor ┆ Coffee &  ┆ {'Monday' │\n",
      "│ sAae75RMP6 ┆ eehouse    ┆ Street NW ┆          ┆   ┆         ┆ Seating': ┆ Tea,      ┆ : '8:0-18 │\n",
      "│ jA         ┆ and Wine   ┆           ┆          ┆   ┆         ┆ 'False',  ┆ Food,     ┆ :0',      │\n",
      "│            ┆ Bar        ┆           ┆          ┆   ┆         ┆ 'C…       ┆ Cafes,    ┆ 'Tuesda…  │\n",
      "│            ┆            ┆           ┆          ┆   ┆         ┆           ┆ Bar…      ┆           │\n",
      "└────────────┴────────────┴───────────┴──────────┴───┴─────────┴───────────┴───────────┴───────────┘\n",
      "('TN',) shape: (1, 14)\n",
      "┌────────────┬───────────┬───────────┬───────────┬───┬─────────┬───────────┬───────────┬───────────┐\n",
      "│ business_i ┆ name      ┆ address   ┆ city      ┆ … ┆ is_open ┆ attribute ┆ categorie ┆ hours     │\n",
      "│ d          ┆ ---       ┆ ---       ┆ ---       ┆   ┆ ---     ┆ s         ┆ s         ┆ ---       │\n",
      "│ ---        ┆ str       ┆ str       ┆ str       ┆   ┆ i64     ┆ ---       ┆ ---       ┆ str       │\n",
      "│ str        ┆           ┆           ┆           ┆   ┆         ┆ str       ┆ str       ┆           │\n",
      "╞════════════╪═══════════╪═══════════╪═══════════╪═══╪═════════╪═══════════╪═══════════╪═══════════╡\n",
      "│ CF33F8-E6o ┆ Sonic     ┆ 615 S     ┆ Ashland   ┆ … ┆ 1       ┆ {'Busines ┆ Burgers,  ┆ {'Monday' │\n",
      "│ udUQ46Hnav ┆ Drive-In  ┆ Main St   ┆ City      ┆   ┆         ┆ sParking' ┆ Fast      ┆ : '0:0-0: │\n",
      "│ jQ         ┆           ┆           ┆           ┆   ┆         ┆ : 'None', ┆ Food, San ┆ 0',       │\n",
      "│            ┆           ┆           ┆           ┆   ┆         ┆ 'B…       ┆ dwiches…  ┆ 'Tuesday… │\n",
      "└────────────┴───────────┴───────────┴───────────┴───┴─────────┴───────────┴───────────┴───────────┘\n",
      "('MI',) shape: (1, 14)\n",
      "┌────────────┬───────────┬───────────┬───────────┬───┬─────────┬───────────┬───────────┬───────────┐\n",
      "│ business_i ┆ name      ┆ address   ┆ city      ┆ … ┆ is_open ┆ attribute ┆ categorie ┆ hours     │\n",
      "│ d          ┆ ---       ┆ ---       ┆ ---       ┆   ┆ ---     ┆ s         ┆ s         ┆ ---       │\n",
      "│ ---        ┆ str       ┆ str       ┆ str       ┆   ┆ i64     ┆ ---       ┆ ---       ┆ str       │\n",
      "│ str        ┆           ┆           ┆           ┆   ┆         ┆ str       ┆ str       ┆           │\n",
      "╞════════════╪═══════════╪═══════════╪═══════════╪═══╪═════════╪═══════════╪═══════════╪═══════════╡\n",
      "│ 9gU9waGZhz ┆ Mr Brakes ┆ 26671     ┆ Roseville ┆ … ┆ 1       ┆ {'Busines ┆ Oil       ┆ {'Monday' │\n",
      "│ OOpUy78O_Y ┆           ┆ Gratiot   ┆           ┆   ┆         ┆ sAcceptsC ┆ Change    ┆ : '8:0-18 │\n",
      "│ BQ         ┆           ┆ Ave       ┆           ┆   ┆         ┆ reditCard ┆ Stations, ┆ :0',      │\n",
      "│            ┆           ┆           ┆           ┆   ┆         ┆ s':…      ┆ Wheel &   ┆ 'Tuesda…  │\n",
      "│            ┆           ┆           ┆           ┆   ┆         ┆           ┆ R…        ┆           │\n",
      "└────────────┴───────────┴───────────┴───────────┴───┴─────────┴───────────┴───────────┴───────────┘\n",
      "('XMS',) shape: (1, 14)\n",
      "┌────────────┬────────────┬────────────┬───────────┬───┬─────────┬────────────┬────────────┬───────┐\n",
      "│ business_i ┆ name       ┆ address    ┆ city      ┆ … ┆ is_open ┆ attributes ┆ categories ┆ hours │\n",
      "│ d          ┆ ---        ┆ ---        ┆ ---       ┆   ┆ ---     ┆ ---        ┆ ---        ┆ ---   │\n",
      "│ ---        ┆ str        ┆ str        ┆ str       ┆   ┆ i64     ┆ str        ┆ str        ┆ str   │\n",
      "│ str        ┆            ┆            ┆           ┆   ┆         ┆            ┆            ┆       │\n",
      "╞════════════╪════════════╪════════════╪═══════════╪═══╪═════════╪════════════╪════════════╪═══════╡\n",
      "│ IvQs2hhXKZ ┆ Pumpernick ┆ 95a Mount  ┆ Liverpool ┆ … ┆ 1       ┆ {'Restaura ┆ Caterers,  ┆ null  │\n",
      "│ 4NgZhVZ5jj ┆ les        ┆ Pleasant   ┆           ┆   ┆         ┆ ntsPriceRa ┆ Breakfast  ┆       │\n",
      "│ jQ         ┆ Catering   ┆            ┆           ┆   ┆         ┆ nge2':     ┆ & Brunch,  ┆       │\n",
      "│            ┆            ┆            ┆           ┆   ┆         ┆ '2'…       ┆ …          ┆       │\n",
      "└────────────┴────────────┴────────────┴───────────┴───┴─────────┴────────────┴────────────┴───────┘\n",
      "('CA',) shape: (1, 14)\n",
      "┌────────────┬────────────┬────────────┬────────────┬───┬─────────┬────────────┬───────────┬───────┐\n",
      "│ business_i ┆ name       ┆ address    ┆ city       ┆ … ┆ is_open ┆ attributes ┆ categorie ┆ hours │\n",
      "│ d          ┆ ---        ┆ ---        ┆ ---        ┆   ┆ ---     ┆ ---        ┆ s         ┆ ---   │\n",
      "│ ---        ┆ str        ┆ str        ┆ str        ┆   ┆ i64     ┆ str        ┆ ---       ┆ str   │\n",
      "│ str        ┆            ┆            ┆            ┆   ┆         ┆            ┆ str       ┆       │\n",
      "╞════════════╪════════════╪════════════╪════════════╪═══╪═════════╪════════════╪═══════════╪═══════╡\n",
      "│ Pns2l4eNsf ┆ Abby       ┆ 1616       ┆ Santa      ┆ … ┆ 0       ┆ {'ByAppoin ┆ Doctors,  ┆ null  │\n",
      "│ O8kk83dixA ┆ Rappoport, ┆ Chapala    ┆ Barbara    ┆   ┆         ┆ tmentOnly' ┆ Tradition ┆       │\n",
      "│ 6A         ┆ LAC, CMQ   ┆ St, Ste 2  ┆            ┆   ┆         ┆ : 'True'}  ┆ al        ┆       │\n",
      "│            ┆            ┆            ┆            ┆   ┆         ┆            ┆ Chinese   ┆       │\n",
      "│            ┆            ┆            ┆            ┆   ┆         ┆            ┆ M…        ┆       │\n",
      "└────────────┴────────────┴────────────┴────────────┴───┴─────────┴────────────┴───────────┴───────┘\n",
      "('DE',) shape: (1, 14)\n",
      "┌────────────┬──────────┬────────────┬───────────┬───┬─────────┬───────────┬───────────┬───────────┐\n",
      "│ business_i ┆ name     ┆ address    ┆ city      ┆ … ┆ is_open ┆ attribute ┆ categorie ┆ hours     │\n",
      "│ d          ┆ ---      ┆ ---        ┆ ---       ┆   ┆ ---     ┆ s         ┆ s         ┆ ---       │\n",
      "│ ---        ┆ str      ┆ str        ┆ str       ┆   ┆ i64     ┆ ---       ┆ ---       ┆ str       │\n",
      "│ str        ┆          ┆            ┆           ┆   ┆         ┆ str       ┆ str       ┆           │\n",
      "╞════════════╪══════════╪════════════╪═══════════╪═══╪═════════╪═══════════╪═══════════╪═══════════╡\n",
      "│ mGFsPRHdE6 ┆ T-Mobile ┆ 4735       ┆ Wilmingto ┆ … ┆ 1       ┆ {'Busines ┆ Mobile    ┆ {'Monday' │\n",
      "│ SMV1gYQ6Gz ┆          ┆ Concord    ┆ n         ┆   ┆         ┆ sParking' ┆ Phones,   ┆ : '0:0-0: │\n",
      "│ gQ         ┆          ┆ Pike       ┆           ┆   ┆         ┆ : \"{'gara ┆ Telecommu ┆ 0',       │\n",
      "│            ┆          ┆            ┆           ┆   ┆         ┆ ge'…      ┆ nicati…   ┆ 'Tuesday… │\n",
      "└────────────┴──────────┴────────────┴───────────┴───┴─────────┴───────────┴───────────┴───────────┘\n",
      "('CO',) shape: (1, 14)\n",
      "┌─────────────┬─────────────┬─────────────┬──────┬───┬─────────┬─────────────┬─────────────┬───────┐\n",
      "│ business_id ┆ name        ┆ address     ┆ city ┆ … ┆ is_open ┆ attributes  ┆ categories  ┆ hours │\n",
      "│ ---         ┆ ---         ┆ ---         ┆ ---  ┆   ┆ ---     ┆ ---         ┆ ---         ┆ ---   │\n",
      "│ str         ┆ str         ┆ str         ┆ str  ┆   ┆ i64     ┆ str         ┆ str         ┆ str   │\n",
      "╞═════════════╪═════════════╪═════════════╪══════╪═══╪═════════╪═════════════╪═════════════╪═══════╡\n",
      "│ 1H9WYGFJ4AF ┆ Two Elk     ┆ 12000       ┆ Vail ┆ … ┆ 0       ┆ {'GoodForKi ┆ Buffets,    ┆ null  │\n",
      "│ wXq7WCOOMtg ┆ Restaurant  ┆ Skyline Dr  ┆      ┆   ┆         ┆ ds':        ┆ Restaurants ┆       │\n",
      "│             ┆             ┆             ┆      ┆   ┆         ┆ 'True',     ┆             ┆       │\n",
      "│             ┆             ┆             ┆      ┆   ┆         ┆ 'Resta…     ┆             ┆       │\n",
      "└─────────────┴─────────────┴─────────────┴──────┴───┴─────────┴─────────────┴─────────────┴───────┘\n",
      "('VI',) shape: (1, 14)\n",
      "┌────────────┬────────────┬─────────┬─────────┬───┬─────────┬────────────┬────────────┬────────────┐\n",
      "│ business_i ┆ name       ┆ address ┆ city    ┆ … ┆ is_open ┆ attributes ┆ categories ┆ hours      │\n",
      "│ d          ┆ ---        ┆ ---     ┆ ---     ┆   ┆ ---     ┆ ---        ┆ ---        ┆ ---        │\n",
      "│ ---        ┆ str        ┆ str     ┆ str     ┆   ┆ i64     ┆ str        ┆ str        ┆ str        │\n",
      "│ str        ┆            ┆         ┆         ┆   ┆         ┆            ┆            ┆            │\n",
      "╞════════════╪════════════╪═════════╪═════════╪═══╪═════════╪════════════╪════════════╪════════════╡\n",
      "│ QQXwvLlbMt ┆ The        ┆ null    ┆ Tortola ┆ … ┆ 0       ┆ {'GoodForK ┆ Boating,   ┆ {'Monday': │\n",
      "│ nAgjY8YKEz ┆ Moorings   ┆         ┆         ┆   ┆         ┆ ids':      ┆ Boat       ┆ '8:0-20:0' │\n",
      "│ uA         ┆            ┆         ┆         ┆   ┆         ┆ 'True',    ┆ Charters,  ┆ , 'Tuesda… │\n",
      "│            ┆            ┆         ┆         ┆   ┆         ┆ 'Busin…    ┆ Hotels…    ┆            │\n",
      "└────────────┴────────────┴─────────┴─────────┴───┴─────────┴────────────┴────────────┴────────────┘\n",
      "('MT',) shape: (1, 14)\n",
      "┌─────────────┬────────┬─────────┬───────────┬───┬─────────┬─────────────┬────────────┬────────────┐\n",
      "│ business_id ┆ name   ┆ address ┆ city      ┆ … ┆ is_open ┆ attributes  ┆ categories ┆ hours      │\n",
      "│ ---         ┆ ---    ┆ ---     ┆ ---       ┆   ┆ ---     ┆ ---         ┆ ---        ┆ ---        │\n",
      "│ str         ┆ str    ┆ str     ┆ str       ┆   ┆ i64     ┆ str         ┆ str        ┆ str        │\n",
      "╞═════════════╪════════╪═════════╪═══════════╪═══╪═════════╪═════════════╪════════════╪════════════╡\n",
      "│ gCF0QQWzI9l ┆ MudMan ┆ null    ┆ Kalispell ┆ … ┆ 0       ┆ {'Restauran ┆ Restaurant ┆ {'Tuesday' │\n",
      "│ DouhLfTbYCA ┆ Food   ┆         ┆           ┆   ┆         ┆ tsTakeOut': ┆ s,         ┆ : '17:0-19 │\n",
      "│             ┆ Truck  ┆         ┆           ┆   ┆         ┆ 'True',…    ┆ American   ┆ :30',      │\n",
      "│             ┆        ┆         ┆           ┆   ┆         ┆             ┆ (Traditi…  ┆ 'Wed…      │\n",
      "└─────────────┴────────┴─────────┴───────────┴───┴─────────┴─────────────┴────────────┴────────────┘\n",
      "('TX',) shape: (1, 14)\n",
      "┌────────────┬────────────┬────────────┬────────┬───┬─────────┬────────────┬───────────┬───────────┐\n",
      "│ business_i ┆ name       ┆ address    ┆ city   ┆ … ┆ is_open ┆ attributes ┆ categorie ┆ hours     │\n",
      "│ d          ┆ ---        ┆ ---        ┆ ---    ┆   ┆ ---     ┆ ---        ┆ s         ┆ ---       │\n",
      "│ ---        ┆ str        ┆ str        ┆ str    ┆   ┆ i64     ┆ str        ┆ ---       ┆ str       │\n",
      "│ str        ┆            ┆            ┆        ┆   ┆         ┆            ┆ str       ┆           │\n",
      "╞════════════╪════════════╪════════════╪════════╪═══╪═════════╪════════════╪═══════════╪═══════════╡\n",
      "│ qw_eRqiGeY ┆ Southern   ┆ 31 Eagles  ┆ Mount  ┆ … ┆ 1       ┆ {'Business ┆ Beauty &  ┆ {'Monday' │\n",
      "│ wsbTfkpd_P ┆ Luxe       ┆ Ct         ┆ Juliet ┆   ┆         ┆ AcceptsCre ┆ Spas,     ┆ : '5:0-23 │\n",
      "│ qg         ┆ Beauty     ┆            ┆        ┆   ┆         ┆ ditCards': ┆ Makeup    ┆ :0',      │\n",
      "│            ┆            ┆            ┆        ┆   ┆         ┆ …          ┆ Artists,… ┆ 'Tuesda…  │\n",
      "└────────────┴────────────┴────────────┴────────┴───┴─────────┴────────────┴───────────┴───────────┘\n"
     ]
    }
   ],
   "source": [
    "for group_key, group_df in df.group_by(\"state\"):\n",
    "    print(group_key, group_df.limit(1))"
   ]
  },
  {
   "cell_type": "markdown",
   "id": "2d0b0f58",
   "metadata": {},
   "source": [
    "## <strong style=\"color:#5e17eb\"> Process in Lazy Mode </strong>\n",
    "\n",
    "- Use `.collect()` during the lazy mode"
   ]
  },
  {
   "cell_type": "code",
   "execution_count": 136,
   "id": "af888844",
   "metadata": {},
   "outputs": [
    {
     "data": {
      "text/html": [
       "<div><style>\n",
       ".dataframe > thead > tr,\n",
       ".dataframe > tbody > tr {\n",
       "  text-align: right;\n",
       "  white-space: pre-wrap;\n",
       "}\n",
       "</style>\n",
       "<small>shape: (2, 22)</small><table border=\"1\" class=\"dataframe\"><thead><tr><th>user_id</th><th>name</th><th>review_count</th><th>yelping_since</th><th>useful</th><th>funny</th><th>cool</th><th>elite</th><th>friends</th><th>fans</th><th>average_stars</th><th>compliment_hot</th><th>compliment_more</th><th>compliment_profile</th><th>compliment_cute</th><th>compliment_list</th><th>compliment_note</th><th>compliment_plain</th><th>compliment_cool</th><th>compliment_funny</th><th>compliment_writer</th><th>compliment_photos</th></tr><tr><td>str</td><td>str</td><td>i64</td><td>datetime[μs]</td><td>i64</td><td>i64</td><td>i64</td><td>str</td><td>str</td><td>i64</td><td>f64</td><td>i64</td><td>i64</td><td>i64</td><td>i64</td><td>i64</td><td>i64</td><td>i64</td><td>i64</td><td>i64</td><td>i64</td><td>i64</td></tr></thead><tbody><tr><td>&quot;qVc8ODYU5SZjKXVBgXdI7w&quot;</td><td>&quot;Walker&quot;</td><td>585</td><td>2007-01-25 16:47:26</td><td>7217</td><td>1259</td><td>5994</td><td>&quot;2007&quot;</td><td>&quot;NSCy54eWehBJyZdG2iE84w, pe42u7…</td><td>267</td><td>3.91</td><td>250</td><td>65</td><td>55</td><td>56</td><td>18</td><td>232</td><td>844</td><td>467</td><td>467</td><td>239</td><td>180</td></tr><tr><td>&quot;j14WgRoU_-2ZE1aw1dXrJg&quot;</td><td>&quot;Daniel&quot;</td><td>4333</td><td>2009-01-25 04:35:42</td><td>43091</td><td>13066</td><td>27281</td><td>&quot;2009,2010,2011,2012,2013,2014,…</td><td>&quot;ueRPE0CX75ePGMqOFVj6IQ, 52oH4D…</td><td>3138</td><td>3.74</td><td>1145</td><td>264</td><td>184</td><td>157</td><td>251</td><td>1847</td><td>7054</td><td>3131</td><td>3131</td><td>1521</td><td>1946</td></tr></tbody></table></div>"
      ],
      "text/plain": [
       "shape: (2, 22)\n",
       "┌────────────┬────────┬────────────┬───────────┬───┬───────────┬───────────┬───────────┬───────────┐\n",
       "│ user_id    ┆ name   ┆ review_cou ┆ yelping_s ┆ … ┆ complimen ┆ complimen ┆ complimen ┆ complimen │\n",
       "│ ---        ┆ ---    ┆ nt         ┆ ince      ┆   ┆ t_cool    ┆ t_funny   ┆ t_writer  ┆ t_photos  │\n",
       "│ str        ┆ str    ┆ ---        ┆ ---       ┆   ┆ ---       ┆ ---       ┆ ---       ┆ ---       │\n",
       "│            ┆        ┆ i64        ┆ datetime[ ┆   ┆ i64       ┆ i64       ┆ i64       ┆ i64       │\n",
       "│            ┆        ┆            ┆ μs]       ┆   ┆           ┆           ┆           ┆           │\n",
       "╞════════════╪════════╪════════════╪═══════════╪═══╪═══════════╪═══════════╪═══════════╪═══════════╡\n",
       "│ qVc8ODYU5S ┆ Walker ┆ 585        ┆ 2007-01-2 ┆ … ┆ 467       ┆ 467       ┆ 239       ┆ 180       │\n",
       "│ ZjKXVBgXdI ┆        ┆            ┆ 5         ┆   ┆           ┆           ┆           ┆           │\n",
       "│ 7w         ┆        ┆            ┆ 16:47:26  ┆   ┆           ┆           ┆           ┆           │\n",
       "│ j14WgRoU_- ┆ Daniel ┆ 4333       ┆ 2009-01-2 ┆ … ┆ 3131      ┆ 3131      ┆ 1521      ┆ 1946      │\n",
       "│ 2ZE1aw1dXr ┆        ┆            ┆ 5         ┆   ┆           ┆           ┆           ┆           │\n",
       "│ Jg         ┆        ┆            ┆ 04:35:42  ┆   ┆           ┆           ┆           ┆           │\n",
       "└────────────┴────────┴────────────┴───────────┴───┴───────────┴───────────┴───────────┴───────────┘"
      ]
     },
     "execution_count": 136,
     "metadata": {},
     "output_type": "execute_result"
    }
   ],
   "source": [
    "user_lf.head(2).collect()"
   ]
  },
  {
   "cell_type": "markdown",
   "id": "c4d3830b",
   "metadata": {},
   "source": [
    "## <strong style=\"color:#5e17eb\">  Apply Functions to Each Group</strong>\n"
   ]
  },
  {
   "cell_type": "markdown",
   "id": "2357a596",
   "metadata": {},
   "source": [
    "### <strong style=\"color:#5e17eb\"> A. Using map_groups() </strong>\n"
   ]
  },
  {
   "cell_type": "code",
   "execution_count": 137,
   "id": "993438d4",
   "metadata": {},
   "outputs": [
    {
     "data": {
      "text/html": [
       "<div><style>\n",
       ".dataframe > thead > tr,\n",
       ".dataframe > tbody > tr {\n",
       "  text-align: right;\n",
       "  white-space: pre-wrap;\n",
       "}\n",
       "</style>\n",
       "<small>shape: (1_416, 2)</small><table border=\"1\" class=\"dataframe\"><thead><tr><th>city</th><th>weighted_avg_stars</th></tr><tr><td>str</td><td>f64</td></tr></thead><tbody><tr><td>&quot;St Charles&quot;</td><td>3.616321</td></tr><tr><td>&quot;Florence&quot;</td><td>3.440191</td></tr><tr><td>&quot;Radnor&quot;</td><td>3.786667</td></tr><tr><td>&quot;Newcastle&quot;</td><td>2.0</td></tr><tr><td>&quot;Treasure Is&quot;</td><td>3.676667</td></tr><tr><td>&hellip;</td><td>&hellip;</td></tr><tr><td>&quot;Town &#x27;n&#x27; Country&quot;</td><td>4.684211</td></tr><tr><td>&quot;frazer&quot;</td><td>2.5</td></tr><tr><td>&quot;Burlington&quot;</td><td>3.388544</td></tr><tr><td>&quot;Mt Laurel Twp, NJ&quot;</td><td>3.5</td></tr><tr><td>&quot;Havertown, PA&quot;</td><td>1.0</td></tr></tbody></table></div>"
      ],
      "text/plain": [
       "shape: (1_416, 2)\n",
       "┌───────────────────┬────────────────────┐\n",
       "│ city              ┆ weighted_avg_stars │\n",
       "│ ---               ┆ ---                │\n",
       "│ str               ┆ f64                │\n",
       "╞═══════════════════╪════════════════════╡\n",
       "│ St Charles        ┆ 3.616321           │\n",
       "│ Florence          ┆ 3.440191           │\n",
       "│ Radnor            ┆ 3.786667           │\n",
       "│ Newcastle         ┆ 2.0                │\n",
       "│ Treasure Is       ┆ 3.676667           │\n",
       "│ …                 ┆ …                  │\n",
       "│ Town 'n' Country  ┆ 4.684211           │\n",
       "│ frazer            ┆ 2.5                │\n",
       "│ Burlington        ┆ 3.388544           │\n",
       "│ Mt Laurel Twp, NJ ┆ 3.5                │\n",
       "│ Havertown, PA     ┆ 1.0                │\n",
       "└───────────────────┴────────────────────┘"
      ]
     },
     "execution_count": 137,
     "metadata": {},
     "output_type": "execute_result"
    }
   ],
   "source": [
    "# Custom logic: Weighted average stars per city\n",
    "df.group_by(\"city\") \\\n",
    "    .map_groups(\n",
    "        lambda group_df: pl.DataFrame(\n",
    "            {\n",
    "                \"city\" : [group_df[\"city\"][0]],\n",
    "                \"weighted_avg_stars\" : [\n",
    "                    (group_df[\"stars\"] * group_df[\"review_count\"]).sum() / group_df[\"review_count\"].sum()\n",
    "                ]\n",
    "            }\n",
    "        )\n",
    "    )"
   ]
  },
  {
   "cell_type": "markdown",
   "id": "6f639326",
   "metadata": {},
   "source": [
    "### <strong style=\"color:#5e17eb\">  Multiple custom calculations</strong>\n"
   ]
  },
  {
   "cell_type": "code",
   "execution_count": 138,
   "id": "af2befbb",
   "metadata": {},
   "outputs": [
    {
     "data": {
      "text/html": [
       "<div><style>\n",
       ".dataframe > thead > tr,\n",
       ".dataframe > tbody > tr {\n",
       "  text-align: right;\n",
       "  white-space: pre-wrap;\n",
       "}\n",
       "</style>\n",
       "<small>shape: (27, 3)</small><table border=\"1\" class=\"dataframe\"><thead><tr><th>state</th><th>avg_stars</th><th>popularity_score</th></tr><tr><td>str</td><td>f64</td><td>f64</td></tr></thead><tbody><tr><td>&quot;SD&quot;</td><td>4.5</td><td>189.0</td></tr><tr><td>&quot;IL&quot;</td><td>3.369697</td><td>1964.533333</td></tr><tr><td>&quot;VI&quot;</td><td>2.5</td><td>25.0</td></tr><tr><td>&quot;CA&quot;</td><td>3.996733</td><td>15323.472996</td></tr><tr><td>&quot;FL&quot;</td><td>3.610957</td><td>11771.720091</td></tr><tr><td>&hellip;</td><td>&hellip;</td><td>&hellip;</td></tr><tr><td>&quot;HI&quot;</td><td>4.25</td><td>72.25</td></tr><tr><td>&quot;DE&quot;</td><td>3.354967</td><td>2489.38543</td></tr><tr><td>&quot;IN&quot;</td><td>3.588246</td><td>8012.55277</td></tr><tr><td>&quot;PA&quot;</td><td>3.573019</td><td>20441.242751</td></tr><tr><td>&quot;ID&quot;</td><td>3.707634</td><td>6710.817103</td></tr></tbody></table></div>"
      ],
      "text/plain": [
       "shape: (27, 3)\n",
       "┌───────┬───────────┬──────────────────┐\n",
       "│ state ┆ avg_stars ┆ popularity_score │\n",
       "│ ---   ┆ ---       ┆ ---              │\n",
       "│ str   ┆ f64       ┆ f64              │\n",
       "╞═══════╪═══════════╪══════════════════╡\n",
       "│ SD    ┆ 4.5       ┆ 189.0            │\n",
       "│ IL    ┆ 3.369697  ┆ 1964.533333      │\n",
       "│ VI    ┆ 2.5       ┆ 25.0             │\n",
       "│ CA    ┆ 3.996733  ┆ 15323.472996     │\n",
       "│ FL    ┆ 3.610957  ┆ 11771.720091     │\n",
       "│ …     ┆ …         ┆ …                │\n",
       "│ HI    ┆ 4.25      ┆ 72.25            │\n",
       "│ DE    ┆ 3.354967  ┆ 2489.38543       │\n",
       "│ IN    ┆ 3.588246  ┆ 8012.55277       │\n",
       "│ PA    ┆ 3.573019  ┆ 20441.242751     │\n",
       "│ ID    ┆ 3.707634  ┆ 6710.817103      │\n",
       "└───────┴───────────┴──────────────────┘"
      ]
     },
     "execution_count": 138,
     "metadata": {},
     "output_type": "execute_result"
    }
   ],
   "source": [
    "df.group_by(\"state\") \\\n",
    "    .map_groups(\n",
    "        lambda g : pl.DataFrame(\n",
    "            {\n",
    "                \"state\" : [g[\"state\"][0]],\n",
    "                \"avg_stars\" : [g[\"stars\"].mean()],\n",
    "                \"popularity_score\" : [g[\"review_count\"].max() * g[\"stars\"].mean()],\n",
    "            }\n",
    "        )\n",
    "    )"
   ]
  },
  {
   "cell_type": "markdown",
   "id": "31b41827",
   "metadata": {},
   "source": [
    "### <strong style=\"color:#5e17eb\"> Conditional inside group </strong>\n"
   ]
  },
  {
   "cell_type": "code",
   "execution_count": 139,
   "id": "c74ef62c",
   "metadata": {},
   "outputs": [
    {
     "data": {
      "text/html": [
       "<div><style>\n",
       ".dataframe > thead > tr,\n",
       ".dataframe > tbody > tr {\n",
       "  text-align: right;\n",
       "  white-space: pre-wrap;\n",
       "}\n",
       "</style>\n",
       "<small>shape: (24, 2)</small><table border=\"1\" class=\"dataframe\"><thead><tr><th>state</th><th>open_avg_stars</th></tr><tr><td>str</td><td>f64</td></tr></thead><tbody><tr><td>&quot;TX&quot;</td><td>2.875</td></tr><tr><td>&quot;MO&quot;</td><td>3.567261</td></tr><tr><td>&quot;CA&quot;</td><td>4.076138</td></tr><tr><td>&quot;SD&quot;</td><td>4.5</td></tr><tr><td>&quot;DE&quot;</td><td>3.365892</td></tr><tr><td>&hellip;</td><td>&hellip;</td></tr><tr><td>&quot;MA&quot;</td><td>1.25</td></tr><tr><td>&quot;XMS&quot;</td><td>4.0</td></tr><tr><td>&quot;AZ&quot;</td><td>3.618833</td></tr><tr><td>&quot;PA&quot;</td><td>3.603579</td></tr><tr><td>&quot;NJ&quot;</td><td>3.470915</td></tr></tbody></table></div>"
      ],
      "text/plain": [
       "shape: (24, 2)\n",
       "┌───────┬────────────────┐\n",
       "│ state ┆ open_avg_stars │\n",
       "│ ---   ┆ ---            │\n",
       "│ str   ┆ f64            │\n",
       "╞═══════╪════════════════╡\n",
       "│ TX    ┆ 2.875          │\n",
       "│ MO    ┆ 3.567261       │\n",
       "│ CA    ┆ 4.076138       │\n",
       "│ SD    ┆ 4.5            │\n",
       "│ DE    ┆ 3.365892       │\n",
       "│ …     ┆ …              │\n",
       "│ MA    ┆ 1.25           │\n",
       "│ XMS   ┆ 4.0            │\n",
       "│ AZ    ┆ 3.618833       │\n",
       "│ PA    ┆ 3.603579       │\n",
       "│ NJ    ┆ 3.470915       │\n",
       "└───────┴────────────────┘"
      ]
     },
     "execution_count": 139,
     "metadata": {},
     "output_type": "execute_result"
    }
   ],
   "source": [
    "df.filter(pl.col(\"is_open\") == 1) \\\n",
    ".group_by(\"state\") \\\n",
    "    .map_groups(\n",
    "        lambda g : pl.DataFrame(\n",
    "            {\n",
    "                \"state\" : [g[\"state\"][0]],\n",
    "                \"open_avg_stars\" : [g[\"stars\"].mean()],\n",
    "            }\n",
    "        )\n",
    "    )"
   ]
  },
  {
   "cell_type": "markdown",
   "id": "fcefbc5f",
   "metadata": {},
   "source": [
    "## <strong style=\"color:#5e17eb\"> Summary </strong>\n"
   ]
  },
  {
   "cell_type": "markdown",
   "id": "3c902c43",
   "metadata": {},
   "source": [
    "**Goal: Process each group separately**\n",
    "\n",
    "\n",
    "| **Sub-Topic**                         | **Description**                        | **Example (Yelp)**                                                                          |\n",
    "| ------------------------------------- | -------------------------------------- | ------------------------------------------------------------------------------------------- |\n",
    "| **Convert to Pandas Loop**        | Use `df.group_by()` and iterate (eager) | `for group_key, group_df in df.group_by(\"state\"):`                                           |\n",
    "| **Process in Lazy Mode**          | Use `.collect()` after filtering       | `for state in df.select(\"state\").unique().to_series(): df.filter(pl.col(\"state\") == state)` |\n",
    "| **Apply Functions to Each Group** | Run custom function over groups        | Custom Python function with `.map_groups()` *(in Rust backend)*                             |\n"
   ]
  },
  {
   "cell_type": "markdown",
   "id": "4bc079db",
   "metadata": {},
   "source": [
    "<div style=\"text-align: center;\">\n",
    "  <h4 style=\"\n",
    "    display: inline-block;\n",
    "    color: #5e17eb;\n",
    "    font-family: 'Segoe UI';\n",
    "    border-left: 5px solid #5e17eb;\n",
    "    background-color: #F8F9F9;\n",
    "    padding: 10px 20px;\n",
    "    border-radius: 5px;\n",
    "    text-align: left;\n",
    "  \">\n",
    "  <b>\n",
    "    Thank You 💜\n",
    "    </b>\n",
    "  </h4>\n",
    "</div>"
   ]
  }
 ],
 "metadata": {
  "kernelspec": {
   "display_name": "Python 3",
   "language": "python",
   "name": "python3"
  },
  "language_info": {
   "codemirror_mode": {
    "name": "ipython",
    "version": 3
   },
   "file_extension": ".py",
   "mimetype": "text/x-python",
   "name": "python",
   "nbconvert_exporter": "python",
   "pygments_lexer": "ipython3",
   "version": "3.11.9"
  }
 },
 "nbformat": 4,
 "nbformat_minor": 5
}
