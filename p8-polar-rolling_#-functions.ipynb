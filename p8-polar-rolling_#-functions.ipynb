{
 "cells": [
  {
   "cell_type": "code",
   "execution_count": 48,
   "id": "8ed3981b",
   "metadata": {},
   "outputs": [],
   "source": [
    "import polars as pl\n",
    "from warnings import filterwarnings\n",
    "\n",
    "filterwarnings('ignore')\n",
    "\n",
    "df = pl.read_parquet(r\"C:\\Users\\Rudra\\Desktop\\yelp\\parquet-data\\business.parquet\")"
   ]
  },
  {
   "cell_type": "markdown",
   "id": "1d4c1a7f",
   "metadata": {},
   "source": [
    "- Data With Baraa Youtube channel clearly explain this topic check out before this notebook : https://youtu.be/GzRyOsQsugk?si=13-YEkyBC03ISlHI\n",
    "- If data is soo huge then first do rolling operation in the sql query"
   ]
  },
  {
   "cell_type": "code",
   "execution_count": 49,
   "id": "07a45ab9",
   "metadata": {},
   "outputs": [],
   "source": [
    "business_lf = pl.scan_parquet(r\"C:\\Users\\Rudra\\Desktop\\yelp\\parquet-data\\business.parquet\")\n",
    "checkin_lf = pl.scan_parquet(r\"C:\\Users\\Rudra\\Desktop\\yelp\\parquet-data\\checkin.parquet\")\n",
    "review_lf = pl.scan_parquet(r\"C:\\Users\\Rudra\\Desktop\\yelp\\parquet-data\\review.parquet\")\n",
    "tip_lf = pl.scan_parquet(r\"C:\\Users\\Rudra\\Desktop\\yelp\\parquet-data\\tip.parquet\")\n",
    "user_lf = pl.scan_parquet(r\"C:\\Users\\Rudra\\Desktop\\yelp\\parquet-data\\yelp_user.parquet\")"
   ]
  },
  {
   "cell_type": "code",
   "execution_count": 50,
   "id": "a1729bc5",
   "metadata": {},
   "outputs": [],
   "source": [
    "user_lf = user_lf.with_columns(\n",
    "    pl.col(\"yelping_since\").str.to_datetime()\n",
    ")"
   ]
  },
  {
   "cell_type": "markdown",
   "id": "7dae2ecb",
   "metadata": {},
   "source": [
    "# <strong style=\"color:#5e17eb\">  1. Introduction to Rolling Functions</strong>\n"
   ]
  },
  {
   "cell_type": "markdown",
   "id": "7cd40c52",
   "metadata": {},
   "source": [
    "## <strong style=\"color:#5e17eb\"> Rolling, Cumulative & Window Functions </strong>"
   ]
  },
  {
   "cell_type": "markdown",
   "id": "99c94d32",
   "metadata": {},
   "source": [
    "| Term / Operation              | What It Means                                                                               | How It Works                                                                                                 | Example Use Case                                                    |\n",
    "| ----------------------------- | ------------------------------------------------------------------------------------------- | ------------------------------------------------------------------------------------------------------------ | ------------------------------------------------------------------- |\n",
    "| **Rolling Window**            | A calculation applied over a **fixed-size moving window** of data (rows or time-based).     | Moves forward one step at a time, dropping the oldest entry and adding the newest, then recalculates.        | 7-day moving average of temperature                                 |\n",
    "| **Cumulative (Running)**      | A calculation applied **from the start of the data up to the current point**.               | No window size — keeps accumulating all past values until the current point.                                 | Running total sales till a given day                                |\n",
    "| **Window Function** (Grouped) | An operation applied **within each group separately** while still keeping row-level detail. | Operates over partitions/groups (like SQL window functions). Can be rolling or cumulative but **per group**. | Rank sales within each region; rolling average per customer segment |\n"
   ]
  },
  {
   "cell_type": "markdown",
   "id": "ff49db83",
   "metadata": {},
   "source": [
    "## <strong style=\"color:#5e17eb\">Use Cases  </strong>"
   ]
  },
  {
   "cell_type": "markdown",
   "id": "28cef28b",
   "metadata": {},
   "source": [
    " **🔍 Concept of Rolling Windows**\n",
    "\n",
    "* Imagine you have 10 days of stock prices, and you want the **average price of the last 3 days** —\n",
    "  - Day 3 average = Avg(Day 1, Day 2, Day 3)\n",
    "  - Day 4 average = Avg(Day 2, Day 3, Day 4)\n",
    "  …and so on.\n",
    "* The **window** moves forward (sliding) over the dataset.\n",
    "\n",
    " **🔍Use Cases**\n",
    "\n",
    "| Use Case                   | Example                                    |\n",
    "| -------------------------- | ------------------------------------------ |\n",
    "| **Smoothing noisy data**   | 7-day moving average of COVID cases        |\n",
    "| **Detecting trends**       | Rolling sales growth over last 4 quarters  |\n",
    "| **Volatility calculation** | Rolling standard deviation of stock prices |\n",
    "| **Moving max/min**         | Highest temperature in last 30 days        |\n",
    "| **Rolling sum/count**      | Total rainfall over last 7 days            |\n",
    "\n"
   ]
  },
  {
   "cell_type": "markdown",
   "id": "308c21a3",
   "metadata": {},
   "source": [
    "## <strong style=\"color:#5e17eb\"> Difference </strong>"
   ]
  },
  {
   "cell_type": "markdown",
   "id": "f44a062c",
   "metadata": {},
   "source": [
    "**🔍 Rolling vs Cumulative vs Window**\n",
    "\n",
    "| Feature         | Rolling Window               | Cumulative                     | Window Function               |\n",
    "| --------------- | ---------------------------- | ------------------------------ | ----------------------------- |\n",
    "| **Window size** | Fixed (e.g., 7 days, 5 rows) | Expands from start to current  | Varies by partition/group     |\n",
    "| **Scope**       | Local subset of rows         | All rows from start to current | Per group/partition           |\n",
    "| **Reset point** | Moves forward step-by-step   | Never resets until end         | Resets at each group boundary |\n",
    "| **Example**     | Rolling 3-day average temp   | Running total sales            | Rank within region            |\n",
    "\n",
    "\n",
    "💡 **Key Takeaway**:\n",
    "\n",
    "* **Rolling** is like looking at data through a moving magnifying glass.\n",
    "* **Cumulative** is like filling a bucket over time.\n",
    "* **Window functions** are like running these calculations but **within groups**, without collapsing the dataset.\n",
    "\n",
    "**Example**\n",
    "1. **Rolling** → `.rolling_mean()` and `.groupby_rolling()`\n",
    "2. **Cumulative** → `.cum_sum()`, `.cum_min()`, `.cum_max()`\n",
    "3. **Window functions** → `.over(\"group_column\")`\n"
   ]
  },
  {
   "cell_type": "markdown",
   "id": "8826f46d",
   "metadata": {},
   "source": [
    "## <strong style=\"color:#5e17eb\"> Summary  </strong>\n",
    "\n",
    "**Goal: Understand what rolling operations are and when to use them.**\n",
    "\n",
    "| Sub-Topic                                                            | Description                                                                          |\n",
    "| -------------------------------------------------------------------- | ------------------------------------------------------------------------------------ |\n",
    "| **1.1 Concept of Rolling Windows**                                   | Calculations over a moving window of rows or time.                                   |\n",
    "| **1.2 Use Cases**                                                    | Moving averages, rolling sums, volatility, moving max/min, smoothing noisy data.     |\n",
    "| **1.3 Difference Between Rolling, Cumulative, and Window Functions** | Rolling = fixed-sized moving window; Cumulative = running total; Window = per-group. |\n"
   ]
  },
  {
   "cell_type": "code",
   "execution_count": null,
   "id": "8130802e",
   "metadata": {},
   "outputs": [],
   "source": []
  },
  {
   "cell_type": "markdown",
   "id": "025f6607",
   "metadata": {},
   "source": [
    "# <strong style=\"color:#5e17eb\"> 2. Rolling by Row Count (Index-based Rolling) </strong>\n"
   ]
  },
  {
   "cell_type": "code",
   "execution_count": 51,
   "id": "dbfb7202",
   "metadata": {},
   "outputs": [
    {
     "data": {
      "text/html": [
       "<div><style>\n",
       ".dataframe > thead > tr,\n",
       ".dataframe > tbody > tr {\n",
       "  text-align: right;\n",
       "  white-space: pre-wrap;\n",
       "}\n",
       "</style>\n",
       "<small>shape: (6, 5)</small><table border=\"1\" class=\"dataframe\"><thead><tr><th>user_id</th><th>name</th><th>review_count</th><th>yelping_since</th><th>fans</th></tr><tr><td>str</td><td>str</td><td>i64</td><td>date</td><td>i64</td></tr></thead><tbody><tr><td>&quot;u1&quot;</td><td>&quot;A&quot;</td><td>10</td><td>2015-01-01</td><td>1</td></tr><tr><td>&quot;u2&quot;</td><td>&quot;B&quot;</td><td>20</td><td>2016-01-01</td><td>3</td></tr><tr><td>&quot;u3&quot;</td><td>&quot;C&quot;</td><td>30</td><td>2017-01-01</td><td>5</td></tr><tr><td>&quot;u4&quot;</td><td>&quot;D&quot;</td><td>40</td><td>2018-01-01</td><td>7</td></tr><tr><td>&quot;u5&quot;</td><td>&quot;E&quot;</td><td>50</td><td>2019-01-01</td><td>9</td></tr><tr><td>&quot;u6&quot;</td><td>&quot;F&quot;</td><td>60</td><td>2020-01-01</td><td>11</td></tr></tbody></table></div>"
      ],
      "text/plain": [
       "shape: (6, 5)\n",
       "┌─────────┬──────┬──────────────┬───────────────┬──────┐\n",
       "│ user_id ┆ name ┆ review_count ┆ yelping_since ┆ fans │\n",
       "│ ---     ┆ ---  ┆ ---          ┆ ---           ┆ ---  │\n",
       "│ str     ┆ str  ┆ i64          ┆ date          ┆ i64  │\n",
       "╞═════════╪══════╪══════════════╪═══════════════╪══════╡\n",
       "│ u1      ┆ A    ┆ 10           ┆ 2015-01-01    ┆ 1    │\n",
       "│ u2      ┆ B    ┆ 20           ┆ 2016-01-01    ┆ 3    │\n",
       "│ u3      ┆ C    ┆ 30           ┆ 2017-01-01    ┆ 5    │\n",
       "│ u4      ┆ D    ┆ 40           ┆ 2018-01-01    ┆ 7    │\n",
       "│ u5      ┆ E    ┆ 50           ┆ 2019-01-01    ┆ 9    │\n",
       "│ u6      ┆ F    ┆ 60           ┆ 2020-01-01    ┆ 11   │\n",
       "└─────────┴──────┴──────────────┴───────────────┴──────┘"
      ]
     },
     "execution_count": 51,
     "metadata": {},
     "output_type": "execute_result"
    }
   ],
   "source": [
    "df = pl.DataFrame({\n",
    "    \"user_id\": [\"u1\", \"u2\", \"u3\", \"u4\", \"u5\", \"u6\"],\n",
    "    \"name\": [\"A\", \"B\", \"C\", \"D\", \"E\", \"F\"],\n",
    "    \"review_count\": [10, 20, 30, 40, 50, 60],\n",
    "    \"yelping_since\": pl.date_range(\n",
    "        start=pl.datetime(2015, 1, 1),\n",
    "        end=pl.datetime(2020, 1, 1),\n",
    "        interval=\"1y\",\n",
    "        eager=True\n",
    "    ),\n",
    "    \"fans\": [1, 3, 5, 7, 9, 11]\n",
    "})\n",
    "\n",
    "df"
   ]
  },
  {
   "cell_type": "markdown",
   "id": "135a9b83",
   "metadata": {},
   "source": [
    "## <strong style=\"color:#5e17eb\"> Rolling Mean & Median \n",
    "</strong>"
   ]
  },
  {
   "cell_type": "code",
   "execution_count": 52,
   "id": "dfe47438",
   "metadata": {},
   "outputs": [
    {
     "data": {
      "text/html": [
       "<div><style>\n",
       ".dataframe > thead > tr,\n",
       ".dataframe > tbody > tr {\n",
       "  text-align: right;\n",
       "  white-space: pre-wrap;\n",
       "}\n",
       "</style>\n",
       "<small>shape: (6, 7)</small><table border=\"1\" class=\"dataframe\"><thead><tr><th>user_id</th><th>name</th><th>review_count</th><th>yelping_since</th><th>fans</th><th>roll_mean</th><th>roll_median</th></tr><tr><td>str</td><td>str</td><td>i64</td><td>date</td><td>i64</td><td>f64</td><td>f64</td></tr></thead><tbody><tr><td>&quot;u1&quot;</td><td>&quot;A&quot;</td><td>10</td><td>2015-01-01</td><td>1</td><td>null</td><td>null</td></tr><tr><td>&quot;u2&quot;</td><td>&quot;B&quot;</td><td>20</td><td>2016-01-01</td><td>3</td><td>null</td><td>null</td></tr><tr><td>&quot;u3&quot;</td><td>&quot;C&quot;</td><td>30</td><td>2017-01-01</td><td>5</td><td>20.0</td><td>20.0</td></tr><tr><td>&quot;u4&quot;</td><td>&quot;D&quot;</td><td>40</td><td>2018-01-01</td><td>7</td><td>30.0</td><td>30.0</td></tr><tr><td>&quot;u5&quot;</td><td>&quot;E&quot;</td><td>50</td><td>2019-01-01</td><td>9</td><td>40.0</td><td>40.0</td></tr><tr><td>&quot;u6&quot;</td><td>&quot;F&quot;</td><td>60</td><td>2020-01-01</td><td>11</td><td>50.0</td><td>50.0</td></tr></tbody></table></div>"
      ],
      "text/plain": [
       "shape: (6, 7)\n",
       "┌─────────┬──────┬──────────────┬───────────────┬──────┬───────────┬─────────────┐\n",
       "│ user_id ┆ name ┆ review_count ┆ yelping_since ┆ fans ┆ roll_mean ┆ roll_median │\n",
       "│ ---     ┆ ---  ┆ ---          ┆ ---           ┆ ---  ┆ ---       ┆ ---         │\n",
       "│ str     ┆ str  ┆ i64          ┆ date          ┆ i64  ┆ f64       ┆ f64         │\n",
       "╞═════════╪══════╪══════════════╪═══════════════╪══════╪═══════════╪═════════════╡\n",
       "│ u1      ┆ A    ┆ 10           ┆ 2015-01-01    ┆ 1    ┆ null      ┆ null        │\n",
       "│ u2      ┆ B    ┆ 20           ┆ 2016-01-01    ┆ 3    ┆ null      ┆ null        │\n",
       "│ u3      ┆ C    ┆ 30           ┆ 2017-01-01    ┆ 5    ┆ 20.0      ┆ 20.0        │\n",
       "│ u4      ┆ D    ┆ 40           ┆ 2018-01-01    ┆ 7    ┆ 30.0      ┆ 30.0        │\n",
       "│ u5      ┆ E    ┆ 50           ┆ 2019-01-01    ┆ 9    ┆ 40.0      ┆ 40.0        │\n",
       "│ u6      ┆ F    ┆ 60           ┆ 2020-01-01    ┆ 11   ┆ 50.0      ┆ 50.0        │\n",
       "└─────────┴──────┴──────────────┴───────────────┴──────┴───────────┴─────────────┘"
      ]
     },
     "execution_count": 52,
     "metadata": {},
     "output_type": "execute_result"
    }
   ],
   "source": [
    "df.with_columns([\n",
    "    pl.col(\"review_count\").rolling_mean(window_size=3).alias(\"roll_mean\"),\n",
    "    pl.col(\"review_count\").rolling_median(window_size=3).alias(\"roll_median\"),\n",
    "])\n"
   ]
  },
  {
   "cell_type": "markdown",
   "id": "4d1cf3de",
   "metadata": {},
   "source": [
    "## <strong style=\"color:#5e17eb\"> Rolling Min / Max & sum </strong>"
   ]
  },
  {
   "cell_type": "code",
   "execution_count": 53,
   "id": "ab2fae14",
   "metadata": {},
   "outputs": [
    {
     "data": {
      "text/html": [
       "<div><style>\n",
       ".dataframe > thead > tr,\n",
       ".dataframe > tbody > tr {\n",
       "  text-align: right;\n",
       "  white-space: pre-wrap;\n",
       "}\n",
       "</style>\n",
       "<small>shape: (6, 8)</small><table border=\"1\" class=\"dataframe\"><thead><tr><th>user_id</th><th>name</th><th>review_count</th><th>yelping_since</th><th>fans</th><th>roll_sum</th><th>roll_min</th><th>roll_max</th></tr><tr><td>str</td><td>str</td><td>i64</td><td>date</td><td>i64</td><td>i64</td><td>i64</td><td>i64</td></tr></thead><tbody><tr><td>&quot;u1&quot;</td><td>&quot;A&quot;</td><td>10</td><td>2015-01-01</td><td>1</td><td>null</td><td>null</td><td>null</td></tr><tr><td>&quot;u2&quot;</td><td>&quot;B&quot;</td><td>20</td><td>2016-01-01</td><td>3</td><td>null</td><td>null</td><td>null</td></tr><tr><td>&quot;u3&quot;</td><td>&quot;C&quot;</td><td>30</td><td>2017-01-01</td><td>5</td><td>60</td><td>10</td><td>30</td></tr><tr><td>&quot;u4&quot;</td><td>&quot;D&quot;</td><td>40</td><td>2018-01-01</td><td>7</td><td>90</td><td>20</td><td>40</td></tr><tr><td>&quot;u5&quot;</td><td>&quot;E&quot;</td><td>50</td><td>2019-01-01</td><td>9</td><td>120</td><td>30</td><td>50</td></tr><tr><td>&quot;u6&quot;</td><td>&quot;F&quot;</td><td>60</td><td>2020-01-01</td><td>11</td><td>150</td><td>40</td><td>60</td></tr></tbody></table></div>"
      ],
      "text/plain": [
       "shape: (6, 8)\n",
       "┌─────────┬──────┬──────────────┬───────────────┬──────┬──────────┬──────────┬──────────┐\n",
       "│ user_id ┆ name ┆ review_count ┆ yelping_since ┆ fans ┆ roll_sum ┆ roll_min ┆ roll_max │\n",
       "│ ---     ┆ ---  ┆ ---          ┆ ---           ┆ ---  ┆ ---      ┆ ---      ┆ ---      │\n",
       "│ str     ┆ str  ┆ i64          ┆ date          ┆ i64  ┆ i64      ┆ i64      ┆ i64      │\n",
       "╞═════════╪══════╪══════════════╪═══════════════╪══════╪══════════╪══════════╪══════════╡\n",
       "│ u1      ┆ A    ┆ 10           ┆ 2015-01-01    ┆ 1    ┆ null     ┆ null     ┆ null     │\n",
       "│ u2      ┆ B    ┆ 20           ┆ 2016-01-01    ┆ 3    ┆ null     ┆ null     ┆ null     │\n",
       "│ u3      ┆ C    ┆ 30           ┆ 2017-01-01    ┆ 5    ┆ 60       ┆ 10       ┆ 30       │\n",
       "│ u4      ┆ D    ┆ 40           ┆ 2018-01-01    ┆ 7    ┆ 90       ┆ 20       ┆ 40       │\n",
       "│ u5      ┆ E    ┆ 50           ┆ 2019-01-01    ┆ 9    ┆ 120      ┆ 30       ┆ 50       │\n",
       "│ u6      ┆ F    ┆ 60           ┆ 2020-01-01    ┆ 11   ┆ 150      ┆ 40       ┆ 60       │\n",
       "└─────────┴──────┴──────────────┴───────────────┴──────┴──────────┴──────────┴──────────┘"
      ]
     },
     "execution_count": 53,
     "metadata": {},
     "output_type": "execute_result"
    }
   ],
   "source": [
    "df.with_columns([\n",
    "    pl.col(\"review_count\").rolling_sum(window_size=3).alias(\"roll_sum\"),\n",
    "    pl.col(\"review_count\").rolling_min(window_size=3).alias(\"roll_min\"),\n",
    "    pl.col(\"review_count\").rolling_max(window_size=3).alias(\"roll_max\"),\n",
    "])\n"
   ]
  },
  {
   "cell_type": "markdown",
   "id": "362bcf7d",
   "metadata": {},
   "source": [
    "## <strong style=\"color:#5e17eb\">Rolling std / var & Quantile </strong>"
   ]
  },
  {
   "cell_type": "code",
   "execution_count": 54,
   "id": "effbe164",
   "metadata": {},
   "outputs": [
    {
     "data": {
      "text/html": [
       "<div><style>\n",
       ".dataframe > thead > tr,\n",
       ".dataframe > tbody > tr {\n",
       "  text-align: right;\n",
       "  white-space: pre-wrap;\n",
       "}\n",
       "</style>\n",
       "<small>shape: (6, 8)</small><table border=\"1\" class=\"dataframe\"><thead><tr><th>user_id</th><th>name</th><th>review_count</th><th>yelping_since</th><th>fans</th><th>roll_std</th><th>roll_var</th><th>roll_quantile</th></tr><tr><td>str</td><td>str</td><td>i64</td><td>date</td><td>i64</td><td>f64</td><td>f64</td><td>f64</td></tr></thead><tbody><tr><td>&quot;u1&quot;</td><td>&quot;A&quot;</td><td>10</td><td>2015-01-01</td><td>1</td><td>null</td><td>null</td><td>null</td></tr><tr><td>&quot;u2&quot;</td><td>&quot;B&quot;</td><td>20</td><td>2016-01-01</td><td>3</td><td>null</td><td>null</td><td>20.0</td></tr><tr><td>&quot;u3&quot;</td><td>&quot;C&quot;</td><td>30</td><td>2017-01-01</td><td>5</td><td>10.0</td><td>100.0</td><td>30.0</td></tr><tr><td>&quot;u4&quot;</td><td>&quot;D&quot;</td><td>40</td><td>2018-01-01</td><td>7</td><td>10.0</td><td>100.0</td><td>40.0</td></tr><tr><td>&quot;u5&quot;</td><td>&quot;E&quot;</td><td>50</td><td>2019-01-01</td><td>9</td><td>10.0</td><td>100.0</td><td>50.0</td></tr><tr><td>&quot;u6&quot;</td><td>&quot;F&quot;</td><td>60</td><td>2020-01-01</td><td>11</td><td>10.0</td><td>100.0</td><td>60.0</td></tr></tbody></table></div>"
      ],
      "text/plain": [
       "shape: (6, 8)\n",
       "┌─────────┬──────┬──────────────┬───────────────┬──────┬──────────┬──────────┬───────────────┐\n",
       "│ user_id ┆ name ┆ review_count ┆ yelping_since ┆ fans ┆ roll_std ┆ roll_var ┆ roll_quantile │\n",
       "│ ---     ┆ ---  ┆ ---          ┆ ---           ┆ ---  ┆ ---      ┆ ---      ┆ ---           │\n",
       "│ str     ┆ str  ┆ i64          ┆ date          ┆ i64  ┆ f64      ┆ f64      ┆ f64           │\n",
       "╞═════════╪══════╪══════════════╪═══════════════╪══════╪══════════╪══════════╪═══════════════╡\n",
       "│ u1      ┆ A    ┆ 10           ┆ 2015-01-01    ┆ 1    ┆ null     ┆ null     ┆ null          │\n",
       "│ u2      ┆ B    ┆ 20           ┆ 2016-01-01    ┆ 3    ┆ null     ┆ null     ┆ 20.0          │\n",
       "│ u3      ┆ C    ┆ 30           ┆ 2017-01-01    ┆ 5    ┆ 10.0     ┆ 100.0    ┆ 30.0          │\n",
       "│ u4      ┆ D    ┆ 40           ┆ 2018-01-01    ┆ 7    ┆ 10.0     ┆ 100.0    ┆ 40.0          │\n",
       "│ u5      ┆ E    ┆ 50           ┆ 2019-01-01    ┆ 9    ┆ 10.0     ┆ 100.0    ┆ 50.0          │\n",
       "│ u6      ┆ F    ┆ 60           ┆ 2020-01-01    ┆ 11   ┆ 10.0     ┆ 100.0    ┆ 60.0          │\n",
       "└─────────┴──────┴──────────────┴───────────────┴──────┴──────────┴──────────┴───────────────┘"
      ]
     },
     "execution_count": 54,
     "metadata": {},
     "output_type": "execute_result"
    }
   ],
   "source": [
    "df.with_columns([\n",
    "    pl.col(\"review_count\").rolling_std(window_size=3).alias(\"roll_std\"),\n",
    "    pl.col(\"review_count\").rolling_var(window_size=3).alias(\"roll_var\"),\n",
    "    pl.col(\"review_count\").rolling_quantile(quantile=0.9).alias(\"roll_quantile\")\n",
    "])"
   ]
  },
  {
   "cell_type": "markdown",
   "id": "d4862e36",
   "metadata": {},
   "source": [
    "## <strong style=\"color:#5e17eb\"> Summary  </strong>\n",
    "\n",
    "**Goal: Perform rolling calculations over N previous rows.**\n",
    "\n",
    "\n",
    "| Sub-Topic                | Function                                      | Example                                 |\n",
    "| ------------------------ | --------------------------------------------- | --------------------------------------- |\n",
    "| **2.1 Rolling Mean**     | `.rolling_mean(window_size, min_periods=...)` | `pl.col(\"stars\").rolling_mean(3)`       |\n",
    "| **2.2 Rolling Sum**      | `.rolling_sum()`                              | `pl.col(\"review_count\").rolling_sum(5)` |\n",
    "| **2.3 Rolling Min/Max**  | `.rolling_min()`, `.rolling_max()`            | Find recent peak/min value              |\n",
    "| **2.4 Rolling Std/Var**  | `.rolling_std()`, `.rolling_var()`            | Rolling standard deviation              |\n",
    "| **2.5 Rolling Median**   | `.rolling_median()`                           | Smoothing with median filter            |\n",
    "| **2.6 Rolling Quantile** | `.rolling_quantile(q=0.9)`                    | Rolling 90th percentile                 |\n",
    "\n",
    "\n",
    "-\n",
    "\n",
    "> 💡 **Tip**: Use min_periods when your first few windows have fewer rows than window_size."
   ]
  },
  {
   "cell_type": "markdown",
   "id": "c872df0b",
   "metadata": {},
   "source": [
    "# <strong style=\"color:#5e17eb\"> 3. Rolling by Time Period (Time-based Rolling) </strong>\n"
   ]
  },
  {
   "cell_type": "markdown",
   "id": "36852cc5",
   "metadata": {},
   "source": [
    "## <strong style=\"color:#5e17eb\"> Concept </strong>\n",
    "\n",
    "- **Normal rolling** → window size is a *number of rows* (e.g., window_size=3 means last 3 rows).\n",
    "\n",
    "- **Time-based rolling** → window size is a *time period* (e.g., \"2y\", \"3mo\", \"7d\") and depends on a datetime column.\n",
    "\n",
    "*Needs:*\n",
    "\n",
    "- A datetime column.\n",
    "\n",
    "- Sorting by datetime before rolling."
   ]
  },
  {
   "cell_type": "code",
   "execution_count": 55,
   "id": "b921408c",
   "metadata": {},
   "outputs": [
    {
     "name": "stdout",
     "output_type": "stream",
     "text": [
      "shape: (5, 3)\n",
      "┌─────────┬───────────────┬──────────────┐\n",
      "│ user_id ┆ yelping_since ┆ review_count │\n",
      "│ ---     ┆ ---           ┆ ---          │\n",
      "│ str     ┆ date          ┆ i64          │\n",
      "╞═════════╪═══════════════╪══════════════╡\n",
      "│ u1      ┆ 2018-01-01    ┆ 10           │\n",
      "│ u2      ┆ 2019-01-01    ┆ 20           │\n",
      "│ u3      ┆ 2020-01-01    ┆ 30           │\n",
      "│ u4      ┆ 2021-01-01    ┆ 40           │\n",
      "│ u5      ┆ 2022-01-01    ┆ 50           │\n",
      "└─────────┴───────────────┴──────────────┘\n"
     ]
    }
   ],
   "source": [
    "\n",
    "df = pl.DataFrame({\n",
    "    \"user_id\": [\"u1\", \"u2\", \"u3\", \"u4\", \"u5\"],\n",
    "    \"yelping_since\": pl.date_range(\n",
    "        start=pl.datetime(2018, 1, 1),\n",
    "        end=pl.datetime(2022, 1, 1),\n",
    "        interval=\"1y\",\n",
    "        eager=True\n",
    "    ),\n",
    "    \"review_count\": [10, 20, 30, 40, 50]\n",
    "})\n",
    "\n",
    "print(df)\n"
   ]
  },
  {
   "cell_type": "markdown",
   "id": "423b438d",
   "metadata": {},
   "source": [
    "## <strong style=\"color:#5e17eb\"> Rolling window with Time </strong>"
   ]
  },
  {
   "cell_type": "code",
   "execution_count": 56,
   "id": "e2b302a5",
   "metadata": {},
   "outputs": [
    {
     "name": "stdout",
     "output_type": "stream",
     "text": [
      "shape: (5, 4)\n",
      "┌─────────┬───────────────┬──────────────┬──────────────┐\n",
      "│ user_id ┆ yelping_since ┆ review_count ┆ rolling_mean │\n",
      "│ ---     ┆ ---           ┆ ---          ┆ ---          │\n",
      "│ str     ┆ date          ┆ i64          ┆ f64          │\n",
      "╞═════════╪═══════════════╪══════════════╪══════════════╡\n",
      "│ u1      ┆ 2018-01-01    ┆ 10           ┆ null         │\n",
      "│ u2      ┆ 2019-01-01    ┆ 20           ┆ 15.0         │\n",
      "│ u3      ┆ 2020-01-01    ┆ 30           ┆ 25.0         │\n",
      "│ u4      ┆ 2021-01-01    ┆ 40           ┆ 35.0         │\n",
      "│ u5      ┆ 2022-01-01    ┆ 50           ┆ 45.0         │\n",
      "└─────────┴───────────────┴──────────────┴──────────────┘\n"
     ]
    }
   ],
   "source": [
    "df = df.sort(\"yelping_since\")  # Must be sorted\n",
    "\n",
    "df_rolling_mean = df.with_columns([\n",
    "    \"user_id\",\n",
    "    \"yelping_since\",\n",
    "    pl.col(\"review_count\")\n",
    "      .rolling_mean(\n",
    "          window_size=2,                \n",
    "      )\n",
    "      .alias(\"rolling_mean\")\n",
    "])\n",
    "\n",
    "print(df_rolling_mean)"
   ]
  },
  {
   "cell_type": "markdown",
   "id": "c42175d4",
   "metadata": {},
   "source": [
    "## <strong style=\"color:#5e17eb\"> Summary  </strong>\n",
    "\n",
    "**Key Difference**\n",
    "| Function           | Works On      | Window Type     | Null Handling          |\n",
    "| ------------------ | ------------- | --------------- | ---------------------- |\n",
    "| `rolling_*`        | Numeric       | Fixed row count | Null until enough rows |\n",
    "| `cum*`             | Numeric       | From start      | Always fills           |\n",
    "| `group_by_dynamic` | Time/datetime | Time-based      | Groups per time frame  |\n",
    "\n",
    "\n",
    "**Goal: Perform rolling calculations over a time duration, not row count.**\n",
    "| Sub-Topic                                               | Function / Method                               | Example                                                |\n",
    "| ------------------------------------------------------- | ----------------------------------------------- | ------------------------------------------------------ |\n",
    "| **3.1 Setting Time Column**                             | Ensure `.cast(pl.Datetime)` for time operations | `pl.col(\"date\").cast(pl.Datetime)`                     |\n",
    "| **3.2 `.rolling_mean()` with `by` & `window`**          | Rolling mean per time period                    | `pl.col(\"sales\").rolling_mean(window=\"7d\", by=\"date\")` |\n",
    "| **3.3 `.rolling_sum()` Time Window**                    | Sum of values over last 30 days                 | `\"30d\"`                                                                             |\n",
    "- \n",
    "\n",
    "> 💡 **Tip**: Requires sorted time column for correct results."
   ]
  },
  {
   "cell_type": "markdown",
   "id": "d5a7f488",
   "metadata": {},
   "source": [
    "# <strong style=\"color:#5e17eb\">  4. Parameters to Control Rolling</strong>\n"
   ]
  },
  {
   "cell_type": "code",
   "execution_count": 61,
   "id": "3bad4899",
   "metadata": {},
   "outputs": [
    {
     "name": "stdout",
     "output_type": "stream",
     "text": [
      "shape: (4, 2)\n",
      "┌─────────────────────┬─────────────────┐\n",
      "│ dt                  ┆ rolling_mean_2d │\n",
      "│ ---                 ┆ ---             │\n",
      "│ datetime[μs]        ┆ f64             │\n",
      "╞═════════════════════╪═════════════════╡\n",
      "│ 2020-01-01 00:00:00 ┆ 10.0            │\n",
      "│ 2020-01-02 00:00:00 ┆ 12.5            │\n",
      "│ 2020-01-03 00:00:00 ┆ 13.5            │\n",
      "│ 2020-01-04 00:00:00 ┆ 15.0            │\n",
      "└─────────────────────┴─────────────────┘\n"
     ]
    }
   ],
   "source": [
    "import polars as pl\n",
    "from datetime import datetime\n",
    "\n",
    "df_time = pl.DataFrame({\n",
    "    \"dt\": [datetime(2020, 1, 1), datetime(2020, 1, 2), datetime(2020, 1, 3), datetime(2020, 1, 4)],\n",
    "    \"value\": [10, 15, 12, 18]\n",
    "}).with_columns(\n",
    "    pl.col(\"dt\").set_sorted()\n",
    ")\n",
    "\n",
    "df_time_rolling = df_time.rolling(\n",
    "    index_column=\"dt\",\n",
    "    period=\"2d\"\n",
    ").agg(\n",
    "    pl.col(\"value\").mean().alias(\"rolling_mean_2d\")\n",
    ")\n",
    "print(df_time_rolling)"
   ]
  },
  {
   "cell_type": "code",
   "execution_count": 62,
   "id": "f6604a0b",
   "metadata": {},
   "outputs": [
    {
     "name": "stdout",
     "output_type": "stream",
     "text": [
      "shape: (5,)\n",
      "Series: '' [f64]\n",
      "[\n",
      "\tnull\n",
      "\tnull\n",
      "\t20.0\n",
      "\t30.0\n",
      "\t40.0\n",
      "]\n",
      "shape: (5,)\n",
      "Series: '' [f64]\n",
      "[\n",
      "\tnull\n",
      "\tnull\n",
      "\t23.0\n",
      "\t33.0\n",
      "\t43.0\n",
      "]\n",
      "shape: (5,)\n",
      "Series: '' [i64]\n",
      "[\n",
      "\tnull\n",
      "\t60\n",
      "\t90\n",
      "\t120\n",
      "\tnull\n",
      "]\n",
      "shape: (5,)\n",
      "Series: '' [i64]\n",
      "[\n",
      "\tnull\n",
      "\t20\n",
      "\t30\n",
      "\t40\n",
      "\t50\n",
      "]\n"
     ]
    }
   ],
   "source": [
    "import polars as pl\n",
    "\n",
    "s = pl.Series([10, 20, 30, 40, 50])\n",
    "\n",
    "print(s.rolling_mean(window_size=3))\n",
    "print(s.rolling_mean(window_size=3, weights=[0.2, 0.3, 0.5]))\n",
    "print(s.rolling_sum(window_size=3, center=True))\n",
    "print(s.rolling_max(window_size=3, min_samples=2))\n"
   ]
  },
  {
   "cell_type": "markdown",
   "id": "fcc854b9",
   "metadata": {},
   "source": [
    "## <strong style=\"color:#5e17eb\"> Window Size <strong>"
   ]
  },
  {
   "cell_type": "code",
   "execution_count": 64,
   "id": "47a9e132",
   "metadata": {},
   "outputs": [
    {
     "data": {
      "text/plain": [
       "Schema([('user_id', String), ('yelping_since', Date), ('review_count', Int64)])"
      ]
     },
     "execution_count": 64,
     "metadata": {},
     "output_type": "execute_result"
    }
   ],
   "source": [
    "df.collect_schema()"
   ]
  },
  {
   "cell_type": "markdown",
   "id": "e3310b1b",
   "metadata": {},
   "source": [
    "## <strong style=\"color:#5e17eb\">min_samples  </strong>"
   ]
  },
  {
   "cell_type": "code",
   "execution_count": null,
   "id": "34885aff",
   "metadata": {},
   "outputs": [],
   "source": []
  },
  {
   "cell_type": "markdown",
   "id": "cf632e37",
   "metadata": {},
   "source": [
    "## <strong style=\"color:#5e17eb\">  center & weight </strong>"
   ]
  },
  {
   "cell_type": "code",
   "execution_count": null,
   "id": "63ba798f",
   "metadata": {},
   "outputs": [],
   "source": []
  },
  {
   "cell_type": "markdown",
   "id": "2a000ade",
   "metadata": {},
   "source": [
    "## <strong style=\"color:#5e17eb\"> Summary  </strong>\n",
    "\n",
    "**Goal: Fine-tune rolling behavior.**\n",
    "\n",
    "| Parameter                     | Description                                                         |\n",
    "| ----------------------------- | ------------------------------------------------------------------- |\n",
    "| **`window_size` or `window`** | Size of rolling window (`int` rows or `\"xd\"` days)                  |\n",
    "| **`min_periods`**             | Minimum number of observations required to produce result           |\n",
    "| **`center`**                  | If True, centers the window on the current row                      |\n",
    "| **`by`**                      | Column name to group rolling by (e.g., by `city` in your Yelp data) |\n"
   ]
  },
  {
   "cell_type": "markdown",
   "id": "b21a66bc",
   "metadata": {},
   "source": [
    "# <strong style=\"color:#5e17eb\"> 5. Rolling with Groups </strong>\n"
   ]
  },
  {
   "cell_type": "code",
   "execution_count": 65,
   "id": "56f9c65c",
   "metadata": {},
   "outputs": [
    {
     "name": "stdout",
     "output_type": "stream",
     "text": [
      "shape: (6, 4)\n",
      "┌──────────┬──────────┬────────────┬───────┐\n",
      "│ category ┆ customer ┆ date       ┆ sales │\n",
      "│ ---      ┆ ---      ┆ ---        ┆ ---   │\n",
      "│ str      ┆ i64      ┆ date       ┆ i64   │\n",
      "╞══════════╪══════════╪════════════╪═══════╡\n",
      "│ A        ┆ 1        ┆ 2025-01-01 ┆ 10    │\n",
      "│ A        ┆ 1        ┆ 2025-01-02 ┆ 20    │\n",
      "│ A        ┆ 2        ┆ 2025-01-03 ┆ 15    │\n",
      "│ B        ┆ 1        ┆ 2025-01-04 ┆ 5     │\n",
      "│ B        ┆ 1        ┆ 2025-01-05 ┆ 7     │\n",
      "│ B        ┆ 2        ┆ 2025-01-06 ┆ 9     │\n",
      "└──────────┴──────────┴────────────┴───────┘\n"
     ]
    }
   ],
   "source": [
    "import polars as pl\n",
    "import datetime as dt\n",
    "\n",
    "df = pl.DataFrame({\n",
    "    \"category\": [\"A\", \"A\", \"A\", \"B\", \"B\", \"B\"],\n",
    "    \"customer\": [1, 1, 2, 1, 1, 2],\n",
    "    \"date\": pl.date_range(\n",
    "        start=dt.date(2025, 1, 1),\n",
    "        end=dt.date(2025, 1, 6),\n",
    "        interval=\"1d\",\n",
    "        eager=True\n",
    "    ),\n",
    "    \"sales\": [10, 20, 15, 5, 7, 9]\n",
    "})\n",
    "\n",
    "print(df)\n"
   ]
  },
  {
   "cell_type": "markdown",
   "id": "9476b069",
   "metadata": {},
   "source": [
    "## <strong style=\"color:#5e17eb\">  Grouped rolling mean</strong>"
   ]
  },
  {
   "cell_type": "code",
   "execution_count": 66,
   "id": "6cd5f343",
   "metadata": {},
   "outputs": [
    {
     "name": "stdout",
     "output_type": "stream",
     "text": [
      "shape: (2, 2)\n",
      "┌──────────┬────────────────────┐\n",
      "│ category ┆ rolling_mean_sales │\n",
      "│ ---      ┆ ---                │\n",
      "│ str      ┆ list[f64]          │\n",
      "╞══════════╪════════════════════╡\n",
      "│ A        ┆ [null, 15.0, 17.5] │\n",
      "│ B        ┆ [null, 6.0, 8.0]   │\n",
      "└──────────┴────────────────────┘\n"
     ]
    }
   ],
   "source": [
    "df_grouped_mean = (\n",
    "    df.sort(\"date\")\n",
    "      .group_by(\"category\", maintain_order=True)\n",
    "      .agg([\n",
    "          pl.col(\"sales\")\n",
    "          .rolling_mean(window_size=2)\n",
    "          .alias(\"rolling_mean_sales\")\n",
    "      ])\n",
    ")\n",
    "\n",
    "print(df_grouped_mean)\n"
   ]
  },
  {
   "cell_type": "markdown",
   "id": "8eba9764",
   "metadata": {},
   "source": [
    "## <strong style=\"color:#5e17eb\"> using over </strong>"
   ]
  },
  {
   "cell_type": "code",
   "execution_count": 67,
   "id": "47e9444f",
   "metadata": {},
   "outputs": [
    {
     "name": "stdout",
     "output_type": "stream",
     "text": [
      "shape: (6, 5)\n",
      "┌──────────┬──────────┬────────────┬───────┬────────────────────┐\n",
      "│ category ┆ customer ┆ date       ┆ sales ┆ rolling_mean_sales │\n",
      "│ ---      ┆ ---      ┆ ---        ┆ ---   ┆ ---                │\n",
      "│ str      ┆ i64      ┆ date       ┆ i64   ┆ f64                │\n",
      "╞══════════╪══════════╪════════════╪═══════╪════════════════════╡\n",
      "│ A        ┆ 1        ┆ 2025-01-01 ┆ 10    ┆ null               │\n",
      "│ A        ┆ 1        ┆ 2025-01-02 ┆ 20    ┆ 15.0               │\n",
      "│ A        ┆ 2        ┆ 2025-01-03 ┆ 15    ┆ 17.5               │\n",
      "│ B        ┆ 1        ┆ 2025-01-04 ┆ 5     ┆ null               │\n",
      "│ B        ┆ 1        ┆ 2025-01-05 ┆ 7     ┆ 6.0                │\n",
      "│ B        ┆ 2        ┆ 2025-01-06 ┆ 9     ┆ 8.0                │\n",
      "└──────────┴──────────┴────────────┴───────┴────────────────────┘\n"
     ]
    }
   ],
   "source": [
    "df_over = df.sort(\"date\").with_columns(\n",
    "    pl.col(\"sales\")\n",
    "      .rolling_mean(window_size=2)\n",
    "      .over(\"category\")  # rolling mean separately for each category\n",
    "      .alias(\"rolling_mean_sales\")\n",
    ")\n",
    "print(df_over)"
   ]
  },
  {
   "cell_type": "markdown",
   "id": "a5e1265b",
   "metadata": {},
   "source": [
    "## <strong style=\"color:#5e17eb\">  Multiple Group by</strong>"
   ]
  },
  {
   "cell_type": "code",
   "execution_count": 68,
   "id": "be115585",
   "metadata": {},
   "outputs": [
    {
     "name": "stdout",
     "output_type": "stream",
     "text": [
      "shape: (6, 5)\n",
      "┌──────────┬──────────┬────────────┬───────┬────────────────────┐\n",
      "│ category ┆ customer ┆ date       ┆ sales ┆ rolling_mean_sales │\n",
      "│ ---      ┆ ---      ┆ ---        ┆ ---   ┆ ---                │\n",
      "│ str      ┆ i64      ┆ date       ┆ i64   ┆ f64                │\n",
      "╞══════════╪══════════╪════════════╪═══════╪════════════════════╡\n",
      "│ A        ┆ 1        ┆ 2025-01-01 ┆ 10    ┆ null               │\n",
      "│ A        ┆ 1        ┆ 2025-01-02 ┆ 20    ┆ 15.0               │\n",
      "│ A        ┆ 2        ┆ 2025-01-03 ┆ 15    ┆ null               │\n",
      "│ B        ┆ 1        ┆ 2025-01-04 ┆ 5     ┆ null               │\n",
      "│ B        ┆ 1        ┆ 2025-01-05 ┆ 7     ┆ 6.0                │\n",
      "│ B        ┆ 2        ┆ 2025-01-06 ┆ 9     ┆ null               │\n",
      "└──────────┴──────────┴────────────┴───────┴────────────────────┘\n"
     ]
    }
   ],
   "source": [
    "df_multi_group = df.sort(\"date\").with_columns(\n",
    "    pl.col(\"sales\")\n",
    "      .rolling_mean(window_size=2)\n",
    "      .over([\"category\", \"customer\"])\n",
    "      .alias(\"rolling_mean_sales\")\n",
    ")\n",
    "\n",
    "print(df_multi_group)\n"
   ]
  },
  {
   "cell_type": "markdown",
   "id": "d2a5965f",
   "metadata": {},
   "source": [
    "## <strong style=\"color:#5e17eb\"> Summary  </strong>\n",
    "\n",
    "**Goal: Apply rolling metrics within groups (per category, per customer).**\n",
    "\n",
    "| Sub-Topic                    | Example                                                    |\n",
    "| ---------------------------- | ---------------------------------------------------------- |\n",
    "| **5.1 Grouped Rolling Mean** | `df.group_by(\"state\").agg(pl.col(\"stars\").rolling_mean(3))` |\n",
    "| **5.2 Using `.over()`**      | `pl.col(\"stars\").rolling_mean(3).over(\"city\")`             |\n",
    "| **5.3 Multiple Group Keys**  | `over([\"state\", \"city\"])`                                  |\n"
   ]
  },
  {
   "cell_type": "markdown",
   "id": "ecda4575",
   "metadata": {},
   "source": [
    "# <strong style=\"color:#5e17eb\"> 6. Cumulative Functions (Running Totals) </strong>\n"
   ]
  },
  {
   "cell_type": "code",
   "execution_count": 69,
   "id": "7aecf1b9",
   "metadata": {},
   "outputs": [
    {
     "data": {
      "text/html": [
       "<div><style>\n",
       ".dataframe > thead > tr,\n",
       ".dataframe > tbody > tr {\n",
       "  text-align: right;\n",
       "  white-space: pre-wrap;\n",
       "}\n",
       "</style>\n",
       "<small>shape: (6, 3)</small><table border=\"1\" class=\"dataframe\"><thead><tr><th>customer</th><th>day</th><th>sales</th></tr><tr><td>str</td><td>i64</td><td>i64</td></tr></thead><tbody><tr><td>&quot;A&quot;</td><td>1</td><td>10</td></tr><tr><td>&quot;A&quot;</td><td>2</td><td>20</td></tr><tr><td>&quot;A&quot;</td><td>3</td><td>15</td></tr><tr><td>&quot;B&quot;</td><td>1</td><td>5</td></tr><tr><td>&quot;B&quot;</td><td>2</td><td>7</td></tr><tr><td>&quot;B&quot;</td><td>3</td><td>9</td></tr></tbody></table></div>"
      ],
      "text/plain": [
       "shape: (6, 3)\n",
       "┌──────────┬─────┬───────┐\n",
       "│ customer ┆ day ┆ sales │\n",
       "│ ---      ┆ --- ┆ ---   │\n",
       "│ str      ┆ i64 ┆ i64   │\n",
       "╞══════════╪═════╪═══════╡\n",
       "│ A        ┆ 1   ┆ 10    │\n",
       "│ A        ┆ 2   ┆ 20    │\n",
       "│ A        ┆ 3   ┆ 15    │\n",
       "│ B        ┆ 1   ┆ 5     │\n",
       "│ B        ┆ 2   ┆ 7     │\n",
       "│ B        ┆ 3   ┆ 9     │\n",
       "└──────────┴─────┴───────┘"
      ]
     },
     "execution_count": 69,
     "metadata": {},
     "output_type": "execute_result"
    }
   ],
   "source": [
    "# Sample Data\n",
    "df = pl.DataFrame({\n",
    "    \"customer\": [\"A\", \"A\", \"A\", \"B\", \"B\", \"B\"],\n",
    "    \"day\": [1, 2, 3, 1, 2, 3],\n",
    "    \"sales\": [10, 20, 15, 5, 7, 9]\n",
    "})\n",
    "df"
   ]
  },
  {
   "cell_type": "markdown",
   "id": "74853081",
   "metadata": {},
   "source": [
    "## <strong style=\"color:#5e17eb\"> cum_min / cum_max / cum_sum </strong>"
   ]
  },
  {
   "cell_type": "code",
   "execution_count": 70,
   "id": "3edd8019",
   "metadata": {},
   "outputs": [
    {
     "name": "stdout",
     "output_type": "stream",
     "text": [
      "shape: (6, 6)\n",
      "┌──────────┬─────┬───────┬─────────┬─────────┬─────────┐\n",
      "│ customer ┆ day ┆ sales ┆ cum_sum ┆ cum_min ┆ cum_max │\n",
      "│ ---      ┆ --- ┆ ---   ┆ ---     ┆ ---     ┆ ---     │\n",
      "│ str      ┆ i64 ┆ i64   ┆ i64     ┆ i64     ┆ i64     │\n",
      "╞══════════╪═════╪═══════╪═════════╪═════════╪═════════╡\n",
      "│ A        ┆ 1   ┆ 10    ┆ 10      ┆ 10      ┆ 10      │\n",
      "│ A        ┆ 2   ┆ 20    ┆ 30      ┆ 10      ┆ 20      │\n",
      "│ A        ┆ 3   ┆ 15    ┆ 45      ┆ 10      ┆ 20      │\n",
      "│ B        ┆ 1   ┆ 5     ┆ 5       ┆ 5       ┆ 5       │\n",
      "│ B        ┆ 2   ┆ 7     ┆ 12      ┆ 5       ┆ 7       │\n",
      "│ B        ┆ 3   ┆ 9     ┆ 21      ┆ 5       ┆ 9       │\n",
      "└──────────┴─────┴───────┴─────────┴─────────┴─────────┘\n"
     ]
    }
   ],
   "source": [
    "result = df.with_columns([\n",
    "    pl.col(\"sales\").cum_sum().over(\"customer\").alias(\"cum_sum\"),\n",
    "    pl.col(\"sales\").cum_min().over(\"customer\").alias(\"cum_min\"),\n",
    "    pl.col(\"sales\").cum_max().over(\"customer\").alias(\"cum_max\"),\n",
    "])\n",
    "\n",
    "print(result)"
   ]
  },
  {
   "cell_type": "markdown",
   "id": "fdc7a9f4",
   "metadata": {},
   "source": [
    "## <strong style=\"color:#5e17eb\"> cum_prod / cum_count  </strong>"
   ]
  },
  {
   "cell_type": "code",
   "execution_count": 71,
   "id": "aaef5e56",
   "metadata": {},
   "outputs": [
    {
     "name": "stdout",
     "output_type": "stream",
     "text": [
      "shape: (6, 5)\n",
      "┌──────────┬─────┬───────┬──────────┬───────────┐\n",
      "│ customer ┆ day ┆ sales ┆ cum_prod ┆ cum_count │\n",
      "│ ---      ┆ --- ┆ ---   ┆ ---      ┆ ---       │\n",
      "│ str      ┆ i64 ┆ i64   ┆ i64      ┆ u32       │\n",
      "╞══════════╪═════╪═══════╪══════════╪═══════════╡\n",
      "│ A        ┆ 1   ┆ 10    ┆ 10       ┆ 1         │\n",
      "│ A        ┆ 2   ┆ 20    ┆ 200      ┆ 2         │\n",
      "│ A        ┆ 3   ┆ 15    ┆ 3000     ┆ 3         │\n",
      "│ B        ┆ 1   ┆ 5     ┆ 5        ┆ 1         │\n",
      "│ B        ┆ 2   ┆ 7     ┆ 35       ┆ 2         │\n",
      "│ B        ┆ 3   ┆ 9     ┆ 315      ┆ 3         │\n",
      "└──────────┴─────┴───────┴──────────┴───────────┘\n"
     ]
    }
   ],
   "source": [
    "result = df.with_columns([\n",
    "    pl.col(\"sales\").cum_prod().over(\"customer\").alias(\"cum_prod\"),\n",
    "    pl.col(\"sales\").cum_count().over(\"customer\").alias(\"cum_count\"),\n",
    "])\n",
    "\n",
    "print(result)"
   ]
  },
  {
   "cell_type": "markdown",
   "id": "743648a2",
   "metadata": {},
   "source": [
    "## <strong style=\"color:#5e17eb\"> Summary  </strong>\n",
    "\n",
    "**Goal: Running calculations from start to current row.**\n",
    "\n",
    "| Function                   | Example                     |\n",
    "| -------------------------- | --------------------------- |\n",
    "| `.cum_sum()`               | `pl.col(\"sales\").cum_sum()` |\n",
    "| `.cum_min()`, `.cum_max()` | Running min/max             |\n",
    "| `.cum_prod()`              | Running product             |\n",
    "| `.cum_count()`             | Running row count           |\n",
    "| `.cum_mean()`              | Running average             |\n",
    "\n",
    "- \n",
    "\n",
    "> 💡 **Tip**: Cumulative functions are much faster than rolling when you just need running totals."
   ]
  },
  {
   "cell_type": "markdown",
   "id": "eb00fa4e",
   "metadata": {},
   "source": [
    "# <strong style=\"color:#5e17eb\"> 7. Advanced Rolling Patterns </strong>\n"
   ]
  },
  {
   "cell_type": "markdown",
   "id": "094671a4",
   "metadata": {},
   "source": [
    "## <strong style=\"color:#5e17eb\"> Custom Aggregations </strong>"
   ]
  },
  {
   "cell_type": "code",
   "execution_count": 72,
   "id": "82faed9c",
   "metadata": {},
   "outputs": [
    {
     "data": {
      "text/html": [
       "<div><style>\n",
       ".dataframe > thead > tr,\n",
       ".dataframe > tbody > tr {\n",
       "  text-align: right;\n",
       "  white-space: pre-wrap;\n",
       "}\n",
       "</style>\n",
       "<small>shape: (10, 2)</small><table border=\"1\" class=\"dataframe\"><thead><tr><th>day</th><th>sales</th></tr><tr><td>date</td><td>i64</td></tr></thead><tbody><tr><td>2025-01-01</td><td>5</td></tr><tr><td>2025-01-02</td><td>8</td></tr><tr><td>2025-01-03</td><td>10</td></tr><tr><td>2025-01-04</td><td>3</td></tr><tr><td>2025-01-05</td><td>7</td></tr><tr><td>2025-01-06</td><td>6</td></tr><tr><td>2025-01-07</td><td>4</td></tr><tr><td>2025-01-08</td><td>9</td></tr><tr><td>2025-01-09</td><td>12</td></tr><tr><td>2025-01-10</td><td>15</td></tr></tbody></table></div>"
      ],
      "text/plain": [
       "shape: (10, 2)\n",
       "┌────────────┬───────┐\n",
       "│ day        ┆ sales │\n",
       "│ ---        ┆ ---   │\n",
       "│ date       ┆ i64   │\n",
       "╞════════════╪═══════╡\n",
       "│ 2025-01-01 ┆ 5     │\n",
       "│ 2025-01-02 ┆ 8     │\n",
       "│ 2025-01-03 ┆ 10    │\n",
       "│ 2025-01-04 ┆ 3     │\n",
       "│ 2025-01-05 ┆ 7     │\n",
       "│ 2025-01-06 ┆ 6     │\n",
       "│ 2025-01-07 ┆ 4     │\n",
       "│ 2025-01-08 ┆ 9     │\n",
       "│ 2025-01-09 ┆ 12    │\n",
       "│ 2025-01-10 ┆ 15    │\n",
       "└────────────┴───────┘"
      ]
     },
     "execution_count": 72,
     "metadata": {},
     "output_type": "execute_result"
    }
   ],
   "source": [
    "import polars as pl\n",
    "import datetime as dt\n",
    "import numpy as np\n",
    "\n",
    "# Sample data\n",
    "df = pl.DataFrame({\n",
    "    \"day\": pl.date_range(\n",
    "        start=dt.date(2025, 1, 1),   \n",
    "        end=dt.date(2025, 1, 10),    \n",
    "        interval=\"1d\",\n",
    "        eager=True\n",
    "    ),\n",
    "    \"sales\": [5, 8, 10, 3, 7, 6, 4, 9, 12, 15]\n",
    "})\n",
    "\n",
    "df\n"
   ]
  },
  {
   "cell_type": "markdown",
   "id": "69f7ef06",
   "metadata": {},
   "source": [
    "## <strong style=\"color:#5e17eb\"> Multiple Rolling Metrics in One place </strong>"
   ]
  },
  {
   "cell_type": "code",
   "execution_count": 73,
   "id": "584055b7",
   "metadata": {},
   "outputs": [
    {
     "name": "stdout",
     "output_type": "stream",
     "text": [
      "shape: (10, 5)\n",
      "┌────────────┬───────┬─────────────┬────────────┬────────────┐\n",
      "│ day        ┆ sales ┆ roll_mean_3 ┆ roll_max_3 ┆ roll_min_3 │\n",
      "│ ---        ┆ ---   ┆ ---         ┆ ---        ┆ ---        │\n",
      "│ date       ┆ i64   ┆ f64         ┆ i64        ┆ i64        │\n",
      "╞════════════╪═══════╪═════════════╪════════════╪════════════╡\n",
      "│ 2025-01-01 ┆ 5     ┆ null        ┆ null       ┆ null       │\n",
      "│ 2025-01-02 ┆ 8     ┆ null        ┆ null       ┆ null       │\n",
      "│ 2025-01-03 ┆ 10    ┆ 7.666667    ┆ 10         ┆ 5          │\n",
      "│ 2025-01-04 ┆ 3     ┆ 7.0         ┆ 10         ┆ 3          │\n",
      "│ 2025-01-05 ┆ 7     ┆ 6.666667    ┆ 10         ┆ 3          │\n",
      "│ 2025-01-06 ┆ 6     ┆ 5.333333    ┆ 7          ┆ 3          │\n",
      "│ 2025-01-07 ┆ 4     ┆ 5.666667    ┆ 7          ┆ 4          │\n",
      "│ 2025-01-08 ┆ 9     ┆ 6.333333    ┆ 9          ┆ 4          │\n",
      "│ 2025-01-09 ┆ 12    ┆ 8.333333    ┆ 12         ┆ 4          │\n",
      "│ 2025-01-10 ┆ 15    ┆ 12.0        ┆ 15         ┆ 9          │\n",
      "└────────────┴───────┴─────────────┴────────────┴────────────┘\n"
     ]
    }
   ],
   "source": [
    "df_multi = df.with_columns([\n",
    "    pl.col(\"sales\").rolling_mean(3).alias(\"roll_mean_3\"),\n",
    "    pl.col(\"sales\").rolling_max(3).alias(\"roll_max_3\"),\n",
    "    pl.col(\"sales\").rolling_min(3).alias(\"roll_min_3\")\n",
    "])\n",
    "\n",
    "print(df_multi)\n"
   ]
  },
  {
   "cell_type": "markdown",
   "id": "7e08ff9a",
   "metadata": {},
   "source": [
    "## <strong style=\"color:#5e17eb\"> Rolling over Expressions </strong>"
   ]
  },
  {
   "cell_type": "code",
   "execution_count": 74,
   "id": "b1fa7360",
   "metadata": {},
   "outputs": [
    {
     "name": "stdout",
     "output_type": "stream",
     "text": [
      "shape: (10, 3)\n",
      "┌────────────┬───────┬───────────────────────────┐\n",
      "│ day        ┆ sales ┆ sales_per_visit_roll_mean │\n",
      "│ ---        ┆ ---   ┆ ---                       │\n",
      "│ date       ┆ i64   ┆ f64                       │\n",
      "╞════════════╪═══════╪═══════════════════════════╡\n",
      "│ 2025-01-01 ┆ 5     ┆ null                      │\n",
      "│ 2025-01-02 ┆ 8     ┆ null                      │\n",
      "│ 2025-01-03 ┆ 10    ┆ 4.111111                  │\n",
      "│ 2025-01-04 ┆ 3     ┆ 2.694444                  │\n",
      "│ 2025-01-05 ┆ 7     ┆ 1.827778                  │\n",
      "│ 2025-01-06 ┆ 6     ┆ 1.05                      │\n",
      "│ 2025-01-07 ┆ 4     ┆ 0.990476                  │\n",
      "│ 2025-01-08 ┆ 9     ┆ 0.89881                   │\n",
      "│ 2025-01-09 ┆ 12    ┆ 1.009921                  │\n",
      "│ 2025-01-10 ┆ 15    ┆ 1.319444                  │\n",
      "└────────────┴───────┴───────────────────────────┘\n"
     ]
    }
   ],
   "source": [
    "df_expr = df.with_columns(\n",
    "    (pl.col(\"sales\") / (pl.arange(1, df.height + 1)))  # visits = day number\n",
    "      .rolling_mean(3)\n",
    "      .alias(\"sales_per_visit_roll_mean\")\n",
    ")\n",
    "\n",
    "print(df_expr)"
   ]
  },
  {
   "cell_type": "markdown",
   "id": "e0f468fb",
   "metadata": {},
   "source": [
    "## <strong style=\"color:#5e17eb\"> Summary  </strong>\n",
    "\n",
    "**Goal: Build custom rolling logic.**\n",
    "\n",
    "| Sub-Topic                                    | Description                                                       |\n",
    "| -------------------------------------------- | ----------------------------------------------------------------- |\n",
    "| **7.1 Custom Aggregations**                  | `.rolling_apply(func, window_size)` to run your own function      |\n",
    "| **7.2 Multiple Rolling Metrics in One Pass** | `.agg([pl.col(\"x\").rolling_mean(3), pl.col(\"x\").rolling_max(3)])` |\n",
    "| **7.3 Rolling over Expressions**             | `(pl.col(\"sales\") / pl.col(\"visits\")).rolling_mean(7)`            |\n"
   ]
  },
  {
   "cell_type": "markdown",
   "id": "cddf8179",
   "metadata": {},
   "source": [
    "# <strong style=\"color:#5e17eb\"> 8. Performance Tips for Rolling </strong>\n",
    "\n",
    "- **Sort before rolling:** Always sort by index or date for predictable results.\n",
    "\n",
    "- **Use proper dtypes:** For time-based rolling, ensure datetime column is in pl.Datetime format.\n",
    "\n",
    "- **Lazy API:** For huge datasets, chain rolling in lazy mode and .collect() only once.\n",
    "\n",
    "- **Avoid rolling_apply for large data:** It’s slower—prefer built-in .rolling_* functions.\n",
    "\n",
    "- Use `over()` for grouped rolling instead of manual loops."
   ]
  },
  {
   "cell_type": "markdown",
   "id": "4bc079db",
   "metadata": {},
   "source": [
    "<div style=\"text-align: center;\">\n",
    "  <h4 style=\"\n",
    "    display: inline-block;\n",
    "    color: #5e17eb;\n",
    "    font-family: 'Segoe UI';\n",
    "    border-left: 5px solid #5e17eb;\n",
    "    background-color: #F8F9F9;\n",
    "    padding: 10px 20px;\n",
    "    border-radius: 5px;\n",
    "    text-align: left;\n",
    "  \">\n",
    "  <b>\n",
    "    Thank You 💜\n",
    "    </b>\n",
    "  </h4>\n",
    "</div>"
   ]
  }
 ],
 "metadata": {
  "kernelspec": {
   "display_name": "Python 3",
   "language": "python",
   "name": "python3"
  },
  "language_info": {
   "codemirror_mode": {
    "name": "ipython",
    "version": 3
   },
   "file_extension": ".py",
   "mimetype": "text/x-python",
   "name": "python",
   "nbconvert_exporter": "python",
   "pygments_lexer": "ipython3",
   "version": "3.11.9"
  }
 },
 "nbformat": 4,
 "nbformat_minor": 5
}
