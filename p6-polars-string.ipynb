{
 "cells": [
  {
   "cell_type": "code",
   "execution_count": 2,
   "id": "8ed3981b",
   "metadata": {},
   "outputs": [],
   "source": [
    "import polars as pl\n",
    "from warnings import filterwarnings\n",
    "\n",
    "filterwarnings('ignore')\n",
    "\n",
    "df = pl.read_parquet(r\"C:\\Users\\Rudra\\Desktop\\yelp\\parquet-data\\business.parquet\")"
   ]
  },
  {
   "cell_type": "code",
   "execution_count": 3,
   "id": "07a45ab9",
   "metadata": {},
   "outputs": [
    {
     "data": {
      "text/plain": [
       "'\\nnow we study about the joining and merging so \\n\\ndf.join (outter, inner, left, right) all joining \\ndf.join_asof\\ndf.join_where\\ndf.insert_column\\ndf.merge_sorted\\n\\nand any kind of joining is avaivale on the polars \\n'"
      ]
     },
     "execution_count": 3,
     "metadata": {},
     "output_type": "execute_result"
    }
   ],
   "source": [
    "\"\"\"\n",
    "now we study about the joining and merging so \n",
    "\n",
    "df.join (outter, inner, left, right) all joining \n",
    "df.join_asof\n",
    "df.join_where\n",
    "df.insert_column\n",
    "df.merge_sorted\n",
    "\n",
    "and any kind of joining is avaivale on the polars \n",
    "\"\"\""
   ]
  },
  {
   "cell_type": "code",
   "execution_count": 3,
   "id": "f9528b63",
   "metadata": {},
   "outputs": [],
   "source": [
    "business_df = pl.read_parquet(r\"C:\\Users\\Rudra\\Desktop\\yelp\\parquet-data\\business.parquet\")\n",
    "checkin_df = pl.scan_parquet(r\"C:\\Users\\Rudra\\Desktop\\yelp\\parquet-data\\checkin.parquet\")\n",
    "review_df = pl.scan_parquet(r\"C:\\Users\\Rudra\\Desktop\\yelp\\parquet-data\\review.parquet\")\n",
    "tip_df = pl.scan_parquet(r\"C:\\Users\\Rudra\\Desktop\\yelp\\parquet-data\\tip.parquet\")\n",
    "user_df = pl.scan_parquet(r\"C:\\Users\\Rudra\\Desktop\\yelp\\parquet-data\\yelp_user.parquet\")"
   ]
  },
  {
   "cell_type": "code",
   "execution_count": 5,
   "id": "dcff7610",
   "metadata": {},
   "outputs": [
    {
     "data": {
      "text/plain": [
       "Schema([('business_id', String),\n",
       "        ('name', String),\n",
       "        ('address', String),\n",
       "        ('city', String),\n",
       "        ('state', String),\n",
       "        ('postal_code', String),\n",
       "        ('latitude', Float64),\n",
       "        ('longitude', Float64),\n",
       "        ('stars', Float64),\n",
       "        ('review_count', Int64),\n",
       "        ('is_open', Int64),\n",
       "        ('attributes', String),\n",
       "        ('categories', String),\n",
       "        ('hours', String)])"
      ]
     },
     "execution_count": 5,
     "metadata": {},
     "output_type": "execute_result"
    }
   ],
   "source": [
    "business_df.collect_schema()"
   ]
  },
  {
   "cell_type": "code",
   "execution_count": 6,
   "id": "42731eb3",
   "metadata": {},
   "outputs": [
    {
     "data": {
      "text/plain": [
       "Schema([('business_id', String), ('date', String)])"
      ]
     },
     "execution_count": 6,
     "metadata": {},
     "output_type": "execute_result"
    }
   ],
   "source": [
    "checkin_df.collect_schema()"
   ]
  },
  {
   "cell_type": "code",
   "execution_count": 7,
   "id": "0627575b",
   "metadata": {},
   "outputs": [
    {
     "data": {
      "text/plain": [
       "Schema([('review_id', String),\n",
       "        ('user_id', String),\n",
       "        ('business_id', String),\n",
       "        ('stars', Int64),\n",
       "        ('useful', Int64),\n",
       "        ('funny', Int64),\n",
       "        ('cool', Int64),\n",
       "        ('text', String),\n",
       "        ('date', String)])"
      ]
     },
     "execution_count": 7,
     "metadata": {},
     "output_type": "execute_result"
    }
   ],
   "source": [
    "review_df.collect_schema()"
   ]
  },
  {
   "cell_type": "code",
   "execution_count": 8,
   "id": "8e685df9",
   "metadata": {},
   "outputs": [
    {
     "data": {
      "text/plain": [
       "Schema([('user_id', String),\n",
       "        ('business_id', String),\n",
       "        ('text', String),\n",
       "        ('date', String),\n",
       "        ('compliment_count', Int64)])"
      ]
     },
     "execution_count": 8,
     "metadata": {},
     "output_type": "execute_result"
    }
   ],
   "source": [
    "tip_df.collect_schema()"
   ]
  },
  {
   "cell_type": "code",
   "execution_count": 9,
   "id": "4ca2d143",
   "metadata": {},
   "outputs": [
    {
     "data": {
      "text/plain": [
       "Schema([('user_id', String),\n",
       "        ('name', String),\n",
       "        ('review_count', Int64),\n",
       "        ('yelping_since', String),\n",
       "        ('useful', Int64),\n",
       "        ('funny', Int64),\n",
       "        ('cool', Int64),\n",
       "        ('elite', String),\n",
       "        ('friends', String),\n",
       "        ('fans', Int64),\n",
       "        ('average_stars', Float64),\n",
       "        ('compliment_hot', Int64),\n",
       "        ('compliment_more', Int64),\n",
       "        ('compliment_profile', Int64),\n",
       "        ('compliment_cute', Int64),\n",
       "        ('compliment_list', Int64),\n",
       "        ('compliment_note', Int64),\n",
       "        ('compliment_plain', Int64),\n",
       "        ('compliment_cool', Int64),\n",
       "        ('compliment_funny', Int64),\n",
       "        ('compliment_writer', Int64),\n",
       "        ('compliment_photos', Int64)])"
      ]
     },
     "execution_count": 9,
     "metadata": {},
     "output_type": "execute_result"
    }
   ],
   "source": [
    "user_df.collect_schema()"
   ]
  },
  {
   "cell_type": "markdown",
   "id": "f8058c8f",
   "metadata": {},
   "source": [
    "# <strong style=\"color:#5e17eb\">  1. Check & Match</strong>\n"
   ]
  },
  {
   "cell_type": "markdown",
   "id": "c15d8b83",
   "metadata": {},
   "source": [
    "**⚡ Notes for Big Data Efficiency**\n",
    "- Use `literal=True` for speed when not using regex.\n",
    "\n",
    "- Use `.contains_any()` for multiple search terms.\n",
    "\n",
    "- Chain filters in lazy mode with `.scan_parquet()` or `.scan_csv()` to save RAM.\n",
    "\n",
    "- Avoid applying regex on *entire dataset* unless really needed.\n",
    "\n"
   ]
  },
  {
   "cell_type": "markdown",
   "id": "fc2f75e3",
   "metadata": {},
   "source": [
    "## <strong style=\"color:#5e17eb\"> contains(pattern, literal=false) </strong>\n",
    "*Purpose:* Check if a string contains a substring or matches a regex pattern.\n",
    "\n",
    "- `literal=True` → match exact substring\n",
    "\n",
    "- `literal=False` (default) → pattern is regex\n",
    "- https://docs.pola.rs/api/python/stable/reference/series/api/polars.Series.str.contains.html"
   ]
  },
  {
   "cell_type": "code",
   "execution_count": null,
   "id": "47e3b010",
   "metadata": {},
   "outputs": [
    {
     "data": {
      "text/html": [
       "<div><style>\n",
       ".dataframe > thead > tr,\n",
       ".dataframe > tbody > tr {\n",
       "  text-align: right;\n",
       "  white-space: pre-wrap;\n",
       "}\n",
       "</style>\n",
       "<small>shape: (3, 2)</small><table border=\"1\" class=\"dataframe\"><thead><tr><th>name</th><th>categories</th></tr><tr><td>str</td><td>str</td></tr></thead><tbody><tr><td>&quot;St Alphonsus Urgent Care&quot;</td><td>&quot;Hospitals, Doctors, Family Pra…</td></tr><tr><td>&quot;Aesthetic Dermatology Associat…</td><td>&quot;Medical Spas, Doctors, Laser H…</td></tr><tr><td>&quot;HonorHealth | FastMed Urgent C…</td><td>&quot;Urgent Care, Health &amp; Medical,…</td></tr></tbody></table></div>"
      ],
      "text/plain": [
       "shape: (3, 2)\n",
       "┌─────────────────────────────────┬─────────────────────────────────┐\n",
       "│ name                            ┆ categories                      │\n",
       "│ ---                             ┆ ---                             │\n",
       "│ str                             ┆ str                             │\n",
       "╞═════════════════════════════════╪═════════════════════════════════╡\n",
       "│ St Alphonsus Urgent Care        ┆ Hospitals, Doctors, Family Pra… │\n",
       "│ Aesthetic Dermatology Associat… ┆ Medical Spas, Doctors, Laser H… │\n",
       "│ HonorHealth | FastMed Urgent C… ┆ Urgent Care, Health & Medical,… │\n",
       "└─────────────────────────────────┴─────────────────────────────────┘"
      ]
     },
     "execution_count": 25,
     "metadata": {},
     "output_type": "execute_result"
    }
   ],
   "source": [
    "# Businesses in the \"categories\" column that contain \"Doctors\"\n",
    "business_df.filter(\n",
    "    pl.col(\"categories\").str.contains(\"Doctors\", literal=True)\n",
    ").select([\"name\", \"categories\"]).sample(3)"
   ]
  },
  {
   "cell_type": "markdown",
   "id": "9be67991",
   "metadata": {},
   "source": [
    "## <strong style=\"color:#5e17eb\">  contains_any([patterns])</strong>\n"
   ]
  },
  {
   "cell_type": "code",
   "execution_count": 30,
   "id": "ebed4ba0",
   "metadata": {},
   "outputs": [
    {
     "data": {
      "text/html": [
       "<div><style>\n",
       ".dataframe > thead > tr,\n",
       ".dataframe > tbody > tr {\n",
       "  text-align: right;\n",
       "  white-space: pre-wrap;\n",
       "}\n",
       "</style>\n",
       "<small>shape: (3, 2)</small><table border=\"1\" class=\"dataframe\"><thead><tr><th>name</th><th>categories</th></tr><tr><td>str</td><td>str</td></tr></thead><tbody><tr><td>&quot;ATI Physical Therapy&quot;</td><td>&quot;Occupational Therapy, Rehabili…</td></tr><tr><td>&quot;Awaken The Glow with Jourdan R…</td><td>&quot;Supernatural Readings, Arts &amp; …</td></tr><tr><td>&quot;Forefront Dermatology&quot;</td><td>&quot;Doctors, Dermatologists, Healt…</td></tr></tbody></table></div>"
      ],
      "text/plain": [
       "shape: (3, 2)\n",
       "┌─────────────────────────────────┬─────────────────────────────────┐\n",
       "│ name                            ┆ categories                      │\n",
       "│ ---                             ┆ ---                             │\n",
       "│ str                             ┆ str                             │\n",
       "╞═════════════════════════════════╪═════════════════════════════════╡\n",
       "│ ATI Physical Therapy            ┆ Occupational Therapy, Rehabili… │\n",
       "│ Awaken The Glow with Jourdan R… ┆ Supernatural Readings, Arts & … │\n",
       "│ Forefront Dermatology           ┆ Doctors, Dermatologists, Healt… │\n",
       "└─────────────────────────────────┴─────────────────────────────────┘"
      ]
     },
     "execution_count": 30,
     "metadata": {},
     "output_type": "execute_result"
    }
   ],
   "source": [
    "patterns = [\"Doctors\", \"Acupuncture\", \"Nutritionists\"]\n",
    "\n",
    "business_df.filter(\n",
    "    pl.col(\"categories\").str.contains_any(patterns)\n",
    ").select([\"name\", \"categories\"]).sample(3)\n"
   ]
  },
  {
   "cell_type": "markdown",
   "id": "83e72107",
   "metadata": {},
   "source": [
    "## <strong style=\"color:#5e17eb\">starts_with(prefix) &  ends_with(suffix)</strong>\n",
    "\n",
    "- **Starts with**: https://docs.pola.rs/api/python/stable/reference/expressions/api/polars.Expr.bin.starts_with.html#polars.Expr.bin.starts_with\n",
    "- **Ends with** : https://docs.pola.rs/api/python/stable/reference/expressions/api/polars.Expr.bin.ends_with.html#polars.Expr.bin.ends_with"
   ]
  },
  {
   "cell_type": "code",
   "execution_count": 32,
   "id": "c8d7f8d5",
   "metadata": {},
   "outputs": [
    {
     "data": {
      "text/html": [
       "<div><style>\n",
       ".dataframe > thead > tr,\n",
       ".dataframe > tbody > tr {\n",
       "  text-align: right;\n",
       "  white-space: pre-wrap;\n",
       "}\n",
       "</style>\n",
       "<small>shape: (1, 14)</small><table border=\"1\" class=\"dataframe\"><thead><tr><th>business_id</th><th>name</th><th>address</th><th>city</th><th>state</th><th>postal_code</th><th>latitude</th><th>longitude</th><th>stars</th><th>review_count</th><th>is_open</th><th>attributes</th><th>categories</th><th>hours</th></tr><tr><td>str</td><td>str</td><td>str</td><td>str</td><td>str</td><td>str</td><td>f64</td><td>f64</td><td>f64</td><td>i64</td><td>i64</td><td>str</td><td>str</td><td>str</td></tr></thead><tbody><tr><td>&quot;Yoy4h6G8S2F0_3-WvS8y1A&quot;</td><td>&quot;Arrow Electric&quot;</td><td>&quot;1020 State St&quot;</td><td>&quot;santa Barbara&quot;</td><td>&quot;CA&quot;</td><td>&quot;93101&quot;</td><td>34.422213</td><td>-119.702331</td><td>4.5</td><td>15</td><td>1</td><td>&quot;{&#x27;BusinessAcceptsCreditCards&#x27;:…</td><td>&quot;Electricians, Home Services, U…</td><td>&quot;{&#x27;Saturday&#x27;: &#x27;8:0-8:15&#x27;}&quot;</td></tr></tbody></table></div>"
      ],
      "text/plain": [
       "shape: (1, 14)\n",
       "┌────────────┬───────────┬───────────┬───────────┬───┬─────────┬───────────┬───────────┬───────────┐\n",
       "│ business_i ┆ name      ┆ address   ┆ city      ┆ … ┆ is_open ┆ attribute ┆ categorie ┆ hours     │\n",
       "│ d          ┆ ---       ┆ ---       ┆ ---       ┆   ┆ ---     ┆ s         ┆ s         ┆ ---       │\n",
       "│ ---        ┆ str       ┆ str       ┆ str       ┆   ┆ i64     ┆ ---       ┆ ---       ┆ str       │\n",
       "│ str        ┆           ┆           ┆           ┆   ┆         ┆ str       ┆ str       ┆           │\n",
       "╞════════════╪═══════════╪═══════════╪═══════════╪═══╪═════════╪═══════════╪═══════════╪═══════════╡\n",
       "│ Yoy4h6G8S2 ┆ Arrow     ┆ 1020      ┆ santa     ┆ … ┆ 1       ┆ {'Busines ┆ Electrici ┆ {'Saturda │\n",
       "│ F0_3-WvS8y ┆ Electric  ┆ State St  ┆ Barbara   ┆   ┆         ┆ sAcceptsC ┆ ans, Home ┆ y': '8:0- │\n",
       "│ 1A         ┆           ┆           ┆           ┆   ┆         ┆ reditCard ┆ Services, ┆ 8:15'}    │\n",
       "│            ┆           ┆           ┆           ┆   ┆         ┆ s':…      ┆ U…        ┆           │\n",
       "└────────────┴───────────┴───────────┴───────────┴───┴─────────┴───────────┴───────────┴───────────┘"
      ]
     },
     "execution_count": 32,
     "metadata": {},
     "output_type": "execute_result"
    }
   ],
   "source": [
    "business_df.filter(\n",
    "    pl.col(\"city\").str.starts_with(\"san\")\n",
    ")"
   ]
  },
  {
   "cell_type": "code",
   "execution_count": 38,
   "id": "88898daa",
   "metadata": {},
   "outputs": [
    {
     "data": {
      "text/html": [
       "<div><style>\n",
       ".dataframe > thead > tr,\n",
       ".dataframe > tbody > tr {\n",
       "  text-align: right;\n",
       "  white-space: pre-wrap;\n",
       "}\n",
       "</style>\n",
       "<small>shape: (1, 14)</small><table border=\"1\" class=\"dataframe\"><thead><tr><th>business_id</th><th>name</th><th>address</th><th>city</th><th>state</th><th>postal_code</th><th>latitude</th><th>longitude</th><th>stars</th><th>review_count</th><th>is_open</th><th>attributes</th><th>categories</th><th>hours</th></tr><tr><td>str</td><td>str</td><td>str</td><td>str</td><td>str</td><td>str</td><td>f64</td><td>f64</td><td>f64</td><td>i64</td><td>i64</td><td>str</td><td>str</td><td>str</td></tr></thead><tbody><tr><td>&quot;KArezUwWY4Tlr2UCrAyREA&quot;</td><td>&quot;Stonewater Spa Salon &amp; Boutiqu…</td><td>&quot;3 Plaza Frontenac&quot;</td><td>&quot;Frontenac&quot;</td><td>&quot;MO&quot;</td><td>&quot;63131&quot;</td><td>38.629942</td><td>-90.407369</td><td>3.5</td><td>27</td><td>1</td><td>&quot;{&#x27;RestaurantsPriceRange2&#x27;: &#x27;3&#x27;…</td><td>&quot;Hair Salons, Nail Salons, Mass…</td><td>&quot;{&#x27;Monday&#x27;: &#x27;9:0-18:0&#x27;, &#x27;Tuesda…</td></tr></tbody></table></div>"
      ],
      "text/plain": [
       "shape: (1, 14)\n",
       "┌────────────┬───────────┬───────────┬───────────┬───┬─────────┬───────────┬───────────┬───────────┐\n",
       "│ business_i ┆ name      ┆ address   ┆ city      ┆ … ┆ is_open ┆ attribute ┆ categorie ┆ hours     │\n",
       "│ d          ┆ ---       ┆ ---       ┆ ---       ┆   ┆ ---     ┆ s         ┆ s         ┆ ---       │\n",
       "│ ---        ┆ str       ┆ str       ┆ str       ┆   ┆ i64     ┆ ---       ┆ ---       ┆ str       │\n",
       "│ str        ┆           ┆           ┆           ┆   ┆         ┆ str       ┆ str       ┆           │\n",
       "╞════════════╪═══════════╪═══════════╪═══════════╪═══╪═════════╪═══════════╪═══════════╪═══════════╡\n",
       "│ KArezUwWY4 ┆ Stonewate ┆ 3 Plaza   ┆ Frontenac ┆ … ┆ 1       ┆ {'Restaur ┆ Hair      ┆ {'Monday' │\n",
       "│ Tlr2UCrAyR ┆ r Spa     ┆ Frontenac ┆           ┆   ┆         ┆ antsPrice ┆ Salons,   ┆ : '9:0-18 │\n",
       "│ EA         ┆ Salon &   ┆           ┆           ┆   ┆         ┆ Range2':  ┆ Nail      ┆ :0',      │\n",
       "│            ┆ Boutiqu…  ┆           ┆           ┆   ┆         ┆ '3'…      ┆ Salons,   ┆ 'Tuesda…  │\n",
       "│            ┆           ┆           ┆           ┆   ┆         ┆           ┆ Mass…     ┆           │\n",
       "└────────────┴───────────┴───────────┴───────────┴───┴─────────┴───────────┴───────────┴───────────┘"
      ]
     },
     "execution_count": 38,
     "metadata": {},
     "output_type": "execute_result"
    }
   ],
   "source": [
    "business_df.filter(\n",
    "    pl.col(\"city\").str.ends_with(\"c\")\n",
    ").limit(1)"
   ]
  },
  {
   "cell_type": "markdown",
   "id": "3b665f0c",
   "metadata": {},
   "source": [
    "## <strong style=\"color:#5e17eb\"> find(pattern, literal=False) </strong>\n"
   ]
  },
  {
   "cell_type": "code",
   "execution_count": 40,
   "id": "d68c290a",
   "metadata": {},
   "outputs": [
    {
     "data": {
      "text/html": [
       "<div><style>\n",
       ".dataframe > thead > tr,\n",
       ".dataframe > tbody > tr {\n",
       "  text-align: right;\n",
       "  white-space: pre-wrap;\n",
       "}\n",
       "</style>\n",
       "<small>shape: (150_346, 2)</small><table border=\"1\" class=\"dataframe\"><thead><tr><th>categories</th><th>position</th></tr><tr><td>str</td><td>u32</td></tr></thead><tbody><tr><td>&quot;Doctors, Traditional Chinese M…</td><td>0</td></tr><tr><td>&quot;Shipping Centers, Local Servic…</td><td>null</td></tr><tr><td>&quot;Department Stores, Shopping, F…</td><td>null</td></tr><tr><td>&quot;Restaurants, Food, Bubble Tea,…</td><td>null</td></tr><tr><td>&quot;Brewpubs, Breweries, Food&quot;</td><td>null</td></tr><tr><td>&hellip;</td><td>&hellip;</td></tr><tr><td>&quot;Nail Salons, Beauty &amp; Spas&quot;</td><td>null</td></tr><tr><td>&quot;Pets, Nurseries &amp; Gardening, P…</td><td>null</td></tr><tr><td>&quot;Shopping, Jewelry, Piercing, T…</td><td>null</td></tr><tr><td>&quot;Fitness/Exercise Equipment, Ey…</td><td>null</td></tr><tr><td>&quot;Beauty &amp; Spas, Permanent Makeu…</td><td>null</td></tr></tbody></table></div>"
      ],
      "text/plain": [
       "shape: (150_346, 2)\n",
       "┌─────────────────────────────────┬──────────┐\n",
       "│ categories                      ┆ position │\n",
       "│ ---                             ┆ ---      │\n",
       "│ str                             ┆ u32      │\n",
       "╞═════════════════════════════════╪══════════╡\n",
       "│ Doctors, Traditional Chinese M… ┆ 0        │\n",
       "│ Shipping Centers, Local Servic… ┆ null     │\n",
       "│ Department Stores, Shopping, F… ┆ null     │\n",
       "│ Restaurants, Food, Bubble Tea,… ┆ null     │\n",
       "│ Brewpubs, Breweries, Food       ┆ null     │\n",
       "│ …                               ┆ …        │\n",
       "│ Nail Salons, Beauty & Spas      ┆ null     │\n",
       "│ Pets, Nurseries & Gardening, P… ┆ null     │\n",
       "│ Shopping, Jewelry, Piercing, T… ┆ null     │\n",
       "│ Fitness/Exercise Equipment, Ey… ┆ null     │\n",
       "│ Beauty & Spas, Permanent Makeu… ┆ null     │\n",
       "└─────────────────────────────────┴──────────┘"
      ]
     },
     "execution_count": 40,
     "metadata": {},
     "output_type": "execute_result"
    }
   ],
   "source": [
    "# Example: Position of word \"Doctors\" in categories\n",
    "business_df.select([\n",
    "    pl.col(\"categories\"),\n",
    "    pl.col(\"categories\").str.find(\"Doctors\", literal=True).alias(\"position\")\n",
    "])\n"
   ]
  },
  {
   "cell_type": "code",
   "execution_count": 52,
   "id": "e0c5b718",
   "metadata": {},
   "outputs": [
    {
     "data": {
      "text/html": [
       "<div><style>\n",
       ".dataframe > thead > tr,\n",
       ".dataframe > tbody > tr {\n",
       "  text-align: right;\n",
       "  white-space: pre-wrap;\n",
       "}\n",
       "</style>\n",
       "<small>shape: (3, 2)</small><table border=\"1\" class=\"dataframe\"><thead><tr><th>categories</th><th>position</th></tr><tr><td>str</td><td>u32</td></tr></thead><tbody><tr><td>&quot;Optometrists, Ophthalmologists…</td><td>53</td></tr><tr><td>&quot;Gastroenterologist, Health &amp; M…</td><td>38</td></tr><tr><td>&quot;Dermatologists, Doctors, Healt…</td><td>16</td></tr></tbody></table></div>"
      ],
      "text/plain": [
       "shape: (3, 2)\n",
       "┌─────────────────────────────────┬──────────┐\n",
       "│ categories                      ┆ position │\n",
       "│ ---                             ┆ ---      │\n",
       "│ str                             ┆ u32      │\n",
       "╞═════════════════════════════════╪══════════╡\n",
       "│ Optometrists, Ophthalmologists… ┆ 53       │\n",
       "│ Gastroenterologist, Health & M… ┆ 38       │\n",
       "│ Dermatologists, Doctors, Healt… ┆ 16       │\n",
       "└─────────────────────────────────┴──────────┘"
      ]
     },
     "execution_count": 52,
     "metadata": {},
     "output_type": "execute_result"
    }
   ],
   "source": [
    "business_df.select([\n",
    "    pl.col(\"categories\"),\n",
    "    pl.col(\"categories\").str.find(\"Doctors\", literal=True).alias(\"position\")\n",
    "]).filter(pl.col(\"position\") > 3).sample(3)"
   ]
  },
  {
   "cell_type": "markdown",
   "id": "518e3e52",
   "metadata": {},
   "source": [
    "## <strong style=\"color:#5e17eb\"> Summary </strong>\n"
   ]
  },
  {
   "cell_type": "markdown",
   "id": "439469c9",
   "metadata": {},
   "source": [
    "Apply patterns, detect substrings, or filter rows.\n",
    "\n",
    "- `contains(pattern, literal=False)` – regex or literal match\n",
    "\n",
    "- `contains_any([patterns])` – match any from list; efficient scanning \n",
    "- `starts_with(prefix)` / `ends_with(suffix`) – quick prefix/suffix tests \n",
    "- `find(pattern, literal=False)` – position of first match (useful instead of boolean)"
   ]
  },
  {
   "cell_type": "markdown",
   "id": "04c8915c",
   "metadata": {},
   "source": [
    "# <strong style=\"color:#5e17eb\"> 2. Extract & Count </strong>\n"
   ]
  },
  {
   "cell_type": "markdown",
   "id": "cef8a734",
   "metadata": {},
   "source": [
    "## <strong style=\"color:#5e17eb\"> extract(, group_index) </strong>\n"
   ]
  },
  {
   "cell_type": "code",
   "execution_count": 58,
   "id": "316283b6",
   "metadata": {},
   "outputs": [
    {
     "data": {
      "text/html": [
       "<div><style>\n",
       ".dataframe > thead > tr,\n",
       ".dataframe > tbody > tr {\n",
       "  text-align: right;\n",
       "  white-space: pre-wrap;\n",
       "}\n",
       "</style>\n",
       "<small>shape: (150_346, 2)</small><table border=\"1\" class=\"dataframe\"><thead><tr><th>name</th><th>first_name</th></tr><tr><td>str</td><td>str</td></tr></thead><tbody><tr><td>&quot;Abby Rappoport, LAC, CMQ&quot;</td><td>&quot;Abby&quot;</td></tr><tr><td>&quot;The UPS Store&quot;</td><td>&quot;The&quot;</td></tr><tr><td>&quot;Target&quot;</td><td>&quot;Target&quot;</td></tr><tr><td>&quot;St Honore Pastries&quot;</td><td>&quot;St&quot;</td></tr><tr><td>&quot;Perkiomen Valley Brewery&quot;</td><td>&quot;Perkiomen&quot;</td></tr><tr><td>&hellip;</td><td>&hellip;</td></tr><tr><td>&quot;Binh&#x27;s Nails&quot;</td><td>&quot;Binh&quot;</td></tr><tr><td>&quot;Wild Birds Unlimited&quot;</td><td>&quot;Wild&quot;</td></tr><tr><td>&quot;Claire&#x27;s Boutique&quot;</td><td>&quot;Claire&quot;</td></tr><tr><td>&quot;Cyclery &amp; Fitness Center&quot;</td><td>&quot;Cyclery&quot;</td></tr><tr><td>&quot;Sic Ink&quot;</td><td>&quot;Sic&quot;</td></tr></tbody></table></div>"
      ],
      "text/plain": [
       "shape: (150_346, 2)\n",
       "┌──────────────────────────┬────────────┐\n",
       "│ name                     ┆ first_name │\n",
       "│ ---                      ┆ ---        │\n",
       "│ str                      ┆ str        │\n",
       "╞══════════════════════════╪════════════╡\n",
       "│ Abby Rappoport, LAC, CMQ ┆ Abby       │\n",
       "│ The UPS Store            ┆ The        │\n",
       "│ Target                   ┆ Target     │\n",
       "│ St Honore Pastries       ┆ St         │\n",
       "│ Perkiomen Valley Brewery ┆ Perkiomen  │\n",
       "│ …                        ┆ …          │\n",
       "│ Binh's Nails             ┆ Binh       │\n",
       "│ Wild Birds Unlimited     ┆ Wild       │\n",
       "│ Claire's Boutique        ┆ Claire     │\n",
       "│ Cyclery & Fitness Center ┆ Cyclery    │\n",
       "│ Sic Ink                  ┆ Sic        │\n",
       "└──────────────────────────┴────────────┘"
      ]
     },
     "execution_count": 58,
     "metadata": {},
     "output_type": "execute_result"
    }
   ],
   "source": [
    "business_df.select([\n",
    "    pl.col(\"name\"),\n",
    "    pl.col(\"name\").str.extract(r\"(\\w+)\", group_index=1).alias(\"first_name\")\n",
    "])"
   ]
  },
  {
   "cell_type": "markdown",
   "id": "966d20bf",
   "metadata": {},
   "source": [
    "## <strong style=\"color:#5e17eb\"> extract_all(pattern) </strong>\n",
    "-  Extract all matches of a regex into a list."
   ]
  },
  {
   "cell_type": "code",
   "execution_count": null,
   "id": "476a24d2",
   "metadata": {},
   "outputs": [
    {
     "data": {
      "text/html": [
       "<div><style>\n",
       ".dataframe > thead > tr,\n",
       ".dataframe > tbody > tr {\n",
       "  text-align: right;\n",
       "  white-space: pre-wrap;\n",
       "}\n",
       "</style>\n",
       "<small>shape: (150_346, 2)</small><table border=\"1\" class=\"dataframe\"><thead><tr><th>categories</th><th>capital_word</th></tr><tr><td>str</td><td>list[str]</td></tr></thead><tbody><tr><td>&quot;Doctors, Traditional Chinese M…</td><td>[&quot;Doctors&quot;, &quot;Traditional&quot;, … &quot;Nutritionists&quot;]</td></tr><tr><td>&quot;Shipping Centers, Local Servic…</td><td>[&quot;Shipping&quot;, &quot;Centers&quot;, … &quot;Services&quot;]</td></tr><tr><td>&quot;Department Stores, Shopping, F…</td><td>[&quot;Department&quot;, &quot;Stores&quot;, … &quot;Stores&quot;]</td></tr><tr><td>&quot;Restaurants, Food, Bubble Tea,…</td><td>[&quot;Restaurants&quot;, &quot;Food&quot;, … &quot;Bakeries&quot;]</td></tr><tr><td>&quot;Brewpubs, Breweries, Food&quot;</td><td>[&quot;Brewpubs&quot;, &quot;Breweries&quot;, &quot;Food&quot;]</td></tr><tr><td>&hellip;</td><td>&hellip;</td></tr><tr><td>&quot;Nail Salons, Beauty &amp; Spas&quot;</td><td>[&quot;Nail&quot;, &quot;Salons&quot;, … &quot;Spas&quot;]</td></tr><tr><td>&quot;Pets, Nurseries &amp; Gardening, P…</td><td>[&quot;Pets&quot;, &quot;Nurseries&quot;, … &quot;Shopping&quot;]</td></tr><tr><td>&quot;Shopping, Jewelry, Piercing, T…</td><td>[&quot;Shopping&quot;, &quot;Jewelry&quot;, … &quot;Fashion&quot;]</td></tr><tr><td>&quot;Fitness/Exercise Equipment, Ey…</td><td>[&quot;Fitness&quot;, &quot;Exercise&quot;, … &quot;Bikes&quot;]</td></tr><tr><td>&quot;Beauty &amp; Spas, Permanent Makeu…</td><td>[&quot;Beauty&quot;, &quot;Spas&quot;, … &quot;Tattoo&quot;]</td></tr></tbody></table></div>"
      ],
      "text/plain": [
       "shape: (150_346, 2)\n",
       "┌─────────────────────────────────┬─────────────────────────────────┐\n",
       "│ categories                      ┆ capital_word                    │\n",
       "│ ---                             ┆ ---                             │\n",
       "│ str                             ┆ list[str]                       │\n",
       "╞═════════════════════════════════╪═════════════════════════════════╡\n",
       "│ Doctors, Traditional Chinese M… ┆ [\"Doctors\", \"Traditional\", … \"… │\n",
       "│ Shipping Centers, Local Servic… ┆ [\"Shipping\", \"Centers\", … \"Ser… │\n",
       "│ Department Stores, Shopping, F… ┆ [\"Department\", \"Stores\", … \"St… │\n",
       "│ Restaurants, Food, Bubble Tea,… ┆ [\"Restaurants\", \"Food\", … \"Bak… │\n",
       "│ Brewpubs, Breweries, Food       ┆ [\"Brewpubs\", \"Breweries\", \"Foo… │\n",
       "│ …                               ┆ …                               │\n",
       "│ Nail Salons, Beauty & Spas      ┆ [\"Nail\", \"Salons\", … \"Spas\"]    │\n",
       "│ Pets, Nurseries & Gardening, P… ┆ [\"Pets\", \"Nurseries\", … \"Shopp… │\n",
       "│ Shopping, Jewelry, Piercing, T… ┆ [\"Shopping\", \"Jewelry\", … \"Fas… │\n",
       "│ Fitness/Exercise Equipment, Ey… ┆ [\"Fitness\", \"Exercise\", … \"Bik… │\n",
       "│ Beauty & Spas, Permanent Makeu… ┆ [\"Beauty\", \"Spas\", … \"Tattoo\"]  │\n",
       "└─────────────────────────────────┴─────────────────────────────────┘"
      ]
     },
     "execution_count": 59,
     "metadata": {},
     "output_type": "execute_result"
    }
   ],
   "source": [
    "# # Extract all words starting with a capital letter in categories\n",
    "patterns = r\"\\b[A-Z][a-zA-Z]+\\b\"\n",
    "\n",
    "business_df.select([\n",
    "    pl.col(\"categories\"),\n",
    "    pl.col(\"categories\").str.extract_all(patterns).alias(\"capital_words\")\n",
    "]).sample(3)"
   ]
  },
  {
   "cell_type": "markdown",
   "id": "989a8329",
   "metadata": {},
   "source": [
    "## <strong style=\"color:#5e17eb\"> extract_groups(pattern) </strong>\n",
    "-  Extract all capture groups from the first match as separate columns.\n",
    "-  https://regex101.com/"
   ]
  },
  {
   "cell_type": "code",
   "execution_count": 61,
   "id": "b6c1ca6b",
   "metadata": {},
   "outputs": [
    {
     "data": {
      "text/html": [
       "<div><style>\n",
       ".dataframe > thead > tr,\n",
       ".dataframe > tbody > tr {\n",
       "  text-align: right;\n",
       "  white-space: pre-wrap;\n",
       "}\n",
       "</style>\n",
       "<small>shape: (1, 1)</small><table border=\"1\" class=\"dataframe\"><thead><tr><th>coords</th></tr><tr><td>struct[2]</td></tr></thead><tbody><tr><td>{&quot;34.4266787&quot;,&quot;-119.7111968&quot;}</td></tr></tbody></table></div>"
      ],
      "text/plain": [
       "shape: (1, 1)\n",
       "┌───────────────────────────────┐\n",
       "│ coords                        │\n",
       "│ ---                           │\n",
       "│ struct[2]                     │\n",
       "╞═══════════════════════════════╡\n",
       "│ {\"34.4266787\",\"-119.7111968\"} │\n",
       "└───────────────────────────────┘"
      ]
     },
     "execution_count": 61,
     "metadata": {},
     "output_type": "execute_result"
    }
   ],
   "source": [
    "# Extract latitude and longitude from a string (if combined in one field)\n",
    "sample_df = pl.DataFrame({\"coords\": [\"34.4266787,-119.7111968\"]})\n",
    "\n",
    "sample_df.select(\n",
    "    pl.col(\"coords\").str.extract_groups(r\"([-]?\\d+\\.\\d+),([-]?\\d+\\.\\d+)\")\n",
    ")\n"
   ]
  },
  {
   "cell_type": "markdown",
   "id": "e20c53fe",
   "metadata": {},
   "source": [
    "## <strong style=\"color:#5e17eb\"> count_matches(pattern) </strong>\n",
    "- As the name suggest how many time matches occur"
   ]
  },
  {
   "cell_type": "code",
   "execution_count": 65,
   "id": "64950366",
   "metadata": {},
   "outputs": [
    {
     "data": {
      "text/html": [
       "<div><style>\n",
       ".dataframe > thead > tr,\n",
       ".dataframe > tbody > tr {\n",
       "  text-align: right;\n",
       "  white-space: pre-wrap;\n",
       "}\n",
       "</style>\n",
       "<small>shape: (150_346, 3)</small><table border=\"1\" class=\"dataframe\"><thead><tr><th>categories</th><th>comma_count</th><th>num_categories</th></tr><tr><td>str</td><td>u32</td><td>u32</td></tr></thead><tbody><tr><td>&quot;Doctors, Traditional Chinese M…</td><td>5</td><td>6</td></tr><tr><td>&quot;Shipping Centers, Local Servic…</td><td>4</td><td>5</td></tr><tr><td>&quot;Department Stores, Shopping, F…</td><td>5</td><td>6</td></tr><tr><td>&quot;Restaurants, Food, Bubble Tea,…</td><td>4</td><td>5</td></tr><tr><td>&quot;Brewpubs, Breweries, Food&quot;</td><td>2</td><td>3</td></tr><tr><td>&hellip;</td><td>&hellip;</td><td>&hellip;</td></tr><tr><td>&quot;Nail Salons, Beauty &amp; Spas&quot;</td><td>1</td><td>2</td></tr><tr><td>&quot;Pets, Nurseries &amp; Gardening, P…</td><td>6</td><td>7</td></tr><tr><td>&quot;Shopping, Jewelry, Piercing, T…</td><td>6</td><td>7</td></tr><tr><td>&quot;Fitness/Exercise Equipment, Ey…</td><td>4</td><td>5</td></tr><tr><td>&quot;Beauty &amp; Spas, Permanent Makeu…</td><td>3</td><td>4</td></tr></tbody></table></div>"
      ],
      "text/plain": [
       "shape: (150_346, 3)\n",
       "┌─────────────────────────────────┬─────────────┬────────────────┐\n",
       "│ categories                      ┆ comma_count ┆ num_categories │\n",
       "│ ---                             ┆ ---         ┆ ---            │\n",
       "│ str                             ┆ u32         ┆ u32            │\n",
       "╞═════════════════════════════════╪═════════════╪════════════════╡\n",
       "│ Doctors, Traditional Chinese M… ┆ 5           ┆ 6              │\n",
       "│ Shipping Centers, Local Servic… ┆ 4           ┆ 5              │\n",
       "│ Department Stores, Shopping, F… ┆ 5           ┆ 6              │\n",
       "│ Restaurants, Food, Bubble Tea,… ┆ 4           ┆ 5              │\n",
       "│ Brewpubs, Breweries, Food       ┆ 2           ┆ 3              │\n",
       "│ …                               ┆ …           ┆ …              │\n",
       "│ Nail Salons, Beauty & Spas      ┆ 1           ┆ 2              │\n",
       "│ Pets, Nurseries & Gardening, P… ┆ 6           ┆ 7              │\n",
       "│ Shopping, Jewelry, Piercing, T… ┆ 6           ┆ 7              │\n",
       "│ Fitness/Exercise Equipment, Ey… ┆ 4           ┆ 5              │\n",
       "│ Beauty & Spas, Permanent Makeu… ┆ 3           ┆ 4              │\n",
       "└─────────────────────────────────┴─────────────┴────────────────┘"
      ]
     },
     "execution_count": 65,
     "metadata": {},
     "output_type": "execute_result"
    }
   ],
   "source": [
    "business_df.select([\n",
    "    (pl.col(\"categories\")),\n",
    "    (pl.col(\"categories\").str.count_matches(r\",\")).alias(\"comma_count\"),\n",
    "    (pl.col(\"categories\").str.count_matches(r\",\") + 1).alias(\"num_categories\")\n",
    "])"
   ]
  },
  {
   "cell_type": "markdown",
   "id": "6adb2012",
   "metadata": {},
   "source": [
    "## <strong style=\"color:#5e17eb\"> len_chars() / len_bytes() </strong>\n",
    "\n",
    "- Get the length of strings in bytes (important for non-ASCII text).\n",
    "- Alias for .len_chars() — counts number of characters."
   ]
  },
  {
   "cell_type": "code",
   "execution_count": 72,
   "id": "14321868",
   "metadata": {},
   "outputs": [
    {
     "data": {
      "text/html": [
       "<div><style>\n",
       ".dataframe > thead > tr,\n",
       ".dataframe > tbody > tr {\n",
       "  text-align: right;\n",
       "  white-space: pre-wrap;\n",
       "}\n",
       "</style>\n",
       "<small>shape: (150_346, 3)</small><table border=\"1\" class=\"dataframe\"><thead><tr><th>name</th><th>byte_length</th><th>length_char</th></tr><tr><td>str</td><td>u32</td><td>u32</td></tr></thead><tbody><tr><td>&quot;Abby Rappoport, LAC, CMQ&quot;</td><td>24</td><td>24</td></tr><tr><td>&quot;The UPS Store&quot;</td><td>13</td><td>13</td></tr><tr><td>&quot;Target&quot;</td><td>6</td><td>6</td></tr><tr><td>&quot;St Honore Pastries&quot;</td><td>18</td><td>18</td></tr><tr><td>&quot;Perkiomen Valley Brewery&quot;</td><td>24</td><td>24</td></tr><tr><td>&hellip;</td><td>&hellip;</td><td>&hellip;</td></tr><tr><td>&quot;Binh&#x27;s Nails&quot;</td><td>12</td><td>12</td></tr><tr><td>&quot;Wild Birds Unlimited&quot;</td><td>20</td><td>20</td></tr><tr><td>&quot;Claire&#x27;s Boutique&quot;</td><td>17</td><td>17</td></tr><tr><td>&quot;Cyclery &amp; Fitness Center&quot;</td><td>24</td><td>24</td></tr><tr><td>&quot;Sic Ink&quot;</td><td>7</td><td>7</td></tr></tbody></table></div>"
      ],
      "text/plain": [
       "shape: (150_346, 3)\n",
       "┌──────────────────────────┬─────────────┬─────────────┐\n",
       "│ name                     ┆ byte_length ┆ length_char │\n",
       "│ ---                      ┆ ---         ┆ ---         │\n",
       "│ str                      ┆ u32         ┆ u32         │\n",
       "╞══════════════════════════╪═════════════╪═════════════╡\n",
       "│ Abby Rappoport, LAC, CMQ ┆ 24          ┆ 24          │\n",
       "│ The UPS Store            ┆ 13          ┆ 13          │\n",
       "│ Target                   ┆ 6           ┆ 6           │\n",
       "│ St Honore Pastries       ┆ 18          ┆ 18          │\n",
       "│ Perkiomen Valley Brewery ┆ 24          ┆ 24          │\n",
       "│ …                        ┆ …           ┆ …           │\n",
       "│ Binh's Nails             ┆ 12          ┆ 12          │\n",
       "│ Wild Birds Unlimited     ┆ 20          ┆ 20          │\n",
       "│ Claire's Boutique        ┆ 17          ┆ 17          │\n",
       "│ Cyclery & Fitness Center ┆ 24          ┆ 24          │\n",
       "│ Sic Ink                  ┆ 7           ┆ 7           │\n",
       "└──────────────────────────┴─────────────┴─────────────┘"
      ]
     },
     "execution_count": 72,
     "metadata": {},
     "output_type": "execute_result"
    }
   ],
   "source": [
    "business_df.select([\n",
    "    (pl.col(\"name\")),\n",
    "    (pl.col(\"name\").str.len_bytes()).alias(\"byte_length\"),\n",
    "    (pl.col(\"name\").str.len_chars()).alias(\"length_char\"),\n",
    "])"
   ]
  },
  {
   "cell_type": "markdown",
   "id": "49bb6577",
   "metadata": {},
   "source": [
    "## <strong style=\"color:#5e17eb\"> Summary </strong>\n",
    "\n",
    "Pull out substrings or count occurrences.\n",
    "\n",
    "- `extract(pattern[, group_index])` – first regex group\n",
    "\n",
    "- `extract_all(pattern)` / `extract_groups(pattern)` – all matches or all capture groups\n",
    "\n",
    "- `count_match(pattern)` / `count_matches(pattern)` – count regex matches\n",
    "\n",
    "- `len_chars()` / `len_bytes() `/ `lengths()` – string lengths in chars or bytes"
   ]
  },
  {
   "cell_type": "markdown",
   "id": "46926a17",
   "metadata": {},
   "source": [
    "# <strong style=\"color:#5e17eb\"> 3. Modify & Clean </strong>\n"
   ]
  },
  {
   "cell_type": "markdown",
   "id": "fb08a065",
   "metadata": {},
   "source": [
    "## <strong style=\"color:#5e17eb\"> to_lowercase() / to_uppercase() / to_titlecase() </strong>\n"
   ]
  },
  {
   "cell_type": "code",
   "execution_count": 73,
   "id": "9cf2e1aa",
   "metadata": {},
   "outputs": [
    {
     "data": {
      "text/html": [
       "<div><style>\n",
       ".dataframe > thead > tr,\n",
       ".dataframe > tbody > tr {\n",
       "  text-align: right;\n",
       "  white-space: pre-wrap;\n",
       "}\n",
       "</style>\n",
       "<small>shape: (150_346, 4)</small><table border=\"1\" class=\"dataframe\"><thead><tr><th>city</th><th>city_lower</th><th>city_upper</th><th>city_title</th></tr><tr><td>str</td><td>str</td><td>str</td><td>str</td></tr></thead><tbody><tr><td>&quot;Santa Barbara&quot;</td><td>&quot;santa barbara&quot;</td><td>&quot;SANTA BARBARA&quot;</td><td>&quot;Santa Barbara&quot;</td></tr><tr><td>&quot;Affton&quot;</td><td>&quot;affton&quot;</td><td>&quot;AFFTON&quot;</td><td>&quot;Affton&quot;</td></tr><tr><td>&quot;Tucson&quot;</td><td>&quot;tucson&quot;</td><td>&quot;TUCSON&quot;</td><td>&quot;Tucson&quot;</td></tr><tr><td>&quot;Philadelphia&quot;</td><td>&quot;philadelphia&quot;</td><td>&quot;PHILADELPHIA&quot;</td><td>&quot;Philadelphia&quot;</td></tr><tr><td>&quot;Green Lane&quot;</td><td>&quot;green lane&quot;</td><td>&quot;GREEN LANE&quot;</td><td>&quot;Green Lane&quot;</td></tr><tr><td>&hellip;</td><td>&hellip;</td><td>&hellip;</td><td>&hellip;</td></tr><tr><td>&quot;Edmonton&quot;</td><td>&quot;edmonton&quot;</td><td>&quot;EDMONTON&quot;</td><td>&quot;Edmonton&quot;</td></tr><tr><td>&quot;Nashville&quot;</td><td>&quot;nashville&quot;</td><td>&quot;NASHVILLE&quot;</td><td>&quot;Nashville&quot;</td></tr><tr><td>&quot;Indianapolis&quot;</td><td>&quot;indianapolis&quot;</td><td>&quot;INDIANAPOLIS&quot;</td><td>&quot;Indianapolis&quot;</td></tr><tr><td>&quot;Edwardsville&quot;</td><td>&quot;edwardsville&quot;</td><td>&quot;EDWARDSVILLE&quot;</td><td>&quot;Edwardsville&quot;</td></tr><tr><td>&quot;Apollo beach&quot;</td><td>&quot;apollo beach&quot;</td><td>&quot;APOLLO BEACH&quot;</td><td>&quot;Apollo Beach&quot;</td></tr></tbody></table></div>"
      ],
      "text/plain": [
       "shape: (150_346, 4)\n",
       "┌───────────────┬───────────────┬───────────────┬───────────────┐\n",
       "│ city          ┆ city_lower    ┆ city_upper    ┆ city_title    │\n",
       "│ ---           ┆ ---           ┆ ---           ┆ ---           │\n",
       "│ str           ┆ str           ┆ str           ┆ str           │\n",
       "╞═══════════════╪═══════════════╪═══════════════╪═══════════════╡\n",
       "│ Santa Barbara ┆ santa barbara ┆ SANTA BARBARA ┆ Santa Barbara │\n",
       "│ Affton        ┆ affton        ┆ AFFTON        ┆ Affton        │\n",
       "│ Tucson        ┆ tucson        ┆ TUCSON        ┆ Tucson        │\n",
       "│ Philadelphia  ┆ philadelphia  ┆ PHILADELPHIA  ┆ Philadelphia  │\n",
       "│ Green Lane    ┆ green lane    ┆ GREEN LANE    ┆ Green Lane    │\n",
       "│ …             ┆ …             ┆ …             ┆ …             │\n",
       "│ Edmonton      ┆ edmonton      ┆ EDMONTON      ┆ Edmonton      │\n",
       "│ Nashville     ┆ nashville     ┆ NASHVILLE     ┆ Nashville     │\n",
       "│ Indianapolis  ┆ indianapolis  ┆ INDIANAPOLIS  ┆ Indianapolis  │\n",
       "│ Edwardsville  ┆ edwardsville  ┆ EDWARDSVILLE  ┆ Edwardsville  │\n",
       "│ Apollo beach  ┆ apollo beach  ┆ APOLLO BEACH  ┆ Apollo Beach  │\n",
       "└───────────────┴───────────────┴───────────────┴───────────────┘"
      ]
     },
     "execution_count": 73,
     "metadata": {},
     "output_type": "execute_result"
    }
   ],
   "source": [
    "business_df.select([\n",
    "    (pl.col(\"city\")),\n",
    "    (pl.col(\"city\").str.to_lowercase()).alias(\"city_lower\"),\n",
    "    (pl.col(\"city\").str.to_uppercase()).alias(\"city_upper\"),\n",
    "    (pl.col(\"city\").str.to_titlecase()).alias(\"city_title\"),\n",
    "\n",
    "])"
   ]
  },
  {
   "cell_type": "markdown",
   "id": "d9b42a4e",
   "metadata": {},
   "source": [
    "## <strong style=\"color:#5e17eb\">strip() / strip_chars(chars=\"xyz) / strip_prefix() / strip_suffix() </strong>\n"
   ]
  },
  {
   "cell_type": "code",
   "execution_count": 75,
   "id": "3289aa3b",
   "metadata": {},
   "outputs": [
    {
     "data": {
      "text/html": [
       "<div><style>\n",
       ".dataframe > thead > tr,\n",
       ".dataframe > tbody > tr {\n",
       "  text-align: right;\n",
       "  white-space: pre-wrap;\n",
       "}\n",
       "</style>\n",
       "<small>shape: (150_346, 2)</small><table border=\"1\" class=\"dataframe\"><thead><tr><th>address</th><th>address_trimmed</th></tr><tr><td>str</td><td>str</td></tr></thead><tbody><tr><td>&quot;1616 Chapala St, Ste 2&quot;</td><td>&quot;1616 Chapala St, Ste 2&quot;</td></tr><tr><td>&quot;87 Grasso Plaza Shopping Cente…</td><td>&quot;87 Grasso Plaza Shopping Cente…</td></tr><tr><td>&quot;5255 E Broadway Blvd&quot;</td><td>&quot;5255 E Broadway Blvd&quot;</td></tr><tr><td>&quot;935 Race St&quot;</td><td>&quot;935 Race St&quot;</td></tr><tr><td>&quot;101 Walnut St&quot;</td><td>&quot;101 Walnut St&quot;</td></tr><tr><td>&hellip;</td><td>&hellip;</td></tr><tr><td>&quot;3388 Gateway Blvd&quot;</td><td>&quot;3388 Gateway Blvd&quot;</td></tr><tr><td>&quot;2813 Bransford Ave&quot;</td><td>&quot;2813 Bransford Ave&quot;</td></tr><tr><td>&quot;6020 E 82nd St, Ste 46&quot;</td><td>&quot;6020 E 82nd St, Ste 46&quot;</td></tr><tr><td>&quot;2472 Troy Rd&quot;</td><td>&quot;2472 Troy Rd&quot;</td></tr><tr><td>&quot;238 Apollo Beach Blvd&quot;</td><td>&quot;238 Apollo Beach Blvd&quot;</td></tr></tbody></table></div>"
      ],
      "text/plain": [
       "shape: (150_346, 2)\n",
       "┌─────────────────────────────────┬─────────────────────────────────┐\n",
       "│ address                         ┆ address_trimmed                 │\n",
       "│ ---                             ┆ ---                             │\n",
       "│ str                             ┆ str                             │\n",
       "╞═════════════════════════════════╪═════════════════════════════════╡\n",
       "│ 1616 Chapala St, Ste 2          ┆ 1616 Chapala St, Ste 2          │\n",
       "│ 87 Grasso Plaza Shopping Cente… ┆ 87 Grasso Plaza Shopping Cente… │\n",
       "│ 5255 E Broadway Blvd            ┆ 5255 E Broadway Blvd            │\n",
       "│ 935 Race St                     ┆ 935 Race St                     │\n",
       "│ 101 Walnut St                   ┆ 101 Walnut St                   │\n",
       "│ …                               ┆ …                               │\n",
       "│ 3388 Gateway Blvd               ┆ 3388 Gateway Blvd               │\n",
       "│ 2813 Bransford Ave              ┆ 2813 Bransford Ave              │\n",
       "│ 6020 E 82nd St, Ste 46          ┆ 6020 E 82nd St, Ste 46          │\n",
       "│ 2472 Troy Rd                    ┆ 2472 Troy Rd                    │\n",
       "│ 238 Apollo Beach Blvd           ┆ 238 Apollo Beach Blvd           │\n",
       "└─────────────────────────────────┴─────────────────────────────────┘"
      ]
     },
     "execution_count": 75,
     "metadata": {},
     "output_type": "execute_result"
    }
   ],
   "source": [
    "business_df.select([\n",
    "    (pl.col(\"address\")),\n",
    "    (pl.col(\"address\").str.strip_chars()).alias(\"address_trimmed\")\n",
    "])"
   ]
  },
  {
   "cell_type": "markdown",
   "id": "be238d5c",
   "metadata": {},
   "source": [
    "Remove specific characters from start and end."
   ]
  },
  {
   "cell_type": "code",
   "execution_count": null,
   "id": "9fed3809",
   "metadata": {},
   "outputs": [
    {
     "data": {
      "text/html": [
       "<div><style>\n",
       ".dataframe > thead > tr,\n",
       ".dataframe > tbody > tr {\n",
       "  text-align: right;\n",
       "  white-space: pre-wrap;\n",
       "}\n",
       "</style>\n",
       "<small>shape: (150_346, 2)</small><table border=\"1\" class=\"dataframe\"><thead><tr><th>postal_code</th><th>d</th></tr><tr><td>str</td><td>str</td></tr></thead><tbody><tr><td>&quot;93101&quot;</td><td>&quot;93101&quot;</td></tr><tr><td>&quot;63123&quot;</td><td>&quot;63123&quot;</td></tr><tr><td>&quot;85711&quot;</td><td>&quot;85711&quot;</td></tr><tr><td>&quot;19107&quot;</td><td>&quot;19107&quot;</td></tr><tr><td>&quot;18054&quot;</td><td>&quot;18054&quot;</td></tr><tr><td>&hellip;</td><td>&hellip;</td></tr><tr><td>&quot;T6J 5H2&quot;</td><td>&quot;T6J 5H2&quot;</td></tr><tr><td>&quot;37204&quot;</td><td>&quot;37204&quot;</td></tr><tr><td>&quot;46250&quot;</td><td>&quot;4625&quot;</td></tr><tr><td>&quot;62025&quot;</td><td>&quot;62025&quot;</td></tr><tr><td>&quot;33572&quot;</td><td>&quot;33572&quot;</td></tr></tbody></table></div>"
      ],
      "text/plain": [
       "shape: (150_346, 2)\n",
       "┌─────────────┬─────────┐\n",
       "│ postal_code ┆ d       │\n",
       "│ ---         ┆ ---     │\n",
       "│ str         ┆ str     │\n",
       "╞═════════════╪═════════╡\n",
       "│ 93101       ┆ 93101   │\n",
       "│ 63123       ┆ 63123   │\n",
       "│ 85711       ┆ 85711   │\n",
       "│ 19107       ┆ 19107   │\n",
       "│ 18054       ┆ 18054   │\n",
       "│ …           ┆ …       │\n",
       "│ T6J 5H2     ┆ T6J 5H2 │\n",
       "│ 37204       ┆ 37204   │\n",
       "│ 46250       ┆ 4625    │\n",
       "│ 62025       ┆ 62025   │\n",
       "│ 33572       ┆ 33572   │\n",
       "└─────────────┴─────────┘"
      ]
     },
     "execution_count": 76,
     "metadata": {},
     "output_type": "execute_result"
    }
   ],
   "source": [
    "business_df.select([\n",
    "    (pl.col(\"postal_code\")),\n",
    "    (pl.col(\"postal_code\").str.strip_chars(characters=\"-\")).alias(\"postal_trimmed\")\n",
    "])"
   ]
  },
  {
   "cell_type": "code",
   "execution_count": null,
   "id": "26b9b2d6",
   "metadata": {},
   "outputs": [
    {
     "data": {
      "text/html": [
       "<div><style>\n",
       ".dataframe > thead > tr,\n",
       ".dataframe > tbody > tr {\n",
       "  text-align: right;\n",
       "  white-space: pre-wrap;\n",
       "}\n",
       "</style>\n",
       "<small>shape: (3, 2)</small><table border=\"1\" class=\"dataframe\"><thead><tr><th>name</th><th>address_no_prefix</th></tr><tr><td>str</td><td>str</td></tr></thead><tbody><tr><td>&quot;The Tennessean&quot;</td><td>&quot;The Tennessean&quot;</td></tr><tr><td>&quot;Medora&#x27;s Mecca&quot;</td><td>&quot;Medora&#x27;s Mecca&quot;</td></tr><tr><td>&quot;Salinas 2&quot;</td><td>&quot;Salinas 2&quot;</td></tr></tbody></table></div>"
      ],
      "text/plain": [
       "shape: (3, 2)\n",
       "┌────────────────┬───────────────────┐\n",
       "│ name           ┆ address_no_prefix │\n",
       "│ ---            ┆ ---               │\n",
       "│ str            ┆ str               │\n",
       "╞════════════════╪═══════════════════╡\n",
       "│ The Tennessean ┆ The Tennessean    │\n",
       "│ Medora's Mecca ┆ Medora's Mecca    │\n",
       "│ Salinas 2      ┆ Salinas 2         │\n",
       "└────────────────┴───────────────────┘"
      ]
     },
     "execution_count": 99,
     "metadata": {},
     "output_type": "execute_result"
    }
   ],
   "source": [
    "business_df.select([\n",
    "    pl.col(\"name\"),\n",
    "    pl.col(\"name\").str.strip_prefix(\"st\").alias(\"name_no_prefix\")\n",
    "]).sample(3)"
   ]
  },
  {
   "cell_type": "code",
   "execution_count": 83,
   "id": "74abb913",
   "metadata": {},
   "outputs": [
    {
     "data": {
      "text/html": [
       "<div><style>\n",
       ".dataframe > thead > tr,\n",
       ".dataframe > tbody > tr {\n",
       "  text-align: right;\n",
       "  white-space: pre-wrap;\n",
       "}\n",
       "</style>\n",
       "<small>shape: (3, 2)</small><table border=\"1\" class=\"dataframe\"><thead><tr><th>address</th><th>address_no_suffix</th></tr><tr><td>str</td><td>str</td></tr></thead><tbody><tr><td>&quot;1991 Sproul Rd&quot;</td><td>&quot;1991 Sproul Rd&quot;</td></tr><tr><td>&quot;435 W Chew Ave&quot;</td><td>&quot;435 W Chew Ave&quot;</td></tr><tr><td>&quot;500 Broad St, Ste 4&quot;</td><td>&quot;500 Broad St, Ste 4&quot;</td></tr></tbody></table></div>"
      ],
      "text/plain": [
       "shape: (3, 2)\n",
       "┌─────────────────────┬─────────────────────┐\n",
       "│ address             ┆ address_no_suffix   │\n",
       "│ ---                 ┆ ---                 │\n",
       "│ str                 ┆ str                 │\n",
       "╞═════════════════════╪═════════════════════╡\n",
       "│ 1991 Sproul Rd      ┆ 1991 Sproul Rd      │\n",
       "│ 435 W Chew Ave      ┆ 435 W Chew Ave      │\n",
       "│ 500 Broad St, Ste 4 ┆ 500 Broad St, Ste 4 │\n",
       "└─────────────────────┴─────────────────────┘"
      ]
     },
     "execution_count": 83,
     "metadata": {},
     "output_type": "execute_result"
    }
   ],
   "source": [
    "business_df.select([\n",
    "    pl.col(\"address\"),\n",
    "    pl.col(\"address\").str.strip_suffix(\" St\").alias(\"address_no_suffix\")\n",
    "]).sample(3)\n"
   ]
  },
  {
   "cell_type": "markdown",
   "id": "6a6b0864",
   "metadata": {},
   "source": [
    "## <strong style=\"color:#5e17eb\">  strip_chars_start() / strip_chars_end() / zfill(width) </strong>\n"
   ]
  },
  {
   "cell_type": "code",
   "execution_count": null,
   "id": "1e017260",
   "metadata": {},
   "outputs": [
    {
     "data": {
      "text/html": [
       "<div><style>\n",
       ".dataframe > thead > tr,\n",
       ".dataframe > tbody > tr {\n",
       "  text-align: right;\n",
       "  white-space: pre-wrap;\n",
       "}\n",
       "</style>\n",
       "<small>shape: (150_346, 3)</small><table border=\"1\" class=\"dataframe\"><thead><tr><th>address</th><th>address_left_trim</th><th>address_right_trim</th></tr><tr><td>str</td><td>str</td><td>str</td></tr></thead><tbody><tr><td>&quot;1616 Chapala St, Ste 2&quot;</td><td>&quot;1616 Chapala St, Ste 2&quot;</td><td>&quot;1616 Chapala St, Ste 2&quot;</td></tr><tr><td>&quot;87 Grasso Plaza Shopping Cente…</td><td>&quot;87 Grasso Plaza Shopping Cente…</td><td>&quot;87 Grasso Plaza Shopping Cente…</td></tr><tr><td>&quot;5255 E Broadway Blvd&quot;</td><td>&quot;5255 E Broadway Blvd&quot;</td><td>&quot;5255 E Broadway Blvd&quot;</td></tr><tr><td>&quot;935 Race St&quot;</td><td>&quot;935 Race St&quot;</td><td>&quot;935 Race St&quot;</td></tr><tr><td>&quot;101 Walnut St&quot;</td><td>&quot;101 Walnut St&quot;</td><td>&quot;101 Walnut St&quot;</td></tr><tr><td>&hellip;</td><td>&hellip;</td><td>&hellip;</td></tr><tr><td>&quot;3388 Gateway Blvd&quot;</td><td>&quot;3388 Gateway Blvd&quot;</td><td>&quot;3388 Gateway Blvd&quot;</td></tr><tr><td>&quot;2813 Bransford Ave&quot;</td><td>&quot;2813 Bransford Ave&quot;</td><td>&quot;2813 Bransford Ave&quot;</td></tr><tr><td>&quot;6020 E 82nd St, Ste 46&quot;</td><td>&quot;6020 E 82nd St, Ste 46&quot;</td><td>&quot;6020 E 82nd St, Ste 46&quot;</td></tr><tr><td>&quot;2472 Troy Rd&quot;</td><td>&quot;2472 Troy Rd&quot;</td><td>&quot;2472 Troy Rd&quot;</td></tr><tr><td>&quot;238 Apollo Beach Blvd&quot;</td><td>&quot;238 Apollo Beach Blvd&quot;</td><td>&quot;238 Apollo Beach Blvd&quot;</td></tr></tbody></table></div>"
      ],
      "text/plain": [
       "shape: (150_346, 3)\n",
       "┌──────────────────────────┬───────────────────────────────────┬───────────────────────────────────┐\n",
       "│ address                  ┆ address_left_trim                 ┆ address_right_trim                │\n",
       "│ ---                      ┆ ---                               ┆ ---                               │\n",
       "│ str                      ┆ str                               ┆ str                               │\n",
       "╞══════════════════════════╪═══════════════════════════════════╪═══════════════════════════════════╡\n",
       "│ 1616 Chapala St, Ste 2   ┆ 1616 Chapala St, Ste 2            ┆ 1616 Chapala St, Ste 2            │\n",
       "│ 87 Grasso Plaza Shopping ┆ 87 Grasso Plaza Shopping Cente…   ┆ 87 Grasso Plaza Shopping Cente…   │\n",
       "│ Cente…                   ┆                                   ┆                                   │\n",
       "│ 5255 E Broadway Blvd     ┆ 5255 E Broadway Blvd              ┆ 5255 E Broadway Blvd              │\n",
       "│ 935 Race St              ┆ 935 Race St                       ┆ 935 Race St                       │\n",
       "│ 101 Walnut St            ┆ 101 Walnut St                     ┆ 101 Walnut St                     │\n",
       "│ …                        ┆ …                                 ┆ …                                 │\n",
       "│ 3388 Gateway Blvd        ┆ 3388 Gateway Blvd                 ┆ 3388 Gateway Blvd                 │\n",
       "│ 2813 Bransford Ave       ┆ 2813 Bransford Ave                ┆ 2813 Bransford Ave                │\n",
       "│ 6020 E 82nd St, Ste 46   ┆ 6020 E 82nd St, Ste 46            ┆ 6020 E 82nd St, Ste 46            │\n",
       "│ 2472 Troy Rd             ┆ 2472 Troy Rd                      ┆ 2472 Troy Rd                      │\n",
       "│ 238 Apollo Beach Blvd    ┆ 238 Apollo Beach Blvd             ┆ 238 Apollo Beach Blvd             │\n",
       "└──────────────────────────┴───────────────────────────────────┴───────────────────────────────────┘"
      ]
     },
     "execution_count": 104,
     "metadata": {},
     "output_type": "execute_result"
    }
   ],
   "source": [
    "business_df.select([\n",
    "    pl.col(\"address\"),\n",
    "    pl.col(\"address\").str.strip_chars_start().alias(\"address_left_trim\"),\n",
    "    pl.col(\"address\").str.strip_chars_end().alias(\"address_right_trim\")\n",
    "])"
   ]
  },
  {
   "cell_type": "markdown",
   "id": "9904fed7",
   "metadata": {},
   "source": [
    "- Pad the string with leading zeros to a fixed width.\n",
    "- Ensuring fixed-length IDs, zip codes, or numeric codes."
   ]
  },
  {
   "cell_type": "code",
   "execution_count": 105,
   "id": "37bc5912",
   "metadata": {},
   "outputs": [
    {
     "data": {
      "text/html": [
       "<div><style>\n",
       ".dataframe > thead > tr,\n",
       ".dataframe > tbody > tr {\n",
       "  text-align: right;\n",
       "  white-space: pre-wrap;\n",
       "}\n",
       "</style>\n",
       "<small>shape: (150_346, 2)</small><table border=\"1\" class=\"dataframe\"><thead><tr><th>postal_code</th><th>postal_zfill</th></tr><tr><td>str</td><td>str</td></tr></thead><tbody><tr><td>&quot;93101&quot;</td><td>&quot;0000093101&quot;</td></tr><tr><td>&quot;63123&quot;</td><td>&quot;0000063123&quot;</td></tr><tr><td>&quot;85711&quot;</td><td>&quot;0000085711&quot;</td></tr><tr><td>&quot;19107&quot;</td><td>&quot;0000019107&quot;</td></tr><tr><td>&quot;18054&quot;</td><td>&quot;0000018054&quot;</td></tr><tr><td>&hellip;</td><td>&hellip;</td></tr><tr><td>&quot;T6J 5H2&quot;</td><td>&quot;000T6J 5H2&quot;</td></tr><tr><td>&quot;37204&quot;</td><td>&quot;0000037204&quot;</td></tr><tr><td>&quot;46250&quot;</td><td>&quot;0000046250&quot;</td></tr><tr><td>&quot;62025&quot;</td><td>&quot;0000062025&quot;</td></tr><tr><td>&quot;33572&quot;</td><td>&quot;0000033572&quot;</td></tr></tbody></table></div>"
      ],
      "text/plain": [
       "shape: (150_346, 2)\n",
       "┌─────────────┬──────────────┐\n",
       "│ postal_code ┆ postal_zfill │\n",
       "│ ---         ┆ ---          │\n",
       "│ str         ┆ str          │\n",
       "╞═════════════╪══════════════╡\n",
       "│ 93101       ┆ 0000093101   │\n",
       "│ 63123       ┆ 0000063123   │\n",
       "│ 85711       ┆ 0000085711   │\n",
       "│ 19107       ┆ 0000019107   │\n",
       "│ 18054       ┆ 0000018054   │\n",
       "│ …           ┆ …            │\n",
       "│ T6J 5H2     ┆ 000T6J 5H2   │\n",
       "│ 37204       ┆ 0000037204   │\n",
       "│ 46250       ┆ 0000046250   │\n",
       "│ 62025       ┆ 0000062025   │\n",
       "│ 33572       ┆ 0000033572   │\n",
       "└─────────────┴──────────────┘"
      ]
     },
     "execution_count": 105,
     "metadata": {},
     "output_type": "execute_result"
    }
   ],
   "source": [
    "business_df.select([\n",
    "    pl.col(\"postal_code\"),\n",
    "    pl.col(\"postal_code\").str.zfill(10).alias(\"postal_zfill\")\n",
    "])\n"
   ]
  },
  {
   "cell_type": "markdown",
   "id": "2a8cb126",
   "metadata": {},
   "source": [
    "## <strong style=\"color:#5e17eb\"> Summary </strong>\n",
    "\n",
    "Transform, replace or trim text quickly.\n",
    "\n",
    "- `to_lowercase()`, `to_uppercase()`, `to_titlecase()` – convert case \n",
    "\n",
    "\n",
    "- `strip()` / `strip_chars()` / `strip_prefix()` / `strip_suffix()` – trimming whitespace or specific chars \n",
    "\n",
    "\n",
    "- `lstrip()`, `rstrip()` – left- or right-only trims\n",
    "\n",
    "- `zfill(width)` – pad with zeros at start (e.g. for fixed-length codes)\n"
   ]
  },
  {
   "cell_type": "markdown",
   "id": "2f262f0a",
   "metadata": {},
   "source": [
    "# <strong style=\"color:#5e17eb\">4. Replace & Transform  </strong>\n"
   ]
  },
  {
   "cell_type": "markdown",
   "id": "811fc92b",
   "metadata": {},
   "source": [
    "## <strong style=\"color:#5e17eb\">  replace(pattern, value, literal=False, n=1)</strong>\n",
    "\n",
    "- https://docs.rs/regex/latest/regex/\n",
    "- `n` is controls how many matches Polars will replace."
   ]
  },
  {
   "cell_type": "code",
   "execution_count": 109,
   "id": "df9c1e54",
   "metadata": {},
   "outputs": [
    {
     "data": {
      "text/html": [
       "<div><style>\n",
       ".dataframe > thead > tr,\n",
       ".dataframe > tbody > tr {\n",
       "  text-align: right;\n",
       "  white-space: pre-wrap;\n",
       "}\n",
       "</style>\n",
       "<small>shape: (150_346, 2)</small><table border=\"1\" class=\"dataframe\"><thead><tr><th>categories</th><th>categories_first_replace</th></tr><tr><td>str</td><td>str</td></tr></thead><tbody><tr><td>&quot;Doctors, Traditional Chinese M…</td><td>&quot;Doctors/ Traditional Chinese M…</td></tr><tr><td>&quot;Shipping Centers, Local Servic…</td><td>&quot;Shipping Centers/ Local Servic…</td></tr><tr><td>&quot;Department Stores, Shopping, F…</td><td>&quot;Department Stores/ Shopping/ F…</td></tr><tr><td>&quot;Restaurants, Food, Bubble Tea,…</td><td>&quot;Restaurants/ Food/ Bubble Tea,…</td></tr><tr><td>&quot;Brewpubs, Breweries, Food&quot;</td><td>&quot;Brewpubs/ Breweries/ Food&quot;</td></tr><tr><td>&hellip;</td><td>&hellip;</td></tr><tr><td>&quot;Nail Salons, Beauty &amp; Spas&quot;</td><td>&quot;Nail Salons/ Beauty &amp; Spas&quot;</td></tr><tr><td>&quot;Pets, Nurseries &amp; Gardening, P…</td><td>&quot;Pets/ Nurseries &amp; Gardening/ P…</td></tr><tr><td>&quot;Shopping, Jewelry, Piercing, T…</td><td>&quot;Shopping/ Jewelry/ Piercing, T…</td></tr><tr><td>&quot;Fitness/Exercise Equipment, Ey…</td><td>&quot;Fitness/Exercise Equipment/ Ey…</td></tr><tr><td>&quot;Beauty &amp; Spas, Permanent Makeu…</td><td>&quot;Beauty &amp; Spas/ Permanent Makeu…</td></tr></tbody></table></div>"
      ],
      "text/plain": [
       "shape: (150_346, 2)\n",
       "┌─────────────────────────────────┬─────────────────────────────────┐\n",
       "│ categories                      ┆ categories_first_replace        │\n",
       "│ ---                             ┆ ---                             │\n",
       "│ str                             ┆ str                             │\n",
       "╞═════════════════════════════════╪═════════════════════════════════╡\n",
       "│ Doctors, Traditional Chinese M… ┆ Doctors/ Traditional Chinese M… │\n",
       "│ Shipping Centers, Local Servic… ┆ Shipping Centers/ Local Servic… │\n",
       "│ Department Stores, Shopping, F… ┆ Department Stores/ Shopping/ F… │\n",
       "│ Restaurants, Food, Bubble Tea,… ┆ Restaurants/ Food/ Bubble Tea,… │\n",
       "│ Brewpubs, Breweries, Food       ┆ Brewpubs/ Breweries/ Food       │\n",
       "│ …                               ┆ …                               │\n",
       "│ Nail Salons, Beauty & Spas      ┆ Nail Salons/ Beauty & Spas      │\n",
       "│ Pets, Nurseries & Gardening, P… ┆ Pets/ Nurseries & Gardening/ P… │\n",
       "│ Shopping, Jewelry, Piercing, T… ┆ Shopping/ Jewelry/ Piercing, T… │\n",
       "│ Fitness/Exercise Equipment, Ey… ┆ Fitness/Exercise Equipment/ Ey… │\n",
       "│ Beauty & Spas, Permanent Makeu… ┆ Beauty & Spas/ Permanent Makeu… │\n",
       "└─────────────────────────────────┴─────────────────────────────────┘"
      ]
     },
     "execution_count": 109,
     "metadata": {},
     "output_type": "execute_result"
    }
   ],
   "source": [
    "# Replace first comma in categories with a slash\n",
    "business_df.select([\n",
    "    (pl.col(\"categories\")),\n",
    "    (pl.col(\"categories\").str.replace(\",\", \"/\",n=2,  literal=True)).alias(\"categories_first_replace\")\n",
    "])"
   ]
  },
  {
   "cell_type": "markdown",
   "id": "201bf612",
   "metadata": {},
   "source": [
    "## <strong style=\"color:#5e17eb\"> replace_all(pattern, value, literal=False) </strong>\n",
    "- replace all matches at a time\n",
    "- Global string replacement, e.g., formatting separators, cleaning up symbols.\n",
    "\n",
    "\n"
   ]
  },
  {
   "cell_type": "code",
   "execution_count": 111,
   "id": "73dea1ce",
   "metadata": {},
   "outputs": [
    {
     "data": {
      "text/html": [
       "<div><style>\n",
       ".dataframe > thead > tr,\n",
       ".dataframe > tbody > tr {\n",
       "  text-align: right;\n",
       "  white-space: pre-wrap;\n",
       "}\n",
       "</style>\n",
       "<small>shape: (150_346, 2)</small><table border=\"1\" class=\"dataframe\"><thead><tr><th>categories</th><th>categories_all_replace</th></tr><tr><td>str</td><td>str</td></tr></thead><tbody><tr><td>&quot;Doctors, Traditional Chinese M…</td><td>&quot;Doctors |&nbsp;&nbsp;Traditional Chinese…</td></tr><tr><td>&quot;Shipping Centers, Local Servic…</td><td>&quot;Shipping Centers |&nbsp;&nbsp;Local Serv…</td></tr><tr><td>&quot;Department Stores, Shopping, F…</td><td>&quot;Department Stores |&nbsp;&nbsp;Shopping …</td></tr><tr><td>&quot;Restaurants, Food, Bubble Tea,…</td><td>&quot;Restaurants |&nbsp;&nbsp;Food |&nbsp;&nbsp;Bubble …</td></tr><tr><td>&quot;Brewpubs, Breweries, Food&quot;</td><td>&quot;Brewpubs |&nbsp;&nbsp;Breweries |&nbsp;&nbsp;Food&quot;</td></tr><tr><td>&hellip;</td><td>&hellip;</td></tr><tr><td>&quot;Nail Salons, Beauty &amp; Spas&quot;</td><td>&quot;Nail Salons |&nbsp;&nbsp;Beauty &amp; Spas&quot;</td></tr><tr><td>&quot;Pets, Nurseries &amp; Gardening, P…</td><td>&quot;Pets |&nbsp;&nbsp;Nurseries &amp; Gardening …</td></tr><tr><td>&quot;Shopping, Jewelry, Piercing, T…</td><td>&quot;Shopping |&nbsp;&nbsp;Jewelry |&nbsp;&nbsp;Piercin…</td></tr><tr><td>&quot;Fitness/Exercise Equipment, Ey…</td><td>&quot;Fitness/Exercise Equipment |&nbsp;&nbsp;…</td></tr><tr><td>&quot;Beauty &amp; Spas, Permanent Makeu…</td><td>&quot;Beauty &amp; Spas |&nbsp;&nbsp;Permanent Mak…</td></tr></tbody></table></div>"
      ],
      "text/plain": [
       "shape: (150_346, 2)\n",
       "┌─────────────────────────────────┬─────────────────────────────────┐\n",
       "│ categories                      ┆ categories_all_replace          │\n",
       "│ ---                             ┆ ---                             │\n",
       "│ str                             ┆ str                             │\n",
       "╞═════════════════════════════════╪═════════════════════════════════╡\n",
       "│ Doctors, Traditional Chinese M… ┆ Doctors |  Traditional Chinese… │\n",
       "│ Shipping Centers, Local Servic… ┆ Shipping Centers |  Local Serv… │\n",
       "│ Department Stores, Shopping, F… ┆ Department Stores |  Shopping … │\n",
       "│ Restaurants, Food, Bubble Tea,… ┆ Restaurants |  Food |  Bubble … │\n",
       "│ Brewpubs, Breweries, Food       ┆ Brewpubs |  Breweries |  Food   │\n",
       "│ …                               ┆ …                               │\n",
       "│ Nail Salons, Beauty & Spas      ┆ Nail Salons |  Beauty & Spas    │\n",
       "│ Pets, Nurseries & Gardening, P… ┆ Pets |  Nurseries & Gardening … │\n",
       "│ Shopping, Jewelry, Piercing, T… ┆ Shopping |  Jewelry |  Piercin… │\n",
       "│ Fitness/Exercise Equipment, Ey… ┆ Fitness/Exercise Equipment |  … │\n",
       "│ Beauty & Spas, Permanent Makeu… ┆ Beauty & Spas |  Permanent Mak… │\n",
       "└─────────────────────────────────┴─────────────────────────────────┘"
      ]
     },
     "execution_count": 111,
     "metadata": {},
     "output_type": "execute_result"
    }
   ],
   "source": [
    "# Replace all commas with \" | \" in categories\n",
    "business_df.select([\n",
    "    (pl.col(\"categories\")),\n",
    "    (pl.col(\"categories\").str.replace_all(\",\", \" | \", literal=True)).alias(\"categories_all_replace\")\n",
    "])"
   ]
  },
  {
   "cell_type": "markdown",
   "id": "290def4b",
   "metadata": {},
   "source": [
    "## <strong style=\"color:#5e17eb\">replace_many(patterns, replace_with_list)  </strong>\n"
   ]
  },
  {
   "cell_type": "code",
   "execution_count": 117,
   "id": "1a5b1a64",
   "metadata": {},
   "outputs": [
    {
     "data": {
      "text/html": [
       "<div><style>\n",
       ".dataframe > thead > tr,\n",
       ".dataframe > tbody > tr {\n",
       "  text-align: right;\n",
       "  white-space: pre-wrap;\n",
       "}\n",
       "</style>\n",
       "<small>shape: (3, 2)</small><table border=\"1\" class=\"dataframe\"><thead><tr><th>categories</th><th>categories_bulk_replace</th></tr><tr><td>str</td><td>str</td></tr></thead><tbody><tr><td>&quot;Home &amp; Garden, Furniture Store…</td><td>&quot;Home &amp; Garden, Furniture Store…</td></tr><tr><td>&quot;Vietnamese, Restaurants&quot;</td><td>&quot;Vietnamese, Restaurants&quot;</td></tr><tr><td>&quot;Medical Spas, Aestheticians, B…</td><td>&quot;Medical Spas, Aestheticians, B…</td></tr></tbody></table></div>"
      ],
      "text/plain": [
       "shape: (3, 2)\n",
       "┌─────────────────────────────────┬─────────────────────────────────┐\n",
       "│ categories                      ┆ categories_bulk_replace         │\n",
       "│ ---                             ┆ ---                             │\n",
       "│ str                             ┆ str                             │\n",
       "╞═════════════════════════════════╪═════════════════════════════════╡\n",
       "│ Home & Garden, Furniture Store… ┆ Home & Garden, Furniture Store… │\n",
       "│ Vietnamese, Restaurants         ┆ Vietnamese, Restaurants         │\n",
       "│ Medical Spas, Aestheticians, B… ┆ Medical Spas, Aestheticians, B… │\n",
       "└─────────────────────────────────┴─────────────────────────────────┘"
      ]
     },
     "execution_count": 117,
     "metadata": {},
     "output_type": "execute_result"
    }
   ],
   "source": [
    "# Replace certain words in categories\n",
    "patterns = [\"Doctors\", \"Health & Medical\", \"Acupuncture\"]\n",
    "replacements = [\"Physicians\", \"Healthcare\", \"Needle Therapy\"]\n",
    "\n",
    "business_df.select([\n",
    "    pl.col(\"categories\"),\n",
    "    pl.col(\"categories\").str.replace_many(patterns, replacements).alias(\"categories_bulk_replace\")\n",
    "]).sample(3)\n"
   ]
  },
  {
   "cell_type": "markdown",
   "id": "b84b6d16",
   "metadata": {},
   "source": [
    "## <strong style=\"color:#5e17eb\"> reverse() </strong>\n"
   ]
  },
  {
   "cell_type": "code",
   "execution_count": 118,
   "id": "a486447f",
   "metadata": {},
   "outputs": [
    {
     "data": {
      "text/html": [
       "<div><style>\n",
       ".dataframe > thead > tr,\n",
       ".dataframe > tbody > tr {\n",
       "  text-align: right;\n",
       "  white-space: pre-wrap;\n",
       "}\n",
       "</style>\n",
       "<small>shape: (150_346, 2)</small><table border=\"1\" class=\"dataframe\"><thead><tr><th>name</th><th>name_reversed</th></tr><tr><td>str</td><td>str</td></tr></thead><tbody><tr><td>&quot;Abby Rappoport, LAC, CMQ&quot;</td><td>&quot;QMC ,CAL ,tropoppaR ybbA&quot;</td></tr><tr><td>&quot;The UPS Store&quot;</td><td>&quot;erotS SPU ehT&quot;</td></tr><tr><td>&quot;Target&quot;</td><td>&quot;tegraT&quot;</td></tr><tr><td>&quot;St Honore Pastries&quot;</td><td>&quot;seirtsaP eronoH tS&quot;</td></tr><tr><td>&quot;Perkiomen Valley Brewery&quot;</td><td>&quot;yrewerB yellaV nemoikreP&quot;</td></tr><tr><td>&hellip;</td><td>&hellip;</td></tr><tr><td>&quot;Binh&#x27;s Nails&quot;</td><td>&quot;sliaN s&#x27;hniB&quot;</td></tr><tr><td>&quot;Wild Birds Unlimited&quot;</td><td>&quot;detimilnU sdriB dliW&quot;</td></tr><tr><td>&quot;Claire&#x27;s Boutique&quot;</td><td>&quot;euqituoB s&#x27;erialC&quot;</td></tr><tr><td>&quot;Cyclery &amp; Fitness Center&quot;</td><td>&quot;retneC ssentiF &amp; yrelcyC&quot;</td></tr><tr><td>&quot;Sic Ink&quot;</td><td>&quot;knI ciS&quot;</td></tr></tbody></table></div>"
      ],
      "text/plain": [
       "shape: (150_346, 2)\n",
       "┌──────────────────────────┬──────────────────────────┐\n",
       "│ name                     ┆ name_reversed            │\n",
       "│ ---                      ┆ ---                      │\n",
       "│ str                      ┆ str                      │\n",
       "╞══════════════════════════╪══════════════════════════╡\n",
       "│ Abby Rappoport, LAC, CMQ ┆ QMC ,CAL ,tropoppaR ybbA │\n",
       "│ The UPS Store            ┆ erotS SPU ehT            │\n",
       "│ Target                   ┆ tegraT                   │\n",
       "│ St Honore Pastries       ┆ seirtsaP eronoH tS       │\n",
       "│ Perkiomen Valley Brewery ┆ yrewerB yellaV nemoikreP │\n",
       "│ …                        ┆ …                        │\n",
       "│ Binh's Nails             ┆ sliaN s'hniB             │\n",
       "│ Wild Birds Unlimited     ┆ detimilnU sdriB dliW     │\n",
       "│ Claire's Boutique        ┆ euqituoB s'erialC        │\n",
       "│ Cyclery & Fitness Center ┆ retneC ssentiF & yrelcyC │\n",
       "│ Sic Ink                  ┆ knI ciS                  │\n",
       "└──────────────────────────┴──────────────────────────┘"
      ]
     },
     "execution_count": 118,
     "metadata": {},
     "output_type": "execute_result"
    }
   ],
   "source": [
    "# Example: Reverse business names\n",
    "business_df.select([\n",
    "    pl.col(\"name\"),\n",
    "    pl.col(\"name\").str.reverse().alias(\"name_reversed\")\n",
    "])\n"
   ]
  },
  {
   "cell_type": "markdown",
   "id": "e2137c2f",
   "metadata": {},
   "source": [
    "## <strong style=\"color:#5e17eb\"> concat(delimiter, ignore_nulls=True) </strong>\n"
   ]
  },
  {
   "cell_type": "code",
   "execution_count": null,
   "id": "8b3d609b",
   "metadata": {},
   "outputs": [
    {
     "data": {
      "text/html": [
       "<div><style>\n",
       ".dataframe > thead > tr,\n",
       ".dataframe > tbody > tr {\n",
       "  text-align: right;\n",
       "  white-space: pre-wrap;\n",
       "}\n",
       "</style>\n",
       "<small>shape: (150_346, 1)</small><table border=\"1\" class=\"dataframe\"><thead><tr><th>city_state</th></tr><tr><td>str</td></tr></thead><tbody><tr><td>&quot;Santa Barbara, CA&quot;</td></tr><tr><td>&quot;Affton, MO&quot;</td></tr><tr><td>&quot;Tucson, AZ&quot;</td></tr><tr><td>&quot;Philadelphia, PA&quot;</td></tr><tr><td>&quot;Green Lane, PA&quot;</td></tr><tr><td>&hellip;</td></tr><tr><td>&quot;Edmonton, AB&quot;</td></tr><tr><td>&quot;Nashville, TN&quot;</td></tr><tr><td>&quot;Indianapolis, IN&quot;</td></tr><tr><td>&quot;Edwardsville, IL&quot;</td></tr><tr><td>&quot;Apollo beach, FL&quot;</td></tr></tbody></table></div>"
      ],
      "text/plain": [
       "shape: (150_346, 1)\n",
       "┌───────────────────┐\n",
       "│ city_state        │\n",
       "│ ---               │\n",
       "│ str               │\n",
       "╞═══════════════════╡\n",
       "│ Santa Barbara, CA │\n",
       "│ Affton, MO        │\n",
       "│ Tucson, AZ        │\n",
       "│ Philadelphia, PA  │\n",
       "│ Green Lane, PA    │\n",
       "│ …                 │\n",
       "│ Edmonton, AB      │\n",
       "│ Nashville, TN     │\n",
       "│ Indianapolis, IN  │\n",
       "│ Edwardsville, IL  │\n",
       "│ Apollo beach, FL  │\n",
       "└───────────────────┘"
      ]
     },
     "execution_count": 119,
     "metadata": {},
     "output_type": "execute_result"
    }
   ],
   "source": [
    "# Merge city and state into \"City, State\"\n",
    "business_df.select([\n",
    "    pl.concat_str([\"city\", \"state\"], separator=\", \").alias(\"city_state\")\n",
    "])\n"
   ]
  },
  {
   "cell_type": "markdown",
   "id": "ca23f101",
   "metadata": {},
   "source": [
    "## <strong style=\"color:#5e17eb\"> Summary </strong>\n"
   ]
  },
  {
   "cell_type": "markdown",
   "id": "be588880",
   "metadata": {},
   "source": [
    "Modify text with regex or literal patterns.\n",
    "\n",
    "- `replace(pattern, value, literal=False, n=1)` – first match\n",
    "\n",
    "- `replace_all(pattern, value, literal=False)` – globally replace\n",
    "\n",
    "- `replace_many(patterns, replace_with_list`)` – multiple replacements in one go \n",
    "\n",
    "\n",
    "- `reverse()` / `concat(delimiter, ignore_nulls=True)` – reverse string or merge across rows"
   ]
  },
  {
   "cell_type": "markdown",
   "id": "2231bffd",
   "metadata": {},
   "source": [
    "# <strong style=\"color:#5e17eb\"> 5. Split & Slice </strong>\n"
   ]
  },
  {
   "cell_type": "markdown",
   "id": "3298ee9f",
   "metadata": {},
   "source": [
    "## <strong style=\"color:#5e17eb\">  slice(offset[, length])</strong>\n"
   ]
  },
  {
   "cell_type": "code",
   "execution_count": 122,
   "id": "1cf7ff40",
   "metadata": {},
   "outputs": [
    {
     "data": {
      "text/html": [
       "<div><style>\n",
       ".dataframe > thead > tr,\n",
       ".dataframe > tbody > tr {\n",
       "  text-align: right;\n",
       "  white-space: pre-wrap;\n",
       "}\n",
       "</style>\n",
       "<small>shape: (3, 2)</small><table border=\"1\" class=\"dataframe\"><thead><tr><th>postal_code</th><th>zip_last3</th></tr><tr><td>str</td><td>str</td></tr></thead><tbody><tr><td>&quot;19382&quot;</td><td>&quot;382&quot;</td></tr><tr><td>&quot;63026&quot;</td><td>&quot;026&quot;</td></tr><tr><td>&quot;83642&quot;</td><td>&quot;642&quot;</td></tr></tbody></table></div>"
      ],
      "text/plain": [
       "shape: (3, 2)\n",
       "┌─────────────┬───────────┐\n",
       "│ postal_code ┆ zip_last3 │\n",
       "│ ---         ┆ ---       │\n",
       "│ str         ┆ str       │\n",
       "╞═════════════╪═══════════╡\n",
       "│ 19382       ┆ 382       │\n",
       "│ 63026       ┆ 026       │\n",
       "│ 83642       ┆ 642       │\n",
       "└─────────────┴───────────┘"
      ]
     },
     "execution_count": 122,
     "metadata": {},
     "output_type": "execute_result"
    }
   ],
   "source": [
    "# Last 3 characters of postal code\n",
    "business_df.select([\n",
    "    pl.col(\"postal_code\"),\n",
    "    pl.col(\"postal_code\").str.slice(-3).alias(\"zip_last3\")\n",
    "]).sample(3)"
   ]
  },
  {
   "cell_type": "markdown",
   "id": "9757166f",
   "metadata": {},
   "source": [
    "## <strong style=\"color:#5e17eb\">head(n) / tail(n) /  </strong>\n"
   ]
  },
  {
   "cell_type": "code",
   "execution_count": 123,
   "id": "fbe295b7",
   "metadata": {},
   "outputs": [
    {
     "data": {
      "text/html": [
       "<div><style>\n",
       ".dataframe > thead > tr,\n",
       ".dataframe > tbody > tr {\n",
       "  text-align: right;\n",
       "  white-space: pre-wrap;\n",
       "}\n",
       "</style>\n",
       "<small>shape: (2, 14)</small><table border=\"1\" class=\"dataframe\"><thead><tr><th>business_id</th><th>name</th><th>address</th><th>city</th><th>state</th><th>postal_code</th><th>latitude</th><th>longitude</th><th>stars</th><th>review_count</th><th>is_open</th><th>attributes</th><th>categories</th><th>hours</th></tr><tr><td>str</td><td>str</td><td>str</td><td>str</td><td>str</td><td>str</td><td>f64</td><td>f64</td><td>f64</td><td>i64</td><td>i64</td><td>str</td><td>str</td><td>str</td></tr></thead><tbody><tr><td>&quot;Pns2l4eNsfO8kk83dixA6A&quot;</td><td>&quot;Abby Rappoport, LAC, CMQ&quot;</td><td>&quot;1616 Chapala St, Ste 2&quot;</td><td>&quot;Santa Barbara&quot;</td><td>&quot;CA&quot;</td><td>&quot;93101&quot;</td><td>34.426679</td><td>-119.711197</td><td>5.0</td><td>7</td><td>0</td><td>&quot;{&#x27;ByAppointmentOnly&#x27;: &#x27;True&#x27;}&quot;</td><td>&quot;Doctors, Traditional Chinese M…</td><td>null</td></tr><tr><td>&quot;mpf3x-BjTdTEA3yCZrAYPw&quot;</td><td>&quot;The UPS Store&quot;</td><td>&quot;87 Grasso Plaza Shopping Cente…</td><td>&quot;Affton&quot;</td><td>&quot;MO&quot;</td><td>&quot;63123&quot;</td><td>38.551126</td><td>-90.335695</td><td>3.0</td><td>15</td><td>1</td><td>&quot;{&#x27;BusinessAcceptsCreditCards&#x27;:…</td><td>&quot;Shipping Centers, Local Servic…</td><td>&quot;{&#x27;Monday&#x27;: &#x27;0:0-0:0&#x27;, &#x27;Tuesday…</td></tr></tbody></table></div>"
      ],
      "text/plain": [
       "shape: (2, 14)\n",
       "┌────────────┬───────────┬───────────┬───────────┬───┬─────────┬───────────┬───────────┬───────────┐\n",
       "│ business_i ┆ name      ┆ address   ┆ city      ┆ … ┆ is_open ┆ attribute ┆ categorie ┆ hours     │\n",
       "│ d          ┆ ---       ┆ ---       ┆ ---       ┆   ┆ ---     ┆ s         ┆ s         ┆ ---       │\n",
       "│ ---        ┆ str       ┆ str       ┆ str       ┆   ┆ i64     ┆ ---       ┆ ---       ┆ str       │\n",
       "│ str        ┆           ┆           ┆           ┆   ┆         ┆ str       ┆ str       ┆           │\n",
       "╞════════════╪═══════════╪═══════════╪═══════════╪═══╪═════════╪═══════════╪═══════════╪═══════════╡\n",
       "│ Pns2l4eNsf ┆ Abby Rapp ┆ 1616      ┆ Santa     ┆ … ┆ 0       ┆ {'ByAppoi ┆ Doctors,  ┆ null      │\n",
       "│ O8kk83dixA ┆ oport,    ┆ Chapala   ┆ Barbara   ┆   ┆         ┆ ntmentOnl ┆ Tradition ┆           │\n",
       "│ 6A         ┆ LAC, CMQ  ┆ St, Ste 2 ┆           ┆   ┆         ┆ y':       ┆ al        ┆           │\n",
       "│            ┆           ┆           ┆           ┆   ┆         ┆ 'True'}   ┆ Chinese   ┆           │\n",
       "│            ┆           ┆           ┆           ┆   ┆         ┆           ┆ M…        ┆           │\n",
       "│ mpf3x-BjTd ┆ The UPS   ┆ 87 Grasso ┆ Affton    ┆ … ┆ 1       ┆ {'Busines ┆ Shipping  ┆ {'Monday' │\n",
       "│ TEA3yCZrAY ┆ Store     ┆ Plaza     ┆           ┆   ┆         ┆ sAcceptsC ┆ Centers,  ┆ : '0:0-0: │\n",
       "│ Pw         ┆           ┆ Shopping  ┆           ┆   ┆         ┆ reditCard ┆ Local     ┆ 0',       │\n",
       "│            ┆           ┆ Cente…    ┆           ┆   ┆         ┆ s':…      ┆ Servic…   ┆ 'Tuesday… │\n",
       "└────────────┴───────────┴───────────┴───────────┴───┴─────────┴───────────┴───────────┴───────────┘"
      ]
     },
     "execution_count": 123,
     "metadata": {},
     "output_type": "execute_result"
    }
   ],
   "source": [
    "business_df.head(2)"
   ]
  },
  {
   "cell_type": "code",
   "execution_count": 124,
   "id": "7feac086",
   "metadata": {},
   "outputs": [
    {
     "data": {
      "text/html": [
       "<div><style>\n",
       ".dataframe > thead > tr,\n",
       ".dataframe > tbody > tr {\n",
       "  text-align: right;\n",
       "  white-space: pre-wrap;\n",
       "}\n",
       "</style>\n",
       "<small>shape: (2, 14)</small><table border=\"1\" class=\"dataframe\"><thead><tr><th>business_id</th><th>name</th><th>address</th><th>city</th><th>state</th><th>postal_code</th><th>latitude</th><th>longitude</th><th>stars</th><th>review_count</th><th>is_open</th><th>attributes</th><th>categories</th><th>hours</th></tr><tr><td>str</td><td>str</td><td>str</td><td>str</td><td>str</td><td>str</td><td>f64</td><td>f64</td><td>f64</td><td>i64</td><td>i64</td><td>str</td><td>str</td><td>str</td></tr></thead><tbody><tr><td>&quot;mtGm22y5c2UHNXDFAjaPNw&quot;</td><td>&quot;Cyclery &amp; Fitness Center&quot;</td><td>&quot;2472 Troy Rd&quot;</td><td>&quot;Edwardsville&quot;</td><td>&quot;IL&quot;</td><td>&quot;62025&quot;</td><td>38.782351</td><td>-89.950558</td><td>4.0</td><td>24</td><td>1</td><td>&quot;{&#x27;BusinessParking&#x27;: &quot;{&#x27;garage&#x27;…</td><td>&quot;Fitness/Exercise Equipment, Ey…</td><td>&quot;{&#x27;Monday&#x27;: &#x27;9:0-20:0&#x27;, &#x27;Tuesda…</td></tr><tr><td>&quot;jV_XOycEzSlTx-65W906pg&quot;</td><td>&quot;Sic Ink&quot;</td><td>&quot;238 Apollo Beach Blvd&quot;</td><td>&quot;Apollo beach&quot;</td><td>&quot;FL&quot;</td><td>&quot;33572&quot;</td><td>27.771002</td><td>-82.39491</td><td>4.5</td><td>9</td><td>1</td><td>&quot;{&#x27;WheelchairAccessible&#x27;: &#x27;True…</td><td>&quot;Beauty &amp; Spas, Permanent Makeu…</td><td>&quot;{&#x27;Tuesday&#x27;: &#x27;12:0-19:0&#x27;, &#x27;Wedn…</td></tr></tbody></table></div>"
      ],
      "text/plain": [
       "shape: (2, 14)\n",
       "┌────────────┬───────────┬───────────┬───────────┬───┬─────────┬───────────┬───────────┬───────────┐\n",
       "│ business_i ┆ name      ┆ address   ┆ city      ┆ … ┆ is_open ┆ attribute ┆ categorie ┆ hours     │\n",
       "│ d          ┆ ---       ┆ ---       ┆ ---       ┆   ┆ ---     ┆ s         ┆ s         ┆ ---       │\n",
       "│ ---        ┆ str       ┆ str       ┆ str       ┆   ┆ i64     ┆ ---       ┆ ---       ┆ str       │\n",
       "│ str        ┆           ┆           ┆           ┆   ┆         ┆ str       ┆ str       ┆           │\n",
       "╞════════════╪═══════════╪═══════════╪═══════════╪═══╪═════════╪═══════════╪═══════════╪═══════════╡\n",
       "│ mtGm22y5c2 ┆ Cyclery & ┆ 2472 Troy ┆ Edwardsvi ┆ … ┆ 1       ┆ {'Busines ┆ Fitness/E ┆ {'Monday' │\n",
       "│ UHNXDFAjaP ┆ Fitness   ┆ Rd        ┆ lle       ┆   ┆         ┆ sParking' ┆ xercise   ┆ : '9:0-20 │\n",
       "│ Nw         ┆ Center    ┆           ┆           ┆   ┆         ┆ : \"{'gara ┆ Equipment ┆ :0',      │\n",
       "│            ┆           ┆           ┆           ┆   ┆         ┆ ge'…      ┆ , Ey…     ┆ 'Tuesda…  │\n",
       "│ jV_XOycEzS ┆ Sic Ink   ┆ 238       ┆ Apollo    ┆ … ┆ 1       ┆ {'Wheelch ┆ Beauty &  ┆ {'Tuesday │\n",
       "│ lTx-65W906 ┆           ┆ Apollo    ┆ beach     ┆   ┆         ┆ airAccess ┆ Spas,     ┆ ': '12:0- │\n",
       "│ pg         ┆           ┆ Beach     ┆           ┆   ┆         ┆ ible':    ┆ Permanent ┆ 19:0',    │\n",
       "│            ┆           ┆ Blvd      ┆           ┆   ┆         ┆ 'True…    ┆ Makeu…    ┆ 'Wedn…    │\n",
       "└────────────┴───────────┴───────────┴───────────┴───┴─────────┴───────────┴───────────┴───────────┘"
      ]
     },
     "execution_count": 124,
     "metadata": {},
     "output_type": "execute_result"
    }
   ],
   "source": [
    "business_df.tail(2)"
   ]
  },
  {
   "cell_type": "markdown",
   "id": "745944c0",
   "metadata": {},
   "source": [
    "## <strong style=\"color:#5e17eb\">  split(by, inclusive=False) / split_exact(by, n) / splitn(by, n) </strong>\n"
   ]
  },
  {
   "cell_type": "code",
   "execution_count": 125,
   "id": "7e4c7d9b",
   "metadata": {},
   "outputs": [
    {
     "data": {
      "text/html": [
       "<div><style>\n",
       ".dataframe > thead > tr,\n",
       ".dataframe > tbody > tr {\n",
       "  text-align: right;\n",
       "  white-space: pre-wrap;\n",
       "}\n",
       "</style>\n",
       "<small>shape: (150_346, 2)</small><table border=\"1\" class=\"dataframe\"><thead><tr><th>categories</th><th>categories_list</th></tr><tr><td>str</td><td>list[str]</td></tr></thead><tbody><tr><td>&quot;Doctors, Traditional Chinese M…</td><td>[&quot;Doctors&quot;, &quot;Traditional Chinese Medicine&quot;, … &quot;Nutritionists&quot;]</td></tr><tr><td>&quot;Shipping Centers, Local Servic…</td><td>[&quot;Shipping Centers&quot;, &quot;Local Services&quot;, … &quot;Printing Services&quot;]</td></tr><tr><td>&quot;Department Stores, Shopping, F…</td><td>[&quot;Department Stores&quot;, &quot;Shopping&quot;, … &quot;Furniture Stores&quot;]</td></tr><tr><td>&quot;Restaurants, Food, Bubble Tea,…</td><td>[&quot;Restaurants&quot;, &quot;Food&quot;, … &quot;Bakeries&quot;]</td></tr><tr><td>&quot;Brewpubs, Breweries, Food&quot;</td><td>[&quot;Brewpubs&quot;, &quot;Breweries&quot;, &quot;Food&quot;]</td></tr><tr><td>&hellip;</td><td>&hellip;</td></tr><tr><td>&quot;Nail Salons, Beauty &amp; Spas&quot;</td><td>[&quot;Nail Salons&quot;, &quot;Beauty &amp; Spas&quot;]</td></tr><tr><td>&quot;Pets, Nurseries &amp; Gardening, P…</td><td>[&quot;Pets&quot;, &quot;Nurseries &amp; Gardening&quot;, … &quot;Shopping&quot;]</td></tr><tr><td>&quot;Shopping, Jewelry, Piercing, T…</td><td>[&quot;Shopping&quot;, &quot;Jewelry&quot;, … &quot;Fashion&quot;]</td></tr><tr><td>&quot;Fitness/Exercise Equipment, Ey…</td><td>[&quot;Fitness/Exercise Equipment&quot;, &quot;Eyewear &amp; Opticians&quot;, … &quot;Bikes&quot;]</td></tr><tr><td>&quot;Beauty &amp; Spas, Permanent Makeu…</td><td>[&quot;Beauty &amp; Spas&quot;, &quot;Permanent Makeup&quot;, … &quot;Tattoo&quot;]</td></tr></tbody></table></div>"
      ],
      "text/plain": [
       "shape: (150_346, 2)\n",
       "┌─────────────────────────────────┬─────────────────────────────────┐\n",
       "│ categories                      ┆ categories_list                 │\n",
       "│ ---                             ┆ ---                             │\n",
       "│ str                             ┆ list[str]                       │\n",
       "╞═════════════════════════════════╪═════════════════════════════════╡\n",
       "│ Doctors, Traditional Chinese M… ┆ [\"Doctors\", \"Traditional Chine… │\n",
       "│ Shipping Centers, Local Servic… ┆ [\"Shipping Centers\", \"Local Se… │\n",
       "│ Department Stores, Shopping, F… ┆ [\"Department Stores\", \"Shoppin… │\n",
       "│ Restaurants, Food, Bubble Tea,… ┆ [\"Restaurants\", \"Food\", … \"Bak… │\n",
       "│ Brewpubs, Breweries, Food       ┆ [\"Brewpubs\", \"Breweries\", \"Foo… │\n",
       "│ …                               ┆ …                               │\n",
       "│ Nail Salons, Beauty & Spas      ┆ [\"Nail Salons\", \"Beauty & Spas… │\n",
       "│ Pets, Nurseries & Gardening, P… ┆ [\"Pets\", \"Nurseries & Gardenin… │\n",
       "│ Shopping, Jewelry, Piercing, T… ┆ [\"Shopping\", \"Jewelry\", … \"Fas… │\n",
       "│ Fitness/Exercise Equipment, Ey… ┆ [\"Fitness/Exercise Equipment\",… │\n",
       "│ Beauty & Spas, Permanent Makeu… ┆ [\"Beauty & Spas\", \"Permanent M… │\n",
       "└─────────────────────────────────┴─────────────────────────────────┘"
      ]
     },
     "execution_count": 125,
     "metadata": {},
     "output_type": "execute_result"
    }
   ],
   "source": [
    "# Split categories into list\n",
    "business_df.select([\n",
    "    pl.col(\"categories\"),\n",
    "    pl.col(\"categories\").str.split(\", \").alias(\"categories_list\")\n",
    "])\n"
   ]
  },
  {
   "cell_type": "code",
   "execution_count": null,
   "id": "912eb103",
   "metadata": {},
   "outputs": [
    {
     "data": {
      "text/html": [
       "<div><style>\n",
       ".dataframe > thead > tr,\n",
       ".dataframe > tbody > tr {\n",
       "  text-align: right;\n",
       "  white-space: pre-wrap;\n",
       "}\n",
       "</style>\n",
       "<small>shape: (150_346, 1)</small><table border=\"1\" class=\"dataframe\"><thead><tr><th>address_parts</th></tr><tr><td>struct[2]</td></tr></thead><tbody><tr><td>{&quot;1616 Chapala St&quot;,&quot; Ste 2&quot;}</td></tr><tr><td>{&quot;87 Grasso Plaza Shopping Center&quot;,null}</td></tr><tr><td>{&quot;5255 E Broadway Blvd&quot;,null}</td></tr><tr><td>{&quot;935 Race St&quot;,null}</td></tr><tr><td>{&quot;101 Walnut St&quot;,null}</td></tr><tr><td>&hellip;</td></tr><tr><td>{&quot;3388 Gateway Blvd&quot;,null}</td></tr><tr><td>{&quot;2813 Bransford Ave&quot;,null}</td></tr><tr><td>{&quot;6020 E 82nd St&quot;,&quot; Ste 46&quot;}</td></tr><tr><td>{&quot;2472 Troy Rd&quot;,null}</td></tr><tr><td>{&quot;238 Apollo Beach Blvd&quot;,null}</td></tr></tbody></table></div>"
      ],
      "text/plain": [
       "shape: (150_346, 1)\n",
       "┌─────────────────────────────────┐\n",
       "│ address_parts                   │\n",
       "│ ---                             │\n",
       "│ struct[2]                       │\n",
       "╞═════════════════════════════════╡\n",
       "│ {\"1616 Chapala St\",\" Ste 2\"}    │\n",
       "│ {\"87 Grasso Plaza Shopping Cen… │\n",
       "│ {\"5255 E Broadway Blvd\",null}   │\n",
       "│ {\"935 Race St\",null}            │\n",
       "│ {\"101 Walnut St\",null}          │\n",
       "│ …                               │\n",
       "│ {\"3388 Gateway Blvd\",null}      │\n",
       "│ {\"2813 Bransford Ave\",null}     │\n",
       "│ {\"6020 E 82nd St\",\" Ste 46\"}    │\n",
       "│ {\"2472 Troy Rd\",null}           │\n",
       "│ {\"238 Apollo Beach Blvd\",null}  │\n",
       "└─────────────────────────────────┘"
      ]
     },
     "execution_count": 129,
     "metadata": {},
     "output_type": "execute_result"
    }
   ],
   "source": [
    "# Example: Split address into first and second part \n",
    "business_df.select(\n",
    "    pl.col(\"address\").str.split_exact(\",\", 1).alias(\"address_parts\")\n",
    ")\n"
   ]
  },
  {
   "cell_type": "code",
   "execution_count": 131,
   "id": "e819d7e9",
   "metadata": {},
   "outputs": [
    {
     "data": {
      "text/html": [
       "<div><style>\n",
       ".dataframe > thead > tr,\n",
       ".dataframe > tbody > tr {\n",
       "  text-align: right;\n",
       "  white-space: pre-wrap;\n",
       "}\n",
       "</style>\n",
       "<small>shape: (150_346, 2)</small><table border=\"1\" class=\"dataframe\"><thead><tr><th>categories</th><th>categories_top3</th></tr><tr><td>str</td><td>struct[2]</td></tr></thead><tbody><tr><td>&quot;Doctors, Traditional Chinese M…</td><td>{&quot;Doctors&quot;,&quot;Traditional Chinese Medicine, Naturopathic/Holistic, Acupuncture, Health &amp; Medical, Nutritionists&quot;}</td></tr><tr><td>&quot;Shipping Centers, Local Servic…</td><td>{&quot;Shipping Centers&quot;,&quot;Local Services, Notaries, Mailbox Centers, Printing Services&quot;}</td></tr><tr><td>&quot;Department Stores, Shopping, F…</td><td>{&quot;Department Stores&quot;,&quot;Shopping, Fashion, Home &amp; Garden, Electronics, Furniture Stores&quot;}</td></tr><tr><td>&quot;Restaurants, Food, Bubble Tea,…</td><td>{&quot;Restaurants&quot;,&quot;Food, Bubble Tea, Coffee &amp; Tea, Bakeries&quot;}</td></tr><tr><td>&quot;Brewpubs, Breweries, Food&quot;</td><td>{&quot;Brewpubs&quot;,&quot;Breweries, Food&quot;}</td></tr><tr><td>&hellip;</td><td>&hellip;</td></tr><tr><td>&quot;Nail Salons, Beauty &amp; Spas&quot;</td><td>{&quot;Nail Salons&quot;,&quot;Beauty &amp; Spas&quot;}</td></tr><tr><td>&quot;Pets, Nurseries &amp; Gardening, P…</td><td>{&quot;Pets&quot;,&quot;Nurseries &amp; Gardening, Pet Stores, Hobby Shops, Bird Shops, Home &amp; Garden, Shopping&quot;}</td></tr><tr><td>&quot;Shopping, Jewelry, Piercing, T…</td><td>{&quot;Shopping&quot;,&quot;Jewelry, Piercing, Toy Stores, Beauty &amp; Spas, Accessories, Fashion&quot;}</td></tr><tr><td>&quot;Fitness/Exercise Equipment, Ey…</td><td>{&quot;Fitness/Exercise Equipment&quot;,&quot;Eyewear &amp; Opticians, Shopping, Sporting Goods, Bikes&quot;}</td></tr><tr><td>&quot;Beauty &amp; Spas, Permanent Makeu…</td><td>{&quot;Beauty &amp; Spas&quot;,&quot;Permanent Makeup, Piercing, Tattoo&quot;}</td></tr></tbody></table></div>"
      ],
      "text/plain": [
       "shape: (150_346, 2)\n",
       "┌─────────────────────────────────┬─────────────────────────────────┐\n",
       "│ categories                      ┆ categories_top3                 │\n",
       "│ ---                             ┆ ---                             │\n",
       "│ str                             ┆ struct[2]                       │\n",
       "╞═════════════════════════════════╪═════════════════════════════════╡\n",
       "│ Doctors, Traditional Chinese M… ┆ {\"Doctors\",\"Traditional Chines… │\n",
       "│ Shipping Centers, Local Servic… ┆ {\"Shipping Centers\",\"Local Ser… │\n",
       "│ Department Stores, Shopping, F… ┆ {\"Department Stores\",\"Shopping… │\n",
       "│ Restaurants, Food, Bubble Tea,… ┆ {\"Restaurants\",\"Food, Bubble T… │\n",
       "│ Brewpubs, Breweries, Food       ┆ {\"Brewpubs\",\"Breweries, Food\"}  │\n",
       "│ …                               ┆ …                               │\n",
       "│ Nail Salons, Beauty & Spas      ┆ {\"Nail Salons\",\"Beauty & Spas\"… │\n",
       "│ Pets, Nurseries & Gardening, P… ┆ {\"Pets\",\"Nurseries & Gardening… │\n",
       "│ Shopping, Jewelry, Piercing, T… ┆ {\"Shopping\",\"Jewelry, Piercing… │\n",
       "│ Fitness/Exercise Equipment, Ey… ┆ {\"Fitness/Exercise Equipment\",… │\n",
       "│ Beauty & Spas, Permanent Makeu… ┆ {\"Beauty & Spas\",\"Permanent Ma… │\n",
       "└─────────────────────────────────┴─────────────────────────────────┘"
      ]
     },
     "execution_count": 131,
     "metadata": {},
     "output_type": "execute_result"
    }
   ],
   "source": [
    "# Split categories into max 3 parts\n",
    "business_df.select([\n",
    "    pl.col(\"categories\"),\n",
    "    pl.col(\"categories\").str.splitn(\", \", 2).alias(\"categories_top3\")\n",
    "])\n"
   ]
  },
  {
   "cell_type": "markdown",
   "id": "ebdd3b14",
   "metadata": {},
   "source": [
    "## <strong style=\"color:#5e17eb\"> Summary </strong>\n"
   ]
  },
  {
   "cell_type": "markdown",
   "id": "a794b4da",
   "metadata": {},
   "source": [
    "Break strings into parts.\n",
    "\n",
    "- `slice(offset[, length])` – substring by position (supports negatives) \n",
    "\n",
    "\n",
    "- `head(n)`, `tail(n)` – first or last n characters\n",
    "\n",
    "- `split(by, inclusive=False)`, `split_exact(by, n)`, `splitn(by, n)` – divide string into list of parts"
   ]
  },
  {
   "cell_type": "markdown",
   "id": "a1b4be73",
   "metadata": {},
   "source": [
    "# <strong style=\"color:#5e17eb\"> 6. Parsing & Conversion </strong>\n"
   ]
  },
  {
   "cell_type": "markdown",
   "id": "7e075b19",
   "metadata": {},
   "source": [
    "## <strong style=\"color:#5e17eb\"> strptime(dtype, format, strict=True) </strong>"
   ]
  },
  {
   "cell_type": "code",
   "execution_count": 132,
   "id": "1df2d8a6",
   "metadata": {},
   "outputs": [
    {
     "data": {
      "text/html": [
       "<div><style>\n",
       ".dataframe > thead > tr,\n",
       ".dataframe > tbody > tr {\n",
       "  text-align: right;\n",
       "  white-space: pre-wrap;\n",
       "}\n",
       "</style>\n",
       "<small>shape: (3, 1)</small><table border=\"1\" class=\"dataframe\"><thead><tr><th>open_date</th></tr><tr><td>date</td></tr></thead><tbody><tr><td>2023-05-21</td></tr><tr><td>2022-12-01</td></tr><tr><td>2024-01-15</td></tr></tbody></table></div>"
      ],
      "text/plain": [
       "shape: (3, 1)\n",
       "┌────────────┐\n",
       "│ open_date  │\n",
       "│ ---        │\n",
       "│ date       │\n",
       "╞════════════╡\n",
       "│ 2023-05-21 │\n",
       "│ 2022-12-01 │\n",
       "│ 2024-01-15 │\n",
       "└────────────┘"
      ]
     },
     "execution_count": 132,
     "metadata": {},
     "output_type": "execute_result"
    }
   ],
   "source": [
    "# Example: Suppose we had a string date column\n",
    "df_dates = pl.DataFrame({\n",
    "    \"open_date_str\": [\"2023-05-21\", \"2022-12-01\", \"2024-01-15\"]\n",
    "})\n",
    "\n",
    "df_dates.select([\n",
    "    pl.col(\"open_date_str\").str.strptime(pl.Date, \"%Y-%m-%d\").alias(\"open_date\")\n",
    "])\n"
   ]
  },
  {
   "cell_type": "markdown",
   "id": "a806eb46",
   "metadata": {},
   "source": [
    "## <strong style=\"color:#5e17eb\">  to_date() / to_datetime() / to_time()</strong>"
   ]
  },
  {
   "cell_type": "code",
   "execution_count": 133,
   "id": "6059b3ca",
   "metadata": {},
   "outputs": [
    {
     "data": {
      "text/html": [
       "<div><style>\n",
       ".dataframe > thead > tr,\n",
       ".dataframe > tbody > tr {\n",
       "  text-align: right;\n",
       "  white-space: pre-wrap;\n",
       "}\n",
       "</style>\n",
       "<small>shape: (3, 1)</small><table border=\"1\" class=\"dataframe\"><thead><tr><th>open_date</th></tr><tr><td>date</td></tr></thead><tbody><tr><td>2023-05-21</td></tr><tr><td>2022-12-01</td></tr><tr><td>2024-01-15</td></tr></tbody></table></div>"
      ],
      "text/plain": [
       "shape: (3, 1)\n",
       "┌────────────┐\n",
       "│ open_date  │\n",
       "│ ---        │\n",
       "│ date       │\n",
       "╞════════════╡\n",
       "│ 2023-05-21 │\n",
       "│ 2022-12-01 │\n",
       "│ 2024-01-15 │\n",
       "└────────────┘"
      ]
     },
     "execution_count": 133,
     "metadata": {},
     "output_type": "execute_result"
    }
   ],
   "source": [
    "df_dates.select([\n",
    "    pl.col(\"open_date_str\").str.to_date(\"%Y-%m-%d\").alias(\"open_date\")\n",
    "])\n"
   ]
  },
  {
   "cell_type": "markdown",
   "id": "a3009830",
   "metadata": {},
   "source": [
    "## <strong style=\"color:#5e17eb\"> to_integer(base=10, strict=True) / parse_int() </strong>"
   ]
  },
  {
   "cell_type": "code",
   "execution_count": 134,
   "id": "9cbaeeee",
   "metadata": {},
   "outputs": [
    {
     "data": {
      "text/html": [
       "<div><style>\n",
       ".dataframe > thead > tr,\n",
       ".dataframe > tbody > tr {\n",
       "  text-align: right;\n",
       "  white-space: pre-wrap;\n",
       "}\n",
       "</style>\n",
       "<small>shape: (150_346, 2)</small><table border=\"1\" class=\"dataframe\"><thead><tr><th>postal_code</th><th>postal_code_int</th></tr><tr><td>str</td><td>i64</td></tr></thead><tbody><tr><td>&quot;93101&quot;</td><td>93101</td></tr><tr><td>&quot;63123&quot;</td><td>63123</td></tr><tr><td>&quot;85711&quot;</td><td>85711</td></tr><tr><td>&quot;19107&quot;</td><td>19107</td></tr><tr><td>&quot;18054&quot;</td><td>18054</td></tr><tr><td>&hellip;</td><td>&hellip;</td></tr><tr><td>&quot;T6J 5H2&quot;</td><td>null</td></tr><tr><td>&quot;37204&quot;</td><td>37204</td></tr><tr><td>&quot;46250&quot;</td><td>46250</td></tr><tr><td>&quot;62025&quot;</td><td>62025</td></tr><tr><td>&quot;33572&quot;</td><td>33572</td></tr></tbody></table></div>"
      ],
      "text/plain": [
       "shape: (150_346, 2)\n",
       "┌─────────────┬─────────────────┐\n",
       "│ postal_code ┆ postal_code_int │\n",
       "│ ---         ┆ ---             │\n",
       "│ str         ┆ i64             │\n",
       "╞═════════════╪═════════════════╡\n",
       "│ 93101       ┆ 93101           │\n",
       "│ 63123       ┆ 63123           │\n",
       "│ 85711       ┆ 85711           │\n",
       "│ 19107       ┆ 19107           │\n",
       "│ 18054       ┆ 18054           │\n",
       "│ …           ┆ …               │\n",
       "│ T6J 5H2     ┆ null            │\n",
       "│ 37204       ┆ 37204           │\n",
       "│ 46250       ┆ 46250           │\n",
       "│ 62025       ┆ 62025           │\n",
       "│ 33572       ┆ 33572           │\n",
       "└─────────────┴─────────────────┘"
      ]
     },
     "execution_count": 134,
     "metadata": {},
     "output_type": "execute_result"
    }
   ],
   "source": [
    "# Convert postal code string to integer\n",
    "business_df.select([\n",
    "    pl.col(\"postal_code\"),\n",
    "    pl.col(\"postal_code\").str.to_integer(strict=False).alias(\"postal_code_int\")\n",
    "])\n"
   ]
  },
  {
   "cell_type": "markdown",
   "id": "020c9124",
   "metadata": {},
   "source": [
    "## <strong style=\"color:#5e17eb\"> to_decimal() </strong>"
   ]
  },
  {
   "cell_type": "code",
   "execution_count": 6,
   "id": "ffe8e4c7",
   "metadata": {},
   "outputs": [
    {
     "name": "stdout",
     "output_type": "stream",
     "text": [
      "[String]\n"
     ]
    },
    {
     "data": {
      "text/html": [
       "<div><style>\n",
       ".dataframe > thead > tr,\n",
       ".dataframe > tbody > tr {\n",
       "  text-align: right;\n",
       "  white-space: pre-wrap;\n",
       "}\n",
       "</style>\n",
       "<small>shape: (3, 1)</small><table border=\"1\" class=\"dataframe\"><thead><tr><th>price_decimal</th></tr><tr><td>decimal[*,2]</td></tr></thead><tbody><tr><td>12.50</td></tr><tr><td>100.05</td></tr><tr><td>7.00</td></tr></tbody></table></div>"
      ],
      "text/plain": [
       "shape: (3, 1)\n",
       "┌───────────────┐\n",
       "│ price_decimal │\n",
       "│ ---           │\n",
       "│ decimal[*,2]  │\n",
       "╞═══════════════╡\n",
       "│ 12.50         │\n",
       "│ 100.05        │\n",
       "│ 7.00          │\n",
       "└───────────────┘"
      ]
     },
     "execution_count": 6,
     "metadata": {},
     "output_type": "execute_result"
    }
   ],
   "source": [
    "df_price = pl.DataFrame({\"price_str\": [\"12.50\", \"100.05\", \"7.00\"]})\n",
    "\n",
    "print(df_price.dtypes)\n",
    "\n",
    "df_price.select([\n",
    "    pl.col(\"price_str\").str.to_decimal().alias(\"price_decimal\")\n",
    "])\n"
   ]
  },
  {
   "cell_type": "code",
   "execution_count": 9,
   "id": "caada709",
   "metadata": {},
   "outputs": [
    {
     "data": {
      "text/html": [
       "<div><style>\n",
       ".dataframe > thead > tr,\n",
       ".dataframe > tbody > tr {\n",
       "  text-align: right;\n",
       "  white-space: pre-wrap;\n",
       "}\n",
       "</style>\n",
       "<small>shape: (150_346,)</small><table border=\"1\" class=\"dataframe\"><thead><tr><th>attributes</th></tr><tr><td>str</td></tr></thead><tbody><tr><td>&quot;{&#x27;ByAppointmentOnly&#x27;: &#x27;True&#x27;}&quot;</td></tr><tr><td>&quot;{&#x27;BusinessAcceptsCreditCards&#x27;:…</td></tr><tr><td>&quot;{&#x27;BikeParking&#x27;: &#x27;True&#x27;, &#x27;Busin…</td></tr><tr><td>&quot;{&#x27;RestaurantsDelivery&#x27;: &#x27;False…</td></tr><tr><td>&quot;{&#x27;BusinessAcceptsCreditCards&#x27;:…</td></tr><tr><td>&hellip;</td></tr><tr><td>&quot;{&#x27;ByAppointmentOnly&#x27;: &#x27;False&#x27;,…</td></tr><tr><td>&quot;{&#x27;BusinessAcceptsCreditCards&#x27;:…</td></tr><tr><td>&quot;{&#x27;RestaurantsPriceRange2&#x27;: &#x27;1&#x27;…</td></tr><tr><td>&quot;{&#x27;BusinessParking&#x27;: &quot;{&#x27;garage&#x27;…</td></tr><tr><td>&quot;{&#x27;WheelchairAccessible&#x27;: &#x27;True…</td></tr></tbody></table></div>"
      ],
      "text/plain": [
       "shape: (150_346,)\n",
       "Series: 'attributes' [str]\n",
       "[\n",
       "\t\"{'ByAppointmentOnly': 'True'}\"\n",
       "\t\"{'BusinessAcceptsCreditCards':…\n",
       "\t\"{'BikeParking': 'True', 'Busin…\n",
       "\t\"{'RestaurantsDelivery': 'False…\n",
       "\t\"{'BusinessAcceptsCreditCards':…\n",
       "\t…\n",
       "\t\"{'ByAppointmentOnly': 'False',…\n",
       "\t\"{'BusinessAcceptsCreditCards':…\n",
       "\t\"{'RestaurantsPriceRange2': '1'…\n",
       "\t\"{'BusinessParking': \"{'garage'…\n",
       "\t\"{'WheelchairAccessible': 'True…\n",
       "]"
      ]
     },
     "execution_count": 9,
     "metadata": {},
     "output_type": "execute_result"
    }
   ],
   "source": [
    "business_df['attributes']"
   ]
  },
  {
   "cell_type": "code",
   "execution_count": 15,
   "id": "7a7a7393",
   "metadata": {},
   "outputs": [
    {
     "data": {
      "text/plain": [
       "['{\"ByAppointmentOnly\": \"True\"}',\n",
       " '{\"BusinessAcceptsCreditCards\": \"True\"}',\n",
       " '{\"BikeParking\": \"True\", \"BusinessAcceptsCreditCards\": \"True\", \"RestaurantsPriceRange2\": \"2\", \"CoatCheck\": \"False\", \"RestaurantsTakeOut\": \"False\", \"RestaurantsDelivery\": \"False\", \"Caters\": \"False\", \"WiFi\": \"u\"no\"\", \"BusinessParking\": \"{\"garage\": False, \"street\": False, \"validated\": False, \"lot\": True, \"valet\": False}\", \"WheelchairAccessible\": \"True\", \"HappyHour\": \"False\", \"OutdoorSeating\": \"False\", \"HasTV\": \"False\", \"RestaurantsReservations\": \"False\", \"DogsAllowed\": \"False\", \"ByAppointmentOnly\": \"False\"}',\n",
       " '{\"RestaurantsDelivery\": \"False\", \"OutdoorSeating\": \"False\", \"BusinessAcceptsCreditCards\": \"False\", \"BusinessParking\": \"{\"garage\": False, \"street\": True, \"validated\": False, \"lot\": False, \"valet\": False}\", \"BikeParking\": \"True\", \"RestaurantsPriceRange2\": \"1\", \"RestaurantsTakeOut\": \"True\", \"ByAppointmentOnly\": \"False\", \"WiFi\": \"u\"free\"\", \"Alcohol\": \"u\"none\"\", \"Caters\": \"True\"}',\n",
       " '{\"BusinessAcceptsCreditCards\": \"True\", \"WheelchairAccessible\": \"True\", \"RestaurantsTakeOut\": \"True\", \"BusinessParking\": \"{\"garage\": None, \"street\": None, \"validated\": None, \"lot\": True, \"valet\": False}\", \"BikeParking\": \"True\", \"GoodForKids\": \"True\", \"Caters\": \"False\"}',\n",
       " '{\"BusinessParking\": \"None\", \"BusinessAcceptsCreditCards\": \"True\", \"RestaurantsAttire\": \"u\"casual\"\", \"OutdoorSeating\": \"True\", \"RestaurantsReservations\": \"False\", \"Caters\": \"False\", \"RestaurantsTakeOut\": \"True\", \"Alcohol\": \"u\"none\"\", \"Ambience\": \"None\", \"GoodForKids\": \"True\", \"RestaurantsPriceRange2\": \"1\", \"ByAppointmentOnly\": \"False\", \"CoatCheck\": \"False\", \"DogsAllowed\": \"False\", \"RestaurantsTableService\": \"False\", \"RestaurantsGoodForGroups\": \"True\", \"RestaurantsDelivery\": \"True\", \"WiFi\": \"u\"no\"\", \"WheelchairAccessible\": \"True\", \"HasTV\": \"True\", \"HappyHour\": \"False\", \"DriveThru\": \"True\", \"BikeParking\": \"False\"}',\n",
       " '{\"BusinessAcceptsCreditCards\": \"True\", \"RestaurantsPriceRange2\": \"2\", \"BikeParking\": \"True\", \"BusinessParking\": \"{\"garage\": False, \"street\": False, \"validated\": False, \"lot\": True, \"valet\": False}\"}',\n",
       " None,\n",
       " '{\"Caters\": \"True\", \"Alcohol\": \"u\"full_bar\"\", \"RestaurantsAttire\": \"u\"casual\"\", \"RestaurantsDelivery\": \"False\", \"RestaurantsTakeOut\": \"True\", \"HasTV\": \"True\", \"NoiseLevel\": \"u\"average\"\", \"BusinessAcceptsCreditCards\": \"True\", \"OutdoorSeating\": \"True\", \"BusinessParking\": \"{\"garage\": False, \"street\": False, \"validated\": False, \"lot\": True, \"valet\": False}\", \"Ambience\": \"{\"romantic\": False, \"intimate\": False, \"touristy\": False, \"hipster\": False, \"divey\": False, \"classy\": False, \"trendy\": False, \"upscale\": False, \"casual\": False}\", \"RestaurantsPriceRange2\": \"1\", \"GoodForKids\": \"True\", \"WiFi\": \"u\"free\"\", \"RestaurantsReservations\": \"False\", \"RestaurantsGoodForGroups\": \"True\"}',\n",
       " '{\"RestaurantsAttire\": \"\"casual\"\", \"RestaurantsGoodForGroups\": \"False\", \"BusinessAcceptsCreditCards\": \"True\", \"OutdoorSeating\": \"True\", \"GoodForKids\": \"True\", \"Alcohol\": \"u\"none\"\", \"BusinessParking\": \"{\"garage\": False, \"street\": False, \"validated\": False, \"lot\": False, \"valet\": False}\", \"DogsAllowed\": \"False\", \"RestaurantsTableService\": \"False\", \"ByAppointmentOnly\": \"False\", \"WiFi\": \"u\"no\"\", \"RestaurantsPriceRange2\": \"1\", \"RestaurantsReservations\": \"False\", \"HasTV\": \"True\", \"RestaurantsDelivery\": \"True\", \"CoatCheck\": \"False\", \"Caters\": \"False\", \"RestaurantsTakeOut\": \"True\", \"DriveThru\": \"True\", \"HappyHour\": \"False\", \"WheelchairAccessible\": \"True\"}',\n",
       " '{\"RestaurantsPriceRange2\": \"2\", \"BikeParking\": \"True\", \"BusinessAcceptsCreditCards\": \"True\", \"BusinessParking\": \"{\"garage\": False, \"street\": False, \"validated\": False, \"lot\": False, \"valet\": False}\"}',\n",
       " '{\"Alcohol\": \"\"none\"\", \"OutdoorSeating\": \"None\", \"RestaurantsReservations\": \"False\", \"Ambience\": \"{\"touristy\": False, \"hipster\": False, \"romantic\": False, \"divey\": False, \"intimate\": False, \"trendy\": False, \"upscale\": False, \"classy\": False, \"casual\": False}\", \"GoodForMeal\": \"{\"dessert\": False, \"latenight\": False, \"lunch\": False, \"dinner\": False, \"brunch\": False, \"breakfast\": False}\", \"BusinessParking\": \"{\"garage\": False, \"street\": False, \"validated\": False, \"lot\": False, \"valet\": False}\"}',\n",
       " '{\"RestaurantsReservations\": \"False\", \"RestaurantsTakeOut\": \"True\", \"RestaurantsAttire\": \"\"casual\"\", \"GoodForKids\": \"True\", \"BikeParking\": \"False\", \"RestaurantsPriceRange2\": \"1\", \"BusinessAcceptsCreditCards\": \"True\", \"GoodForMeal\": \"{\"dessert\": False, \"latenight\": False, \"lunch\": False, \"dinner\": False, \"brunch\": False, \"breakfast\": False}\", \"RestaurantsGoodForGroups\": \"True\", \"OutdoorSeating\": \"False\", \"WiFi\": \"u\"no\"\", \"Alcohol\": \"\"none\"\", \"RestaurantsDelivery\": \"True\", \"BusinessParking\": \"{\"garage\": None, \"street\": False, \"validated\": None, \"lot\": True, \"valet\": False}\", \"HasTV\": \"True\", \"Ambience\": \"{\"touristy\": None, \"hipster\": None, \"romantic\": False, \"divey\": None, \"intimate\": None, \"trendy\": None, \"upscale\": None, \"classy\": None, \"casual\": True}\"}',\n",
       " '{\"ByAppointmentOnly\": \"True\"}',\n",
       " '{\"OutdoorSeating\": \"False\", \"RestaurantsGoodForGroups\": \"False\", \"WiFi\": \"u\"no\"\", \"RestaurantsPriceRange2\": \"1\", \"RestaurantsDelivery\": \"True\", \"RestaurantsAttire\": \"u\"casual\"\", \"BusinessAcceptsCreditCards\": \"True\", \"RestaurantsTakeOut\": \"True\", \"Caters\": \"True\", \"NoiseLevel\": \"u\"average\"\", \"Ambience\": \"{\"romantic\": False, \"intimate\": False, \"touristy\": False, \"hipster\": False, \"divey\": False, \"classy\": False, \"trendy\": False, \"upscale\": False, \"casual\": True}\", \"GoodForKids\": \"True\", \"BusinessAcceptsBitcoin\": \"False\", \"BusinessParking\": \"{\"garage\": False, \"street\": False, \"validated\": False, \"lot\": True, \"valet\": False}\", \"BikeParking\": \"True\", \"RestaurantsTableService\": \"False\", \"Alcohol\": \"u\"none\"\", \"RestaurantsReservations\": \"False\", \"GoodForMeal\": \"{\"dessert\": False, \"latenight\": False, \"lunch\": True, \"dinner\": False, \"brunch\": False, \"breakfast\": False}\", \"HasTV\": \"True\", \"WheelchairAccessible\": \"True\"}',\n",
       " '{\"RestaurantsReservations\": \"True\", \"RestaurantsGoodForGroups\": \"True\", \"RestaurantsAttire\": \"\"casual\"\", \"BusinessAcceptsCreditCards\": \"True\", \"WiFi\": \"\"free\"\", \"HasTV\": \"False\", \"RestaurantsTakeOut\": \"True\", \"Ambience\": \"{\"touristy\": False, \"hipster\": False, \"romantic\": False, \"divey\": False, \"intimate\": False, \"trendy\": False, \"upscale\": False, \"classy\": True, \"casual\": False}\", \"GoodForKids\": \"False\", \"GoodForMeal\": \"{\"dessert\": True, \"latenight\": None, \"lunch\": None, \"dinner\": True, \"brunch\": None, \"breakfast\": None}\", \"NoiseLevel\": \"u\"average\"\", \"RestaurantsPriceRange2\": \"2\", \"Alcohol\": \"\"full_bar\"\", \"DogsAllowed\": \"False\", \"HappyHour\": \"True\", \"RestaurantsDelivery\": \"True\", \"WheelchairAccessible\": \"True\", \"OutdoorSeating\": \"True\", \"RestaurantsTableService\": \"True\", \"BusinessParking\": \"{u\"valet\": False, u\"garage\": None, u\"street\": True, u\"lot\": False, u\"validated\": None}\"}',\n",
       " '{\"DriveThru\": \"False\", \"BusinessAcceptsCreditCards\": \"True\", \"WiFi\": \"u\"free\"\", \"ByAppointmentOnly\": \"False\"}',\n",
       " '{\"BusinessParking\": \"{\"garage\": False, \"street\": True, \"validated\": False, \"lot\": False, \"valet\": False}\", \"BusinessAcceptsCreditCards\": \"True\", \"RestaurantsPriceRange2\": \"2\", \"BikeParking\": \"True\"}',\n",
       " None,\n",
       " '{\"NoiseLevel\": \"u\"quiet\"\", \"GoodForMeal\": \"{\"dessert\": False, \"latenight\": False, \"lunch\": True, \"dinner\": True, \"brunch\": False, \"breakfast\": False}\", \"RestaurantsGoodForGroups\": \"False\", \"RestaurantsTableService\": \"True\", \"WiFi\": \"u\"no\"\", \"GoodForKids\": \"True\", \"Alcohol\": \"u\"none\"\", \"RestaurantsPriceRange2\": \"1\", \"RestaurantsAttire\": \"u\"casual\"\", \"BikeParking\": \"True\", \"BusinessParking\": \"{\"garage\": False, \"street\": True, \"validated\": False, \"lot\": False, \"valet\": False}\", \"Caters\": \"True\", \"RestaurantsReservations\": \"False\", \"HasTV\": \"True\", \"BusinessAcceptsCreditCards\": \"True\", \"OutdoorSeating\": \"None\", \"Ambience\": \"{\"touristy\": False, \"hipster\": False, \"romantic\": False, \"divey\": False, \"intimate\": None, \"trendy\": False, \"upscale\": False, \"classy\": False, \"casual\": True}\", \"RestaurantsDelivery\": \"None\", \"RestaurantsTakeOut\": \"True\"}',\n",
       " '{\"OutdoorSeating\": \"False\", \"Caters\": \"True\", \"RestaurantsDelivery\": \"False\", \"RestaurantsGoodForGroups\": \"True\", \"RestaurantsPriceRange2\": \"2\", \"RestaurantsReservations\": \"False\", \"BusinessParking\": \"{\"garage\": False, \"street\": True, \"validated\": False, \"lot\": True, \"valet\": False}\", \"HasTV\": \"False\", \"GoodForKids\": \"False\", \"RestaurantsTakeOut\": \"True\", \"WiFi\": \"u\"free\"\", \"NoiseLevel\": \"u\"average\"\", \"RestaurantsAttire\": \"u\"casual\"\", \"Alcohol\": \"u\"beer_and_wine\"\", \"Ambience\": \"{\"romantic\": False, \"intimate\": False, \"classy\": False, \"hipster\": True, \"touristy\": False, \"trendy\": True, \"upscale\": False, \"casual\": False}\"}',\n",
       " '{\"BusinessAcceptsCreditCards\": \"True\", \"RestaurantsPriceRange2\": \"2\", \"BusinessParking\": \"{\"garage\": False, \"street\": False, \"validated\": False, \"lot\": True, \"valet\": False}\", \"BikeParking\": \"False\"}',\n",
       " '{\"RestaurantsDelivery\": \"True\", \"RestaurantsTakeOut\": \"True\", \"RestaurantsPriceRange2\": \"2\"}',\n",
       " '{\"RestaurantsGoodForGroups\": \"True\", \"RestaurantsTakeOut\": \"True\", \"RestaurantsAttire\": \"\"casual\"\", \"NoiseLevel\": \"u\"average\"\", \"OutdoorSeating\": \"True\", \"BikeParking\": \"True\", \"BusinessParking\": \"{\"garage\": False, \"street\": False, \"validated\": False, \"lot\": True, \"valet\": False}\", \"RestaurantsPriceRange2\": \"2\", \"Caters\": \"True\", \"GoodForKids\": \"True\", \"RestaurantsReservations\": \"True\", \"BusinessAcceptsCreditCards\": \"True\", \"Alcohol\": \"\"full_bar\"\", \"GoodForMeal\": \"{\"dessert\": None, \"latenight\": False, \"lunch\": True, \"dinner\": True, \"brunch\": None, \"breakfast\": False}\", \"RestaurantsTableService\": \"True\", \"HappyHour\": \"True\", \"WiFi\": \"u\"free\"\", \"DogsAllowed\": \"False\", \"Ambience\": \"{u\"divey\": False, u\"hipster\": False, u\"casual\": True, u\"touristy\": False, u\"trendy\": False, u\"intimate\": False, u\"romantic\": None, u\"classy\": None, u\"upscale\": False}\", \"RestaurantsDelivery\": \"True\", \"HasTV\": \"True\"}',\n",
       " '{\"RestaurantsReservations\": \"False\", \"RestaurantsDelivery\": \"False\", \"RestaurantsAttire\": \"u\"casual\"\", \"BusinessAcceptsCreditCards\": \"False\", \"Alcohol\": \"u\"beer_and_wine\"\", \"OutdoorSeating\": \"False\", \"RestaurantsGoodForGroups\": \"True\", \"NoiseLevel\": \"u\"average\"\", \"Ambience\": \"{\"romantic\": False, \"intimate\": False, \"touristy\": False, \"hipster\": False, \"divey\": False, \"classy\": False, \"trendy\": False, \"upscale\": False, \"casual\": False}\", \"RestaurantsPriceRange2\": \"1\", \"BusinessParking\": \"{\"garage\": False, \"street\": False, \"validated\": False, \"lot\": True, \"valet\": False}\", \"HasTV\": \"True\", \"RestaurantsTakeOut\": \"True\", \"WiFi\": \"u\"no\"\", \"GoodForKids\": \"True\", \"Caters\": \"False\"}',\n",
       " None,\n",
       " '{\"BusinessAcceptsCreditCards\": \"True\", \"BikeParking\": \"True\", \"BusinessParking\": \"{\"garage\": True, \"street\": False, \"validated\": False, \"lot\": False, \"valet\": False}\", \"RestaurantsPriceRange2\": \"1\"}',\n",
       " '{\"RestaurantsGoodForGroups\": \"True\", \"HappyHour\": \"True\", \"GoodForMeal\": \"{\"dessert\": None, \"latenight\": None, \"lunch\": None, \"dinner\": True, \"brunch\": None, \"breakfast\": None}\", \"DogsAllowed\": \"False\", \"RestaurantsAttire\": \"u\"casual\"\", \"BikeParking\": \"False\", \"BusinessAcceptsCreditCards\": \"True\", \"BusinessAcceptsBitcoin\": \"False\", \"RestaurantsTakeOut\": \"None\", \"Ambience\": \"{\"touristy\": False, \"hipster\": False, \"romantic\": False, \"divey\": False, \"intimate\": False, \"trendy\": False, \"upscale\": False, \"classy\": True, \"casual\": False}\", \"HasTV\": \"False\", \"BusinessParking\": \"{\"garage\": True, \"street\": False, \"validated\": True, \"lot\": False, \"valet\": True}\", \"GoodForKids\": \"False\", \"RestaurantsReservations\": \"True\", \"RestaurantsTableService\": \"True\", \"RestaurantsDelivery\": \"None\", \"Caters\": \"True\", \"OutdoorSeating\": \"False\", \"WiFi\": \"u\"free\"\", \"Alcohol\": \"u\"full_bar\"\", \"WheelchairAccessible\": \"True\", \"NoiseLevel\": \"u\"average\"\"}',\n",
       " '{\"Smoking\": \"u\"no\"\", \"NoiseLevel\": \"u\"average\"\", \"Caters\": \"False\", \"WiFi\": \"u\"free\"\", \"RestaurantsGoodForGroups\": \"True\", \"Music\": \"{\"dj\": False, \"background_music\": False, \"no_music\": False, \"jukebox\": False, \"live\": False, \"video\": False, \"karaoke\": False}\", \"OutdoorSeating\": \"False\", \"RestaurantsTableService\": \"True\", \"RestaurantsAttire\": \"\"casual\"\", \"Ambience\": \"{\"touristy\": False, \"hipster\": True, \"romantic\": None, \"divey\": False, \"intimate\": False, \"trendy\": None, \"upscale\": False, \"classy\": None, \"casual\": True}\", \"RestaurantsReservations\": \"False\", \"RestaurantsTakeOut\": \"True\", \"GoodForDancing\": \"False\", \"RestaurantsPriceRange2\": \"2\", \"GoodForMeal\": \"{\"dessert\": False, \"latenight\": False, \"lunch\": False, \"dinner\": False, \"brunch\": True, \"breakfast\": False}\", \"GoodForKids\": \"False\", \"HappyHour\": \"True\", \"RestaurantsDelivery\": \"True\", \"BusinessParking\": \"{\"garage\": None, \"street\": True, \"validated\": None, \"lot\": False, \"valet\": False}\", \"BikeParking\": \"True\", \"BusinessAcceptsCreditCards\": \"True\", \"HasTV\": \"True\", \"Alcohol\": \"u\"full_bar\"\"}',\n",
       " '{\"RestaurantsPriceRange2\": \"1\"}',\n",
       " '{\"BusinessParking\": \"{\"garage\": False, \"street\": False, \"validated\": False, \"lot\": False, \"valet\": False}\", \"ByAppointmentOnly\": \"False\", \"WheelchairAccessible\": \"True\", \"BusinessAcceptsCreditCards\": \"True\", \"BikeParking\": \"True\"}',\n",
       " '{\"RestaurantsReservations\": \"False\", \"Caters\": \"False\", \"RestaurantsTakeOut\": \"True\", \"RestaurantsDelivery\": \"True\", \"RestaurantsPriceRange2\": \"1\", \"RestaurantsGoodForGroups\": \"True\", \"Ambience\": \"{\"romantic\": False, \"intimate\": False, \"classy\": False, \"hipster\": False, \"divey\": False, \"touristy\": False, \"trendy\": False, \"upscale\": False, \"casual\": False}\", \"GoodForKids\": \"True\", \"BusinessParking\": \"{\"garage\": False, \"street\": False, \"validated\": False, \"lot\": False, \"valet\": False}\", \"Alcohol\": \"u\"none\"\", \"BusinessAcceptsCreditCards\": \"True\", \"OutdoorSeating\": \"True\", \"BikeParking\": \"True\", \"RestaurantsAttire\": \"u\"casual\"\", \"GoodForMeal\": \"{\"dessert\": False, \"latenight\": True, \"lunch\": False, \"dinner\": False, \"brunch\": False, \"breakfast\": False}\", \"RestaurantsTableService\": \"True\", \"HasTV\": \"True\", \"WiFi\": \"\"no\"\", \"NoiseLevel\": \"\"average\"\"}',\n",
       " '{\"BusinessParking\": \"{\"garage\": False, \"street\": False, \"validated\": False, \"lot\": True, \"valet\": False}\", \"BusinessAcceptsCreditCards\": \"True\", \"RestaurantsPriceRange2\": \"2\", \"GoodForKids\": \"True\", \"BikeParking\": \"True\", \"WheelchairAccessible\": \"True\"}',\n",
       " '{\"RestaurantsGoodForGroups\": \"True\", \"WiFi\": \"u\"no\"\", \"Alcohol\": \"u\"none\"\", \"GoodForKids\": \"True\", \"OutdoorSeating\": \"False\", \"HasTV\": \"True\", \"RestaurantsPriceRange2\": \"1\", \"RestaurantsAttire\": \"u\"casual\"\", \"RestaurantsTakeOut\": \"True\", \"RestaurantsReservations\": \"False\", \"BusinessAcceptsCreditCards\": \"True\", \"RestaurantsDelivery\": \"True\", \"GoodForMeal\": \"{\"dessert\": False, \"latenight\": True, \"lunch\": False, \"dinner\": True, \"brunch\": False, \"breakfast\": False}\", \"NoiseLevel\": \"u\"average\"\", \"BikeParking\": \"True\", \"BusinessParking\": \"{\"garage\": False, \"street\": True, \"validated\": False, \"lot\": True, \"valet\": False}\", \"Ambience\": \"{\"romantic\": False, \"intimate\": False, \"classy\": False, \"hipster\": False, \"divey\": False, \"touristy\": False, \"trendy\": False, \"upscale\": False, \"casual\": True}\", \"Caters\": \"True\"}',\n",
       " '{\"BusinessAcceptsCreditCards\": \"True\", \"WiFi\": \"\"no\"\", \"RestaurantsPriceRange2\": \"2\"}',\n",
       " '{\"OutdoorSeating\": \"True\", \"RestaurantsPriceRange2\": \"2\", \"BusinessAcceptsCreditCards\": \"True\", \"DogsAllowed\": \"True\", \"Ambience\": \"{\"touristy\": False, \"hipster\": False, \"romantic\": False, \"divey\": False, \"intimate\": False, \"trendy\": False, \"upscale\": False, \"classy\": True, \"casual\": False}\", \"HappyHour\": \"True\", \"GoodForMeal\": \"{\"dessert\": False, \"latenight\": False, \"lunch\": False, \"dinner\": False, \"brunch\": False, \"breakfast\": False}\", \"RestaurantsDelivery\": \"True\", \"HasTV\": \"True\", \"BusinessParking\": \"{\"garage\": False, \"street\": False, \"validated\": False, \"lot\": True, \"valet\": False}\", \"RestaurantsTakeOut\": \"True\", \"GoodForKids\": \"True\"}',\n",
       " '{\"NoiseLevel\": \"u\"average\"\", \"HasTV\": \"True\", \"RestaurantsAttire\": \"u\"casual\"\", \"BusinessParking\": \"{\"garage\": False, \"street\": False, \"validated\": False, \"lot\": True, \"valet\": False}\", \"Ambience\": \"{\"romantic\": False, \"intimate\": False, \"touristy\": False, \"hipster\": False, \"divey\": False, \"classy\": False, \"trendy\": False, \"upscale\": False, \"casual\": False}\", \"RestaurantsPriceRange2\": \"2\", \"BusinessAcceptsCreditCards\": \"True\", \"OutdoorSeating\": \"True\", \"RestaurantsGoodForGroups\": \"True\", \"WiFi\": \"u\"free\"\", \"RestaurantsDelivery\": \"False\", \"GoodForKids\": \"True\", \"Alcohol\": \"u\"full_bar\"\", \"RestaurantsTakeOut\": \"True\", \"HappyHour\": \"True\"}',\n",
       " '{\"BusinessParking\": \"{\"garage\": False, \"street\": False, \"validated\": False, \"lot\": False, \"valet\": False}\", \"BusinessAcceptsCreditCards\": \"True\", \"RestaurantsPriceRange2\": \"3\", \"WheelchairAccessible\": \"True\"}',\n",
       " '{\"GoodForKids\": \"True\", \"BusinessAcceptsCreditCards\": \"True\", \"WheelchairAccessible\": \"True\", \"BusinessParking\": \"{\"garage\": False, \"street\": True, \"validated\": False, \"lot\": True, \"valet\": False}\"}',\n",
       " '{\"BusinessAcceptsCreditCards\": \"True\", \"WiFi\": \"u\"no\"\"}',\n",
       " '{\"RestaurantsPriceRange2\": \"2\"}',\n",
       " '{\"RestaurantsReservations\": \"True\", \"RestaurantsPriceRange2\": \"2\", \"OutdoorSeating\": \"True\", \"RestaurantsDelivery\": \"False\", \"BusinessAcceptsCreditCards\": \"True\", \"Alcohol\": \"u\"full_bar\"\", \"HasTV\": \"True\", \"Caters\": \"True\", \"GoodForKids\": \"True\", \"RestaurantsGoodForGroups\": \"True\", \"NoiseLevel\": \"u\"average\"\", \"RestaurantsAttire\": \"u\"casual\"\", \"BikeParking\": \"True\", \"BusinessParking\": \"{\"garage\": False, \"street\": True, \"validated\": False, \"lot\": True, \"valet\": False}\", \"GoodForMeal\": \"{\"dessert\": False, \"latenight\": False, \"lunch\": False, \"dinner\": True, \"brunch\": False, \"breakfast\": False}\", \"WiFi\": \"\"free\"\", \"RestaurantsTakeOut\": \"True\", \"BusinessAcceptsBitcoin\": \"False\", \"HappyHour\": \"True\", \"Ambience\": \"{\"touristy\": False, \"hipster\": False, \"romantic\": False, \"divey\": False, \"intimate\": False, \"trendy\": False, \"upscale\": False, \"classy\": True, \"casual\": True}\", \"RestaurantsTableService\": \"True\", \"WheelchairAccessible\": \"True\"}',\n",
       " None,\n",
       " '{\"WiFi\": \"u\"free\"\", \"BusinessAcceptsBitcoin\": \"False\", \"BikeParking\": \"True\", \"AcceptsInsurance\": \"False\", \"ByAppointmentOnly\": \"False\", \"WheelchairAccessible\": \"True\", \"BusinessAcceptsCreditCards\": \"True\"}',\n",
       " '{\"RestaurantsPriceRange2\": \"3\", \"BikeParking\": \"True\", \"BusinessAcceptsCreditCards\": \"True\", \"BusinessParking\": \"{\"garage\": False, \"street\": False, \"validated\": False, \"lot\": True, \"valet\": False}\"}',\n",
       " '{\"WiFi\": \"\"no\"\", \"BusinessParking\": \"{\"garage\": False, \"street\": False, \"validated\": False, \"lot\": False, \"valet\": False}\", \"HasTV\": \"False\", \"Alcohol\": \"\"beer_and_wine\"\", \"RestaurantsDelivery\": \"False\", \"RestaurantsPriceRange2\": \"2\", \"RestaurantsAttire\": \"u\"casual\"\", \"OutdoorSeating\": \"False\", \"RestaurantsReservations\": \"True\", \"RestaurantsGoodForGroups\": \"True\", \"NoiseLevel\": \"u\"quiet\"\", \"RestaurantsTakeOut\": \"True\", \"Caters\": \"False\", \"Ambience\": \"{\"romantic\": False, \"intimate\": False, \"classy\": False, \"hipster\": False, \"divey\": False, \"touristy\": False, \"trendy\": False, \"upscale\": False, \"casual\": True}\", \"BusinessAcceptsCreditCards\": \"True\", \"GoodForKids\": \"True\"}',\n",
       " '{\"OutdoorSeating\": \"False\", \"BusinessParking\": \"{\"garage\": False, \"street\": True, \"validated\": True, \"lot\": True, \"valet\": False}\", \"WiFi\": \"u\"free\"\", \"RestaurantsPriceRange2\": \"2\", \"HasTV\": \"False\", \"Alcohol\": \"u\"none\"\", \"RestaurantsTakeOut\": \"True\", \"BikeParking\": \"True\", \"Smoking\": \"u\"no\"\", \"Music\": \"{\"dj\": False, \"background_music\": False, \"no_music\": False, \"jukebox\": False, \"live\": True, \"video\": False, \"karaoke\": False}\", \"Caters\": \"False\", \"DogsAllowed\": \"False\", \"CoatCheck\": \"False\", \"WheelchairAccessible\": \"True\"}',\n",
       " '{\"RestaurantsTakeOut\": \"True\", \"RestaurantsReservations\": \"False\", \"RestaurantsAttire\": \"\"casual\"\", \"OutdoorSeating\": \"True\", \"BestNights\": \"{\"monday\": False, \"tuesday\": False, \"friday\": False, \"wednesday\": False, \"thursday\": False, \"sunday\": False, \"saturday\": False}\", \"RestaurantsTableService\": \"False\", \"Ambience\": \"{\"touristy\": False, \"hipster\": False, \"romantic\": False, \"divey\": False, \"intimate\": False, \"trendy\": True, \"upscale\": False, \"classy\": True, \"casual\": True}\", \"RestaurantsPriceRange2\": \"2\", \"Alcohol\": \"u\"beer_and_wine\"\", \"RestaurantsGoodForGroups\": \"True\", \"BikeParking\": \"True\", \"BusinessAcceptsCreditCards\": \"True\", \"GoodForKids\": \"True\", \"HappyHour\": \"True\", \"WiFi\": \"\"free\"\", \"CoatCheck\": \"False\", \"BusinessParking\": \"{\"garage\": True, \"street\": False, \"validated\": False, \"lot\": False, \"valet\": False}\", \"GoodForMeal\": \"{\"dessert\": True, \"latenight\": False, \"lunch\": True, \"dinner\": False, \"brunch\": True, \"breakfast\": True}\", \"WheelchairAccessible\": \"True\", \"NoiseLevel\": \"u\"average\"\", \"Caters\": \"True\", \"HasTV\": \"False\", \"Music\": \"{\"dj\": False, \"background_music\": False, \"no_music\": False, \"jukebox\": False, \"live\": False, \"video\": False, \"karaoke\": False}\", \"Smoking\": \"u\"no\"\", \"RestaurantsDelivery\": \"True\", \"GoodForDancing\": \"False\"}',\n",
       " '{\"BusinessAcceptsCreditCards\": \"True\"}',\n",
       " '{\"RestaurantsTakeOut\": \"None\", \"RestaurantsDelivery\": \"None\", \"BusinessParking\": \"{u\"valet\": False, u\"garage\": False, u\"street\": False, u\"lot\": True, u\"validated\": False}\"}',\n",
       " '{\"GoodForKids\": \"True\", \"BusinessAcceptsCreditCards\": \"False\"}',\n",
       " None,\n",
       " '{\"RestaurantsPriceRange2\": \"2\", \"BikeParking\": \"True\", \"BusinessParking\": \"{\"garage\": False, \"street\": False, \"validated\": False, \"lot\": True, \"valet\": False}\", \"RestaurantsDelivery\": \"False\", \"RestaurantsTakeOut\": \"True\"}',\n",
       " '{\"RestaurantsAttire\": \"\"casual\"\", \"RestaurantsReservations\": \"True\", \"BusinessParking\": \"{\"garage\": False, \"street\": True, \"validated\": False, \"lot\": True, \"valet\": False}\", \"Alcohol\": \"u\"none\"\", \"GoodForMeal\": \"{\"dessert\": False, \"latenight\": False, \"lunch\": False, \"dinner\": False, \"brunch\": False, \"breakfast\": False}\", \"WheelchairAccessible\": \"False\", \"GoodForKids\": \"True\", \"RestaurantsTakeOut\": \"True\", \"RestaurantsTableService\": \"False\", \"OutdoorSeating\": \"False\", \"Ambience\": \"{\"touristy\": False, \"hipster\": False, \"romantic\": False, \"intimate\": False, \"trendy\": False, \"upscale\": False, \"classy\": False, \"casual\": False}\", \"HasTV\": \"False\", \"RestaurantsGoodForGroups\": \"True\", \"RestaurantsPriceRange2\": \"1\", \"Caters\": \"False\", \"WiFi\": \"u\"free\"\", \"BikeParking\": \"True\", \"DogsAllowed\": \"False\", \"RestaurantsDelivery\": \"False\", \"HappyHour\": \"False\"}',\n",
       " '{\"BusinessParking\": \"{\"garage\": False, \"street\": False, \"validated\": False, \"lot\": False, \"valet\": False}\", \"BusinessAcceptsCreditCards\": \"True\", \"RestaurantsPriceRange2\": \"1\", \"BikeParking\": \"True\", \"RestaurantsTakeOut\": \"True\"}',\n",
       " '{\"BusinessAcceptsCreditCards\": \"True\", \"WiFi\": \"u\"free\"\", \"RestaurantsPriceRange2\": \"2\"}',\n",
       " '{\"RestaurantsPriceRange2\": \"2\", \"BusinessParking\": \"{u\"valet\": False, u\"garage\": False, u\"street\": None, u\"lot\": True, u\"validated\": False}\", \"BikeParking\": \"True\", \"WheelchairAccessible\": \"False\", \"WiFi\": \"u\"free\"\", \"BusinessAcceptsCreditCards\": \"True\", \"RestaurantsTakeOut\": \"True\", \"RestaurantsDelivery\": \"True\"}',\n",
       " '{\"BusinessAcceptsCreditCards\": \"True\", \"ByAppointmentOnly\": \"True\", \"BikeParking\": \"True\", \"RestaurantsPriceRange2\": \"3\", \"BusinessParking\": \"{\"garage\": False, \"street\": False, \"validated\": False, \"lot\": False, \"valet\": False}\", \"RestaurantsDelivery\": \"False\", \"RestaurantsTakeOut\": \"True\"}',\n",
       " '{\"BusinessParking\": \"{\"garage\": False, \"street\": False, \"validated\": False, \"lot\": True, \"valet\": False}\", \"BikeParking\": \"False\", \"OutdoorSeating\": \"True\", \"RestaurantsDelivery\": \"False\", \"GoodForKids\": \"True\", \"RestaurantsTakeOut\": \"True\", \"BusinessAcceptsCreditCards\": \"True\", \"Caters\": \"True\", \"NoiseLevel\": \"u\"quiet\"\", \"WiFi\": \"\"no\"\", \"HasTV\": \"True\", \"Ambience\": \"{\"romantic\": False, \"intimate\": False, \"classy\": False, \"hipster\": False, \"divey\": False, \"touristy\": False, \"trendy\": False, \"upscale\": False, \"casual\": True}\", \"RestaurantsAttire\": \"u\"casual\"\", \"RestaurantsReservations\": \"True\", \"Alcohol\": \"u\"full_bar\"\", \"RestaurantsGoodForGroups\": \"True\", \"RestaurantsPriceRange2\": \"2\"}',\n",
       " '{\"BusinessParking\": \"{\"garage\": False, \"street\": False, \"validated\": False, \"lot\": True, \"valet\": False}\", \"GoodForKids\": \"True\", \"RestaurantsReservations\": \"False\", \"RestaurantsTakeOut\": \"True\", \"Caters\": \"False\", \"HasTV\": \"True\", \"RestaurantsPriceRange2\": \"1\", \"RestaurantsAttire\": \"u\"casual\"\", \"OutdoorSeating\": \"False\", \"RestaurantsDelivery\": \"True\", \"WiFi\": \"u\"no\"\", \"Ambience\": \"{\"romantic\": False, \"intimate\": False, \"classy\": False, \"hipster\": False, \"divey\": False, \"touristy\": False, \"trendy\": False, \"upscale\": False, \"casual\": True}\", \"NoiseLevel\": \"u\"average\"\", \"BikeParking\": \"True\", \"Alcohol\": \"u\"beer_and_wine\"\", \"BusinessAcceptsCreditCards\": \"True\", \"RestaurantsGoodForGroups\": \"True\", \"GoodForMeal\": \"{\"dessert\": False, \"latenight\": False, \"lunch\": True, \"dinner\": True, \"brunch\": False, \"breakfast\": False}\"}',\n",
       " '{\"WiFi\": \"\"no\"\", \"RestaurantsReservations\": \"True\", \"RestaurantsPriceRange2\": \"2\", \"RestaurantsAttire\": \"\"casual\"\", \"HasTV\": \"False\", \"Alcohol\": \"\"full_bar\"\", \"RestaurantsDelivery\": \"False\", \"GoodForKids\": \"True\", \"RestaurantsTakeOut\": \"True\", \"BikeParking\": \"True\", \"Ambience\": \"{\"touristy\": False, \"hipster\": False, \"romantic\": False, \"divey\": False, \"intimate\": False, \"trendy\": False, \"upscale\": False, \"classy\": False, \"casual\": False}\", \"GoodForMeal\": \"{\"dessert\": False, \"latenight\": False, \"lunch\": True, \"dinner\": False, \"brunch\": False, \"breakfast\": False}\", \"RestaurantsGoodForGroups\": \"True\", \"OutdoorSeating\": \"False\", \"BusinessAcceptsCreditCards\": \"True\"}',\n",
       " '{\"CoatCheck\": \"False\", \"Music\": \"{\"dj\": False}\", \"Caters\": \"False\", \"HappyHour\": \"True\", \"WiFi\": \"\"free\"\", \"BusinessAcceptsCreditCards\": \"True\", \"RestaurantsGoodForGroups\": \"True\", \"NoiseLevel\": \"\"average\"\", \"Smoking\": \"u\"no\"\", \"OutdoorSeating\": \"True\", \"BusinessParking\": \"{\"garage\": False, \"street\": False, \"validated\": False, \"lot\": True, \"valet\": False}\", \"HasTV\": \"True\", \"RestaurantsPriceRange2\": \"2\", \"GoodForDancing\": \"False\", \"RestaurantsTableService\": \"True\", \"RestaurantsTakeOut\": \"True\", \"Alcohol\": \"\"full_bar\"\", \"DogsAllowed\": \"False\", \"RestaurantsAttire\": \"\"casual\"\", \"RestaurantsReservations\": \"False\", \"Ambience\": \"{u\"divey\": False, u\"hipster\": None, u\"casual\": True, u\"touristy\": None, u\"trendy\": None, u\"intimate\": False, u\"romantic\": False, u\"classy\": False, u\"upscale\": False}\", \"RestaurantsDelivery\": \"False\", \"GoodForMeal\": \"{\"dessert\": None, \"latenight\": None, \"lunch\": True, \"dinner\": True, \"brunch\": False, \"breakfast\": False}\", \"GoodForKids\": \"True\", \"BikeParking\": \"False\", \"BestNights\": \"{u\"monday\": False, u\"tuesday\": True, u\"wednesday\": False, u\"thursday\": False, u\"friday\": True, u\"saturday\": True, u\"sunday\": False}\"}',\n",
       " '{\"Alcohol\": \"u\"none\"\", \"BestNights\": \"{\"monday\": False, \"tuesday\": False, \"friday\": False, \"wednesday\": True, \"thursday\": True, \"sunday\": False, \"saturday\": True}\", \"RestaurantsAttire\": \"u\"casual\"\", \"RestaurantsPriceRange2\": \"2\", \"WheelchairAccessible\": \"False\", \"HasTV\": \"False\", \"Ambience\": \"{\"romantic\": False, \"intimate\": False, \"classy\": False, \"hipster\": False, \"divey\": False, \"touristy\": False, \"trendy\": False, \"upscale\": False, \"casual\": True}\", \"GoodForMeal\": \"{\"dessert\": False, \"latenight\": False, \"lunch\": False, \"dinner\": False, \"brunch\": False, \"breakfast\": False}\", \"RestaurantsDelivery\": \"False\", \"RestaurantsGoodForGroups\": \"True\", \"Music\": \"{\"jukebox\": True}\", \"OutdoorSeating\": \"False\", \"BusinessAcceptsCreditCards\": \"False\", \"DogsAllowed\": \"False\", \"NoiseLevel\": \"u\"average\"\", \"Smoking\": \"u\"no\"\", \"RestaurantsTableService\": \"False\", \"WiFi\": \"u\"no\"\", \"RestaurantsReservations\": \"False\", \"BusinessAcceptsBitcoin\": \"False\", \"GoodForDancing\": \"False\", \"CoatCheck\": \"False\", \"BikeParking\": \"False\", \"GoodForKids\": \"False\", \"RestaurantsTakeOut\": \"False\", \"HappyHour\": \"False\", \"Caters\": \"False\"}',\n",
       " '{\"BusinessParking\": \"{\"garage\": False, \"street\": False, \"validated\": False, \"lot\": False, \"valet\": False}\", \"BikeParking\": \"True\", \"BusinessAcceptsCreditCards\": \"True\"}',\n",
       " '{\"WiFi\": \"u\"no\"\", \"RestaurantsAttire\": \"u\"casual\"\", \"OutdoorSeating\": \"True\", \"RestaurantsGoodForGroups\": \"True\", \"BusinessAcceptsCreditCards\": \"True\", \"Alcohol\": \"u\"full_bar\"\", \"Caters\": \"False\", \"NoiseLevel\": \"u\"average\"\", \"BusinessParking\": \"{\"garage\": False, \"street\": True, \"validated\": False, \"lot\": False, \"valet\": False}\", \"GoodForKids\": \"True\", \"RestaurantsReservations\": \"True\", \"BikeParking\": \"True\", \"RestaurantsPriceRange2\": \"2\", \"RestaurantsTakeOut\": \"True\", \"HasTV\": \"True\", \"Ambience\": \"{\"romantic\": False, \"intimate\": False, \"touristy\": False, \"hipster\": False, \"divey\": False, \"classy\": False, \"trendy\": False, \"upscale\": False, \"casual\": True}\", \"HappyHour\": \"True\", \"RestaurantsDelivery\": \"False\"}',\n",
       " '{\"WiFi\": \"u\"no\"\"}',\n",
       " '{\"BusinessAcceptsCreditCards\": \"True\"}',\n",
       " None,\n",
       " '{\"BusinessAcceptsCreditCards\": \"True\", \"BikeParking\": \"True\", \"RestaurantsPriceRange2\": \"2\", \"RestaurantsTakeOut\": \"True\", \"RestaurantsDelivery\": \"True\", \"WheelchairAccessible\": \"True\", \"BusinessParking\": \"{u\"valet\": False, u\"garage\": False, u\"street\": None, u\"lot\": True, u\"validated\": False}\"}',\n",
       " '{\"BikeParking\": \"True\", \"BusinessAcceptsCreditCards\": \"True\", \"RestaurantsPriceRange2\": \"2\", \"BusinessParking\": \"{\"garage\": False, \"street\": False, \"validated\": False, \"lot\": True, \"valet\": False}\"}',\n",
       " '{\"RestaurantsPriceRange2\": \"1\", \"BusinessAcceptsCreditCards\": \"False\", \"BikeParking\": \"True\", \"Alcohol\": \"\"full_bar\"\", \"RestaurantsDelivery\": \"False\", \"RestaurantsTakeOut\": \"True\", \"GoodForMeal\": \"{\"dessert\": False, \"latenight\": False, \"lunch\": False, \"dinner\": False, \"brunch\": False, \"breakfast\": False}\"}',\n",
       " '{\"BusinessAcceptsCreditCards\": \"True\", \"BikeParking\": \"True\"}',\n",
       " None,\n",
       " '{\"Alcohol\": \"u\"full_bar\"\", \"RestaurantsGoodForGroups\": \"True\", \"BikeParking\": \"True\", \"NoiseLevel\": \"u\"average\"\", \"RestaurantsAttire\": \"u\"casual\"\", \"BusinessAcceptsCreditCards\": \"True\", \"GoodForKids\": \"False\", \"HasTV\": \"True\", \"RestaurantsTakeOut\": \"True\", \"RestaurantsDelivery\": \"False\", \"RestaurantsPriceRange2\": \"1\", \"WiFi\": \"\"free\"\", \"RestaurantsReservations\": \"False\", \"OutdoorSeating\": \"False\", \"BusinessParking\": \"{\"garage\": False, \"street\": False, \"validated\": False, \"lot\": True, \"valet\": False}\", \"Caters\": \"False\", \"Ambience\": \"{\"romantic\": False, \"intimate\": False, \"classy\": False, \"hipster\": False, \"divey\": True, \"touristy\": False, \"trendy\": False, \"upscale\": False, \"casual\": False}\"}',\n",
       " '{\"BusinessAcceptsCreditCards\": \"True\", \"BikeParking\": \"True\", \"WheelchairAccessible\": \"True\", \"ByAppointmentOnly\": \"False\", \"BusinessParking\": \"{\"garage\": False, \"street\": False, \"validated\": False, \"lot\": True, \"valet\": False}\", \"WiFi\": \"u\"free\"\"}',\n",
       " '{\"WheelchairAccessible\": \"True\", \"RestaurantsTakeOut\": \"True\", \"RestaurantsTableService\": \"True\", \"GoodForMeal\": \"{\"dessert\": False, \"latenight\": False, \"lunch\": False, \"dinner\": False, \"brunch\": False, \"breakfast\": False}\", \"BusinessParking\": \"{\"garage\": False, \"street\": True, \"validated\": False, \"lot\": True, \"valet\": False}\", \"HasTV\": \"True\", \"BusinessAcceptsCreditCards\": \"True\", \"Smoking\": \"u\"no\"\", \"Caters\": \"True\", \"CoatCheck\": \"False\", \"HappyHour\": \"True\", \"WiFi\": \"u\"free\"\", \"Ambience\": \"{\"touristy\": False, \"hipster\": False, \"romantic\": False, \"divey\": False, \"intimate\": False, \"trendy\": False, \"upscale\": False, \"classy\": False, \"casual\": False}\", \"Alcohol\": \"u\"full_bar\"\", \"BikeParking\": \"True\", \"Music\": \"{\"dj\": False, \"background_music\": False, \"no_music\": False, \"jukebox\": False, \"live\": True, \"video\": False, \"karaoke\": False}\", \"OutdoorSeating\": \"None\", \"RestaurantsDelivery\": \"True\", \"BYOB\": \"False\", \"RestaurantsReservations\": \"False\"}',\n",
       " '{\"RestaurantsPriceRange2\": \"2\", \"BusinessParking\": \"{\"garage\": False, \"street\": False, \"validated\": False, \"lot\": True, \"valet\": False}\", \"BusinessAcceptsCreditCards\": \"True\", \"BikeParking\": \"True\"}',\n",
       " '{\"BusinessParking\": \"{\"garage\": False, \"street\": False, \"validated\": False, \"lot\": False, \"valet\": False}\", \"RestaurantsPriceRange2\": \"2\"}',\n",
       " '{\"RestaurantsPriceRange2\": \"2\", \"RestaurantsReservations\": \"False\", \"BusinessAcceptsCreditCards\": \"True\", \"Alcohol\": \"u\"full_bar\"\", \"GoodForKids\": \"True\", \"RestaurantsAttire\": \"u\"casual\"\", \"RestaurantsGoodForGroups\": \"True\", \"RestaurantsDelivery\": \"False\", \"BusinessParking\": \"{\"garage\": False, \"street\": False, \"validated\": False, \"lot\": True, \"valet\": False}\", \"RestaurantsTakeOut\": \"True\", \"OutdoorSeating\": \"True\"}',\n",
       " '{\"BestNights\": \"{\"monday\": False, \"tuesday\": False, \"friday\": False, \"wednesday\": False, \"thursday\": False, \"sunday\": False, \"saturday\": False}\", \"ByAppointmentOnly\": \"False\", \"GoodForDancing\": \"False\", \"BusinessAcceptsCreditCards\": \"True\", \"HappyHour\": \"True\", \"Alcohol\": \"u\"full_bar\"\", \"RestaurantsAttire\": \"u\"casual\"\", \"Smoking\": \"u\"outdoor\"\", \"BikeParking\": \"True\", \"CoatCheck\": \"False\", \"HasTV\": \"True\", \"RestaurantsPriceRange2\": \"2\", \"RestaurantsGoodForGroups\": \"True\", \"Ambience\": \"{\"touristy\": False, \"hipster\": None, \"romantic\": False, \"divey\": False, \"intimate\": False, \"trendy\": None, \"upscale\": None, \"classy\": False, \"casual\": True}\", \"Music\": \"{\"dj\": False, \"background_music\": False, \"no_music\": False, \"jukebox\": None, \"live\": False, \"video\": False, \"karaoke\": None}\", \"RestaurantsTableService\": \"True\", \"BYOB\": \"False\", \"WiFi\": \"u\"free\"\", \"DogsAllowed\": \"False\", \"Caters\": \"True\", \"WheelchairAccessible\": \"True\", \"NoiseLevel\": \"u\"average\"\", \"DriveThru\": \"False\", \"OutdoorSeating\": \"False\", \"RestaurantsReservations\": \"True\", \"BusinessAcceptsBitcoin\": \"False\", \"RestaurantsTakeOut\": \"True\", \"GoodForKids\": \"False\", \"BusinessParking\": \"None\", \"Corkage\": \"True\", \"RestaurantsDelivery\": \"True\", \"GoodForMeal\": \"{\"dessert\": None, \"latenight\": None, \"lunch\": None, \"dinner\": True, \"brunch\": None, \"breakfast\": None}\"}',\n",
       " '{\"GoodForKids\": \"True\"}',\n",
       " '{\"BusinessAcceptsCreditCards\": \"True\", \"RestaurantsPriceRange2\": \"2\", \"BusinessParking\": \"{\"garage\": False, \"street\": False, \"validated\": False, \"lot\": True, \"valet\": False}\", \"NoiseLevel\": \"u\"average\"\", \"Caters\": \"False\", \"RestaurantsTakeOut\": \"True\", \"BikeParking\": \"True\", \"ByAppointmentOnly\": \"False\", \"GoodForKids\": \"False\", \"DogsAllowed\": \"True\", \"Alcohol\": \"\"beer_and_wine\"\", \"RestaurantsDelivery\": \"False\"}',\n",
       " '{\"Alcohol\": \"u\"none\"\", \"RestaurantsGoodForGroups\": \"True\", \"BusinessParking\": \"{\"garage\": False, \"street\": True, \"validated\": False, \"lot\": False, \"valet\": False}\", \"OutdoorSeating\": \"False\", \"RestaurantsPriceRange2\": \"1\", \"BusinessAcceptsCreditCards\": \"True\", \"Ambience\": \"{\"romantic\": False, \"intimate\": False, \"classy\": False, \"hipster\": False, \"divey\": False, \"touristy\": False, \"trendy\": False, \"upscale\": False, \"casual\": True}\", \"GoodForKids\": \"True\", \"RestaurantsReservations\": \"False\", \"RestaurantsTakeOut\": \"True\", \"NoiseLevel\": \"u\"average\"\", \"RestaurantsAttire\": \"u\"casual\"\", \"Caters\": \"False\", \"ByAppointmentOnly\": \"False\", \"HasTV\": \"True\", \"BikeParking\": \"True\", \"WiFi\": \"u\"free\"\", \"RestaurantsDelivery\": \"True\"}',\n",
       " '{\"RestaurantsReservations\": \"True\", \"RestaurantsAttire\": \"u\"casual\"\", \"HasTV\": \"False\", \"RestaurantsTakeOut\": \"True\", \"BusinessParking\": \"{\"garage\": False, \"street\": False, \"validated\": False, \"lot\": True, \"valet\": False}\", \"RestaurantsDelivery\": \"False\", \"GoodForKids\": \"True\", \"Ambience\": \"{\"romantic\": False, \"intimate\": False, \"touristy\": False, \"hipster\": False, \"divey\": False, \"classy\": False, \"trendy\": False, \"upscale\": False, \"casual\": False}\", \"RestaurantsPriceRange2\": \"2\", \"RestaurantsGoodForGroups\": \"True\", \"OutdoorSeating\": \"False\", \"NoiseLevel\": \"u\"quiet\"\", \"BusinessAcceptsCreditCards\": \"True\"}',\n",
       " '{\"ByAppointmentOnly\": \"True\", \"BusinessAcceptsCreditCards\": \"True\"}',\n",
       " '{\"RestaurantsTakeOut\": \"True\", \"NoiseLevel\": \"u\"average\"\", \"Caters\": \"True\", \"Ambience\": \"{\"touristy\": False, \"hipster\": True, \"romantic\": False, \"divey\": False, \"intimate\": False, \"trendy\": True, \"upscale\": False, \"classy\": False, \"casual\": True}\", \"RestaurantsReservations\": \"False\", \"BusinessAcceptsCreditCards\": \"True\", \"RestaurantsTableService\": \"False\", \"GoodForKids\": \"True\", \"RestaurantsPriceRange2\": \"2\", \"WheelchairAccessible\": \"True\", \"OutdoorSeating\": \"True\", \"RestaurantsDelivery\": \"None\", \"HasTV\": \"False\", \"RestaurantsAttire\": \"\"casual\"\", \"Alcohol\": \"u\"none\"\", \"GoodForMeal\": \"{\"dessert\": False, \"latenight\": False, \"lunch\": True, \"dinner\": False, \"brunch\": True, \"breakfast\": True}\", \"DogsAllowed\": \"True\", \"RestaurantsGoodForGroups\": \"True\", \"HappyHour\": \"False\", \"BusinessParking\": \"{\"garage\": False, \"street\": True, \"validated\": False, \"lot\": False, \"valet\": False}\", \"BikeParking\": \"True\", \"WiFi\": \"u\"no\"\"}',\n",
       " None,\n",
       " '{\"NoiseLevel\": \"u\"average\"\", \"RestaurantsGoodForGroups\": \"True\", \"WheelchairAccessible\": \"True\", \"WiFi\": \"u\"free\"\", \"HappyHour\": \"True\", \"OutdoorSeating\": \"True\", \"BusinessAcceptsCreditCards\": \"True\", \"Ambience\": \"{\"touristy\": False, \"hipster\": False, \"romantic\": False, \"divey\": False, \"intimate\": False, \"trendy\": False, \"upscale\": False, \"classy\": True, \"casual\": False}\", \"Alcohol\": \"u\"full_bar\"\", \"BusinessParking\": \"{\"garage\": True, \"street\": True, \"validated\": False, \"lot\": False, \"valet\": False}\", \"Smoking\": \"u\"no\"\", \"RestaurantsPriceRange2\": \"2\", \"RestaurantsTakeOut\": \"True\", \"Music\": \"{\"dj\": False, \"background_music\": False, \"no_music\": False, \"jukebox\": False, \"live\": False, \"video\": False, \"karaoke\": False}\", \"DogsAllowed\": \"False\", \"BestNights\": \"{\"monday\": False, \"tuesday\": False, \"friday\": False, \"wednesday\": False, \"thursday\": False, \"sunday\": False, \"saturday\": False}\", \"RestaurantsAttire\": \"u\"casual\"\", \"ByAppointmentOnly\": \"False\", \"CoatCheck\": \"False\", \"GoodForDancing\": \"False\", \"RestaurantsDelivery\": \"True\", \"HasTV\": \"True\", \"RestaurantsReservations\": \"True\"}',\n",
       " '{\"BusinessParking\": \"{\"garage\": False, \"street\": True, \"validated\": False, \"lot\": False, \"valet\": False}\", \"GoodForMeal\": \"{\"dessert\": False, \"latenight\": False, \"lunch\": False, \"dinner\": False, \"brunch\": False, \"breakfast\": False}\", \"Ambience\": \"{\"touristy\": False, \"hipster\": False, \"romantic\": False, \"divey\": False, \"intimate\": False, \"trendy\": False, \"upscale\": False, \"classy\": False, \"casual\": False}\", \"HasTV\": \"True\"}',\n",
       " '{\"RestaurantsGoodForGroups\": \"True\", \"GoodForKids\": \"True\", \"BusinessParking\": \"{\"garage\": False, \"street\": True, \"validated\": False, \"lot\": False, \"valet\": False}\", \"Alcohol\": \"u\"none\"\", \"BusinessAcceptsCreditCards\": \"True\", \"NoiseLevel\": \"u\"average\"\", \"Caters\": \"False\", \"Ambience\": \"{\"romantic\": False, \"intimate\": False, \"touristy\": False, \"hipster\": False, \"divey\": False, \"classy\": False, \"trendy\": False, \"upscale\": False, \"casual\": True}\", \"HasTV\": \"False\", \"RestaurantsReservations\": \"False\", \"RestaurantsAttire\": \"\"casual\"\", \"WiFi\": \"\"free\"\", \"BikeParking\": \"False\", \"DriveThru\": \"False\", \"ByAppointmentOnly\": \"False\", \"DogsAllowed\": \"False\", \"RestaurantsTakeOut\": \"True\", \"RestaurantsDelivery\": \"None\", \"OutdoorSeating\": \"None\", \"RestaurantsPriceRange2\": \"2\"}',\n",
       " '{\"RestaurantsPriceRange2\": \"2\", \"ByAppointmentOnly\": \"False\", \"BikeParking\": \"True\", \"BusinessAcceptsCreditCards\": \"True\", \"BusinessParking\": \"{\"garage\": False, \"street\": False, \"validated\": False, \"lot\": True, \"valet\": False}\"}',\n",
       " '{\"BusinessAcceptsCreditCards\": \"True\", \"WiFi\": \"u\"no\"\"}',\n",
       " '{\"BusinessAcceptsCreditCards\": \"True\", \"BikeParking\": \"True\", \"RestaurantsPriceRange2\": \"3\", \"BusinessParking\": \"{\"garage\": False, \"street\": True, \"validated\": False, \"lot\": True, \"valet\": False}\", \"BusinessAcceptsBitcoin\": \"False\", \"DogsAllowed\": \"True\", \"WheelchairAccessible\": \"True\"}',\n",
       " '{\"BusinessAcceptsCreditCards\": \"True\", \"RestaurantsDelivery\": \"False\", \"RestaurantsTakeOut\": \"True\", \"Caters\": \"True\"}',\n",
       " '{\"BusinessAcceptsBitcoin\": \"False\", \"BusinessAcceptsCreditCards\": \"True\"}',\n",
       " '{\"BusinessAcceptsCreditCards\": \"True\", \"BusinessAcceptsBitcoin\": \"False\"}',\n",
       " '{\"BusinessAcceptsCreditCards\": \"True\", \"WiFi\": \"u\"free\"\"}',\n",
       " '{\"BikeParking\": \"True\", \"WiFi\": \"u\"no\"\", \"DogsAllowed\": \"False\", \"BusinessAcceptsCreditCards\": \"True\", \"Alcohol\": \"u\"none\"\", \"WheelchairAccessible\": \"True\", \"BusinessParking\": \"{\"garage\": False, \"street\": False, \"validated\": False, \"lot\": True, \"valet\": False}\", \"RestaurantsReservations\": \"False\", \"BusinessAcceptsBitcoin\": \"False\"}',\n",
       " None,\n",
       " '{\"OutdoorSeating\": \"False\", \"BusinessAcceptsCreditCards\": \"True\", \"RestaurantsReservations\": \"True\", \"RestaurantsAttire\": \"u\"casual\"\", \"RestaurantsTakeOut\": \"True\", \"Alcohol\": \"u\"full_bar\"\", \"RestaurantsPriceRange2\": \"2\", \"GoodForKids\": \"True\", \"Caters\": \"False\", \"RestaurantsDelivery\": \"False\", \"RestaurantsGoodForGroups\": \"True\", \"Ambience\": \"{\"romantic\": False, \"intimate\": False, \"touristy\": False, \"hipster\": False, \"divey\": False, \"classy\": False, \"trendy\": False, \"upscale\": False, \"casual\": True}\", \"WiFi\": \"\"no\"\", \"BikeParking\": \"True\", \"BusinessParking\": \"{\"garage\": False, \"street\": True, \"validated\": False, \"lot\": False, \"valet\": False}\", \"NoiseLevel\": \"u\"average\"\", \"HasTV\": \"True\", \"HappyHour\": \"True\"}',\n",
       " '{\"BusinessAcceptsCreditCards\": \"True\", \"ByAppointmentOnly\": \"True\"}',\n",
       " '{\"RestaurantsPriceRange2\": \"4\", \"BusinessAcceptsCreditCards\": \"True\", \"BusinessParking\": \"{\"garage\": False, \"street\": False, \"validated\": False, \"lot\": True, \"valet\": False}\", \"BikeParking\": \"False\"}',\n",
       " '{\"BusinessParking\": \"{u\"valet\": False, u\"garage\": False, u\"street\": False, u\"lot\": True, u\"validated\": False}\", \"RestaurantsDelivery\": \"True\", \"RestaurantsTakeOut\": \"True\", \"HasTV\": \"True\", \"GoodForKids\": \"True\"}',\n",
       " '{\"RestaurantsGoodForGroups\": \"True\", \"DogsAllowed\": \"False\", \"Alcohol\": \"\"full_bar\"\", \"RestaurantsAttire\": \"u\"casual\"\", \"RestaurantsDelivery\": \"False\", \"RestaurantsReservations\": \"False\", \"BusinessAcceptsCreditCards\": \"True\", \"HasTV\": \"True\", \"RestaurantsTableService\": \"True\", \"RestaurantsPriceRange2\": \"2\", \"WiFi\": \"u\"free\"\", \"NoiseLevel\": \"u\"average\"\", \"Ambience\": \"{\"touristy\": False, \"hipster\": False, \"romantic\": False, \"divey\": False, \"intimate\": False, \"trendy\": False, \"upscale\": False, \"classy\": True, \"casual\": True}\", \"WheelchairAccessible\": \"True\", \"BYOB\": \"False\", \"OutdoorSeating\": \"False\", \"HappyHour\": \"True\", \"RestaurantsTakeOut\": \"True\", \"BusinessParking\": \"{\"garage\": None, \"street\": False, \"validated\": None, \"lot\": False, \"valet\": False}\", \"Caters\": \"False\", \"GoodForMeal\": \"{\"dessert\": None, \"latenight\": None, \"lunch\": True, \"dinner\": True, \"brunch\": True, \"breakfast\": None}\", \"GoodForKids\": \"True\", \"BikeParking\": \"True\"}',\n",
       " '{\"BusinessAcceptsCreditCards\": \"True\", \"HasTV\": \"True\", \"OutdoorSeating\": \"False\", \"RestaurantsReservations\": \"False\", \"GoodForKids\": \"True\", \"RestaurantsPriceRange2\": \"1\", \"RestaurantsTakeOut\": \"True\", \"Caters\": \"False\", \"WiFi\": \"u\"no\"\", \"RestaurantsAttire\": \"u\"casual\"\", \"NoiseLevel\": \"u\"quiet\"\", \"BusinessParking\": \"{\"garage\": False, \"street\": False, \"validated\": False, \"lot\": True, \"valet\": False}\", \"BikeParking\": \"False\", \"Alcohol\": \"u\"none\"\", \"RestaurantsGoodForGroups\": \"True\", \"GoodForMeal\": \"{u\"breakfast\": False, u\"brunch\": False, u\"lunch\": True, u\"dinner\": None, u\"latenight\": None, u\"dessert\": False}\", \"RestaurantsDelivery\": \"True\", \"Ambience\": \"{u\"divey\": True, u\"hipster\": False, u\"casual\": None, u\"touristy\": False, u\"trendy\": False, u\"intimate\": False, u\"romantic\": False, u\"classy\": False, u\"upscale\": False}\"}',\n",
       " '{\"BusinessAcceptsCreditCards\": \"True\"}',\n",
       " '{\"WiFi\": \"\"free\"\", \"NoiseLevel\": \"u\"average\"\", \"GoodForKids\": \"False\", \"Caters\": \"True\", \"RestaurantsGoodForGroups\": \"True\", \"BusinessAcceptsCreditCards\": \"True\", \"RestaurantsTakeOut\": \"True\", \"Alcohol\": \"u\"full_bar\"\", \"OutdoorSeating\": \"True\", \"RestaurantsPriceRange2\": \"3\", \"RestaurantsReservations\": \"True\", \"RestaurantsAttire\": \"u\"casual\"\", \"HasTV\": \"False\", \"RestaurantsTableService\": \"True\", \"BusinessParking\": \"{\"garage\": False, \"street\": False, \"validated\": False, \"lot\": None, \"valet\": False}\", \"HappyHour\": \"False\", \"BikeParking\": \"True\", \"GoodForMeal\": \"{u\"breakfast\": False, u\"brunch\": False, u\"lunch\": False, u\"dinner\": True, u\"latenight\": False, u\"dessert\": None}\", \"Ambience\": \"{\"touristy\": False, \"hipster\": False, \"romantic\": False, \"divey\": False, \"intimate\": False, \"trendy\": False, \"upscale\": False, \"classy\": True, \"casual\": False}\", \"WheelchairAccessible\": \"True\", \"RestaurantsDelivery\": \"True\"}',\n",
       " '{\"BusinessAcceptsBitcoin\": \"False\", \"BusinessAcceptsCreditCards\": \"True\"}',\n",
       " '{\"BusinessAcceptsCreditCards\": \"True\"}',\n",
       " '{\"BusinessAcceptsCreditCards\": \"False\", \"RestaurantsPriceRange2\": \"1\", \"BusinessParking\": \"{\"garage\": False, \"street\": False, \"validated\": False, \"lot\": False, \"valet\": False}\", \"BikeParking\": \"True\", \"WheelchairAccessible\": \"False\"}',\n",
       " '{\"RestaurantsPriceRange2\": \"2\", \"BusinessParking\": \"{\"garage\": False, \"street\": True, \"validated\": False, \"lot\": True, \"valet\": False}\", \"RestaurantsGoodForGroups\": \"True\", \"HasTV\": \"True\", \"Caters\": \"True\", \"Ambience\": \"{\"romantic\": False, \"intimate\": False, \"classy\": True, \"hipster\": False, \"divey\": False, \"touristy\": False, \"trendy\": False, \"upscale\": False, \"casual\": False}\", \"OutdoorSeating\": \"True\", \"BusinessAcceptsCreditCards\": \"True\", \"RestaurantsAttire\": \"u\"casual\"\", \"RestaurantsReservations\": \"True\", \"RestaurantsTakeOut\": \"True\", \"Alcohol\": \"\"full_bar\"\", \"WheelchairAccessible\": \"True\", \"NoiseLevel\": \"u\"quiet\"\", \"WiFi\": \"u\"free\"\", \"RestaurantsTableService\": \"True\", \"BusinessAcceptsBitcoin\": \"False\", \"Smoking\": \"u\"outdoor\"\", \"HappyHour\": \"True\", \"Music\": \"{\"dj\": False, \"background_music\": False, \"no_music\": False, \"jukebox\": False, \"live\": False, \"video\": False, \"karaoke\": False}\", \"BikeParking\": \"True\", \"GoodForKids\": \"True\", \"RestaurantsDelivery\": \"True\", \"BestNights\": \"{\"monday\": False, \"tuesday\": False, \"friday\": True, \"wednesday\": False, \"thursday\": True, \"sunday\": False, \"saturday\": True}\", \"GoodForMeal\": \"{\"dessert\": None, \"latenight\": False, \"lunch\": None, \"dinner\": True, \"brunch\": False, \"breakfast\": False}\"}',\n",
       " '{\"BusinessAcceptsCreditCards\": \"True\", \"ByAppointmentOnly\": \"False\", \"BusinessParking\": \"{\"garage\": False, \"street\": False, \"validated\": False, \"lot\": True, \"valet\": False}\", \"RestaurantsPriceRange2\": \"2\", \"BikeParking\": \"False\"}',\n",
       " '{\"BikeParking\": \"True\", \"BusinessAcceptsCreditCards\": \"True\", \"RestaurantsTakeOut\": \"False\", \"RestaurantsPriceRange2\": \"1\", \"BusinessParking\": \"{\"garage\": False, \"street\": True, \"validated\": False, \"lot\": True, \"valet\": False}\", \"ByAppointmentOnly\": \"True\"}',\n",
       " '{\"BusinessParking\": \"None\", \"RestaurantsPriceRange2\": \"1\", \"BikeParking\": \"True\", \"BusinessAcceptsCreditCards\": \"True\", \"Caters\": \"True\", \"WiFi\": \"u\"free\"\", \"RestaurantsTakeOut\": \"True\", \"WheelchairAccessible\": \"True\", \"BusinessAcceptsBitcoin\": \"False\"}',\n",
       " '{\"RestaurantsTakeOut\": \"False\", \"BikeParking\": \"True\", \"BusinessAcceptsCreditCards\": \"True\", \"BusinessParking\": \"{\"garage\": False, \"street\": False, \"validated\": False, \"lot\": True, \"valet\": False}\", \"Caters\": \"False\", \"RestaurantsDelivery\": \"True\", \"RestaurantsPriceRange2\": \"2\"}',\n",
       " '{\"RestaurantsPriceRange2\": \"2\", \"BusinessAcceptsCreditCards\": \"True\", \"BusinessParking\": \"None\"}',\n",
       " '{\"WiFi\": \"u\"free\"\"}',\n",
       " '{\"RestaurantsPriceRange2\": \"2\", \"BusinessAcceptsCreditCards\": \"True\", \"BikeParking\": \"False\", \"RestaurantsTakeOut\": \"True\", \"Caters\": \"True\", \"BusinessParking\": \"{\"garage\": False, \"street\": False, \"validated\": False, \"lot\": True, \"valet\": False}\"}',\n",
       " '{\"BusinessAcceptsCreditCards\": \"True\", \"BikeParking\": \"False\", \"BusinessAcceptsBitcoin\": \"False\", \"BusinessParking\": \"{\"garage\": False, \"street\": False, \"validated\": False, \"lot\": True, \"valet\": False}\"}',\n",
       " None,\n",
       " '{\"BusinessAcceptsCreditCards\": \"True\", \"ByAppointmentOnly\": \"True\", \"WheelchairAccessible\": \"True\", \"BikeParking\": \"True\", \"WiFi\": \"u\"no\"\", \"RestaurantsPriceRange2\": \"2\", \"DogsAllowed\": \"True\", \"BusinessAcceptsBitcoin\": \"False\"}',\n",
       " '{\"BusinessParking\": \"{\"garage\": False, \"street\": False, \"validated\": False, \"lot\": False, \"valet\": False}\", \"BusinessAcceptsCreditCards\": \"True\", \"RestaurantsPriceRange2\": \"3\"}',\n",
       " '{\"BusinessParking\": \"{\"garage\": False, \"street\": False, \"validated\": False, \"lot\": False, \"valet\": False}\", \"OutdoorSeating\": \"False\", \"RestaurantsTakeOut\": \"True\", \"RestaurantsPriceRange2\": \"1\", \"DriveThru\": \"False\", \"GoodForKids\": \"True\", \"Ambience\": \"{\"touristy\": False, \"hipster\": False, \"romantic\": False, \"divey\": False, \"intimate\": False, \"trendy\": False, \"upscale\": False, \"classy\": False, \"casual\": False}\", \"BusinessAcceptsCreditCards\": \"True\", \"RestaurantsAttire\": \"u\"casual\"\", \"GoodForMeal\": \"{\"dessert\": False, \"latenight\": False, \"lunch\": False, \"dinner\": False, \"brunch\": False, \"breakfast\": False}\", \"HasTV\": \"True\", \"RestaurantsDelivery\": \"True\", \"RestaurantsReservations\": \"False\", \"RestaurantsGoodForGroups\": \"True\", \"Caters\": \"False\"}',\n",
       " '{\"RestaurantsPriceRange2\": \"1\", \"BusinessParking\": \"{\"garage\": False, \"street\": False, \"validated\": False, \"lot\": False, \"valet\": False}\"}',\n",
       " '{\"ByAppointmentOnly\": \"False\", \"BusinessAcceptsCreditCards\": \"True\"}',\n",
       " '{\"BusinessAcceptsCreditCards\": \"True\", \"BusinessParking\": \"None\", \"RestaurantsPriceRange2\": \"2\", \"BikeParking\": \"True\"}',\n",
       " '{\"OutdoorSeating\": \"False\", \"Alcohol\": \"u\"none\"\", \"BikeParking\": \"False\", \"GoodForKids\": \"True\", \"RestaurantsPriceRange2\": \"1\", \"RestaurantsAttire\": \"u\"casual\"\", \"BusinessAcceptsCreditCards\": \"True\", \"RestaurantsTakeOut\": \"True\", \"RestaurantsReservations\": \"False\", \"BusinessParking\": \"{\"garage\": False, \"street\": False, \"validated\": False, \"lot\": False, \"valet\": False}\", \"NoiseLevel\": \"u\"quiet\"\", \"HasTV\": \"True\", \"RestaurantsDelivery\": \"True\", \"RestaurantsGoodForGroups\": \"True\", \"DriveThru\": \"True\"}',\n",
       " '{\"BusinessAcceptsCreditCards\": \"True\"}',\n",
       " '{\"BusinessAcceptsCreditCards\": \"True\", \"ByAppointmentOnly\": \"True\"}',\n",
       " '{\"RestaurantsAttire\": \"u\"casual\"\", \"NoiseLevel\": \"u\"average\"\", \"Alcohol\": \"u\"full_bar\"\", \"RestaurantsPriceRange2\": \"1\", \"RestaurantsGoodForGroups\": \"True\", \"OutdoorSeating\": \"True\", \"WiFi\": \"u\"no\"\", \"RestaurantsReservations\": \"False\", \"RestaurantsTakeOut\": \"True\", \"RestaurantsDelivery\": \"False\", \"HasTV\": \"True\", \"BusinessAcceptsCreditCards\": \"True\", \"Music\": \"{\"dj\": False, \"background_music\": False, \"no_music\": False, \"jukebox\": False, \"live\": True, \"video\": False, \"karaoke\": False}\", \"BikeParking\": \"False\", \"Ambience\": \"{\"touristy\": None, \"hipster\": None, \"romantic\": False, \"divey\": None, \"intimate\": None, \"trendy\": False, \"upscale\": False, \"classy\": False, \"casual\": None}\", \"BusinessParking\": \"{\"garage\": None, \"street\": None, \"validated\": None, \"lot\": True, \"valet\": False}\", \"GoodForKids\": \"False\", \"GoodForMeal\": \"{\"dessert\": False, \"latenight\": True, \"lunch\": False, \"dinner\": True, \"brunch\": False, \"breakfast\": False}\"}',\n",
       " '{\"GoodForKids\": \"True\", \"RestaurantsDelivery\": \"True\", \"Alcohol\": \"u\"none\"\", \"RestaurantsTakeOut\": \"True\", \"RestaurantsPriceRange2\": \"1\", \"BusinessAcceptsCreditCards\": \"True\", \"OutdoorSeating\": \"False\", \"RestaurantsGoodForGroups\": \"True\", \"BikeParking\": \"True\", \"BusinessParking\": \"{\"garage\": False, \"street\": True, \"validated\": False, \"lot\": False, \"valet\": False}\", \"HasTV\": \"True\", \"RestaurantsAttire\": \"\"casual\"\", \"NoiseLevel\": \"u\"average\"\", \"HappyHour\": \"False\", \"DogsAllowed\": \"False\", \"WheelchairAccessible\": \"True\", \"WiFi\": \"u\"free\"\", \"RestaurantsReservations\": \"True\", \"BusinessAcceptsBitcoin\": \"False\", \"GoodForMeal\": \"{\"dessert\": False, \"latenight\": False, \"lunch\": True, \"dinner\": None, \"brunch\": False, \"breakfast\": False}\", \"Ambience\": \"{\"touristy\": False, \"hipster\": False, \"romantic\": False, \"divey\": None, \"intimate\": False, \"trendy\": False, \"upscale\": False, \"classy\": False, \"casual\": None}\", \"RestaurantsTableService\": \"True\", \"Caters\": \"True\"}',\n",
       " '{\"Alcohol\": \"\"full_bar\"\", \"OutdoorSeating\": \"True\", \"GoodForMeal\": \"{\"dessert\": False, \"latenight\": False, \"lunch\": False, \"dinner\": False, \"brunch\": False, \"breakfast\": False}\", \"Ambience\": \"{\"romantic\": False, \"intimate\": False, \"classy\": False, \"hipster\": False, \"divey\": False, \"touristy\": False, \"trendy\": False, \"upscale\": False, \"casual\": False}\", \"GoodForKids\": \"False\", \"HasTV\": \"False\", \"BusinessAcceptsCreditCards\": \"True\", \"RestaurantsPriceRange2\": \"3\", \"RestaurantsDelivery\": \"False\", \"RestaurantsReservations\": \"True\", \"HappyHour\": \"True\", \"RestaurantsTakeOut\": \"False\", \"RestaurantsAttire\": \"u\"formal\"\", \"BusinessParking\": \"{\"garage\": False, \"street\": False, \"validated\": False, \"lot\": False, \"valet\": False}\", \"RestaurantsGoodForGroups\": \"True\", \"BikeParking\": \"True\"}',\n",
       " '{\"RestaurantsGoodForGroups\": \"True\", \"Alcohol\": \"u\"full_bar\"\", \"RestaurantsReservations\": \"False\", \"NoiseLevel\": \"u\"average\"\", \"GoodForKids\": \"True\", \"BusinessAcceptsCreditCards\": \"True\", \"RestaurantsDelivery\": \"False\", \"WiFi\": \"u\"no\"\", \"RestaurantsPriceRange2\": \"1\", \"Caters\": \"False\", \"BikeParking\": \"True\", \"HappyHour\": \"True\", \"RestaurantsAttire\": \"u\"casual\"\", \"HasTV\": \"True\", \"OutdoorSeating\": \"True\", \"Ambience\": \"{u\"divey\": None, u\"hipster\": None, u\"casual\": True, u\"touristy\": None, u\"trendy\": None, u\"intimate\": False, u\"romantic\": None, u\"classy\": False, u\"upscale\": None}\", \"BusinessParking\": \"{u\"valet\": False, u\"garage\": False, u\"street\": None, u\"lot\": None, u\"validated\": None}\", \"BestNights\": \"{u\"monday\": True, u\"tuesday\": False, u\"wednesday\": False, u\"thursday\": False, u\"friday\": False, u\"saturday\": False, u\"sunday\": False}\", \"Music\": \"{u\"dj\": None, u\"live\": False, u\"jukebox\": None, u\"video\": False, u\"background_music\": False, u\"karaoke\": None, u\"no_music\": False}\"}',\n",
       " '{\"BusinessParking\": \"{\"garage\": False, \"street\": False, \"validated\": False, \"lot\": True, \"valet\": False}\", \"WiFi\": \"u\"free\"\", \"BikeParking\": \"False\", \"BusinessAcceptsCreditCards\": \"True\", \"RestaurantsTakeOut\": \"True\", \"Caters\": \"False\", \"RestaurantsDelivery\": \"True\", \"RestaurantsPriceRange2\": \"2\"}',\n",
       " '{\"BusinessParking\": \"{\"garage\": False, \"street\": False, \"validated\": False, \"lot\": True, \"valet\": False}\", \"RestaurantsPriceRange2\": \"1\", \"BusinessAcceptsCreditCards\": \"True\", \"RestaurantsDelivery\": \"True\", \"Caters\": \"True\", \"RestaurantsTakeOut\": \"False\", \"BikeParking\": \"False\"}',\n",
       " '{\"BusinessAcceptsCreditCards\": \"True\"}',\n",
       " '{\"BusinessAcceptsCreditCards\": \"True\"}',\n",
       " '{\"AcceptsInsurance\": \"True\", \"ByAppointmentOnly\": \"True\", \"BusinessAcceptsCreditCards\": \"True\"}',\n",
       " None,\n",
       " '{\"BusinessParking\": \"{\"garage\": False, \"street\": False, \"validated\": False, \"lot\": True, \"valet\": False}\", \"BikeParking\": \"True\", \"BusinessAcceptsCreditCards\": \"True\", \"RestaurantsPriceRange2\": \"3\", \"RestaurantsTakeOut\": \"True\", \"RestaurantsDelivery\": \"None\", \"Caters\": \"True\"}',\n",
       " '{\"RestaurantsDelivery\": \"False\", \"RestaurantsTakeOut\": \"True\"}',\n",
       " '{\"OutdoorSeating\": \"True\", \"RestaurantsAttire\": \"\"casual\"\", \"RestaurantsReservations\": \"False\", \"BusinessAcceptsCreditCards\": \"True\", \"NoiseLevel\": \"u\"average\"\", \"RestaurantsPriceRange2\": \"2\", \"RestaurantsGoodForGroups\": \"False\", \"WiFi\": \"u\"no\"\", \"Alcohol\": \"\"beer_and_wine\"\", \"RestaurantsTakeOut\": \"True\", \"BikeParking\": \"True\", \"BusinessParking\": \"{\"garage\": False, \"street\": False, \"validated\": True, \"lot\": False, \"valet\": False}\", \"HasTV\": \"False\", \"ByAppointmentOnly\": \"False\", \"GoodForKids\": \"True\", \"Caters\": \"False\", \"Ambience\": \"{\"touristy\": False, \"hipster\": False, \"romantic\": False, \"divey\": False, \"intimate\": False, \"trendy\": False, \"upscale\": False, \"classy\": True, \"casual\": True}\", \"RestaurantsDelivery\": \"True\", \"HappyHour\": \"False\", \"Music\": \"{u\"dj\": False, u\"live\": False, u\"jukebox\": False, u\"video\": False, u\"background_music\": False, u\"karaoke\": False, u\"no_music\": False}\", \"GoodForMeal\": \"{u\"breakfast\": False, u\"brunch\": None, u\"lunch\": True, u\"dinner\": True, u\"latenight\": False, u\"dessert\": False}\", \"CoatCheck\": \"False\", \"BestNights\": \"{u\"monday\": False, u\"tuesday\": False, u\"wednesday\": False, u\"thursday\": False, u\"friday\": False, u\"saturday\": True, u\"sunday\": False}\", \"BusinessAcceptsBitcoin\": \"False\"}',\n",
       " '{\"BusinessAcceptsCreditCards\": \"True\", \"ByAppointmentOnly\": \"True\"}',\n",
       " '{\"WiFi\": \"u\"free\"\"}',\n",
       " '{\"BikeParking\": \"True\", \"BusinessAcceptsCreditCards\": \"True\", \"BusinessParking\": \"{\"garage\": False, \"street\": False, \"validated\": False, \"lot\": False, \"valet\": False}\", \"RestaurantsPriceRange2\": \"2\", \"RestaurantsTakeOut\": \"True\"}',\n",
       " '{\"RestaurantsAttire\": \"u\"casual\"\", \"HasTV\": \"False\", \"BusinessAcceptsCreditCards\": \"True\", \"RestaurantsTakeOut\": \"True\", \"RestaurantsGoodForGroups\": \"True\", \"OutdoorSeating\": \"False\", \"Caters\": \"True\", \"Ambience\": \"{\"romantic\": False, \"intimate\": False, \"touristy\": False, \"hipster\": False, \"divey\": False, \"classy\": False, \"trendy\": False, \"upscale\": False, \"casual\": False}\", \"NoiseLevel\": \"u\"quiet\"\", \"BusinessParking\": \"{\"garage\": False, \"street\": False, \"validated\": False, \"lot\": True, \"valet\": False}\", \"RestaurantsReservations\": \"False\", \"Alcohol\": \"u\"none\"\", \"RestaurantsDelivery\": \"False\", \"RestaurantsPriceRange2\": \"1\"}',\n",
       " '{\"ByAppointmentOnly\": \"True\", \"BusinessAcceptsCreditCards\": \"True\", \"AcceptsInsurance\": \"True\"}',\n",
       " '{\"BikeParking\": \"False\", \"RestaurantsTakeOut\": \"True\", \"Caters\": \"False\", \"RestaurantsPriceRange2\": \"1\", \"BusinessParking\": \"{\"garage\": False, \"street\": False, \"validated\": False, \"lot\": False, \"valet\": False}\", \"BusinessAcceptsCreditCards\": \"True\"}',\n",
       " None,\n",
       " '{\"BusinessParking\": \"{\"garage\": False, \"street\": True, \"validated\": False, \"lot\": False, \"valet\": False}\", \"BikeParking\": \"True\", \"BusinessAcceptsCreditCards\": \"True\", \"RestaurantsPriceRange2\": \"3\"}',\n",
       " '{\"BusinessAcceptsCreditCards\": \"True\", \"BusinessParking\": \"{\"garage\": False, \"street\": False, \"validated\": False, \"lot\": False, \"valet\": False}\", \"RestaurantsPriceRange2\": \"3\"}',\n",
       " '{\"Ambience\": \"{\"touristy\": False, \"hipster\": False, \"romantic\": False, \"divey\": False, \"intimate\": False, \"trendy\": False, \"upscale\": False, \"classy\": False, \"casual\": False}\", \"GoodForMeal\": \"{\"dessert\": False, \"latenight\": False, \"lunch\": True, \"dinner\": True, \"brunch\": False, \"breakfast\": False}\", \"Alcohol\": \"\"none\"\", \"BikeParking\": \"True\", \"RestaurantsPriceRange2\": \"2\", \"OutdoorSeating\": \"False\", \"RestaurantsAttire\": \"\"casual\"\", \"BusinessAcceptsCreditCards\": \"True\", \"RestaurantsTakeOut\": \"True\", \"WheelchairAccessible\": \"True\", \"GoodForKids\": \"True\", \"WiFi\": \"u\"free\"\", \"HasTV\": \"True\", \"RestaurantsDelivery\": \"True\", \"Caters\": \"True\", \"RestaurantsTableService\": \"True\", \"BusinessParking\": \"{\"garage\": False, \"street\": True, \"validated\": False, \"lot\": False, \"valet\": False}\", \"NoiseLevel\": \"u\"average\"\", \"RestaurantsReservations\": \"True\", \"RestaurantsGoodForGroups\": \"True\"}',\n",
       " '{\"BusinessAcceptsCreditCards\": \"True\"}',\n",
       " '{\"RestaurantsPriceRange2\": \"1\", \"Caters\": \"True\", \"BikeParking\": \"True\", \"GoodForKids\": \"True\", \"BusinessParking\": \"{\"garage\": False, \"street\": False, \"validated\": False, \"lot\": True, \"valet\": False}\", \"RestaurantsGoodForGroups\": \"False\", \"Ambience\": \"{\"touristy\": False, \"hipster\": False, \"romantic\": False, \"divey\": False, \"intimate\": False, \"trendy\": False, \"upscale\": False, \"classy\": False, \"casual\": False}\", \"NoiseLevel\": \"\"average\"\", \"OutdoorSeating\": \"True\", \"GoodForMeal\": \"{\"dessert\": False, \"latenight\": False, \"lunch\": True, \"dinner\": False, \"brunch\": False, \"breakfast\": False}\", \"BusinessAcceptsCreditCards\": \"True\", \"RestaurantsReservations\": \"False\", \"Alcohol\": \"\"none\"\", \"RestaurantsAttire\": \"\"casual\"\", \"RestaurantsDelivery\": \"True\", \"WiFi\": \"\"free\"\", \"HasTV\": \"True\", \"DriveThru\": \"True\", \"RestaurantsTableService\": \"False\", \"RestaurantsTakeOut\": \"True\"}',\n",
       " '{\"BusinessAcceptsCreditCards\": \"True\", \"ByAppointmentOnly\": \"True\"}',\n",
       " '{\"WiFi\": \"u\"free\"\", \"BusinessAcceptsCreditCards\": \"True\", \"RestaurantsPriceRange2\": \"2\"}',\n",
       " '{\"WheelchairAccessible\": \"True\", \"BusinessAcceptsCreditCards\": \"True\", \"AcceptsInsurance\": \"True\", \"RestaurantsPriceRange2\": \"2\", \"BikeParking\": \"True\", \"BusinessParking\": \"{\"garage\": False, \"street\": False, \"validated\": False, \"lot\": True, \"valet\": False}\", \"WiFi\": \"u\"free\"\", \"ByAppointmentOnly\": \"True\"}',\n",
       " '{\"BusinessAcceptsCreditCards\": \"True\", \"RestaurantsPriceRange2\": \"2\", \"BikeParking\": \"True\", \"BusinessParking\": \"{\"garage\": False, \"street\": False, \"validated\": False, \"lot\": True, \"valet\": False}\"}',\n",
       " None,\n",
       " '{\"GoodForDancing\": \"True\", \"Smoking\": \"u\"no\"\", \"GoodForKids\": \"False\", \"RestaurantsDelivery\": \"False\", \"BikeParking\": \"True\", \"RestaurantsAttire\": \"\"casual\"\", \"RestaurantsPriceRange2\": \"2\", \"RestaurantsGoodForGroups\": \"True\", \"CoatCheck\": \"False\", \"DogsAllowed\": \"False\", \"RestaurantsTakeOut\": \"True\", \"WiFi\": \"\"free\"\", \"DriveThru\": \"False\", \"RestaurantsTableService\": \"True\", \"BusinessParking\": \"{\"garage\": None, \"street\": True, \"validated\": None, \"lot\": False, \"valet\": False}\", \"BestNights\": \"{\"monday\": False, \"tuesday\": True, \"friday\": False, \"wednesday\": False, \"thursday\": False, \"sunday\": False, \"saturday\": True}\", \"RestaurantsReservations\": \"False\", \"NoiseLevel\": \"u\"loud\"\", \"Music\": \"{\"dj\": False, \"background_music\": False, \"no_music\": False, \"jukebox\": False, \"live\": True, \"video\": False, \"karaoke\": False}\", \"HasTV\": \"True\", \"HappyHour\": \"True\", \"Alcohol\": \"u\"full_bar\"\", \"Caters\": \"False\", \"OutdoorSeating\": \"None\", \"Ambience\": \"{u\"divey\": None, u\"hipster\": None, u\"casual\": True, u\"touristy\": None, u\"trendy\": True, u\"intimate\": False, u\"romantic\": False, u\"classy\": None, u\"upscale\": False}\", \"BusinessAcceptsCreditCards\": \"True\", \"GoodForMeal\": \"{\"dessert\": None, \"latenight\": True, \"lunch\": True, \"dinner\": True, \"brunch\": None, \"breakfast\": False}\"}',\n",
       " '{\"BusinessAcceptsCreditCards\": \"True\", \"WiFi\": \"u\"free\"\"}',\n",
       " '{\"RestaurantsPriceRange2\": \"1\", \"BikeParking\": \"False\", \"RestaurantsAttire\": \"\"casual\"\", \"RestaurantsTakeOut\": \"True\", \"GoodForKids\": \"True\", \"OutdoorSeating\": \"False\", \"BusinessAcceptsCreditCards\": \"True\", \"RestaurantsReservations\": \"False\", \"RestaurantsGoodForGroups\": \"True\", \"GoodForMeal\": \"{\"dessert\": False, \"latenight\": False, \"lunch\": False, \"dinner\": False, \"brunch\": False, \"breakfast\": False}\", \"HasTV\": \"True\", \"BusinessParking\": \"{\"garage\": False, \"street\": False, \"validated\": False, \"lot\": True, \"valet\": False}\", \"Alcohol\": \"u\"none\"\", \"RestaurantsDelivery\": \"True\", \"Ambience\": \"{\"touristy\": False, \"hipster\": False, \"romantic\": False, \"divey\": False, \"intimate\": False, \"trendy\": False, \"upscale\": False, \"classy\": False, \"casual\": False}\"}',\n",
       " '{\"BusinessAcceptsCreditCards\": \"True\", \"RestaurantsPriceRange2\": \"1\", \"BikeParking\": \"True\", \"BusinessAcceptsBitcoin\": \"False\", \"BusinessParking\": \"{\"garage\": False, \"street\": True, \"validated\": False, \"lot\": True, \"valet\": False}\", \"WheelchairAccessible\": \"False\"}',\n",
       " None,\n",
       " '{\"BusinessAcceptsCreditCards\": \"True\"}',\n",
       " '{\"GoodForKids\": \"True\", \"BusinessAcceptsCreditCards\": \"True\", \"BusinessParking\": \"{\"garage\": False, \"street\": False, \"validated\": False, \"lot\": True, \"valet\": False}\", \"Alcohol\": \"u\"none\"\", \"RestaurantsTakeOut\": \"True\", \"OutdoorSeating\": \"False\", \"RestaurantsAttire\": \"u\"casual\"\", \"NoiseLevel\": \"\"average\"\", \"RestaurantsGoodForGroups\": \"True\", \"RestaurantsReservations\": \"False\", \"WiFi\": \"u\"no\"\", \"Caters\": \"True\", \"DriveThru\": \"True\", \"Ambience\": \"{u\"divey\": None, u\"hipster\": False, u\"casual\": True, u\"touristy\": None, u\"trendy\": False, u\"intimate\": False, u\"romantic\": False, u\"classy\": False, u\"upscale\": False}\", \"BikeParking\": \"True\", \"HasTV\": \"True\", \"RestaurantsDelivery\": \"True\", \"RestaurantsPriceRange2\": \"2\"}',\n",
       " '{\"BusinessAcceptsCreditCards\": \"True\", \"WiFi\": \"u\"free\"\", \"AcceptsInsurance\": \"True\"}',\n",
       " '{\"RestaurantsAttire\": \"\"casual\"\", \"RestaurantsPriceRange2\": \"2\", \"RestaurantsReservations\": \"True\", \"RestaurantsTakeOut\": \"True\", \"BusinessParking\": \"{\"garage\": False, \"street\": False, \"validated\": False, \"lot\": True, \"valet\": False}\", \"Caters\": \"True\", \"BusinessAcceptsCreditCards\": \"True\", \"Corkage\": \"False\", \"NoiseLevel\": \"u\"average\"\", \"BYOBCorkage\": \"\"yes_free\"\", \"RestaurantsGoodForGroups\": \"True\", \"GoodForKids\": \"True\", \"BikeParking\": \"True\", \"Alcohol\": \"u\"none\"\", \"WiFi\": \"\"no\"\", \"OutdoorSeating\": \"True\", \"HasTV\": \"True\", \"GoodForMeal\": \"{u\"breakfast\": False, u\"brunch\": False, u\"lunch\": True, u\"dinner\": True, u\"latenight\": False, u\"dessert\": None}\", \"RestaurantsDelivery\": \"True\", \"Ambience\": \"{u\"divey\": False, u\"hipster\": False, u\"casual\": True, u\"touristy\": False, u\"trendy\": False, u\"intimate\": None, u\"romantic\": None, u\"classy\": None, u\"upscale\": False}\", \"RestaurantsTableService\": \"True\"}',\n",
       " '{\"GoodForKids\": \"True\"}',\n",
       " '{\"BusinessParking\": \"None\", \"RestaurantsPriceRange2\": \"None\", \"WheelchairAccessible\": \"True\", \"BusinessAcceptsCreditCards\": \"None\", \"RestaurantsDelivery\": \"True\", \"RestaurantsTakeOut\": \"False\", \"DriveThru\": \"True\"}',\n",
       " '{\"RestaurantsPriceRange2\": \"2\", \"BusinessAcceptsCreditCards\": \"True\", \"ByAppointmentOnly\": \"False\", \"BusinessParking\": \"{\"garage\": True, \"street\": True, \"validated\": False, \"lot\": False, \"valet\": False}\", \"BusinessAcceptsBitcoin\": \"False\", \"WiFi\": \"u\"free\"\", \"BikeParking\": \"True\", \"WheelchairAccessible\": \"True\"}',\n",
       " '{\"BusinessParking\": \"{\"garage\": False, \"street\": False, \"validated\": False, \"lot\": True, \"valet\": False}\", \"RestaurantsPriceRange2\": \"2\", \"BikeParking\": \"True\"}',\n",
       " '{\"ByAppointmentOnly\": \"False\", \"WiFi\": \"u\"free\"\", \"BusinessAcceptsCreditCards\": \"True\"}',\n",
       " '{\"WheelchairAccessible\": \"True\", \"BikeParking\": \"True\", \"BusinessParking\": \"{\"garage\": False, \"street\": False, \"validated\": False, \"lot\": True, \"valet\": False}\", \"RestaurantsPriceRange2\": \"1\", \"ByAppointmentOnly\": \"True\", \"BusinessAcceptsCreditCards\": \"True\", \"WiFi\": \"u\"free\"\"}',\n",
       " '{\"GoodForKids\": \"True\", \"BikeParking\": \"True\", \"ByAppointmentOnly\": \"True\", \"AcceptsInsurance\": \"False\", \"BusinessAcceptsCreditCards\": \"True\", \"BusinessParking\": \"{u\"valet\": False, u\"garage\": False, u\"street\": False, u\"lot\": True, u\"validated\": False}\", \"DogsAllowed\": \"False\", \"WheelchairAccessible\": \"False\"}',\n",
       " '{\"WiFi\": \"u\"free\"\", \"BusinessAcceptsCreditCards\": \"True\"}',\n",
       " '{\"BusinessAcceptsCreditCards\": \"False\"}',\n",
       " '{\"BusinessAcceptsCreditCards\": \"True\", \"ByAppointmentOnly\": \"False\", \"GoodForKids\": \"True\", \"BikeParking\": \"True\", \"BusinessParking\": \"{\"garage\": False, \"street\": False, \"validated\": False, \"lot\": True, \"valet\": False}\"}',\n",
       " '{\"ByAppointmentOnly\": \"True\", \"BusinessAcceptsCreditCards\": \"True\", \"WiFi\": \"u\"free\"\", \"AcceptsInsurance\": \"True\"}',\n",
       " '{\"Smoking\": \"None\", \"RestaurantsPriceRange2\": \"2\", \"BusinessAcceptsCreditCards\": \"False\", \"ByAppointmentOnly\": \"False\", \"BusinessParking\": \"None\", \"WiFi\": \"None\"}',\n",
       " '{\"GoodForKids\": \"True\", \"BusinessParking\": \"{\"garage\": False, \"street\": False, \"validated\": False, \"lot\": True, \"valet\": False}\", \"ByAppointmentOnly\": \"False\", \"BikeParking\": \"True\", \"DogsAllowed\": \"True\"}',\n",
       " '{\"BusinessAcceptsCreditCards\": \"True\", \"ByAppointmentOnly\": \"True\", \"RestaurantsDelivery\": \"True\", \"RestaurantsPriceRange2\": \"3\", \"RestaurantsGoodForGroups\": \"True\", \"GoodForKids\": \"True\", \"OutdoorSeating\": \"True\", \"RestaurantsReservations\": \"True\", \"HasTV\": \"True\", \"RestaurantsTakeOut\": \"True\", \"NoiseLevel\": \"u\"very_loud\"\", \"RestaurantsAttire\": \"\"casual\"\", \"BusinessAcceptsBitcoin\": \"False\", \"Music\": \"{\"dj\": True, \"background_music\": True, \"no_music\": False, \"jukebox\": False, \"live\": True, \"video\": False, \"karaoke\": True}\", \"BusinessParking\": \"{\"garage\": False, \"street\": False, \"validated\": False, \"lot\": True, \"valet\": False}\", \"GoodForMeal\": \"{\"dessert\": False, \"latenight\": True, \"lunch\": True, \"dinner\": True, \"brunch\": False, \"breakfast\": False}\", \"BYOBCorkage\": \"\"no\"\", \"Smoking\": \"u\"outdoor\"\", \"BYOB\": \"True\", \"RestaurantsTableService\": \"True\", \"Caters\": \"True\", \"Alcohol\": \"\"full_bar\"\", \"DogsAllowed\": \"False\", \"WheelchairAccessible\": \"True\", \"HappyHour\": \"True\", \"GoodForDancing\": \"False\", \"BestNights\": \"{\"monday\": False, \"tuesday\": False, \"friday\": True, \"wednesday\": False, \"thursday\": False, \"sunday\": True, \"saturday\": True}\", \"WiFi\": \"u\"paid\"\", \"Ambience\": \"{\"romantic\": False, \"intimate\": False, \"touristy\": True, \"hipster\": False, \"divey\": False, \"classy\": False, \"trendy\": False, \"upscale\": False, \"casual\": False}\", \"CoatCheck\": \"True\"}',\n",
       " '{\"BusinessParking\": \"{\"garage\": False, \"street\": False, \"validated\": False, \"lot\": True, \"valet\": False}\", \"BusinessAcceptsCreditCards\": \"True\", \"RestaurantsPriceRange2\": \"1\", \"BusinessAcceptsBitcoin\": \"False\", \"BikeParking\": \"True\", \"RestaurantsTakeOut\": \"True\", \"Caters\": \"True\", \"WiFi\": \"u\"no\"\"}',\n",
       " '{\"RestaurantsPriceRange2\": \"3\"}',\n",
       " '{\"ByAppointmentOnly\": \"True\", \"BusinessAcceptsCreditCards\": \"True\"}',\n",
       " '{\"Ambience\": \"{\"romantic\": False, \"intimate\": False, \"touristy\": False, \"hipster\": False, \"divey\": True, \"classy\": False, \"trendy\": False, \"upscale\": False, \"casual\": False}\", \"RestaurantsAttire\": \"u\"casual\"\", \"RestaurantsPriceRange2\": \"1\", \"Alcohol\": \"u\"none\"\", \"RestaurantsGoodForGroups\": \"True\", \"WiFi\": \"u\"no\"\", \"RestaurantsReservations\": \"False\", \"BusinessParking\": \"{\"garage\": False, \"street\": False, \"validated\": False, \"lot\": False, \"valet\": False}\", \"BusinessAcceptsCreditCards\": \"True\", \"RestaurantsDelivery\": \"False\", \"RestaurantsTakeOut\": \"True\", \"GoodForKids\": \"True\", \"BikeParking\": \"False\", \"Caters\": \"True\", \"NoiseLevel\": \"u\"quiet\"\", \"HasTV\": \"False\", \"OutdoorSeating\": \"True\"}',\n",
       " '{\"RestaurantsPriceRange2\": \"2\", \"RestaurantsGoodForGroups\": \"True\", \"Alcohol\": \"u\"beer_and_wine\"\", \"RestaurantsAttire\": \"u\"casual\"\", \"BusinessParking\": \"{\"garage\": False, \"street\": False, \"validated\": False, \"lot\": True, \"valet\": False}\", \"BusinessAcceptsCreditCards\": \"True\", \"NoiseLevel\": \"u\"quiet\"\", \"RestaurantsDelivery\": \"False\", \"RestaurantsReservations\": \"True\", \"HasTV\": \"True\", \"Ambience\": \"{\"romantic\": False, \"intimate\": False, \"touristy\": False, \"hipster\": False, \"divey\": False, \"classy\": False, \"trendy\": False, \"upscale\": False, \"casual\": True}\", \"OutdoorSeating\": \"False\", \"RestaurantsTakeOut\": \"True\", \"GoodForKids\": \"True\"}',\n",
       " '{\"OutdoorSeating\": \"False\", \"RestaurantsPriceRange2\": \"1\", \"WiFi\": \"u\"free\"\", \"DogsAllowed\": \"True\", \"BikeParking\": \"True\", \"RestaurantsGoodForGroups\": \"True\", \"RestaurantsReservations\": \"False\", \"RestaurantsTakeOut\": \"True\", \"GoodForKids\": \"True\", \"BusinessParking\": \"{u\"valet\": False, u\"garage\": None, u\"street\": None, u\"lot\": True, u\"validated\": None}\"}',\n",
       " '{\"RestaurantsReservations\": \"False\", \"BusinessAcceptsCreditCards\": \"True\", \"Alcohol\": \"u\"none\"\", \"RestaurantsTakeOut\": \"True\", \"RestaurantsDelivery\": \"True\", \"Caters\": \"True\"}',\n",
       " '{\"RestaurantsGoodForGroups\": \"False\", \"Caters\": \"True\", \"BusinessAcceptsCreditCards\": \"True\", \"WiFi\": \"u\"no\"\", \"RestaurantsReservations\": \"False\", \"Alcohol\": \"u\"none\"\", \"RestaurantsPriceRange2\": \"1\", \"RestaurantsTakeOut\": \"True\", \"HasTV\": \"True\", \"BikeParking\": \"False\", \"RestaurantsAttire\": \"u\"casual\"\", \"Ambience\": \"{\"touristy\": False, \"hipster\": False, \"romantic\": False, \"divey\": False, \"intimate\": False, \"trendy\": False, \"upscale\": False, \"classy\": False, \"casual\": False}\", \"RestaurantsDelivery\": \"False\", \"GoodForKids\": \"True\", \"OutdoorSeating\": \"False\", \"BusinessParking\": \"{\"garage\": False, \"street\": False, \"validated\": False, \"lot\": True, \"valet\": False}\"}',\n",
       " '{\"RestaurantsTakeOut\": \"True\", \"BusinessParking\": \"{u\"valet\": False, u\"garage\": True, u\"street\": False, u\"lot\": True, u\"validated\": False}\", \"RestaurantsDelivery\": \"True\"}',\n",
       " '{\"BikeParking\": \"False\", \"RestaurantsGoodForGroups\": \"True\", \"NoiseLevel\": \"u\"average\"\", \"GoodForKids\": \"True\", \"HasTV\": \"True\", \"Caters\": \"False\", \"RestaurantsPriceRange2\": \"1\", \"OutdoorSeating\": \"False\", \"RestaurantsDelivery\": \"True\", \"WiFi\": \"u\"no\"\", \"BusinessParking\": \"{\"garage\": False, \"street\": False, \"validated\": False, \"lot\": False, \"valet\": False}\", \"BusinessAcceptsCreditCards\": \"True\", \"Alcohol\": \"u\"none\"\", \"RestaurantsReservations\": \"False\", \"RestaurantsAttire\": \"u\"casual\"\", \"Ambience\": \"{\"romantic\": False, \"intimate\": False, \"touristy\": False, \"hipster\": False, \"divey\": False, \"classy\": False, \"trendy\": False, \"upscale\": False, \"casual\": False}\", \"RestaurantsTakeOut\": \"True\"}',\n",
       " '{\"BusinessParking\": \"{\"garage\": False, \"street\": False, \"validated\": False, \"lot\": True, \"valet\": False}\", \"BikeParking\": \"True\", \"BusinessAcceptsCreditCards\": \"True\", \"RestaurantsPriceRange2\": \"2\", \"DogsAllowed\": \"False\", \"CoatCheck\": \"False\", \"RestaurantsReservations\": \"False\", \"HappyHour\": \"False\", \"RestaurantsTableService\": \"False\", \"HasTV\": \"False\", \"WiFi\": \"u\"no\"\", \"OutdoorSeating\": \"False\", \"Caters\": \"False\", \"ByAppointmentOnly\": \"False\", \"RestaurantsDelivery\": \"False\", \"RestaurantsTakeOut\": \"None\", \"WheelchairAccessible\": \"True\"}',\n",
       " '{\"Alcohol\": \"u\"none\"\", \"BikeParking\": \"True\", \"BusinessAcceptsCreditCards\": \"True\", \"OutdoorSeating\": \"True\", \"RestaurantsTakeOut\": \"True\", \"Caters\": \"False\", \"RestaurantsGoodForGroups\": \"True\", \"Ambience\": \"{\"romantic\": False, \"intimate\": False, \"classy\": False, \"hipster\": False, \"divey\": False, \"touristy\": False, \"trendy\": False, \"upscale\": False, \"casual\": False}\", \"WiFi\": \"\"free\"\", \"GoodForKids\": \"True\", \"RestaurantsAttire\": \"u\"casual\"\", \"RestaurantsPriceRange2\": \"1\", \"HasTV\": \"True\", \"GoodForMeal\": \"{\"dessert\": False, \"latenight\": False, \"lunch\": False, \"dinner\": False, \"brunch\": False, \"breakfast\": True}\", \"BusinessParking\": \"{\"garage\": False, \"street\": False, \"validated\": False, \"lot\": True, \"valet\": False}\", \"DriveThru\": \"True\", \"RestaurantsReservations\": \"False\", \"RestaurantsDelivery\": \"True\"}',\n",
       " '{\"BusinessAcceptsCreditCards\": \"True\", \"ByAppointmentOnly\": \"True\"}',\n",
       " '{\"BusinessAcceptsCreditCards\": \"True\"}',\n",
       " '{\"RestaurantsPriceRange2\": \"1\", \"RestaurantsGoodForGroups\": \"True\", \"Music\": \"{\"dj\": False, \"background_music\": False, \"no_music\": False, \"jukebox\": False, \"live\": False, \"video\": False, \"karaoke\": False}\", \"Alcohol\": \"\"beer_and_wine\"\", \"ByAppointmentOnly\": \"False\", \"NoiseLevel\": \"\"average\"\", \"Ambience\": \"{\"touristy\": False, \"hipster\": False, \"romantic\": False, \"divey\": False, \"intimate\": False, \"trendy\": False, \"upscale\": False, \"classy\": False, \"casual\": False}\", \"DogsAllowed\": \"True\", \"BusinessAcceptsCreditCards\": \"True\", \"RestaurantsReservations\": \"True\", \"Smoking\": \"u\"outdoor\"\", \"GoodForDancing\": \"False\", \"WiFi\": \"u\"free\"\", \"BikeParking\": \"True\", \"HappyHour\": \"True\", \"BusinessParking\": \"{\"garage\": False, \"street\": True, \"validated\": False, \"lot\": False, \"valet\": False}\", \"BYOB\": \"False\", \"OutdoorSeating\": \"True\", \"WheelchairAccessible\": \"True\", \"HasTV\": \"False\", \"CoatCheck\": \"False\"}',\n",
       " '{\"BusinessAcceptsCreditCards\": \"True\"}',\n",
       " '{\"BYOB\": \"False\", \"OutdoorSeating\": \"True\", \"BusinessAcceptsCreditCards\": \"True\", \"HasTV\": \"False\", \"Caters\": \"True\", \"RestaurantsTakeOut\": \"True\", \"Alcohol\": \"u\"beer_and_wine\"\", \"WheelchairAccessible\": \"True\", \"RestaurantsDelivery\": \"True\", \"RestaurantsTableService\": \"True\"}',\n",
       " '{\"RestaurantsTakeOut\": \"True\", \"RestaurantsPriceRange2\": \"1\", \"OutdoorSeating\": \"False\", \"RestaurantsAttire\": \"u\"casual\"\", \"RestaurantsReservations\": \"False\", \"GoodForKids\": \"True\", \"RestaurantsGoodForGroups\": \"True\", \"Alcohol\": \"u\"none\"\", \"BusinessParking\": \"{\"garage\": False, \"street\": False, \"validated\": False, \"lot\": False, \"valet\": False}\", \"BusinessAcceptsCreditCards\": \"True\", \"RestaurantsDelivery\": \"True\"}',\n",
       " '{\"OutdoorSeating\": \"False\", \"RestaurantsDelivery\": \"True\", \"Alcohol\": \"u\"none\"\", \"RestaurantsGoodForGroups\": \"False\", \"BikeParking\": \"True\", \"RestaurantsAttire\": \"u\"casual\"\", \"BusinessAcceptsCreditCards\": \"True\", \"WiFi\": \"u\"no\"\", \"RestaurantsTakeOut\": \"True\", \"GoodForKids\": \"True\", \"RestaurantsPriceRange2\": \"2\", \"Caters\": \"False\", \"NoiseLevel\": \"u\"average\"\", \"RestaurantsReservations\": \"False\", \"Ambience\": \"{\"romantic\": False, \"intimate\": False, \"touristy\": False, \"hipster\": False, \"divey\": False, \"classy\": False, \"trendy\": False, \"upscale\": False, \"casual\": False}\", \"HasTV\": \"True\", \"BusinessParking\": \"{\"garage\": False, \"street\": False, \"validated\": False, \"lot\": True, \"valet\": False}\"}',\n",
       " '{\"BusinessAcceptsCreditCards\": \"True\"}',\n",
       " '{\"RestaurantsDelivery\": \"False\", \"BusinessAcceptsCreditCards\": \"True\", \"RestaurantsPriceRange2\": \"1\", \"BikeParking\": \"True\", \"BusinessParking\": \"{\"garage\": False, \"street\": False, \"validated\": False, \"lot\": True, \"valet\": False}\", \"RestaurantsTakeOut\": \"True\", \"DogsAllowed\": \"True\"}',\n",
       " None,\n",
       " '{\"BusinessAcceptsCreditCards\": \"True\"}',\n",
       " '{\"BusinessParking\": \"{\"garage\": False, \"street\": True, \"validated\": False, \"lot\": False, \"valet\": False}\", \"OutdoorSeating\": \"True\", \"WiFi\": \"u\"free\"\", \"BikeParking\": \"True\", \"RestaurantsPriceRange2\": \"1\", \"RestaurantsTakeOut\": \"True\", \"BusinessAcceptsCreditCards\": \"True\", \"Caters\": \"False\", \"RestaurantsDelivery\": \"False\"}',\n",
       " '{\"RestaurantsReservations\": \"False\", \"BusinessParking\": \"{\"garage\": False, \"street\": True, \"validated\": False, \"lot\": True, \"valet\": False}\", \"RestaurantsAttire\": \"u\"casual\"\", \"BikeParking\": \"True\", \"OutdoorSeating\": \"True\", \"Alcohol\": \"u\"beer_and_wine\"\", \"RestaurantsGoodForGroups\": \"True\", \"RestaurantsDelivery\": \"False\", \"RestaurantsPriceRange2\": \"2\", \"BusinessAcceptsCreditCards\": \"True\", \"Ambience\": \"{\"romantic\": False, \"intimate\": False, \"touristy\": False, \"hipster\": False, \"divey\": False, \"classy\": False, \"trendy\": False, \"upscale\": False, \"casual\": True}\", \"RestaurantsTakeOut\": \"True\", \"WiFi\": \"u\"free\"\", \"Caters\": \"True\", \"GoodForKids\": \"True\", \"NoiseLevel\": \"u\"average\"\", \"HasTV\": \"True\", \"GoodForMeal\": \"{\"dessert\": False, \"latenight\": False, \"lunch\": False, \"dinner\": False, \"brunch\": True, \"breakfast\": True}\"}',\n",
       " '{\"BusinessAcceptsCreditCards\": \"True\", \"ByAppointmentOnly\": \"True\"}',\n",
       " '{\"RestaurantsPriceRange2\": \"2\", \"BikeParking\": \"True\", \"ByAppointmentOnly\": \"False\", \"BusinessParking\": \"{\"garage\": False, \"street\": False, \"validated\": False, \"lot\": False, \"valet\": False}\", \"BusinessAcceptsCreditCards\": \"True\"}',\n",
       " '{\"HappyHour\": \"True\", \"WiFi\": \"u\"free\"\", \"HasTV\": \"True\", \"DogsAllowed\": \"True\", \"BusinessAcceptsCreditCards\": \"True\", \"OutdoorSeating\": \"True\", \"BusinessAcceptsBitcoin\": \"False\", \"RestaurantsReservations\": \"True\", \"BusinessParking\": \"{u\"valet\": False, u\"garage\": False, u\"street\": False, u\"lot\": False, u\"validated\": False}\", \"Smoking\": \"u\"no\"\", \"Alcohol\": \"u\"beer_and_wine\"\", \"RestaurantsTakeOut\": \"True\", \"Music\": \"{u\"dj\": False, u\"live\": True, u\"jukebox\": False, u\"video\": False, u\"background_music\": False, u\"karaoke\": False, u\"no_music\": False}\", \"RestaurantsDelivery\": \"True\"}',\n",
       " None,\n",
       " '{\"WiFi\": \"\"free\"\", \"BusinessAcceptsCreditCards\": \"True\", \"RestaurantsPriceRange2\": \"2\"}',\n",
       " '{\"BusinessAcceptsCreditCards\": \"True\", \"BusinessParking\": \"{\"garage\": False, \"street\": True, \"validated\": False, \"lot\": False, \"valet\": False}\", \"GoodForKids\": \"False\", \"BikeParking\": \"True\", \"ByAppointmentOnly\": \"False\", \"RestaurantsPriceRange2\": \"2\", \"WiFi\": \"u\"free\"\", \"WheelchairAccessible\": \"True\"}',\n",
       " '{\"WheelchairAccessible\": \"True\", \"RestaurantsTableService\": \"True\", \"RestaurantsTakeOut\": \"True\", \"RestaurantsDelivery\": \"True\"}',\n",
       " '{\"ByAppointmentOnly\": \"False\", \"BusinessParking\": \"{\"garage\": False, \"street\": False, \"validated\": False, \"lot\": False, \"valet\": False}\", \"BikeParking\": \"True\", \"BusinessAcceptsCreditCards\": \"True\", \"RestaurantsPriceRange2\": \"2\"}',\n",
       " '{\"BusinessAcceptsCreditCards\": \"True\", \"BusinessAcceptsBitcoin\": \"False\"}',\n",
       " '{\"BusinessAcceptsCreditCards\": \"True\", \"BikeParking\": \"True\", \"RestaurantsPriceRange2\": \"2\", \"BusinessParking\": \"{\"garage\": False, \"street\": False, \"validated\": False, \"lot\": True, \"valet\": False}\"}',\n",
       " '{\"BusinessAcceptsCreditCards\": \"True\", \"ByAppointmentOnly\": \"True\", \"RestaurantsPriceRange2\": \"2\", \"BusinessParking\": \"{\"garage\": False, \"street\": True, \"validated\": False, \"lot\": False, \"valet\": False}\"}',\n",
       " '{\"BusinessAcceptsCreditCards\": \"True\", \"BusinessParking\": \"{\"garage\": False, \"street\": False, \"validated\": False, \"lot\": True, \"valet\": False}\", \"BikeParking\": \"True\", \"RestaurantsPriceRange2\": \"1\", \"RestaurantsTakeOut\": \"True\", \"RestaurantsDelivery\": \"True\"}',\n",
       " '{\"WheelchairAccessible\": \"True\", \"BikeParking\": \"True\", \"ByAppointmentOnly\": \"True\", \"DogsAllowed\": \"True\", \"GoodForKids\": \"True\", \"BusinessAcceptsCreditCards\": \"True\", \"BusinessParking\": \"{\"garage\": False, \"street\": True, \"validated\": False, \"lot\": False, \"valet\": False}\", \"WiFi\": \"u\"free\"\"}',\n",
       " '{\"BusinessAcceptsCreditCards\": \"True\", \"BusinessParking\": \"None\", \"RestaurantsPriceRange2\": \"2\", \"BikeParking\": \"False\", \"RestaurantsTakeOut\": \"False\"}',\n",
       " '{\"OutdoorSeating\": \"False\", \"RestaurantsGoodForGroups\": \"True\", \"RestaurantsReservations\": \"True\", \"Alcohol\": \"u\"full_bar\"\", \"WiFi\": \"u\"free\"\", \"BusinessAcceptsCreditCards\": \"True\", \"NoiseLevel\": \"u\"average\"\", \"BikeParking\": \"False\", \"RestaurantsTakeOut\": \"True\", \"RestaurantsPriceRange2\": \"2\", \"HasTV\": \"True\", \"RestaurantsAttire\": \"u\"casual\"\", \"Caters\": \"False\", \"DogsAllowed\": \"False\", \"GoodForKids\": \"True\", \"GoodForMeal\": \"{\"dessert\": False, \"latenight\": False, \"lunch\": True, \"dinner\": True, \"brunch\": False, \"breakfast\": False}\", \"BusinessParking\": \"{\"garage\": False, \"street\": False, \"validated\": False, \"lot\": True, \"valet\": False}\", \"RestaurantsTableService\": \"True\", \"HappyHour\": \"False\", \"Ambience\": \"{\"touristy\": False, \"hipster\": False, \"romantic\": False, \"divey\": False, \"intimate\": False, \"trendy\": False, \"upscale\": False, \"classy\": True, \"casual\": True}\", \"RestaurantsDelivery\": \"True\"}',\n",
       " '{\"RestaurantsReservations\": \"False\", \"RestaurantsAttire\": \"u\"casual\"\", \"RestaurantsTableService\": \"False\", \"GoodForKids\": \"True\", \"RestaurantsTakeOut\": \"True\", \"RestaurantsGoodForGroups\": \"True\", \"BusinessAcceptsCreditCards\": \"True\", \"GoodForMeal\": \"{\"dessert\": False, \"latenight\": False, \"lunch\": False, \"dinner\": False, \"brunch\": False, \"breakfast\": False}\"}',\n",
       " None,\n",
       " '{\"RestaurantsGoodForGroups\": \"True\", \"Alcohol\": \"u\"full_bar\"\", \"RestaurantsDelivery\": \"False\", \"RestaurantsAttire\": \"u\"casual\"\", \"BikeParking\": \"True\", \"RestaurantsReservations\": \"False\", \"OutdoorSeating\": \"True\", \"RestaurantsTakeOut\": \"True\", \"BusinessAcceptsCreditCards\": \"True\", \"WiFi\": \"u\"free\"\", \"GoodForKids\": \"True\", \"BusinessParking\": \"{\"garage\": False, \"street\": True, \"validated\": False, \"lot\": False, \"valet\": False}\", \"RestaurantsPriceRange2\": \"2\", \"HasTV\": \"True\", \"Caters\": \"True\", \"DogsAllowed\": \"True\", \"BestNights\": \"{\"monday\": False, \"tuesday\": False, \"friday\": True, \"wednesday\": True, \"thursday\": False, \"sunday\": False, \"saturday\": True}\", \"Ambience\": \"{\"touristy\": False, \"hipster\": False, \"romantic\": False, \"divey\": False, \"intimate\": False, \"trendy\": False, \"upscale\": False, \"classy\": False, \"casual\": True}\", \"GoodForDancing\": \"True\", \"GoodForMeal\": \"{\"dessert\": False, \"latenight\": True, \"lunch\": False, \"dinner\": True, \"brunch\": False, \"breakfast\": False}\", \"Music\": \"{\"dj\": False, \"background_music\": False, \"no_music\": False, \"jukebox\": False, \"live\": True, \"video\": False, \"karaoke\": False}\", \"NoiseLevel\": \"u\"loud\"\"}',\n",
       " '{\"BikeParking\": \"True\", \"RestaurantsPriceRange2\": \"2\", \"WheelchairAccessible\": \"True\", \"BusinessAcceptsCreditCards\": \"True\", \"BusinessParking\": \"{\"garage\": False, \"street\": False, \"validated\": False, \"lot\": False, \"valet\": False}\", \"WiFi\": \"u\"free\"\"}',\n",
       " '{\"ByAppointmentOnly\": \"True\"}',\n",
       " '{\"BusinessAcceptsCreditCards\": \"False\"}',\n",
       " '{\"GoodForKids\": \"False\", \"Alcohol\": \"\"full_bar\"\", \"RestaurantsTakeOut\": \"True\", \"BusinessAcceptsCreditCards\": \"True\", \"BusinessParking\": \"{\"garage\": False, \"street\": False, \"validated\": False, \"lot\": True, \"valet\": False}\", \"OutdoorSeating\": \"False\", \"HasTV\": \"True\", \"WiFi\": \"\"free\"\", \"NoiseLevel\": \"\"quiet\"\", \"RestaurantsDelivery\": \"False\", \"Caters\": \"False\", \"Ambience\": \"{\"romantic\": False, \"intimate\": False, \"classy\": False, \"hipster\": False, \"divey\": False, \"touristy\": False, \"trendy\": False, \"upscale\": False, \"casual\": False}\", \"BikeParking\": \"False\", \"RestaurantsPriceRange2\": \"2\", \"Music\": \"{\"dj\": False, \"background_music\": False, \"no_music\": False, \"jukebox\": False, \"live\": False, \"video\": False, \"karaoke\": False}\", \"RestaurantsGoodForGroups\": \"True\", \"RestaurantsReservations\": \"False\", \"RestaurantsAttire\": \"\"casual\"\"}',\n",
       " '{\"RestaurantsDelivery\": \"False\", \"OutdoorSeating\": \"False\", \"BusinessParking\": \"{\"garage\": False, \"street\": False, \"validated\": False, \"lot\": False, \"valet\": False}\", \"NoiseLevel\": \"u\"quiet\"\", \"RestaurantsPriceRange2\": \"2\", \"BusinessAcceptsCreditCards\": \"True\", \"RestaurantsGoodForGroups\": \"True\", \"RestaurantsAttire\": \"u\"casual\"\", \"Ambience\": \"{\"romantic\": False, \"intimate\": False, \"touristy\": False, \"hipster\": False, \"divey\": False, \"classy\": False, \"trendy\": False, \"upscale\": False, \"casual\": False}\", \"GoodForKids\": \"True\"}',\n",
       " None,\n",
       " '{\"RestaurantsPriceRange2\": \"1\", \"RestaurantsAttire\": \"u\"casual\"\", \"NoiseLevel\": \"u\"average\"\", \"HasTV\": \"False\", \"WiFi\": \"u\"free\"\", \"GoodForKids\": \"False\", \"OutdoorSeating\": \"False\", \"BusinessParking\": \"{\"garage\": False, \"street\": False, \"validated\": False, \"lot\": False, \"valet\": False}\", \"RestaurantsDelivery\": \"False\"}',\n",
       " '{\"BusinessAcceptsCreditCards\": \"True\", \"WiFi\": \"u\"free\"\"}',\n",
       " '{\"RestaurantsPriceRange2\": \"2\", \"BusinessAcceptsCreditCards\": \"True\", \"BusinessParking\": \"{\"garage\": False, \"street\": False, \"validated\": False, \"lot\": True, \"valet\": False}\", \"ByAppointmentOnly\": \"True\", \"BikeParking\": \"True\"}',\n",
       " '{\"RestaurantsDelivery\": \"True\", \"RestaurantsTakeOut\": \"True\", \"GoodForKids\": \"True\", \"HasTV\": \"True\", \"Caters\": \"True\", \"RestaurantsReservations\": \"False\", \"Ambience\": \"{u\"divey\": None, u\"hipster\": None, u\"casual\": True, u\"touristy\": None, u\"trendy\": True, u\"intimate\": None, u\"romantic\": None, u\"classy\": None, u\"upscale\": None}\", \"RestaurantsPriceRange2\": \"2\", \"Alcohol\": \"u\"full_bar\"\", \"RestaurantsTableService\": \"True\", \"BusinessParking\": \"{\"garage\": False, \"street\": False, \"validated\": False, \"lot\": True, \"valet\": False}\", \"BusinessAcceptsCreditCards\": \"True\", \"WheelchairAccessible\": \"True\", \"OutdoorSeating\": \"True\", \"WiFi\": \"u\"free\"\", \"HappyHour\": \"True\", \"BestNights\": \"{u\"monday\": False, u\"tuesday\": False, u\"wednesday\": False, u\"thursday\": True, u\"friday\": False, u\"saturday\": False, u\"sunday\": False}\"}',\n",
       " '{\"BikeParking\": \"True\", \"OutdoorSeating\": \"True\", \"RestaurantsReservations\": \"False\", \"RestaurantsPriceRange2\": \"1\", \"BusinessParking\": \"{\"garage\": False, \"street\": True, \"validated\": False, \"lot\": False, \"valet\": False}\", \"RestaurantsAttire\": \"\"casual\"\", \"RestaurantsGoodForGroups\": \"False\", \"WiFi\": \"\"free\"\", \"Ambience\": \"{\"romantic\": False, \"intimate\": False, \"classy\": False, \"hipster\": False, \"divey\": False, \"touristy\": False, \"trendy\": False, \"upscale\": False, \"casual\": True}\", \"NoiseLevel\": \"u\"quiet\"\", \"Caters\": \"False\", \"RestaurantsTakeOut\": \"True\", \"GoodForMeal\": \"{\"dessert\": False, \"latenight\": False, \"lunch\": True, \"dinner\": False, \"brunch\": True, \"breakfast\": True}\", \"GoodForKids\": \"True\", \"BusinessAcceptsCreditCards\": \"False\", \"HasTV\": \"True\", \"RestaurantsDelivery\": \"False\", \"Alcohol\": \"\"none\"\"}',\n",
       " '{\"BikeParking\": \"True\", \"BusinessAcceptsCreditCards\": \"True\", \"BusinessParking\": \"{\"garage\": False, \"street\": False, \"validated\": False, \"lot\": True, \"valet\": False}\", \"RestaurantsPriceRange2\": \"1\", \"RestaurantsTakeOut\": \"True\"}',\n",
       " '{\"BusinessAcceptsCreditCards\": \"True\"}',\n",
       " '{\"RestaurantsPriceRange2\": \"1\", \"BikeParking\": \"True\", \"BusinessAcceptsCreditCards\": \"True\", \"BusinessParking\": \"{\"garage\": False, \"street\": False, \"validated\": False, \"lot\": True, \"valet\": False}\", \"BusinessAcceptsBitcoin\": \"False\"}',\n",
       " None,\n",
       " '{\"BusinessAcceptsCreditCards\": \"True\", \"RestaurantsTakeOut\": \"True\", \"RestaurantsPriceRange2\": \"1\", \"BusinessParking\": \"{\"garage\": False, \"street\": False, \"validated\": False, \"lot\": False, \"valet\": False}\", \"BikeParking\": \"True\"}',\n",
       " '{\"WiFi\": \"u\"no\"\", \"BusinessAcceptsCreditCards\": \"True\"}',\n",
       " '{\"RestaurantsAttire\": \"u\"casual\"\", \"BusinessParking\": \"{\"garage\": False, \"street\": False, \"validated\": False, \"lot\": True, \"valet\": False}\", \"GoodForKids\": \"True\", \"RestaurantsGoodForGroups\": \"True\", \"Alcohol\": \"\"full_bar\"\", \"Caters\": \"True\", \"NoiseLevel\": \"u\"average\"\", \"BusinessAcceptsCreditCards\": \"True\", \"RestaurantsDelivery\": \"True\", \"WiFi\": \"\"free\"\", \"Ambience\": \"{\"romantic\": False, \"intimate\": False, \"classy\": False, \"hipster\": False, \"divey\": False, \"touristy\": False, \"trendy\": False, \"upscale\": False, \"casual\": True}\", \"RestaurantsReservations\": \"True\", \"RestaurantsPriceRange2\": \"2\", \"OutdoorSeating\": \"True\", \"RestaurantsTakeOut\": \"True\", \"BikeParking\": \"True\", \"HasTV\": \"True\", \"HappyHour\": \"True\"}',\n",
       " '{\"WheelchairAccessible\": \"True\", \"BusinessAcceptsCreditCards\": \"True\"}',\n",
       " '{\"RestaurantsPriceRange2\": \"2\", \"BusinessAcceptsCreditCards\": \"True\", \"BikeParking\": \"True\", \"DogsAllowed\": \"False\", \"BusinessAcceptsBitcoin\": \"False\", \"WheelchairAccessible\": \"True\", \"BusinessParking\": \"{\"garage\": False, \"street\": True, \"validated\": False, \"lot\": False, \"valet\": False}\"}',\n",
       " '{\"HasTV\": \"False\", \"WiFi\": \"u\"free\"\", \"BusinessAcceptsCreditCards\": \"True\", \"RestaurantsDelivery\": \"True\", \"RestaurantsTakeOut\": \"True\", \"OutdoorSeating\": \"False\", \"WheelchairAccessible\": \"True\", \"BusinessParking\": \"{u\"valet\": False, u\"garage\": False, u\"street\": None, u\"lot\": None, u\"validated\": None}\", \"Alcohol\": \"u\"full_bar\"\", \"RestaurantsReservations\": \"True\", \"RestaurantsPriceRange2\": \"2\", \"RestaurantsAttire\": \"u\"casual\"\", \"Ambience\": \"{u\"divey\": None, u\"hipster\": None, u\"casual\": True, u\"touristy\": False, u\"trendy\": None, u\"intimate\": None, u\"romantic\": True, u\"classy\": True, u\"upscale\": True}\", \"RestaurantsTableService\": \"True\"}',\n",
       " '{\"BusinessAcceptsCreditCards\": \"True\"}',\n",
       " '{\"Alcohol\": \"u\"full_bar\"\", \"RestaurantsTakeOut\": \"True\", \"WiFi\": \"u\"free\"\", \"NoiseLevel\": \"u\"average\"\", \"RestaurantsAttire\": \"u\"casual\"\", \"HasTV\": \"False\", \"BusinessParking\": \"{\"garage\": False, \"street\": True, \"validated\": False, \"lot\": False, \"valet\": False}\", \"RestaurantsDelivery\": \"False\", \"BikeParking\": \"True\", \"RestaurantsReservations\": \"True\", \"BusinessAcceptsCreditCards\": \"True\", \"GoodForKids\": \"False\", \"RestaurantsPriceRange2\": \"2\", \"OutdoorSeating\": \"True\", \"RestaurantsGoodForGroups\": \"False\", \"GoodForMeal\": \"{\"dessert\": False, \"latenight\": True, \"lunch\": False, \"dinner\": True, \"brunch\": False, \"breakfast\": False}\", \"Caters\": \"True\", \"Ambience\": \"{\"romantic\": False, \"intimate\": False, \"touristy\": False, \"hipster\": False, \"divey\": False, \"classy\": False, \"trendy\": True, \"upscale\": False, \"casual\": False}\", \"GoodForDancing\": \"False\"}',\n",
       " '{\"BusinessAcceptsCreditCards\": \"True\"}',\n",
       " '{\"Caters\": \"False\", \"BikeParking\": \"False\", \"RestaurantsAttire\": \"\"casual\"\", \"BusinessAcceptsCreditCards\": \"True\", \"DogsAllowed\": \"False\", \"RestaurantsTakeOut\": \"True\", \"BusinessAcceptsBitcoin\": \"False\", \"BusinessParking\": \"{\"garage\": False, \"street\": True, \"validated\": False, \"lot\": False, \"valet\": False}\", \"Smoking\": \"u\"no\"\", \"WiFi\": \"u\"free\"\", \"CoatCheck\": \"False\", \"HasTV\": \"True\", \"WheelchairAccessible\": \"False\", \"GoodForKids\": \"True\", \"RestaurantsTableService\": \"True\", \"GoodForMeal\": \"{\"dessert\": False, \"latenight\": False, \"lunch\": True, \"dinner\": True, \"brunch\": False, \"breakfast\": False}\", \"Music\": \"{\"karaoke\": True}\", \"RestaurantsPriceRange2\": \"2\", \"RestaurantsReservations\": \"True\", \"GoodForDancing\": \"False\", \"RestaurantsGoodForGroups\": \"True\", \"NoiseLevel\": \"\"average\"\", \"HappyHour\": \"True\", \"Ambience\": \"{\"touristy\": False, \"hipster\": False, \"romantic\": False, \"divey\": False, \"intimate\": False, \"trendy\": False, \"upscale\": False, \"classy\": False, \"casual\": True}\", \"RestaurantsDelivery\": \"False\", \"BestNights\": \"{\"monday\": False, \"tuesday\": False, \"friday\": False, \"wednesday\": False, \"thursday\": False, \"sunday\": False, \"saturday\": True}\", \"OutdoorSeating\": \"False\", \"Alcohol\": \"u\"full_bar\"\"}',\n",
       " '{\"ByAppointmentOnly\": \"False\", \"BusinessAcceptsCreditCards\": \"True\", \"RestaurantsPriceRange2\": \"2\", \"BikeParking\": \"False\", \"BusinessParking\": \"{\"garage\": False, \"street\": False, \"validated\": False, \"lot\": False, \"valet\": False}\"}',\n",
       " None,\n",
       " '{\"BusinessAcceptsCreditCards\": \"True\", \"RestaurantsDelivery\": \"True\", \"BusinessParking\": \"{\"garage\": False, \"street\": True, \"validated\": False, \"lot\": False, \"valet\": False}\", \"RestaurantsTakeOut\": \"True\", \"RestaurantsPriceRange2\": \"2\"}',\n",
       " '{\"RestaurantsTakeOut\": \"True\", \"GoodForKids\": \"True\", \"WiFi\": \"\"free\"\", \"RestaurantsAttire\": \"u\"casual\"\", \"HasTV\": \"True\", \"BikeParking\": \"True\", \"NoiseLevel\": \"u\"average\"\", \"RestaurantsPriceRange2\": \"2\", \"Caters\": \"True\", \"RestaurantsDelivery\": \"True\", \"BusinessParking\": \"{\"garage\": False, \"street\": True, \"validated\": False, \"lot\": False, \"valet\": False}\", \"BusinessAcceptsCreditCards\": \"True\", \"HappyHour\": \"True\", \"OutdoorSeating\": \"True\", \"RestaurantsReservations\": \"True\", \"Smoking\": \"u\"outdoor\"\", \"Alcohol\": \"u\"full_bar\"\", \"RestaurantsTableService\": \"True\", \"Music\": \"{\"dj\": False, \"background_music\": False, \"no_music\": False, \"jukebox\": False, \"live\": False, \"video\": False, \"karaoke\": False}\", \"BestNights\": \"{\"monday\": False, \"tuesday\": False, \"friday\": False, \"wednesday\": True, \"thursday\": False, \"sunday\": True, \"saturday\": False}\", \"RestaurantsGoodForGroups\": \"True\", \"GoodForMeal\": \"{\"dessert\": None, \"latenight\": False, \"lunch\": True, \"dinner\": True, \"brunch\": None, \"breakfast\": False}\", \"Ambience\": \"{\"touristy\": False, \"hipster\": None, \"romantic\": False, \"divey\": False, \"intimate\": False, \"trendy\": None, \"upscale\": False, \"classy\": False, \"casual\": True}\"}',\n",
       " '{\"OutdoorSeating\": \"False\", \"Alcohol\": \"\"full_bar\"\", \"Smoking\": \"u\"no\"\", \"GoodForMeal\": \"{\"dessert\": False, \"latenight\": False, \"lunch\": True, \"dinner\": False, \"brunch\": True, \"breakfast\": True}\", \"WiFi\": \"\"no\"\", \"RestaurantsReservations\": \"False\", \"RestaurantsAttire\": \"\"casual\"\", \"BusinessParking\": \"{\"garage\": None, \"street\": False, \"validated\": None, \"lot\": False, \"valet\": False}\", \"RestaurantsPriceRange2\": \"2\", \"HasTV\": \"True\", \"HappyHour\": \"False\", \"BikeParking\": \"False\", \"CoatCheck\": \"False\", \"GoodForKids\": \"True\", \"BusinessAcceptsCreditCards\": \"True\", \"RestaurantsGoodForGroups\": \"False\", \"RestaurantsDelivery\": \"False\", \"RestaurantsTakeOut\": \"True\", \"GoodForDancing\": \"False\", \"Ambience\": \"{u\"divey\": False, u\"hipster\": False, u\"casual\": None, u\"touristy\": None, u\"trendy\": None, u\"intimate\": None, u\"romantic\": None, u\"classy\": False, u\"upscale\": None}\", \"Music\": \"{\"dj\": None, \"background_music\": False, \"no_music\": False, \"jukebox\": None, \"live\": False, \"video\": False, \"karaoke\": None}\"}',\n",
       " '{\"GoodForKids\": \"False\", \"BusinessParking\": \"{\"garage\": False, \"street\": False, \"validated\": False, \"lot\": True, \"valet\": False}\", \"ByAppointmentOnly\": \"False\", \"BikeParking\": \"True\", \"BusinessAcceptsCreditCards\": \"True\"}',\n",
       " '{\"BusinessAcceptsCreditCards\": \"True\", \"RestaurantsGoodForGroups\": \"False\", \"BikeParking\": \"False\", \"WiFi\": \"\"free\"\", \"RestaurantsReservations\": \"False\", \"GoodForKids\": \"True\", \"DogsAllowed\": \"False\", \"RestaurantsTableService\": \"False\", \"RestaurantsAttire\": \"\"casual\"\", \"OutdoorSeating\": \"False\", \"RestaurantsTakeOut\": \"True\", \"RestaurantsPriceRange2\": \"1\", \"GoodForMeal\": \"{\"dessert\": False, \"latenight\": False, \"lunch\": False, \"dinner\": False, \"brunch\": False, \"breakfast\": False}\", \"BusinessParking\": \"{u\"valet\": False, u\"garage\": None, u\"street\": False, u\"lot\": None, u\"validated\": False}\", \"RestaurantsDelivery\": \"True\", \"HasTV\": \"True\", \"Ambience\": \"{\"touristy\": False, \"hipster\": False, \"romantic\": False, \"divey\": False, \"intimate\": False, \"trendy\": False, \"upscale\": False, \"classy\": False, \"casual\": False}\", \"Caters\": \"False\"}',\n",
       " '{\"BusinessAcceptsCreditCards\": \"True\", \"RestaurantsPriceRange2\": \"1\", \"BikeParking\": \"True\", \"WheelchairAccessible\": \"True\", \"RestaurantsTakeOut\": \"False\", \"RestaurantsDelivery\": \"True\", \"BusinessParking\": \"{\"garage\": False, \"street\": False, \"validated\": False, \"lot\": True, \"valet\": False}\", \"DriveThru\": \"True\"}',\n",
       " '{\"OutdoorSeating\": \"False\", \"RestaurantsReservations\": \"False\", \"BusinessAcceptsCreditCards\": \"True\", \"GoodForKids\": \"True\", \"NoiseLevel\": \"u\"average\"\", \"RestaurantsTakeOut\": \"True\", \"RestaurantsDelivery\": \"False\", \"RestaurantsAttire\": \"u\"casual\"\", \"BusinessParking\": \"{\"garage\": False, \"street\": False, \"validated\": False, \"lot\": True, \"valet\": False}\", \"RestaurantsPriceRange2\": \"1\", \"RestaurantsGoodForGroups\": \"True\", \"Ambience\": \"{\"romantic\": False, \"intimate\": False, \"touristy\": False, \"hipster\": False, \"divey\": False, \"classy\": False, \"trendy\": False, \"upscale\": False, \"casual\": True}\", \"Alcohol\": \"u\"none\"\", \"Caters\": \"False\", \"WiFi\": \"u\"no\"\", \"GoodForMeal\": \"{\"dessert\": False, \"latenight\": False, \"lunch\": False, \"dinner\": False, \"brunch\": False, \"breakfast\": True}\", \"BikeParking\": \"True\", \"HasTV\": \"True\", \"RestaurantsTableService\": \"True\", \"WheelchairAccessible\": \"True\", \"HappyHour\": \"False\"}',\n",
       " '{\"BusinessAcceptsCreditCards\": \"True\", \"RestaurantsPriceRange2\": \"3\", \"WiFi\": \"u\"free\"\"}',\n",
       " None,\n",
       " '{\"GoodForKids\": \"True\", \"BusinessAcceptsCreditCards\": \"True\", \"Ambience\": \"{\"romantic\": False, \"intimate\": False, \"classy\": False, \"hipster\": False, \"divey\": False, \"touristy\": False, \"trendy\": False, \"upscale\": False, \"casual\": False}\", \"NoiseLevel\": \"\"quiet\"\", \"RestaurantsPriceRange2\": \"2\", \"BikeParking\": \"False\", \"Caters\": \"False\"}',\n",
       " '{\"BusinessAcceptsCreditCards\": \"True\", \"GoodForKids\": \"False\", \"ByAppointmentOnly\": \"False\", \"BikeParking\": \"True\", \"BusinessParking\": \"{\"garage\": False, \"street\": True, \"validated\": False, \"lot\": True, \"valet\": False}\"}',\n",
       " '{\"DogsAllowed\": \"False\", \"GoodForKids\": \"True\", \"BusinessParking\": \"{\"garage\": False, \"street\": False, \"validated\": False, \"lot\": True, \"valet\": False}\", \"BusinessAcceptsCreditCards\": \"True\", \"BikeParking\": \"True\"}',\n",
       " '{\"WiFi\": \"u\"free\"\", \"BusinessParking\": \"{\"garage\": False, \"street\": False, \"validated\": False, \"lot\": False, \"valet\": False}\", \"RestaurantsGoodForGroups\": \"True\", \"RestaurantsTakeOut\": \"True\", \"RestaurantsAttire\": \"u\"casual\"\", \"RestaurantsDelivery\": \"True\", \"RestaurantsPriceRange2\": \"2\", \"GoodForKids\": \"True\", \"OutdoorSeating\": \"True\", \"RestaurantsReservations\": \"True\", \"HasTV\": \"True\", \"HappyHour\": \"True\", \"Ambience\": \"{\"touristy\": None, \"hipster\": None, \"romantic\": None, \"intimate\": None, \"trendy\": None, \"upscale\": False, \"classy\": None, \"casual\": None}\", \"GoodForMeal\": \"{\"dessert\": False, \"latenight\": False, \"lunch\": False, \"dinner\": False, \"brunch\": False, \"breakfast\": False}\"}',\n",
       " '{\"ByAppointmentOnly\": \"True\", \"BusinessAcceptsCreditCards\": \"True\", \"WiFi\": \"u\"free\"\", \"AcceptsInsurance\": \"True\"}',\n",
       " '{\"RestaurantsDelivery\": \"False\", \"BusinessAcceptsCreditCards\": \"False\", \"RestaurantsPriceRange2\": \"1\", \"BikeParking\": \"True\", \"BusinessParking\": \"{\"garage\": False, \"street\": True, \"validated\": False, \"lot\": False, \"valet\": False}\"}',\n",
       " '{\"BusinessAcceptsCreditCards\": \"True\", \"BusinessParking\": \"{\"garage\": False, \"street\": False, \"validated\": False, \"lot\": False, \"valet\": False}\", \"RestaurantsPriceRange2\": \"3\"}',\n",
       " '{\"RestaurantsPriceRange2\": \"1\", \"BusinessAcceptsCreditCards\": \"True\", \"WiFi\": \"\"no\"\"}',\n",
       " '{\"GoodForKids\": \"True\"}',\n",
       " '{\"BusinessAcceptsCreditCards\": \"True\"}',\n",
       " '{\"RestaurantsDelivery\": \"True\", \"RestaurantsPriceRange2\": \"2\", \"RestaurantsAttire\": \"u\"casual\"\", \"HasTV\": \"True\", \"GoodForKids\": \"True\", \"Alcohol\": \"u\"full_bar\"\", \"BusinessParking\": \"{\"garage\": False, \"street\": False, \"validated\": False, \"lot\": False, \"valet\": False}\", \"RestaurantsGoodForGroups\": \"True\", \"Caters\": \"True\", \"GoodForMeal\": \"{\"dessert\": False, \"latenight\": False, \"lunch\": False, \"dinner\": True, \"brunch\": False, \"breakfast\": False}\", \"Ambience\": \"{\"romantic\": False, \"intimate\": False, \"classy\": False, \"hipster\": False, \"divey\": False, \"touristy\": False, \"trendy\": False, \"upscale\": False, \"casual\": False}\", \"WiFi\": \"u\"no\"\", \"OutdoorSeating\": \"False\", \"RestaurantsReservations\": \"True\", \"RestaurantsTakeOut\": \"True\", \"NoiseLevel\": \"u\"quiet\"\", \"BikeParking\": \"False\"}',\n",
       " '{\"RestaurantsPriceRange2\": \"3\", \"BusinessAcceptsCreditCards\": \"True\", \"BusinessParking\": \"{\"garage\": True, \"street\": False, \"validated\": False, \"lot\": True, \"valet\": False}\", \"BikeParking\": \"False\", \"DogsAllowed\": \"False\"}',\n",
       " '{\"ByAppointmentOnly\": \"True\", \"BusinessAcceptsBitcoin\": \"False\", \"BusinessAcceptsCreditCards\": \"True\"}',\n",
       " '{\"Caters\": \"False\", \"Alcohol\": \"u\"none\"\", \"RestaurantsReservations\": \"False\", \"RestaurantsTakeOut\": \"True\", \"BusinessAcceptsCreditCards\": \"True\", \"BikeParking\": \"True\", \"BusinessParking\": \"{\"garage\": False, \"street\": True, \"validated\": False, \"lot\": False, \"valet\": False}\", \"RestaurantsGoodForGroups\": \"False\", \"RestaurantsPriceRange2\": \"1\", \"GoodForKids\": \"True\", \"RestaurantsAttire\": \"\"casual\"\", \"OutdoorSeating\": \"False\", \"ByAppointmentOnly\": \"False\", \"Ambience\": \"{\"romantic\": False, \"intimate\": False, \"classy\": False, \"hipster\": False, \"divey\": False, \"touristy\": False, \"trendy\": False, \"upscale\": False, \"casual\": False}\", \"NoiseLevel\": \"u\"average\"\", \"RestaurantsDelivery\": \"True\", \"HasTV\": \"True\", \"WiFi\": \"u\"free\"\", \"GoodForMeal\": \"{\"dessert\": False, \"latenight\": False, \"lunch\": False, \"dinner\": False, \"brunch\": False, \"breakfast\": False}\"}',\n",
       " '{\"BusinessAcceptsCreditCards\": \"True\", \"RestaurantsPriceRange2\": \"2\", \"HasTV\": \"True\", \"RestaurantsGoodForGroups\": \"True\", \"OutdoorSeating\": \"False\", \"GoodForKids\": \"True\", \"WiFi\": \"u\"no\"\", \"BusinessParking\": \"{\"garage\": False, \"street\": False, \"validated\": False, \"lot\": True, \"valet\": False}\", \"RestaurantsTakeOut\": \"True\", \"Alcohol\": \"u\"full_bar\"\", \"RestaurantsReservations\": \"True\", \"RestaurantsAttire\": \"u\"casual\"\", \"RestaurantsDelivery\": \"True\", \"Caters\": \"True\", \"NoiseLevel\": \"u\"average\"\", \"GoodForMeal\": \"{\"dessert\": False, \"latenight\": False, \"lunch\": True, \"dinner\": True, \"brunch\": False, \"breakfast\": False}\", \"BikeParking\": \"True\", \"Ambience\": \"{\"touristy\": False, \"hipster\": False, \"romantic\": False, \"divey\": False, \"intimate\": True, \"trendy\": False, \"upscale\": False, \"classy\": False, \"casual\": True}\", \"HappyHour\": \"True\"}',\n",
       " '{\"Corkage\": \"False\", \"RestaurantsGoodForGroups\": \"True\", \"GoodForKids\": \"True\", \"NoiseLevel\": \"u\"average\"\", \"Ambience\": \"{\"romantic\": False, \"intimate\": False, \"touristy\": False, \"hipster\": False, \"divey\": False, \"classy\": False, \"trendy\": False, \"upscale\": False, \"casual\": True}\", \"RestaurantsPriceRange2\": \"2\", \"RestaurantsAttire\": \"\"casual\"\", \"BYOBCorkage\": \"\"yes_free\"\", \"BusinessParking\": \"{\"garage\": False, \"street\": True, \"validated\": False, \"lot\": False, \"valet\": False}\", \"Caters\": \"False\", \"RestaurantsTakeOut\": \"True\", \"GoodForMeal\": \"{\"dessert\": False, \"latenight\": False, \"lunch\": True, \"dinner\": True, \"brunch\": False, \"breakfast\": False}\", \"Alcohol\": \"u\"none\"\", \"BikeParking\": \"False\", \"BusinessAcceptsCreditCards\": \"False\", \"WiFi\": \"u\"no\"\", \"OutdoorSeating\": \"False\", \"Music\": \"{\"dj\": False, \"background_music\": False, \"no_music\": False, \"jukebox\": False, \"live\": False, \"video\": False, \"karaoke\": False}\", \"HasTV\": \"False\", \"RestaurantsReservations\": \"False\", \"BestNights\": \"{\"monday\": False, \"tuesday\": False, \"friday\": True, \"wednesday\": False, \"thursday\": False, \"sunday\": True, \"saturday\": True}\", \"RestaurantsDelivery\": \"False\"}',\n",
       " '{\"BusinessAcceptsCreditCards\": \"True\", \"BusinessAcceptsBitcoin\": \"False\"}',\n",
       " '{\"GoodForKids\": \"True\", \"OutdoorSeating\": \"True\", \"BusinessAcceptsCreditCards\": \"True\", \"RestaurantsReservations\": \"True\", \"WiFi\": \"\"no\"\", \"BikeParking\": \"True\", \"Alcohol\": \"u\"full_bar\"\", \"RestaurantsPriceRange2\": \"2\", \"Ambience\": \"{\"romantic\": False, \"intimate\": False, \"classy\": False, \"hipster\": False, \"divey\": False, \"touristy\": False, \"trendy\": False, \"upscale\": False, \"casual\": True}\", \"NoiseLevel\": \"u\"average\"\", \"Caters\": \"False\", \"RestaurantsTableService\": \"True\", \"RestaurantsTakeOut\": \"True\", \"RestaurantsGoodForGroups\": \"True\", \"GoodForMeal\": \"{\"dessert\": False, \"latenight\": False, \"lunch\": True, \"dinner\": False, \"brunch\": False, \"breakfast\": False}\", \"BusinessParking\": \"{\"garage\": False, \"street\": True, \"validated\": False, \"lot\": False, \"valet\": False}\", \"RestaurantsDelivery\": \"False\", \"HappyHour\": \"True\", \"RestaurantsAttire\": \"\"casual\"\", \"HasTV\": \"True\"}',\n",
       " '{\"BusinessAcceptsCreditCards\": \"False\"}',\n",
       " None,\n",
       " '{\"BusinessAcceptsCreditCards\": \"True\", \"WiFi\": \"u\"free\"\", \"ByAppointmentOnly\": \"False\", \"AcceptsInsurance\": \"True\"}',\n",
       " '{\"RestaurantsPriceRange2\": \"2\", \"RestaurantsReservations\": \"True\", \"Caters\": \"True\", \"RestaurantsAttire\": \"\"casual\"\", \"Alcohol\": \"u\"full_bar\"\", \"RestaurantsTakeOut\": \"True\", \"OutdoorSeating\": \"False\", \"BusinessAcceptsCreditCards\": \"True\", \"GoodForKids\": \"False\", \"RestaurantsDelivery\": \"False\", \"BusinessParking\": \"{\"garage\": False, \"street\": True, \"validated\": False, \"lot\": False, \"valet\": False}\", \"HasTV\": \"False\", \"RestaurantsGoodForGroups\": \"True\", \"WiFi\": \"u\"no\"\", \"NoiseLevel\": \"u\"quiet\"\", \"BikeParking\": \"True\", \"Ambience\": \"{\"romantic\": False, \"intimate\": False, \"classy\": True, \"hipster\": False, \"divey\": False, \"touristy\": False, \"trendy\": False, \"upscale\": False, \"casual\": False}\"}',\n",
       " '{\"BusinessParking\": \"{\"garage\": False, \"street\": True, \"validated\": False, \"lot\": False, \"valet\": False}\", \"RestaurantsPriceRange2\": \"2\", \"BusinessAcceptsCreditCards\": \"True\"}',\n",
       " '{\"Music\": \"{\"live\": False}\", \"Ambience\": \"{\"romantic\": False, \"intimate\": False, \"classy\": False, \"hipster\": False, \"divey\": False, \"touristy\": False, \"trendy\": False, \"upscale\": False, \"casual\": True}\", \"HappyHour\": \"True\", \"Alcohol\": \"u\"full_bar\"\", \"OutdoorSeating\": \"True\", \"Smoking\": \"u\"no\"\", \"BikeParking\": \"True\", \"GoodForDancing\": \"False\", \"RestaurantsTakeOut\": \"True\", \"RestaurantsTableService\": \"True\", \"CoatCheck\": \"False\", \"RestaurantsAttire\": \"u\"casual\"\", \"WheelchairAccessible\": \"True\", \"BestNights\": \"{\"monday\": False, \"tuesday\": False, \"friday\": False, \"wednesday\": False, \"thursday\": False, \"sunday\": False, \"saturday\": True}\", \"RestaurantsDelivery\": \"True\", \"RestaurantsPriceRange2\": \"2\", \"Caters\": \"True\", \"WiFi\": \"u\"free\"\", \"BusinessParking\": \"{\"garage\": False, \"street\": True, \"validated\": False, \"lot\": True, \"valet\": False}\", \"GoodForMeal\": \"{\"dessert\": False, \"latenight\": False, \"lunch\": True, \"dinner\": True, \"brunch\": False, \"breakfast\": False}\", \"DogsAllowed\": \"True\", \"NoiseLevel\": \"u\"average\"\", \"RestaurantsReservations\": \"True\", \"HasTV\": \"True\", \"RestaurantsGoodForGroups\": \"True\", \"GoodForKids\": \"True\", \"BusinessAcceptsCreditCards\": \"True\", \"BusinessAcceptsBitcoin\": \"False\"}',\n",
       " '{\"ByAppointmentOnly\": \"True\", \"BusinessAcceptsBitcoin\": \"False\", \"BusinessAcceptsCreditCards\": \"True\", \"BusinessParking\": \"{\"garage\": False, \"street\": False, \"validated\": False, \"lot\": True, \"valet\": False}\", \"WheelchairAccessible\": \"True\", \"BikeParking\": \"True\", \"RestaurantsPriceRange2\": \"3\"}',\n",
       " '{\"BusinessAcceptsCreditCards\": \"True\", \"ByAppointmentOnly\": \"True\", \"WheelchairAccessible\": \"True\"}',\n",
       " '{\"BusinessParking\": \"{\"garage\": False, \"street\": False, \"validated\": False, \"lot\": False, \"valet\": False}\", \"ByAppointmentOnly\": \"False\"}',\n",
       " None,\n",
       " '{\"ByAppointmentOnly\": \"True\", \"BusinessAcceptsCreditCards\": \"True\", \"RestaurantsPriceRange2\": \"2\", \"GoodForKids\": \"True\", \"BusinessParking\": \"{\"garage\": False, \"street\": True, \"validated\": False, \"lot\": False, \"valet\": False}\", \"BikeParking\": \"True\"}',\n",
       " '{\"GoodForKids\": \"True\", \"RestaurantsReservations\": \"False\", \"RestaurantsGoodForGroups\": \"True\", \"BusinessAcceptsCreditCards\": \"True\", \"GoodForMeal\": \"{\"dessert\": False, \"latenight\": False, \"lunch\": False, \"dinner\": False, \"brunch\": False, \"breakfast\": False}\", \"RestaurantsTakeOut\": \"True\", \"HasTV\": \"True\", \"RestaurantsDelivery\": \"True\", \"RestaurantsPriceRange2\": \"1\"}',\n",
       " '{\"BusinessAcceptsCreditCards\": \"True\", \"Alcohol\": \"u\"none\"\", \"BusinessParking\": \"{\"garage\": False, \"street\": True, \"validated\": False, \"lot\": True, \"valet\": False}\", \"RestaurantsTakeOut\": \"True\", \"HasTV\": \"False\", \"WiFi\": \"u\"no\"\", \"HappyHour\": \"False\", \"RestaurantsTableService\": \"False\", \"RestaurantsReservations\": \"False\", \"BikeParking\": \"True\", \"BYOB\": \"False\", \"DogsAllowed\": \"True\", \"RestaurantsDelivery\": \"True\", \"OutdoorSeating\": \"False\", \"Caters\": \"True\", \"Corkage\": \"False\", \"BusinessAcceptsBitcoin\": \"False\", \"WheelchairAccessible\": \"True\"}',\n",
       " '{\"BusinessParking\": \"{u\"valet\": False, u\"garage\": None, u\"street\": None, u\"lot\": True, u\"validated\": None}\", \"BestNights\": \"{u\"monday\": False, u\"tuesday\": False, u\"wednesday\": False, u\"thursday\": False, u\"friday\": False, u\"saturday\": False, u\"sunday\": False}\", \"RestaurantsReservations\": \"True\", \"HappyHour\": \"True\", \"NoiseLevel\": \"u\"average\"\", \"Ambience\": \"{u\"divey\": False, u\"hipster\": False, u\"casual\": False, u\"touristy\": False, u\"trendy\": False, u\"intimate\": False, u\"romantic\": False, u\"classy\": True, u\"upscale\": False}\", \"RestaurantsGoodForGroups\": \"True\", \"WiFi\": \"u\"free\"\", \"RestaurantsAttire\": \"u\"casual\"\", \"OutdoorSeating\": \"True\", \"RestaurantsTableService\": \"True\", \"Alcohol\": \"u\"full_bar\"\", \"RestaurantsPriceRange2\": \"2\"}',\n",
       " '{\"OutdoorSeating\": \"False\", \"BusinessParking\": \"{\"garage\": False, \"street\": False, \"validated\": False, \"lot\": True, \"valet\": False}\", \"RestaurantsReservations\": \"False\", \"RestaurantsDelivery\": \"False\", \"GoodForKids\": \"True\", \"Ambience\": \"{\"romantic\": False, \"intimate\": False, \"classy\": False, \"upscale\": False, \"touristy\": False, \"trendy\": False, \"hipster\": False, \"casual\": False}\", \"RestaurantsPriceRange2\": \"2\", \"HasTV\": \"True\", \"RestaurantsTakeOut\": \"True\", \"RestaurantsAttire\": \"u\"casual\"\", \"NoiseLevel\": \"u\"average\"\", \"WiFi\": \"u\"no\"\", \"Caters\": \"False\", \"RestaurantsGoodForGroups\": \"True\", \"Alcohol\": \"u\"none\"\"}',\n",
       " '{\"BusinessParking\": \"{\"garage\": False, \"street\": False, \"validated\": False, \"lot\": True, \"valet\": False}\", \"ByAppointmentOnly\": \"False\", \"BikeParking\": \"True\", \"RestaurantsPriceRange2\": \"2\", \"GoodForKids\": \"True\", \"WiFi\": \"u\"free\"\", \"BusinessAcceptsCreditCards\": \"True\"}',\n",
       " '{\"BikeParking\": \"True\", \"ByAppointmentOnly\": \"False\", \"RestaurantsPriceRange2\": \"2\", \"BusinessAcceptsBitcoin\": \"False\", \"WheelchairAccessible\": \"True\", \"BusinessAcceptsCreditCards\": \"True\", \"BusinessParking\": \"{\"garage\": False, \"street\": False, \"validated\": False, \"lot\": True, \"valet\": False}\", \"HairSpecializesIn\": \"{\"straightperms\": True, \"coloring\": True, \"extensions\": False, \"africanamerican\": False, \"curly\": True, \"kids\": True, \"perms\": True, \"asian\": True}\", \"GoodForKids\": \"True\"}',\n",
       " '{\"RestaurantsGoodForGroups\": \"True\", \"GoodForKids\": \"True\", \"RestaurantsTakeOut\": \"True\", \"BikeParking\": \"True\", \"BusinessParking\": \"{\"garage\": False, \"street\": True, \"validated\": False, \"lot\": None, \"valet\": False}\", \"RestaurantsPriceRange2\": \"2\", \"HasTV\": \"False\", \"OutdoorSeating\": \"True\", \"RestaurantsReservations\": \"True\", \"Ambience\": \"{\"touristy\": False, \"hipster\": False, \"romantic\": False, \"divey\": False, \"intimate\": False, \"trendy\": False, \"upscale\": False, \"classy\": True, \"casual\": True}\", \"NoiseLevel\": \"u\"quiet\"\", \"RestaurantsAttire\": \"\"casual\"\", \"WheelchairAccessible\": \"True\", \"BusinessAcceptsCreditCards\": \"True\", \"WiFi\": \"\"no\"\", \"Alcohol\": \"\"beer_and_wine\"\", \"RestaurantsDelivery\": \"True\", \"GoodForMeal\": \"{\"dessert\": None, \"latenight\": False, \"lunch\": True, \"dinner\": True, \"brunch\": None, \"breakfast\": None}\"}',\n",
       " '{\"BusinessAcceptsCreditCards\": \"True\", \"GoodForKids\": \"False\", \"OutdoorSeating\": \"False\", \"CoatCheck\": \"True\", \"RestaurantsGoodForGroups\": \"True\", \"RestaurantsTableService\": \"True\", \"Alcohol\": \"u\"full_bar\"\", \"RestaurantsAttire\": \"\"dressy\"\", \"RestaurantsReservations\": \"True\", \"Music\": \"{\"dj\": None, \"background_music\": False, \"no_music\": False, \"jukebox\": None, \"live\": False, \"video\": False, \"karaoke\": None}\", \"RestaurantsPriceRange2\": \"4\", \"RestaurantsTakeOut\": \"True\", \"BusinessParking\": \"{\"garage\": False, \"street\": False, \"validated\": False, \"lot\": True, \"valet\": False}\", \"HasTV\": \"True\", \"BikeParking\": \"True\", \"HappyHour\": \"True\", \"Ambience\": \"{\"touristy\": False, \"hipster\": False, \"romantic\": False, \"divey\": False, \"intimate\": False, \"trendy\": False, \"upscale\": False, \"classy\": True, \"casual\": False}\", \"Caters\": \"False\", \"NoiseLevel\": \"u\"average\"\", \"WiFi\": \"u\"free\"\", \"Smoking\": \"u\"no\"\", \"GoodForDancing\": \"False\", \"GoodForMeal\": \"{\"dessert\": None, \"latenight\": None, \"lunch\": None, \"dinner\": True, \"brunch\": None, \"breakfast\": None}\", \"BestNights\": \"{\"monday\": False, \"tuesday\": False, \"friday\": False, \"wednesday\": False, \"thursday\": False, \"sunday\": False, \"saturday\": False}\", \"WheelchairAccessible\": \"True\", \"RestaurantsDelivery\": \"False\"}',\n",
       " '{\"WiFi\": \"u\"free\"\", \"RestaurantsPriceRange2\": \"2\", \"BusinessAcceptsCreditCards\": \"True\", \"DogsAllowed\": \"True\", \"BusinessAcceptsBitcoin\": \"False\"}',\n",
       " '{\"BusinessParking\": \"{\"garage\": False, \"street\": False, \"validated\": False, \"lot\": False, \"valet\": False}\", \"ByAppointmentOnly\": \"False\", \"RestaurantsPriceRange2\": \"1\"}',\n",
       " '{\"GoodForKids\": \"True\"}',\n",
       " None,\n",
       " '{\"BusinessParking\": \"{\"garage\": False, \"street\": True, \"validated\": False, \"lot\": False, \"valet\": False}\", \"RestaurantsPriceRange2\": \"3\", \"WheelchairAccessible\": \"False\", \"BikeParking\": \"True\", \"ByAppointmentOnly\": \"True\"}',\n",
       " None,\n",
       " '{\"BusinessAcceptsCreditCards\": \"True\", \"BusinessAcceptsBitcoin\": \"False\", \"RestaurantsPriceRange2\": \"2\", \"BusinessParking\": \"{\"garage\": False, \"street\": True, \"validated\": False, \"lot\": False, \"valet\": False}\", \"BikeParking\": \"False\"}',\n",
       " '{\"BusinessAcceptsCreditCards\": \"True\", \"RestaurantsPriceRange2\": \"2\", \"BusinessParking\": \"{\"garage\": False, \"street\": False, \"validated\": False, \"lot\": True, \"valet\": False}\", \"GoodForKids\": \"True\", \"ByAppointmentOnly\": \"True\"}',\n",
       " '{\"BusinessAcceptsCreditCards\": \"False\", \"BusinessAcceptsBitcoin\": \"False\"}',\n",
       " '{\"BusinessAcceptsCreditCards\": \"False\"}',\n",
       " '{\"RestaurantsGoodForGroups\": \"True\", \"BikeParking\": \"False\", \"Ambience\": \"{\"touristy\": False, \"hipster\": False, \"romantic\": False, \"divey\": False, \"intimate\": False, \"trendy\": False, \"upscale\": False, \"classy\": False, \"casual\": False}\", \"HasTV\": \"True\", \"BusinessParking\": \"{\"garage\": False, \"street\": True, \"validated\": False, \"lot\": False, \"valet\": False}\", \"NoiseLevel\": \"u\"quiet\"\", \"GoodForKids\": \"True\", \"Caters\": \"False\", \"RestaurantsAttire\": \"\"casual\"\", \"OutdoorSeating\": \"None\", \"GoodForMeal\": \"{\"dessert\": False, \"latenight\": False, \"lunch\": True, \"dinner\": False, \"brunch\": False, \"breakfast\": False}\", \"RestaurantsPriceRange2\": \"2\", \"RestaurantsTableService\": \"True\", \"RestaurantsDelivery\": \"True\", \"WiFi\": \"\"no\"\", \"RestaurantsTakeOut\": \"None\", \"BusinessAcceptsCreditCards\": \"True\", \"Alcohol\": \"u\"none\"\", \"RestaurantsReservations\": \"False\"}',\n",
       " '{\"BusinessAcceptsBitcoin\": \"False\", \"BusinessAcceptsCreditCards\": \"True\"}',\n",
       " '{\"BusinessAcceptsCreditCards\": \"True\", \"BusinessParking\": \"{\"garage\": False, \"street\": False, \"validated\": False, \"lot\": False, \"valet\": False}\", \"BikeParking\": \"True\", \"RestaurantsPriceRange2\": \"3\"}',\n",
       " '{\"ByAppointmentOnly\": \"True\"}',\n",
       " '{\"GoodForKids\": \"True\", \"RestaurantsGoodForGroups\": \"True\", \"BusinessAcceptsCreditCards\": \"True\", \"RestaurantsAttire\": \"\"casual\"\", \"RestaurantsReservations\": \"False\", \"RestaurantsTakeOut\": \"True\", \"RestaurantsDelivery\": \"True\"}',\n",
       " '{\"OutdoorSeating\": \"False\", \"RestaurantsPriceRange2\": \"2\", \"GoodForKids\": \"True\", \"NoiseLevel\": \"u\"quiet\"\", \"RestaurantsAttire\": \"u\"casual\"\", \"BusinessAcceptsCreditCards\": \"True\", \"RestaurantsTakeOut\": \"True\", \"RestaurantsGoodForGroups\": \"True\", \"Alcohol\": \"u\"none\"\", \"BusinessParking\": \"{\"garage\": False, \"street\": False, \"validated\": False, \"lot\": True, \"valet\": False}\", \"RestaurantsDelivery\": \"True\", \"RestaurantsReservations\": \"True\", \"HasTV\": \"False\", \"Ambience\": \"{\"romantic\": False, \"intimate\": False, \"touristy\": False, \"hipster\": False, \"divey\": False, \"classy\": False, \"trendy\": False, \"upscale\": False, \"casual\": False}\", \"BikeParking\": \"False\"}',\n",
       " '{\"ByAppointmentOnly\": \"False\", \"RestaurantsPriceRange2\": \"2\", \"BusinessParking\": \"{\"garage\": False, \"street\": False, \"validated\": False, \"lot\": True, \"valet\": False}\", \"BusinessAcceptsCreditCards\": \"True\", \"BikeParking\": \"True\", \"WiFi\": \"u\"free\"\", \"WheelchairAccessible\": \"True\"}',\n",
       " '{\"BusinessParking\": \"{\"garage\": False, \"street\": False, \"validated\": False, \"lot\": True, \"valet\": False}\", \"BikeParking\": \"True\", \"BusinessAcceptsCreditCards\": \"False\", \"OutdoorSeating\": \"False\", \"WiFi\": \"u\"no\"\", \"Alcohol\": \"u\"none\"\", \"Caters\": \"True\", \"GoodForKids\": \"True\", \"RestaurantsPriceRange2\": \"1\", \"Ambience\": \"{\"romantic\": False, \"intimate\": False, \"touristy\": False, \"upscale\": False, \"divey\": False, \"classy\": False, \"trendy\": False, \"hipster\": False, \"casual\": True}\", \"RestaurantsReservations\": \"False\", \"RestaurantsAttire\": \"u\"casual\"\", \"RestaurantsDelivery\": \"False\", \"NoiseLevel\": \"u\"average\"\", \"RestaurantsTakeOut\": \"True\", \"RestaurantsGoodForGroups\": \"True\", \"HasTV\": \"True\", \"GoodForMeal\": \"{\"dessert\": False, \"latenight\": False, \"lunch\": True, \"dinner\": False, \"brunch\": False, \"breakfast\": False}\"}',\n",
       " '{\"Ambience\": \"{\"romantic\": False, \"intimate\": False, \"classy\": False, \"hipster\": True, \"divey\": False, \"touristy\": False, \"trendy\": False, \"upscale\": False, \"casual\": False}\", \"GoodForMeal\": \"{\"dessert\": False, \"latenight\": False, \"lunch\": False, \"dinner\": False, \"brunch\": False, \"breakfast\": True}\", \"RestaurantsDelivery\": \"True\", \"WheelchairAccessible\": \"True\", \"HasTV\": \"False\", \"BusinessAcceptsCreditCards\": \"True\", \"RestaurantsGoodForGroups\": \"True\", \"GoodForKids\": \"True\", \"Caters\": \"True\", \"RestaurantsTakeOut\": \"True\", \"OutdoorSeating\": \"True\", \"WiFi\": \"u\"free\"\", \"Alcohol\": \"u\"none\"\", \"DogsAllowed\": \"False\", \"BusinessAcceptsBitcoin\": \"False\", \"BikeParking\": \"True\", \"BusinessParking\": \"{\"garage\": False, \"street\": False, \"validated\": False, \"lot\": True, \"valet\": False}\", \"NoiseLevel\": \"u\"average\"\", \"RestaurantsPriceRange2\": \"2\", \"RestaurantsAttire\": \"\"casual\"\", \"RestaurantsReservations\": \"False\"}',\n",
       " '{\"Caters\": \"True\", \"DogsAllowed\": \"True\", \"RestaurantsPriceRange2\": \"2\", \"RestaurantsTakeOut\": \"True\", \"RestaurantsReservations\": \"True\", \"GoodForMeal\": \"{\"dessert\": False, \"latenight\": False, \"lunch\": False, \"dinner\": False, \"brunch\": False, \"breakfast\": False}\", \"BusinessParking\": \"{\"garage\": False, \"street\": True, \"validated\": False, \"lot\": False, \"valet\": False}\", \"WiFi\": \"u\"free\"\", \"BikeParking\": \"True\", \"GoodForDancing\": \"False\", \"ByAppointmentOnly\": \"False\", \"Music\": \"{\"dj\": False, \"background_music\": False, \"no_music\": False, \"jukebox\": False, \"live\": False, \"video\": False, \"karaoke\": False}\", \"CoatCheck\": \"False\", \"BestNights\": \"{\"monday\": False, \"tuesday\": False, \"friday\": False, \"wednesday\": False, \"thursday\": False, \"sunday\": False, \"saturday\": False}\", \"HasTV\": \"True\", \"GoodForKids\": \"True\", \"HappyHour\": \"True\", \"BusinessAcceptsCreditCards\": \"True\", \"RestaurantsGoodForGroups\": \"True\", \"BusinessAcceptsBitcoin\": \"False\", \"Alcohol\": \"u\"full_bar\"\", \"RestaurantsTableService\": \"True\", \"Smoking\": \"u\"outdoor\"\", \"WheelchairAccessible\": \"False\", \"Ambience\": \"{\"touristy\": False, \"hipster\": False, \"romantic\": False, \"divey\": False, \"intimate\": False, \"trendy\": False, \"upscale\": False, \"classy\": False, \"casual\": False}\", \"OutdoorSeating\": \"True\", \"RestaurantsDelivery\": \"None\"}',\n",
       " '{\"ByAppointmentOnly\": \"True\"}',\n",
       " '{\"RestaurantsAttire\": \"\"casual\"\", \"BusinessAcceptsCreditCards\": \"True\", \"RestaurantsGoodForGroups\": \"True\", \"BYOBCorkage\": \"\"no\"\", \"OutdoorSeating\": \"False\", \"RestaurantsPriceRange2\": \"2\", \"RestaurantsDelivery\": \"True\", \"GoodForKids\": \"True\", \"BusinessParking\": \"{\"garage\": False, \"street\": False, \"validated\": False, \"lot\": True, \"valet\": False}\", \"Caters\": \"True\", \"HasTV\": \"False\", \"RestaurantsTakeOut\": \"True\", \"WiFi\": \"u\"free\"\", \"BikeParking\": \"False\", \"RestaurantsTableService\": \"True\", \"BusinessAcceptsBitcoin\": \"False\", \"BYOB\": \"False\", \"Smoking\": \"u\"no\"\", \"ByAppointmentOnly\": \"False\", \"Ambience\": \"{\"touristy\": False, \"hipster\": False, \"romantic\": False, \"divey\": False, \"intimate\": False, \"trendy\": False, \"upscale\": False, \"classy\": True, \"casual\": True}\", \"GoodForMeal\": \"{u\"breakfast\": False, u\"brunch\": False, u\"lunch\": True, u\"dinner\": True, u\"latenight\": False, u\"dessert\": None}\", \"HappyHour\": \"True\", \"RestaurantsReservations\": \"True\", \"Corkage\": \"True\", \"Alcohol\": \"u\"full_bar\"\", \"NoiseLevel\": \"u\"average\"\", \"WheelchairAccessible\": \"False\", \"DogsAllowed\": \"True\"}',\n",
       " '{\"Alcohol\": \"u\"none\"\", \"Ambience\": \"{\"romantic\": False, \"intimate\": False, \"touristy\": False, \"hipster\": False, \"divey\": False, \"classy\": False, \"trendy\": False, \"upscale\": False, \"casual\": True}\", \"NoiseLevel\": \"u\"average\"\", \"GoodForKids\": \"True\", \"BusinessAcceptsCreditCards\": \"True\", \"RestaurantsTakeOut\": \"True\", \"RestaurantsGoodForGroups\": \"True\", \"RestaurantsDelivery\": \"False\", \"RestaurantsReservations\": \"False\", \"BikeParking\": \"True\", \"Caters\": \"True\", \"RestaurantsAttire\": \"u\"casual\"\", \"WheelchairAccessible\": \"True\", \"WiFi\": \"u\"no\"\", \"OutdoorSeating\": \"False\", \"HasTV\": \"True\", \"RestaurantsPriceRange2\": \"1\", \"BusinessParking\": \"{\"garage\": False, \"street\": True, \"validated\": False, \"lot\": True, \"valet\": False}\", \"RestaurantsTableService\": \"False\", \"BYOB\": \"True\", \"Corkage\": \"False\"}',\n",
       " '{\"RestaurantsGoodForGroups\": \"True\", \"GoodForKids\": \"True\", \"NoiseLevel\": \"u\"very_loud\"\", \"Smoking\": \"u\"outdoor\"\", \"CoatCheck\": \"False\", \"WiFi\": \"u\"no\"\", \"BestNights\": \"{\"monday\": False, \"tuesday\": False, \"friday\": False, \"wednesday\": False, \"thursday\": False, \"sunday\": False, \"saturday\": False}\", \"GoodForDancing\": \"True\", \"BikeParking\": \"True\", \"OutdoorSeating\": \"True\", \"Music\": \"{\"dj\": False, \"background_music\": False, \"no_music\": False, \"jukebox\": False, \"live\": True, \"video\": False, \"karaoke\": False}\", \"DogsAllowed\": \"True\", \"RestaurantsPriceRange2\": \"2\", \"BusinessAcceptsCreditCards\": \"True\", \"Ambience\": \"{\"touristy\": False, \"hipster\": False, \"romantic\": False, \"divey\": False, \"intimate\": False, \"trendy\": False, \"upscale\": False, \"classy\": False, \"casual\": False}\", \"BusinessParking\": \"{\"garage\": False, \"street\": True, \"validated\": False, \"lot\": False, \"valet\": False}\", \"HappyHour\": \"True\", \"Alcohol\": \"u\"full_bar\"\", \"HasTV\": \"False\"}',\n",
       " None,\n",
       " '{\"BusinessAcceptsCreditCards\": \"True\", \"RestaurantsPriceRange2\": \"1\", \"BikeParking\": \"True\", \"ByAppointmentOnly\": \"False\", \"BusinessParking\": \"{\"garage\": False, \"street\": True, \"validated\": False, \"lot\": False, \"valet\": False}\", \"AcceptsInsurance\": \"False\"}',\n",
       " '{\"BusinessAcceptsCreditCards\": \"True\", \"Caters\": \"False\", \"RestaurantsTakeOut\": \"True\", \"DogsAllowed\": \"False\", \"BusinessAcceptsBitcoin\": \"False\", \"WheelchairAccessible\": \"True\", \"BikeParking\": \"True\", \"RestaurantsDelivery\": \"False\", \"BusinessParking\": \"{\"garage\": False, \"street\": True, \"validated\": False, \"lot\": False, \"valet\": False}\"}',\n",
       " '{\"RestaurantsGoodForGroups\": \"True\", \"RestaurantsTakeOut\": \"True\", \"RestaurantsAttire\": \"u\"casual\"\", \"OutdoorSeating\": \"True\", \"RestaurantsDelivery\": \"False\", \"HasTV\": \"True\", \"Ambience\": \"{\"romantic\": False, \"intimate\": False, \"touristy\": False, \"hipster\": False, \"divey\": False, \"classy\": False, \"trendy\": False, \"upscale\": False, \"casual\": True}\", \"GoodForKids\": \"True\", \"Alcohol\": \"u\"full_bar\"\", \"RestaurantsReservations\": \"True\", \"BusinessAcceptsCreditCards\": \"True\", \"RestaurantsPriceRange2\": \"2\", \"BusinessParking\": \"{\"garage\": False, \"street\": False, \"validated\": False, \"lot\": True, \"valet\": False}\", \"Caters\": \"True\", \"HappyHour\": \"True\", \"NoiseLevel\": \"u\"loud\"\"}',\n",
       " '{\"BusinessAcceptsCreditCards\": \"True\", \"BikeParking\": \"True\", \"BusinessParking\": \"{\"garage\": False, \"street\": False, \"validated\": False, \"lot\": True, \"valet\": False}\", \"DogsAllowed\": \"True\", \"RestaurantsPriceRange2\": \"3\"}',\n",
       " '{\"ByAppointmentOnly\": \"False\", \"BusinessAcceptsCreditCards\": \"False\", \"GoodForKids\": \"True\", \"BikeParking\": \"True\", \"BusinessParking\": \"{\"garage\": True, \"street\": False, \"validated\": False, \"lot\": True, \"valet\": False}\"}',\n",
       " '{\"RestaurantsPriceRange2\": \"2\", \"BusinessParking\": \"{\"garage\": False, \"street\": False, \"validated\": False, \"lot\": False, \"valet\": False}\"}',\n",
       " '{\"BusinessAcceptsCreditCards\": \"True\"}',\n",
       " '{\"BusinessAcceptsCreditCards\": \"True\"}',\n",
       " None,\n",
       " '{\"RestaurantsPriceRange2\": \"1\", \"BusinessAcceptsCreditCards\": \"True\", \"HasTV\": \"True\", \"RestaurantsGoodForGroups\": \"True\", \"Ambience\": \"{\"touristy\": False, \"hipster\": False, \"romantic\": False, \"divey\": False, \"intimate\": False, \"trendy\": False, \"upscale\": False, \"classy\": False, \"casual\": False}\", \"RestaurantsReservations\": \"False\", \"GoodForKids\": \"False\", \"GoodForMeal\": \"{\"dessert\": False, \"latenight\": False, \"lunch\": False, \"dinner\": False, \"brunch\": False, \"breakfast\": False}\", \"RestaurantsDelivery\": \"True\", \"WiFi\": \"\"no\"\", \"RestaurantsAttire\": \"\"casual\"\", \"DogsAllowed\": \"False\", \"RestaurantsTakeOut\": \"True\"}',\n",
       " '{\"RestaurantsAttire\": \"u\"casual\"\", \"RestaurantsPriceRange2\": \"2\", \"BusinessAcceptsCreditCards\": \"True\", \"OutdoorSeating\": \"True\", \"GoodForKids\": \"True\", \"RestaurantsTakeOut\": \"True\", \"NoiseLevel\": \"u\"average\"\", \"RestaurantsGoodForGroups\": \"True\", \"WiFi\": \"u\"no\"\", \"Alcohol\": \"u\"full_bar\"\", \"RestaurantsReservations\": \"True\", \"Ambience\": \"{\"romantic\": False, \"intimate\": False, \"touristy\": False, \"hipster\": False, \"divey\": False, \"classy\": False, \"trendy\": False, \"upscale\": False, \"casual\": True}\", \"BusinessParking\": \"{\"garage\": False, \"street\": False, \"validated\": False, \"lot\": True, \"valet\": False}\", \"HasTV\": \"True\", \"RestaurantsDelivery\": \"False\"}',\n",
       " '{\"BusinessAcceptsCreditCards\": \"True\", \"BusinessAcceptsBitcoin\": \"False\"}',\n",
       " None,\n",
       " None,\n",
       " '{\"BusinessAcceptsCreditCards\": \"True\", \"BusinessParking\": \"{\"garage\": False, \"street\": False, \"validated\": False, \"lot\": False, \"valet\": False}\", \"RestaurantsPriceRange2\": \"1\"}',\n",
       " '{\"BusinessAcceptsCreditCards\": \"True\", \"RestaurantsPriceRange2\": \"2\", \"BikeParking\": \"False\", \"BusinessParking\": \"{\"garage\": False, \"street\": True, \"validated\": False, \"lot\": False, \"valet\": False}\", \"DriveThru\": \"None\"}',\n",
       " '{\"RestaurantsDelivery\": \"True\", \"HasTV\": \"True\", \"Caters\": \"True\", \"BikeParking\": \"True\", \"DogsAllowed\": \"True\", \"RestaurantsTakeOut\": \"True\", \"WheelchairAccessible\": \"True\", \"BusinessAcceptsCreditCards\": \"True\"}',\n",
       " '{\"BusinessParking\": \"{\"garage\": False, \"street\": True, \"validated\": False, \"lot\": True, \"valet\": False}\", \"RestaurantsTakeOut\": \"True\", \"RestaurantsTableService\": \"True\", \"HappyHour\": \"True\", \"GoodForDancing\": \"False\", \"DogsAllowed\": \"True\", \"Smoking\": \"u\"outdoor\"\", \"WheelchairAccessible\": \"True\", \"RestaurantsReservations\": \"False\", \"GoodForMeal\": \"{\"dessert\": False, \"latenight\": True, \"lunch\": False, \"dinner\": True, \"brunch\": False, \"breakfast\": False}\", \"RestaurantsGoodForGroups\": \"True\", \"WiFi\": \"u\"free\"\", \"RestaurantsDelivery\": \"True\", \"CoatCheck\": \"False\", \"Music\": \"{\"dj\": False, \"background_music\": False, \"no_music\": False, \"jukebox\": False, \"live\": False, \"video\": False, \"karaoke\": False}\", \"OutdoorSeating\": \"True\", \"Caters\": \"False\", \"RestaurantsAttire\": \"\"casual\"\", \"BikeParking\": \"True\", \"Alcohol\": \"u\"full_bar\"\", \"Ambience\": \"{\"touristy\": False, \"hipster\": None, \"romantic\": False, \"divey\": False, \"intimate\": False, \"trendy\": None, \"upscale\": False, \"classy\": False, \"casual\": True}\", \"BestNights\": \"{\"monday\": False, \"tuesday\": False, \"friday\": True, \"wednesday\": False, \"thursday\": False, \"sunday\": False, \"saturday\": True}\", \"RestaurantsPriceRange2\": \"2\", \"GoodForKids\": \"False\", \"BusinessAcceptsCreditCards\": \"True\", \"HasTV\": \"True\", \"NoiseLevel\": \"u\"average\"\"}',\n",
       " None,\n",
       " '{\"BusinessAcceptsBitcoin\": \"False\", \"BusinessAcceptsCreditCards\": \"True\", \"ByAppointmentOnly\": \"True\"}',\n",
       " '{\"BikeParking\": \"False\", \"RestaurantsReservations\": \"True\", \"HasTV\": \"True\", \"Alcohol\": \"\"full_bar\"\", \"BusinessAcceptsCreditCards\": \"True\", \"RestaurantsPriceRange2\": \"3\", \"RestaurantsGoodForGroups\": \"True\", \"GoodForKids\": \"False\", \"BusinessParking\": \"{\"garage\": False, \"street\": True, \"validated\": False, \"lot\": False, \"valet\": True}\", \"NoiseLevel\": \"u\"average\"\", \"RestaurantsTakeOut\": \"True\", \"WiFi\": \"u\"free\"\", \"Caters\": \"True\", \"OutdoorSeating\": \"True\", \"DogsAllowed\": \"False\", \"Ambience\": \"{\"romantic\": False, \"intimate\": False, \"classy\": True, \"hipster\": False, \"divey\": False, \"touristy\": False, \"trendy\": False, \"upscale\": False, \"casual\": False}\", \"RestaurantsAttire\": \"\"dressy\"\", \"RestaurantsDelivery\": \"None\", \"GoodForMeal\": \"{\"dessert\": False, \"latenight\": False, \"lunch\": False, \"dinner\": True, \"brunch\": False, \"breakfast\": False}\"}',\n",
       " '{\"BusinessAcceptsCreditCards\": \"True\", \"WiFi\": \"u\"free\"\"}',\n",
       " '{\"RestaurantsGoodForGroups\": \"True\", \"RestaurantsAttire\": \"u\"casual\"\", \"GoodForKids\": \"True\", \"Alcohol\": \"u\"beer_and_wine\"\", \"BusinessParking\": \"{\"garage\": False, \"street\": False, \"validated\": False, \"lot\": True, \"valet\": False}\", \"BusinessAcceptsCreditCards\": \"True\", \"RestaurantsReservations\": \"False\", \"RestaurantsTakeOut\": \"True\", \"BikeParking\": \"True\", \"HasTV\": \"True\", \"NoiseLevel\": \"u\"average\"\", \"RestaurantsDelivery\": \"False\", \"OutdoorSeating\": \"False\", \"WiFi\": \"u\"free\"\", \"RestaurantsPriceRange2\": \"1\", \"HappyHour\": \"True\", \"DogsAllowed\": \"False\", \"Ambience\": \"{\"touristy\": False, \"hipster\": False, \"romantic\": False, \"divey\": None, \"intimate\": False, \"trendy\": False, \"upscale\": False, \"classy\": False, \"casual\": True}\", \"GoodForMeal\": \"{\"dessert\": None, \"latenight\": False, \"lunch\": True, \"dinner\": True, \"brunch\": False, \"breakfast\": None}\", \"Caters\": \"False\"}',\n",
       " '{\"RestaurantsPriceRange2\": \"2\", \"BusinessAcceptsCreditCards\": \"True\", \"BusinessParking\": \"{\"garage\": False, \"street\": True, \"validated\": False, \"lot\": True, \"valet\": False}\", \"BikeParking\": \"True\"}',\n",
       " '{\"BusinessAcceptsCreditCards\": \"True\"}',\n",
       " '{\"RestaurantsPriceRange2\": \"2\", \"RestaurantsGoodForGroups\": \"True\", \"GoodForKids\": \"True\", \"RestaurantsTableService\": \"True\", \"BusinessParking\": \"{\"garage\": False, \"street\": False, \"validated\": False, \"lot\": True, \"valet\": True}\", \"RestaurantsDelivery\": \"False\", \"RestaurantsTakeOut\": \"True\", \"DogsAllowed\": \"False\", \"RestaurantsAttire\": \"\"casual\"\", \"Alcohol\": \"u\"full_bar\"\", \"GoodForMeal\": \"{\"dessert\": False, \"latenight\": False, \"lunch\": True, \"dinner\": True, \"brunch\": False, \"breakfast\": False}\", \"BusinessAcceptsCreditCards\": \"True\", \"OutdoorSeating\": \"False\", \"WiFi\": \"u\"free\"\", \"BusinessAcceptsBitcoin\": \"False\", \"HappyHour\": \"True\", \"BikeParking\": \"True\", \"Caters\": \"True\", \"Ambience\": \"{\"touristy\": False, \"hipster\": False, \"romantic\": False, \"divey\": False, \"intimate\": False, \"trendy\": True, \"upscale\": False, \"classy\": False, \"casual\": True}\", \"HasTV\": \"True\", \"NoiseLevel\": \"u\"average\"\", \"WheelchairAccessible\": \"True\", \"RestaurantsReservations\": \"True\"}',\n",
       " None,\n",
       " None,\n",
       " '{\"BusinessAcceptsCreditCards\": \"True\", \"RestaurantsTakeOut\": \"True\", \"HappyHour\": \"True\", \"RestaurantsGoodForGroups\": \"True\", \"OutdoorSeating\": \"True\", \"NoiseLevel\": \"u\"average\"\", \"GoodForKids\": \"True\", \"RestaurantsPriceRange2\": \"2\", \"RestaurantsReservations\": \"False\", \"RestaurantsAttire\": \"\"casual\"\", \"GoodForMeal\": \"{\"dessert\": False, \"latenight\": False, \"lunch\": False, \"dinner\": False, \"brunch\": False, \"breakfast\": False}\", \"Ambience\": \"{u\"divey\": False, u\"hipster\": None, u\"casual\": True, u\"touristy\": False, u\"trendy\": False, u\"intimate\": False, u\"romantic\": False, u\"classy\": None, u\"upscale\": False}\", \"RestaurantsDelivery\": \"True\", \"BusinessParking\": \"{u\"valet\": False, u\"garage\": False, u\"street\": None, u\"lot\": True, u\"validated\": False}\"}',\n",
       " '{\"Ambience\": \"{\"romantic\": False, \"intimate\": False, \"classy\": False, \"hipster\": False, \"divey\": False, \"touristy\": False, \"trendy\": True, \"upscale\": False, \"casual\": True}\", \"WiFi\": \"u\"free\"\", \"Alcohol\": \"u\"beer_and_wine\"\", \"RestaurantsGoodForGroups\": \"True\", \"RestaurantsReservations\": \"False\", \"GoodForMeal\": \"{\"dessert\": False, \"latenight\": False, \"lunch\": True, \"dinner\": True, \"brunch\": False, \"breakfast\": False}\", \"RestaurantsAttire\": \"u\"casual\"\", \"Caters\": \"False\", \"GoodForKids\": \"True\", \"HasTV\": \"False\", \"DriveThru\": \"False\", \"OutdoorSeating\": \"True\", \"BusinessParking\": \"{\"garage\": False, \"street\": True, \"validated\": False, \"lot\": False, \"valet\": False}\", \"RestaurantsTableService\": \"False\", \"ByAppointmentOnly\": \"False\", \"RestaurantsPriceRange2\": \"1\", \"DogsAllowed\": \"False\", \"BusinessAcceptsCreditCards\": \"True\", \"NoiseLevel\": \"\"average\"\", \"BikeParking\": \"True\", \"RestaurantsTakeOut\": \"True\", \"RestaurantsDelivery\": \"True\", \"WheelchairAccessible\": \"True\"}',\n",
       " '{\"GoodForKids\": \"True\", \"BusinessAcceptsCreditCards\": \"True\", \"DogsAllowed\": \"False\", \"WiFi\": \"u\"free\"\"}',\n",
       " None,\n",
       " '{\"Ambience\": \"{\"romantic\": False, \"intimate\": False, \"classy\": False, \"hipster\": False, \"divey\": False, \"touristy\": False, \"trendy\": False, \"upscale\": False, \"casual\": False}\", \"Alcohol\": \"\"full_bar\"\", \"BusinessAcceptsCreditCards\": \"True\", \"RestaurantsGoodForGroups\": \"True\", \"RestaurantsTakeOut\": \"True\", \"RestaurantsAttire\": \"u\"casual\"\", \"RestaurantsPriceRange2\": \"2\", \"GoodForKids\": \"False\", \"NoiseLevel\": \"\"average\"\", \"RestaurantsDelivery\": \"False\", \"WiFi\": \"u\"free\"\", \"HasTV\": \"True\", \"RestaurantsReservations\": \"True\", \"OutdoorSeating\": \"True\", \"BusinessParking\": \"{\"garage\": False, \"street\": False, \"validated\": False, \"lot\": True, \"valet\": False}\", \"BikeParking\": \"True\"}',\n",
       " '{\"ByAppointmentOnly\": \"True\", \"AcceptsInsurance\": \"True\", \"BusinessAcceptsCreditCards\": \"True\"}',\n",
       " '{\"OutdoorSeating\": \"True\", \"RestaurantsPriceRange2\": \"1\", \"Caters\": \"False\", \"BikeParking\": \"True\", \"WiFi\": \"\"free\"\", \"RestaurantsTakeOut\": \"True\", \"BusinessAcceptsCreditCards\": \"True\", \"BusinessParking\": \"{\"garage\": False, \"street\": False, \"validated\": False, \"lot\": False, \"valet\": False}\", \"WheelchairAccessible\": \"True\"}',\n",
       " '{\"RestaurantsGoodForGroups\": \"True\", \"BusinessAcceptsCreditCards\": \"True\", \"OutdoorSeating\": \"False\", \"HasTV\": \"True\", \"RestaurantsTakeOut\": \"True\", \"Ambience\": \"{\"romantic\": False, \"intimate\": False, \"touristy\": False, \"hipster\": False, \"divey\": False, \"classy\": False, \"trendy\": False, \"upscale\": False, \"casual\": False}\", \"WiFi\": \"\"free\"\", \"RestaurantsAttire\": \"u\"casual\"\", \"RestaurantsPriceRange2\": \"2\", \"NoiseLevel\": \"u\"average\"\", \"RestaurantsDelivery\": \"False\", \"GoodForKids\": \"False\", \"Music\": \"{\"dj\": False, \"background_music\": False, \"no_music\": False, \"jukebox\": False, \"live\": True, \"video\": False, \"karaoke\": False}\", \"BestNights\": \"{\"monday\": False, \"tuesday\": False, \"friday\": True, \"wednesday\": False, \"thursday\": True, \"sunday\": False, \"saturday\": True}\", \"BikeParking\": \"True\", \"RestaurantsReservations\": \"False\", \"BusinessParking\": \"{\"garage\": False, \"street\": False, \"validated\": False, \"lot\": True, \"valet\": False}\", \"Alcohol\": \"u\"full_bar\"\"}',\n",
       " None,\n",
       " '{\"BusinessParking\": \"{\"garage\": False, \"street\": True, \"validated\": False, \"lot\": False, \"valet\": False}\", \"WheelchairAccessible\": \"True\", \"BikeParking\": \"True\", \"Caters\": \"False\", \"OutdoorSeating\": \"False\", \"Alcohol\": \"u\"beer_and_wine\"\", \"WiFi\": \"u\"free\"\", \"RestaurantsReservations\": \"True\", \"HasTV\": \"True\", \"RestaurantsTakeOut\": \"True\", \"DogsAllowed\": \"False\", \"RestaurantsTableService\": \"True\", \"HappyHour\": \"True\", \"RestaurantsDelivery\": \"True\"}',\n",
       " '{\"WiFi\": \"u\"free\"\", \"GoodForKids\": \"True\", \"BusinessParking\": \"{\"garage\": False, \"street\": False, \"validated\": False, \"lot\": False, \"valet\": False}\", \"RestaurantsPriceRange2\": \"1\", \"RestaurantsTakeOut\": \"True\", \"RestaurantsDelivery\": \"True\", \"DriveThru\": \"True\"}',\n",
       " None,\n",
       " '{\"WheelchairAccessible\": \"True\", \"BikeParking\": \"False\", \"BusinessAcceptsBitcoin\": \"False\", \"BusinessAcceptsCreditCards\": \"True\", \"ByAppointmentOnly\": \"False\"}',\n",
       " '{\"ByAppointmentOnly\": \"True\", \"BusinessParking\": \"{\"garage\": False, \"street\": False, \"validated\": False, \"lot\": False, \"valet\": False}\", \"RestaurantsPriceRange2\": \"3\", \"BusinessAcceptsCreditCards\": \"True\"}',\n",
       " '{\"OutdoorSeating\": \"False\", \"Alcohol\": \"u\"none\"\", \"RestaurantsTakeOut\": \"True\", \"WiFi\": \"u\"no\"\", \"RestaurantsPriceRange2\": \"1\", \"NoiseLevel\": \"u\"average\"\", \"RestaurantsReservations\": \"False\", \"BusinessAcceptsCreditCards\": \"True\", \"GoodForKids\": \"False\", \"Ambience\": \"{\"touristy\": False, \"hipster\": False, \"romantic\": False, \"divey\": False, \"intimate\": False, \"trendy\": False, \"upscale\": False, \"classy\": True, \"casual\": False}\", \"BikeParking\": \"True\", \"RestaurantsGoodForGroups\": \"False\", \"HasTV\": \"True\", \"RestaurantsAttire\": \"u\"casual\"\", \"RestaurantsDelivery\": \"True\", \"BusinessParking\": \"{\"garage\": None, \"street\": True, \"validated\": None, \"lot\": False, \"valet\": False}\"}',\n",
       " '{\"RestaurantsReservations\": \"False\", \"OutdoorSeating\": \"True\", \"RestaurantsGoodForGroups\": \"True\", \"GoodForKids\": \"True\", \"RestaurantsAttire\": \"\"casual\"\", \"RestaurantsTakeOut\": \"True\", \"Caters\": \"False\", \"NoiseLevel\": \"u\"average\"\", \"RestaurantsDelivery\": \"True\", \"BusinessParking\": \"{\"garage\": False, \"street\": True, \"validated\": False, \"lot\": False, \"valet\": False}\", \"BusinessAcceptsCreditCards\": \"True\", \"RestaurantsPriceRange2\": \"1\", \"Alcohol\": \"u\"none\"\"}',\n",
       " '{\"BusinessAcceptsCreditCards\": \"True\", \"BusinessParking\": \"{\"garage\": False, \"street\": True, \"validated\": False, \"lot\": True, \"valet\": False}\", \"RestaurantsPriceRange2\": \"1\", \"RestaurantsDelivery\": \"True\", \"Caters\": \"False\", \"RestaurantsTakeOut\": \"True\", \"WheelchairAccessible\": \"False\", \"BikeParking\": \"False\", \"DogsAllowed\": \"False\"}',\n",
       " '{\"BusinessParking\": \"{\"garage\": False, \"street\": False, \"validated\": False, \"lot\": False, \"valet\": False}\", \"RestaurantsPriceRange2\": \"4\", \"BusinessAcceptsCreditCards\": \"True\", \"RestaurantsTakeOut\": \"True\", \"RestaurantsDelivery\": \"False\"}',\n",
       " '{\"WheelchairAccessible\": \"True\", \"BusinessParking\": \"{\"garage\": False, \"street\": False, \"validated\": False, \"lot\": True, \"valet\": False}\", \"RestaurantsPriceRange2\": \"2\", \"BusinessAcceptsCreditCards\": \"True\", \"DogsAllowed\": \"True\", \"BikeParking\": \"True\"}',\n",
       " '{\"RestaurantsPriceRange2\": \"2\", \"HasTV\": \"True\", \"RestaurantsAttire\": \"u\"casual\"\", \"NoiseLevel\": \"u\"quiet\"\", \"BusinessAcceptsCreditCards\": \"True\", \"RestaurantsTakeOut\": \"True\", \"Caters\": \"True\", \"WiFi\": \"u\"no\"\", \"Alcohol\": \"u\"none\"\", \"RestaurantsGoodForGroups\": \"True\", \"Ambience\": \"{\"romantic\": False, \"intimate\": False, \"touristy\": False, \"hipster\": False, \"divey\": False, \"classy\": False, \"trendy\": False, \"upscale\": False, \"casual\": True}\", \"BusinessParking\": \"{\"garage\": False, \"street\": False, \"validated\": False, \"lot\": True, \"valet\": False}\", \"RestaurantsReservations\": \"True\", \"GoodForKids\": \"True\", \"OutdoorSeating\": \"True\", \"GoodForMeal\": \"{\"dessert\": False, \"latenight\": False, \"lunch\": True, \"dinner\": False, \"brunch\": False, \"breakfast\": False}\", \"BikeParking\": \"False\", \"RestaurantsDelivery\": \"False\"}',\n",
       " '{\"Ambience\": \"{\"touristy\": False, \"hipster\": False, \"romantic\": False, \"intimate\": False, \"trendy\": False, \"upscale\": False, \"classy\": True, \"casual\": False}\", \"Alcohol\": \"u\"none\"\", \"WiFi\": \"u\"free\"\", \"GoodForMeal\": \"{\"dessert\": False, \"latenight\": False, \"lunch\": False, \"dinner\": False, \"brunch\": False, \"breakfast\": False}\", \"BusinessParking\": \"{\"garage\": False, \"street\": False, \"validated\": False, \"lot\": False, \"valet\": False}\", \"HasTV\": \"True\"}',\n",
       " '{\"BusinessAcceptsCreditCards\": \"True\", \"RestaurantsReservations\": \"True\", \"HasTV\": \"False\", \"GoodForMeal\": \"{\"dessert\": True, \"latenight\": None, \"lunch\": True, \"dinner\": True, \"brunch\": True, \"breakfast\": None}\", \"RestaurantsGoodForGroups\": \"True\", \"BusinessParking\": \"{\"garage\": False, \"street\": True, \"validated\": False, \"lot\": False, \"valet\": False}\", \"RestaurantsAttire\": \"u\"casual\"\", \"NoiseLevel\": \"u\"average\"\", \"Ambience\": \"{\"touristy\": False, \"hipster\": False, \"romantic\": True, \"divey\": False, \"intimate\": True, \"trendy\": True, \"upscale\": False, \"classy\": True, \"casual\": False}\", \"Caters\": \"False\", \"DogsAllowed\": \"False\", \"RestaurantsTableService\": \"True\", \"Alcohol\": \"u\"full_bar\"\", \"BikeParking\": \"True\", \"HappyHour\": \"True\", \"RestaurantsTakeOut\": \"True\", \"WiFi\": \"\"no\"\", \"GoodForKids\": \"False\", \"RestaurantsDelivery\": \"True\", \"OutdoorSeating\": \"True\", \"RestaurantsPriceRange2\": \"2\"}',\n",
       " '{\"RestaurantsGoodForGroups\": \"True\", \"Ambience\": \"{\"romantic\": False, \"intimate\": False, \"classy\": False, \"hipster\": False, \"divey\": False, \"touristy\": False, \"trendy\": False, \"upscale\": False, \"casual\": False}\", \"GoodForKids\": \"True\", \"RestaurantsPriceRange2\": \"1\", \"RestaurantsDelivery\": \"True\", \"NoiseLevel\": \"\"very_loud\"\", \"RestaurantsAttire\": \"\"casual\"\", \"RestaurantsReservations\": \"False\", \"WiFi\": \"\"no\"\", \"RestaurantsTakeOut\": \"True\", \"BusinessAcceptsCreditCards\": \"True\"}',\n",
       " '{\"BusinessAcceptsCreditCards\": \"True\", \"RestaurantsPriceRange2\": \"2\", \"BikeParking\": \"False\", \"ByAppointmentOnly\": \"True\", \"BusinessParking\": \"{\"garage\": False, \"street\": False, \"validated\": False, \"lot\": False, \"valet\": False}\"}',\n",
       " '{\"ByAppointmentOnly\": \"True\", \"BusinessAcceptsCreditCards\": \"True\"}',\n",
       " '{\"GoodForKids\": \"True\", \"RestaurantsGoodForGroups\": \"True\", \"RestaurantsTakeOut\": \"True\", \"OutdoorSeating\": \"True\", \"RestaurantsReservations\": \"False\", \"BusinessParking\": \"{\"garage\": False, \"street\": False, \"validated\": False, \"lot\": False, \"valet\": False}\", \"BusinessAcceptsCreditCards\": \"True\", \"RestaurantsPriceRange2\": \"1\", \"BikeParking\": \"True\", \"RestaurantsAttire\": \"\"casual\"\"}',\n",
       " '{\"BikeParking\": \"True\", \"RestaurantsPriceRange2\": \"2\", \"BusinessParking\": \"{\"garage\": False, \"street\": False, \"validated\": False, \"lot\": True, \"valet\": False}\", \"GoodForKids\": \"True\", \"ByAppointmentOnly\": \"True\", \"HairSpecializesIn\": \"{\"straightperms\": True, \"coloring\": True, \"extensions\": False, \"africanamerican\": False, \"curly\": True, \"kids\": False, \"perms\": True, \"asian\": False}\", \"BusinessAcceptsCreditCards\": \"True\", \"WiFi\": \"u\"free\"\"}',\n",
       " '{\"RestaurantsTakeOut\": \"True\", \"BusinessParking\": \"{u\"valet\": False, u\"garage\": False, u\"street\": False, u\"lot\": True, u\"validated\": False}\"}',\n",
       " '{\"BusinessAcceptsBitcoin\": \"False\", \"BusinessAcceptsCreditCards\": \"True\", \"ByAppointmentOnly\": \"True\"}',\n",
       " '{\"AcceptsInsurance\": \"True\", \"ByAppointmentOnly\": \"False\", \"BusinessAcceptsCreditCards\": \"True\"}',\n",
       " '{\"Caters\": \"True\", \"BikeParking\": \"True\", \"Alcohol\": \"u\"none\"\", \"RestaurantsDelivery\": \"True\", \"RestaurantsTakeOut\": \"True\", \"WheelchairAccessible\": \"True\", \"BusinessAcceptsCreditCards\": \"True\", \"OutdoorSeating\": \"True\", \"BusinessParking\": \"{\"garage\": False, \"street\": False, \"validated\": False, \"lot\": True, \"valet\": False}\"}',\n",
       " '{\"BikeParking\": \"True\", \"BusinessParking\": \"{\"garage\": False, \"street\": True, \"validated\": False, \"lot\": False, \"valet\": False}\", \"GoodForKids\": \"True\"}',\n",
       " '{\"RestaurantsGoodForGroups\": \"True\", \"RestaurantsPriceRange2\": \"2\", \"GoodForKids\": \"True\", \"OutdoorSeating\": \"False\", \"RestaurantsTakeOut\": \"True\", \"RestaurantsAttire\": \"u\"casual\"\", \"RestaurantsDelivery\": \"False\", \"RestaurantsReservations\": \"True\", \"BusinessAcceptsCreditCards\": \"True\", \"BusinessParking\": \"{\"garage\": False, \"street\": False, \"validated\": False, \"lot\": False, \"valet\": False}\", \"Caters\": \"True\", \"Alcohol\": \"\"beer_and_wine\"\", \"NoiseLevel\": \"u\"quiet\"\", \"Ambience\": \"{\"romantic\": False, \"intimate\": False, \"classy\": False, \"hipster\": False, \"divey\": False, \"touristy\": False, \"trendy\": False, \"upscale\": False, \"casual\": True}\", \"HasTV\": \"True\", \"BikeParking\": \"True\", \"WiFi\": \"\"paid\"\"}',\n",
       " '{\"BusinessParking\": \"{\"garage\": False, \"street\": False, \"validated\": False, \"lot\": True, \"valet\": False}\", \"BikeParking\": \"True\", \"RestaurantsPriceRange2\": \"2\", \"BusinessAcceptsCreditCards\": \"True\", \"WiFi\": \"u\"free\"\"}',\n",
       " '{\"BusinessAcceptsBitcoin\": \"False\", \"Alcohol\": \"u\"full_bar\"\", \"RestaurantsPriceRange2\": \"2\", \"GoodForDancing\": \"True\", \"HappyHour\": \"True\", \"WiFi\": \"\"free\"\", \"RestaurantsGoodForGroups\": \"True\", \"BusinessParking\": \"{\"garage\": False, \"street\": True, \"validated\": False, \"lot\": False, \"valet\": False}\", \"RestaurantsReservations\": \"False\", \"GoodForKids\": \"True\", \"CoatCheck\": \"False\", \"HasTV\": \"False\", \"Music\": \"{\"dj\": False, \"background_music\": False, \"no_music\": False, \"jukebox\": False, \"live\": True, \"video\": False, \"karaoke\": False}\", \"NoiseLevel\": \"u\"average\"\", \"BusinessAcceptsCreditCards\": \"True\", \"OutdoorSeating\": \"False\", \"Smoking\": \"u\"outdoor\"\", \"BikeParking\": \"True\", \"BestNights\": \"{\"monday\": False, \"tuesday\": False, \"friday\": True, \"wednesday\": True, \"thursday\": False, \"sunday\": False, \"saturday\": True}\", \"WheelchairAccessible\": \"True\", \"Ambience\": \"{\"touristy\": False, \"hipster\": False, \"romantic\": False, \"divey\": False, \"intimate\": False, \"trendy\": True, \"upscale\": True, \"classy\": True, \"casual\": True}\"}',\n",
       " '{\"RestaurantsPriceRange2\": \"2\", \"RestaurantsGoodForGroups\": \"True\", \"GoodForKids\": \"True\", \"BusinessParking\": \"{\"garage\": False, \"street\": True, \"validated\": False, \"lot\": False, \"valet\": False}\", \"RestaurantsTakeOut\": \"True\", \"OutdoorSeating\": \"True\", \"RestaurantsReservations\": \"True\", \"RestaurantsAttire\": \"u\"casual\"\", \"Alcohol\": \"u\"none\"\", \"BusinessAcceptsCreditCards\": \"True\", \"BikeParking\": \"False\", \"HasTV\": \"True\", \"NoiseLevel\": \"u\"average\"\", \"Caters\": \"False\", \"WiFi\": \"\"no\"\", \"GoodForMeal\": \"{\"dessert\": False, \"latenight\": False, \"lunch\": True, \"dinner\": True, \"brunch\": True, \"breakfast\": False}\", \"Ambience\": \"{\"romantic\": False, \"intimate\": False, \"touristy\": False, \"hipster\": False, \"divey\": False, \"classy\": False, \"trendy\": False, \"upscale\": False, \"casual\": True}\", \"RestaurantsDelivery\": \"None\"}',\n",
       " '{\"RestaurantsAttire\": \"\"casual\"\", \"NoiseLevel\": \"u\"quiet\"\", \"Ambience\": \"{\"romantic\": False, \"intimate\": False, \"touristy\": False, \"hipster\": False, \"divey\": False, \"classy\": False, \"trendy\": False, \"upscale\": False, \"casual\": False}\", \"Alcohol\": \"u\"beer_and_wine\"\", \"Corkage\": \"False\", \"RestaurantsPriceRange2\": \"2\", \"GoodForKids\": \"True\", \"HasTV\": \"True\", \"RestaurantsTakeOut\": \"True\", \"RestaurantsGoodForGroups\": \"True\", \"RestaurantsDelivery\": \"False\", \"BusinessParking\": \"{\"garage\": False, \"street\": False, \"validated\": False, \"lot\": True, \"valet\": False}\", \"WiFi\": \"u\"no\"\", \"BusinessAcceptsCreditCards\": \"True\", \"RestaurantsReservations\": \"True\", \"OutdoorSeating\": \"True\", \"BYOBCorkage\": \"\"yes_free\"\"}',\n",
       " '{\"BusinessAcceptsCreditCards\": \"False\", \"ByAppointmentOnly\": \"False\", \"RestaurantsPriceRange2\": \"1\", \"BusinessParking\": \"{\"garage\": False, \"street\": False, \"validated\": False, \"lot\": False, \"valet\": False}\", \"BikeParking\": \"True\"}',\n",
       " '{\"RestaurantsPriceRange2\": \"2\", \"GoodForKids\": \"False\", \"BikeParking\": \"True\", \"ByAppointmentOnly\": \"False\", \"BusinessAcceptsCreditCards\": \"True\", \"BusinessParking\": \"{\"garage\": False, \"street\": True, \"validated\": False, \"lot\": False, \"valet\": False}\"}',\n",
       " '{\"GoodForKids\": \"True\", \"DogsAllowed\": \"True\", \"BusinessParking\": \"{\"garage\": False, \"street\": False, \"validated\": False, \"lot\": False, \"valet\": False}\", \"BikeParking\": \"True\"}',\n",
       " '{\"BusinessAcceptsCreditCards\": \"True\", \"DogsAllowed\": \"False\", \"WiFi\": \"\"free\"\", \"HappyHour\": \"True\", \"Caters\": \"True\", \"GoodForKids\": \"True\", \"WheelchairAccessible\": \"True\", \"RestaurantsAttire\": \"\"casual\"\", \"NoiseLevel\": \"u\"average\"\", \"Music\": \"{\"dj\": False, \"background_music\": False, \"no_music\": False, \"jukebox\": False, \"live\": None, \"video\": False, \"karaoke\": False}\", \"RestaurantsPriceRange2\": \"2\", \"GoodForDancing\": \"False\", \"RestaurantsDelivery\": \"True\", \"RestaurantsReservations\": \"True\", \"BikeParking\": \"False\", \"RestaurantsTakeOut\": \"True\", \"Smoking\": \"u\"no\"\", \"Alcohol\": \"u\"full_bar\"\", \"RestaurantsTableService\": \"True\", \"BestNights\": \"{\"monday\": False, \"tuesday\": False, \"friday\": True, \"wednesday\": True, \"thursday\": False, \"sunday\": False, \"saturday\": True}\", \"OutdoorSeating\": \"True\", \"RestaurantsGoodForGroups\": \"True\", \"CoatCheck\": \"False\", \"HasTV\": \"True\", \"GoodForMeal\": \"{\"dessert\": True, \"latenight\": None, \"lunch\": True, \"dinner\": True, \"brunch\": True, \"breakfast\": None}\", \"Ambience\": \"{u\"divey\": False, u\"hipster\": None, u\"casual\": True, u\"touristy\": False, u\"trendy\": True, u\"intimate\": None, u\"romantic\": False, u\"classy\": None, u\"upscale\": None}\", \"Corkage\": \"True\", \"BusinessParking\": \"{\"garage\": False, \"street\": False, \"validated\": False, \"lot\": True, \"valet\": False}\"}',\n",
       " '{\"RestaurantsTakeOut\": \"True\", \"RestaurantsReservations\": \"False\", \"GoodForKids\": \"True\", \"RestaurantsDelivery\": \"True\", \"BusinessAcceptsCreditCards\": \"True\", \"OutdoorSeating\": \"False\", \"RestaurantsAttire\": \"\"casual\"\", \"RestaurantsGoodForGroups\": \"True\", \"BusinessParking\": \"{\"garage\": False, \"street\": False, \"validated\": False, \"lot\": True, \"valet\": False}\", \"RestaurantsPriceRange2\": \"1\"}',\n",
       " '{\"BusinessAcceptsCreditCards\": \"True\"}',\n",
       " '{\"RestaurantsDelivery\": \"False\", \"Ambience\": \"{\"touristy\": False, \"hipster\": False, \"romantic\": False, \"divey\": False, \"intimate\": False, \"trendy\": False, \"upscale\": False, \"classy\": False, \"casual\": False}\", \"BusinessParking\": \"{\"garage\": False, \"street\": False, \"validated\": False, \"lot\": False, \"valet\": False}\", \"RestaurantsReservations\": \"False\", \"WiFi\": \"u\"free\"\", \"OutdoorSeating\": \"True\"}',\n",
       " '{\"WheelchairAccessible\": \"False\", \"RestaurantsTakeOut\": \"True\", \"BikeParking\": \"True\", \"RestaurantsDelivery\": \"True\", \"BusinessAcceptsCreditCards\": \"True\", \"Caters\": \"True\"}',\n",
       " '{\"BusinessAcceptsCreditCards\": \"True\", \"BusinessParking\": \"{\"garage\": False, \"street\": False, \"validated\": False, \"lot\": False, \"valet\": False}\", \"RestaurantsPriceRange2\": \"2\", \"AcceptsInsurance\": \"False\", \"BikeParking\": \"True\", \"ByAppointmentOnly\": \"False\"}',\n",
       " '{\"BusinessParking\": \"{\"garage\": False, \"street\": False, \"validated\": False, \"lot\": False, \"valet\": False}\", \"GoodForKids\": \"False\", \"ByAppointmentOnly\": \"False\", \"BusinessAcceptsCreditCards\": \"True\", \"BikeParking\": \"True\"}',\n",
       " None,\n",
       " '{\"BusinessAcceptsCreditCards\": \"True\", \"AcceptsInsurance\": \"True\"}',\n",
       " '{\"BusinessAcceptsCreditCards\": \"True\", \"ByAppointmentOnly\": \"True\", \"AcceptsInsurance\": \"True\"}',\n",
       " '{\"Music\": \"{\"dj\": False, \"background_music\": False, \"no_music\": False, \"jukebox\": False, \"live\": False, \"video\": False, \"karaoke\": False}\", \"BestNights\": \"{\"monday\": False, \"tuesday\": False, \"friday\": False, \"wednesday\": False, \"thursday\": False, \"sunday\": False, \"saturday\": False}\", \"Ambience\": \"{\"touristy\": False, \"hipster\": False, \"romantic\": False, \"divey\": False, \"intimate\": False, \"trendy\": False, \"upscale\": False, \"classy\": False, \"casual\": False}\", \"RestaurantsDelivery\": \"True\", \"BikeParking\": \"True\", \"GoodForMeal\": \"{\"dessert\": False, \"latenight\": False, \"lunch\": False, \"dinner\": False, \"brunch\": False, \"breakfast\": False}\", \"CoatCheck\": \"False\", \"BusinessAcceptsCreditCards\": \"True\", \"Smoking\": \"u\"no\"\", \"BusinessParking\": \"{\"garage\": False, \"street\": False, \"validated\": False, \"lot\": False, \"valet\": False}\", \"RestaurantsTakeOut\": \"True\", \"HasTV\": \"True\", \"RestaurantsReservations\": \"False\", \"OutdoorSeating\": \"True\", \"Alcohol\": \"u\"beer_and_wine\"\", \"WheelchairAccessible\": \"True\", \"WiFi\": \"u\"free\"\", \"Caters\": \"True\", \"BYOB\": \"False\"}',\n",
       " '{\"BikeParking\": \"False\", \"BusinessParking\": \"None\", \"WheelchairAccessible\": \"True\", \"BusinessAcceptsCreditCards\": \"True\"}',\n",
       " '{\"Alcohol\": \"\"beer_and_wine\"\", \"WiFi\": \"u\"free\"\", \"RestaurantsTableService\": \"True\", \"RestaurantsAttire\": \"\"casual\"\", \"WheelchairAccessible\": \"True\", \"HasTV\": \"True\", \"Ambience\": \"{\"touristy\": False, \"hipster\": False, \"romantic\": False, \"divey\": False, \"intimate\": False, \"trendy\": False, \"upscale\": False, \"classy\": False, \"casual\": True}\", \"GoodForKids\": \"True\", \"BikeParking\": \"True\", \"RestaurantsTakeOut\": \"True\", \"GoodForMeal\": \"{\"dessert\": False, \"latenight\": False, \"lunch\": True, \"dinner\": False, \"brunch\": False, \"breakfast\": False}\", \"RestaurantsDelivery\": \"True\", \"RestaurantsReservations\": \"True\", \"RestaurantsGoodForGroups\": \"True\", \"BusinessAcceptsCreditCards\": \"True\", \"Caters\": \"True\", \"OutdoorSeating\": \"True\", \"RestaurantsPriceRange2\": \"2\", \"BusinessParking\": \"{\"garage\": False, \"street\": False, \"validated\": False, \"lot\": False, \"valet\": False}\"}',\n",
       " '{\"RestaurantsPriceRange2\": \"1\", \"BikeParking\": \"True\", \"ByAppointmentOnly\": \"False\", \"BusinessAcceptsCreditCards\": \"True\"}',\n",
       " '{\"BusinessAcceptsCreditCards\": \"False\", \"ByAppointmentOnly\": \"False\"}',\n",
       " '{\"BusinessParking\": \"{\"garage\": False, \"street\": False, \"validated\": False, \"lot\": False, \"valet\": False}\"}',\n",
       " '{\"BusinessAcceptsCreditCards\": \"True\", \"WheelchairAccessible\": \"True\"}',\n",
       " '{\"RestaurantsDelivery\": \"True\", \"RestaurantsPriceRange2\": \"1\", \"GoodForMeal\": \"{\"dessert\": False, \"latenight\": False, \"lunch\": False, \"dinner\": False, \"brunch\": False, \"breakfast\": False}\", \"WiFi\": \"u\"no\"\", \"WheelchairAccessible\": \"True\", \"GoodForKids\": \"True\", \"NoiseLevel\": \"u\"average\"\", \"RestaurantsGoodForGroups\": \"True\", \"Alcohol\": \"u\"none\"\", \"RestaurantsTableService\": \"True\", \"Caters\": \"True\", \"RestaurantsTakeOut\": \"True\", \"OutdoorSeating\": \"True\", \"Ambience\": \"{\"touristy\": False, \"hipster\": False, \"romantic\": False, \"divey\": False, \"intimate\": False, \"trendy\": False, \"upscale\": False, \"classy\": False, \"casual\": False}\", \"RestaurantsReservations\": \"False\", \"BikeParking\": \"True\", \"BusinessAcceptsCreditCards\": \"True\", \"RestaurantsAttire\": \"\"casual\"\", \"HasTV\": \"True\", \"BusinessParking\": \"{\"garage\": False, \"street\": False, \"validated\": False, \"lot\": False, \"valet\": False}\"}',\n",
       " '{\"Alcohol\": \"u\"none\"\", \"RestaurantsGoodForGroups\": \"True\", \"RestaurantsAttire\": \"\"casual\"\", \"OutdoorSeating\": \"False\", \"BikeParking\": \"True\", \"BYOBCorkage\": \"\"yes_free\"\", \"RestaurantsTakeOut\": \"True\", \"Caters\": \"False\", \"GoodForKids\": \"True\", \"WiFi\": \"u\"no\"\", \"RestaurantsReservations\": \"True\", \"Corkage\": \"False\", \"RestaurantsPriceRange2\": \"2\", \"BusinessParking\": \"{\"garage\": False, \"street\": True, \"validated\": False, \"lot\": True, \"valet\": False}\", \"NoiseLevel\": \"u\"average\"\", \"GoodForMeal\": \"{\"dessert\": False, \"latenight\": False, \"lunch\": True, \"dinner\": True, \"brunch\": False, \"breakfast\": False}\", \"HasTV\": \"True\", \"BusinessAcceptsCreditCards\": \"True\", \"RestaurantsTableService\": \"True\", \"DogsAllowed\": \"False\", \"Ambience\": \"{\"touristy\": False, \"hipster\": False, \"romantic\": False, \"divey\": False, \"intimate\": False, \"trendy\": False, \"upscale\": False, \"classy\": True, \"casual\": True}\", \"RestaurantsDelivery\": \"None\"}',\n",
       " '{\"BusinessAcceptsCreditCards\": \"True\", \"ByAppointmentOnly\": \"False\"}',\n",
       " '{\"BusinessAcceptsCreditCards\": \"True\"}',\n",
       " '{\"BusinessAcceptsCreditCards\": \"False\", \"BusinessParking\": \"{\"garage\": False, \"street\": True, \"validated\": False, \"lot\": False, \"valet\": False}\", \"RestaurantsPriceRange2\": \"2\", \"BikeParking\": \"True\", \"ByAppointmentOnly\": \"False\"}',\n",
       " '{\"CoatCheck\": \"False\", \"HasTV\": \"False\", \"WheelchairAccessible\": \"True\", \"BusinessAcceptsCreditCards\": \"True\", \"OutdoorSeating\": \"False\", \"ByAppointmentOnly\": \"False\", \"DogsAllowed\": \"True\", \"Caters\": \"False\", \"RestaurantsReservations\": \"False\", \"RestaurantsDelivery\": \"False\", \"RestaurantsTakeOut\": \"False\", \"WiFi\": \"u\"no\"\", \"HappyHour\": \"False\"}',\n",
       " '{\"GoodForKids\": \"False\", \"BusinessAcceptsCreditCards\": \"True\", \"BusinessParking\": \"{\"garage\": False, \"street\": True, \"validated\": False, \"lot\": False, \"valet\": False}\", \"BikeParking\": \"True\", \"RestaurantsPriceRange2\": \"3\", \"ByAppointmentOnly\": \"False\"}',\n",
       " '{\"RestaurantsDelivery\": \"False\", \"RestaurantsAttire\": \"u\"casual\"\", \"RestaurantsReservations\": \"True\", \"RestaurantsGoodForGroups\": \"True\", \"BusinessParking\": \"{\"garage\": False, \"street\": False, \"validated\": False, \"lot\": True, \"valet\": False}\", \"RestaurantsPriceRange2\": \"2\", \"RestaurantsTakeOut\": \"True\", \"GoodForKids\": \"True\", \"OutdoorSeating\": \"False\", \"BusinessAcceptsCreditCards\": \"True\", \"Alcohol\": \"u\"none\"\", \"WiFi\": \"u\"no\"\", \"Caters\": \"True\", \"NoiseLevel\": \"u\"quiet\"\", \"BikeParking\": \"True\", \"GoodForMeal\": \"{\"dessert\": False, \"latenight\": False, \"lunch\": True, \"dinner\": True, \"brunch\": False, \"breakfast\": False}\", \"Ambience\": \"{\"touristy\": False, \"hipster\": False, \"romantic\": False, \"divey\": False, \"intimate\": False, \"trendy\": False, \"upscale\": False, \"classy\": True, \"casual\": True}\", \"HasTV\": \"True\"}',\n",
       " None,\n",
       " '{\"BusinessAcceptsCreditCards\": \"True\", \"RestaurantsPriceRange2\": \"2\"}',\n",
       " '{\"BusinessAcceptsCreditCards\": \"True\"}',\n",
       " '{\"BusinessAcceptsCreditCards\": \"True\", \"BusinessParking\": \"{\"garage\": False, \"street\": False, \"validated\": False, \"lot\": True, \"valet\": False}\", \"RestaurantsPriceRange2\": \"2\", \"ByAppointmentOnly\": \"False\"}',\n",
       " '{\"RestaurantsGoodForGroups\": \"True\", \"BusinessAcceptsCreditCards\": \"True\", \"BikeParking\": \"True\", \"RestaurantsPriceRange2\": \"2\", \"HasTV\": \"True\", \"RestaurantsReservations\": \"False\", \"WiFi\": \"u\"free\"\", \"BusinessParking\": \"{\"garage\": False, \"street\": True, \"validated\": False, \"lot\": False, \"valet\": False}\", \"OutdoorSeating\": \"True\", \"NoiseLevel\": \"u\"loud\"\", \"Ambience\": \"{\"romantic\": False, \"intimate\": False, \"touristy\": False, \"hipster\": False, \"divey\": False, \"classy\": False, \"trendy\": False, \"upscale\": False, \"casual\": True}\", \"Alcohol\": \"u\"full_bar\"\", \"Music\": \"{\"dj\": False, \"background_music\": False, \"no_music\": False, \"jukebox\": False, \"live\": True, \"video\": False, \"karaoke\": False}\", \"RestaurantsTakeOut\": \"True\", \"GoodForDancing\": \"False\", \"RestaurantsDelivery\": \"True\", \"BestNights\": \"{\"monday\": False, \"tuesday\": False, \"friday\": True, \"wednesday\": False, \"thursday\": True, \"sunday\": False, \"saturday\": True}\"}',\n",
       " '{\"HairSpecializesIn\": \"{\"straightperms\": True, \"coloring\": True, \"extensions\": False, \"africanamerican\": True, \"curly\": True, \"kids\": False, \"perms\": False, \"asian\": False}\", \"GoodForKids\": \"True\", \"BusinessAcceptsCreditCards\": \"True\", \"RestaurantsPriceRange2\": \"2\", \"ByAppointmentOnly\": \"True\", \"WiFi\": \"u\"free\"\", \"BusinessParking\": \"{\"garage\": False, \"street\": True, \"validated\": False, \"lot\": False, \"valet\": False}\", \"BusinessAcceptsBitcoin\": \"False\", \"BikeParking\": \"True\", \"RestaurantsTakeOut\": \"None\", \"WheelchairAccessible\": \"True\", \"RestaurantsDelivery\": \"None\"}',\n",
       " '{\"BikeParking\": \"True\", \"RestaurantsPriceRange2\": \"2\", \"RestaurantsDelivery\": \"True\", \"RestaurantsTakeOut\": \"True\", \"HasTV\": \"False\", \"GoodForKids\": \"True\", \"Ambience\": \"None\", \"RestaurantsReservations\": \"False\", \"OutdoorSeating\": \"True\", \"RestaurantsGoodForGroups\": \"False\", \"RestaurantsAttire\": \"\"casual\"\", \"WiFi\": \"u\"no\"\", \"NoiseLevel\": \"u\"quiet\"\", \"Caters\": \"True\", \"Alcohol\": \"u\"none\"\", \"BusinessParking\": \"None\", \"BusinessAcceptsCreditCards\": \"True\"}',\n",
       " '{\"RestaurantsPriceRange2\": \"2\", \"BusinessAcceptsCreditCards\": \"True\", \"ByAppointmentOnly\": \"False\", \"BusinessParking\": \"None\", \"BikeParking\": \"True\"}',\n",
       " '{\"BikeParking\": \"True\", \"BusinessParking\": \"{\"garage\": False, \"street\": False, \"validated\": False, \"lot\": True, \"valet\": False}\", \"RestaurantsPriceRange2\": \"1\", \"Caters\": \"False\", \"RestaurantsTakeOut\": \"True\"}',\n",
       " '{\"ByAppointmentOnly\": \"True\", \"BusinessAcceptsCreditCards\": \"True\"}',\n",
       " '{\"ByAppointmentOnly\": \"True\", \"BusinessAcceptsCreditCards\": \"True\"}',\n",
       " '{\"RestaurantsAttire\": \"\"casual\"\", \"BusinessAcceptsCreditCards\": \"True\", \"RestaurantsReservations\": \"False\", \"GoodForKids\": \"True\", \"RestaurantsTakeOut\": \"True\", \"HasTV\": \"True\", \"RestaurantsDelivery\": \"False\", \"OutdoorSeating\": \"False\", \"NoiseLevel\": \"u\"average\"\", \"BikeParking\": \"False\", \"RestaurantsPriceRange2\": \"2\", \"Alcohol\": \"u\"full_bar\"\", \"Caters\": \"True\", \"Ambience\": \"{\"romantic\": False, \"intimate\": False, \"touristy\": False, \"hipster\": False, \"divey\": False, \"classy\": False, \"trendy\": False, \"upscale\": False, \"casual\": True}\", \"RestaurantsGoodForGroups\": \"True\", \"GoodForMeal\": \"{\"dessert\": False, \"latenight\": False, \"lunch\": True, \"dinner\": True, \"brunch\": False, \"breakfast\": False}\", \"WiFi\": \"u\"no\"\", \"RestaurantsTableService\": \"True\", \"BusinessParking\": \"{\"garage\": False, \"street\": None, \"validated\": False, \"lot\": True, \"valet\": False}\"}',\n",
       " None,\n",
       " '{\"ByAppointmentOnly\": \"False\", \"BusinessAcceptsCreditCards\": \"True\", \"RestaurantsPriceRange2\": \"2\", \"RestaurantsDelivery\": \"False\", \"RestaurantsTakeOut\": \"True\", \"BusinessParking\": \"{\"garage\": False, \"street\": False, \"validated\": False, \"lot\": False, \"valet\": False}\"}',\n",
       " '{\"GoodForKids\": \"True\", \"BusinessParking\": \"{\"garage\": False, \"street\": False, \"validated\": False, \"lot\": True, \"valet\": False}\"}',\n",
       " '{\"Alcohol\": \"u\"none\"\", \"BusinessAcceptsCreditCards\": \"True\", \"RestaurantsTakeOut\": \"True\", \"RestaurantsDelivery\": \"True\", \"GoodForKids\": \"True\", \"OutdoorSeating\": \"False\", \"RestaurantsGoodForGroups\": \"True\", \"RestaurantsAttire\": \"\"casual\"\", \"RestaurantsReservations\": \"False\", \"RestaurantsPriceRange2\": \"2\", \"NoiseLevel\": \"\"average\"\", \"HasTV\": \"True\", \"BusinessParking\": \"{\"garage\": None, \"street\": None, \"validated\": None, \"lot\": True, \"valet\": False}\", \"Ambience\": \"{\"touristy\": None, \"hipster\": False, \"romantic\": None, \"divey\": None, \"intimate\": False, \"trendy\": None, \"upscale\": None, \"classy\": None, \"casual\": True}\", \"GoodForMeal\": \"{\"dessert\": False, \"latenight\": None, \"lunch\": None, \"dinner\": True, \"brunch\": None, \"breakfast\": None}\"}',\n",
       " '{\"GoodForKids\": \"True\", \"BikeParking\": \"True\", \"WheelchairAccessible\": \"True\", \"DogsAllowed\": \"False\", \"BusinessParking\": \"{\"garage\": False, \"street\": False, \"validated\": False, \"lot\": True, \"valet\": False}\"}',\n",
       " '{\"RestaurantsPriceRange2\": \"2\", \"BusinessAcceptsCreditCards\": \"True\", \"GoodForKids\": \"True\", \"BusinessParking\": \"{\"garage\": False, \"street\": False, \"validated\": False, \"lot\": True, \"valet\": False}\", \"ByAppointmentOnly\": \"False\", \"BikeParking\": \"True\", \"Caters\": \"True\", \"WheelchairAccessible\": \"True\", \"RestaurantsTakeOut\": \"False\"}',\n",
       " '{\"BusinessAcceptsCreditCards\": \"True\", \"BikeParking\": \"True\", \"GoodForKids\": \"True\", \"BusinessParking\": \"{\"garage\": False, \"street\": True, \"validated\": False, \"lot\": True, \"valet\": False}\", \"ByAppointmentOnly\": \"True\", \"WiFi\": \"u\"free\"\", \"RestaurantsPriceRange2\": \"2\", \"Smoking\": \"u\"outdoor\"\"}',\n",
       " '{\"RestaurantsReservations\": \"False\", \"BusinessAcceptsCreditCards\": \"True\", \"RestaurantsGoodForGroups\": \"True\", \"RestaurantsDelivery\": \"True\", \"BikeParking\": \"True\", \"Caters\": \"True\", \"RestaurantsTakeOut\": \"True\", \"RestaurantsAttire\": \"u\"casual\"\", \"Alcohol\": \"u\"none\"\", \"GoodForKids\": \"True\", \"Ambience\": \"{\"romantic\": False, \"intimate\": False, \"touristy\": False, \"hipster\": False, \"divey\": False, \"classy\": False, \"trendy\": False, \"upscale\": False, \"casual\": False}\", \"RestaurantsPriceRange2\": \"2\", \"WiFi\": \"u\"no\"\", \"HasTV\": \"True\", \"OutdoorSeating\": \"False\", \"BusinessParking\": \"{\"garage\": False, \"street\": False, \"validated\": False, \"lot\": True, \"valet\": False}\", \"NoiseLevel\": \"u\"very_loud\"\"}',\n",
       " '{\"BusinessParking\": \"{\"garage\": False, \"street\": False, \"validated\": False, \"lot\": False, \"valet\": False}\", \"RestaurantsPriceRange2\": \"3\", \"BusinessAcceptsCreditCards\": \"True\", \"BikeParking\": \"True\"}',\n",
       " '{\"BusinessAcceptsCreditCards\": \"False\"}',\n",
       " '{\"Alcohol\": \"\"none\"\", \"RestaurantsDelivery\": \"False\", \"GoodForMeal\": \"{\"dessert\": False, \"latenight\": False, \"lunch\": False, \"dinner\": False, \"brunch\": False, \"breakfast\": False}\", \"RestaurantsTakeOut\": \"True\", \"BikeParking\": \"True\", \"RestaurantsPriceRange2\": \"1\", \"WheelchairAccessible\": \"False\", \"Caters\": \"True\", \"BusinessAcceptsCreditCards\": \"True\"}',\n",
       " '{\"BusinessAcceptsCreditCards\": \"True\", \"BikeParking\": \"True\", \"RestaurantsPriceRange2\": \"2\", \"BusinessParking\": \"{\"garage\": True, \"street\": False, \"validated\": False, \"lot\": True, \"valet\": False}\"}',\n",
       " '{\"RestaurantsDelivery\": \"True\", \"RestaurantsAttire\": \"u\"casual\"\", \"RestaurantsPriceRange2\": \"2\", \"RestaurantsReservations\": \"False\", \"BusinessParking\": \"{\"garage\": False, \"street\": False, \"validated\": False, \"lot\": True, \"valet\": False}\", \"RestaurantsGoodForGroups\": \"False\", \"BusinessAcceptsCreditCards\": \"True\", \"Alcohol\": \"u\"none\"\", \"GoodForKids\": \"False\", \"RestaurantsTakeOut\": \"True\", \"OutdoorSeating\": \"False\"}',\n",
       " '{\"BusinessAcceptsCreditCards\": \"True\", \"GoodForKids\": \"True\", \"Alcohol\": \"u\"none\"\", \"Ambience\": \"{\"romantic\": False, \"intimate\": False, \"classy\": False, \"hipster\": False, \"divey\": False, \"touristy\": False, \"trendy\": False, \"upscale\": False, \"casual\": False}\", \"BusinessParking\": \"{\"garage\": False, \"street\": False, \"validated\": False, \"lot\": False, \"valet\": False}\", \"RestaurantsTakeOut\": \"True\", \"RestaurantsAttire\": \"\"casual\"\", \"OutdoorSeating\": \"False\", \"RestaurantsDelivery\": \"True\", \"Caters\": \"True\", \"HasTV\": \"True\", \"GoodForMeal\": \"{\"dessert\": False, \"latenight\": False, \"lunch\": True, \"dinner\": False, \"brunch\": False, \"breakfast\": True}\", \"RestaurantsPriceRange2\": \"1\", \"NoiseLevel\": \"u\"quiet\"\", \"RestaurantsGoodForGroups\": \"True\", \"WiFi\": \"u\"free\"\", \"RestaurantsReservations\": \"False\"}',\n",
       " '{\"ByAppointmentOnly\": \"True\", \"BusinessAcceptsCreditCards\": \"True\"}',\n",
       " '{\"BusinessParking\": \"{\"garage\": False, \"street\": True, \"validated\": False, \"lot\": False, \"valet\": False}\", \"RestaurantsReservations\": \"True\", \"Alcohol\": \"u\"full_bar\"\", \"NoiseLevel\": \"u\"average\"\", \"RestaurantsTakeOut\": \"True\", \"RestaurantsGoodForGroups\": \"True\", \"GoodForKids\": \"False\", \"BusinessAcceptsCreditCards\": \"True\", \"OutdoorSeating\": \"True\", \"BikeParking\": \"False\", \"WiFi\": \"u\"free\"\", \"GoodForDancing\": \"False\", \"WheelchairAccessible\": \"True\", \"RestaurantsTableService\": \"True\", \"HasTV\": \"True\", \"RestaurantsAttire\": \"u\"casual\"\", \"Caters\": \"True\", \"HappyHour\": \"True\", \"RestaurantsDelivery\": \"False\", \"Music\": \"{\"dj\": False, \"background_music\": False, \"no_music\": False, \"jukebox\": False, \"live\": True, \"video\": False, \"karaoke\": False}\", \"BestNights\": \"{\"monday\": False, \"tuesday\": False, \"friday\": True, \"wednesday\": False, \"thursday\": False, \"sunday\": False, \"saturday\": True}\", \"ByAppointmentOnly\": \"False\", \"Smoking\": \"u\"no\"\", \"Ambience\": \"{\"touristy\": False, \"hipster\": False, \"romantic\": False, \"divey\": False, \"intimate\": False, \"trendy\": False, \"upscale\": False, \"classy\": True, \"casual\": True}\", \"BusinessAcceptsBitcoin\": \"False\", \"DogsAllowed\": \"False\", \"GoodForMeal\": \"{\"dessert\": None, \"latenight\": True, \"lunch\": None, \"dinner\": True, \"brunch\": None, \"breakfast\": False}\", \"RestaurantsPriceRange2\": \"2\"}',\n",
       " '{\"WiFi\": \"u\"free\"\", \"RestaurantsReservations\": \"False\", \"HappyHour\": \"True\", \"HasTV\": \"False\", \"BestNights\": \"{u\"monday\": False, u\"tuesday\": False, u\"wednesday\": False, u\"thursday\": False, u\"friday\": True, u\"saturday\": False, u\"sunday\": False}\", \"OutdoorSeating\": \"False\", \"Ambience\": \"{\"touristy\": False, \"hipster\": False, \"romantic\": False, \"divey\": False, \"intimate\": False, \"trendy\": False, \"upscale\": False, \"classy\": False, \"casual\": False}\", \"Smoking\": \"u\"outdoor\"\", \"BikeParking\": \"False\", \"BusinessAcceptsBitcoin\": \"False\", \"Alcohol\": \"u\"full_bar\"\", \"CoatCheck\": \"False\", \"DogsAllowed\": \"True\", \"BusinessAcceptsCreditCards\": \"True\", \"BusinessParking\": \"{u\"valet\": False, u\"garage\": True, u\"street\": True, u\"lot\": False, u\"validated\": False}\", \"WheelchairAccessible\": \"True\", \"Music\": \"{\"dj\": False, \"background_music\": False, \"no_music\": False, \"jukebox\": False, \"live\": False, \"video\": False, \"karaoke\": False}\"}',\n",
       " '{\"RestaurantsPriceRange2\": \"1\", \"RestaurantsReservations\": \"False\", \"RestaurantsDelivery\": \"True\", \"RestaurantsGoodForGroups\": \"True\", \"Ambience\": \"{\"romantic\": False, \"intimate\": False, \"classy\": False, \"hipster\": False, \"divey\": False, \"touristy\": False, \"trendy\": False, \"upscale\": False, \"casual\": False}\", \"RestaurantsAttire\": \"u\"casual\"\", \"NoiseLevel\": \"\"quiet\"\", \"BusinessParking\": \"{\"garage\": False, \"street\": False, \"validated\": False, \"lot\": False, \"valet\": False}\", \"WiFi\": \"\"no\"\", \"OutdoorSeating\": \"False\", \"GoodForKids\": \"True\", \"BusinessAcceptsCreditCards\": \"True\", \"RestaurantsTakeOut\": \"True\"}',\n",
       " '{\"BusinessParking\": \"{\"garage\": False, \"street\": False, \"validated\": None, \"lot\": True, \"valet\": False}\", \"BusinessAcceptsCreditCards\": \"True\", \"RestaurantsDelivery\": \"True\", \"Alcohol\": \"u\"none\"\", \"RestaurantsPriceRange2\": \"2\", \"DogsAllowed\": \"False\", \"RestaurantsGoodForGroups\": \"True\", \"RestaurantsTableService\": \"True\", \"Ambience\": \"{\"touristy\": False, \"hipster\": False, \"romantic\": False, \"divey\": None, \"intimate\": None, \"trendy\": None, \"upscale\": False, \"classy\": False, \"casual\": None}\", \"RestaurantsTakeOut\": \"True\"}',\n",
       " '{\"BusinessAcceptsCreditCards\": \"False\", \"BusinessAcceptsBitcoin\": \"False\"}',\n",
       " '{\"BusinessAcceptsBitcoin\": \"False\", \"BusinessAcceptsCreditCards\": \"True\", \"ByAppointmentOnly\": \"True\"}',\n",
       " '{\"BusinessAcceptsCreditCards\": \"True\", \"BusinessParking\": \"{\"garage\": False, \"street\": False, \"validated\": False, \"lot\": True, \"valet\": False}\", \"RestaurantsPriceRange2\": \"3\"}',\n",
       " '{\"RestaurantsDelivery\": \"True\", \"RestaurantsTakeOut\": \"True\"}',\n",
       " '{\"RestaurantsPriceRange2\": \"1\", \"BikeParking\": \"False\", \"BusinessParking\": \"{\"garage\": False, \"street\": False, \"validated\": False, \"lot\": True, \"valet\": False}\", \"BusinessAcceptsCreditCards\": \"True\", \"DogsAllowed\": \"False\", \"RestaurantsDelivery\": \"False\", \"RestaurantsTakeOut\": \"True\"}',\n",
       " '{\"BusinessAcceptsCreditCards\": \"True\", \"BusinessParking\": \"None\", \"BikeParking\": \"True\", \"BusinessAcceptsBitcoin\": \"True\", \"WheelchairAccessible\": \"True\", \"DogsAllowed\": \"True\", \"ByAppointmentOnly\": \"False\"}',\n",
       " None,\n",
       " '{\"BusinessAcceptsCreditCards\": \"True\"}',\n",
       " '{\"BusinessAcceptsCreditCards\": \"True\", \"AcceptsInsurance\": \"True\", \"ByAppointmentOnly\": \"True\"}',\n",
       " '{\"RestaurantsPriceRange2\": \"2\", \"GoodForKids\": \"True\", \"ByAppointmentOnly\": \"False\", \"BusinessAcceptsCreditCards\": \"True\", \"BusinessParking\": \"{\"garage\": False, \"street\": False, \"validated\": False, \"lot\": False, \"valet\": False}\", \"BikeParking\": \"True\"}',\n",
       " '{\"GoodForKids\": \"True\", \"BusinessAcceptsCreditCards\": \"True\", \"RestaurantsAttire\": \"u\"casual\"\", \"RestaurantsGoodForGroups\": \"True\", \"RestaurantsTakeOut\": \"True\", \"Caters\": \"True\", \"WiFi\": \"u\"free\"\", \"RestaurantsPriceRange2\": \"1\", \"NoiseLevel\": \"u\"quiet\"\", \"RestaurantsDelivery\": \"True\", \"HasTV\": \"True\", \"Alcohol\": \"\"beer_and_wine\"\", \"Ambience\": \"{\"romantic\": False, \"intimate\": False, \"classy\": False, \"hipster\": False, \"divey\": False, \"touristy\": False, \"trendy\": False, \"upscale\": False, \"casual\": True}\", \"RestaurantsReservations\": \"False\", \"OutdoorSeating\": \"False\", \"BikeParking\": \"True\", \"BusinessParking\": \"{\"garage\": False, \"street\": None, \"validated\": False, \"lot\": True, \"valet\": False}\", \"GoodForMeal\": \"{\"dessert\": False, \"latenight\": False, \"lunch\": True, \"dinner\": True, \"brunch\": False, \"breakfast\": False}\", \"RestaurantsTableService\": \"True\"}',\n",
       " '{\"ByAppointmentOnly\": \"True\"}',\n",
       " '{\"BusinessAcceptsCreditCards\": \"True\", \"RestaurantsPriceRange2\": \"2\", \"ByAppointmentOnly\": \"True\", \"BikeParking\": \"True\"}',\n",
       " '{\"BusinessAcceptsCreditCards\": \"True\", \"GoodForKids\": \"True\", \"RestaurantsTakeOut\": \"True\", \"WiFi\": \"\"free\"\", \"RestaurantsAttire\": \"\"casual\"\", \"RestaurantsGoodForGroups\": \"True\", \"RestaurantsReservations\": \"False\", \"Alcohol\": \"\"none\"\", \"Ambience\": \"{\"romantic\": False, \"intimate\": False, \"classy\": False, \"hipster\": False, \"divey\": False, \"touristy\": False, \"trendy\": False, \"upscale\": False, \"casual\": False}\", \"BusinessParking\": \"{\"garage\": False, \"street\": False, \"validated\": False, \"lot\": False, \"valet\": False}\", \"OutdoorSeating\": \"False\", \"RestaurantsTableService\": \"False\", \"BikeParking\": \"False\", \"RestaurantsPriceRange2\": \"1\", \"GoodForMeal\": \"{\"dessert\": False, \"latenight\": False, \"lunch\": False, \"dinner\": False, \"brunch\": False, \"breakfast\": False}\", \"RestaurantsDelivery\": \"True\", \"NoiseLevel\": \"\"average\"\", \"Caters\": \"False\", \"DriveThru\": \"True\", \"HasTV\": \"True\"}',\n",
       " '{\"NoiseLevel\": \"u\"average\"\", \"RestaurantsDelivery\": \"False\", \"RestaurantsGoodForGroups\": \"False\", \"BikeParking\": \"True\", \"Alcohol\": \"\"none\"\", \"RestaurantsTableService\": \"True\", \"BusinessParking\": \"{\"garage\": False, \"street\": True, \"validated\": False, \"lot\": False, \"valet\": False}\", \"RestaurantsAttire\": \"\"casual\"\", \"Caters\": \"True\", \"WiFi\": \"u\"free\"\", \"BusinessAcceptsCreditCards\": \"True\", \"HasTV\": \"True\", \"RestaurantsTakeOut\": \"True\", \"Corkage\": \"False\", \"BYOB\": \"True\", \"OutdoorSeating\": \"True\", \"RestaurantsPriceRange2\": \"1\", \"Ambience\": \"{u\"divey\": False, u\"hipster\": True, u\"casual\": True, u\"touristy\": False, u\"trendy\": None, u\"intimate\": False, u\"romantic\": False, u\"classy\": False, u\"upscale\": False}\", \"RestaurantsReservations\": \"False\", \"GoodForKids\": \"True\", \"GoodForMeal\": \"{u\"breakfast\": True, u\"brunch\": None, u\"lunch\": None, u\"dinner\": None, u\"latenight\": False, u\"dessert\": False}\"}',\n",
       " '{\"BusinessAcceptsCreditCards\": \"True\"}',\n",
       " '{\"BusinessAcceptsCreditCards\": \"False\"}',\n",
       " '{\"ByAppointmentOnly\": \"False\", \"BusinessAcceptsCreditCards\": \"True\", \"WiFi\": \"u\"free\"\"}',\n",
       " None,\n",
       " '{\"BikeParking\": \"True\", \"BusinessParking\": \"{\"garage\": False, \"street\": False, \"validated\": False, \"lot\": True, \"valet\": False}\", \"BusinessAcceptsCreditCards\": \"True\", \"DogsAllowed\": \"True\", \"ByAppointmentOnly\": \"False\"}',\n",
       " '{\"BusinessAcceptsCreditCards\": \"True\", \"RestaurantsGoodForGroups\": \"True\", \"OutdoorSeating\": \"False\", \"NoiseLevel\": \"\"loud\"\", \"BikeParking\": \"False\", \"Alcohol\": \"\"full_bar\"\", \"HasTV\": \"True\", \"Ambience\": \"{\"romantic\": False, \"intimate\": False, \"classy\": False, \"hipster\": False, \"divey\": False, \"touristy\": False, \"trendy\": False, \"upscale\": False, \"casual\": True}\", \"BusinessParking\": \"{\"garage\": False, \"street\": False, \"validated\": False, \"lot\": False, \"valet\": False}\", \"RestaurantsPriceRange2\": \"2\", \"HappyHour\": \"False\", \"GoodForDancing\": \"True\", \"RestaurantsReservations\": \"False\", \"Music\": \"{\"dj\": True, \"background_music\": False, \"no_music\": False, \"jukebox\": False, \"live\": True, \"video\": False, \"karaoke\": False}\"}',\n",
       " '{\"ByAppointmentOnly\": \"True\", \"BusinessAcceptsCreditCards\": \"True\", \"AcceptsInsurance\": \"True\"}',\n",
       " '{\"WiFi\": \"u\"free\"\", \"ByAppointmentOnly\": \"False\", \"BusinessAcceptsCreditCards\": \"True\"}',\n",
       " '{\"RestaurantsGoodForGroups\": \"True\", \"BusinessAcceptsCreditCards\": \"True\", \"WiFi\": \"u\"no\"\", \"RestaurantsAttire\": \"\"casual\"\", \"RestaurantsPriceRange2\": \"1\", \"RestaurantsTakeOut\": \"True\", \"GoodForKids\": \"True\", \"HasTV\": \"True\", \"RestaurantsReservations\": \"True\", \"BusinessParking\": \"{\"garage\": False, \"street\": False, \"validated\": False, \"lot\": True, \"valet\": False}\", \"BusinessAcceptsBitcoin\": \"False\", \"NoiseLevel\": \"u\"average\"\", \"OutdoorSeating\": \"True\", \"BikeParking\": \"True\", \"Caters\": \"True\", \"RestaurantsTableService\": \"True\", \"RestaurantsDelivery\": \"True\", \"HappyHour\": \"True\", \"DogsAllowed\": \"True\", \"DriveThru\": \"False\", \"WheelchairAccessible\": \"True\", \"Corkage\": \"False\", \"Alcohol\": \"u\"beer_and_wine\"\", \"Ambience\": \"{u\"divey\": False, u\"hipster\": False, u\"casual\": True, u\"touristy\": False, u\"trendy\": False, u\"intimate\": False, u\"romantic\": False, u\"classy\": False, u\"upscale\": False}\", \"GoodForMeal\": \"{u\"breakfast\": None, u\"brunch\": False, u\"lunch\": True, u\"dinner\": True, u\"latenight\": False, u\"dessert\": False}\", \"BYOB\": \"False\"}',\n",
       " '{\"BusinessAcceptsCreditCards\": \"False\"}',\n",
       " '{\"BusinessAcceptsCreditCards\": \"True\", \"RestaurantsDelivery\": \"True\", \"RestaurantsAttire\": \"\"casual\"\", \"RestaurantsReservations\": \"True\", \"RestaurantsTakeOut\": \"True\", \"OutdoorSeating\": \"False\", \"Alcohol\": \"\"full_bar\"\", \"Ambience\": \"{\"romantic\": True, \"intimate\": False, \"touristy\": False, \"hipster\": False, \"divey\": False, \"classy\": False, \"trendy\": False, \"upscale\": False, \"casual\": False}\", \"RestaurantsGoodForGroups\": \"True\", \"HasTV\": \"False\", \"BusinessParking\": \"{\"garage\": False, \"street\": True, \"validated\": False, \"lot\": False, \"valet\": False}\", \"GoodForKids\": \"False\", \"NoiseLevel\": \"u\"quiet\"\", \"WiFi\": \"u\"no\"\", \"RestaurantsPriceRange2\": \"2\", \"BikeParking\": \"True\", \"Caters\": \"True\"}',\n",
       " None,\n",
       " '{\"RestaurantsPriceRange2\": \"1\", \"OutdoorSeating\": \"False\", \"NoiseLevel\": \"u\"quiet\"\"}',\n",
       " '{\"RestaurantsTableService\": \"True\", \"Caters\": \"True\", \"Ambience\": \"{\"touristy\": None, \"hipster\": False, \"romantic\": False, \"divey\": None, \"intimate\": None, \"trendy\": None, \"upscale\": False, \"classy\": False, \"casual\": True}\", \"BusinessParking\": \"{\"garage\": None, \"street\": True, \"validated\": None, \"lot\": None, \"valet\": False}\", \"RestaurantsGoodForGroups\": \"False\", \"RestaurantsPriceRange2\": \"2\", \"HasTV\": \"True\", \"RestaurantsTakeOut\": \"True\", \"RestaurantsDelivery\": \"True\"}',\n",
       " '{\"NoiseLevel\": \"u\"quiet\"\", \"Alcohol\": \"u\"none\"\", \"GoodForKids\": \"False\", \"RestaurantsPriceRange2\": \"2\", \"RestaurantsGoodForGroups\": \"True\", \"RestaurantsReservations\": \"False\", \"RestaurantsAttire\": \"u\"casual\"\", \"RestaurantsDelivery\": \"True\", \"BusinessParking\": \"{\"garage\": False, \"street\": False, \"validated\": False, \"lot\": False, \"valet\": False}\", \"Ambience\": \"{\"romantic\": False, \"intimate\": False, \"touristy\": False, \"hipster\": False, \"divey\": False, \"classy\": False, \"trendy\": False, \"upscale\": False, \"casual\": False}\", \"BusinessAcceptsCreditCards\": \"True\", \"WiFi\": \"u\"free\"\", \"HasTV\": \"True\", \"OutdoorSeating\": \"True\", \"RestaurantsTakeOut\": \"True\"}',\n",
       " '{\"BusinessAcceptsCreditCards\": \"True\", \"ByAppointmentOnly\": \"False\"}',\n",
       " '{\"AcceptsInsurance\": \"True\", \"WheelchairAccessible\": \"True\", \"BikeParking\": \"True\", \"BusinessAcceptsCreditCards\": \"True\", \"BusinessParking\": \"{\"garage\": False, \"street\": False, \"validated\": False, \"lot\": False, \"valet\": False}\", \"ByAppointmentOnly\": \"True\", \"RestaurantsPriceRange2\": \"2\"}',\n",
       " '{\"Ambience\": \"{u\"divey\": False, u\"hipster\": False, u\"casual\": False, u\"touristy\": False, u\"trendy\": False, u\"intimate\": False, u\"romantic\": False, u\"classy\": True, u\"upscale\": False}\", \"RestaurantsReservations\": \"False\", \"CoatCheck\": \"False\", \"Smoking\": \"u\"no\"\", \"BYOB\": \"None\", \"GoodForMeal\": \"{u\"breakfast\": None, u\"brunch\": None, u\"lunch\": None, u\"dinner\": True, u\"latenight\": None, u\"dessert\": None}\", \"RestaurantsTakeOut\": \"True\", \"HasTV\": \"False\", \"RestaurantsAttire\": \"u\"casual\"\", \"Corkage\": \"True\", \"ByAppointmentOnly\": \"False\", \"RestaurantsTableService\": \"True\", \"DogsAllowed\": \"False\", \"RestaurantsDelivery\": \"False\", \"BusinessAcceptsCreditCards\": \"True\", \"BusinessAcceptsBitcoin\": \"False\", \"BikeParking\": \"True\", \"BestNights\": \"{u\"monday\": False, u\"tuesday\": False, u\"wednesday\": False, u\"thursday\": True, u\"friday\": True, u\"saturday\": False, u\"sunday\": False}\", \"WiFi\": \"u\"free\"\", \"NoiseLevel\": \"u\"average\"\", \"WheelchairAccessible\": \"True\", \"Alcohol\": \"u\"full_bar\"\", \"RestaurantsPriceRange2\": \"2\", \"Caters\": \"False\", \"OutdoorSeating\": \"False\", \"RestaurantsGoodForGroups\": \"True\", \"Music\": \"{u\"dj\": None, u\"live\": False, u\"jukebox\": None, u\"video\": False, u\"background_music\": False, u\"karaoke\": None, u\"no_music\": False}\", \"HappyHour\": \"False\", \"BusinessParking\": \"{\"garage\": False, \"street\": True, \"validated\": False, \"lot\": False, \"valet\": False}\"}',\n",
       " None,\n",
       " '{\"BusinessAcceptsCreditCards\": \"True\", \"RestaurantsReservations\": \"False\", \"WiFi\": \"u\"no\"\", \"HasTV\": \"True\", \"RestaurantsTakeOut\": \"True\", \"NoiseLevel\": \"u\"quiet\"\", \"Caters\": \"False\", \"BikeParking\": \"True\", \"RestaurantsAttire\": \"u\"casual\"\", \"RestaurantsGoodForGroups\": \"True\", \"Alcohol\": \"u\"none\"\", \"Ambience\": \"{\"touristy\": False, \"hipster\": False, \"romantic\": False, \"divey\": False, \"intimate\": False, \"trendy\": False, \"upscale\": False, \"classy\": False, \"casual\": True}\", \"Corkage\": \"False\", \"GoodForKids\": \"True\", \"GoodForMeal\": \"{\"dessert\": None, \"latenight\": None, \"lunch\": None, \"dinner\": None, \"brunch\": False, \"breakfast\": None}\", \"OutdoorSeating\": \"True\", \"RestaurantsTableService\": \"False\", \"RestaurantsDelivery\": \"False\", \"ByAppointmentOnly\": \"False\", \"WheelchairAccessible\": \"True\", \"RestaurantsPriceRange2\": \"2\", \"HappyHour\": \"False\", \"BYOB\": \"False\", \"BusinessParking\": \"{\"garage\": False, \"street\": True, \"validated\": False, \"lot\": False, \"valet\": False}\"}',\n",
       " '{\"BusinessAcceptsCreditCards\": \"True\", \"WiFi\": \"u\"free\"\", \"RestaurantsPriceRange2\": \"2\"}',\n",
       " '{\"WiFi\": \"u\"free\"\", \"ByAppointmentOnly\": \"False\", \"WheelchairAccessible\": \"True\", \"GoodForKids\": \"False\", \"BusinessAcceptsCreditCards\": \"True\", \"BusinessParking\": \"{u\"valet\": False, u\"garage\": False, u\"street\": False, u\"lot\": True, u\"validated\": False}\", \"BikeParking\": \"True\"}',\n",
       " '{\"BusinessAcceptsCreditCards\": \"True\", \"RestaurantsPriceRange2\": \"2\", \"WheelchairAccessible\": \"True\", \"Caters\": \"False\", \"BusinessParking\": \"{\"garage\": False, \"street\": False, \"validated\": False, \"lot\": True, \"valet\": False}\", \"BikeParking\": \"True\", \"RestaurantsDelivery\": \"True\", \"RestaurantsTakeOut\": \"True\", \"BusinessAcceptsBitcoin\": \"False\"}',\n",
       " '{\"BusinessParking\": \"{\"garage\": False, \"street\": False, \"validated\": False, \"lot\": False, \"valet\": False}\", \"BusinessAcceptsCreditCards\": \"True\", \"RestaurantsPriceRange2\": \"2\"}',\n",
       " '{\"BusinessAcceptsCreditCards\": \"True\"}',\n",
       " '{\"BusinessAcceptsCreditCards\": \"True\", \"ByAppointmentOnly\": \"False\"}',\n",
       " '{\"BusinessAcceptsCreditCards\": \"False\", \"BikeParking\": \"False\", \"RestaurantsPriceRange2\": \"1\", \"BusinessParking\": \"{\"garage\": False, \"street\": False, \"validated\": False, \"lot\": True, \"valet\": False}\", \"ByAppointmentOnly\": \"False\", \"GoodForKids\": \"True\"}',\n",
       " '{\"GoodForKids\": \"True\", \"ByAppointmentOnly\": \"False\", \"BusinessParking\": \"{\"garage\": False, \"street\": False, \"validated\": False, \"lot\": False, \"valet\": False}\"}',\n",
       " None,\n",
       " '{\"WiFi\": \"u\"free\"\", \"RestaurantsPriceRange2\": \"2\", \"BikeParking\": \"False\", \"BusinessAcceptsBitcoin\": \"False\", \"BusinessAcceptsCreditCards\": \"True\", \"ByAppointmentOnly\": \"False\", \"BusinessParking\": \"{\"garage\": False, \"street\": False, \"validated\": False, \"lot\": True, \"valet\": False}\", \"WheelchairAccessible\": \"True\", \"GoodForKids\": \"True\", \"HairSpecializesIn\": \"{\"straightperms\": False, \"coloring\": True, \"extensions\": True, \"africanamerican\": False, \"curly\": False, \"kids\": False, \"perms\": False, \"asian\": True}\"}',\n",
       " '{\"BusinessAcceptsCreditCards\": \"True\"}',\n",
       " '{\"BusinessAcceptsCreditCards\": \"True\", \"ByAppointmentOnly\": \"False\"}',\n",
       " '{\"BusinessAcceptsCreditCards\": \"True\", \"ByAppointmentOnly\": \"False\"}',\n",
       " '{\"BusinessAcceptsCreditCards\": \"True\", \"WiFi\": \"u\"free\"\", \"ByAppointmentOnly\": \"False\"}',\n",
       " '{\"RestaurantsAttire\": \"\"casual\"\", \"RestaurantsDelivery\": \"True\", \"HasTV\": \"True\", \"OutdoorSeating\": \"False\", \"RestaurantsGoodForGroups\": \"False\", \"GoodForKids\": \"True\", \"Alcohol\": \"\"none\"\", \"Caters\": \"False\", \"RestaurantsTakeOut\": \"True\", \"BusinessParking\": \"{\"garage\": False, \"street\": False, \"validated\": False, \"lot\": False, \"valet\": False}\", \"RestaurantsReservations\": \"False\", \"RestaurantsPriceRange2\": \"1\", \"BusinessAcceptsCreditCards\": \"True\", \"NoiseLevel\": \"\"loud\"\", \"WiFi\": \"\"no\"\", \"BikeParking\": \"False\", \"Ambience\": \"{\"romantic\": False, \"intimate\": False, \"classy\": False, \"hipster\": False, \"divey\": False, \"touristy\": False, \"trendy\": False, \"upscale\": False, \"casual\": False}\"}',\n",
       " '{\"BusinessAcceptsCreditCards\": \"True\", \"ByAppointmentOnly\": \"False\"}',\n",
       " '{\"RestaurantsPriceRange2\": \"2\", \"WiFi\": \"u\"free\"\"}',\n",
       " '{\"BikeParking\": \"True\", \"WheelchairAccessible\": \"True\", \"RestaurantsPriceRange2\": \"2\", \"GoodForKids\": \"False\", \"ByAppointmentOnly\": \"False\", \"BusinessAcceptsCreditCards\": \"True\", \"WiFi\": \"u\"free\"\"}',\n",
       " None,\n",
       " '{\"BusinessAcceptsCreditCards\": \"True\", \"BusinessAcceptsBitcoin\": \"False\", \"RestaurantsReservations\": \"False\", \"WiFi\": \"u\"no\"\", \"OutdoorSeating\": \"False\", \"Caters\": \"False\", \"RestaurantsDelivery\": \"True\", \"RestaurantsTakeOut\": \"True\"}',\n",
       " '{\"RestaurantsReservations\": \"True\", \"GoodForKids\": \"True\", \"RestaurantsTableService\": \"True\", \"RestaurantsTakeOut\": \"True\", \"NoiseLevel\": \"u\"average\"\", \"OutdoorSeating\": \"False\", \"BusinessAcceptsCreditCards\": \"True\", \"HasTV\": \"True\", \"RestaurantsPriceRange2\": \"1\", \"BikeParking\": \"True\", \"RestaurantsGoodForGroups\": \"True\", \"Alcohol\": \"\"none\"\", \"WiFi\": \"\"free\"\", \"BusinessParking\": \"{\"garage\": False, \"street\": False, \"validated\": False, \"lot\": False, \"valet\": False}\", \"Ambience\": \"{\"romantic\": False, \"intimate\": False, \"classy\": False, \"hipster\": False, \"divey\": False, \"touristy\": False, \"trendy\": False, \"upscale\": False, \"casual\": True}\", \"RestaurantsAttire\": \"\"casual\"\", \"WheelchairAccessible\": \"True\", \"GoodForMeal\": \"{\"dessert\": False, \"latenight\": False, \"lunch\": False, \"dinner\": False, \"brunch\": True, \"breakfast\": False}\", \"BYOB\": \"True\", \"Caters\": \"True\", \"RestaurantsDelivery\": \"True\"}',\n",
       " None,\n",
       " '{\"HasTV\": \"True\", \"Music\": \"{\"dj\": False, \"background_music\": False, \"no_music\": False, \"jukebox\": False, \"live\": True, \"video\": False, \"karaoke\": False}\", \"BusinessParking\": \"{\"garage\": False, \"street\": False, \"validated\": False, \"lot\": False, \"valet\": False}\", \"BusinessAcceptsCreditCards\": \"True\", \"RestaurantsGoodForGroups\": \"True\", \"RestaurantsPriceRange2\": \"2\", \"Ambience\": \"{\"romantic\": False, \"intimate\": False, \"classy\": False, \"hipster\": False, \"divey\": False, \"touristy\": False, \"trendy\": False, \"upscale\": False, \"casual\": False}\", \"RestaurantsReservations\": \"False\", \"HappyHour\": \"True\", \"Alcohol\": \"\"full_bar\"\", \"BikeParking\": \"False\", \"OutdoorSeating\": \"False\"}',\n",
       " '{\"BusinessAcceptsCreditCards\": \"True\"}',\n",
       " '{\"RestaurantsAttire\": \"\"casual\"\", \"BikeParking\": \"True\", \"Ambience\": \"{\"romantic\": False, \"intimate\": False, \"classy\": False, \"hipster\": False, \"divey\": False, \"touristy\": False, \"trendy\": False, \"upscale\": False, \"casual\": False}\", \"BusinessParking\": \"{\"garage\": False, \"street\": False, \"validated\": False, \"lot\": False, \"valet\": False}\", \"RestaurantsTakeOut\": \"True\", \"RestaurantsPriceRange2\": \"2\", \"RestaurantsGoodForGroups\": \"True\", \"GoodForKids\": \"True\", \"RestaurantsDelivery\": \"True\", \"RestaurantsReservations\": \"False\", \"GoodForMeal\": \"{\"dessert\": False, \"latenight\": False, \"lunch\": False, \"dinner\": False, \"brunch\": False, \"breakfast\": False}\", \"OutdoorSeating\": \"None\", \"WiFi\": \"\"no\"\", \"HasTV\": \"True\"}',\n",
       " '{\"BusinessAcceptsCreditCards\": \"True\", \"WiFi\": \"\"free\"\", \"WheelchairAccessible\": \"True\", \"RestaurantsPriceRange2\": \"2\"}',\n",
       " '{\"BusinessParking\": \"{\"garage\": False, \"street\": False, \"validated\": False, \"lot\": True, \"valet\": False}\", \"ByAppointmentOnly\": \"False\", \"DogsAllowed\": \"False\", \"BusinessAcceptsCreditCards\": \"False\", \"BikeParking\": \"False\", \"BusinessAcceptsBitcoin\": \"False\", \"WheelchairAccessible\": \"True\"}',\n",
       " '{\"BusinessParking\": \"{\"garage\": False, \"street\": False, \"validated\": False, \"lot\": True, \"valet\": False}\", \"RestaurantsDelivery\": \"True\", \"RestaurantsTakeOut\": \"True\", \"DriveThru\": \"True\"}',\n",
       " '{\"BusinessAcceptsCreditCards\": \"True\", \"WiFi\": \"u\"free\"\"}',\n",
       " '{\"WiFi\": \"u\"free\"\", \"BusinessAcceptsCreditCards\": \"True\", \"ByAppointmentOnly\": \"False\"}',\n",
       " None,\n",
       " '{\"WiFi\": \"u\"free\"\", \"ByAppointmentOnly\": \"True\", \"BusinessAcceptsCreditCards\": \"True\"}',\n",
       " '{\"BikeParking\": \"True\", \"RestaurantsAttire\": \"\"casual\"\", \"OutdoorSeating\": \"False\", \"RestaurantsTakeOut\": \"True\", \"GoodForKids\": \"True\", \"RestaurantsReservations\": \"False\", \"RestaurantsGoodForGroups\": \"True\", \"Ambience\": \"{\"romantic\": False, \"intimate\": False, \"classy\": False, \"hipster\": False, \"divey\": False, \"touristy\": False, \"trendy\": False, \"upscale\": False, \"casual\": False}\", \"RestaurantsPriceRange2\": \"1\", \"BusinessAcceptsCreditCards\": \"True\", \"NoiseLevel\": \"\"average\"\", \"WiFi\": \"\"free\"\", \"GoodForMeal\": \"{\"dessert\": False, \"latenight\": False, \"lunch\": False, \"dinner\": False, \"brunch\": False, \"breakfast\": False}\", \"HasTV\": \"True\", \"RestaurantsDelivery\": \"True\", \"DriveThru\": \"True\", \"BusinessParking\": \"{\"garage\": False, \"street\": False, \"validated\": False, \"lot\": True, \"valet\": False}\"}',\n",
       " '{\"BusinessParking\": \"{\"garage\": False, \"street\": False, \"validated\": False, \"lot\": False, \"valet\": False}\", \"BusinessAcceptsCreditCards\": \"False\", \"RestaurantsPriceRange2\": \"1\", \"BikeParking\": \"True\"}',\n",
       " None,\n",
       " None,\n",
       " '{\"GoodForKids\": \"True\", \"BusinessAcceptsCreditCards\": \"True\", \"RestaurantsGoodForGroups\": \"True\", \"Ambience\": \"{\"touristy\": False, \"hipster\": False, \"romantic\": False, \"divey\": False, \"intimate\": False, \"trendy\": False, \"upscale\": False, \"classy\": False, \"casual\": False}\", \"RestaurantsPriceRange2\": \"2\", \"GoodForMeal\": \"{\"dessert\": False, \"latenight\": False, \"lunch\": False, \"dinner\": False, \"brunch\": False, \"breakfast\": False}\", \"HasTV\": \"True\", \"RestaurantsTakeOut\": \"True\", \"BusinessParking\": \"{\"garage\": False, \"street\": False, \"validated\": False, \"lot\": True, \"valet\": False}\", \"OutdoorSeating\": \"None\", \"RestaurantsAttire\": \"\"casual\"\", \"RestaurantsDelivery\": \"True\"}',\n",
       " '{\"BusinessAcceptsCreditCards\": \"True\"}',\n",
       " '{\"BusinessAcceptsCreditCards\": \"True\", \"ByAppointmentOnly\": \"False\", \"RestaurantsPriceRange2\": \"2\", \"BusinessParking\": \"{\"garage\": False, \"street\": False, \"validated\": False, \"lot\": False, \"valet\": False}\"}',\n",
       " None,\n",
       " '{\"BusinessParking\": \"{\"garage\": False, \"street\": True, \"validated\": False, \"lot\": False, \"valet\": False}\", \"RestaurantsPriceRange2\": \"4\", \"ByAppointmentOnly\": \"False\", \"BikeParking\": \"True\", \"BusinessAcceptsCreditCards\": \"True\"}',\n",
       " '{\"RestaurantsReservations\": \"False\", \"OutdoorSeating\": \"False\", \"Ambience\": \"{\"romantic\": False, \"intimate\": False, \"touristy\": False, \"hipster\": False, \"divey\": False, \"classy\": False, \"trendy\": False, \"upscale\": False, \"casual\": True}\", \"GoodForKids\": \"True\", \"RestaurantsTakeOut\": \"True\", \"Alcohol\": \"u\"none\"\", \"RestaurantsAttire\": \"u\"casual\"\", \"BusinessAcceptsCreditCards\": \"True\", \"RestaurantsDelivery\": \"True\", \"RestaurantsGoodForGroups\": \"False\", \"WiFi\": \"u\"no\"\", \"NoiseLevel\": \"u\"quiet\"\", \"Caters\": \"True\", \"GoodForMeal\": \"{\"dessert\": False, \"latenight\": False, \"lunch\": True, \"dinner\": True, \"brunch\": False, \"breakfast\": False}\", \"BusinessParking\": \"{\"garage\": False, \"street\": True, \"validated\": False, \"lot\": False, \"valet\": False}\", \"BikeParking\": \"True\", \"HasTV\": \"True\", \"RestaurantsPriceRange2\": \"1\"}',\n",
       " '{\"RestaurantsAttire\": \"\"casual\"\", \"NoiseLevel\": \"u\"average\"\", \"RestaurantsTakeOut\": \"True\", \"GoodForDancing\": \"False\", \"RestaurantsGoodForGroups\": \"True\", \"HasTV\": \"True\", \"Music\": \"{\"dj\": False, \"background_music\": True, \"jukebox\": False, \"live\": False, \"video\": False, \"karaoke\": False}\", \"RestaurantsTableService\": \"True\", \"WheelchairAccessible\": \"False\", \"Alcohol\": \"u\"full_bar\"\", \"Smoking\": \"u\"no\"\", \"BestNights\": \"{\"monday\": False, \"tuesday\": False, \"friday\": False, \"wednesday\": False, \"thursday\": False, \"sunday\": False, \"saturday\": False}\", \"Ambience\": \"{\"touristy\": False, \"hipster\": False, \"romantic\": False, \"divey\": False, \"intimate\": False, \"trendy\": False, \"upscale\": False, \"classy\": False, \"casual\": True}\", \"RestaurantsPriceRange2\": \"2\", \"OutdoorSeating\": \"True\", \"BusinessAcceptsCreditCards\": \"True\", \"HappyHour\": \"True\", \"BikeParking\": \"True\", \"CoatCheck\": \"False\", \"GoodForMeal\": \"{\"dessert\": False, \"latenight\": False, \"lunch\": True, \"dinner\": True, \"brunch\": True, \"breakfast\": False}\", \"WiFi\": \"\"no\"\", \"RestaurantsReservations\": \"True\", \"GoodForKids\": \"False\", \"RestaurantsDelivery\": \"False\", \"BusinessParking\": \"{\"garage\": False, \"street\": True, \"validated\": False, \"lot\": False, \"valet\": False}\"}',\n",
       " '{\"BusinessAcceptsCreditCards\": \"True\"}',\n",
       " '{\"RestaurantsPriceRange2\": \"1\", \"BusinessAcceptsCreditCards\": \"True\", \"WiFi\": \"u\"free\"\", \"BikeParking\": \"True\", \"Caters\": \"True\", \"Alcohol\": \"u\"none\"\", \"RestaurantsGoodForGroups\": \"True\", \"Ambience\": \"{\"romantic\": False, \"intimate\": False, \"classy\": False, \"hipster\": False, \"divey\": False, \"touristy\": False, \"trendy\": False, \"upscale\": False, \"casual\": True}\", \"OutdoorSeating\": \"False\", \"GoodForMeal\": \"{\"dessert\": True, \"latenight\": False, \"lunch\": True, \"dinner\": True, \"brunch\": False, \"breakfast\": True}\", \"NoiseLevel\": \"\"average\"\", \"BusinessParking\": \"{\"garage\": False, \"street\": False, \"validated\": False, \"lot\": True, \"valet\": False}\", \"DogsAllowed\": \"False\", \"HasTV\": \"False\", \"RestaurantsAttire\": \"u\"casual\"\", \"GoodForKids\": \"True\", \"RestaurantsTakeOut\": \"True\", \"RestaurantsReservations\": \"False\", \"DriveThru\": \"True\", \"RestaurantsDelivery\": \"True\"}',\n",
       " '{\"RestaurantsTakeOut\": \"False\", \"RestaurantsDelivery\": \"False\", \"ByAppointmentOnly\": \"True\"}',\n",
       " '{\"GoodForKids\": \"True\", \"BusinessAcceptsCreditCards\": \"True\", \"BusinessParking\": \"{\"garage\": False, \"street\": False, \"validated\": False, \"lot\": True, \"valet\": False}\", \"BikeParking\": \"False\", \"DogsAllowed\": \"False\", \"WiFi\": \"u\"free\"\", \"BusinessAcceptsBitcoin\": \"False\", \"WheelchairAccessible\": \"True\"}',\n",
       " '{\"OutdoorSeating\": \"True\", \"RestaurantsAttire\": \"\"casual\"\", \"RestaurantsPriceRange2\": \"1\", \"Ambience\": \"{\"romantic\": False, \"intimate\": False, \"classy\": False, \"hipster\": False, \"divey\": False, \"touristy\": False, \"trendy\": False, \"upscale\": False, \"casual\": False}\", \"WiFi\": \"u\"no\"\", \"RestaurantsTakeOut\": \"True\", \"Alcohol\": \"u\"none\"\", \"NoiseLevel\": \"\"average\"\", \"GoodForKids\": \"True\", \"RestaurantsReservations\": \"False\", \"RestaurantsGoodForGroups\": \"True\", \"BusinessParking\": \"{\"garage\": False, \"street\": False, \"validated\": False, \"lot\": True, \"valet\": False}\", \"HasTV\": \"True\", \"RestaurantsTableService\": \"True\", \"DriveThru\": \"True\", \"BusinessAcceptsCreditCards\": \"True\", \"Caters\": \"False\", \"GoodForMeal\": \"{\"dessert\": False, \"latenight\": False, \"lunch\": False, \"dinner\": False, \"brunch\": False, \"breakfast\": False}\", \"BikeParking\": \"True\", \"RestaurantsDelivery\": \"True\"}',\n",
       " '{\"BusinessParking\": \"{\"garage\": False, \"street\": True, \"validated\": False, \"lot\": True, \"valet\": False}\", \"BusinessAcceptsCreditCards\": \"True\", \"RestaurantsPriceRange2\": \"2\", \"ByAppointmentOnly\": \"False\", \"BikeParking\": \"True\"}',\n",
       " '{\"BusinessParking\": \"{\"garage\": False, \"street\": False, \"validated\": False, \"lot\": False, \"valet\": False}\", \"BusinessAcceptsCreditCards\": \"True\", \"RestaurantsDelivery\": \"True\", \"RestaurantsTakeOut\": \"False\"}',\n",
       " '{\"BusinessAcceptsCreditCards\": \"True\", \"RestaurantsPriceRange2\": \"2\", \"BikeParking\": \"True\", \"ByAppointmentOnly\": \"False\", \"BusinessParking\": \"{\"garage\": False, \"street\": True, \"validated\": False, \"lot\": True, \"valet\": False}\", \"HairSpecializesIn\": \"{\"straightperms\": True, \"coloring\": True, \"extensions\": True, \"africanamerican\": False, \"curly\": True, \"kids\": True, \"perms\": False, \"asian\": True}\", \"GoodForKids\": \"True\", \"WheelchairAccessible\": \"False\"}',\n",
       " '{\"BusinessParking\": \"{\"garage\": False, \"street\": True, \"validated\": False, \"lot\": False, \"valet\": False}\", \"ByAppointmentOnly\": \"False\", \"BikeParking\": \"True\", \"BusinessAcceptsCreditCards\": \"True\", \"RestaurantsPriceRange2\": \"1\"}',\n",
       " '{\"BusinessParking\": \"None\", \"BusinessAcceptsCreditCards\": \"True\"}',\n",
       " '{\"BusinessAcceptsCreditCards\": \"True\", \"ByAppointmentOnly\": \"True\"}',\n",
       " '{\"NoiseLevel\": \"u\"average\"\", \"GoodForMeal\": \"{\"dessert\": False, \"latenight\": False, \"lunch\": False, \"dinner\": False, \"brunch\": False, \"breakfast\": False}\", \"Ambience\": \"{\"touristy\": False, \"hipster\": False, \"romantic\": False, \"divey\": False, \"intimate\": False, \"trendy\": False, \"upscale\": False, \"classy\": False, \"casual\": False}\", \"BusinessAcceptsCreditCards\": \"True\", \"WiFi\": \"u\"free\"\", \"HasTV\": \"True\", \"RestaurantsDelivery\": \"True\", \"BusinessParking\": \"{\"garage\": False, \"street\": True, \"validated\": False, \"lot\": False, \"valet\": False}\", \"RestaurantsTakeOut\": \"True\"}',\n",
       " '{\"BusinessParking\": \"{\"garage\": False, \"street\": True, \"validated\": False, \"lot\": False, \"valet\": False}\", \"GoodForKids\": \"True\", \"Caters\": \"True\", \"Alcohol\": \"u\"full_bar\"\", \"RestaurantsTakeOut\": \"True\", \"RestaurantsGoodForGroups\": \"True\", \"RestaurantsAttire\": \"u\"casual\"\", \"BikeParking\": \"True\", \"WiFi\": \"u\"free\"\", \"BusinessAcceptsCreditCards\": \"True\", \"NoiseLevel\": \"u\"average\"\", \"RestaurantsPriceRange2\": \"2\", \"HasTV\": \"True\", \"BusinessAcceptsBitcoin\": \"False\", \"BestNights\": \"{\"monday\": False, \"tuesday\": False, \"friday\": True, \"wednesday\": False, \"thursday\": True, \"sunday\": False, \"saturday\": True}\", \"RestaurantsTableService\": \"True\", \"HappyHour\": \"True\", \"RestaurantsDelivery\": \"True\", \"Ambience\": \"{\"touristy\": False, \"hipster\": True, \"romantic\": False, \"divey\": False, \"intimate\": False, \"trendy\": False, \"upscale\": False, \"classy\": True, \"casual\": True}\", \"GoodForDancing\": \"False\", \"CoatCheck\": \"False\", \"BYOB\": \"False\", \"Smoking\": \"u\"outdoor\"\", \"DogsAllowed\": \"False\", \"Music\": \"{\"dj\": None, \"background_music\": False, \"no_music\": False, \"jukebox\": False, \"live\": None, \"video\": False, \"karaoke\": False}\", \"WheelchairAccessible\": \"True\", \"RestaurantsReservations\": \"False\", \"GoodForMeal\": \"{\"dessert\": None, \"latenight\": None, \"lunch\": True, \"dinner\": True, \"brunch\": None, \"breakfast\": False}\", \"OutdoorSeating\": \"True\"}',\n",
       " '{\"AcceptsInsurance\": \"False\", \"BusinessAcceptsCreditCards\": \"True\", \"BikeParking\": \"True\", \"BusinessParking\": \"{\"garage\": False, \"street\": True, \"validated\": False, \"lot\": False, \"valet\": False}\", \"ByAppointmentOnly\": \"True\", \"WiFi\": \"u\"free\"\", \"WheelchairAccessible\": \"True\"}',\n",
       " '{\"GoodForKids\": \"True\", \"BikeParking\": \"True\", \"WheelchairAccessible\": \"False\", \"BusinessAcceptsCreditCards\": \"True\", \"ByAppointmentOnly\": \"True\", \"BusinessParking\": \"{\"garage\": True, \"street\": True, \"validated\": False, \"lot\": False, \"valet\": False}\", \"DogsAllowed\": \"True\"}',\n",
       " '{\"BusinessAcceptsCreditCards\": \"True\", \"RestaurantsPriceRange2\": \"3\", \"ByAppointmentOnly\": \"True\", \"BusinessParking\": \"{u\"valet\": False, u\"garage\": False, u\"street\": True, u\"lot\": False, u\"validated\": False}\"}',\n",
       " '{\"RestaurantsReservations\": \"False\", \"RestaurantsTakeOut\": \"True\", \"OutdoorSeating\": \"False\", \"BikeParking\": \"True\", \"GoodForKids\": \"True\", \"RestaurantsAttire\": \"u\"casual\"\", \"RestaurantsGoodForGroups\": \"True\", \"BusinessAcceptsCreditCards\": \"True\", \"NoiseLevel\": \"u\"average\"\", \"Ambience\": \"{\"romantic\": False, \"intimate\": False, \"touristy\": False, \"hipster\": False, \"divey\": False, \"classy\": False, \"trendy\": False, \"upscale\": False, \"casual\": True}\", \"Alcohol\": \"u\"none\"\", \"WiFi\": \"\"no\"\", \"Caters\": \"True\", \"GoodForMeal\": \"{\"dessert\": True, \"latenight\": False, \"lunch\": True, \"dinner\": True, \"brunch\": None, \"breakfast\": None}\", \"HasTV\": \"True\", \"BusinessParking\": \"{\"garage\": False, \"street\": False, \"validated\": False, \"lot\": True, \"valet\": False}\", \"RestaurantsPriceRange2\": \"1\", \"RestaurantsDelivery\": \"True\"}',\n",
       " '{\"BusinessParking\": \"{\"garage\": False, \"street\": False, \"validated\": False, \"lot\": True, \"valet\": False}\", \"BikeParking\": \"True\", \"Caters\": \"False\", \"RestaurantsPriceRange2\": \"2\", \"RestaurantsTakeOut\": \"True\", \"RestaurantsDelivery\": \"True\"}',\n",
       " None,\n",
       " '{\"RestaurantsPriceRange2\": \"2\", \"BusinessAcceptsCreditCards\": \"True\"}',\n",
       " '{\"GoodForKids\": \"False\", \"RestaurantsAttire\": \"u\"casual\"\", \"Alcohol\": \"u\"none\"\", \"RestaurantsGoodForGroups\": \"False\", \"OutdoorSeating\": \"False\", \"BusinessParking\": \"{\"garage\": False, \"street\": False, \"validated\": False, \"lot\": False, \"valet\": False}\", \"RestaurantsTakeOut\": \"True\", \"RestaurantsDelivery\": \"False\", \"NoiseLevel\": \"u\"quiet\"\", \"RestaurantsPriceRange2\": \"1\", \"WiFi\": \"u\"no\"\", \"Ambience\": \"{\"romantic\": False, \"intimate\": False, \"touristy\": False, \"hipster\": False, \"divey\": False, \"classy\": False, \"trendy\": False, \"upscale\": False, \"casual\": False}\", \"BusinessAcceptsCreditCards\": \"True\", \"BikeParking\": \"True\", \"HasTV\": \"False\"}',\n",
       " '{\"BusinessAcceptsCreditCards\": \"True\", \"BusinessAcceptsBitcoin\": \"False\", \"ByAppointmentOnly\": \"False\"}',\n",
       " '{\"RestaurantsPriceRange2\": \"2\", \"BusinessParking\": \"{\"garage\": False, \"street\": True, \"validated\": False, \"lot\": False, \"valet\": False}\", \"ByAppointmentOnly\": \"True\", \"BusinessAcceptsCreditCards\": \"True\"}',\n",
       " '{\"BusinessParking\": \"{\"garage\": False, \"street\": False, \"validated\": False, \"lot\": False, \"valet\": False}\", \"RestaurantsPriceRange2\": \"2\", \"BusinessAcceptsCreditCards\": \"True\", \"WiFi\": \"u\"no\"\"}',\n",
       " '{\"OutdoorSeating\": \"True\", \"RestaurantsAttire\": \"u\"casual\"\", \"GoodForKids\": \"True\", \"BusinessAcceptsCreditCards\": \"True\", \"Ambience\": \"{\"romantic\": False, \"intimate\": False, \"classy\": False, \"hipster\": False, \"divey\": False, \"touristy\": False, \"trendy\": False, \"upscale\": False, \"casual\": False}\", \"RestaurantsReservations\": \"False\", \"BikeParking\": \"False\", \"RestaurantsTableService\": \"False\", \"RestaurantsTakeOut\": \"True\", \"HasTV\": \"False\", \"GoodForMeal\": \"{\"dessert\": False, \"latenight\": False, \"lunch\": False, \"dinner\": False, \"brunch\": False, \"breakfast\": False}\", \"RestaurantsPriceRange2\": \"1\", \"RestaurantsDelivery\": \"False\", \"NoiseLevel\": \"u\"quiet\"\", \"WiFi\": \"None\", \"BusinessParking\": \"{\"garage\": False, \"street\": False, \"validated\": False, \"lot\": True, \"valet\": False}\", \"RestaurantsGoodForGroups\": \"True\", \"Alcohol\": \"\"none\"\"}',\n",
       " '{\"BusinessAcceptsCreditCards\": \"True\", \"RestaurantsPriceRange2\": \"3\", \"BusinessParking\": \"{\"garage\": False, \"street\": False, \"validated\": False, \"lot\": False, \"valet\": False}\"}',\n",
       " '{\"BusinessAcceptsCreditCards\": \"True\", \"RestaurantsPriceRange2\": \"1\", \"HasTV\": \"True\", \"Ambience\": \"{\"touristy\": False, \"hipster\": False, \"romantic\": False, \"divey\": False, \"intimate\": False, \"trendy\": False, \"upscale\": False, \"classy\": False, \"casual\": False}\", \"WiFi\": \"\"free\"\", \"Music\": \"{\"dj\": False, \"background_music\": False, \"no_music\": False, \"jukebox\": False, \"live\": False, \"video\": False, \"karaoke\": False}\"}',\n",
       " '{\"GoodForMeal\": \"{\"dessert\": False, \"latenight\": False, \"lunch\": False, \"dinner\": True, \"brunch\": False, \"breakfast\": False}\", \"HasTV\": \"True\", \"Caters\": \"True\", \"RestaurantsAttire\": \"u\"casual\"\", \"Ambience\": \"{\"touristy\": False, \"hipster\": False, \"romantic\": False, \"divey\": False, \"intimate\": False, \"trendy\": False, \"upscale\": False, \"classy\": True, \"casual\": True}\", \"GoodForKids\": \"True\", \"DogsAllowed\": \"True\", \"NoiseLevel\": \"u\"average\"\", \"RestaurantsGoodForGroups\": \"True\", \"RestaurantsReservations\": \"True\", \"RestaurantsDelivery\": \"True\", \"RestaurantsPriceRange2\": \"2\", \"BusinessAcceptsCreditCards\": \"True\", \"Alcohol\": \"u\"none\"\", \"HappyHour\": \"False\", \"OutdoorSeating\": \"None\", \"BusinessAcceptsBitcoin\": \"False\", \"BusinessParking\": \"{\"garage\": False, \"street\": True, \"validated\": False, \"lot\": True, \"valet\": False}\", \"BikeParking\": \"True\", \"WheelchairAccessible\": \"True\", \"RestaurantsTableService\": \"True\", \"RestaurantsTakeOut\": \"True\", \"WiFi\": \"u\"free\"\"}',\n",
       " '{\"BusinessAcceptsCreditCards\": \"True\", \"RestaurantsPriceRange2\": \"1\", \"BikeParking\": \"True\", \"Alcohol\": \"u\"none\"\", \"RestaurantsTakeOut\": \"True\", \"Caters\": \"True\", \"WiFi\": \"u\"no\"\", \"BusinessParking\": \"{\"garage\": False, \"street\": True, \"validated\": False, \"lot\": False, \"valet\": False}\", \"RestaurantsDelivery\": \"True\", \"WheelchairAccessible\": \"True\"}',\n",
       " '{\"BusinessAcceptsCreditCards\": \"True\", \"Caters\": \"True\", \"RestaurantsAttire\": \"\"casual\"\", \"RestaurantsGoodForGroups\": \"True\", \"RestaurantsPriceRange2\": \"2\", \"RestaurantsReservations\": \"True\", \"BikeParking\": \"True\", \"BusinessParking\": \"{\"garage\": False, \"street\": True, \"validated\": False, \"lot\": False, \"valet\": False}\", \"Ambience\": \"{\"romantic\": False, \"intimate\": False, \"touristy\": False, \"hipster\": False, \"divey\": False, \"classy\": False, \"trendy\": False, \"upscale\": False, \"casual\": True}\", \"HasTV\": \"True\", \"GoodForKids\": \"True\", \"RestaurantsDelivery\": \"False\", \"OutdoorSeating\": \"True\", \"NoiseLevel\": \"u\"average\"\", \"Alcohol\": \"\"full_bar\"\", \"RestaurantsTakeOut\": \"True\", \"HappyHour\": \"True\", \"WiFi\": \"u\"free\"\", \"GoodForMeal\": \"{\"dessert\": False, \"latenight\": False, \"lunch\": False, \"dinner\": True, \"brunch\": False, \"breakfast\": False}\"}',\n",
       " '{\"RestaurantsDelivery\": \"True\", \"BikeParking\": \"True\", \"BusinessParking\": \"{\"garage\": False, \"street\": True, \"validated\": False, \"lot\": False, \"valet\": False}\", \"RestaurantsPriceRange2\": \"1\", \"OutdoorSeating\": \"True\", \"Ambience\": \"{\"romantic\": False, \"intimate\": False, \"touristy\": False, \"hipster\": False, \"divey\": False, \"classy\": False, \"trendy\": False, \"upscale\": False, \"casual\": True}\", \"BusinessAcceptsCreditCards\": \"True\", \"RestaurantsReservations\": \"False\", \"WiFi\": \"u\"no\"\", \"Alcohol\": \"u\"none\"\", \"RestaurantsAttire\": \"u\"casual\"\", \"GoodForKids\": \"True\", \"RestaurantsTakeOut\": \"True\", \"HasTV\": \"True\", \"Caters\": \"False\", \"RestaurantsGoodForGroups\": \"True\", \"NoiseLevel\": \"u\"average\"\", \"GoodForMeal\": \"{\"dessert\": False, \"latenight\": False, \"lunch\": True, \"dinner\": False, \"brunch\": False, \"breakfast\": False}\"}',\n",
       " '{\"DriveThru\": \"None\", \"BusinessParking\": \"{u\"valet\": False, u\"garage\": False, u\"street\": False, u\"lot\": True, u\"validated\": False}\", \"RestaurantsTakeOut\": \"True\", \"RestaurantsDelivery\": \"True\"}',\n",
       " '{\"Music\": \"{\"dj\": False}\", \"BusinessParking\": \"{\"garage\": False, \"street\": False, \"validated\": False, \"lot\": False, \"valet\": False}\", \"CoatCheck\": \"False\", \"OutdoorSeating\": \"True\", \"NoiseLevel\": \"\"average\"\", \"HappyHour\": \"True\", \"HasTV\": \"True\", \"Alcohol\": \"\"full_bar\"\", \"GoodForDancing\": \"False\", \"RestaurantsGoodForGroups\": \"True\", \"Ambience\": \"{\"romantic\": False, \"intimate\": False, \"classy\": False, \"hipster\": False, \"divey\": False, \"touristy\": False, \"trendy\": False, \"upscale\": False, \"casual\": False}\", \"RestaurantsPriceRange2\": \"2\", \"BikeParking\": \"True\", \"RestaurantsDelivery\": \"True\", \"WheelchairAccessible\": \"True\", \"BusinessAcceptsCreditCards\": \"True\"}',\n",
       " '{\"BusinessAcceptsCreditCards\": \"True\", \"RestaurantsPriceRange2\": \"3\"}',\n",
       " '{\"RestaurantsDelivery\": \"True\", \"Caters\": \"True\", \"RestaurantsTakeOut\": \"True\", \"RestaurantsTableService\": \"False\"}',\n",
       " '{\"BikeParking\": \"False\", \"BusinessAcceptsCreditCards\": \"True\", \"ByAppointmentOnly\": \"False\", \"RestaurantsPriceRange2\": \"2\", \"BusinessParking\": \"{\"garage\": False, \"street\": False, \"validated\": False, \"lot\": True, \"valet\": False}\"}',\n",
       " '{\"BusinessAcceptsCreditCards\": \"True\", \"RestaurantsDelivery\": \"True\", \"RestaurantsTableService\": \"True\", \"RestaurantsTakeOut\": \"True\", \"Caters\": \"True\", \"Alcohol\": \"u\"full_bar\"\", \"BusinessParking\": \"{\"garage\": False, \"street\": True, \"validated\": False, \"lot\": False, \"valet\": True}\", \"WheelchairAccessible\": \"True\", \"WiFi\": \"u\"free\"\", \"OutdoorSeating\": \"False\", \"Ambience\": \"{\"touristy\": False, \"hipster\": False, \"romantic\": False, \"divey\": False, \"intimate\": False, \"trendy\": False, \"upscale\": False, \"classy\": True, \"casual\": False}\"}',\n",
       " '{\"WheelchairAccessible\": \"True\", \"BusinessParking\": \"{\"garage\": False, \"street\": True, \"validated\": False, \"lot\": False, \"valet\": False}\", \"ByAppointmentOnly\": \"False\", \"BikeParking\": \"False\", \"BusinessAcceptsBitcoin\": \"False\", \"BusinessAcceptsCreditCards\": \"True\", \"WiFi\": \"u\"free\"\", \"RestaurantsPriceRange2\": \"2\"}',\n",
       " '{\"GoodForKids\": \"True\", \"BusinessAcceptsCreditCards\": \"True\"}',\n",
       " '{\"BusinessAcceptsCreditCards\": \"True\"}',\n",
       " '{\"BusinessAcceptsCreditCards\": \"True\", \"WheelchairAccessible\": \"True\", \"RestaurantsPriceRange2\": \"2\", \"BikeParking\": \"True\"}',\n",
       " '{\"RestaurantsTakeOut\": \"True\", \"HappyHour\": \"False\", \"RestaurantsPriceRange2\": \"2\", \"BikeParking\": \"True\", \"OutdoorSeating\": \"True\", \"Alcohol\": \"\"beer_and_wine\"\", \"Caters\": \"True\", \"RestaurantsDelivery\": \"True\", \"WheelchairAccessible\": \"True\", \"RestaurantsReservations\": \"True\", \"RestaurantsGoodForGroups\": \"True\", \"BusinessParking\": \"{\"garage\": False, \"street\": None, \"validated\": False, \"lot\": None, \"valet\": False}\", \"WiFi\": \"u\"free\"\", \"NoiseLevel\": \"u\"average\"\", \"Ambience\": \"{u\"divey\": False, u\"hipster\": False, u\"casual\": True, u\"touristy\": False, u\"trendy\": None, u\"intimate\": None, u\"romantic\": False, u\"classy\": None, u\"upscale\": False}\", \"BusinessAcceptsCreditCards\": \"True\", \"GoodForKids\": \"True\", \"DogsAllowed\": \"False\", \"GoodForMeal\": \"{\"dessert\": None, \"latenight\": False, \"lunch\": True, \"dinner\": True, \"brunch\": False, \"breakfast\": False}\", \"HasTV\": \"True\", \"RestaurantsAttire\": \"u\"casual\"\", \"RestaurantsTableService\": \"True\"}',\n",
       " '{\"RestaurantsPriceRange2\": \"2\", \"BikeParking\": \"True\", \"BusinessParking\": \"{\"garage\": False, \"street\": False, \"validated\": False, \"lot\": True, \"valet\": False}\", \"ByAppointmentOnly\": \"False\", \"BusinessAcceptsCreditCards\": \"True\"}',\n",
       " '{\"GoodForKids\": \"True\", \"OutdoorSeating\": \"False\", \"RestaurantsAttire\": \"u\"casual\"\", \"RestaurantsPriceRange2\": \"2\", \"RestaurantsGoodForGroups\": \"True\", \"Alcohol\": \"u\"beer_and_wine\"\", \"RestaurantsTakeOut\": \"True\", \"HasTV\": \"True\", \"BusinessAcceptsCreditCards\": \"True\", \"Caters\": \"True\", \"BikeParking\": \"False\", \"BusinessParking\": \"{\"garage\": False, \"street\": False, \"validated\": False, \"lot\": True, \"valet\": False}\", \"GoodForMeal\": \"{\"dessert\": False, \"latenight\": False, \"lunch\": True, \"dinner\": True, \"brunch\": False, \"breakfast\": False}\", \"NoiseLevel\": \"u\"quiet\"\", \"WiFi\": \"\"no\"\", \"DogsAllowed\": \"False\", \"RestaurantsReservations\": \"True\", \"RestaurantsTableService\": \"True\", \"WheelchairAccessible\": \"True\", \"RestaurantsDelivery\": \"True\", \"Ambience\": \"{u\"divey\": False, u\"hipster\": False, u\"casual\": True, u\"touristy\": False, u\"trendy\": False, u\"intimate\": None, u\"romantic\": None, u\"classy\": None, u\"upscale\": False}\"}',\n",
       " '{\"RestaurantsAttire\": \"\"casual\"\", \"OutdoorSeating\": \"True\", \"NoiseLevel\": \"u\"average\"\", \"RestaurantsPriceRange2\": \"2\", \"BikeParking\": \"True\", \"Caters\": \"True\", \"RestaurantsGoodForGroups\": \"True\", \"BusinessParking\": \"{\"garage\": False, \"street\": False, \"validated\": False, \"lot\": True, \"valet\": False}\", \"RestaurantsReservations\": \"False\", \"WiFi\": \"u\"free\"\", \"RestaurantsTakeOut\": \"True\", \"RestaurantsTableService\": \"False\", \"BusinessAcceptsCreditCards\": \"True\", \"Alcohol\": \"\"beer_and_wine\"\", \"HasTV\": \"True\", \"GoodForKids\": \"True\", \"Ambience\": \"{\"touristy\": False, \"hipster\": False, \"romantic\": False, \"divey\": False, \"intimate\": False, \"trendy\": False, \"upscale\": False, \"classy\": True, \"casual\": True}\", \"GoodForMeal\": \"{u\"breakfast\": False, u\"brunch\": False, u\"lunch\": True, u\"dinner\": True, u\"latenight\": False, u\"dessert\": None}\", \"RestaurantsDelivery\": \"True\"}',\n",
       " '{\"BusinessAcceptsCreditCards\": \"True\", \"RestaurantsTakeOut\": \"True\", \"RestaurantsPriceRange2\": \"2\", \"BusinessParking\": \"{\"garage\": False, \"street\": False, \"validated\": False, \"lot\": True, \"valet\": False}\", \"BikeParking\": \"True\"}',\n",
       " '{\"RestaurantsGoodForGroups\": \"True\", \"RestaurantsAttire\": \"u\"casual\"\", \"RestaurantsTakeOut\": \"True\", \"GoodForKids\": \"True\", \"BusinessAcceptsCreditCards\": \"True\", \"BusinessParking\": \"{\"garage\": False, \"street\": True, \"validated\": False, \"lot\": True, \"valet\": False}\", \"Caters\": \"True\", \"Alcohol\": \"u\"none\"\", \"RestaurantsPriceRange2\": \"1\", \"Ambience\": \"{\"romantic\": False, \"intimate\": False, \"classy\": False, \"hipster\": False, \"divey\": False, \"touristy\": False, \"trendy\": False, \"upscale\": False, \"casual\": False}\", \"HasTV\": \"False\", \"RestaurantsDelivery\": \"False\", \"RestaurantsReservations\": \"False\", \"WiFi\": \"u\"free\"\", \"NoiseLevel\": \"\"average\"\", \"BikeParking\": \"True\", \"OutdoorSeating\": \"False\"}',\n",
       " '{\"BikeParking\": \"True\", \"WiFi\": \"\"free\"\", \"BusinessAcceptsCreditCards\": \"True\", \"BusinessParking\": \"{\"garage\": False, \"street\": False, \"validated\": False, \"lot\": True, \"valet\": False}\", \"RestaurantsPriceRange2\": \"1\", \"ByAppointmentOnly\": \"False\", \"Alcohol\": \"u\"none\"\", \"Caters\": \"False\", \"RestaurantsDelivery\": \"False\", \"OutdoorSeating\": \"False\", \"RestaurantsTakeOut\": \"True\"}',\n",
       " '{\"BusinessAcceptsCreditCards\": \"True\", \"WiFi\": \"u\"free\"\", \"RestaurantsPriceRange2\": \"1\"}',\n",
       " '{\"RestaurantsGoodForGroups\": \"True\", \"RestaurantsTakeOut\": \"True\", \"BusinessAcceptsCreditCards\": \"True\", \"OutdoorSeating\": \"True\", \"RestaurantsAttire\": \"u\"casual\"\", \"RestaurantsPriceRange2\": \"1\", \"GoodForKids\": \"True\", \"BikeParking\": \"True\", \"Ambience\": \"{\"romantic\": False, \"intimate\": False, \"classy\": False, \"hipster\": False, \"divey\": True, \"touristy\": False, \"trendy\": False, \"upscale\": False, \"casual\": False}\", \"NoiseLevel\": \"u\"quiet\"\", \"RestaurantsReservations\": \"False\", \"Alcohol\": \"u\"none\"\", \"RestaurantsDelivery\": \"True\", \"HasTV\": \"False\", \"BusinessParking\": \"{\"garage\": False, \"street\": False, \"validated\": False, \"lot\": True, \"valet\": False}\", \"Caters\": \"True\", \"WiFi\": \"u\"free\"\"}',\n",
       " '{\"BusinessAcceptsCreditCards\": \"True\"}',\n",
       " '{\"RestaurantsReservations\": \"True\", \"NoiseLevel\": \"u\"average\"\", \"BusinessAcceptsCreditCards\": \"True\", \"RestaurantsGoodForGroups\": \"True\", \"GoodForKids\": \"False\", \"Alcohol\": \"u\"full_bar\"\", \"RestaurantsTakeOut\": \"True\", \"RestaurantsDelivery\": \"False\", \"RestaurantsAttire\": \"u\"casual\"\", \"OutdoorSeating\": \"True\", \"BusinessParking\": \"{\"garage\": False, \"street\": True, \"validated\": False, \"lot\": False, \"valet\": False}\", \"Ambience\": \"{\"romantic\": False, \"intimate\": False, \"touristy\": False, \"hipster\": False, \"divey\": False, \"classy\": False, \"trendy\": False, \"upscale\": False, \"casual\": False}\", \"HasTV\": \"False\", \"RestaurantsPriceRange2\": \"2\", \"HappyHour\": \"True\"}',\n",
       " '{\"GoodForKids\": \"False\"}',\n",
       " '{\"BusinessAcceptsCreditCards\": \"True\"}',\n",
       " '{\"ByAppointmentOnly\": \"True\"}',\n",
       " '{\"BusinessParking\": \"{\"garage\": False, \"street\": False, \"validated\": False, \"lot\": False, \"valet\": False}\", \"RestaurantsPriceRange2\": \"2\", \"BusinessAcceptsCreditCards\": \"True\"}',\n",
       " '{\"GoodForKids\": \"True\", \"RestaurantsPriceRange2\": \"2\", \"BusinessAcceptsCreditCards\": \"True\", \"WheelchairAccessible\": \"True\", \"ByAppointmentOnly\": \"True\", \"BikeParking\": \"False\", \"WiFi\": \"u\"free\"\", \"HairSpecializesIn\": \"{u\"africanamerican\": False, u\"asian\": True, u\"curly\": False, u\"perms\": False, u\"extensions\": False, u\"straightperms\": True, u\"coloring\": True, u\"kids\": False}\", \"BusinessParking\": \"{\"garage\": False, \"street\": False, \"validated\": False, \"lot\": True, \"valet\": True}\"}',\n",
       " '{\"BusinessAcceptsCreditCards\": \"True\", \"AcceptsInsurance\": \"True\", \"ByAppointmentOnly\": \"False\"}',\n",
       " '{\"NoiseLevel\": \"u\"loud\"\", \"RestaurantsTakeOut\": \"True\", \"Ambience\": \"{\"touristy\": False, \"hipster\": False, \"romantic\": False, \"divey\": False, \"intimate\": False, \"trendy\": False, \"upscale\": False, \"classy\": False, \"casual\": False}\", \"OutdoorSeating\": \"False\", \"WiFi\": \"\"paid\"\", \"RestaurantsReservations\": \"True\", \"BusinessParking\": \"{\"garage\": False, \"street\": False, \"validated\": False, \"lot\": False, \"valet\": False}\", \"Alcohol\": \"u\"full_bar\"\", \"RestaurantsTableService\": \"True\", \"RestaurantsGoodForGroups\": \"True\", \"RestaurantsAttire\": \"u\"casual\"\", \"RestaurantsPriceRange2\": \"2\", \"HasTV\": \"True\", \"GoodForMeal\": \"{\"dessert\": None, \"latenight\": None, \"lunch\": True, \"dinner\": True, \"brunch\": None, \"breakfast\": None}\", \"GoodForKids\": \"True\", \"BikeParking\": \"True\", \"BusinessAcceptsCreditCards\": \"True\", \"RestaurantsDelivery\": \"None\"}',\n",
       " '{\"BusinessParking\": \"{\"garage\": False, \"street\": False, \"validated\": False, \"lot\": False, \"valet\": False}\", \"RestaurantsTakeOut\": \"True\", \"BusinessAcceptsCreditCards\": \"True\"}',\n",
       " '{\"RestaurantsPriceRange2\": \"2\", \"BusinessAcceptsCreditCards\": \"True\", \"BusinessParking\": \"{\"garage\": False, \"street\": True, \"validated\": False, \"lot\": True, \"valet\": False}\", \"BikeParking\": \"True\", \"WheelchairAccessible\": \"False\", \"BusinessAcceptsBitcoin\": \"False\", \"ByAppointmentOnly\": \"True\", \"AcceptsInsurance\": \"False\", \"WiFi\": \"u\"free\"\"}',\n",
       " '{\"BusinessAcceptsCreditCards\": \"True\", \"RestaurantsPriceRange2\": \"4\", \"BusinessParking\": \"None\", \"BikeParking\": \"True\"}',\n",
       " '{\"BusinessAcceptsCreditCards\": \"True\", \"BusinessParking\": \"{\"garage\": False, \"street\": False, \"validated\": False, \"lot\": True, \"valet\": False}\", \"BikeParking\": \"True\", \"RestaurantsPriceRange2\": \"1\", \"RestaurantsTakeOut\": \"True\", \"RestaurantsDelivery\": \"False\"}',\n",
       " '{\"GoodForKids\": \"True\", \"ByAppointmentOnly\": \"True\", \"WiFi\": \"u\"no\"\"}',\n",
       " '{\"RestaurantsDelivery\": \"False\", \"NoiseLevel\": \"u\"average\"\", \"Ambience\": \"{\"touristy\": False, \"hipster\": False, \"romantic\": False, \"divey\": False, \"intimate\": False, \"trendy\": False, \"upscale\": False, \"classy\": True, \"casual\": False}\"}',\n",
       " '{\"BikeParking\": \"True\", \"BusinessAcceptsCreditCards\": \"True\", \"OutdoorSeating\": \"True\", \"WiFi\": \"u\"free\"\", \"BusinessParking\": \"{\"garage\": False, \"street\": False, \"validated\": False, \"lot\": True, \"valet\": False}\", \"RestaurantsTakeOut\": \"True\", \"RestaurantsPriceRange2\": \"2\", \"Caters\": \"False\"}',\n",
       " '{\"BusinessParking\": \"{\"garage\": False, \"street\": False, \"validated\": False, \"lot\": True, \"valet\": False}\", \"BusinessAcceptsCreditCards\": \"True\", \"RestaurantsPriceRange2\": \"1\", \"BikeParking\": \"True\", \"DogsAllowed\": \"False\"}',\n",
       " '{\"RestaurantsReservations\": \"True\", \"RestaurantsTakeOut\": \"True\", \"RestaurantsTableService\": \"True\", \"Ambience\": \"{\"touristy\": False, \"hipster\": False, \"romantic\": False, \"intimate\": False, \"trendy\": False, \"upscale\": False, \"classy\": True, \"casual\": False}\", \"CoatCheck\": \"True\", \"Smoking\": \"u\"no\"\", \"GoodForMeal\": \"{\"dessert\": False, \"latenight\": False, \"lunch\": False, \"dinner\": False, \"brunch\": False, \"breakfast\": False}\", \"GoodForKids\": \"True\", \"ByAppointmentOnly\": \"False\", \"RestaurantsGoodForGroups\": \"True\", \"DogsAllowed\": \"True\", \"WiFi\": \"u\"free\"\", \"RestaurantsDelivery\": \"True\", \"BikeParking\": \"True\", \"WheelchairAccessible\": \"False\", \"BestNights\": \"{\"monday\": False, \"tuesday\": False, \"friday\": True, \"wednesday\": False, \"thursday\": False, \"sunday\": False, \"saturday\": False}\", \"Music\": \"{u\"dj\": False, u\"live\": None, u\"jukebox\": None, u\"video\": False, u\"background_music\": False, u\"karaoke\": None, u\"no_music\": False}\", \"OutdoorSeating\": \"False\", \"BYOB\": \"False\", \"HappyHour\": \"True\", \"Alcohol\": \"u\"full_bar\"\", \"HasTV\": \"False\", \"BusinessParking\": \"{\"garage\": False, \"street\": True, \"validated\": False, \"lot\": False, \"valet\": False}\"}',\n",
       " '{\"RestaurantsGoodForGroups\": \"True\", \"GoodForKids\": \"True\", \"RestaurantsPriceRange2\": \"2\", \"Alcohol\": \"u\"none\"\", \"BusinessAcceptsCreditCards\": \"True\", \"RestaurantsAttire\": \"\"casual\"\", \"RestaurantsReservations\": \"False\", \"Caters\": \"True\", \"RestaurantsTableService\": \"True\", \"RestaurantsTakeOut\": \"True\", \"GoodForMeal\": \"{\"dessert\": False, \"latenight\": False, \"lunch\": False, \"dinner\": True, \"brunch\": False, \"breakfast\": False}\", \"HasTV\": \"True\", \"BusinessParking\": \"{\"garage\": False, \"street\": False, \"validated\": False, \"lot\": True, \"valet\": False}\", \"WheelchairAccessible\": \"True\", \"NoiseLevel\": \"u\"average\"\", \"Ambience\": \"{\"romantic\": False, \"intimate\": False, \"classy\": False, \"hipster\": False, \"divey\": False, \"touristy\": False, \"trendy\": False, \"upscale\": False, \"casual\": False}\", \"WiFi\": \"u\"free\"\", \"RestaurantsDelivery\": \"True\", \"BikeParking\": \"True\", \"OutdoorSeating\": \"True\"}',\n",
       " '{\"BusinessAcceptsCreditCards\": \"True\"}',\n",
       " '{\"Alcohol\": \"\"full_bar\"\", \"GoodForMeal\": \"{\"dessert\": False, \"latenight\": False, \"lunch\": True, \"dinner\": True, \"brunch\": False, \"breakfast\": False}\", \"NoiseLevel\": \"\"average\"\", \"GoodForDancing\": \"False\", \"WiFi\": \"u\"free\"\", \"RestaurantsTakeOut\": \"True\", \"BusinessAcceptsCreditCards\": \"True\", \"HasTV\": \"True\", \"GoodForKids\": \"True\", \"RestaurantsGoodForGroups\": \"True\", \"RestaurantsTableService\": \"True\", \"Ambience\": \"{\"romantic\": False, \"intimate\": False, \"classy\": False, \"hipster\": False, \"divey\": False, \"touristy\": False, \"trendy\": False, \"upscale\": False, \"casual\": True}\", \"BusinessAcceptsBitcoin\": \"False\", \"BusinessParking\": \"{\"garage\": False, \"street\": False, \"validated\": False, \"lot\": True, \"valet\": False}\", \"Corkage\": \"True\", \"BikeParking\": \"True\", \"RestaurantsPriceRange2\": \"2\", \"Smoking\": \"u\"outdoor\"\", \"RestaurantsAttire\": \"\"casual\"\", \"RestaurantsReservations\": \"True\", \"WheelchairAccessible\": \"True\", \"RestaurantsDelivery\": \"True\", \"HappyHour\": \"True\", \"OutdoorSeating\": \"True\", \"CoatCheck\": \"False\", \"BYOB\": \"False\", \"BestNights\": \"{\"monday\": False, \"tuesday\": False, \"friday\": True, \"wednesday\": False, \"thursday\": False, \"sunday\": False, \"saturday\": False}\", \"Music\": \"{\"dj\": False, \"background_music\": False, \"no_music\": False, \"jukebox\": False, \"live\": True, \"video\": False, \"karaoke\": False}\", \"Caters\": \"True\"}',\n",
       " '{\"BikeParking\": \"True\", \"RestaurantsPriceRange2\": \"1\", \"BusinessAcceptsCreditCards\": \"True\", \"BusinessParking\": \"{\"garage\": False, \"street\": False, \"validated\": False, \"lot\": False, \"valet\": False}\", \"RestaurantsDelivery\": \"True\", \"RestaurantsTakeOut\": \"True\"}',\n",
       " '{\"RestaurantsAttire\": \"u\"casual\"\", \"BusinessAcceptsCreditCards\": \"True\", \"RestaurantsReservations\": \"False\", \"HasTV\": \"True\", \"Alcohol\": \"u\"full_bar\"\", \"RestaurantsGoodForGroups\": \"True\", \"Caters\": \"True\", \"NoiseLevel\": \"u\"average\"\", \"RestaurantsTakeOut\": \"True\", \"GoodForKids\": \"True\", \"WiFi\": \"u\"free\"\", \"OutdoorSeating\": \"False\", \"RestaurantsPriceRange2\": \"2\", \"GoodForMeal\": \"{u\"breakfast\": False, u\"brunch\": False, u\"lunch\": None, u\"dinner\": True, u\"latenight\": None, u\"dessert\": False}\", \"HappyHour\": \"True\", \"RestaurantsDelivery\": \"False\", \"RestaurantsTableService\": \"True\", \"BusinessParking\": \"{u\"valet\": False, u\"garage\": False, u\"street\": None, u\"lot\": None, u\"validated\": False}\", \"Ambience\": \"{u\"divey\": None, u\"hipster\": None, u\"casual\": True, u\"touristy\": None, u\"trendy\": None, u\"intimate\": None, u\"romantic\": None, u\"classy\": None, u\"upscale\": None}\", \"WheelchairAccessible\": \"True\", \"BikeParking\": \"False\"}',\n",
       " '{\"BusinessParking\": \"{\"garage\": False, \"street\": False, \"validated\": False, \"lot\": True, \"valet\": False}\", \"BusinessAcceptsCreditCards\": \"True\", \"RestaurantsPriceRange2\": \"1\", \"BikeParking\": \"True\"}',\n",
       " '{\"BusinessAcceptsCreditCards\": \"True\", \"ByAppointmentOnly\": \"False\"}',\n",
       " '{\"RestaurantsPriceRange2\": \"3\", \"BusinessParking\": \"{\"garage\": False, \"street\": True, \"validated\": False, \"lot\": False, \"valet\": False}\", \"BusinessAcceptsCreditCards\": \"True\", \"BikeParking\": \"True\"}',\n",
       " '{\"RestaurantsPriceRange2\": \"2\", \"Alcohol\": \"u\"beer_and_wine\"\", \"RestaurantsTakeOut\": \"True\", \"RestaurantsGoodForGroups\": \"True\", \"Corkage\": \"False\", \"BusinessAcceptsCreditCards\": \"True\", \"RestaurantsAttire\": \"\"casual\"\", \"OutdoorSeating\": \"False\", \"RestaurantsDelivery\": \"True\", \"BYOBCorkage\": \"\"yes_free\"\", \"GoodForKids\": \"True\", \"WiFi\": \"u\"no\"\", \"BusinessParking\": \"{\"garage\": False, \"street\": False, \"validated\": False, \"lot\": True, \"valet\": False}\", \"HasTV\": \"True\", \"Caters\": \"False\", \"BikeParking\": \"True\", \"NoiseLevel\": \"u\"average\"\", \"DogsAllowed\": \"False\", \"GoodForMeal\": \"{\"dessert\": False, \"latenight\": None, \"lunch\": True, \"dinner\": True, \"brunch\": False, \"breakfast\": False}\", \"WheelchairAccessible\": \"True\", \"RestaurantsReservations\": \"True\", \"Ambience\": \"{u\"divey\": False, u\"hipster\": False, u\"casual\": True, u\"touristy\": None, u\"trendy\": False, u\"intimate\": False, u\"romantic\": False, u\"classy\": False, u\"upscale\": False}\"}',\n",
       " '{\"DogsAllowed\": \"True\", \"BusinessAcceptsBitcoin\": \"False\", \"BikeParking\": \"True\", \"BusinessParking\": \"{\"garage\": False, \"street\": False, \"validated\": False, \"lot\": True, \"valet\": False}\", \"RestaurantsTakeOut\": \"None\", \"WheelchairAccessible\": \"True\", \"BusinessAcceptsCreditCards\": \"True\", \"RestaurantsDelivery\": \"None\", \"ByAppointmentOnly\": \"False\"}',\n",
       " '{\"BusinessAcceptsCreditCards\": \"True\", \"ByAppointmentOnly\": \"False\", \"WheelchairAccessible\": \"True\"}',\n",
       " '{\"BusinessAcceptsCreditCards\": \"True\", \"ByAppointmentOnly\": \"True\"}',\n",
       " '{\"BusinessAcceptsCreditCards\": \"True\", \"WheelchairAccessible\": \"True\", \"ByAppointmentOnly\": \"True\", \"RestaurantsTakeOut\": \"None\", \"RestaurantsPriceRange2\": \"2\", \"BusinessParking\": \"None\", \"BikeParking\": \"True\", \"RestaurantsDelivery\": \"None\"}',\n",
       " '{\"HasTV\": \"True\", \"BikeParking\": \"True\", \"BusinessParking\": \"{\"garage\": False, \"street\": False, \"validated\": False, \"lot\": True, \"valet\": False}\", \"Ambience\": \"{\"romantic\": False, \"intimate\": True, \"classy\": False, \"hipster\": False, \"divey\": False, \"touristy\": False, \"trendy\": False, \"upscale\": False, \"casual\": False}\", \"Alcohol\": \"u\"full_bar\"\", \"BusinessAcceptsCreditCards\": \"True\", \"NoiseLevel\": \"u\"quiet\"\", \"RestaurantsPriceRange2\": \"2\", \"WiFi\": \"\"free\"\", \"OutdoorSeating\": \"True\", \"HappyHour\": \"True\", \"RestaurantsReservations\": \"False\", \"Music\": \"{\"dj\": False, \"background_music\": False, \"no_music\": False, \"jukebox\": False, \"live\": True, \"video\": False, \"karaoke\": False}\", \"RestaurantsGoodForGroups\": \"False\"}',\n",
       " '{\"BusinessAcceptsCreditCards\": \"True\"}',\n",
       " '{\"OutdoorSeating\": \"False\", \"WiFi\": \"\"free\"\", \"RestaurantsReservations\": \"False\", \"GoodForMeal\": \"None\", \"BusinessParking\": \"None\", \"Ambience\": \"None\", \"BusinessAcceptsCreditCards\": \"True\", \"HasTV\": \"True\", \"RestaurantsDelivery\": \"True\", \"RestaurantsTakeOut\": \"True\", \"Caters\": \"True\", \"RestaurantsGoodForGroups\": \"False\", \"DriveThru\": \"True\", \"GoodForKids\": \"True\", \"RestaurantsPriceRange2\": \"1\"}',\n",
       " '{\"BusinessAcceptsCreditCards\": \"False\"}',\n",
       " '{\"BikeParking\": \"True\", \"RestaurantsDelivery\": \"False\", \"Ambience\": \"{\"romantic\": False, \"intimate\": False, \"touristy\": False, \"hipster\": False, \"divey\": False, \"classy\": False, \"trendy\": False, \"upscale\": False, \"casual\": True}\", \"RestaurantsAttire\": \"u\"casual\"\", \"BusinessParking\": \"{\"garage\": False, \"street\": True, \"validated\": False, \"lot\": False, \"valet\": False}\", \"OutdoorSeating\": \"False\", \"NoiseLevel\": \"u\"average\"\", \"RestaurantsReservations\": \"False\", \"GoodForKids\": \"True\", \"Alcohol\": \"u\"none\"\", \"Caters\": \"True\", \"RestaurantsTakeOut\": \"True\", \"WiFi\": \"u\"no\"\", \"RestaurantsPriceRange2\": \"1\", \"BusinessAcceptsCreditCards\": \"True\", \"HasTV\": \"True\", \"RestaurantsTableService\": \"False\", \"GoodForMeal\": \"{\"dessert\": False, \"latenight\": False, \"lunch\": True, \"dinner\": False, \"brunch\": True, \"breakfast\": True}\", \"RestaurantsGoodForGroups\": \"False\"}',\n",
       " '{\"WheelchairAccessible\": \"False\", \"BusinessAcceptsCreditCards\": \"True\", \"RestaurantsDelivery\": \"True\", \"RestaurantsTakeOut\": \"True\", \"BikeParking\": \"True\", \"Caters\": \"True\"}',\n",
       " None,\n",
       " '{\"BusinessParking\": \"{\"garage\": False, \"street\": False, \"validated\": False, \"lot\": True, \"valet\": False}\", \"OutdoorSeating\": \"True\", \"WiFi\": \"u\"free\"\", \"BikeParking\": \"True\", \"DriveThru\": \"True\", \"Caters\": \"False\", \"RestaurantsPriceRange2\": \"2\", \"RestaurantsDelivery\": \"True\", \"RestaurantsTakeOut\": \"True\"}',\n",
       " '{\"WiFi\": \"u\"no\"\", \"BusinessAcceptsCreditCards\": \"True\"}',\n",
       " '{\"WiFi\": \"u\"free\"\"}',\n",
       " '{\"BusinessAcceptsCreditCards\": \"True\", \"GoodForKids\": \"False\", \"RestaurantsPriceRange2\": \"2\", \"Alcohol\": \"u\"full_bar\"\", \"BusinessAcceptsBitcoin\": \"False\", \"RestaurantsGoodForGroups\": \"True\", \"BikeParking\": \"False\", \"BusinessParking\": \"{\"garage\": True, \"street\": True, \"validated\": True, \"lot\": True, \"valet\": True}\", \"OutdoorSeating\": \"False\", \"Caters\": \"False\", \"WiFi\": \"\"free\"\", \"RestaurantsAttire\": \"\"casual\"\", \"BestNights\": \"{\"monday\": False, \"tuesday\": False, \"friday\": True, \"wednesday\": False, \"thursday\": True, \"sunday\": False, \"saturday\": True}\", \"GoodForMeal\": \"{\"dessert\": False, \"latenight\": False, \"lunch\": True, \"dinner\": True, \"brunch\": False, \"breakfast\": False}\", \"NoiseLevel\": \"\"average\"\", \"HasTV\": \"True\", \"RestaurantsReservations\": \"False\", \"RestaurantsTakeOut\": \"True\", \"RestaurantsTableService\": \"True\", \"Ambience\": \"{\"touristy\": False, \"hipster\": False, \"romantic\": False, \"divey\": False, \"intimate\": False, \"trendy\": False, \"upscale\": False, \"classy\": True, \"casual\": True}\", \"ByAppointmentOnly\": \"False\", \"Music\": \"{\"dj\": False, \"background_music\": False, \"no_music\": False, \"jukebox\": False, \"live\": True, \"video\": False, \"karaoke\": False}\", \"DogsAllowed\": \"False\", \"GoodForDancing\": \"False\", \"RestaurantsDelivery\": \"True\"}',\n",
       " '{\"BusinessAcceptsCreditCards\": \"True\", \"BusinessParking\": \"{\"garage\": False, \"street\": False, \"validated\": False, \"lot\": False, \"valet\": False}\", \"WiFi\": \"u\"free\"\", \"ByAppointmentOnly\": \"True\", \"GoodForKids\": \"True\", \"RestaurantsPriceRange2\": \"4\"}',\n",
       " '{\"Alcohol\": \"u\"none\"\", \"RestaurantsReservations\": \"False\", \"RestaurantsTakeOut\": \"True\", \"OutdoorSeating\": \"False\", \"GoodForKids\": \"True\", \"RestaurantsGoodForGroups\": \"False\", \"RestaurantsPriceRange2\": \"2\", \"BusinessAcceptsCreditCards\": \"True\", \"NoiseLevel\": \"u\"average\"\", \"RestaurantsAttire\": \"u\"casual\"\", \"Ambience\": \"{\"romantic\": False, \"intimate\": False, \"touristy\": False, \"hipster\": False, \"divey\": False, \"classy\": False, \"trendy\": False, \"upscale\": False, \"casual\": False}\", \"WiFi\": \"u\"free\"\", \"HasTV\": \"True\", \"BusinessParking\": \"{\"garage\": False, \"street\": True, \"validated\": False, \"lot\": True, \"valet\": False}\", \"BikeParking\": \"True\", \"RestaurantsDelivery\": \"True\"}',\n",
       " None,\n",
       " '{\"Caters\": \"True\", \"BusinessParking\": \"{\"garage\": False, \"street\": False, \"validated\": False, \"lot\": True, \"valet\": False}\", \"RestaurantsPriceRange2\": \"2\", \"BusinessAcceptsCreditCards\": \"True\", \"OutdoorSeating\": \"False\", \"RestaurantsTakeOut\": \"True\", \"RestaurantsGoodForGroups\": \"True\", \"BikeParking\": \"True\", \"RestaurantsAttire\": \"u\"casual\"\", \"Alcohol\": \"u\"none\"\", \"GoodForKids\": \"True\", \"WiFi\": \"u\"free\"\", \"RestaurantsReservations\": \"False\", \"HasTV\": \"True\", \"Ambience\": \"{\"touristy\": False, \"hipster\": False, \"romantic\": False, \"divey\": False, \"intimate\": False, \"trendy\": False, \"upscale\": False, \"classy\": True, \"casual\": True}\", \"RestaurantsDelivery\": \"True\", \"GoodForMeal\": \"{\"dessert\": False, \"latenight\": False, \"lunch\": True, \"dinner\": True, \"brunch\": False, \"breakfast\": True}\", \"NoiseLevel\": \"u\"average\"\"}',\n",
       " '{\"BusinessAcceptsCreditCards\": \"True\", \"RestaurantsTakeOut\": \"True\", \"OutdoorSeating\": \"False\", \"RestaurantsAttire\": \"u\"casual\"\", \"RestaurantsReservations\": \"False\", \"BikeParking\": \"True\", \"Alcohol\": \"u\"none\"\", \"RestaurantsPriceRange2\": \"1\", \"WiFi\": \"u\"no\"\", \"HasTV\": \"False\", \"GoodForKids\": \"True\", \"GoodForMeal\": \"{\"dessert\": False, \"latenight\": False, \"lunch\": True, \"dinner\": True, \"brunch\": False, \"breakfast\": False}\", \"Caters\": \"True\", \"Ambience\": \"{\"romantic\": False, \"intimate\": False, \"touristy\": False, \"hipster\": False, \"divey\": False, \"classy\": False, \"trendy\": False, \"upscale\": False, \"casual\": True}\", \"BusinessParking\": \"{\"garage\": False, \"street\": False, \"validated\": False, \"lot\": True, \"valet\": False}\", \"NoiseLevel\": \"u\"average\"\", \"RestaurantsDelivery\": \"True\", \"RestaurantsGoodForGroups\": \"True\"}',\n",
       " '{\"AcceptsInsurance\": \"True\", \"ByAppointmentOnly\": \"True\", \"BusinessAcceptsCreditCards\": \"True\"}',\n",
       " '{\"GoodForKids\": \"True\", \"BikeParking\": \"True\", \"ByAppointmentOnly\": \"False\", \"BusinessParking\": \"{\"garage\": False, \"street\": False, \"validated\": False, \"lot\": True, \"valet\": False}\", \"BusinessAcceptsCreditCards\": \"True\"}',\n",
       " '{\"RestaurantsReservations\": \"False\", \"Caters\": \"False\", \"WheelchairAccessible\": \"True\", \"BusinessAcceptsCreditCards\": \"True\", \"BikeParking\": \"False\", \"BusinessAcceptsBitcoin\": \"False\", \"RestaurantsTableService\": \"True\", \"RestaurantsAttire\": \"\"casual\"\", \"RestaurantsTakeOut\": \"True\", \"OutdoorSeating\": \"True\", \"NoiseLevel\": \"u\"average\"\", \"RestaurantsGoodForGroups\": \"True\", \"HappyHour\": \"False\", \"DogsAllowed\": \"False\", \"Alcohol\": \"u\"none\"\", \"HasTV\": \"False\", \"BusinessParking\": \"{\"garage\": False, \"street\": False, \"validated\": False, \"lot\": True, \"valet\": False}\", \"WiFi\": \"u\"no\"\", \"GoodForKids\": \"True\", \"RestaurantsDelivery\": \"True\", \"Ambience\": \"{u\"divey\": False, u\"hipster\": False, u\"casual\": True, u\"touristy\": False, u\"trendy\": None, u\"intimate\": False, u\"romantic\": False, u\"classy\": None, u\"upscale\": False}\", \"RestaurantsPriceRange2\": \"2\", \"GoodForMeal\": \"{\"dessert\": None, \"latenight\": None, \"lunch\": True, \"dinner\": None, \"brunch\": True, \"breakfast\": True}\"}',\n",
       " '{\"NoiseLevel\": \"u\"average\"\", \"RestaurantsPriceRange2\": \"2\", \"Alcohol\": \"u\"full_bar\"\", \"BusinessAcceptsCreditCards\": \"True\", \"RestaurantsAttire\": \"u\"casual\"\", \"RestaurantsDelivery\": \"False\", \"BusinessParking\": \"{\"garage\": False, \"street\": False, \"validated\": False, \"lot\": True, \"valet\": False}\", \"GoodForKids\": \"True\", \"BikeParking\": \"True\", \"Ambience\": \"{\"romantic\": False, \"intimate\": False, \"classy\": False, \"hipster\": False, \"divey\": False, \"touristy\": False, \"trendy\": False, \"upscale\": False, \"casual\": True}\", \"WiFi\": \"u\"free\"\", \"RestaurantsTakeOut\": \"True\", \"BusinessAcceptsBitcoin\": \"False\", \"RestaurantsGoodForGroups\": \"True\", \"GoodForMeal\": \"{\"dessert\": False, \"latenight\": False, \"lunch\": True, \"dinner\": True, \"brunch\": False, \"breakfast\": False}\", \"Caters\": \"True\", \"WheelchairAccessible\": \"True\", \"RestaurantsReservations\": \"True\", \"HasTV\": \"True\", \"Smoking\": \"u\"outdoor\"\", \"RestaurantsTableService\": \"True\", \"HappyHour\": \"True\", \"Music\": \"{\"dj\": False, \"background_music\": False, \"no_music\": False, \"jukebox\": False, \"live\": False, \"video\": False, \"karaoke\": False}\", \"OutdoorSeating\": \"True\", \"CoatCheck\": \"True\"}',\n",
       " '{\"BusinessAcceptsCreditCards\": \"True\", \"BikeParking\": \"True\", \"BusinessParking\": \"{\"garage\": False, \"street\": False, \"validated\": False, \"lot\": False, \"valet\": False}\", \"RestaurantsDelivery\": \"True\", \"RestaurantsPriceRange2\": \"4\", \"ByAppointmentOnly\": \"False\"}',\n",
       " '{\"Alcohol\": \"u\"beer_and_wine\"\", \"Caters\": \"True\", \"GoodForKids\": \"True\", \"WiFi\": \"u\"free\"\", \"BusinessAcceptsCreditCards\": \"True\", \"BusinessParking\": \"{\"garage\": False, \"street\": True, \"validated\": False, \"lot\": True, \"valet\": False}\", \"RestaurantsReservations\": \"False\", \"RestaurantsAttire\": \"u\"casual\"\", \"RestaurantsTakeOut\": \"True\", \"OutdoorSeating\": \"False\", \"BikeParking\": \"True\", \"RestaurantsPriceRange2\": \"1\", \"NoiseLevel\": \"u\"average\"\", \"Ambience\": \"{\"touristy\": None, \"hipster\": False, \"romantic\": False, \"divey\": False, \"intimate\": False, \"trendy\": False, \"upscale\": False, \"classy\": False, \"casual\": True}\", \"HasTV\": \"True\", \"RestaurantsGoodForGroups\": \"True\", \"GoodForMeal\": \"{\"dessert\": False, \"latenight\": False, \"lunch\": True, \"dinner\": None, \"brunch\": None, \"breakfast\": True}\", \"RestaurantsDelivery\": \"True\"}',\n",
       " '{\"HasTV\": \"True\", \"BusinessParking\": \"{\"garage\": False, \"street\": False, \"validated\": False, \"lot\": True, \"valet\": False}\", \"GoodForMeal\": \"{\"dessert\": False, \"latenight\": False, \"lunch\": False, \"dinner\": False, \"brunch\": False, \"breakfast\": False}\", \"RestaurantsTableService\": \"True\", \"DogsAllowed\": \"True\", \"Alcohol\": \"u\"full_bar\"\", \"WheelchairAccessible\": \"True\", \"Ambience\": \"{u\"divey\": False, u\"hipster\": None, u\"casual\": True, u\"touristy\": False, u\"trendy\": None, u\"intimate\": False, u\"romantic\": False, u\"classy\": None, u\"upscale\": False}\", \"OutdoorSeating\": \"True\", \"BusinessAcceptsCreditCards\": \"True\", \"GoodForKids\": \"True\", \"RestaurantsReservations\": \"True\", \"HappyHour\": \"True\", \"BestNights\": \"{u\"monday\": False, u\"tuesday\": False, u\"wednesday\": False, u\"thursday\": True, u\"friday\": True, u\"saturday\": False, u\"sunday\": False}\", \"RestaurantsGoodForGroups\": \"True\", \"Music\": \"{u\"dj\": False, u\"live\": None, u\"jukebox\": None, u\"video\": False, u\"background_music\": False, u\"karaoke\": None, u\"no_music\": False}\", \"RestaurantsPriceRange2\": \"2\", \"RestaurantsTakeOut\": \"True\", \"RestaurantsDelivery\": \"True\"}',\n",
       " '{\"BusinessAcceptsCreditCards\": \"True\", \"WiFi\": \"u\"no\"\"}',\n",
       " '{\"BikeParking\": \"True\", \"BusinessAcceptsCreditCards\": \"True\", \"RestaurantsPriceRange2\": \"3\", \"WiFi\": \"u\"free\"\", \"BusinessParking\": \"{\"garage\": False, \"street\": False, \"validated\": False, \"lot\": True, \"valet\": False}\", \"ByAppointmentOnly\": \"False\"}',\n",
       " '{\"BusinessAcceptsCreditCards\": \"True\", \"RestaurantsPriceRange2\": \"1\", \"RestaurantsTakeOut\": \"True\", \"WiFi\": \"u\"no\"\", \"BikeParking\": \"True\", \"BusinessParking\": \"{\"garage\": False, \"street\": False, \"validated\": False, \"lot\": True, \"valet\": True}\"}',\n",
       " None,\n",
       " '{\"BusinessAcceptsCreditCards\": \"True\"}',\n",
       " '{\"WheelchairAccessible\": \"True\", \"GoodForKids\": \"True\", \"ByAppointmentOnly\": \"False\", \"BikeParking\": \"False\", \"BusinessAcceptsCreditCards\": \"True\", \"BusinessParking\": \"None\", \"WiFi\": \"u\"no\"\"}',\n",
       " '{\"GoodForKids\": \"True\", \"BusinessAcceptsCreditCards\": \"True\", \"ByAppointmentOnly\": \"False\"}',\n",
       " '{\"RestaurantsGoodForGroups\": \"True\", \"Ambience\": \"{\"romantic\": False, \"intimate\": False, \"touristy\": False, \"hipster\": False, \"divey\": False, \"classy\": False, \"trendy\": False, \"upscale\": False, \"casual\": True}\", \"HasTV\": \"True\", \"BusinessAcceptsCreditCards\": \"True\", \"BusinessParking\": \"{\"garage\": True, \"street\": True, \"validated\": False, \"lot\": False, \"valet\": False}\", \"RestaurantsTakeOut\": \"True\", \"GoodForKids\": \"True\", \"Caters\": \"True\", \"OutdoorSeating\": \"True\", \"RestaurantsAttire\": \"u\"casual\"\", \"Alcohol\": \"u\"full_bar\"\", \"NoiseLevel\": \"u\"average\"\", \"RestaurantsReservations\": \"True\", \"BikeParking\": \"True\", \"RestaurantsPriceRange2\": \"2\", \"RestaurantsDelivery\": \"None\", \"HappyHour\": \"True\", \"WiFi\": \"u\"free\"\", \"GoodForMeal\": \"{\"dessert\": False, \"latenight\": False, \"lunch\": True, \"dinner\": True, \"brunch\": False, \"breakfast\": False}\"}',\n",
       " '{\"GoodForKids\": \"True\", \"BikeParking\": \"True\", \"BusinessParking\": \"{\"garage\": False, \"street\": False, \"validated\": False, \"lot\": False, \"valet\": False}\"}',\n",
       " '{\"BusinessAcceptsCreditCards\": \"True\", \"WiFi\": \"u\"free\"\"}',\n",
       " '{\"Alcohol\": \"u\"beer_and_wine\"\", \"RestaurantsReservations\": \"True\", \"RestaurantsAttire\": \"u\"casual\"\", \"BikeParking\": \"True\", \"OutdoorSeating\": \"False\", \"RestaurantsGoodForGroups\": \"True\", \"WiFi\": \"\"free\"\", \"NoiseLevel\": \"u\"average\"\", \"RestaurantsDelivery\": \"False\", \"RestaurantsTakeOut\": \"True\", \"RestaurantsPriceRange2\": \"2\", \"GoodForKids\": \"True\", \"HasTV\": \"True\", \"Ambience\": \"{\"romantic\": False, \"intimate\": False, \"classy\": False, \"hipster\": False, \"divey\": False, \"touristy\": False, \"trendy\": False, \"upscale\": False, \"casual\": True}\", \"BusinessParking\": \"{\"garage\": False, \"street\": False, \"validated\": False, \"lot\": True, \"valet\": False}\", \"GoodForMeal\": \"{\"dessert\": False, \"latenight\": False, \"lunch\": None, \"dinner\": True, \"brunch\": False, \"breakfast\": False}\", \"Caters\": \"False\"}',\n",
       " '{\"GoodForKids\": \"True\", \"HappyHour\": \"True\", \"RestaurantsTakeOut\": \"True\", \"BusinessAcceptsCreditCards\": \"True\", \"BusinessParking\": \"{\"garage\": False, \"street\": False, \"validated\": False, \"lot\": True, \"valet\": False}\", \"RestaurantsPriceRange2\": \"2\", \"Caters\": \"False\", \"WiFi\": \"u\"free\"\", \"WheelchairAccessible\": \"True\", \"RestaurantsDelivery\": \"False\", \"OutdoorSeating\": \"True\", \"BikeParking\": \"True\", \"DogsAllowed\": \"True\", \"ByAppointmentOnly\": \"False\", \"HasTV\": \"True\"}',\n",
       " None,\n",
       " None,\n",
       " None,\n",
       " '{\"BusinessParking\": \"{\"garage\": False, \"street\": False, \"validated\": False, \"lot\": False, \"valet\": False}\", \"RestaurantsPriceRange2\": \"2\", \"BusinessAcceptsCreditCards\": \"True\"}',\n",
       " '{\"BusinessAcceptsCreditCards\": \"True\", \"ByAppointmentOnly\": \"True\"}',\n",
       " '{\"RestaurantsGoodForGroups\": \"True\", \"RestaurantsReservations\": \"False\", \"RestaurantsPriceRange2\": \"1\", \"BusinessAcceptsCreditCards\": \"True\", \"GoodForKids\": \"True\", \"RestaurantsTakeOut\": \"True\", \"DriveThru\": \"True\", \"RestaurantsDelivery\": \"True\"}',\n",
       " '{\"BusinessAcceptsCreditCards\": \"True\", \"GoodForKids\": \"True\"}',\n",
       " '{\"BusinessAcceptsCreditCards\": \"True\", \"RestaurantsPriceRange2\": \"2\", \"ByAppointmentOnly\": \"False\", \"BikeParking\": \"True\", \"BusinessParking\": \"{\"garage\": False, \"street\": False, \"validated\": False, \"lot\": False, \"valet\": False}\"}',\n",
       " '{\"GoodForKids\": \"False\", \"RestaurantsPriceRange2\": \"2\", \"BikeParking\": \"True\", \"BusinessAcceptsCreditCards\": \"True\", \"ByAppointmentOnly\": \"True\", \"BusinessParking\": \"{\"garage\": False, \"street\": True, \"validated\": False, \"lot\": True, \"valet\": False}\"}',\n",
       " '{\"GoodForKids\": \"False\", \"RestaurantsTakeOut\": \"True\", \"OutdoorSeating\": \"True\", \"RestaurantsDelivery\": \"True\", \"RestaurantsReservations\": \"True\", \"RestaurantsGoodForGroups\": \"True\", \"WiFi\": \"u\"free\"\", \"RestaurantsPriceRange2\": \"3\", \"RestaurantsAttire\": \"\"casual\"\", \"HasTV\": \"True\"}',\n",
       " None,\n",
       " '{\"DogsAllowed\": \"False\", \"HasTV\": \"False\", \"GoodForMeal\": \"{\"dessert\": False, \"latenight\": False, \"lunch\": False, \"dinner\": False, \"brunch\": False, \"breakfast\": False}\", \"Ambience\": \"{\"touristy\": None, \"hipster\": None, \"romantic\": None, \"divey\": None, \"intimate\": True, \"trendy\": None, \"upscale\": None, \"classy\": None, \"casual\": None}\", \"BusinessAcceptsCreditCards\": \"True\", \"BusinessAcceptsBitcoin\": \"False\", \"WheelchairAccessible\": \"False\", \"BusinessParking\": \"{\"garage\": False, \"street\": True, \"validated\": False, \"lot\": False, \"valet\": False}\", \"HappyHour\": \"False\", \"WiFi\": \"u\"no\"\", \"RestaurantsReservations\": \"True\", \"OutdoorSeating\": \"False\", \"Caters\": \"True\", \"RestaurantsTableService\": \"True\", \"Alcohol\": \"u\"none\"\", \"RestaurantsDelivery\": \"True\", \"RestaurantsTakeOut\": \"True\"}',\n",
       " '{\"BusinessAcceptsCreditCards\": \"True\", \"BusinessAcceptsBitcoin\": \"False\", \"ByAppointmentOnly\": \"True\"}',\n",
       " '{\"ByAppointmentOnly\": \"True\", \"BusinessAcceptsCreditCards\": \"True\"}',\n",
       " '{\"BusinessParking\": \"{\"garage\": False, \"street\": False, \"validated\": False, \"lot\": False, \"valet\": False}\", \"BikeParking\": \"True\", \"BusinessAcceptsCreditCards\": \"True\", \"WiFi\": \"u\"no\"\", \"RestaurantsPriceRange2\": \"2\"}',\n",
       " None,\n",
       " '{\"BusinessAcceptsCreditCards\": \"True\"}',\n",
       " '{\"DogsAllowed\": \"True\", \"BikeParking\": \"True\", \"Caters\": \"False\", \"RestaurantsTakeOut\": \"True\", \"BusinessAcceptsCreditCards\": \"False\", \"RestaurantsDelivery\": \"False\", \"BusinessParking\": \"{\"garage\": False, \"street\": False, \"validated\": False, \"lot\": False, \"valet\": False}\", \"RestaurantsPriceRange2\": \"1\", \"HasTV\": \"True\", \"WheelchairAccessible\": \"True\", \"OutdoorSeating\": \"True\", \"WiFi\": \"\"no\"\", \"Alcohol\": \"u\"none\"\", \"BYOB\": \"False\"}',\n",
       " None,\n",
       " '{\"BusinessAcceptsCreditCards\": \"True\", \"RestaurantsGoodForGroups\": \"True\", \"RestaurantsAttire\": \"\"casual\"\", \"RestaurantsPriceRange2\": \"1\", \"GoodForKids\": \"True\", \"OutdoorSeating\": \"False\", \"RestaurantsReservations\": \"False\", \"Ambience\": \"{\"touristy\": False, \"hipster\": False, \"romantic\": False, \"divey\": False, \"intimate\": False, \"trendy\": False, \"upscale\": False, \"classy\": False, \"casual\": False}\", \"BusinessParking\": \"{\"garage\": False, \"street\": False, \"validated\": False, \"lot\": False, \"valet\": False}\", \"HasTV\": \"True\", \"DriveThru\": \"True\", \"RestaurantsTakeOut\": \"True\", \"BikeParking\": \"False\", \"GoodForMeal\": \"{\"dessert\": False, \"latenight\": False, \"lunch\": False, \"dinner\": False, \"brunch\": False, \"breakfast\": False}\", \"RestaurantsDelivery\": \"True\"}',\n",
       " '{\"BusinessParking\": \"{\"garage\": False, \"street\": False, \"validated\": False, \"lot\": False, \"valet\": False}\", \"BikeParking\": \"False\", \"RestaurantsPriceRange2\": \"2\"}',\n",
       " '{\"Caters\": \"True\", \"HasTV\": \"True\", \"RestaurantsTableService\": \"True\", \"RestaurantsReservations\": \"False\", \"BusinessAcceptsCreditCards\": \"True\", \"RestaurantsGoodForGroups\": \"True\", \"WiFi\": \"\"no\"\", \"Alcohol\": \"\"beer_and_wine\"\", \"BikeParking\": \"True\", \"NoiseLevel\": \"\"average\"\", \"RestaurantsAttire\": \"\"casual\"\", \"HappyHour\": \"True\", \"RestaurantsDelivery\": \"None\", \"GoodForKids\": \"True\", \"BusinessParking\": \"{\"garage\": False, \"street\": None, \"validated\": False, \"lot\": True, \"valet\": False}\", \"GoodForMeal\": \"{u\"breakfast\": None, u\"brunch\": False, u\"lunch\": True, u\"dinner\": True, u\"latenight\": None, u\"dessert\": False}\", \"RestaurantsPriceRange2\": \"1\", \"RestaurantsTakeOut\": \"True\", \"Ambience\": \"{u\"divey\": None, u\"hipster\": None, u\"casual\": True, u\"touristy\": False, u\"trendy\": None, u\"intimate\": False, u\"romantic\": False, u\"classy\": False, u\"upscale\": False}\", \"OutdoorSeating\": \"True\"}',\n",
       " '{\"HasTV\": \"True\", \"RestaurantsReservations\": \"True\", \"Ambience\": \"{\"touristy\": False, \"hipster\": False, \"romantic\": False, \"divey\": False, \"intimate\": False, \"trendy\": False, \"upscale\": False, \"classy\": False, \"casual\": False}\", \"RestaurantsTakeOut\": \"True\", \"BusinessAcceptsCreditCards\": \"True\", \"RestaurantsTableService\": \"False\", \"BusinessAcceptsBitcoin\": \"False\", \"WiFi\": \"u\"free\"\", \"RestaurantsDelivery\": \"False\", \"Caters\": \"False\", \"Alcohol\": \"u\"none\"\", \"OutdoorSeating\": \"True\", \"DogsAllowed\": \"False\", \"BusinessParking\": \"{\"garage\": False, \"street\": False, \"validated\": False, \"lot\": True, \"valet\": False}\", \"WheelchairAccessible\": \"True\"}',\n",
       " '{\"ByAppointmentOnly\": \"False\", \"BusinessAcceptsCreditCards\": \"True\"}',\n",
       " '{\"ByAppointmentOnly\": \"True\", \"BusinessAcceptsCreditCards\": \"True\"}',\n",
       " '{\"RestaurantsGoodForGroups\": \"True\", \"HasTV\": \"True\", \"Ambience\": \"{\"romantic\": False, \"intimate\": False, \"classy\": False, \"hipster\": False, \"divey\": False, \"touristy\": False, \"trendy\": False, \"upscale\": False, \"casual\": True}\", \"RestaurantsAttire\": \"u\"casual\"\", \"BusinessAcceptsCreditCards\": \"True\", \"OutdoorSeating\": \"True\", \"RestaurantsPriceRange2\": \"1\", \"RestaurantsReservations\": \"False\", \"Caters\": \"True\", \"BikeParking\": \"False\", \"WiFi\": \"u\"free\"\", \"Alcohol\": \"u\"none\"\", \"BusinessParking\": \"{\"garage\": False, \"street\": True, \"validated\": False, \"lot\": True, \"valet\": False}\", \"GoodForKids\": \"True\", \"NoiseLevel\": \"u\"quiet\"\", \"GoodForMeal\": \"{u\"breakfast\": False, u\"brunch\": False, u\"lunch\": True, u\"dinner\": True, u\"latenight\": False, u\"dessert\": None}\", \"RestaurantsDelivery\": \"None\", \"BusinessAcceptsBitcoin\": \"False\", \"RestaurantsTakeOut\": \"None\"}',\n",
       " '{\"BusinessAcceptsCreditCards\": \"True\"}',\n",
       " '{\"BusinessAcceptsCreditCards\": \"True\", \"BusinessParking\": \"{\"garage\": False, \"street\": False, \"validated\": False, \"lot\": False, \"valet\": False}\", \"RestaurantsPriceRange2\": \"2\"}',\n",
       " '{\"GoodForKids\": \"True\", \"BusinessAcceptsCreditCards\": \"True\", \"ByAppointmentOnly\": \"True\", \"BikeParking\": \"True\", \"WheelchairAccessible\": \"True\", \"BusinessParking\": \"{u\"valet\": False, u\"garage\": False, u\"street\": True, u\"lot\": True, u\"validated\": False}\"}',\n",
       " '{\"BikeParking\": \"True\", \"RestaurantsPriceRange2\": \"2\", \"BusinessAcceptsCreditCards\": \"True\", \"Caters\": \"False\", \"RestaurantsTakeOut\": \"False\", \"RestaurantsDelivery\": \"True\", \"BusinessParking\": \"{\"garage\": False, \"street\": None, \"validated\": False, \"lot\": True, \"valet\": False}\"}',\n",
       " '{\"WiFi\": \"u\"no\"\", \"RestaurantsPriceRange2\": \"2\", \"BusinessAcceptsCreditCards\": \"True\", \"RestaurantsReservations\": \"True\", \"OutdoorSeating\": \"True\", \"HasTV\": \"False\", \"RestaurantsTakeOut\": \"True\", \"Caters\": \"True\", \"NoiseLevel\": \"\"average\"\", \"Alcohol\": \"u\"none\"\", \"RestaurantsGoodForGroups\": \"True\", \"BikeParking\": \"True\", \"BusinessParking\": \"{\"garage\": False, \"street\": True, \"validated\": False, \"lot\": False, \"valet\": False}\", \"RestaurantsAttire\": \"u\"casual\"\", \"GoodForMeal\": \"{\"dessert\": None, \"latenight\": False, \"lunch\": None, \"dinner\": True, \"brunch\": False, \"breakfast\": False}\", \"GoodForKids\": \"True\", \"RestaurantsDelivery\": \"True\", \"Ambience\": \"{\"touristy\": False, \"hipster\": False, \"romantic\": False, \"divey\": False, \"intimate\": None, \"trendy\": False, \"upscale\": False, \"classy\": None, \"casual\": True}\", \"HappyHour\": \"False\", \"DogsAllowed\": \"False\", \"RestaurantsTableService\": \"True\"}',\n",
       " '{\"RestaurantsPriceRange2\": \"3\", \"BusinessAcceptsCreditCards\": \"True\", \"GoodForKids\": \"True\", \"BusinessParking\": \"{\"garage\": False, \"street\": False, \"validated\": False, \"lot\": False, \"valet\": False}\", \"ByAppointmentOnly\": \"False\"}',\n",
       " '{\"BusinessAcceptsCreditCards\": \"True\", \"RestaurantsPriceRange2\": \"1\", \"Caters\": \"True\", \"BikeParking\": \"True\", \"BusinessParking\": \"{\"garage\": False, \"street\": True, \"validated\": False, \"lot\": False, \"valet\": False}\"}',\n",
       " '{\"BusinessAcceptsCreditCards\": \"True\"}',\n",
       " '{\"BusinessAcceptsCreditCards\": \"True\", \"WiFi\": \"u\"free\"\"}',\n",
       " '{\"RestaurantsReservations\": \"True\", \"RestaurantsPriceRange2\": \"2\", \"BikeParking\": \"False\", \"HappyHour\": \"True\", \"RestaurantsDelivery\": \"False\", \"DogsAllowed\": \"False\", \"OutdoorSeating\": \"True\", \"WheelchairAccessible\": \"True\", \"Caters\": \"True\", \"ByAppointmentOnly\": \"False\", \"BusinessParking\": \"{\"garage\": False, \"street\": False, \"validated\": False, \"lot\": True, \"valet\": False}\", \"RestaurantsTableService\": \"True\", \"RestaurantsAttire\": \"\"casual\"\", \"BusinessAcceptsCreditCards\": \"True\", \"RestaurantsGoodForGroups\": \"True\", \"GoodForDancing\": \"False\", \"HasTV\": \"True\", \"CoatCheck\": \"False\", \"Music\": \"{u\"dj\": False, u\"live\": False, u\"jukebox\": False, u\"video\": False, u\"background_music\": False, u\"karaoke\": None, u\"no_music\": False}\", \"Alcohol\": \"u\"full_bar\"\", \"WiFi\": \"\"no\"\", \"GoodForMeal\": \"{\"dessert\": None, \"latenight\": False, \"lunch\": True, \"dinner\": True, \"brunch\": True, \"breakfast\": None}\", \"RestaurantsTakeOut\": \"True\", \"NoiseLevel\": \"u\"very_loud\"\", \"Ambience\": \"{\"touristy\": False, \"hipster\": None, \"romantic\": False, \"divey\": False, \"intimate\": False, \"trendy\": True, \"upscale\": False, \"classy\": False, \"casual\": True}\", \"GoodForKids\": \"True\", \"BestNights\": \"{\"monday\": False, \"tuesday\": False, \"friday\": True, \"wednesday\": False, \"thursday\": False, \"sunday\": True, \"saturday\": True}\"}',\n",
       " '{\"ByAppointmentOnly\": \"False\", \"BusinessAcceptsCreditCards\": \"True\"}',\n",
       " '{\"RestaurantsDelivery\": \"False\", \"BestNights\": \"{\"monday\": False, \"tuesday\": False, \"friday\": False, \"wednesday\": False, \"thursday\": False, \"sunday\": False, \"saturday\": False}\", \"Music\": \"{\"dj\": False, \"background_music\": False, \"no_music\": False, \"jukebox\": False, \"live\": False, \"video\": False, \"karaoke\": False}\", \"WiFi\": \"u\"free\"\", \"BikeParking\": \"False\", \"Caters\": \"False\", \"OutdoorSeating\": \"True\", \"RestaurantsReservations\": \"False\", \"ByAppointmentOnly\": \"False\", \"GoodForDancing\": \"False\", \"Alcohol\": \"u\"full_bar\"\", \"DogsAllowed\": \"False\", \"RestaurantsGoodForGroups\": \"True\", \"HasTV\": \"True\", \"RestaurantsPriceRange2\": \"2\", \"WheelchairAccessible\": \"True\", \"NoiseLevel\": \"u\"average\"\", \"CoatCheck\": \"False\", \"GoodForKids\": \"True\", \"HappyHour\": \"True\", \"Smoking\": \"u\"outdoor\"\", \"RestaurantsTableService\": \"True\", \"BusinessAcceptsCreditCards\": \"True\", \"RestaurantsTakeOut\": \"True\", \"BusinessParking\": \"{\"garage\": False, \"street\": True, \"validated\": False, \"lot\": False, \"valet\": False}\", \"GoodForMeal\": \"{u\"breakfast\": None, u\"brunch\": None, u\"lunch\": None, u\"dinner\": True, u\"latenight\": None, u\"dessert\": None}\", \"BusinessAcceptsBitcoin\": \"False\", \"Ambience\": \"{u\"divey\": None, u\"hipster\": False, u\"casual\": True, u\"touristy\": False, u\"trendy\": None, u\"intimate\": None, u\"romantic\": False, u\"classy\": None, u\"upscale\": None}\"}',\n",
       " '{\"BikeParking\": \"False\", \"GoodForKids\": \"True\", \"RestaurantsGoodForGroups\": \"True\", \"HasTV\": \"False\", \"BusinessParking\": \"{\"garage\": False, \"street\": False, \"validated\": False, \"lot\": True, \"valet\": False}\", \"OutdoorSeating\": \"True\", \"Caters\": \"True\", \"Ambience\": \"{\"romantic\": False, \"intimate\": False, \"touristy\": False, \"hipster\": False, \"divey\": False, \"classy\": False, \"trendy\": False, \"upscale\": False, \"casual\": True}\", \"RestaurantsReservations\": \"True\", \"RestaurantsPriceRange2\": \"2\", \"WiFi\": \"\"no\"\", \"RestaurantsDelivery\": \"True\", \"Alcohol\": \"u\"none\"\", \"RestaurantsAttire\": \"u\"casual\"\", \"NoiseLevel\": \"u\"average\"\", \"RestaurantsTakeOut\": \"True\", \"BusinessAcceptsCreditCards\": \"True\"}',\n",
       " '{\"RestaurantsPriceRange2\": \"1\", \"BusinessAcceptsCreditCards\": \"False\", \"BusinessParking\": \"None\", \"ByAppointmentOnly\": \"False\", \"BikeParking\": \"False\"}',\n",
       " '{\"BusinessParking\": \"{\"garage\": False, \"street\": False, \"validated\": False, \"lot\": True, \"valet\": False}\", \"HasTV\": \"False\", \"RestaurantsReservations\": \"False\", \"RestaurantsPriceRange2\": \"1\", \"BusinessAcceptsCreditCards\": \"True\", \"BikeParking\": \"True\", \"WiFi\": \"\"free\"\", \"RestaurantsGoodForGroups\": \"True\", \"DogsAllowed\": \"False\", \"GoodForDancing\": \"False\", \"RestaurantsTakeOut\": \"True\", \"HappyHour\": \"False\", \"ByAppointmentOnly\": \"False\", \"BusinessAcceptsBitcoin\": \"False\", \"Ambience\": \"{\"touristy\": False, \"hipster\": False, \"romantic\": False, \"divey\": False, \"intimate\": False, \"trendy\": False, \"upscale\": False, \"classy\": False, \"casual\": False}\", \"WheelchairAccessible\": \"True\", \"NoiseLevel\": \"u\"average\"\", \"OutdoorSeating\": \"None\", \"Caters\": \"False\"}',\n",
       " '{\"BusinessAcceptsCreditCards\": \"True\"}',\n",
       " '{\"BikeParking\": \"True\", \"RestaurantsPriceRange2\": \"2\", \"BusinessAcceptsCreditCards\": \"True\", \"BusinessParking\": \"{\"garage\": False, \"street\": False, \"validated\": False, \"lot\": True, \"valet\": False}\", \"Caters\": \"False\", \"ByAppointmentOnly\": \"False\", \"GoodForKids\": \"True\", \"RestaurantsTakeOut\": \"True\"}',\n",
       " '{\"BusinessAcceptsCreditCards\": \"True\"}',\n",
       " '{\"BikeParking\": \"True\", \"BusinessParking\": \"{\"garage\": False, \"street\": False, \"validated\": False, \"lot\": False, \"valet\": False}\", \"BusinessAcceptsCreditCards\": \"True\", \"RestaurantsPriceRange2\": \"2\"}',\n",
       " '{\"BusinessAcceptsCreditCards\": \"True\"}',\n",
       " '{\"BusinessAcceptsCreditCards\": \"True\"}',\n",
       " '{\"GoodForKids\": \"True\", \"BusinessAcceptsCreditCards\": \"True\", \"RestaurantsTakeOut\": \"True\", \"RestaurantsAttire\": \"u\"casual\"\", \"BusinessParking\": \"{\"garage\": False, \"street\": True, \"validated\": False, \"lot\": False, \"valet\": False}\", \"OutdoorSeating\": \"True\", \"Alcohol\": \"u\"full_bar\"\", \"RestaurantsReservations\": \"True\", \"RestaurantsGoodForGroups\": \"True\", \"WiFi\": \"u\"free\"\", \"Caters\": \"False\", \"NoiseLevel\": \"u\"average\"\", \"RestaurantsPriceRange2\": \"2\", \"HasTV\": \"True\", \"GoodForMeal\": \"{\"dessert\": False, \"latenight\": False, \"lunch\": False, \"dinner\": True, \"brunch\": False, \"breakfast\": False}\", \"Ambience\": \"{\"romantic\": False, \"intimate\": False, \"touristy\": False, \"hipster\": False, \"divey\": False, \"classy\": False, \"trendy\": False, \"upscale\": False, \"casual\": True}\", \"RestaurantsDelivery\": \"True\", \"BikeParking\": \"False\"}',\n",
       " '{\"RestaurantsPriceRange2\": \"2\", \"HasTV\": \"True\", \"RestaurantsAttire\": \"\"casual\"\", \"RestaurantsGoodForGroups\": \"True\", \"BusinessParking\": \"{\"garage\": False, \"street\": True, \"validated\": False, \"lot\": False, \"valet\": False}\", \"GoodForKids\": \"False\", \"RestaurantsDelivery\": \"False\", \"Alcohol\": \"\"full_bar\"\", \"BusinessAcceptsCreditCards\": \"True\", \"BikeParking\": \"True\", \"OutdoorSeating\": \"True\", \"RestaurantsTakeOut\": \"True\", \"RestaurantsReservations\": \"False\", \"WiFi\": \"\"no\"\", \"Ambience\": \"{\"romantic\": False, \"intimate\": False, \"classy\": False, \"hipster\": False, \"divey\": False, \"touristy\": False, \"trendy\": False, \"upscale\": False, \"casual\": True}\", \"GoodForMeal\": \"{\"dessert\": False, \"latenight\": False, \"lunch\": False, \"dinner\": True, \"brunch\": True, \"breakfast\": False}\", \"Caters\": \"False\", \"Music\": \"{\"dj\": False, \"background_music\": True, \"no_music\": False, \"jukebox\": False, \"live\": False, \"video\": False, \"karaoke\": False}\", \"GoodForDancing\": \"False\", \"BestNights\": \"{\"monday\": False, \"tuesday\": False, \"friday\": True, \"wednesday\": False, \"thursday\": False, \"sunday\": True, \"saturday\": True}\", \"NoiseLevel\": \"u\"average\"\"}',\n",
       " '{\"BusinessAcceptsCreditCards\": \"True\"}',\n",
       " '{\"RestaurantsPriceRange2\": \"2\", \"BusinessAcceptsCreditCards\": \"True\", \"WiFi\": \"u\"free\"\", \"BikeParking\": \"True\", \"Caters\": \"False\", \"BusinessParking\": \"{\"garage\": False, \"street\": False, \"validated\": False, \"lot\": True, \"valet\": False}\", \"NoiseLevel\": \"u\"average\"\", \"RestaurantsTakeOut\": \"True\", \"OutdoorSeating\": \"None\"}',\n",
       " '{\"OutdoorSeating\": \"False\", \"Alcohol\": \"\"none\"\", \"RestaurantsTableService\": \"False\", \"HasTV\": \"False\", \"RestaurantsAttire\": \"\"casual\"\", \"RestaurantsDelivery\": \"False\", \"BikeParking\": \"False\", \"GoodForMeal\": \"{\"dessert\": False, \"latenight\": False, \"lunch\": True, \"dinner\": False, \"brunch\": False, \"breakfast\": False}\", \"BusinessParking\": \"{\"garage\": False, \"street\": False, \"validated\": False, \"lot\": False, \"valet\": False}\", \"WiFi\": \"\"no\"\", \"NoiseLevel\": \"u\"average\"\", \"BusinessAcceptsCreditCards\": \"True\", \"RestaurantsTakeOut\": \"True\", \"RestaurantsReservations\": \"False\", \"Caters\": \"True\", \"GoodForKids\": \"True\", \"RestaurantsPriceRange2\": \"1\", \"RestaurantsGoodForGroups\": \"True\", \"Ambience\": \"{\"romantic\": False, \"intimate\": False, \"classy\": False, \"hipster\": True, \"divey\": False, \"touristy\": False, \"trendy\": False, \"upscale\": False, \"casual\": False}\"}',\n",
       " '{\"BusinessAcceptsCreditCards\": \"True\", \"GoodForKids\": \"False\", \"BikeParking\": \"True\", \"BusinessParking\": \"{\"garage\": False, \"street\": False, \"validated\": False, \"lot\": False, \"valet\": False}\", \"RestaurantsPriceRange2\": \"2\", \"ByAppointmentOnly\": \"True\"}',\n",
       " '{\"RestaurantsReservations\": \"False\", \"RestaurantsPriceRange2\": \"2\", \"GoodForKids\": \"False\", \"NoiseLevel\": \"u\"loud\"\", \"BikeParking\": \"True\", \"BusinessAcceptsCreditCards\": \"True\", \"OutdoorSeating\": \"False\", \"RestaurantsGoodForGroups\": \"True\", \"Alcohol\": \"\"full_bar\"\", \"RestaurantsDelivery\": \"False\", \"RestaurantsAttire\": \"\"casual\"\", \"HasTV\": \"True\", \"BusinessParking\": \"{\"garage\": False, \"street\": True, \"validated\": False, \"lot\": False, \"valet\": False}\", \"WiFi\": \"u\"free\"\", \"WheelchairAccessible\": \"True\", \"RestaurantsTakeOut\": \"True\", \"Caters\": \"False\", \"HappyHour\": \"True\", \"BusinessAcceptsBitcoin\": \"False\", \"CoatCheck\": \"False\", \"Smoking\": \"u\"no\"\", \"Music\": \"{\"dj\": False, \"background_music\": False, \"no_music\": False, \"jukebox\": False, \"live\": False, \"video\": False, \"karaoke\": False}\", \"DogsAllowed\": \"False\", \"Ambience\": \"{\"touristy\": False, \"hipster\": False, \"romantic\": False, \"divey\": False, \"intimate\": False, \"trendy\": False, \"upscale\": False, \"classy\": True, \"casual\": True}\", \"GoodForMeal\": \"{\"dessert\": False, \"latenight\": False, \"lunch\": False, \"dinner\": True, \"brunch\": False, \"breakfast\": False}\", \"RestaurantsTableService\": \"True\"}',\n",
       " None,\n",
       " None,\n",
       " '{\"BusinessAcceptsCreditCards\": \"True\"}',\n",
       " '{\"BusinessAcceptsCreditCards\": \"True\", \"BikeParking\": \"True\", \"BusinessParking\": \"{\"garage\": False, \"street\": False, \"validated\": False, \"lot\": False, \"valet\": False}\", \"RestaurantsPriceRange2\": \"2\", \"WheelchairAccessible\": \"False\", \"ByAppointmentOnly\": \"True\", \"WiFi\": \"u\"free\"\"}',\n",
       " '{\"BusinessAcceptsCreditCards\": \"True\", \"ByAppointmentOnly\": \"True\"}',\n",
       " '{\"BusinessAcceptsCreditCards\": \"True\", \"ByAppointmentOnly\": \"False\"}',\n",
       " '{\"BusinessAcceptsCreditCards\": \"True\"}',\n",
       " '{\"WiFi\": \"\"no\"\", \"GoodForKids\": \"True\", \"RestaurantsPriceRange2\": \"1\", \"BikeParking\": \"True\", \"Alcohol\": \"\"beer_and_wine\"\", \"NoiseLevel\": \"u\"average\"\", \"RestaurantsGoodForGroups\": \"False\", \"Ambience\": \"{\"romantic\": False, \"intimate\": False, \"classy\": False, \"hipster\": False, \"divey\": True, \"touristy\": False, \"trendy\": False, \"upscale\": False, \"casual\": False}\", \"OutdoorSeating\": \"True\", \"RestaurantsTakeOut\": \"True\", \"BusinessParking\": \"{\"garage\": False, \"street\": True, \"validated\": False, \"lot\": False, \"valet\": False}\", \"RestaurantsAttire\": \"u\"casual\"\", \"BusinessAcceptsCreditCards\": \"False\", \"Caters\": \"False\", \"GoodForMeal\": \"{\"dessert\": False, \"latenight\": False, \"lunch\": True, \"dinner\": False, \"brunch\": False, \"breakfast\": False}\", \"RestaurantsReservations\": \"False\", \"RestaurantsDelivery\": \"False\", \"HasTV\": \"True\"}',\n",
       " '{\"HasTV\": \"True\", \"RestaurantsPriceRange2\": \"2\", \"BikeParking\": \"True\", \"RestaurantsGoodForGroups\": \"True\", \"Caters\": \"True\", \"RestaurantsAttire\": \"\"casual\"\", \"Alcohol\": \"\"full_bar\"\", \"GoodForKids\": \"True\", \"RestaurantsReservations\": \"True\", \"OutdoorSeating\": \"True\", \"RestaurantsTakeOut\": \"True\", \"HappyHour\": \"True\", \"DogsAllowed\": \"False\", \"WiFi\": \"u\"no\"\", \"Smoking\": \"u\"no\"\", \"NoiseLevel\": \"u\"average\"\", \"BusinessAcceptsCreditCards\": \"True\", \"DriveThru\": \"False\", \"RestaurantsTableService\": \"True\", \"BusinessParking\": \"{\"garage\": True, \"street\": True, \"validated\": False, \"lot\": True, \"valet\": False}\", \"GoodForDancing\": \"False\", \"Ambience\": \"{u\"divey\": False, u\"hipster\": False, u\"casual\": True, u\"touristy\": False, u\"trendy\": None, u\"intimate\": False, u\"romantic\": False, u\"classy\": False, u\"upscale\": False}\", \"WheelchairAccessible\": \"True\", \"GoodForMeal\": \"{\"dessert\": None, \"latenight\": False, \"lunch\": True, \"dinner\": True, \"brunch\": False, \"breakfast\": False}\", \"CoatCheck\": \"False\", \"Music\": \"{\"dj\": False, \"background_music\": False, \"no_music\": False, \"jukebox\": False, \"live\": True, \"video\": False, \"karaoke\": False}\", \"RestaurantsDelivery\": \"True\", \"BestNights\": \"{\"monday\": False, \"tuesday\": False, \"friday\": False, \"wednesday\": False, \"thursday\": False, \"sunday\": False, \"saturday\": False}\"}',\n",
       " None,\n",
       " '{\"BusinessAcceptsCreditCards\": \"True\"}',\n",
       " '{\"RestaurantsTakeOut\": \"True\", \"RestaurantsDelivery\": \"True\", \"RestaurantsPriceRange2\": \"1\", \"GoodForKids\": \"True\", \"BusinessAcceptsCreditCards\": \"True\", \"RestaurantsReservations\": \"True\", \"NoiseLevel\": \"u\"quiet\"\", \"HasTV\": \"False\", \"RestaurantsGoodForGroups\": \"True\", \"RestaurantsAttire\": \"u\"casual\"\", \"Ambience\": \"{\"romantic\": False, \"intimate\": False, \"classy\": False, \"hipster\": False, \"divey\": True, \"touristy\": False, \"trendy\": False, \"upscale\": False, \"casual\": False}\", \"BusinessParking\": \"{\"garage\": False, \"street\": False, \"validated\": False, \"lot\": True, \"valet\": False}\", \"OutdoorSeating\": \"False\", \"BikeParking\": \"True\"}',\n",
       " '{\"WiFi\": \"u\"free\"\", \"BusinessAcceptsCreditCards\": \"True\", \"BikeParking\": \"True\", \"WheelchairAccessible\": \"True\", \"RestaurantsDelivery\": \"True\", \"RestaurantsTakeOut\": \"True\"}',\n",
       " '{\"BusinessAcceptsCreditCards\": \"True\", \"BusinessParking\": \"{\"garage\": False, \"street\": True, \"validated\": False, \"lot\": True, \"valet\": False}\", \"RestaurantsTakeOut\": \"None\", \"ByAppointmentOnly\": \"False\", \"RestaurantsPriceRange2\": \"3\", \"RestaurantsDelivery\": \"None\"}',\n",
       " '{\"Ambience\": \"{\"touristy\": False, \"hipster\": False, \"romantic\": False, \"divey\": False, \"intimate\": False, \"trendy\": False, \"upscale\": False, \"classy\": False, \"casual\": False}\", \"RestaurantsDelivery\": \"True\", \"RestaurantsTakeOut\": \"True\"}',\n",
       " '{\"RestaurantsGoodForGroups\": \"True\", \"WheelchairAccessible\": \"True\", \"BusinessAcceptsBitcoin\": \"False\", \"RestaurantsPriceRange2\": \"2\", \"HasTV\": \"True\", \"CoatCheck\": \"False\", \"BusinessAcceptsCreditCards\": \"True\", \"Ambience\": \"{\"touristy\": False, \"hipster\": False, \"romantic\": False, \"divey\": False, \"intimate\": False, \"trendy\": False, \"upscale\": False, \"classy\": False, \"casual\": False}\", \"BusinessParking\": \"{\"garage\": True, \"street\": False, \"validated\": False, \"lot\": False, \"valet\": False}\", \"NoiseLevel\": \"u\"loud\"\", \"ByAppointmentOnly\": \"True\", \"Alcohol\": \"u\"full_bar\"\", \"OutdoorSeating\": \"None\", \"Music\": \"{\"dj\": False, \"background_music\": False, \"no_music\": False, \"jukebox\": False, \"live\": True, \"video\": False, \"karaoke\": False}\"}',\n",
       " '{\"Music\": \"{\"dj\": False, \"background_music\": False, \"no_music\": False, \"jukebox\": False, \"live\": True, \"video\": False, \"karaoke\": False}\", \"CoatCheck\": \"False\", \"WiFi\": \"u\"free\"\", \"BusinessAcceptsCreditCards\": \"True\", \"BYOB\": \"False\", \"HasTV\": \"True\", \"RestaurantsPriceRange2\": \"2\", \"Smoking\": \"u\"outdoor\"\", \"Ambience\": \"{u\"divey\": True, u\"hipster\": None, u\"casual\": None, u\"touristy\": False, u\"trendy\": None, u\"intimate\": None, u\"romantic\": None, u\"classy\": False, u\"upscale\": False}\", \"WheelchairAccessible\": \"True\", \"BestNights\": \"{\"monday\": False, \"tuesday\": False, \"friday\": False, \"wednesday\": False, \"thursday\": False, \"sunday\": False, \"saturday\": False}\", \"OutdoorSeating\": \"True\", \"Alcohol\": \"u\"full_bar\"\", \"BusinessParking\": \"{\"garage\": False, \"street\": False, \"validated\": False, \"lot\": True, \"valet\": False}\"}',\n",
       " '{\"RestaurantsGoodForGroups\": \"True\", \"HasTV\": \"False\", \"Alcohol\": \"\"full_bar\"\", \"BikeParking\": \"True\", \"RestaurantsReservations\": \"False\", \"WiFi\": \"\"no\"\", \"Ambience\": \"{\"romantic\": False, \"intimate\": False, \"touristy\": False, \"hipster\": False, \"divey\": False, \"classy\": False, \"trendy\": False, \"upscale\": False, \"casual\": False}\", \"GoodForKids\": \"True\", \"OutdoorSeating\": \"False\", \"Caters\": \"True\", \"GoodForMeal\": \"{\"dessert\": False, \"latenight\": False, \"lunch\": False, \"dinner\": False, \"brunch\": False, \"breakfast\": False}\", \"BusinessParking\": \"{\"garage\": False, \"street\": False, \"validated\": False, \"lot\": True, \"valet\": False}\", \"RestaurantsAttire\": \"u\"casual\"\", \"BusinessAcceptsCreditCards\": \"True\", \"RestaurantsTakeOut\": \"False\", \"RestaurantsDelivery\": \"True\", \"WheelchairAccessible\": \"True\", \"RestaurantsTableService\": \"False\", \"NoiseLevel\": \"u\"average\"\", \"RestaurantsPriceRange2\": \"2\"}',\n",
       " '{\"BusinessAcceptsCreditCards\": \"True\", \"RestaurantsPriceRange2\": \"1\", \"BusinessParking\": \"{\"garage\": False, \"street\": True, \"validated\": False, \"lot\": False, \"valet\": False}\"}',\n",
       " '{\"ByAppointmentOnly\": \"True\", \"BusinessParking\": \"{\"garage\": False, \"street\": True, \"validated\": False, \"lot\": False, \"valet\": False}\", \"RestaurantsPriceRange2\": \"2\", \"GoodForKids\": \"True\", \"BusinessAcceptsCreditCards\": \"True\", \"BikeParking\": \"True\", \"WiFi\": \"u\"free\"\"}',\n",
       " '{\"BusinessAcceptsCreditCards\": \"True\", \"ByAppointmentOnly\": \"True\", \"BusinessAcceptsBitcoin\": \"False\"}',\n",
       " '{\"WiFi\": \"u\"free\"\", \"ByAppointmentOnly\": \"False\", \"BusinessAcceptsCreditCards\": \"True\", \"WheelchairAccessible\": \"True\", \"BusinessAcceptsBitcoin\": \"False\", \"BusinessParking\": \"{\"garage\": False, \"street\": False, \"validated\": False, \"lot\": True, \"valet\": False}\", \"BikeParking\": \"True\", \"HairSpecializesIn\": \"{\"straightperms\": True, \"coloring\": True, \"extensions\": False, \"africanamerican\": False, \"curly\": False, \"kids\": True, \"perms\": True, \"asian\": False}\"}',\n",
       " '{\"BusinessAcceptsCreditCards\": \"True\"}',\n",
       " '{\"GoodForKids\": \"True\"}',\n",
       " '{\"BusinessAcceptsCreditCards\": \"True\", \"RestaurantsAttire\": \"\"casual\"\", \"RestaurantsGoodForGroups\": \"True\", \"BikeParking\": \"False\", \"GoodForKids\": \"True\", \"RestaurantsPriceRange2\": \"2\", \"RestaurantsDelivery\": \"False\", \"OutdoorSeating\": \"False\", \"Alcohol\": \"\"beer_and_wine\"\", \"RestaurantsReservations\": \"False\", \"RestaurantsTableService\": \"False\", \"RestaurantsTakeOut\": \"True\", \"BusinessParking\": \"{\"garage\": False, \"street\": False, \"validated\": False, \"lot\": True, \"valet\": False}\", \"Caters\": \"False\", \"NoiseLevel\": \"\"average\"\", \"HasTV\": \"True\", \"WiFi\": \"\"free\"\", \"Ambience\": \"{\"touristy\": False, \"hipster\": None, \"romantic\": False, \"divey\": None, \"intimate\": False, \"trendy\": False, \"upscale\": False, \"classy\": False, \"casual\": True}\"}',\n",
       " None,\n",
       " '{\"BusinessParking\": \"{\"garage\": False, \"street\": False, \"validated\": False, \"lot\": False, \"valet\": False}\", \"RestaurantsPriceRange2\": \"2\", \"RestaurantsTakeOut\": \"True\", \"RestaurantsDelivery\": \"True\"}',\n",
       " '{\"RestaurantsPriceRange2\": \"2\", \"BusinessParking\": \"{\"garage\": False, \"street\": False, \"validated\": False, \"lot\": False, \"valet\": False}\", \"BusinessAcceptsCreditCards\": \"True\", \"RestaurantsTakeOut\": \"True\"}',\n",
       " '{\"WheelchairAccessible\": \"False\", \"BusinessParking\": \"{\"garage\": False, \"street\": False, \"validated\": False, \"lot\": False, \"valet\": False}\", \"BusinessAcceptsCreditCards\": \"True\", \"BikeParking\": \"False\", \"BusinessAcceptsBitcoin\": \"False\", \"ByAppointmentOnly\": \"True\"}',\n",
       " '{\"BusinessParking\": \"{\"garage\": False, \"street\": False, \"validated\": False, \"lot\": True, \"valet\": False}\", \"BusinessAcceptsCreditCards\": \"True\", \"ByAppointmentOnly\": \"True\", \"GoodForKids\": \"True\", \"BikeParking\": \"True\", \"DogsAllowed\": \"True\", \"WheelchairAccessible\": \"False\"}',\n",
       " '{\"BusinessAcceptsCreditCards\": \"True\", \"BikeParking\": \"True\", \"RestaurantsPriceRange2\": \"2\", \"BusinessParking\": \"{\"garage\": False, \"street\": False, \"validated\": False, \"lot\": True, \"valet\": False}\"}',\n",
       " '{\"WiFi\": \"\"free\"\", \"Alcohol\": \"\"none\"\", \"RestaurantsGoodForGroups\": \"True\", \"RestaurantsAttire\": \"\"casual\"\", \"BusinessParking\": \"{\"garage\": False, \"street\": False, \"validated\": False, \"lot\": True, \"valet\": True}\", \"GoodForMeal\": \"{\"dessert\": True, \"latenight\": False, \"lunch\": True, \"dinner\": False, \"brunch\": True, \"breakfast\": True}\", \"Caters\": \"False\", \"OutdoorSeating\": \"True\", \"GoodForKids\": \"True\", \"HasTV\": \"False\", \"RestaurantsReservations\": \"True\", \"RestaurantsTakeOut\": \"True\", \"BusinessAcceptsCreditCards\": \"True\", \"WheelchairAccessible\": \"True\", \"BikeParking\": \"True\", \"NoiseLevel\": \"\"average\"\", \"BusinessAcceptsBitcoin\": \"False\", \"RestaurantsPriceRange2\": \"1\", \"RestaurantsTableService\": \"False\", \"Ambience\": \"{\"touristy\": False, \"hipster\": False, \"romantic\": False, \"divey\": False, \"intimate\": False, \"trendy\": False, \"upscale\": False, \"classy\": True, \"casual\": True}\", \"RestaurantsDelivery\": \"True\", \"DogsAllowed\": \"True\"}',\n",
       " '{\"RestaurantsGoodForGroups\": \"True\", \"Alcohol\": \"u\"beer_and_wine\"\", \"RestaurantsReservations\": \"True\", \"BikeParking\": \"True\", \"WiFi\": \"u\"no\"\", \"BusinessAcceptsCreditCards\": \"True\", \"NoiseLevel\": \"u\"average\"\", \"GoodForKids\": \"True\", \"RestaurantsPriceRange2\": \"2\", \"RestaurantsAttire\": \"\"casual\"\", \"ByAppointmentOnly\": \"False\", \"Caters\": \"False\", \"BusinessParking\": \"{\"garage\": False, \"street\": True, \"validated\": False, \"lot\": True, \"valet\": False}\", \"HasTV\": \"True\", \"GoodForMeal\": \"{\"dessert\": False, \"latenight\": False, \"lunch\": True, \"dinner\": True, \"brunch\": False, \"breakfast\": False}\", \"RestaurantsTakeOut\": \"True\", \"RestaurantsTableService\": \"True\", \"OutdoorSeating\": \"True\", \"WheelchairAccessible\": \"True\", \"RestaurantsDelivery\": \"True\", \"Corkage\": \"True\", \"Ambience\": \"{u\"divey\": False, u\"hipster\": False, u\"casual\": True, u\"touristy\": False, u\"trendy\": False, u\"intimate\": None, u\"romantic\": None, u\"classy\": False, u\"upscale\": False}\"}',\n",
       " '{\"RestaurantsPriceRange2\": \"1\", \"BusinessAcceptsCreditCards\": \"True\", \"Caters\": \"False\", \"RestaurantsTakeOut\": \"True\", \"BikeParking\": \"True\", \"WiFi\": \"u\"free\"\", \"OutdoorSeating\": \"False\", \"BusinessParking\": \"{u\"valet\": False, u\"garage\": None, u\"street\": None, u\"lot\": None, u\"validated\": False}\", \"DriveThru\": \"None\", \"RestaurantsDelivery\": \"True\"}',\n",
       " None,\n",
       " '{\"BikeParking\": \"False\", \"BusinessAcceptsCreditCards\": \"True\", \"RestaurantsTakeOut\": \"False\", \"RestaurantsDelivery\": \"True\", \"BusinessParking\": \"{\"garage\": False, \"street\": False, \"validated\": False, \"lot\": True, \"valet\": False}\", \"RestaurantsPriceRange2\": \"1\", \"DriveThru\": \"True\"}',\n",
       " '{\"BikeParking\": \"True\", \"RestaurantsTableService\": \"True\", \"WiFi\": \"u\"free\"\", \"Caters\": \"True\", \"GoodForMeal\": \"{\"dessert\": False, \"latenight\": False, \"lunch\": True, \"dinner\": True, \"brunch\": False, \"breakfast\": False}\", \"GoodForDancing\": \"False\", \"HappyHour\": \"True\", \"DogsAllowed\": \"False\", \"Alcohol\": \"u\"full_bar\"\", \"RestaurantsPriceRange2\": \"2\", \"OutdoorSeating\": \"True\", \"RestaurantsTakeOut\": \"True\", \"RestaurantsGoodForGroups\": \"True\", \"HasTV\": \"True\", \"Ambience\": \"{\"touristy\": False, \"hipster\": False, \"romantic\": False, \"divey\": False, \"intimate\": False, \"trendy\": True, \"upscale\": False, \"classy\": False, \"casual\": True}\", \"GoodForKids\": \"True\", \"WheelchairAccessible\": \"True\", \"BusinessAcceptsBitcoin\": \"False\", \"Music\": \"{\"dj\": False, \"background_music\": False, \"no_music\": False, \"jukebox\": False, \"live\": False, \"video\": False, \"karaoke\": False}\", \"BusinessAcceptsCreditCards\": \"True\", \"RestaurantsDelivery\": \"True\", \"Smoking\": \"u\"no\"\", \"RestaurantsReservations\": \"True\", \"NoiseLevel\": \"u\"loud\"\", \"BusinessParking\": \"{\"garage\": False, \"street\": True, \"validated\": True, \"lot\": True, \"valet\": False}\", \"RestaurantsAttire\": \"\"casual\"\"}',\n",
       " '{\"RestaurantsPriceRange2\": \"2\", \"BusinessParking\": \"{\"garage\": False, \"street\": False, \"validated\": False, \"lot\": True, \"valet\": False}\", \"ByAppointmentOnly\": \"False\", \"WiFi\": \"u\"free\"\", \"BikeParking\": \"True\", \"BusinessAcceptsCreditCards\": \"True\", \"BusinessAcceptsBitcoin\": \"False\"}',\n",
       " '{\"DriveThru\": \"False\", \"BusinessParking\": \"{\"garage\": False, \"street\": False, \"validated\": False, \"lot\": False, \"valet\": False}\", \"BusinessAcceptsCreditCards\": \"True\", \"RestaurantsTakeOut\": \"True\", \"WiFi\": \"\"free\"\", \"BikeParking\": \"False\", \"RestaurantsGoodForGroups\": \"False\", \"GoodForMeal\": \"{\"dessert\": False, \"latenight\": False, \"lunch\": False, \"dinner\": False, \"brunch\": False, \"breakfast\": False}\", \"Ambience\": \"{\"touristy\": False, \"hipster\": False, \"romantic\": False, \"divey\": False, \"intimate\": False, \"trendy\": False, \"upscale\": False, \"classy\": False, \"casual\": False}\", \"GoodForKids\": \"True\", \"RestaurantsPriceRange2\": \"1\", \"HasTV\": \"True\", \"RestaurantsAttire\": \"\"casual\"\", \"RestaurantsReservations\": \"False\", \"RestaurantsDelivery\": \"True\"}',\n",
       " '{\"BusinessAcceptsCreditCards\": \"True\", \"RestaurantsPriceRange2\": \"2\", \"BusinessParking\": \"{\"garage\": False, \"street\": False, \"validated\": False, \"lot\": True, \"valet\": False}\", \"BikeParking\": \"False\"}',\n",
       " '{\"WiFi\": \"\"no\"\", \"OutdoorSeating\": \"True\", \"RestaurantsPriceRange2\": \"1\", \"BusinessParking\": \"{\"garage\": False, \"street\": True, \"validated\": False, \"lot\": False, \"valet\": False}\", \"BusinessAcceptsCreditCards\": \"True\", \"BikeParking\": \"True\"}',\n",
       " '{\"RestaurantsPriceRange2\": \"2\", \"BusinessAcceptsCreditCards\": \"True\", \"GoodForKids\": \"True\", \"BusinessParking\": \"{\"garage\": False, \"street\": False, \"validated\": False, \"lot\": True, \"valet\": False}\", \"ByAppointmentOnly\": \"False\"}',\n",
       " '{\"GoodForKids\": \"True\", \"BusinessParking\": \"{\"garage\": False, \"street\": False, \"validated\": False, \"lot\": False, \"valet\": False}\", \"BikeParking\": \"True\", \"BusinessAcceptsCreditCards\": \"True\", \"WheelchairAccessible\": \"True\", \"ByAppointmentOnly\": \"False\"}',\n",
       " '{\"RestaurantsDelivery\": \"False\", \"Alcohol\": \"u\"full_bar\"\", \"OutdoorSeating\": \"True\", \"RestaurantsReservations\": \"True\", \"BusinessAcceptsCreditCards\": \"True\", \"WiFi\": \"u\"free\"\", \"RestaurantsTakeOut\": \"True\", \"BusinessParking\": \"{\"garage\": False, \"street\": False, \"validated\": False, \"lot\": True, \"valet\": False}\", \"GoodForKids\": \"True\", \"BikeParking\": \"True\", \"WheelchairAccessible\": \"True\"}',\n",
       " '{\"BusinessParking\": \"{\"garage\": False, \"street\": False, \"validated\": False, \"lot\": True, \"valet\": False}\", \"BusinessAcceptsCreditCards\": \"True\", \"RestaurantsPriceRange2\": \"2\", \"BikeParking\": \"True\", \"GoodForKids\": \"True\"}',\n",
       " '{\"ByAppointmentOnly\": \"False\"}',\n",
       " '{\"Alcohol\": \"u\"full_bar\"\", \"BusinessParking\": \"{\"garage\": False, \"street\": False, \"validated\": False, \"lot\": False, \"valet\": False}\", \"RestaurantsGoodForGroups\": \"True\", \"OutdoorSeating\": \"False\", \"HasTV\": \"True\", \"NoiseLevel\": \"u\"average\"\", \"Ambience\": \"{\"romantic\": False, \"intimate\": False, \"classy\": False, \"hipster\": False, \"divey\": False, \"touristy\": False, \"trendy\": False, \"upscale\": False, \"casual\": True}\", \"RestaurantsPriceRange2\": \"1\"}',\n",
       " '{\"RestaurantsDelivery\": \"False\", \"HasTV\": \"False\", \"RestaurantsGoodForGroups\": \"True\", \"Alcohol\": \"u\"beer_and_wine\"\", \"RestaurantsAttire\": \"u\"casual\"\", \"BikeParking\": \"True\", \"NoiseLevel\": \"u\"average\"\", \"RestaurantsReservations\": \"False\", \"BusinessParking\": \"{\"garage\": False, \"street\": True, \"validated\": False, \"lot\": True, \"valet\": False}\", \"RestaurantsTakeOut\": \"True\", \"Ambience\": \"{\"romantic\": False, \"intimate\": False, \"touristy\": False, \"hipster\": False, \"divey\": False, \"classy\": False, \"trendy\": False, \"upscale\": False, \"casual\": True}\", \"OutdoorSeating\": \"True\", \"BusinessAcceptsCreditCards\": \"True\", \"WiFi\": \"\"free\"\", \"RestaurantsPriceRange2\": \"1\", \"GoodForKids\": \"True\", \"Caters\": \"False\", \"GoodForMeal\": \"{\"dessert\": False, \"latenight\": False, \"lunch\": True, \"dinner\": False, \"brunch\": False, \"breakfast\": True}\", \"HappyHour\": \"True\"}',\n",
       " '{\"BusinessParking\": \"{\"garage\": False, \"street\": False, \"validated\": False, \"lot\": False, \"valet\": False}\", \"ByAppointmentOnly\": \"True\", \"RestaurantsPriceRange2\": \"2\", \"AcceptsInsurance\": \"True\", \"BikeParking\": \"True\"}',\n",
       " '{\"BusinessAcceptsCreditCards\": \"True\"}',\n",
       " '{\"ByAppointmentOnly\": \"False\", \"WheelchairAccessible\": \"True\", \"BusinessAcceptsCreditCards\": \"True\"}',\n",
       " '{\"RestaurantsPriceRange2\": \"1\", \"BusinessParking\": \"{\"garage\": False, \"street\": False, \"validated\": False, \"lot\": False, \"valet\": False}\", \"ByAppointmentOnly\": \"False\", \"BikeParking\": \"True\", \"BusinessAcceptsCreditCards\": \"True\"}',\n",
       " '{\"BusinessParking\": \"{\"garage\": False, \"street\": False, \"validated\": False, \"lot\": True, \"valet\": False}\", \"BusinessAcceptsCreditCards\": \"True\", \"RestaurantsPriceRange2\": \"2\", \"ByAppointmentOnly\": \"False\", \"BikeParking\": \"True\", \"WheelchairAccessible\": \"True\"}',\n",
       " '{\"RestaurantsReservations\": \"True\", \"RestaurantsPriceRange2\": \"2\", \"BikeParking\": \"False\", \"RestaurantsAttire\": \"\"casual\"\", \"GoodForKids\": \"False\", \"Caters\": \"False\", \"BusinessAcceptsCreditCards\": \"True\", \"Alcohol\": \"\"none\"\", \"BusinessParking\": \"{\"garage\": False, \"street\": False, \"validated\": False, \"lot\": True, \"valet\": False}\", \"OutdoorSeating\": \"False\", \"BYOBCorkage\": \"\"yes_free\"\", \"RestaurantsGoodForGroups\": \"True\", \"WiFi\": \"u\"no\"\", \"RestaurantsTakeOut\": \"True\", \"NoiseLevel\": \"u\"average\"\", \"DogsAllowed\": \"False\", \"HappyHour\": \"False\", \"Ambience\": \"{\"touristy\": False, \"hipster\": False, \"romantic\": False, \"divey\": False, \"intimate\": False, \"trendy\": False, \"upscale\": False, \"classy\": True, \"casual\": True}\", \"HasTV\": \"False\", \"RestaurantsTableService\": \"True\", \"WheelchairAccessible\": \"True\", \"BusinessAcceptsBitcoin\": \"False\", \"RestaurantsDelivery\": \"True\", \"GoodForMeal\": \"{u\"breakfast\": False, u\"brunch\": False, u\"lunch\": True, u\"dinner\": True, u\"latenight\": False, u\"dessert\": None}\"}',\n",
       " '{\"ByAppointmentOnly\": \"False\"}',\n",
       " '{\"BusinessParking\": \"{\"garage\": False, \"street\": False, \"validated\": False, \"lot\": True, \"valet\": False}\", \"RestaurantsPriceRange2\": \"2\", \"BusinessAcceptsCreditCards\": \"True\", \"ByAppointmentOnly\": \"True\", \"BikeParking\": \"True\"}',\n",
       " '{\"BusinessParking\": \"{\"garage\": False, \"street\": False, \"validated\": False, \"lot\": True, \"valet\": False}\", \"BusinessAcceptsCreditCards\": \"True\", \"BikeParking\": \"True\", \"RestaurantsPriceRange2\": \"2\"}',\n",
       " '{\"ByAppointmentOnly\": \"True\", \"AcceptsInsurance\": \"False\", \"BusinessAcceptsCreditCards\": \"True\"}',\n",
       " '{\"ByAppointmentOnly\": \"False\", \"BusinessAcceptsCreditCards\": \"True\", \"AcceptsInsurance\": \"True\"}',\n",
       " '{\"BusinessAcceptsCreditCards\": \"True\", \"ByAppointmentOnly\": \"True\", \"BusinessAcceptsBitcoin\": \"True\"}',\n",
       " '{\"BusinessAcceptsCreditCards\": \"True\", \"RestaurantsPriceRange2\": \"1\", \"WiFi\": \"\"no\"\", \"BusinessParking\": \"{\"garage\": None, \"street\": True, \"validated\": False, \"lot\": None, \"valet\": False}\"}',\n",
       " '{\"ByAppointmentOnly\": \"False\", \"BusinessAcceptsCreditCards\": \"True\"}',\n",
       " '{\"ByAppointmentOnly\": \"True\", \"BusinessParking\": \"{u\"valet\": False, u\"garage\": False, u\"street\": False, u\"lot\": True, u\"validated\": False}\", \"AcceptsInsurance\": \"True\", \"RestaurantsPriceRange2\": \"3\", \"BikeParking\": \"False\", \"BusinessAcceptsCreditCards\": \"True\"}',\n",
       " '{\"HasTV\": \"True\", \"GoodForKids\": \"True\", \"GoodForMeal\": \"{\"dessert\": False, \"latenight\": False, \"lunch\": True, \"dinner\": False, \"brunch\": False, \"breakfast\": False}\", \"Caters\": \"True\", \"RestaurantsPriceRange2\": \"1\", \"BusinessAcceptsCreditCards\": \"True\", \"OutdoorSeating\": \"False\", \"WheelchairAccessible\": \"True\", \"Alcohol\": \"\"none\"\", \"BikeParking\": \"True\", \"WiFi\": \"u\"free\"\", \"RestaurantsTakeOut\": \"True\", \"RestaurantsGoodForGroups\": \"True\", \"NoiseLevel\": \"u\"average\"\", \"Ambience\": \"{\"touristy\": False, \"hipster\": False, \"romantic\": False, \"divey\": False, \"intimate\": False, \"trendy\": False, \"upscale\": False, \"classy\": False, \"casual\": True}\", \"RestaurantsAttire\": \"u\"casual\"\", \"RestaurantsReservations\": \"False\", \"RestaurantsTableService\": \"True\", \"RestaurantsDelivery\": \"None\", \"BusinessParking\": \"{\"garage\": False, \"street\": False, \"validated\": False, \"lot\": True, \"valet\": False}\"}',\n",
       " '{\"RestaurantsAttire\": \"u\"casual\"\", \"HasTV\": \"False\", \"WiFi\": \"u\"free\"\", \"NoiseLevel\": \"u\"average\"\", \"RestaurantsPriceRange2\": \"2\", \"BikeParking\": \"True\", \"BusinessParking\": \"{\"garage\": False, \"street\": False, \"validated\": False, \"lot\": True, \"valet\": False}\", \"RestaurantsTakeOut\": \"True\", \"Caters\": \"True\", \"WheelchairAccessible\": \"True\", \"GoodForKids\": \"True\", \"BusinessAcceptsBitcoin\": \"False\", \"BusinessAcceptsCreditCards\": \"True\", \"RestaurantsGoodForGroups\": \"True\", \"HappyHour\": \"True\", \"Alcohol\": \"u\"beer_and_wine\"\", \"RestaurantsDelivery\": \"True\", \"GoodForMeal\": \"{\"dessert\": None, \"latenight\": False, \"lunch\": True, \"dinner\": True, \"brunch\": False, \"breakfast\": False}\", \"DogsAllowed\": \"True\", \"OutdoorSeating\": \"True\", \"RestaurantsReservations\": \"True\", \"RestaurantsTableService\": \"False\", \"Ambience\": \"{\"touristy\": False, \"hipster\": False, \"romantic\": False, \"divey\": False, \"intimate\": False, \"trendy\": True, \"upscale\": False, \"classy\": True, \"casual\": False}\"}',\n",
       " '{\"BusinessParking\": \"{\"garage\": False, \"street\": False, \"validated\": False, \"lot\": False, \"valet\": False}\", \"BusinessAcceptsCreditCards\": \"True\", \"RestaurantsPriceRange2\": \"2\", \"ByAppointmentOnly\": \"False\"}',\n",
       " None,\n",
       " '{\"RestaurantsReservations\": \"False\", \"RestaurantsDelivery\": \"False\", \"RestaurantsTakeOut\": \"True\", \"RestaurantsGoodForGroups\": \"True\", \"GoodForKids\": \"True\", \"Ambience\": \"{u\"divey\": False, u\"hipster\": False, u\"casual\": True, u\"touristy\": False, u\"trendy\": False, u\"intimate\": None, u\"romantic\": None, u\"classy\": False, u\"upscale\": None}\", \"RestaurantsAttire\": \"\"casual\"\", \"RestaurantsPriceRange2\": \"1\", \"BusinessAcceptsCreditCards\": \"False\"}',\n",
       " '{\"BusinessAcceptsCreditCards\": \"True\", \"GoodForKids\": \"True\", \"BusinessParking\": \"{\"garage\": False, \"street\": False, \"validated\": False, \"lot\": False, \"valet\": False}\", \"ByAppointmentOnly\": \"False\", \"RestaurantsPriceRange2\": \"2\", \"BikeParking\": \"True\", \"WiFi\": \"u\"no\"\", \"WheelchairAccessible\": \"True\", \"HairSpecializesIn\": \"{\"straightperms\": False, \"coloring\": False, \"extensions\": False, \"africanamerican\": True, \"curly\": True, \"kids\": True, \"perms\": False, \"asian\": True}\"}',\n",
       " '{\"Alcohol\": \"u\"none\"\", \"RestaurantsDelivery\": \"True\", \"GoodForKids\": \"True\", \"OutdoorSeating\": \"True\", \"BikeParking\": \"True\", \"BusinessParking\": \"{\"garage\": False, \"street\": False, \"validated\": False, \"lot\": True, \"valet\": False}\", \"BusinessAcceptsCreditCards\": \"True\", \"RestaurantsReservations\": \"False\", \"RestaurantsAttire\": \"\"casual\"\", \"NoiseLevel\": \"u\"average\"\", \"RestaurantsTakeOut\": \"True\", \"Ambience\": \"{\"touristy\": False, \"hipster\": False, \"romantic\": False, \"divey\": False, \"intimate\": False, \"trendy\": False, \"upscale\": False, \"classy\": False, \"casual\": False}\", \"RestaurantsPriceRange2\": \"1\", \"WiFi\": \"\"no\"\", \"GoodForMeal\": \"{\"dessert\": False, \"latenight\": False, \"lunch\": True, \"dinner\": True, \"brunch\": False, \"breakfast\": False}\", \"HasTV\": \"True\", \"RestaurantsGoodForGroups\": \"True\"}',\n",
       " '{\"GoodForKids\": \"True\"}',\n",
       " '{\"BusinessAcceptsCreditCards\": \"True\", \"RestaurantsTakeOut\": \"True\", \"Caters\": \"False\", \"BikeParking\": \"True\", \"RestaurantsPriceRange2\": \"1\", \"WheelchairAccessible\": \"True\", \"RestaurantsDelivery\": \"True\", \"OutdoorSeating\": \"None\", \"BusinessParking\": \"{\"garage\": False, \"street\": False, \"validated\": False, \"lot\": True, \"valet\": False}\", \"WiFi\": \"u\"free\"\"}',\n",
       " '{\"BusinessAcceptsCreditCards\": \"True\", \"WiFi\": \"u\"free\"\", \"AcceptsInsurance\": \"True\", \"ByAppointmentOnly\": \"True\"}',\n",
       " '{\"GoodForKids\": \"True\", \"OutdoorSeating\": \"False\", \"RestaurantsAttire\": \"\"casual\"\", \"Caters\": \"False\", \"BusinessAcceptsCreditCards\": \"True\", \"NoiseLevel\": \"\"average\"\", \"BikeParking\": \"False\", \"HasTV\": \"True\", \"Ambience\": \"{\"romantic\": False, \"intimate\": False, \"classy\": False, \"hipster\": False, \"divey\": False, \"touristy\": False, \"trendy\": False, \"upscale\": False, \"casual\": False}\", \"GoodForMeal\": \"{\"dessert\": False, \"latenight\": False, \"lunch\": True, \"dinner\": False, \"brunch\": False, \"breakfast\": False}\", \"RestaurantsGoodForGroups\": \"True\", \"RestaurantsDelivery\": \"False\", \"BusinessParking\": \"{\"garage\": False, \"street\": False, \"validated\": False, \"lot\": False, \"valet\": False}\", \"RestaurantsPriceRange2\": \"1\", \"Alcohol\": \"\"none\"\", \"RestaurantsTakeOut\": \"True\", \"WiFi\": \"\"no\"\", \"RestaurantsReservations\": \"False\"}',\n",
       " '{\"RestaurantsPriceRange2\": \"4\", \"BusinessAcceptsCreditCards\": \"True\", \"ByAppointmentOnly\": \"False\", \"BusinessParking\": \"{\"garage\": False, \"street\": False, \"validated\": False, \"lot\": False, \"valet\": False}\", \"BikeParking\": \"True\"}',\n",
       " '{\"BikeParking\": \"True\", \"RestaurantsAttire\": \"\"casual\"\", \"NoiseLevel\": \"u\"loud\"\", \"RestaurantsDelivery\": \"False\", \"BusinessAcceptsCreditCards\": \"True\", \"GoodForKids\": \"True\", \"WiFi\": \"u\"free\"\", \"RestaurantsTakeOut\": \"True\", \"BusinessParking\": \"{\"garage\": False, \"street\": True, \"validated\": False, \"lot\": False, \"valet\": False}\", \"HasTV\": \"False\", \"RestaurantsGoodForGroups\": \"False\", \"Caters\": \"False\", \"RestaurantsReservations\": \"False\", \"Alcohol\": \"\"none\"\", \"RestaurantsPriceRange2\": \"1\", \"OutdoorSeating\": \"True\", \"GoodForMeal\": \"{\"dessert\": False, \"latenight\": False, \"lunch\": True, \"dinner\": False, \"brunch\": False, \"breakfast\": False}\", \"Ambience\": \"{\"touristy\": None, \"hipster\": None, \"romantic\": False, \"divey\": False, \"intimate\": False, \"trendy\": None, \"upscale\": False, \"classy\": False, \"casual\": True}\"}',\n",
       " '{\"RestaurantsDelivery\": \"True\", \"WiFi\": \"u\"free\"\", \"GoodForKids\": \"True\", \"Caters\": \"True\", \"OutdoorSeating\": \"True\", \"Ambience\": \"{\"romantic\": False, \"intimate\": False, \"touristy\": False, \"hipster\": False, \"divey\": False, \"classy\": False, \"trendy\": False, \"upscale\": False, \"casual\": True}\", \"Alcohol\": \"u\"beer_and_wine\"\", \"BikeParking\": \"False\", \"RestaurantsGoodForGroups\": \"True\", \"BusinessAcceptsCreditCards\": \"True\", \"NoiseLevel\": \"\"average\"\", \"BusinessParking\": \"{\"garage\": False, \"street\": False, \"validated\": False, \"lot\": True, \"valet\": False}\", \"HasTV\": \"True\", \"RestaurantsReservations\": \"False\", \"DogsAllowed\": \"True\", \"RestaurantsPriceRange2\": \"2\", \"WheelchairAccessible\": \"True\", \"ByAppointmentOnly\": \"False\", \"RestaurantsAttire\": \"u\"casual\"\", \"CoatCheck\": \"False\", \"RestaurantsTakeOut\": \"True\", \"RestaurantsTableService\": \"True\", \"Smoking\": \"u\"outdoor\"\", \"Corkage\": \"True\", \"BestNights\": \"{u\"monday\": False, u\"tuesday\": False, u\"wednesday\": False, u\"thursday\": False, u\"friday\": False, u\"saturday\": False, u\"sunday\": False}\", \"HappyHour\": \"True\", \"GoodForMeal\": \"{u\"breakfast\": False, u\"brunch\": False, u\"lunch\": None, u\"dinner\": True, u\"latenight\": False, u\"dessert\": None}\", \"BYOB\": \"True\"}',\n",
       " '{\"WheelchairAccessible\": \"True\", \"ByAppointmentOnly\": \"True\", \"BusinessAcceptsCreditCards\": \"False\", \"BusinessParking\": \"{\"garage\": False, \"street\": False, \"validated\": False, \"lot\": True, \"valet\": False}\", \"WiFi\": \"u\"no\"\"}',\n",
       " '{\"BusinessAcceptsCreditCards\": \"True\", \"ByAppointmentOnly\": \"True\", \"WiFi\": \"u\"no\"\", \"BusinessAcceptsBitcoin\": \"False\"}',\n",
       " '{\"BusinessAcceptsCreditCards\": \"True\", \"GoodForKids\": \"True\", \"BusinessParking\": \"{\"garage\": False, \"street\": False, \"validated\": False, \"lot\": False, \"valet\": False}\", \"ByAppointmentOnly\": \"False\", \"RestaurantsPriceRange2\": \"1\"}',\n",
       " '{\"GoodForKids\": \"True\", \"DogsAllowed\": \"True\", \"BikeParking\": \"True\", \"BusinessParking\": \"{\"garage\": False, \"street\": False, \"validated\": False, \"lot\": True, \"valet\": False}\"}',\n",
       " '{\"BikeParking\": \"True\", \"BusinessParking\": \"{\"garage\": False, \"street\": False, \"validated\": False, \"lot\": False, \"valet\": False}\", \"ByAppointmentOnly\": \"False\", \"WheelchairAccessible\": \"True\", \"BusinessAcceptsCreditCards\": \"True\", \"RestaurantsPriceRange2\": \"2\"}',\n",
       " '{\"Alcohol\": \"\"none\"\", \"RestaurantsReservations\": \"False\", \"RestaurantsPriceRange2\": \"1\", \"BusinessAcceptsCreditCards\": \"True\", \"BusinessParking\": \"{\"garage\": False, \"street\": False, \"validated\": False, \"lot\": False, \"valet\": False}\", \"RestaurantsGoodForGroups\": \"True\", \"GoodForKids\": \"True\", \"Ambience\": \"{\"romantic\": False, \"intimate\": False, \"classy\": False, \"hipster\": False, \"divey\": False, \"touristy\": False, \"trendy\": False, \"upscale\": False, \"casual\": False}\", \"RestaurantsAttire\": \"\"casual\"\", \"Caters\": \"False\", \"RestaurantsTakeOut\": \"True\", \"HasTV\": \"True\", \"BikeParking\": \"True\", \"OutdoorSeating\": \"False\", \"WiFi\": \"u\"free\"\", \"GoodForMeal\": \"{\"dessert\": False, \"latenight\": False, \"lunch\": False, \"dinner\": False, \"brunch\": False, \"breakfast\": False}\", \"DriveThru\": \"True\", \"RestaurantsDelivery\": \"True\"}',\n",
       " '{\"GoodForMeal\": \"{\"dessert\": False, \"latenight\": False, \"lunch\": True, \"dinner\": False, \"brunch\": False, \"breakfast\": False}\", \"RestaurantsReservations\": \"False\", \"Alcohol\": \"\"full_bar\"\", \"HasTV\": \"True\", \"Caters\": \"True\", \"RestaurantsAttire\": \"\"casual\"\", \"BusinessParking\": \"{\"garage\": False, \"street\": True, \"validated\": False, \"lot\": False, \"valet\": False}\", \"BusinessAcceptsCreditCards\": \"True\", \"HappyHour\": \"True\", \"NoiseLevel\": \"\"average\"\", \"RestaurantsTableService\": \"True\", \"WiFi\": \"u\"free\"\", \"RestaurantsTakeOut\": \"True\", \"BikeParking\": \"True\", \"RestaurantsPriceRange2\": \"2\", \"RestaurantsGoodForGroups\": \"True\", \"OutdoorSeating\": \"False\", \"GoodForKids\": \"True\", \"RestaurantsDelivery\": \"False\", \"Ambience\": \"{\"touristy\": False, \"hipster\": True, \"romantic\": False, \"divey\": False, \"intimate\": False, \"trendy\": True, \"upscale\": False, \"classy\": False, \"casual\": True}\"}',\n",
       " '{\"BusinessParking\": \"{\"garage\": False, \"street\": False, \"validated\": False, \"lot\": True, \"valet\": False}\", \"RestaurantsPriceRange2\": \"2\", \"OutdoorSeating\": \"False\", \"Alcohol\": \"u\"none\"\", \"Caters\": \"False\", \"RestaurantsGoodForGroups\": \"True\", \"RestaurantsTakeOut\": \"True\", \"RestaurantsAttire\": \"u\"casual\"\", \"RestaurantsReservations\": \"False\", \"RestaurantsDelivery\": \"False\", \"RestaurantsTableService\": \"True\", \"NoiseLevel\": \"u\"average\"\", \"BusinessAcceptsCreditCards\": \"True\", \"WiFi\": \"u\"free\"\", \"GoodForKids\": \"True\", \"BikeParking\": \"True\", \"HasTV\": \"True\", \"GoodForMeal\": \"{u\"breakfast\": True, u\"brunch\": True, u\"lunch\": None, u\"dinner\": False, u\"latenight\": False, u\"dessert\": False}\", \"Corkage\": \"False\", \"BYOB\": \"False\", \"Ambience\": \"{u\"divey\": False, u\"hipster\": False, u\"casual\": True, u\"touristy\": False, u\"trendy\": False, u\"intimate\": False, u\"romantic\": False, u\"classy\": False, u\"upscale\": False}\", \"WheelchairAccessible\": \"True\"}',\n",
       " '{\"Alcohol\": \"u\"none\"\", \"Caters\": \"True\", \"GoodForMeal\": \"{\"dessert\": False, \"latenight\": False, \"lunch\": False, \"dinner\": False, \"brunch\": False, \"breakfast\": False}\", \"BusinessAcceptsCreditCards\": \"True\", \"RestaurantsPriceRange2\": \"1\"}',\n",
       " '{\"RestaurantsPriceRange2\": \"2\", \"RestaurantsTakeOut\": \"True\", \"BikeParking\": \"False\", \"RestaurantsAttire\": \"\"casual\"\", \"BusinessAcceptsCreditCards\": \"True\", \"RestaurantsGoodForGroups\": \"True\", \"WiFi\": \"u\"no\"\", \"BusinessParking\": \"{\"garage\": False, \"street\": False, \"validated\": False, \"lot\": True, \"valet\": False}\", \"GoodForKids\": \"True\", \"HasTV\": \"False\", \"NoiseLevel\": \"u\"quiet\"\", \"OutdoorSeating\": \"False\", \"Caters\": \"True\", \"RestaurantsReservations\": \"True\", \"DogsAllowed\": \"False\", \"GoodForMeal\": \"{\"dessert\": False, \"latenight\": False, \"lunch\": True, \"dinner\": True, \"brunch\": False, \"breakfast\": False}\", \"Ambience\": \"{\"touristy\": False, \"hipster\": False, \"romantic\": False, \"divey\": False, \"intimate\": False, \"trendy\": False, \"upscale\": False, \"classy\": True, \"casual\": True}\", \"Alcohol\": \"u\"full_bar\"\", \"RestaurantsDelivery\": \"True\"}',\n",
       " '{\"BusinessAcceptsCreditCards\": \"True\"}',\n",
       " '{\"HasTV\": \"False\", \"RestaurantsDelivery\": \"True\", \"RestaurantsAttire\": \"u\"casual\"\", \"RestaurantsPriceRange2\": \"2\", \"RestaurantsReservations\": \"False\", \"OutdoorSeating\": \"False\", \"BusinessAcceptsCreditCards\": \"True\", \"RestaurantsTakeOut\": \"True\", \"Caters\": \"True\", \"GoodForKids\": \"True\", \"NoiseLevel\": \"u\"average\"\", \"Alcohol\": \"u\"none\"\", \"RestaurantsGoodForGroups\": \"True\", \"GoodForMeal\": \"{\"dessert\": False, \"latenight\": False, \"lunch\": True, \"dinner\": True, \"brunch\": False, \"breakfast\": False}\", \"BikeParking\": \"True\", \"BusinessParking\": \"{\"garage\": False, \"street\": None, \"validated\": False, \"lot\": None, \"valet\": False}\", \"Ambience\": \"{\"touristy\": False, \"hipster\": None, \"romantic\": False, \"divey\": False, \"intimate\": False, \"trendy\": None, \"upscale\": False, \"classy\": False, \"casual\": True}\", \"WiFi\": \"u\"no\"\"}',\n",
       " '{\"BusinessAcceptsCreditCards\": \"True\", \"GoodForKids\": \"True\", \"RestaurantsPriceRange2\": \"1\", \"RestaurantsReservations\": \"False\", \"Alcohol\": \"u\"none\"\", \"HasTV\": \"True\", \"RestaurantsDelivery\": \"True\", \"RestaurantsGoodForGroups\": \"True\", \"RestaurantsTakeOut\": \"True\", \"BusinessParking\": \"{\"garage\": False, \"street\": True, \"validated\": False, \"lot\": False, \"valet\": False}\", \"OutdoorSeating\": \"False\", \"Caters\": \"True\", \"Ambience\": \"{\"romantic\": False, \"intimate\": False, \"classy\": False, \"hipster\": False, \"divey\": False, \"touristy\": False, \"trendy\": False, \"upscale\": False, \"casual\": False}\", \"WiFi\": \"u\"free\"\", \"RestaurantsAttire\": \"u\"casual\"\", \"NoiseLevel\": \"u\"average\"\", \"BikeParking\": \"False\"}',\n",
       " '{\"BusinessAcceptsCreditCards\": \"True\", \"ByAppointmentOnly\": \"False\", \"WiFi\": \"u\"free\"\"}',\n",
       " None,\n",
       " '{\"BusinessAcceptsCreditCards\": \"True\"}',\n",
       " '{\"ByAppointmentOnly\": \"False\", \"BusinessAcceptsCreditCards\": \"True\"}',\n",
       " None,\n",
       " None,\n",
       " '{\"BusinessAcceptsCreditCards\": \"True\", \"RestaurantsPriceRange2\": \"1\", \"WheelchairAccessible\": \"False\", \"DogsAllowed\": \"True\", \"BikeParking\": \"False\", \"BusinessParking\": \"{\"garage\": False, \"street\": True, \"validated\": False, \"lot\": False, \"valet\": False}\"}',\n",
       " None,\n",
       " '{\"WiFi\": \"u\"no\"\"}',\n",
       " None,\n",
       " '{\"WiFi\": \"u\"free\"\", \"RestaurantsPriceRange2\": \"2\", \"BusinessAcceptsCreditCards\": \"True\", \"DogsAllowed\": \"False\", \"BusinessAcceptsBitcoin\": \"False\"}',\n",
       " '{\"GoodForKids\": \"True\"}',\n",
       " '{\"RestaurantsPriceRange2\": \"2\", \"BusinessAcceptsCreditCards\": \"True\", \"BusinessParking\": \"{\"garage\": False, \"street\": False, \"validated\": False, \"lot\": True, \"valet\": False}\", \"BikeParking\": \"True\"}',\n",
       " '{\"NoiseLevel\": \"\"average\"\", \"Caters\": \"False\", \"GoodForMeal\": \"{\"dessert\": False, \"latenight\": True, \"lunch\": False, \"dinner\": False, \"brunch\": False, \"breakfast\": False}\", \"RestaurantsAttire\": \"\"casual\"\", \"RestaurantsTableService\": \"True\", \"GoodForDancing\": \"True\", \"WiFi\": \"\"free\"\", \"BikeParking\": \"True\", \"HasTV\": \"True\", \"BestNights\": \"{\"monday\": False, \"tuesday\": False, \"friday\": True, \"wednesday\": False, \"thursday\": True, \"sunday\": False, \"saturday\": True}\", \"BusinessAcceptsCreditCards\": \"True\", \"RestaurantsReservations\": \"True\", \"OutdoorSeating\": \"False\", \"HappyHour\": \"True\", \"Alcohol\": \"u\"full_bar\"\", \"BusinessAcceptsBitcoin\": \"False\", \"Smoking\": \"u\"yes\"\", \"RestaurantsGoodForGroups\": \"True\", \"WheelchairAccessible\": \"True\", \"BusinessParking\": \"{\"garage\": True, \"street\": True, \"validated\": False, \"lot\": False, \"valet\": False}\", \"RestaurantsPriceRange2\": \"2\", \"Music\": \"{\"dj\": True, \"background_music\": False, \"no_music\": False, \"jukebox\": False, \"live\": True, \"video\": False, \"karaoke\": False}\", \"Ambience\": \"{\"touristy\": None, \"hipster\": None, \"romantic\": False, \"divey\": None, \"intimate\": None, \"trendy\": None, \"upscale\": False, \"classy\": False, \"casual\": True}\", \"DogsAllowed\": \"False\", \"RestaurantsTakeOut\": \"True\", \"GoodForKids\": \"False\", \"CoatCheck\": \"False\", \"RestaurantsDelivery\": \"True\"}',\n",
       " '{\"BusinessAcceptsCreditCards\": \"True\"}',\n",
       " '{\"Corkage\": \"True\", \"HasTV\": \"True\", \"OutdoorSeating\": \"True\", \"RestaurantsTakeOut\": \"True\", \"Caters\": \"False\", \"BusinessAcceptsCreditCards\": \"True\", \"RestaurantsTableService\": \"True\", \"WiFi\": \"u\"free\"\", \"GoodForKids\": \"True\", \"RestaurantsGoodForGroups\": \"True\", \"Alcohol\": \"u\"beer_and_wine\"\", \"BYOB\": \"False\", \"BikeParking\": \"True\", \"RestaurantsDelivery\": \"False\", \"WheelchairAccessible\": \"True\"}',\n",
       " '{\"WiFi\": \"u\"free\"\", \"RestaurantsPriceRange2\": \"2\", \"BusinessAcceptsCreditCards\": \"True\"}',\n",
       " '{\"BusinessParking\": \"{\"garage\": False}\", \"BusinessAcceptsCreditCards\": \"True\", \"ByAppointmentOnly\": \"False\", \"RestaurantsPriceRange2\": \"2\", \"WiFi\": \"u\"free\"\", \"BikeParking\": \"True\", \"WheelchairAccessible\": \"True\"}',\n",
       " '{\"BikeParking\": \"True\", \"BusinessParking\": \"{\"garage\": False, \"street\": False, \"validated\": False, \"lot\": False, \"valet\": False}\", \"OutdoorSeating\": \"False\", \"RestaurantsPriceRange2\": \"1\", \"WiFi\": \"\"free\"\", \"Caters\": \"False\", \"RestaurantsTakeOut\": \"True\"}',\n",
       " '{\"BikeParking\": \"True\", \"RestaurantsPriceRange2\": \"2\", \"BusinessAcceptsCreditCards\": \"True\", \"BusinessParking\": \"{\"garage\": False, \"street\": True, \"validated\": False, \"lot\": False, \"valet\": False}\", \"ByAppointmentOnly\": \"True\"}',\n",
       " None,\n",
       " '{\"ByAppointmentOnly\": \"True\", \"BusinessAcceptsCreditCards\": \"True\", \"GoodForKids\": \"False\", \"BusinessParking\": \"{\"garage\": False, \"street\": False, \"validated\": False, \"lot\": False, \"valet\": False}\", \"RestaurantsPriceRange2\": \"2\", \"BikeParking\": \"False\"}',\n",
       " '{\"GoodForKids\": \"True\", \"DogsAllowed\": \"True\", \"ByAppointmentOnly\": \"False\", \"BikeParking\": \"False\", \"BusinessAcceptsCreditCards\": \"True\", \"WiFi\": \"u\"free\"\", \"WheelchairAccessible\": \"True\", \"BusinessParking\": \"{\"garage\": False, \"street\": True, \"validated\": False, \"lot\": True, \"valet\": False}\"}',\n",
       " None,\n",
       " '{\"GoodForKids\": \"True\", \"ByAppointmentOnly\": \"True\", \"BusinessParking\": \"{\"garage\": False, \"street\": False, \"validated\": False, \"lot\": False, \"valet\": False}\", \"BusinessAcceptsCreditCards\": \"True\", \"WheelchairAccessible\": \"True\"}',\n",
       " None,\n",
       " '{\"RestaurantsReservations\": \"False\"}',\n",
       " '{\"ByAppointmentOnly\": \"False\", \"BusinessAcceptsCreditCards\": \"True\", \"BusinessParking\": \"{\"garage\": False, \"street\": False, \"validated\": False, \"lot\": True, \"valet\": False}\", \"BikeParking\": \"False\", \"RestaurantsPriceRange2\": \"2\"}',\n",
       " '{\"BusinessAcceptsCreditCards\": \"True\", \"BikeParking\": \"True\", \"BusinessParking\": \"{\"garage\": False, \"street\": False, \"validated\": False, \"lot\": True, \"valet\": False}\", \"ByAppointmentOnly\": \"False\", \"GoodForKids\": \"False\", \"DogsAllowed\": \"False\"}',\n",
       " '{\"BusinessParking\": \"None\", \"BusinessAcceptsCreditCards\": \"True\", \"RestaurantsPriceRange2\": \"1\", \"RestaurantsTakeOut\": \"True\", \"RestaurantsDelivery\": \"True\"}',\n",
       " '{\"BusinessAcceptsCreditCards\": \"True\"}',\n",
       " '{\"WiFi\": \"\"free\"\", \"BusinessAcceptsCreditCards\": \"True\", \"RestaurantsPriceRange2\": \"2\"}',\n",
       " '{\"BikeParking\": \"True\", \"BusinessAcceptsCreditCards\": \"True\", \"BusinessParking\": \"{\"garage\": False, \"street\": True, \"validated\": False, \"lot\": True, \"valet\": False}\", \"WheelchairAccessible\": \"True\", \"DriveThru\": \"True\", \"RestaurantsPriceRange2\": \"2\", \"RestaurantsDelivery\": \"True\", \"RestaurantsTakeOut\": \"False\"}',\n",
       " '{\"GoodForKids\": \"False\", \"BusinessParking\": \"{\"garage\": False, \"street\": False, \"validated\": False, \"lot\": True, \"valet\": False}\"}',\n",
       " '{\"ByAppointmentOnly\": \"True\", \"BusinessAcceptsCreditCards\": \"True\", \"BusinessParking\": \"{\"garage\": False, \"street\": True, \"validated\": False, \"lot\": True, \"valet\": False}\", \"GoodForKids\": \"True\", \"BikeParking\": \"False\"}',\n",
       " '{\"RestaurantsPriceRange2\": \"2\", \"ByAppointmentOnly\": \"True\", \"BusinessParking\": \"{\"garage\": False, \"street\": False, \"validated\": False, \"lot\": False, \"valet\": False}\", \"BusinessAcceptsCreditCards\": \"True\", \"BikeParking\": \"True\"}',\n",
       " '{\"WiFi\": \"u\"no\"\", \"OutdoorSeating\": \"False\", \"RestaurantsAttire\": \"u\"casual\"\", \"BusinessAcceptsCreditCards\": \"True\", \"RestaurantsPriceRange2\": \"1\", \"GoodForKids\": \"True\", \"RestaurantsGoodForGroups\": \"True\", \"RestaurantsTakeOut\": \"True\", \"Alcohol\": \"u\"none\"\", \"RestaurantsReservations\": \"False\", \"NoiseLevel\": \"u\"average\"\", \"Caters\": \"False\", \"Ambience\": \"{\"romantic\": False, \"intimate\": False, \"touristy\": False, \"hipster\": False, \"divey\": False, \"classy\": False, \"trendy\": False, \"upscale\": False, \"casual\": True}\", \"BusinessParking\": \"{\"garage\": False, \"street\": True, \"validated\": False, \"lot\": False, \"valet\": False}\", \"BikeParking\": \"True\", \"GoodForMeal\": \"{\"dessert\": False, \"latenight\": False, \"lunch\": True, \"dinner\": False, \"brunch\": True, \"breakfast\": True}\", \"HappyHour\": \"False\", \"DogsAllowed\": \"False\", \"RestaurantsTableService\": \"True\", \"HasTV\": \"True\", \"RestaurantsDelivery\": \"True\"}',\n",
       " '{\"HasTV\": \"True\", \"RestaurantsTableService\": \"True\", \"BikeParking\": \"True\", \"RestaurantsDelivery\": \"True\", \"RestaurantsTakeOut\": \"True\", \"RestaurantsReservations\": \"True\", \"GoodForMeal\": \"{\"dessert\": False, \"latenight\": False, \"lunch\": False, \"dinner\": False, \"brunch\": False, \"breakfast\": False}\", \"Ambience\": \"{u\"divey\": None, u\"hipster\": None, u\"casual\": None, u\"touristy\": None, u\"trendy\": False, u\"intimate\": None, u\"romantic\": None, u\"classy\": False, u\"upscale\": None}\", \"Alcohol\": \"u\"beer_and_wine\"\", \"OutdoorSeating\": \"True\", \"DriveThru\": \"True\", \"WheelchairAccessible\": \"True\", \"Caters\": \"True\", \"BusinessAcceptsCreditCards\": \"True\", \"BusinessParking\": \"{\"garage\": False, \"street\": False, \"validated\": False, \"lot\": True, \"valet\": False}\"}',\n",
       " '{\"GoodForKids\": \"False\", \"HasTV\": \"None\", \"NoiseLevel\": \"u\"average\"\", \"RestaurantsDelivery\": \"False\", \"WiFi\": \"u\"no\"\", \"RestaurantsPriceRange2\": \"2\", \"RestaurantsReservations\": \"False\", \"OutdoorSeating\": \"False\", \"RestaurantsTakeOut\": \"True\", \"RestaurantsGoodForGroups\": \"False\", \"RestaurantsAttire\": \"u\"casual\"\", \"Ambience\": \"{\"romantic\": False, \"intimate\": False, \"touristy\": False, \"hipster\": False, \"divey\": False, \"classy\": False, \"trendy\": False, \"upscale\": False, \"casual\": True}\", \"BusinessParking\": \"{\"garage\": False, \"street\": False, \"validated\": False, \"lot\": False, \"valet\": False}\", \"BusinessAcceptsCreditCards\": \"True\", \"GoodForMeal\": \"{\"dessert\": False, \"latenight\": False, \"lunch\": False, \"dinner\": False, \"brunch\": False, \"breakfast\": False}\"}',\n",
       " '{\"ByAppointmentOnly\": \"True\", \"BusinessAcceptsCreditCards\": \"True\"}',\n",
       " None,\n",
       " '{\"BusinessAcceptsCreditCards\": \"True\", \"GoodForKids\": \"False\", \"OutdoorSeating\": \"True\", \"BusinessParking\": \"{\"garage\": False, \"street\": False, \"validated\": False, \"lot\": False, \"valet\": False}\", \"Alcohol\": \"u\"full_bar\"\", \"HasTV\": \"True\", \"RestaurantsGoodForGroups\": \"True\", \"NoiseLevel\": \"u\"loud\"\", \"Ambience\": \"{\"romantic\": False, \"intimate\": False, \"classy\": False, \"hipster\": False, \"divey\": True, \"touristy\": False, \"trendy\": False, \"upscale\": False, \"casual\": False}\", \"RestaurantsPriceRange2\": \"1\", \"BikeParking\": \"True\"}',\n",
       " '{\"BusinessAcceptsCreditCards\": \"True\", \"WiFi\": \"u\"free\"\"}',\n",
       " '{\"RestaurantsPriceRange2\": \"3\", \"RestaurantsTakeOut\": \"True\", \"Alcohol\": \"u\"full_bar\"\", \"BikeParking\": \"True\", \"OutdoorSeating\": \"False\", \"RestaurantsReservations\": \"True\", \"RestaurantsDelivery\": \"False\", \"RestaurantsGoodForGroups\": \"True\", \"NoiseLevel\": \"u\"average\"\", \"WiFi\": \"u\"no\"\", \"RestaurantsAttire\": \"\"casual\"\", \"BusinessParking\": \"{\"garage\": False, \"street\": False, \"validated\": False, \"lot\": True, \"valet\": False}\", \"Caters\": \"False\", \"BYOB\": \"False\", \"BusinessAcceptsCreditCards\": \"False\", \"DogsAllowed\": \"False\", \"WheelchairAccessible\": \"True\", \"GoodForKids\": \"False\", \"Corkage\": \"True\", \"Ambience\": \"{\"touristy\": False, \"hipster\": False, \"romantic\": None, \"divey\": False, \"intimate\": True, \"trendy\": False, \"upscale\": False, \"classy\": None, \"casual\": None}\", \"HasTV\": \"True\", \"GoodForMeal\": \"{u\"breakfast\": False, u\"brunch\": False, u\"lunch\": None, u\"dinner\": True, u\"latenight\": False, u\"dessert\": None}\", \"ByAppointmentOnly\": \"False\", \"RestaurantsTableService\": \"True\"}',\n",
       " '{\"RestaurantsPriceRange2\": \"2\", \"BusinessAcceptsCreditCards\": \"True\", \"RestaurantsTakeOut\": \"False\", \"BusinessParking\": \"{\"garage\": False, \"street\": False, \"validated\": False, \"lot\": False, \"valet\": False}\", \"RestaurantsDelivery\": \"True\"}',\n",
       " '{\"Ambience\": \"{\"touristy\": False, \"hipster\": False, \"romantic\": False, \"divey\": False, \"intimate\": False, \"trendy\": False, \"upscale\": False, \"classy\": False, \"casual\": False}\", \"NoiseLevel\": \"u\"average\"\", \"WiFi\": \"\"no\"\", \"RestaurantsDelivery\": \"True\", \"BusinessParking\": \"{\"garage\": False, \"street\": False, \"validated\": False, \"lot\": False, \"valet\": False}\", \"RestaurantsGoodForGroups\": \"True\", \"RestaurantsPriceRange2\": \"2\", \"GoodForMeal\": \"{\"dessert\": False, \"latenight\": False, \"lunch\": False, \"dinner\": False, \"brunch\": False, \"breakfast\": False}\", \"GoodForKids\": \"True\", \"RestaurantsAttire\": \"\"casual\"\", \"BikeParking\": \"False\", \"RestaurantsTakeOut\": \"True\", \"HasTV\": \"True\", \"BusinessAcceptsCreditCards\": \"True\", \"OutdoorSeating\": \"False\", \"RestaurantsTableService\": \"True\", \"RestaurantsReservations\": \"False\"}',\n",
       " '{\"BikeParking\": \"True\", \"BusinessAcceptsCreditCards\": \"True\", \"Alcohol\": \"\"none\"\", \"RestaurantsTakeOut\": \"True\", \"WiFi\": \"\"free\"\", \"NoiseLevel\": \"u\"average\"\", \"GoodForMeal\": \"{\"dessert\": False, \"latenight\": False, \"lunch\": False, \"dinner\": False, \"brunch\": False, \"breakfast\": False}\", \"RestaurantsAttire\": \"\"casual\"\", \"RestaurantsDelivery\": \"False\", \"Caters\": \"True\", \"RestaurantsPriceRange2\": \"1\", \"GoodForKids\": \"True\", \"RestaurantsGoodForGroups\": \"True\", \"Ambience\": \"{\"romantic\": False, \"intimate\": False, \"classy\": False, \"hipster\": False, \"divey\": False, \"touristy\": False, \"trendy\": False, \"upscale\": False, \"casual\": True}\", \"OutdoorSeating\": \"True\", \"HasTV\": \"True\", \"RestaurantsReservations\": \"False\", \"BusinessParking\": \"{\"garage\": False, \"street\": False, \"validated\": False, \"lot\": False, \"valet\": False}\"}',\n",
       " '{\"WiFi\": \"u\"free\"\"}',\n",
       " '{\"BusinessAcceptsCreditCards\": \"True\"}',\n",
       " None,\n",
       " '{\"BusinessAcceptsCreditCards\": \"True\", \"RestaurantsPriceRange2\": \"1\", \"BikeParking\": \"True\", \"RestaurantsTakeOut\": \"True\", \"Caters\": \"False\", \"BusinessParking\": \"{\"garage\": False, \"street\": False, \"validated\": False, \"lot\": False, \"valet\": False}\", \"RestaurantsDelivery\": \"True\", \"WiFi\": \"u\"free\"\"}',\n",
       " '{\"GoodForKids\": \"True\", \"BusinessAcceptsCreditCards\": \"True\", \"RestaurantsPriceRange2\": \"2\", \"RestaurantsAttire\": \"\"casual\"\", \"RestaurantsGoodForGroups\": \"True\", \"RestaurantsReservations\": \"False\", \"RestaurantsDelivery\": \"False\", \"OutdoorSeating\": \"True\", \"Caters\": \"True\", \"RestaurantsTakeOut\": \"True\"}',\n",
       " '{\"BusinessAcceptsCreditCards\": \"True\", \"BikeParking\": \"False\", \"RestaurantsPriceRange2\": \"2\", \"BusinessParking\": \"{\"garage\": False, \"street\": False, \"validated\": False, \"lot\": False, \"valet\": False}\", \"BusinessAcceptsBitcoin\": \"False\", \"ByAppointmentOnly\": \"False\", \"AcceptsInsurance\": \"False\", \"WiFi\": \"u\"free\"\"}',\n",
       " '{\"RestaurantsDelivery\": \"False\", \"OutdoorSeating\": \"False\", \"Ambience\": \"{\"romantic\": False, \"intimate\": False, \"classy\": False, \"hipster\": False, \"divey\": False, \"touristy\": False, \"trendy\": False, \"upscale\": False, \"casual\": False}\", \"BusinessAcceptsCreditCards\": \"True\", \"GoodForMeal\": \"{\"dessert\": False, \"latenight\": False, \"lunch\": False, \"dinner\": False, \"brunch\": False, \"breakfast\": False}\", \"RestaurantsReservations\": \"False\", \"RestaurantsPriceRange2\": \"2\", \"RestaurantsGoodForGroups\": \"True\", \"WiFi\": \"u\"free\"\", \"RestaurantsTakeOut\": \"True\", \"RestaurantsAttire\": \"\"casual\"\", \"BikeParking\": \"True\", \"GoodForKids\": \"True\", \"HasTV\": \"True\", \"NoiseLevel\": \"u\"quiet\"\", \"Alcohol\": \"u\"none\"\", \"BusinessParking\": \"{\"garage\": False, \"street\": False, \"validated\": False, \"lot\": False, \"valet\": False}\", \"RestaurantsTableService\": \"False\"}',\n",
       " '{\"BusinessAcceptsCreditCards\": \"True\"}',\n",
       " '{\"RestaurantsTableService\": \"True\", \"GoodForMeal\": \"{\"dessert\": False, \"latenight\": False, \"lunch\": False, \"dinner\": False, \"brunch\": False, \"breakfast\": False}\", \"RestaurantsReservations\": \"True\", \"OutdoorSeating\": \"False\", \"RestaurantsTakeOut\": \"True\", \"RestaurantsAttire\": \"u\"casual\"\", \"NoiseLevel\": \"u\"average\"\", \"RestaurantsGoodForGroups\": \"True\", \"GoodForKids\": \"True\", \"Caters\": \"False\", \"BikeParking\": \"True\", \"BusinessParking\": \"{\"garage\": False, \"street\": False, \"validated\": False, \"lot\": False, \"valet\": False}\", \"RestaurantsPriceRange2\": \"2\", \"Alcohol\": \"\"beer_and_wine\"\", \"HasTV\": \"True\", \"Ambience\": \"{\"touristy\": False, \"hipster\": False, \"romantic\": False, \"intimate\": False, \"trendy\": False, \"upscale\": False, \"classy\": True, \"casual\": False}\", \"RestaurantsDelivery\": \"True\"}',\n",
       " '{\"RestaurantsReservations\": \"False\", \"Alcohol\": \"u\"none\"\", \"WiFi\": \"\"no\"\", \"RestaurantsPriceRange2\": \"1\", \"OutdoorSeating\": \"False\", \"BusinessAcceptsCreditCards\": \"True\", \"RestaurantsDelivery\": \"False\", \"Caters\": \"False\", \"RestaurantsGoodForGroups\": \"True\", \"GoodForKids\": \"True\", \"RestaurantsTakeOut\": \"True\", \"BikeParking\": \"True\", \"HasTV\": \"True\", \"BusinessParking\": \"{\"garage\": False, \"street\": False, \"validated\": False, \"lot\": True, \"valet\": False}\", \"RestaurantsAttire\": \"u\"casual\"\", \"NoiseLevel\": \"u\"quiet\"\", \"GoodForMeal\": \"{\"dessert\": False, \"latenight\": False, \"lunch\": True, \"dinner\": None, \"brunch\": True, \"breakfast\": True}\", \"Ambience\": \"{u\"divey\": None, u\"hipster\": None, u\"casual\": True, u\"touristy\": False, u\"trendy\": False, u\"intimate\": False, u\"romantic\": False, u\"classy\": False, u\"upscale\": False}\"}',\n",
       " '{\"BusinessAcceptsCreditCards\": \"True\"}',\n",
       " '{\"GoodForKids\": \"True\"}',\n",
       " '{\"OutdoorSeating\": \"True\", \"RestaurantsTakeOut\": \"True\", \"GoodForKids\": \"True\", \"RestaurantsAttire\": \"u\"casual\"\", \"Alcohol\": \"u\"none\"\", \"WiFi\": \"u\"free\"\", \"BusinessAcceptsCreditCards\": \"True\", \"RestaurantsPriceRange2\": \"1\", \"RestaurantsGoodForGroups\": \"True\", \"Ambience\": \"{\"romantic\": False, \"intimate\": False, \"touristy\": False, \"hipster\": False, \"divey\": False, \"classy\": False, \"trendy\": False, \"upscale\": False, \"casual\": False}\", \"RestaurantsReservations\": \"False\", \"BusinessParking\": \"{\"garage\": False, \"street\": False, \"validated\": False, \"lot\": True, \"valet\": False}\", \"RestaurantsDelivery\": \"False\", \"NoiseLevel\": \"u\"average\"\", \"HasTV\": \"False\"}',\n",
       " '{\"RestaurantsPriceRange2\": \"1\", \"GoodForKids\": \"True\", \"NoiseLevel\": \"u\"quiet\"\", \"RestaurantsReservations\": \"False\", \"Alcohol\": \"u\"none\"\", \"RestaurantsTakeOut\": \"True\", \"WiFi\": \"\"no\"\", \"RestaurantsDelivery\": \"True\", \"OutdoorSeating\": \"False\", \"RestaurantsAttire\": \"u\"casual\"\", \"GoodForMeal\": \"{\"dessert\": False, \"latenight\": False, \"lunch\": True, \"dinner\": True, \"brunch\": False, \"breakfast\": False}\", \"BusinessParking\": \"{\"garage\": False, \"street\": False, \"validated\": False, \"lot\": True, \"valet\": False}\", \"Ambience\": \"{\"romantic\": False, \"intimate\": False, \"classy\": False, \"hipster\": False, \"divey\": False, \"touristy\": False, \"trendy\": False, \"upscale\": False, \"casual\": True}\", \"HasTV\": \"True\", \"RestaurantsGoodForGroups\": \"True\", \"BikeParking\": \"False\", \"BusinessAcceptsCreditCards\": \"True\"}',\n",
       " '{\"BusinessParking\": \"{\"garage\": False, \"street\": True, \"validated\": False, \"lot\": False, \"valet\": False}\", \"RestaurantsPriceRange2\": \"1\", \"BikeParking\": \"True\", \"ByAppointmentOnly\": \"True\", \"BusinessAcceptsCreditCards\": \"False\", \"WheelchairAccessible\": \"False\", \"BusinessAcceptsBitcoin\": \"False\"}',\n",
       " '{\"GoodForKids\": \"True\", \"BusinessParking\": \"{\"garage\": False, \"street\": False, \"validated\": False, \"lot\": True, \"valet\": False}\", \"BikeParking\": \"True\"}',\n",
       " None,\n",
       " None,\n",
       " '{\"HasTV\": \"True\", \"RestaurantsPriceRange2\": \"2\", \"RestaurantsReservations\": \"True\", \"WheelchairAccessible\": \"True\", \"Caters\": \"True\", \"NoiseLevel\": \"u\"average\"\", \"RestaurantsTakeOut\": \"True\", \"RestaurantsTableService\": \"True\", \"WiFi\": \"u\"free\"\", \"Alcohol\": \"u\"full_bar\"\", \"RestaurantsGoodForGroups\": \"True\", \"HappyHour\": \"True\", \"BusinessParking\": \"{\"garage\": False, \"street\": False, \"validated\": False, \"lot\": True, \"valet\": False}\", \"GoodForKids\": \"True\", \"Corkage\": \"True\", \"RestaurantsAttire\": \"u\"casual\"\", \"BusinessAcceptsCreditCards\": \"True\", \"DogsAllowed\": \"False\", \"BikeParking\": \"True\", \"BYOB\": \"False\", \"Ambience\": \"{u\"divey\": False, u\"hipster\": None, u\"casual\": True, u\"touristy\": None, u\"trendy\": True, u\"intimate\": None, u\"romantic\": None, u\"classy\": None, u\"upscale\": None}\", \"RestaurantsDelivery\": \"True\", \"OutdoorSeating\": \"True\", \"GoodForMeal\": \"{\"dessert\": None, \"latenight\": None, \"lunch\": None, \"dinner\": True, \"brunch\": True, \"breakfast\": None}\"}',\n",
       " '{\"ByAppointmentOnly\": \"False\", \"BusinessAcceptsCreditCards\": \"True\"}',\n",
       " '{\"BusinessParking\": \"{\"garage\": False, \"street\": False, \"validated\": False, \"lot\": True, \"valet\": False}\", \"ByAppointmentOnly\": \"False\", \"BusinessAcceptsCreditCards\": \"True\", \"RestaurantsPriceRange2\": \"2\", \"BikeParking\": \"True\", \"WheelchairAccessible\": \"True\"}',\n",
       " None,\n",
       " '{\"GoodForKids\": \"True\", \"BikeParking\": \"True\", \"BusinessParking\": \"{\"garage\": False, \"street\": False, \"validated\": False, \"lot\": False, \"valet\": False}\"}',\n",
       " '{\"RestaurantsPriceRange2\": \"2\", \"BusinessAcceptsCreditCards\": \"True\", \"BusinessParking\": \"{\"garage\": False, \"street\": False, \"validated\": False, \"lot\": True, \"valet\": False}\", \"BikeParking\": \"False\", \"RestaurantsDelivery\": \"True\"}',\n",
       " '{\"RestaurantsPriceRange2\": \"2\", \"RestaurantsDelivery\": \"True\", \"BusinessAcceptsCreditCards\": \"True\", \"BusinessParking\": \"{\"garage\": False, \"street\": True, \"validated\": False, \"lot\": False, \"valet\": False}\", \"RestaurantsTakeOut\": \"True\", \"Caters\": \"True\", \"BikeParking\": \"True\"}',\n",
       " '{\"Smoking\": \"u\"no\"\", \"RestaurantsGoodForGroups\": \"True\", \"BestNights\": \"{\"monday\": False, \"tuesday\": False, \"friday\": False, \"wednesday\": False, \"thursday\": False, \"sunday\": False, \"saturday\": False}\", \"NoiseLevel\": \"\"quiet\"\", \"DogsAllowed\": \"False\", \"Music\": \"{\"dj\": False, \"background_music\": False, \"no_music\": False, \"jukebox\": False, \"live\": False, \"video\": False, \"karaoke\": False}\", \"WheelchairAccessible\": \"False\", \"RestaurantsAttire\": \"u\"dressy\"\", \"BikeParking\": \"True\", \"RestaurantsDelivery\": \"False\", \"BusinessParking\": \"{\"garage\": False, \"street\": True, \"validated\": False, \"lot\": False, \"valet\": False}\", \"HappyHour\": \"True\", \"RestaurantsTableService\": \"True\", \"RestaurantsTakeOut\": \"True\", \"GoodForDancing\": \"False\", \"Caters\": \"True\", \"CoatCheck\": \"True\", \"WiFi\": \"u\"free\"\", \"GoodForKids\": \"False\", \"HasTV\": \"False\", \"BYOB\": \"True\", \"RestaurantsPriceRange2\": \"2\", \"BusinessAcceptsCreditCards\": \"True\", \"RestaurantsReservations\": \"True\", \"Ambience\": \"{\"touristy\": False, \"hipster\": False, \"romantic\": False, \"divey\": False, \"intimate\": True, \"trendy\": False, \"upscale\": False, \"classy\": True, \"casual\": False}\", \"Alcohol\": \"u\"full_bar\"\", \"Corkage\": \"True\", \"GoodForMeal\": \"{u\"breakfast\": False, u\"brunch\": False, u\"lunch\": None, u\"dinner\": True, u\"latenight\": None, u\"dessert\": None}\", \"OutdoorSeating\": \"True\"}',\n",
       " '{\"RestaurantsPriceRange2\": \"2\", \"BusinessAcceptsCreditCards\": \"True\", \"WiFi\": \"u\"free\"\"}',\n",
       " '{\"RestaurantsPriceRange2\": \"3\", \"BusinessAcceptsCreditCards\": \"True\", \"BikeParking\": \"True\", \"BusinessParking\": \"{\"garage\": None, \"street\": True, \"validated\": None, \"lot\": None, \"valet\": False}\"}',\n",
       " '{\"WiFi\": \"\"no\"\", \"RestaurantsPriceRange2\": \"3\", \"GoodForMeal\": \"{\"dessert\": False, \"latenight\": False, \"lunch\": False, \"dinner\": False, \"brunch\": False, \"breakfast\": False}\", \"RestaurantsGoodForGroups\": \"False\", \"RestaurantsReservations\": \"True\", \"NoiseLevel\": \"u\"average\"\", \"RestaurantsTakeOut\": \"True\", \"Ambience\": \"{\"touristy\": False, \"hipster\": False, \"romantic\": False, \"divey\": False, \"intimate\": False, \"trendy\": False, \"upscale\": False, \"classy\": True, \"casual\": False}\", \"DogsAllowed\": \"False\", \"BusinessAcceptsCreditCards\": \"True\", \"HasTV\": \"True\", \"GoodForKids\": \"False\", \"BusinessParking\": \"{u\"valet\": False, u\"garage\": False, u\"street\": None, u\"lot\": True, u\"validated\": False}\", \"OutdoorSeating\": \"True\", \"RestaurantsDelivery\": \"None\"}',\n",
       " '{\"GoodForKids\": \"True\", \"BusinessAcceptsCreditCards\": \"True\", \"BikeParking\": \"True\", \"ByAppointmentOnly\": \"False\", \"BusinessParking\": \"{\"garage\": False, \"street\": False, \"validated\": False, \"lot\": True, \"valet\": False}\"}',\n",
       " '{\"ByAppointmentOnly\": \"True\"}',\n",
       " '{\"Corkage\": \"False\", \"BusinessAcceptsCreditCards\": \"True\", \"GoodForKids\": \"True\", \"RestaurantsReservations\": \"False\", \"Alcohol\": \"u\"none\"\", \"RestaurantsTakeOut\": \"True\", \"RestaurantsDelivery\": \"True\", \"RestaurantsGoodForGroups\": \"True\", \"RestaurantsAttire\": \"\"casual\"\", \"BusinessParking\": \"{\"garage\": False, \"street\": False, \"validated\": False, \"lot\": False, \"valet\": False}\", \"OutdoorSeating\": \"True\", \"BYOBCorkage\": \"\"yes_free\"\", \"BikeParking\": \"True\", \"HasTV\": \"True\", \"Caters\": \"True\", \"Ambience\": \"{\"touristy\": False, \"hipster\": False, \"romantic\": False, \"divey\": False, \"intimate\": False, \"trendy\": False, \"upscale\": False, \"classy\": False, \"casual\": True}\", \"GoodForMeal\": \"{\"dessert\": False, \"latenight\": False, \"lunch\": True, \"dinner\": False, \"brunch\": False, \"breakfast\": False}\", \"RestaurantsPriceRange2\": \"1\", \"NoiseLevel\": \"u\"average\"\"}',\n",
       " '{\"DogsAllowed\": \"True\", \"BusinessParking\": \"{\"garage\": False, \"street\": True, \"validated\": False, \"lot\": False, \"valet\": False}\", \"OutdoorSeating\": \"True\", \"WiFi\": \"u\"free\"\"}',\n",
       " '{\"OutdoorSeating\": \"False\", \"RestaurantsReservations\": \"False\", \"BusinessAcceptsCreditCards\": \"True\", \"WiFi\": \"u\"no\"\", \"BusinessParking\": \"{\"garage\": False, \"street\": True, \"validated\": False, \"lot\": True, \"valet\": False}\", \"RestaurantsTakeOut\": \"True\", \"RestaurantsGoodForGroups\": \"True\", \"HasTV\": \"True\", \"Alcohol\": \"u\"full_bar\"\", \"RestaurantsAttire\": \"\"casual\"\", \"RestaurantsPriceRange2\": \"1\", \"GoodForKids\": \"False\", \"RestaurantsDelivery\": \"True\"}',\n",
       " '{\"WiFi\": \"u\"no\"\", \"RestaurantsTakeOut\": \"False\", \"BikeParking\": \"True\", \"RestaurantsAttire\": \"\"dressy\"\", \"OutdoorSeating\": \"False\", \"Alcohol\": \"\"full_bar\"\", \"RestaurantsPriceRange2\": \"4\", \"RestaurantsDelivery\": \"False\", \"BusinessAcceptsCreditCards\": \"True\", \"RestaurantsGoodForGroups\": \"True\", \"RestaurantsReservations\": \"True\", \"GoodForDancing\": \"False\", \"HasTV\": \"True\", \"GoodForMeal\": \"{\"dessert\": False, \"latenight\": False, \"lunch\": False, \"dinner\": True, \"brunch\": False, \"breakfast\": False}\", \"Ambience\": \"{\"touristy\": False, \"hipster\": False, \"romantic\": False, \"divey\": False, \"intimate\": False, \"trendy\": False, \"upscale\": True, \"classy\": True, \"casual\": False}\", \"NoiseLevel\": \"u\"quiet\"\", \"GoodForKids\": \"False\", \"Caters\": \"True\", \"BusinessParking\": \"None\", \"HappyHour\": \"True\", \"CoatCheck\": \"False\"}',\n",
       " '{\"RestaurantsPriceRange2\": \"3\", \"BusinessAcceptsCreditCards\": \"True\", \"BusinessParking\": \"{\"garage\": False, \"street\": False, \"validated\": False, \"lot\": True, \"valet\": False}\", \"BikeParking\": \"False\", \"RestaurantsTakeOut\": \"True\", \"Caters\": \"True\"}',\n",
       " '{\"RestaurantsPriceRange2\": \"1\", \"BikeParking\": \"True\", \"BusinessAcceptsCreditCards\": \"True\", \"BusinessParking\": \"{\"garage\": False, \"street\": False, \"validated\": False, \"lot\": True, \"valet\": False}\", \"RestaurantsTakeOut\": \"False\", \"Caters\": \"False\"}',\n",
       " '{\"BusinessParking\": \"{\"garage\": False, \"street\": False, \"validated\": False, \"lot\": False, \"valet\": False}\", \"BusinessAcceptsCreditCards\": \"True\", \"RestaurantsPriceRange2\": \"2\", \"ByAppointmentOnly\": \"False\"}',\n",
       " '{\"BusinessAcceptsCreditCards\": \"True\", \"BusinessAcceptsBitcoin\": \"False\", \"RestaurantsPriceRange2\": \"2\", \"RestaurantsDelivery\": \"True\", \"BusinessParking\": \"{\"garage\": True, \"street\": True, \"validated\": True, \"lot\": True, \"valet\": False}\", \"RestaurantsTakeOut\": \"True\", \"BikeParking\": \"True\"}',\n",
       " '{\"BusinessParking\": \"{\"garage\": False, \"street\": False, \"validated\": False, \"lot\": True, \"valet\": False}\", \"BusinessAcceptsCreditCards\": \"True\", \"RestaurantsPriceRange2\": \"1\", \"BikeParking\": \"True\", \"RestaurantsDelivery\": \"True\", \"RestaurantsTakeOut\": \"True\"}',\n",
       " '{\"BusinessAcceptsCreditCards\": \"True\", \"RestaurantsPriceRange2\": \"3\", \"GoodForKids\": \"True\", \"BusinessParking\": \"{\"garage\": False, \"street\": False, \"validated\": False, \"lot\": True, \"valet\": False}\", \"ByAppointmentOnly\": \"True\"}',\n",
       " '{\"BikeParking\": \"False\", \"BusinessAcceptsCreditCards\": \"True\", \"BusinessParking\": \"{\"garage\": False, \"street\": False, \"validated\": False, \"lot\": False, \"valet\": False}\", \"RestaurantsPriceRange2\": \"1\", \"OutdoorSeating\": \"False\", \"DriveThru\": \"None\", \"RestaurantsTakeOut\": \"True\", \"RestaurantsDelivery\": \"True\", \"Caters\": \"False\", \"WiFi\": \"u\"free\"\"}',\n",
       " '{\"BusinessAcceptsCreditCards\": \"False\", \"ByAppointmentOnly\": \"False\", \"RestaurantsPriceRange2\": \"1\", \"BusinessParking\": \"{\"garage\": False, \"street\": False, \"validated\": False, \"lot\": False, \"valet\": False}\"}',\n",
       " '{\"RestaurantsPriceRange2\": \"1\", \"OutdoorSeating\": \"False\", \"RestaurantsTakeOut\": \"True\", \"GoodForKids\": \"True\", \"RestaurantsDelivery\": \"True\", \"BusinessAcceptsCreditCards\": \"True\", \"RestaurantsGoodForGroups\": \"True\", \"RestaurantsReservations\": \"False\", \"RestaurantsAttire\": \"\"casual\"\", \"HasTV\": \"True\"}',\n",
       " '{\"BusinessAcceptsCreditCards\": \"True\", \"BikeParking\": \"True\", \"BusinessParking\": \"{\"garage\": False, \"street\": False, \"validated\": False, \"lot\": True, \"valet\": False}\", \"RestaurantsPriceRange2\": \"2\"}',\n",
       " '{\"BikeParking\": \"False\", \"RestaurantsPriceRange2\": \"2\", \"BusinessAcceptsCreditCards\": \"True\", \"BusinessParking\": \"{\"garage\": False, \"street\": False, \"validated\": False, \"lot\": True, \"valet\": False}\"}',\n",
       " '{\"BusinessAcceptsCreditCards\": \"False\", \"BusinessAcceptsBitcoin\": \"False\"}',\n",
       " '{\"BusinessAcceptsCreditCards\": \"False\"}',\n",
       " '{\"WiFi\": \"u\"free\"\", \"BusinessAcceptsBitcoin\": \"False\", \"BusinessAcceptsCreditCards\": \"False\", \"BikeParking\": \"False\", \"ByAppointmentOnly\": \"False\", \"BusinessParking\": \"{\"garage\": False, \"street\": True, \"validated\": False, \"lot\": False, \"valet\": False}\", \"RestaurantsPriceRange2\": \"2\", \"WheelchairAccessible\": \"True\", \"GoodForKids\": \"True\"}',\n",
       " '{\"Caters\": \"True\", \"RestaurantsAttire\": \"u\"casual\"\", \"WheelchairAccessible\": \"True\", \"RestaurantsGoodForGroups\": \"True\", \"OutdoorSeating\": \"True\", \"ByAppointmentOnly\": \"False\", \"DogsAllowed\": \"False\", \"Alcohol\": \"u\"full_bar\"\", \"BusinessParking\": \"{\"garage\": False, \"street\": False, \"validated\": False, \"lot\": True, \"valet\": False}\", \"RestaurantsPriceRange2\": \"2\", \"BusinessAcceptsCreditCards\": \"True\", \"BikeParking\": \"True\", \"GoodForMeal\": \"{\"dessert\": None, \"latenight\": None, \"lunch\": None, \"dinner\": True, \"brunch\": True, \"breakfast\": None}\", \"RestaurantsTakeOut\": \"True\", \"BYOB\": \"False\", \"RestaurantsDelivery\": \"True\", \"WiFi\": \"u\"free\"\", \"HasTV\": \"True\", \"Ambience\": \"{u\"divey\": False, u\"hipster\": False, u\"casual\": True, u\"touristy\": False, u\"trendy\": False, u\"intimate\": False, u\"romantic\": False, u\"classy\": False, u\"upscale\": False}\", \"GoodForKids\": \"True\", \"HappyHour\": \"True\", \"RestaurantsReservations\": \"False\", \"RestaurantsTableService\": \"True\"}',\n",
       " '{\"BusinessAcceptsCreditCards\": \"True\"}',\n",
       " '{\"ByAppointmentOnly\": \"True\", \"BusinessAcceptsCreditCards\": \"True\", \"RestaurantsPriceRange2\": \"2\"}',\n",
       " '{\"BikeParking\": \"False\", \"ByAppointmentOnly\": \"False\", \"BusinessParking\": \"{\"garage\": False, \"street\": False, \"validated\": False, \"lot\": True, \"valet\": False}\", \"WiFi\": \"u\"free\"\", \"BusinessAcceptsCreditCards\": \"True\", \"RestaurantsPriceRange2\": \"2\", \"BusinessAcceptsBitcoin\": \"False\", \"WheelchairAccessible\": \"True\", \"GoodForKids\": \"True\"}',\n",
       " '{\"WiFi\": \"u\"free\"\", \"BusinessAcceptsCreditCards\": \"True\"}',\n",
       " None,\n",
       " '{\"BusinessParking\": \"{\"garage\": False, \"street\": False, \"validated\": False, \"lot\": True, \"valet\": False}\", \"RestaurantsPriceRange2\": \"2\", \"ByAppointmentOnly\": \"True\", \"BikeParking\": \"True\", \"BusinessAcceptsCreditCards\": \"True\"}',\n",
       " '{\"BusinessParking\": \"{\"garage\": False, \"street\": False, \"validated\": False, \"lot\": True, \"valet\": False}\", \"ByAppointmentOnly\": \"True\", \"WheelchairAccessible\": \"False\", \"BusinessAcceptsCreditCards\": \"True\"}',\n",
       " '{\"OutdoorSeating\": \"False\", \"Ambience\": \"{\"romantic\": True, \"intimate\": True, \"touristy\": False, \"hipster\": False, \"divey\": False, \"classy\": True, \"trendy\": False, \"upscale\": False, \"casual\": False}\", \"NoiseLevel\": \"u\"average\"\", \"RestaurantsGoodForGroups\": \"True\", \"Alcohol\": \"u\"full_bar\"\", \"RestaurantsPriceRange2\": \"2\", \"BusinessParking\": \"{\"garage\": False, \"street\": True, \"validated\": False, \"lot\": False, \"valet\": False}\", \"BusinessAcceptsCreditCards\": \"True\"}',\n",
       " '{\"RestaurantsGoodForGroups\": \"True\", \"GoodForKids\": \"True\", \"RestaurantsTakeOut\": \"True\", \"Ambience\": \"{\"romantic\": False, \"intimate\": False, \"classy\": False, \"hipster\": False, \"divey\": False, \"touristy\": False, \"trendy\": False, \"upscale\": False, \"casual\": False}\", \"OutdoorSeating\": \"True\", \"BikeParking\": \"True\", \"RestaurantsPriceRange2\": \"2\", \"RestaurantsAttire\": \"\"casual\"\", \"Alcohol\": \"\"none\"\", \"RestaurantsReservations\": \"False\", \"NoiseLevel\": \"\"average\"\", \"BusinessAcceptsCreditCards\": \"True\", \"GoodForMeal\": \"{\"dessert\": False, \"latenight\": False, \"lunch\": False, \"dinner\": False, \"brunch\": False, \"breakfast\": False}\", \"HasTV\": \"True\", \"Caters\": \"False\", \"DriveThru\": \"True\", \"RestaurantsDelivery\": \"True\", \"BusinessParking\": \"{u\"valet\": False, u\"garage\": False, u\"street\": False, u\"lot\": True, u\"validated\": None}\", \"WiFi\": \"\"no\"\"}',\n",
       " '{\"BusinessAcceptsCreditCards\": \"True\", \"BusinessParking\": \"{\"garage\": False, \"street\": False, \"validated\": False, \"lot\": False, \"valet\": False}\"}',\n",
       " '{\"RestaurantsTakeOut\": \"True\", \"Ambience\": \"{\"romantic\": False, \"intimate\": False, \"touristy\": False, \"hipster\": False, \"divey\": False, \"classy\": False, \"trendy\": False, \"casual\": False}\", \"OutdoorSeating\": \"False\", \"Alcohol\": \"u\"none\"\", \"RestaurantsGoodForGroups\": \"False\", \"GoodForKids\": \"True\", \"RestaurantsPriceRange2\": \"2\", \"HasTV\": \"True\", \"BikeParking\": \"False\", \"BusinessAcceptsCreditCards\": \"True\", \"RestaurantsDelivery\": \"True\", \"NoiseLevel\": \"u\"loud\"\", \"RestaurantsAttire\": \"\"casual\"\", \"BusinessParking\": \"{\"garage\": None, \"street\": False, \"validated\": None, \"lot\": True, \"valet\": False}\", \"RestaurantsReservations\": \"False\", \"WiFi\": \"\"paid\"\"}',\n",
       " '{\"BusinessParking\": \"{\"garage\": False, \"street\": False, \"validated\": False, \"lot\": True, \"valet\": False}\", \"BusinessAcceptsCreditCards\": \"True\", \"RestaurantsPriceRange2\": \"1\", \"RestaurantsTakeOut\": \"True\", \"BikeParking\": \"True\", \"OutdoorSeating\": \"True\", \"WheelchairAccessible\": \"True\", \"Caters\": \"False\", \"NoiseLevel\": \"u\"average\"\", \"WiFi\": \"\"free\"\", \"RestaurantsDelivery\": \"True\", \"GoodForKids\": \"True\"}',\n",
       " '{\"BusinessAcceptsCreditCards\": \"True\"}',\n",
       " '{\"BusinessAcceptsCreditCards\": \"True\", \"BikeParking\": \"True\", \"ByAppointmentOnly\": \"False\"}',\n",
       " '{\"BusinessAcceptsCreditCards\": \"True\", \"BusinessParking\": \"{\"garage\": False, \"street\": False, \"validated\": False, \"lot\": False, \"valet\": False}\", \"ByAppointmentOnly\": \"False\", \"RestaurantsPriceRange2\": \"2\"}',\n",
       " '{\"BikeParking\": \"True\", \"BusinessParking\": \"{\"garage\": False, \"street\": False, \"validated\": False, \"lot\": False, \"valet\": False}\", \"BusinessAcceptsCreditCards\": \"True\", \"RestaurantsPriceRange2\": \"2\"}',\n",
       " '{\"Alcohol\": \"\"beer_and_wine\"\", \"RestaurantsAttire\": \"u\"casual\"\", \"BusinessParking\": \"{\"garage\": False, \"street\": False, \"validated\": False, \"lot\": True, \"valet\": False}\", \"Ambience\": \"{\"touristy\": False, \"hipster\": False, \"romantic\": False, \"intimate\": False, \"trendy\": False, \"upscale\": False, \"classy\": False, \"casual\": True}\", \"RestaurantsTakeOut\": \"True\", \"NoiseLevel\": \"u\"average\"\", \"RestaurantsDelivery\": \"True\", \"OutdoorSeating\": \"False\", \"RestaurantsGoodForGroups\": \"True\", \"GoodForKids\": \"True\", \"RestaurantsReservations\": \"True\", \"BikeParking\": \"False\", \"WiFi\": \"\"no\"\", \"GoodForMeal\": \"{\"dessert\": False, \"latenight\": False, \"lunch\": True, \"dinner\": True, \"brunch\": False, \"breakfast\": False}\", \"RestaurantsPriceRange2\": \"2\", \"HasTV\": \"True\"}',\n",
       " '{\"BusinessAcceptsCreditCards\": \"True\", \"RestaurantsDelivery\": \"False\", \"RestaurantsTakeOut\": \"True\"}',\n",
       " '{\"ByAppointmentOnly\": \"True\", \"BusinessParking\": \"{\"garage\": False, \"street\": False, \"validated\": False, \"lot\": False, \"valet\": False}\", \"BusinessAcceptsCreditCards\": \"True\", \"RestaurantsPriceRange2\": \"2\", \"GoodForKids\": \"False\", \"BikeParking\": \"False\"}',\n",
       " '{\"RestaurantsAttire\": \"u\"casual\"\", \"RestaurantsPriceRange2\": \"2\", \"OutdoorSeating\": \"False\", \"Alcohol\": \"u\"none\"\", \"NoiseLevel\": \"u\"quiet\"\", \"BusinessAcceptsCreditCards\": \"True\", \"RestaurantsReservations\": \"True\", \"GoodForKids\": \"True\", \"RestaurantsGoodForGroups\": \"True\", \"RestaurantsDelivery\": \"True\", \"RestaurantsTakeOut\": \"True\", \"BusinessParking\": \"{\"garage\": False, \"street\": False, \"validated\": False, \"lot\": True, \"valet\": False}\", \"Ambience\": \"{\"touristy\": False, \"hipster\": False, \"romantic\": False, \"divey\": False, \"intimate\": False, \"trendy\": False, \"upscale\": False, \"classy\": True, \"casual\": False}\", \"HasTV\": \"True\", \"GoodForMeal\": \"{\"dessert\": False, \"latenight\": False, \"lunch\": False, \"dinner\": False, \"brunch\": False, \"breakfast\": False}\"}',\n",
       " '{\"RestaurantsAttire\": \"\"casual\"\", \"RestaurantsGoodForGroups\": \"True\", \"OutdoorSeating\": \"False\", \"WiFi\": \"\"free\"\", \"GoodForKids\": \"True\", \"RestaurantsReservations\": \"False\", \"Alcohol\": \"\"beer_and_wine\"\", \"RestaurantsTakeOut\": \"True\", \"BusinessAcceptsCreditCards\": \"True\", \"RestaurantsDelivery\": \"True\", \"Caters\": \"True\", \"Ambience\": \"{\"touristy\": False, \"hipster\": False, \"romantic\": False, \"divey\": False, \"intimate\": False, \"trendy\": None, \"upscale\": None, \"classy\": False, \"casual\": True}\", \"GoodForMeal\": \"{\"dessert\": False, \"latenight\": False, \"lunch\": True, \"dinner\": True, \"brunch\": False, \"breakfast\": False}\", \"RestaurantsTableService\": \"True\", \"Corkage\": \"True\", \"BusinessParking\": \"{\"garage\": False, \"street\": None, \"validated\": False, \"lot\": True, \"valet\": False}\", \"BikeParking\": \"True\", \"HasTV\": \"True\", \"BYOB\": \"False\", \"RestaurantsPriceRange2\": \"1\", \"NoiseLevel\": \"\"average\"\", \"WheelchairAccessible\": \"True\"}',\n",
       " '{\"BikeParking\": \"False\", \"BusinessParking\": \"{\"garage\": False, \"street\": True, \"validated\": False, \"lot\": True, \"valet\": False}\", \"BusinessAcceptsCreditCards\": \"True\", \"RestaurantsPriceRange2\": \"2\", \"WiFi\": \"u\"free\"\"}',\n",
       " '{\"ByAppointmentOnly\": \"False\", \"BusinessAcceptsCreditCards\": \"True\"}',\n",
       " '{\"ByAppointmentOnly\": \"False\", \"BusinessAcceptsCreditCards\": \"True\"}',\n",
       " '{\"OutdoorSeating\": \"False\", \"RestaurantsReservations\": \"True\", \"RestaurantsDelivery\": \"False\", \"BusinessAcceptsCreditCards\": \"True\", \"WiFi\": \"u\"free\"\", \"RestaurantsGoodForGroups\": \"True\", \"Ambience\": \"{\"romantic\": False, \"intimate\": False, \"classy\": False, \"hipster\": False, \"divey\": False, \"touristy\": False, \"trendy\": False, \"casual\": True}\", \"RestaurantsAttire\": \"\"casual\"\", \"GoodForKids\": \"True\", \"BusinessParking\": \"{\"garage\": False, \"street\": False, \"validated\": False, \"lot\": False, \"valet\": False}\", \"RestaurantsPriceRange2\": \"2\", \"Alcohol\": \"\"full_bar\"\"}',\n",
       " None,\n",
       " '{\"RestaurantsGoodForGroups\": \"True\", \"GoodForKids\": \"True\", \"OutdoorSeating\": \"True\", \"RestaurantsPriceRange2\": \"2\", \"RestaurantsReservations\": \"True\", \"RestaurantsTakeOut\": \"True\", \"RestaurantsAttire\": \"u\"casual\"\", \"NoiseLevel\": \"\"quiet\"\", \"BusinessParking\": \"{\"garage\": True, \"street\": True, \"validated\": False, \"lot\": True, \"valet\": False}\", \"Alcohol\": \"u\"beer_and_wine\"\", \"Caters\": \"True\", \"BusinessAcceptsCreditCards\": \"True\", \"WiFi\": \"u\"free\"\", \"HasTV\": \"True\", \"BikeParking\": \"True\", \"GoodForMeal\": \"{\"dessert\": False, \"latenight\": False, \"lunch\": True, \"dinner\": True, \"brunch\": False, \"breakfast\": False}\", \"HappyHour\": \"False\", \"Ambience\": \"{\"touristy\": False, \"hipster\": False, \"romantic\": None, \"divey\": False, \"intimate\": None, \"trendy\": False, \"upscale\": False, \"classy\": None, \"casual\": True}\", \"WheelchairAccessible\": \"True\", \"BusinessAcceptsBitcoin\": \"True\", \"RestaurantsDelivery\": \"True\", \"RestaurantsTableService\": \"True\"}',\n",
       " '{\"WheelchairAccessible\": \"True\", \"RestaurantsGoodForGroups\": \"True\", \"ByAppointmentOnly\": \"False\", \"HappyHour\": \"False\", \"DogsAllowed\": \"True\", \"HasTV\": \"True\", \"BusinessAcceptsBitcoin\": \"False\", \"RestaurantsTakeOut\": \"True\", \"OutdoorSeating\": \"True\", \"Ambience\": \"{u\"divey\": False, u\"hipster\": None, u\"casual\": True, u\"touristy\": None, u\"trendy\": None, u\"intimate\": None, u\"romantic\": False, u\"classy\": None, u\"upscale\": False}\", \"RestaurantsTableService\": \"True\", \"Alcohol\": \"u\"full_bar\"\", \"BusinessAcceptsCreditCards\": \"True\", \"RestaurantsDelivery\": \"True\", \"NoiseLevel\": \"u\"average\"\", \"GoodForKids\": \"True\", \"BusinessParking\": \"{u\"valet\": False, u\"garage\": None, u\"street\": None, u\"lot\": None, u\"validated\": False}\", \"DriveThru\": \"False\", \"Caters\": \"True\", \"CoatCheck\": \"False\", \"RestaurantsPriceRange2\": \"2\", \"Music\": \"{u\"dj\": None, u\"live\": False, u\"jukebox\": None, u\"video\": False, u\"background_music\": False, u\"karaoke\": None, u\"no_music\": False}\", \"BikeParking\": \"False\", \"RestaurantsAttire\": \"u\"casual\"\"}',\n",
       " '{\"BusinessParking\": \"{\"garage\": False, \"street\": False, \"validated\": False, \"lot\": False, \"valet\": False}\", \"RestaurantsPriceRange2\": \"2\", \"BusinessAcceptsCreditCards\": \"True\", \"RestaurantsTakeOut\": \"True\", \"BikeParking\": \"False\"}',\n",
       " None,\n",
       " '{\"RestaurantsTakeOut\": \"True\", \"RestaurantsTableService\": \"True\", \"Ambience\": \"{\"touristy\": False, \"hipster\": False, \"romantic\": False, \"divey\": False, \"intimate\": False, \"trendy\": False, \"upscale\": False, \"classy\": True, \"casual\": False}\", \"BusinessParking\": \"{\"garage\": False, \"street\": False, \"validated\": False, \"lot\": False, \"valet\": False}\", \"GoodForMeal\": \"{\"dessert\": False, \"latenight\": False, \"lunch\": False, \"dinner\": False, \"brunch\": False, \"breakfast\": False}\", \"HasTV\": \"True\", \"RestaurantsDelivery\": \"True\"}',\n",
       " '{\"GoodForKids\": \"True\", \"BikeParking\": \"True\", \"BusinessParking\": \"{\"garage\": False, \"street\": False, \"validated\": False, \"lot\": False, \"valet\": False}\"}',\n",
       " None,\n",
       " '{\"RestaurantsAttire\": \"u\"casual\"\", \"RestaurantsTakeOut\": \"True\", \"BusinessAcceptsCreditCards\": \"True\", \"HasTV\": \"True\", \"RestaurantsPriceRange2\": \"2\", \"NoiseLevel\": \"u\"average\"\", \"OutdoorSeating\": \"True\", \"RestaurantsGoodForGroups\": \"True\", \"RestaurantsReservations\": \"False\", \"GoodForKids\": \"True\", \"Alcohol\": \"u\"full_bar\"\", \"GoodForMeal\": \"{\"dessert\": False, \"latenight\": False, \"lunch\": True, \"dinner\": True, \"brunch\": False, \"breakfast\": False}\", \"Caters\": \"True\", \"WiFi\": \"\"free\"\", \"WheelchairAccessible\": \"True\", \"DriveThru\": \"False\", \"Ambience\": \"{\"touristy\": False, \"hipster\": True, \"romantic\": False, \"divey\": False, \"intimate\": False, \"trendy\": False, \"upscale\": False, \"classy\": True, \"casual\": True}\", \"RestaurantsTableService\": \"True\", \"DogsAllowed\": \"True\", \"BusinessParking\": \"{\"garage\": False, \"street\": False, \"validated\": False, \"lot\": True, \"valet\": False}\", \"RestaurantsDelivery\": \"True\", \"BusinessAcceptsBitcoin\": \"False\", \"BikeParking\": \"True\"}',\n",
       " '{\"Alcohol\": \"u\"none\"\", \"RestaurantsTakeOut\": \"True\", \"BusinessAcceptsCreditCards\": \"True\", \"GoodForKids\": \"True\", \"RestaurantsGoodForGroups\": \"True\", \"RestaurantsReservations\": \"False\", \"OutdoorSeating\": \"False\", \"RestaurantsPriceRange2\": \"1\", \"BikeParking\": \"True\", \"BusinessParking\": \"{\"garage\": False, \"street\": False, \"validated\": False, \"lot\": False, \"valet\": False}\", \"GoodForMeal\": \"{\"dessert\": False, \"latenight\": False, \"lunch\": False, \"dinner\": False, \"brunch\": False, \"breakfast\": False}\", \"RestaurantsAttire\": \"\"casual\"\", \"RestaurantsDelivery\": \"True\"}',\n",
       " '{\"WiFi\": \"u\"free\"\", \"RestaurantsPriceRange2\": \"2\", \"BusinessAcceptsCreditCards\": \"True\", \"BusinessAcceptsBitcoin\": \"False\"}',\n",
       " '{\"BusinessAcceptsCreditCards\": \"True\", \"RestaurantsPriceRange2\": \"2\", \"BusinessParking\": \"{\"garage\": False, \"street\": False, \"validated\": False, \"lot\": True, \"valet\": False}\", \"WheelchairAccessible\": \"True\", \"BikeParking\": \"True\", \"ByAppointmentOnly\": \"False\"}',\n",
       " '{\"BusinessAcceptsCreditCards\": \"True\", \"BusinessParking\": \"{\"garage\": False, \"street\": False, \"validated\": False, \"lot\": True, \"valet\": False}\"}',\n",
       " '{\"RestaurantsPriceRange2\": \"2\", \"BusinessAcceptsCreditCards\": \"True\", \"Alcohol\": \"u\"beer_and_wine\"\", \"GoodForMeal\": \"{\"dessert\": True, \"latenight\": False, \"lunch\": False, \"dinner\": False, \"brunch\": False, \"breakfast\": False}\", \"RestaurantsDelivery\": \"False\", \"Ambience\": \"{\"touristy\": False, \"hipster\": False, \"romantic\": False, \"divey\": False, \"intimate\": False, \"trendy\": False, \"upscale\": False, \"classy\": True, \"casual\": False}\", \"OutdoorSeating\": \"True\", \"WiFi\": \"\"free\"\", \"GoodForKids\": \"False\", \"DogsAllowed\": \"True\", \"BikeParking\": \"True\", \"RestaurantsGoodForGroups\": \"True\", \"WheelchairAccessible\": \"True\", \"RestaurantsTableService\": \"False\", \"RestaurantsTakeOut\": \"True\", \"HasTV\": \"True\", \"RestaurantsAttire\": \"\"casual\"\", \"RestaurantsReservations\": \"False\", \"BusinessParking\": \"{\"garage\": False, \"street\": True, \"validated\": False, \"lot\": False, \"valet\": False}\", \"NoiseLevel\": \"\"loud\"\"}',\n",
       " '{\"RestaurantsAttire\": \"\"casual\"\", \"Alcohol\": \"u\"beer_and_wine\"\", \"GoodForMeal\": \"{\"dessert\": False, \"latenight\": False, \"lunch\": True, \"dinner\": True, \"brunch\": False, \"breakfast\": False}\", \"RestaurantsTableService\": \"False\", \"BusinessAcceptsCreditCards\": \"True\", \"RestaurantsReservations\": \"False\", \"BusinessParking\": \"{\"garage\": False, \"street\": False, \"validated\": False, \"lot\": True, \"valet\": False}\", \"BikeParking\": \"True\", \"OutdoorSeating\": \"True\", \"Caters\": \"False\", \"RestaurantsTakeOut\": \"True\", \"Ambience\": \"{\"touristy\": False, \"hipster\": False, \"romantic\": False, \"divey\": False, \"intimate\": False, \"trendy\": True, \"upscale\": False, \"classy\": False, \"casual\": True}\", \"WiFi\": \"u\"no\"\", \"NoiseLevel\": \"u\"quiet\"\", \"RestaurantsGoodForGroups\": \"True\", \"HasTV\": \"True\", \"RestaurantsDelivery\": \"True\", \"RestaurantsPriceRange2\": \"1\", \"GoodForKids\": \"True\"}',\n",
       " '{\"Ambience\": \"{\"touristy\": False, \"hipster\": False, \"romantic\": True, \"divey\": False, \"intimate\": True, \"trendy\": False, \"upscale\": False, \"classy\": True, \"casual\": False}\", \"RestaurantsReservations\": \"True\", \"WiFi\": \"u\"free\"\", \"BusinessAcceptsCreditCards\": \"True\", \"RestaurantsPriceRange2\": \"2\", \"BusinessParking\": \"{\"garage\": False, \"street\": True, \"validated\": False, \"lot\": True, \"valet\": False}\", \"WheelchairAccessible\": \"False\", \"Caters\": \"True\", \"RestaurantsGoodForGroups\": \"True\", \"DogsAllowed\": \"False\", \"RestaurantsTakeOut\": \"True\", \"HasTV\": \"True\", \"RestaurantsAttire\": \"\"casual\"\", \"RestaurantsTableService\": \"True\", \"NoiseLevel\": \"u\"average\"\", \"GoodForMeal\": \"{\"dessert\": False, \"latenight\": False, \"lunch\": True, \"dinner\": True, \"brunch\": False, \"breakfast\": False}\", \"Alcohol\": \"u\"none\"\", \"GoodForKids\": \"True\", \"BikeParking\": \"True\", \"OutdoorSeating\": \"False\", \"ByAppointmentOnly\": \"False\", \"BusinessAcceptsBitcoin\": \"False\", \"RestaurantsDelivery\": \"None\"}',\n",
       " '{\"ByAppointmentOnly\": \"False\", \"RestaurantsPriceRange2\": \"1\", \"BusinessParking\": \"{\"garage\": False, \"street\": False, \"validated\": False, \"lot\": True, \"valet\": False}\", \"BusinessAcceptsCreditCards\": \"True\", \"BikeParking\": \"True\"}',\n",
       " '{\"GoodForKids\": \"True\", \"RestaurantsGoodForGroups\": \"True\", \"NoiseLevel\": \"u\"quiet\"\", \"RestaurantsTakeOut\": \"True\", \"Caters\": \"True\", \"WiFi\": \"u\"no\"\", \"RestaurantsDelivery\": \"False\", \"RestaurantsPriceRange2\": \"1\", \"Ambience\": \"{\"romantic\": False, \"intimate\": False, \"touristy\": False, \"hipster\": False, \"divey\": True, \"classy\": False, \"trendy\": False, \"upscale\": False, \"casual\": False}\", \"OutdoorSeating\": \"False\", \"BikeParking\": \"True\", \"BusinessAcceptsCreditCards\": \"True\", \"RestaurantsReservations\": \"False\", \"RestaurantsAttire\": \"u\"casual\"\", \"Alcohol\": \"u\"none\"\", \"RestaurantsTableService\": \"False\", \"GoodForMeal\": \"{\"dessert\": False, \"latenight\": False, \"lunch\": True, \"dinner\": True, \"brunch\": False, \"breakfast\": False}\", \"BusinessParking\": \"{u\"valet\": False, u\"garage\": False, u\"street\": None, u\"lot\": True, u\"validated\": False}\", \"HasTV\": \"True\"}',\n",
       " '{\"BusinessParking\": \"{\"garage\": False, \"street\": False, \"validated\": False, \"lot\": True, \"valet\": False}\"}',\n",
       " '{\"BusinessAcceptsCreditCards\": \"True\", \"WiFi\": \"u\"free\"\"}',\n",
       " '{\"ByAppointmentOnly\": \"True\"}',\n",
       " '{\"HasTV\": \"False\", \"BusinessAcceptsCreditCards\": \"True\", \"RestaurantsAttire\": \"u\"casual\"\", \"BusinessParking\": \"{\"garage\": False, \"street\": True, \"validated\": False, \"lot\": False, \"valet\": False}\", \"RestaurantsReservations\": \"True\", \"RestaurantsTakeOut\": \"True\", \"RestaurantsPriceRange2\": \"2\", \"RestaurantsGoodForGroups\": \"True\", \"OutdoorSeating\": \"False\", \"Alcohol\": \"u\"none\"\", \"Caters\": \"False\", \"WiFi\": \"u\"no\"\", \"NoiseLevel\": \"u\"average\"\", \"Ambience\": \"{\"romantic\": False, \"intimate\": False, \"touristy\": False, \"hipster\": False, \"divey\": False, \"classy\": False, \"trendy\": True, \"upscale\": False, \"casual\": False}\", \"GoodForKids\": \"True\", \"RestaurantsDelivery\": \"True\"}',\n",
       " '{\"RestaurantsPriceRange2\": \"1\", \"BikeParking\": \"False\", \"BusinessParking\": \"{\"garage\": False, \"street\": False, \"validated\": False, \"lot\": True, \"valet\": False}\", \"Caters\": \"False\", \"BusinessAcceptsCreditCards\": \"True\", \"RestaurantsTakeOut\": \"False\"}',\n",
       " '{\"RestaurantsDelivery\": \"False\", \"BusinessAcceptsCreditCards\": \"True\", \"OutdoorSeating\": \"True\", \"RestaurantsTakeOut\": \"True\", \"Ambience\": \"{\"romantic\": False, \"intimate\": False, \"classy\": False, \"hipster\": False, \"divey\": False, \"touristy\": False, \"trendy\": False, \"upscale\": False, \"casual\": True}\", \"Alcohol\": \"u\"none\"\", \"GoodForKids\": \"True\", \"RestaurantsGoodForGroups\": \"True\", \"RestaurantsReservations\": \"False\", \"HasTV\": \"True\", \"RestaurantsPriceRange2\": \"2\", \"RestaurantsAttire\": \"u\"casual\"\", \"BusinessParking\": \"{\"garage\": False, \"street\": False, \"validated\": False, \"lot\": True, \"valet\": False}\", \"NoiseLevel\": \"u\"average\"\", \"Caters\": \"True\", \"WiFi\": \"u\"no\"\", \"GoodForMeal\": \"{\"dessert\": False, \"latenight\": False, \"lunch\": True, \"dinner\": True, \"brunch\": False, \"breakfast\": False}\", \"BikeParking\": \"False\"}',\n",
       " '{\"RestaurantsPriceRange2\": \"2\", \"WiFi\": \"\"free\"\", \"BusinessAcceptsCreditCards\": \"True\"}',\n",
       " '{\"ByAppointmentOnly\": \"False\", \"WiFi\": \"u\"no\"\", \"AcceptsInsurance\": \"True\", \"BusinessAcceptsCreditCards\": \"True\"}',\n",
       " '{\"RestaurantsPriceRange2\": \"2\", \"BusinessParking\": \"{\"garage\": False, \"street\": False, \"validated\": False, \"lot\": False, \"valet\": False}\", \"BusinessAcceptsCreditCards\": \"True\"}',\n",
       " '{\"RestaurantsAttire\": \"u\"casual\"\", \"RestaurantsTakeOut\": \"True\", \"NoiseLevel\": \"u\"average\"\", \"BusinessParking\": \"{\"garage\": False, \"street\": False, \"validated\": False, \"lot\": True, \"valet\": False}\", \"BusinessAcceptsCreditCards\": \"True\", \"GoodForKids\": \"True\", \"RestaurantsGoodForGroups\": \"True\", \"RestaurantsPriceRange2\": \"1\", \"RestaurantsReservations\": \"False\", \"WiFi\": \"\"free\"\", \"Ambience\": \"{\"romantic\": False, \"intimate\": False, \"classy\": False, \"hipster\": False, \"divey\": False, \"touristy\": False, \"trendy\": False, \"upscale\": False, \"casual\": True}\", \"Alcohol\": \"\"none\"\", \"OutdoorSeating\": \"True\", \"Caters\": \"True\", \"RestaurantsTableService\": \"False\", \"GoodForMeal\": \"{\"dessert\": False, \"latenight\": False, \"lunch\": True, \"dinner\": False, \"brunch\": False, \"breakfast\": False}\", \"BikeParking\": \"True\", \"RestaurantsDelivery\": \"True\", \"HasTV\": \"True\"}',\n",
       " '{\"BusinessAcceptsCreditCards\": \"True\", \"BusinessParking\": \"{\"garage\": False, \"street\": False, \"validated\": False, \"lot\": False, \"valet\": False}\", \"GoodForKids\": \"True\", \"RestaurantsPriceRange2\": \"3\"}',\n",
       " '{\"GoodForKids\": \"True\", \"BikeParking\": \"True\", \"BusinessParking\": \"{\"garage\": False, \"street\": False, \"validated\": False, \"lot\": False, \"valet\": False}\"}',\n",
       " '{\"BusinessAcceptsCreditCards\": \"True\"}',\n",
       " '{\"RestaurantsAttire\": \"u\"casual\"\", \"OutdoorSeating\": \"True\", \"RestaurantsPriceRange2\": \"2\", \"RestaurantsGoodForGroups\": \"True\", \"RestaurantsTakeOut\": \"True\", \"BusinessParking\": \"{\"garage\": True, \"street\": False, \"validated\": False, \"lot\": True, \"valet\": False}\", \"Alcohol\": \"u\"full_bar\"\", \"BusinessAcceptsCreditCards\": \"True\", \"Caters\": \"False\", \"HasTV\": \"True\", \"GoodForKids\": \"False\", \"RestaurantsReservations\": \"False\", \"WiFi\": \"u\"free\"\", \"BikeParking\": \"True\", \"GoodForDancing\": \"False\", \"BusinessAcceptsBitcoin\": \"False\", \"BestNights\": \"{\"monday\": False, \"tuesday\": True, \"friday\": True, \"wednesday\": False, \"thursday\": True, \"sunday\": False, \"saturday\": False}\", \"RestaurantsTableService\": \"True\", \"DogsAllowed\": \"False\", \"Smoking\": \"u\"no\"\", \"RestaurantsDelivery\": \"False\", \"Corkage\": \"False\", \"Music\": \"{\"dj\": False, \"background_music\": False, \"no_music\": False, \"jukebox\": None, \"live\": False, \"video\": False, \"karaoke\": False}\", \"NoiseLevel\": \"u\"average\"\", \"HappyHour\": \"True\", \"DriveThru\": \"False\", \"CoatCheck\": \"False\", \"BYOB\": \"False\", \"Ambience\": \"{\"touristy\": False, \"hipster\": False, \"romantic\": False, \"divey\": False, \"intimate\": False, \"trendy\": False, \"upscale\": False, \"classy\": True, \"casual\": True}\", \"WheelchairAccessible\": \"True\", \"GoodForMeal\": \"{\"dessert\": False, \"latenight\": True, \"lunch\": True, \"dinner\": True, \"brunch\": None, \"breakfast\": False}\"}',\n",
       " '{\"BusinessAcceptsCreditCards\": \"True\", \"RestaurantsPriceRange2\": \"1\", \"BikeParking\": \"False\", \"BusinessParking\": \"{\"garage\": False, \"street\": False, \"validated\": False, \"lot\": True, \"valet\": False}\", \"WiFi\": \"\"free\"\", \"OutdoorSeating\": \"False\", \"RestaurantsTakeOut\": \"True\", \"DriveThru\": \"None\", \"RestaurantsDelivery\": \"None\", \"Caters\": \"False\"}',\n",
       " '{\"RestaurantsPriceRange2\": \"1\", \"BusinessParking\": \"{\"garage\": False, \"street\": True, \"validated\": False, \"lot\": False, \"valet\": False}\", \"BusinessAcceptsCreditCards\": \"True\", \"BikeParking\": \"True\", \"RestaurantsAttire\": \"\"casual\"\", \"RestaurantsTakeOut\": \"True\", \"RestaurantsReservations\": \"False\", \"OutdoorSeating\": \"False\", \"Caters\": \"False\", \"NoiseLevel\": \"u\"average\"\", \"Alcohol\": \"\"none\"\", \"RestaurantsGoodForGroups\": \"False\", \"GoodForKids\": \"True\", \"Ambience\": \"{\"romantic\": False, \"intimate\": False, \"classy\": False, \"hipster\": False, \"divey\": False, \"touristy\": False, \"trendy\": False, \"upscale\": False, \"casual\": False}\", \"GoodForMeal\": \"{\"dessert\": False, \"latenight\": False, \"lunch\": False, \"dinner\": False, \"brunch\": False, \"breakfast\": False}\", \"WiFi\": \"u\"free\"\", \"HasTV\": \"True\", \"RestaurantsDelivery\": \"True\"}',\n",
       " '{\"BusinessAcceptsCreditCards\": \"True\", \"BusinessParking\": \"{\"garage\": False, \"street\": False, \"validated\": False, \"lot\": True, \"valet\": False}\", \"RestaurantsPriceRange2\": \"1\", \"BikeParking\": \"False\"}',\n",
       " '{\"GoodForKids\": \"True\"}',\n",
       " '{\"ByAppointmentOnly\": \"False\", \"BusinessParking\": \"{\"garage\": False, \"street\": False, \"validated\": False, \"lot\": False, \"valet\": False}\"}',\n",
       " '{\"ByAppointmentOnly\": \"True\", \"BusinessAcceptsCreditCards\": \"True\", \"WiFi\": \"u\"free\"\", \"AcceptsInsurance\": \"True\"}',\n",
       " '{\"ByAppointmentOnly\": \"False\", \"AcceptsInsurance\": \"True\", \"BusinessAcceptsCreditCards\": \"True\"}',\n",
       " '{\"RestaurantsReservations\": \"False\", \"WiFi\": \"\"free\"\", \"BikeParking\": \"True\", \"OutdoorSeating\": \"True\", \"GoodForDancing\": \"False\", \"HappyHour\": \"True\", \"RestaurantsGoodForGroups\": \"True\", \"Caters\": \"False\", \"CoatCheck\": \"False\", \"Alcohol\": \"\"beer_and_wine\"\", \"RestaurantsTakeOut\": \"True\", \"BusinessAcceptsCreditCards\": \"True\", \"Ambience\": \"{\"touristy\": False, \"hipster\": False, \"romantic\": False, \"divey\": False, \"intimate\": False, \"trendy\": True, \"upscale\": False, \"classy\": False, \"casual\": True}\", \"ByAppointmentOnly\": \"False\", \"BestNights\": \"{\"monday\": False, \"tuesday\": False, \"friday\": True, \"wednesday\": False, \"thursday\": True, \"sunday\": False, \"saturday\": True}\", \"DogsAllowed\": \"True\", \"WheelchairAccessible\": \"True\", \"NoiseLevel\": \"\"loud\"\", \"RestaurantsDelivery\": \"True\", \"RestaurantsPriceRange2\": \"2\", \"HasTV\": \"True\", \"Music\": \"{}\", \"Smoking\": \"u\"no\"\", \"BusinessParking\": \"{\"garage\": False, \"street\": True, \"validated\": False, \"lot\": False, \"valet\": False}\"}',\n",
       " None,\n",
       " '{\"RestaurantsTakeOut\": \"True\", \"HasTV\": \"False\", \"Caters\": \"False\", \"BusinessParking\": \"{\"garage\": False, \"street\": False, \"validated\": False, \"lot\": True, \"valet\": False}\", \"Alcohol\": \"u\"none\"\", \"GoodForKids\": \"True\", \"RestaurantsReservations\": \"False\", \"RestaurantsPriceRange2\": \"2\", \"Ambience\": \"{\"romantic\": False, \"intimate\": False, \"classy\": False, \"hipster\": False, \"divey\": False, \"touristy\": False, \"trendy\": False, \"upscale\": False, \"casual\": True}\", \"RestaurantsGoodForGroups\": \"True\", \"WiFi\": \"u\"no\"\", \"DriveThru\": \"False\", \"RestaurantsAttire\": \"u\"casual\"\", \"BikeParking\": \"True\", \"OutdoorSeating\": \"False\", \"NoiseLevel\": \"u\"loud\"\", \"RestaurantsDelivery\": \"True\"}',\n",
       " '{\"BusinessAcceptsCreditCards\": \"True\", \"Alcohol\": \"u\"none\"\", \"NoiseLevel\": \"u\"average\"\", \"RestaurantsReservations\": \"False\", \"HasTV\": \"False\", \"RestaurantsAttire\": \"u\"casual\"\", \"BusinessParking\": \"{\"garage\": False, \"street\": False, \"validated\": False, \"lot\": False, \"valet\": False}\", \"RestaurantsTakeOut\": \"True\", \"RestaurantsGoodForGroups\": \"True\", \"WiFi\": \"u\"free\"\", \"GoodForKids\": \"True\", \"RestaurantsDelivery\": \"False\", \"Caters\": \"True\", \"OutdoorSeating\": \"True\", \"BikeParking\": \"True\", \"RestaurantsPriceRange2\": \"1\", \"Ambience\": \"{\"touristy\": False, \"hipster\": False, \"romantic\": False, \"divey\": False, \"intimate\": False, \"trendy\": False, \"upscale\": False, \"classy\": False, \"casual\": False}\"}',\n",
       " '{\"BusinessAcceptsCreditCards\": \"True\", \"RestaurantsPriceRange2\": \"1\", \"BusinessParking\": \"{\"garage\": False, \"street\": False, \"validated\": False, \"lot\": True, \"valet\": False}\", \"BikeParking\": \"True\", \"RestaurantsTakeOut\": \"False\"}',\n",
       " '{\"OutdoorSeating\": \"True\", \"RestaurantsPriceRange2\": \"1\", \"NoiseLevel\": \"u\"average\"\", \"RestaurantsGoodForGroups\": \"True\", \"BusinessAcceptsCreditCards\": \"True\", \"RestaurantsTakeOut\": \"True\", \"RestaurantsDelivery\": \"False\", \"WiFi\": \"u\"free\"\", \"Alcohol\": \"u\"none\"\", \"RestaurantsReservations\": \"False\", \"GoodForKids\": \"True\", \"Caters\": \"True\", \"RestaurantsAttire\": \"\"casual\"\", \"BusinessParking\": \"{\"garage\": False, \"street\": True, \"validated\": False, \"lot\": False, \"valet\": False}\", \"HasTV\": \"False\", \"Ambience\": \"{\"romantic\": False, \"intimate\": False, \"touristy\": False, \"hipster\": False, \"divey\": False, \"classy\": False, \"trendy\": False, \"upscale\": False, \"casual\": True}\", \"BikeParking\": \"False\"}',\n",
       " '{\"BusinessAcceptsCreditCards\": \"True\", \"BusinessAcceptsBitcoin\": \"False\"}',\n",
       " '{\"BusinessParking\": \"{\"garage\": False, \"street\": False, \"validated\": False, \"lot\": True, \"valet\": False}\", \"BusinessAcceptsCreditCards\": \"True\", \"RestaurantsDelivery\": \"True\", \"RestaurantsTakeOut\": \"True\", \"RestaurantsPriceRange2\": \"1\", \"BikeParking\": \"False\"}',\n",
       " '{\"RestaurantsReservations\": \"False\", \"GoodForKids\": \"True\", \"DriveThru\": \"True\", \"BusinessAcceptsCreditCards\": \"True\", \"NoiseLevel\": \"u\"loud\"\", \"RestaurantsPriceRange2\": \"1\", \"Caters\": \"True\", \"WiFi\": \"u\"free\"\", \"RestaurantsDelivery\": \"False\", \"RestaurantsTakeOut\": \"False\", \"Ambience\": \"{\"romantic\": False, \"intimate\": False, \"classy\": False, \"hipster\": False, \"divey\": False, \"touristy\": False, \"trendy\": False, \"upscale\": False, \"casual\": False}\"}',\n",
       " '{\"Alcohol\": \"\"none\"\", \"RestaurantsTakeOut\": \"True\", \"RestaurantsPriceRange2\": \"2\", \"HasTV\": \"True\", \"BusinessAcceptsCreditCards\": \"True\", \"NoiseLevel\": \"u\"average\"\", \"BikeParking\": \"True\", \"OutdoorSeating\": \"False\", \"GoodForKids\": \"True\", \"RestaurantsReservations\": \"False\", \"Ambience\": \"{\"touristy\": False, \"hipster\": False, \"romantic\": False, \"divey\": False, \"intimate\": False, \"trendy\": False, \"upscale\": False, \"classy\": False, \"casual\": False}\", \"RestaurantsGoodForGroups\": \"False\", \"GoodForMeal\": \"{\"dessert\": False, \"latenight\": False, \"lunch\": False, \"dinner\": False, \"brunch\": False, \"breakfast\": False}\", \"RestaurantsDelivery\": \"True\", \"BusinessParking\": \"{\"garage\": False, \"street\": False, \"validated\": False, \"lot\": False, \"valet\": False}\"}',\n",
       " '{\"RestaurantsPriceRange2\": \"1\", \"BusinessAcceptsCreditCards\": \"True\", \"BusinessParking\": \"{\"garage\": False, \"street\": False, \"validated\": False, \"lot\": True, \"valet\": False}\", \"WiFi\": \"u\"no\"\", \"BikeParking\": \"True\", \"OutdoorSeating\": \"True\", \"Caters\": \"False\", \"RestaurantsTakeOut\": \"True\"}',\n",
       " '{\"NoiseLevel\": \"u\"average\"\", \"RestaurantsReservations\": \"True\", \"BusinessAcceptsCreditCards\": \"True\", \"Alcohol\": \"\"full_bar\"\", \"GoodForKids\": \"False\", \"RestaurantsPriceRange2\": \"3\", \"RestaurantsGoodForGroups\": \"True\", \"BikeParking\": \"False\", \"RestaurantsAttire\": \"\"casual\"\", \"Ambience\": \"{\"romantic\": False, \"intimate\": False, \"classy\": True, \"hipster\": False, \"divey\": False, \"touristy\": False, \"trendy\": False, \"upscale\": False, \"casual\": False}\", \"RestaurantsTableService\": \"True\", \"DogsAllowed\": \"False\", \"DriveThru\": \"False\", \"HasTV\": \"True\", \"RestaurantsTakeOut\": \"True\", \"RestaurantsDelivery\": \"True\", \"OutdoorSeating\": \"False\", \"WheelchairAccessible\": \"True\", \"Music\": \"{\"dj\": None, \"background_music\": False, \"no_music\": False, \"jukebox\": None, \"live\": False, \"video\": False, \"karaoke\": None}\", \"CoatCheck\": \"False\", \"Caters\": \"False\", \"BusinessParking\": \"{u\"valet\": True, u\"garage\": True, u\"street\": False, u\"lot\": False, u\"validated\": False}\", \"Smoking\": \"u\"no\"\", \"WiFi\": \"u\"free\"\", \"GoodForMeal\": \"{\"dessert\": None, \"latenight\": False, \"lunch\": None, \"dinner\": True, \"brunch\": None, \"breakfast\": False}\", \"HappyHour\": \"True\"}',\n",
       " '{\"NoiseLevel\": \"u\"quiet\"\", \"RestaurantsPriceRange2\": \"2\", \"WiFi\": \"u\"no\"\", \"GoodForKids\": \"False\", \"BusinessAcceptsCreditCards\": \"True\", \"RestaurantsReservations\": \"False\", \"RestaurantsAttire\": \"u\"casual\"\", \"OutdoorSeating\": \"True\"}',\n",
       " None,\n",
       " None,\n",
       " '{\"WiFi\": \"u\"free\"\"}',\n",
       " '{\"GoodForKids\": \"True\", \"RestaurantsPriceRange2\": \"2\", \"BusinessAcceptsCreditCards\": \"True\", \"BikeParking\": \"True\", \"ByAppointmentOnly\": \"False\", \"BusinessParking\": \"{\"garage\": False, \"street\": True, \"validated\": False, \"lot\": True, \"valet\": False}\"}',\n",
       " '{\"RestaurantsPriceRange2\": \"1\", \"BusinessAcceptsCreditCards\": \"True\", \"RestaurantsTakeOut\": \"True\", \"OutdoorSeating\": \"False\", \"WiFi\": \"u\"free\"\", \"Caters\": \"False\", \"BikeParking\": \"False\", \"RestaurantsDelivery\": \"True\", \"NoiseLevel\": \"u\"average\"\", \"DriveThru\": \"None\", \"BusinessParking\": \"{u\"valet\": False, u\"garage\": False, u\"street\": None, u\"lot\": True, u\"validated\": None}\"}',\n",
       " None,\n",
       " '{\"BusinessParking\": \"{\"garage\": False, \"street\": False, \"validated\": False, \"lot\": True, \"valet\": False}\", \"BusinessAcceptsCreditCards\": \"True\", \"RestaurantsPriceRange2\": \"1\"}',\n",
       " '{\"WheelchairAccessible\": \"False\", \"BikeParking\": \"True\", \"BusinessParking\": \"{\"garage\": False, \"street\": False, \"validated\": False, \"lot\": False, \"valet\": False}\", \"RestaurantsPriceRange2\": \"1\", \"BusinessAcceptsCreditCards\": \"True\"}',\n",
       " '{\"BusinessAcceptsCreditCards\": \"True\"}',\n",
       " '{\"RestaurantsTakeOut\": \"True\", \"RestaurantsDelivery\": \"False\", \"BusinessAcceptsCreditCards\": \"True\", \"GoodForKids\": \"False\", \"RestaurantsGoodForGroups\": \"True\", \"BikeParking\": \"True\", \"RestaurantsPriceRange2\": \"1\", \"Alcohol\": \"\"full_bar\"\", \"OutdoorSeating\": \"True\", \"GoodForDancing\": \"True\", \"WiFi\": \"\"free\"\", \"RestaurantsReservations\": \"False\", \"HasTV\": \"True\", \"HappyHour\": \"True\", \"BestNights\": \"{\"monday\": False, \"tuesday\": False, \"friday\": True, \"wednesday\": False, \"thursday\": False, \"sunday\": False, \"saturday\": False}\", \"Smoking\": \"u\"outdoor\"\", \"CoatCheck\": \"False\", \"ByAppointmentOnly\": \"False\", \"NoiseLevel\": \"u\"loud\"\", \"RestaurantsTableService\": \"True\", \"WheelchairAccessible\": \"True\", \"Music\": \"{\"dj\": False, \"background_music\": False, \"no_music\": False, \"jukebox\": False, \"live\": True, \"video\": False, \"karaoke\": False}\", \"RestaurantsAttire\": \"\"casual\"\", \"Caters\": \"False\", \"BusinessParking\": \"{\"garage\": False, \"street\": False, \"validated\": False, \"lot\": True, \"valet\": False}\", \"GoodForMeal\": \"{\"dessert\": False, \"latenight\": False, \"lunch\": False, \"dinner\": False, \"brunch\": False, \"breakfast\": False}\", \"DogsAllowed\": \"False\", \"Ambience\": \"{u\"divey\": True, u\"hipster\": None, u\"casual\": True, u\"touristy\": False, u\"trendy\": None, u\"intimate\": None, u\"romantic\": False, u\"classy\": False, u\"upscale\": False}\"}',\n",
       " '{\"WiFi\": \"u\"no\"\", \"BikeParking\": \"True\", \"WheelchairAccessible\": \"True\", \"ByAppointmentOnly\": \"True\", \"RestaurantsPriceRange2\": \"2\", \"BusinessAcceptsBitcoin\": \"False\", \"BusinessParking\": \"{\"garage\": False, \"street\": True, \"validated\": False, \"lot\": False, \"valet\": False}\", \"NoiseLevel\": \"u\"quiet\"\", \"BusinessAcceptsCreditCards\": \"True\"}',\n",
       " None,\n",
       " '{\"OutdoorSeating\": \"False\", \"RestaurantsGoodForGroups\": \"True\", \"BusinessAcceptsCreditCards\": \"True\", \"BusinessParking\": \"{\"garage\": False, \"street\": False, \"validated\": False, \"lot\": True, \"valet\": False}\", \"RestaurantsPriceRange2\": \"2\", \"Alcohol\": \"u\"full_bar\"\", \"RestaurantsAttire\": \"u\"casual\"\", \"BikeParking\": \"False\", \"Caters\": \"True\", \"WheelchairAccessible\": \"True\", \"GoodForKids\": \"True\", \"Ambience\": \"{\"touristy\": False, \"hipster\": False, \"romantic\": False, \"divey\": False, \"intimate\": False, \"trendy\": False, \"upscale\": False, \"classy\": None, \"casual\": True}\", \"HasTV\": \"True\", \"WiFi\": \"\"free\"\", \"NoiseLevel\": \"u\"average\"\", \"RestaurantsTableService\": \"True\", \"RestaurantsDelivery\": \"True\", \"HappyHour\": \"True\", \"GoodForMeal\": \"{u\"breakfast\": False, u\"brunch\": None, u\"lunch\": True, u\"dinner\": True, u\"latenight\": False, u\"dessert\": True}\", \"RestaurantsTakeOut\": \"True\", \"DogsAllowed\": \"False\", \"RestaurantsReservations\": \"False\"}',\n",
       " '{\"BusinessParking\": \"{\"garage\": False, \"street\": False, \"validated\": False, \"lot\": False, \"valet\": False}\", \"BusinessAcceptsCreditCards\": \"True\", \"GoodForKids\": \"True\", \"BikeParking\": \"False\"}',\n",
       " '{\"BusinessAcceptsCreditCards\": \"True\"}',\n",
       " '{\"ByAppointmentOnly\": \"True\", \"BusinessAcceptsCreditCards\": \"True\", \"AcceptsInsurance\": \"True\"}',\n",
       " '{\"BikeParking\": \"True\", \"BusinessParking\": \"{\"garage\": False, \"street\": False, \"validated\": False, \"lot\": True, \"valet\": False}\", \"RestaurantsPriceRange2\": \"2\", \"BusinessAcceptsCreditCards\": \"True\", \"RestaurantsTakeOut\": \"False\", \"Caters\": \"False\", \"RestaurantsDelivery\": \"False\"}',\n",
       " '{\"RestaurantsDelivery\": \"False\", \"RestaurantsGoodForGroups\": \"True\", \"BYOBCorkage\": \"\"no\"\", \"BusinessAcceptsCreditCards\": \"True\", \"RestaurantsTakeOut\": \"True\", \"RestaurantsPriceRange2\": \"2\", \"Alcohol\": \"u\"full_bar\"\", \"RestaurantsAttire\": \"\"casual\"\", \"BusinessParking\": \"{\"garage\": False, \"street\": False, \"validated\": False, \"lot\": True, \"valet\": False}\", \"OutdoorSeating\": \"False\", \"BikeParking\": \"False\", \"RestaurantsReservations\": \"True\", \"HasTV\": \"True\", \"WiFi\": \"u\"no\"\", \"Caters\": \"True\", \"GoodForKids\": \"False\", \"Ambience\": \"{\"touristy\": False, \"hipster\": False, \"romantic\": False, \"divey\": False, \"intimate\": False, \"trendy\": True, \"upscale\": False, \"classy\": True, \"casual\": True}\", \"NoiseLevel\": \"u\"average\"\", \"DogsAllowed\": \"False\", \"GoodForMeal\": \"{\"dessert\": False, \"latenight\": False, \"lunch\": None, \"dinner\": True, \"brunch\": False, \"breakfast\": False}\"}',\n",
       " '{\"BusinessAcceptsCreditCards\": \"True\", \"WiFi\": \"u\"free\"\", \"RestaurantsPriceRange2\": \"2\"}',\n",
       " '{\"WiFi\": \"u\"free\"\", \"BusinessParking\": \"{\"garage\": False, \"street\": False, \"validated\": False, \"lot\": False, \"valet\": False}\"}',\n",
       " '{\"BusinessAcceptsCreditCards\": \"True\", \"ByAppointmentOnly\": \"False\"}',\n",
       " '{\"RestaurantsPriceRange2\": \"2\", \"ByAppointmentOnly\": \"True\", \"BusinessAcceptsCreditCards\": \"True\", \"GoodForKids\": \"False\", \"BikeParking\": \"True\", \"BusinessParking\": \"{\"garage\": False, \"street\": True, \"validated\": False, \"lot\": False, \"valet\": False}\"}',\n",
       " '{\"RestaurantsDelivery\": \"None\", \"RestaurantsTakeOut\": \"None\"}',\n",
       " '{\"ByAppointmentOnly\": \"True\", \"BusinessAcceptsCreditCards\": \"True\"}',\n",
       " None,\n",
       " '{\"ByAppointmentOnly\": \"False\", \"BusinessAcceptsCreditCards\": \"True\", \"BusinessParking\": \"{\"garage\": False, \"street\": False, \"validated\": False, \"lot\": True, \"valet\": False}\", \"RestaurantsPriceRange2\": \"2\"}',\n",
       " '{\"ByAppointmentOnly\": \"False\", \"BusinessAcceptsCreditCards\": \"True\"}',\n",
       " '{\"ByAppointmentOnly\": \"False\", \"RestaurantsPriceRange2\": \"2\", \"WheelchairAccessible\": \"True\", \"GoodForKids\": \"True\", \"BikeParking\": \"True\", \"BusinessParking\": \"{\"garage\": False, \"street\": False, \"validated\": False, \"lot\": True, \"valet\": False}\", \"HairSpecializesIn\": \"{\"straightperms\": False, \"coloring\": False, \"extensions\": False, \"africanamerican\": False, \"curly\": False, \"kids\": False, \"perms\": False, \"asian\": False}\", \"BusinessAcceptsCreditCards\": \"True\"}',\n",
       " '{\"BusinessAcceptsCreditCards\": \"True\", \"RestaurantsReservations\": \"True\", \"WiFi\": \"u\"free\"\", \"RestaurantsAttire\": \"u\"casual\"\", \"Alcohol\": \"u\"none\"\", \"GoodForKids\": \"True\", \"RestaurantsPriceRange2\": \"2\", \"HasTV\": \"False\", \"RestaurantsTakeOut\": \"True\", \"RestaurantsGoodForGroups\": \"True\"}',\n",
       " '{\"BusinessAcceptsCreditCards\": \"True\", \"WiFi\": \"u\"free\"\"}',\n",
       " '{\"Alcohol\": \"u\"beer_and_wine\"\", \"RestaurantsPriceRange2\": \"2\", \"NoiseLevel\": \"u\"quiet\"\", \"HasTV\": \"False\", \"RestaurantsTableService\": \"True\", \"OutdoorSeating\": \"False\", \"RestaurantsTakeOut\": \"True\", \"RestaurantsReservations\": \"True\", \"GoodForMeal\": \"{\"dessert\": False, \"latenight\": False, \"lunch\": False, \"dinner\": False, \"brunch\": False, \"breakfast\": False}\", \"RestaurantsDelivery\": \"True\", \"RestaurantsGoodForGroups\": \"True\", \"GoodForKids\": \"True\", \"BusinessAcceptsCreditCards\": \"True\", \"RestaurantsAttire\": \"u\"casual\"\", \"BusinessParking\": \"{\"garage\": False, \"street\": False, \"validated\": False, \"lot\": False, \"valet\": False}\", \"Caters\": \"True\", \"BikeParking\": \"False\", \"Ambience\": \"{\"touristy\": False, \"hipster\": False, \"romantic\": False, \"divey\": False, \"intimate\": False, \"trendy\": False, \"upscale\": False, \"classy\": False, \"casual\": False}\", \"WheelchairAccessible\": \"True\", \"WiFi\": \"\"free\"\"}',\n",
       " '{\"BusinessAcceptsCreditCards\": \"True\"}',\n",
       " '{\"ByAppointmentOnly\": \"True\", \"RestaurantsPriceRange2\": \"2\", \"BusinessParking\": \"{\"garage\": False, \"street\": False, \"validated\": False, \"lot\": False, \"valet\": False}\", \"WiFi\": \"u\"free\"\", \"BusinessAcceptsCreditCards\": \"True\", \"GoodForKids\": \"True\", \"BikeParking\": \"True\"}',\n",
       " '{\"BikeParking\": \"True\", \"BusinessAcceptsCreditCards\": \"True\", \"RestaurantsPriceRange2\": \"2\", \"WheelchairAccessible\": \"True\", \"BusinessParking\": \"{\"garage\": False, \"street\": False, \"validated\": False, \"lot\": True, \"valet\": False}\"}',\n",
       " '{\"BusinessAcceptsCreditCards\": \"True\", \"WiFi\": \"u\"free\"\"}',\n",
       " '{\"BikeParking\": \"True\", \"BusinessAcceptsCreditCards\": \"True\", \"BusinessParking\": \"{\"garage\": False, \"street\": False, \"validated\": False, \"lot\": True, \"valet\": False}\", \"RestaurantsPriceRange2\": \"2\"}',\n",
       " '{\"BusinessAcceptsCreditCards\": \"True\", \"RestaurantsAttire\": \"u\"casual\"\", \"Caters\": \"False\", \"OutdoorSeating\": \"False\", \"BusinessParking\": \"{\"garage\": False, \"street\": False, \"validated\": False, \"lot\": False, \"valet\": False}\", \"RestaurantsTakeOut\": \"True\", \"Ambience\": \"{\"romantic\": False, \"intimate\": False, \"touristy\": False, \"hipster\": False, \"divey\": False, \"classy\": False, \"trendy\": False, \"upscale\": False, \"casual\": False}\", \"WiFi\": \"u\"no\"\", \"RestaurantsPriceRange2\": \"1\", \"RestaurantsReservations\": \"False\", \"GoodForKids\": \"True\", \"Alcohol\": \"u\"none\"\", \"NoiseLevel\": \"u\"average\"\", \"RestaurantsGoodForGroups\": \"True\", \"RestaurantsDelivery\": \"True\", \"HasTV\": \"True\"}',\n",
       " None,\n",
       " None,\n",
       " '{\"BusinessAcceptsCreditCards\": \"True\", \"BikeParking\": \"False\", \"RestaurantsPriceRange2\": \"2\", \"BusinessParking\": \"{\"garage\": False, \"street\": False, \"validated\": False, \"lot\": False, \"valet\": False}\"}',\n",
       " '{\"BusinessAcceptsCreditCards\": \"True\", \"BusinessAcceptsBitcoin\": \"False\", \"GoodForKids\": \"True\", \"BusinessParking\": \"{\"garage\": False, \"street\": True, \"validated\": False, \"lot\": False, \"valet\": False}\", \"ByAppointmentOnly\": \"False\", \"BikeParking\": \"True\", \"RestaurantsPriceRange2\": \"2\"}',\n",
       " ...]"
      ]
     },
     "execution_count": 15,
     "metadata": {},
     "output_type": "execute_result"
    }
   ],
   "source": [
    "business_df.with_columns(\n",
    "    pl.col(\"attributes\")\n",
    "      .str.replace_all(\"'\", '\"')  # make it valid JSON\n",
    "      .alias(\"attributes_json\")\n",
    ")['attributes_json'].to_list()"
   ]
  },
  {
   "cell_type": "code",
   "execution_count": 17,
   "id": "3a2ceb24",
   "metadata": {},
   "outputs": [
    {
     "name": "stdout",
     "output_type": "stream",
     "text": [
      "shape: (5, 2)\n",
      "┌─────────────────────────────────┬─────────────────────────────────┐\n",
      "│ attributes                      ┆ attributes_dict                 │\n",
      "│ ---                             ┆ ---                             │\n",
      "│ str                             ┆ object                          │\n",
      "╞═════════════════════════════════╪═════════════════════════════════╡\n",
      "│ {'ByAppointmentOnly': 'True'}   ┆ {'ByAppointmentOnly': 'True'}   │\n",
      "│ {'BusinessAcceptsCreditCards':… ┆ {'BusinessAcceptsCreditCards':… │\n",
      "│ {'BikeParking': 'True', 'Busin… ┆ null                            │\n",
      "│ {'RestaurantsDelivery': 'False… ┆ null                            │\n",
      "│ {'BusinessAcceptsCreditCards':… ┆ null                            │\n",
      "└─────────────────────────────────┴─────────────────────────────────┘\n"
     ]
    }
   ],
   "source": [
    "import json\n",
    "\n",
    "def safe_json_parse(s: str):\n",
    "    if s is None:\n",
    "        return None\n",
    "    try:\n",
    "        # Replace single quotes with double quotes\n",
    "        s = s.replace(\"'\", '\"')\n",
    "        return json.loads(s)\n",
    "    except Exception:\n",
    "        return None  # if still fails, return None\n",
    "\n",
    "# Apply in Polars using map_elements\n",
    "business_df_decoded = business_df.with_columns(\n",
    "    pl.col(\"attributes\").map_elements(safe_json_parse, return_dtype=pl.Object).alias(\"attributes_dict\")\n",
    ")\n",
    "\n",
    "print(business_df_decoded.select([\"attributes\", \"attributes_dict\"]).head(5))\n"
   ]
  },
  {
   "cell_type": "code",
   "execution_count": 24,
   "id": "f2d94617",
   "metadata": {},
   "outputs": [
    {
     "data": {
      "text/html": [
       "<div><style>\n",
       ".dataframe > thead > tr,\n",
       ".dataframe > tbody > tr {\n",
       "  text-align: right;\n",
       "  white-space: pre-wrap;\n",
       "}\n",
       "</style>\n",
       "<small>shape: (150_346,)</small><table border=\"1\" class=\"dataframe\"><thead><tr><th>attributes_json</th></tr><tr><td>str</td></tr></thead><tbody><tr><td>&quot;{&quot;ByAppointmentOnly&quot;: &quot;True&quot;}&quot;</td></tr><tr><td>&quot;{&quot;BusinessAcceptsCreditCards&quot;:…</td></tr><tr><td>&quot;{&quot;BikeParking&quot;: &quot;True&quot;, &quot;Busin…</td></tr><tr><td>&quot;{&quot;RestaurantsDelivery&quot;: &quot;False…</td></tr><tr><td>&quot;{&quot;BusinessAcceptsCreditCards&quot;:…</td></tr><tr><td>&hellip;</td></tr><tr><td>&quot;{&quot;ByAppointmentOnly&quot;: &quot;False&quot;,…</td></tr><tr><td>&quot;{&quot;BusinessAcceptsCreditCards&quot;:…</td></tr><tr><td>&quot;{&quot;RestaurantsPriceRange2&quot;: &quot;1&quot;…</td></tr><tr><td>&quot;{&quot;BusinessParking&quot;: &quot;{&quot;garage&quot;…</td></tr><tr><td>&quot;{&quot;WheelchairAccessible&quot;: &quot;True…</td></tr></tbody></table></div>"
      ],
      "text/plain": [
       "shape: (150_346,)\n",
       "Series: 'attributes_json' [str]\n",
       "[\n",
       "\t\"{\"ByAppointmentOnly\": \"True\"}\"\n",
       "\t\"{\"BusinessAcceptsCreditCards\":…\n",
       "\t\"{\"BikeParking\": \"True\", \"Busin…\n",
       "\t\"{\"RestaurantsDelivery\": \"False…\n",
       "\t\"{\"BusinessAcceptsCreditCards\":…\n",
       "\t…\n",
       "\t\"{\"ByAppointmentOnly\": \"False\",…\n",
       "\t\"{\"BusinessAcceptsCreditCards\":…\n",
       "\t\"{\"RestaurantsPriceRange2\": \"1\"…\n",
       "\t\"{\"BusinessParking\": \"{\"garage\"…\n",
       "\t\"{\"WheelchairAccessible\": \"True…\n",
       "]"
      ]
     },
     "execution_count": 24,
     "metadata": {},
     "output_type": "execute_result"
    }
   ],
   "source": [
    "# Convert single quotes to double quotes\n",
    "business_df_clean = business_df.with_columns(\n",
    "    pl.col(\"attributes\")\n",
    "      .str.replace_all(\"'\", '\"') \n",
    "      .alias(\"attributes_json\")\n",
    ")\n",
    "\n",
    "business_df_clean['attributes_json']"
   ]
  },
  {
   "cell_type": "markdown",
   "id": "39b52836",
   "metadata": {},
   "source": [
    "json_path_match"
   ]
  },
  {
   "cell_type": "code",
   "execution_count": 26,
   "id": "208744b8",
   "metadata": {},
   "outputs": [
    {
     "data": {
      "text/html": [
       "<div><style>\n",
       ".dataframe > thead > tr,\n",
       ".dataframe > tbody > tr {\n",
       "  text-align: right;\n",
       "  white-space: pre-wrap;\n",
       "}\n",
       "</style>\n",
       "<small>shape: (150_346,)</small><table border=\"1\" class=\"dataframe\"><thead><tr><th>ByAppointmentOnly</th></tr><tr><td>str</td></tr></thead><tbody><tr><td>&quot;True&quot;</td></tr><tr><td>null</td></tr><tr><td>null</td></tr><tr><td>null</td></tr><tr><td>null</td></tr><tr><td>&hellip;</td></tr><tr><td>&quot;False&quot;</td></tr><tr><td>null</td></tr><tr><td>null</td></tr><tr><td>null</td></tr><tr><td>null</td></tr></tbody></table></div>"
      ],
      "text/plain": [
       "shape: (150_346,)\n",
       "Series: 'ByAppointmentOnly' [str]\n",
       "[\n",
       "\t\"True\"\n",
       "\tnull\n",
       "\tnull\n",
       "\tnull\n",
       "\tnull\n",
       "\t…\n",
       "\t\"False\"\n",
       "\tnull\n",
       "\tnull\n",
       "\tnull\n",
       "\tnull\n",
       "]"
      ]
     },
     "execution_count": 26,
     "metadata": {},
     "output_type": "execute_result"
    }
   ],
   "source": [
    "# $.ByAppointmentOnly means: in the JSON, get the value for \"ByAppointmentOnly\".\n",
    "business_df_with_field = business_df_clean.with_columns(\n",
    "    pl.col(\"attributes_json\")\n",
    "      .str.json_path_match(\"$.ByAppointmentOnly\")\n",
    "      .alias(\"ByAppointmentOnly\")\n",
    ")\n",
    "business_df_with_field['ByAppointmentOnly']"
   ]
  },
  {
   "cell_type": "markdown",
   "id": "af92856f",
   "metadata": {},
   "source": [
    "## <strong style=\"color:#5e17eb\"> Summary </strong>\n"
   ]
  },
  {
   "cell_type": "markdown",
   "id": "3df25be1",
   "metadata": {},
   "source": [
    "Convert string to numeric, date/time, JSON.\n",
    "\n",
    "- `strptime(dtype, format, strict=True)` – parse date/datetime/time\n",
    "\n",
    "- `to_date()`, `to_datetime()`, `to_time()` – shorthand type conversion\n",
    "\n",
    "- `to_integer(base=10, strict=True)`, `parse_int(base, strict)` – convert to integer\n",
    "\n",
    "- `to_decimal()` – string to Decimal type\n",
    "\n",
    "- `json_decode()`, `json_extract()`, `json_path_match()` – parse JSON strings within cells \n",
    "- json_decode : https://docs.pola.rs/api/python/dev/reference/expressions/api/polars.Expr.str.json_decode.html\n",
    "- json_extract : https://docs.pola.rs/docs/python/version/0.19/reference/expressions/api/polars.Expr.str.json_extract.html\n",
    "- json_path_match : https://docs.pola.rs/api/python/dev/reference/expressions/api/polars.Expr.str.json_path_match.html\n",
    "- Data frame : https://docs.pola.rs/api/python/stable/reference/dataframe/index.html"
   ]
  },
  {
   "cell_type": "markdown",
   "id": "857bc1e4",
   "metadata": {},
   "source": [
    "# <strong style=\"color:#5e17eb\"> 7. Summary </strong>\n"
   ]
  },
  {
   "cell_type": "markdown",
   "id": "a1c85552",
   "metadata": {},
   "source": [
    "| Category             | Key Methods                                                    | Typical Use Case                            |\n",
    "| -------------------- | -------------------------------------------------------------- | ------------------------------------------- |\n",
    "| Matching & Filtering | `contains()`, `contains_any()`, `starts_with()`, `ends_with()` | Filter or flag rows by substring            |\n",
    "| Extract & Count      | `extract()`, `count_matches()`, `len_chars()`                  | Pull out data and compute string metrics    |\n",
    "| Cleaning Text        | `to_lowercase()`, `strip()`, `zfill()`                         | Standardize and clean raw string columns    |\n",
    "| Replace Text         | `replace_all()`, `replace_many()`                              | Bulk clean or censor text data              |\n",
    "| Substring / Parts    | `slice()`, `split()`, `head()`, `tail()`                       | Extract codes, IDs, tokens, etc.            |\n",
    "| Parse Types          | `to_datetime()`, `to_integer()`, `json_decode()`               | Convert raw text into typed, usable formats |\n"
   ]
  },
  {
   "cell_type": "markdown",
   "id": "8a676f22",
   "metadata": {},
   "source": [
    "<strong style=\"color:#5e17eb\">Resources  </strong>\n",
    "\n",
    "- https://docs.pola.rs/api/python/stable/reference/series/string.html\n",
    "- https://regex101.com/"
   ]
  },
  {
   "cell_type": "markdown",
   "id": "4bc079db",
   "metadata": {},
   "source": [
    "<div style=\"text-align: center;\">\n",
    "  <h4 style=\"\n",
    "    display: inline-block;\n",
    "    color: #5e17eb;\n",
    "    font-family: 'Segoe UI';\n",
    "    border-left: 5px solid #5e17eb;\n",
    "    background-color: #F8F9F9;\n",
    "    padding: 10px 20px;\n",
    "    border-radius: 5px;\n",
    "    text-align: left;\n",
    "  \">\n",
    "  <b>\n",
    "    Thank You 💜\n",
    "    </b>\n",
    "  </h4>\n",
    "</div>"
   ]
  }
 ],
 "metadata": {
  "kernelspec": {
   "display_name": "Python 3",
   "language": "python",
   "name": "python3"
  },
  "language_info": {
   "codemirror_mode": {
    "name": "ipython",
    "version": 3
   },
   "file_extension": ".py",
   "mimetype": "text/x-python",
   "name": "python",
   "nbconvert_exporter": "python",
   "pygments_lexer": "ipython3",
   "version": "3.11.9"
  }
 },
 "nbformat": 4,
 "nbformat_minor": 5
}
