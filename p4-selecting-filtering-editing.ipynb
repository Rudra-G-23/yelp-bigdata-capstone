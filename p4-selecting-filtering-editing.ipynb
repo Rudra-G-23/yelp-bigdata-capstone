{
 "cells": [
  {
   "cell_type": "code",
   "execution_count": 1,
   "id": "ee832e7f",
   "metadata": {},
   "outputs": [],
   "source": [
    "import polars as pl\n",
    "from warnings import filterwarnings\n",
    "\n",
    "filterwarnings('ignore')"
   ]
  },
  {
   "cell_type": "markdown",
   "id": "66eef1c1",
   "metadata": {},
   "source": [
    "<strong style=\"color:#5e17eb\"> Parquet </strong>\n",
    "- Polars + Parquet == More speed\n",
    "- So we converted all json -> csv -> parquet file "
   ]
  },
  {
   "cell_type": "code",
   "execution_count": 2,
   "id": "07b0fdc0",
   "metadata": {},
   "outputs": [],
   "source": [
    "df = pl.read_parquet(r\"C:\\Users\\Rudra\\Desktop\\yelp\\parquet-data\\business.parquet\")"
   ]
  },
  {
   "cell_type": "code",
   "execution_count": 3,
   "id": "60654808",
   "metadata": {},
   "outputs": [
    {
     "data": {
      "text/html": [
       "<div><style>\n",
       ".dataframe > thead > tr,\n",
       ".dataframe > tbody > tr {\n",
       "  text-align: right;\n",
       "  white-space: pre-wrap;\n",
       "}\n",
       "</style>\n",
       "<small>shape: (1, 14)</small><table border=\"1\" class=\"dataframe\"><thead><tr><th>business_id</th><th>name</th><th>address</th><th>city</th><th>state</th><th>postal_code</th><th>latitude</th><th>longitude</th><th>stars</th><th>review_count</th><th>is_open</th><th>attributes</th><th>categories</th><th>hours</th></tr><tr><td>str</td><td>str</td><td>str</td><td>str</td><td>str</td><td>str</td><td>f64</td><td>f64</td><td>f64</td><td>i64</td><td>i64</td><td>str</td><td>str</td><td>str</td></tr></thead><tbody><tr><td>&quot;VK5NEKDHnZG8YcAw2JpaWw&quot;</td><td>&quot;Spring Hollow Golf Club&quot;</td><td>&quot;3350 Schuylkill Rd&quot;</td><td>&quot;Spring City&quot;</td><td>&quot;PA&quot;</td><td>&quot;19475&quot;</td><td>40.185507</td><td>-75.574882</td><td>3.0</td><td>29</td><td>1</td><td>&quot;{&#x27;RestaurantsDelivery&#x27;: &#x27;False…</td><td>&quot;Golf, Venues &amp; Event Spaces, E…</td><td>&quot;{&#x27;Monday&#x27;: &#x27;0:0-0:0&#x27;, &#x27;Tuesday…</td></tr></tbody></table></div>"
      ],
      "text/plain": [
       "shape: (1, 14)\n",
       "┌────────────┬────────────┬────────────┬────────┬───┬─────────┬────────────┬───────────┬───────────┐\n",
       "│ business_i ┆ name       ┆ address    ┆ city   ┆ … ┆ is_open ┆ attributes ┆ categorie ┆ hours     │\n",
       "│ d          ┆ ---        ┆ ---        ┆ ---    ┆   ┆ ---     ┆ ---        ┆ s         ┆ ---       │\n",
       "│ ---        ┆ str        ┆ str        ┆ str    ┆   ┆ i64     ┆ str        ┆ ---       ┆ str       │\n",
       "│ str        ┆            ┆            ┆        ┆   ┆         ┆            ┆ str       ┆           │\n",
       "╞════════════╪════════════╪════════════╪════════╪═══╪═════════╪════════════╪═══════════╪═══════════╡\n",
       "│ VK5NEKDHnZ ┆ Spring     ┆ 3350       ┆ Spring ┆ … ┆ 1       ┆ {'Restaura ┆ Golf,     ┆ {'Monday' │\n",
       "│ G8YcAw2Jpa ┆ Hollow     ┆ Schuylkill ┆ City   ┆   ┆         ┆ ntsDeliver ┆ Venues &  ┆ : '0:0-0: │\n",
       "│ Ww         ┆ Golf Club  ┆ Rd         ┆        ┆   ┆         ┆ y':        ┆ Event     ┆ 0',       │\n",
       "│            ┆            ┆            ┆        ┆   ┆         ┆ 'False…    ┆ Spaces,   ┆ 'Tuesday… │\n",
       "│            ┆            ┆            ┆        ┆   ┆         ┆            ┆ E…        ┆           │\n",
       "└────────────┴────────────┴────────────┴────────┴───┴─────────┴────────────┴───────────┴───────────┘"
      ]
     },
     "execution_count": 3,
     "metadata": {},
     "output_type": "execute_result"
    }
   ],
   "source": [
    "df.sample()"
   ]
  },
  {
   "cell_type": "code",
   "execution_count": 6,
   "id": "957997a3",
   "metadata": {},
   "outputs": [],
   "source": [
    "user_df = pl.scan_parquet(r\"C:\\Users\\Rudra\\Desktop\\yelp\\parquet-data\\yelp_user.parquet\")"
   ]
  },
  {
   "cell_type": "markdown",
   "id": "ab8c12ca",
   "metadata": {},
   "source": [
    "# <strong style=\"color:#5e17eb\"> I. Selecting Data </strong>\n"
   ]
  },
  {
   "cell_type": "markdown",
   "id": "9ef25075",
   "metadata": {},
   "source": [
    "## <strong style=\"color:#5e17eb\">  Column Selection </strong>\n"
   ]
  },
  {
   "cell_type": "code",
   "execution_count": 13,
   "id": "3c41f3b8",
   "metadata": {},
   "outputs": [
    {
     "data": {
      "text/html": [
       "<div><style>\n",
       ".dataframe > thead > tr,\n",
       ".dataframe > tbody > tr {\n",
       "  text-align: right;\n",
       "  white-space: pre-wrap;\n",
       "}\n",
       "</style>\n",
       "<small>shape: (2, 5)</small><table border=\"1\" class=\"dataframe\"><thead><tr><th>business_id</th><th>name</th><th>address</th><th>city</th><th>state</th></tr><tr><td>str</td><td>str</td><td>str</td><td>str</td><td>str</td></tr></thead><tbody><tr><td>&quot;vWF2QhXj6tzN1hVmBFRNOw&quot;</td><td>&quot;Tang Thai Restaurant&quot;</td><td>&quot;6190 Ridge Ave&quot;</td><td>&quot;Philadelphia&quot;</td><td>&quot;PA&quot;</td></tr><tr><td>&quot;2yWDP7NDRVEVSsJE1LacVw&quot;</td><td>&quot;World Deli&quot;</td><td>&quot;4414 Clearview Pkwy&quot;</td><td>&quot;Metairie&quot;</td><td>&quot;LA&quot;</td></tr></tbody></table></div>"
      ],
      "text/plain": [
       "shape: (2, 5)\n",
       "┌────────────────────────┬──────────────────────┬─────────────────────┬──────────────┬───────┐\n",
       "│ business_id            ┆ name                 ┆ address             ┆ city         ┆ state │\n",
       "│ ---                    ┆ ---                  ┆ ---                 ┆ ---          ┆ ---   │\n",
       "│ str                    ┆ str                  ┆ str                 ┆ str          ┆ str   │\n",
       "╞════════════════════════╪══════════════════════╪═════════════════════╪══════════════╪═══════╡\n",
       "│ vWF2QhXj6tzN1hVmBFRNOw ┆ Tang Thai Restaurant ┆ 6190 Ridge Ave      ┆ Philadelphia ┆ PA    │\n",
       "│ 2yWDP7NDRVEVSsJE1LacVw ┆ World Deli           ┆ 4414 Clearview Pkwy ┆ Metairie     ┆ LA    │\n",
       "└────────────────────────┴──────────────────────┴─────────────────────┴──────────────┴───────┘"
      ]
     },
     "execution_count": 13,
     "metadata": {},
     "output_type": "execute_result"
    }
   ],
   "source": [
    "df.select([\n",
    "    'business_id',\n",
    "    'name',\n",
    "    'address',\n",
    "    'city',\n",
    "    'state'\n",
    "]).sample(2)"
   ]
  },
  {
   "cell_type": "code",
   "execution_count": 15,
   "id": "a36444a5",
   "metadata": {},
   "outputs": [
    {
     "data": {
      "text/html": [
       "<div><style>\n",
       ".dataframe > thead > tr,\n",
       ".dataframe > tbody > tr {\n",
       "  text-align: right;\n",
       "  white-space: pre-wrap;\n",
       "}\n",
       "</style>\n",
       "<small>shape: (1, 4)</small><table border=\"1\" class=\"dataframe\"><thead><tr><th>stars</th><th>review_count</th><th>is_open</th><th>attributes</th></tr><tr><td>f64</td><td>i64</td><td>i64</td><td>str</td></tr></thead><tbody><tr><td>3.0</td><td>68</td><td>1</td><td>&quot;{&#x27;OutdoorSeating&#x27;: &#x27;True&#x27;, &#x27;Re…</td></tr></tbody></table></div>"
      ],
      "text/plain": [
       "shape: (1, 4)\n",
       "┌───────┬──────────────┬─────────┬─────────────────────────────────┐\n",
       "│ stars ┆ review_count ┆ is_open ┆ attributes                      │\n",
       "│ ---   ┆ ---          ┆ ---     ┆ ---                             │\n",
       "│ f64   ┆ i64          ┆ i64     ┆ str                             │\n",
       "╞═══════╪══════════════╪═════════╪═════════════════════════════════╡\n",
       "│ 3.0   ┆ 68           ┆ 1       ┆ {'OutdoorSeating': 'True', 'Re… │\n",
       "└───────┴──────────────┴─────────┴─────────────────────────────────┘"
      ]
     },
     "execution_count": 15,
     "metadata": {},
     "output_type": "execute_result"
    }
   ],
   "source": [
    "df[['stars','review_count','is_open','attributes']].sample(1)"
   ]
  },
  {
   "cell_type": "markdown",
   "id": "c43d0a17",
   "metadata": {},
   "source": [
    "## <strong style=\"color:#5e17eb\">  Row Selection </strong>\n"
   ]
  },
  {
   "cell_type": "code",
   "execution_count": 19,
   "id": "2452a504",
   "metadata": {},
   "outputs": [
    {
     "data": {
      "text/html": [
       "<div><style>\n",
       ".dataframe > thead > tr,\n",
       ".dataframe > tbody > tr {\n",
       "  text-align: right;\n",
       "  white-space: pre-wrap;\n",
       "}\n",
       "</style>\n",
       "<small>shape: (3, 14)</small><table border=\"1\" class=\"dataframe\"><thead><tr><th>business_id</th><th>name</th><th>address</th><th>city</th><th>state</th><th>postal_code</th><th>latitude</th><th>longitude</th><th>stars</th><th>review_count</th><th>is_open</th><th>attributes</th><th>categories</th><th>hours</th></tr><tr><td>str</td><td>str</td><td>str</td><td>str</td><td>str</td><td>str</td><td>f64</td><td>f64</td><td>f64</td><td>i64</td><td>i64</td><td>str</td><td>str</td><td>str</td></tr></thead><tbody><tr><td>&quot;xM6LoUcnpDpMBzXs_7dXAg&quot;</td><td>&quot;Fairfield Inn &amp; Suites&quot;</td><td>&quot;719 E Baltimore Pike&quot;</td><td>&quot;Kennett Square&quot;</td><td>&quot;PA&quot;</td><td>&quot;19348&quot;</td><td>39.856248</td><td>-75.69461</td><td>3.0</td><td>37</td><td>1</td><td>&quot;{&#x27;BusinessAcceptsCreditCards&#x27;:…</td><td>&quot;Hotels, Hotels &amp; Travel, Event…</td><td>null</td></tr><tr><td>&quot;txyXRytGjwOXvS8s4sc-WA&quot;</td><td>&quot;Smoothie King&quot;</td><td>&quot;1070 E Tucson Marketplace Blvd&quot;</td><td>&quot;Tucson&quot;</td><td>&quot;AZ&quot;</td><td>&quot;85713&quot;</td><td>32.186794</td><td>-110.954765</td><td>3.0</td><td>29</td><td>1</td><td>&quot;{&#x27;RestaurantsPriceRange2&#x27;: &#x27;2&#x27;…</td><td>&quot;Vitamins &amp; Supplements, Ice Cr…</td><td>&quot;{&#x27;Monday&#x27;: &#x27;0:0-0:0&#x27;, &#x27;Tuesday…</td></tr><tr><td>&quot;DQ7PyYlp2bX96WZa7TcaWQ&quot;</td><td>&quot;LensCrafters&quot;</td><td>&quot;1150 Plymouth Meeting Mall, St…</td><td>&quot;Plymouth Meeting&quot;</td><td>&quot;PA&quot;</td><td>&quot;19462&quot;</td><td>40.116179</td><td>-75.282525</td><td>2.5</td><td>8</td><td>1</td><td>&quot;{&#x27;BusinessAcceptsCreditCards&#x27;:…</td><td>&quot;Ophthalmologists, Eyewear &amp; Op…</td><td>&quot;{&#x27;Monday&#x27;: &#x27;10:0-21:0&#x27;, &#x27;Tuesd…</td></tr></tbody></table></div>"
      ],
      "text/plain": [
       "shape: (3, 14)\n",
       "┌────────────┬───────────┬───────────┬───────────┬───┬─────────┬───────────┬───────────┬───────────┐\n",
       "│ business_i ┆ name      ┆ address   ┆ city      ┆ … ┆ is_open ┆ attribute ┆ categorie ┆ hours     │\n",
       "│ d          ┆ ---       ┆ ---       ┆ ---       ┆   ┆ ---     ┆ s         ┆ s         ┆ ---       │\n",
       "│ ---        ┆ str       ┆ str       ┆ str       ┆   ┆ i64     ┆ ---       ┆ ---       ┆ str       │\n",
       "│ str        ┆           ┆           ┆           ┆   ┆         ┆ str       ┆ str       ┆           │\n",
       "╞════════════╪═══════════╪═══════════╪═══════════╪═══╪═════════╪═══════════╪═══════════╪═══════════╡\n",
       "│ xM6LoUcnpD ┆ Fairfield ┆ 719 E     ┆ Kennett   ┆ … ┆ 1       ┆ {'Busines ┆ Hotels,   ┆ null      │\n",
       "│ pMBzXs_7dX ┆ Inn &     ┆ Baltimore ┆ Square    ┆   ┆         ┆ sAcceptsC ┆ Hotels &  ┆           │\n",
       "│ Ag         ┆ Suites    ┆ Pike      ┆           ┆   ┆         ┆ reditCard ┆ Travel,   ┆           │\n",
       "│            ┆           ┆           ┆           ┆   ┆         ┆ s':…      ┆ Event…    ┆           │\n",
       "│ txyXRytGjw ┆ Smoothie  ┆ 1070 E    ┆ Tucson    ┆ … ┆ 1       ┆ {'Restaur ┆ Vitamins  ┆ {'Monday' │\n",
       "│ OXvS8s4sc- ┆ King      ┆ Tucson    ┆           ┆   ┆         ┆ antsPrice ┆ & Supplem ┆ : '0:0-0: │\n",
       "│ WA         ┆           ┆ Marketpla ┆           ┆   ┆         ┆ Range2':  ┆ ents, Ice ┆ 0',       │\n",
       "│            ┆           ┆ ce Blvd   ┆           ┆   ┆         ┆ '2'…      ┆ Cr…       ┆ 'Tuesday… │\n",
       "│ DQ7PyYlp2b ┆ LensCraft ┆ 1150      ┆ Plymouth  ┆ … ┆ 1       ┆ {'Busines ┆ Ophthalmo ┆ {'Monday' │\n",
       "│ X96WZa7Tca ┆ ers       ┆ Plymouth  ┆ Meeting   ┆   ┆         ┆ sAcceptsC ┆ logists,  ┆ : '10:0-2 │\n",
       "│ WQ         ┆           ┆ Meeting   ┆           ┆   ┆         ┆ reditCard ┆ Eyewear & ┆ 1:0',     │\n",
       "│            ┆           ┆ Mall, St… ┆           ┆   ┆         ┆ s':…      ┆ Op…       ┆ 'Tuesd…   │\n",
       "└────────────┴───────────┴───────────┴───────────┴───┴─────────┴───────────┴───────────┴───────────┘"
      ]
     },
     "execution_count": 19,
     "metadata": {},
     "output_type": "execute_result"
    }
   ],
   "source": [
    "df[55:58]"
   ]
  },
  {
   "cell_type": "code",
   "execution_count": null,
   "id": "3e731104",
   "metadata": {},
   "outputs": [
    {
     "data": {
      "text/html": [
       "<div><style>\n",
       ".dataframe > thead > tr,\n",
       ".dataframe > tbody > tr {\n",
       "  text-align: right;\n",
       "  white-space: pre-wrap;\n",
       "}\n",
       "</style>\n",
       "<small>shape: (3, 14)</small><table border=\"1\" class=\"dataframe\"><thead><tr><th>business_id</th><th>name</th><th>address</th><th>city</th><th>state</th><th>postal_code</th><th>latitude</th><th>longitude</th><th>stars</th><th>review_count</th><th>is_open</th><th>attributes</th><th>categories</th><th>hours</th></tr><tr><td>str</td><td>str</td><td>str</td><td>str</td><td>str</td><td>str</td><td>f64</td><td>f64</td><td>f64</td><td>i64</td><td>i64</td><td>str</td><td>str</td><td>str</td></tr></thead><tbody><tr><td>&quot;il_Ro8jwPlHresjw9EGmBg&quot;</td><td>&quot;Denny&#x27;s&quot;</td><td>&quot;8901 US 31 S&quot;</td><td>&quot;Indianapolis&quot;</td><td>&quot;IN&quot;</td><td>&quot;46227&quot;</td><td>39.637133</td><td>-86.127217</td><td>2.5</td><td>28</td><td>1</td><td>&quot;{&#x27;RestaurantsReservations&#x27;: &#x27;F…</td><td>&quot;American (Traditional), Restau…</td><td>&quot;{&#x27;Monday&#x27;: &#x27;6:0-22:0&#x27;, &#x27;Tuesda…</td></tr><tr><td>&quot;jaxMSoInw8Poo3XeMJt8lQ&quot;</td><td>&quot;Adams Dental&quot;</td><td>&quot;15 N Missouri Ave&quot;</td><td>&quot;Clearwater&quot;</td><td>&quot;FL&quot;</td><td>&quot;33755&quot;</td><td>27.966235</td><td>-82.787412</td><td>5.0</td><td>10</td><td>1</td><td>&quot;{&#x27;ByAppointmentOnly&#x27;: &#x27;True&#x27;}&quot;</td><td>&quot;General Dentistry, Dentists, H…</td><td>&quot;{&#x27;Monday&#x27;: &#x27;7:30-15:30&#x27;, &#x27;Tues…</td></tr><tr><td>&quot;0bPLkL0QhhPO5kt1_EXmNQ&quot;</td><td>&quot;Zio&#x27;s Italian Market&quot;</td><td>&quot;2575 E Bay Dr&quot;</td><td>&quot;Largo&quot;</td><td>&quot;FL&quot;</td><td>&quot;33771&quot;</td><td>27.916116</td><td>-82.760461</td><td>4.5</td><td>100</td><td>0</td><td>&quot;{&#x27;OutdoorSeating&#x27;: &#x27;False&#x27;, &#x27;R…</td><td>&quot;Food, Delis, Italian, Bakeries…</td><td>&quot;{&#x27;Monday&#x27;: &#x27;10:0-18:0&#x27;, &#x27;Tuesd…</td></tr></tbody></table></div>"
      ],
      "text/plain": [
       "shape: (3, 14)\n",
       "┌────────────┬───────────┬───────────┬───────────┬───┬─────────┬───────────┬───────────┬───────────┐\n",
       "│ business_i ┆ name      ┆ address   ┆ city      ┆ … ┆ is_open ┆ attribute ┆ categorie ┆ hours     │\n",
       "│ d          ┆ ---       ┆ ---       ┆ ---       ┆   ┆ ---     ┆ s         ┆ s         ┆ ---       │\n",
       "│ ---        ┆ str       ┆ str       ┆ str       ┆   ┆ i64     ┆ ---       ┆ ---       ┆ str       │\n",
       "│ str        ┆           ┆           ┆           ┆   ┆         ┆ str       ┆ str       ┆           │\n",
       "╞════════════╪═══════════╪═══════════╪═══════════╪═══╪═════════╪═══════════╪═══════════╪═══════════╡\n",
       "│ il_Ro8jwPl ┆ Denny's   ┆ 8901 US   ┆ Indianapo ┆ … ┆ 1       ┆ {'Restaur ┆ American  ┆ {'Monday' │\n",
       "│ Hresjw9EGm ┆           ┆ 31 S      ┆ lis       ┆   ┆         ┆ antsReser ┆ (Traditio ┆ : '6:0-22 │\n",
       "│ Bg         ┆           ┆           ┆           ┆   ┆         ┆ vations': ┆ nal),     ┆ :0',      │\n",
       "│            ┆           ┆           ┆           ┆   ┆         ┆ 'F…       ┆ Restau…   ┆ 'Tuesda…  │\n",
       "│ jaxMSoInw8 ┆ Adams     ┆ 15 N      ┆ Clearwate ┆ … ┆ 1       ┆ {'ByAppoi ┆ General   ┆ {'Monday' │\n",
       "│ Poo3XeMJt8 ┆ Dental    ┆ Missouri  ┆ r         ┆   ┆         ┆ ntmentOnl ┆ Dentistry ┆ : '7:30-1 │\n",
       "│ lQ         ┆           ┆ Ave       ┆           ┆   ┆         ┆ y':       ┆ ,         ┆ 5:30',    │\n",
       "│            ┆           ┆           ┆           ┆   ┆         ┆ 'True'}   ┆ Dentists, ┆ 'Tues…    │\n",
       "│            ┆           ┆           ┆           ┆   ┆         ┆           ┆ H…        ┆           │\n",
       "│ 0bPLkL0Qhh ┆ Zio's     ┆ 2575 E    ┆ Largo     ┆ … ┆ 0       ┆ {'Outdoor ┆ Food,     ┆ {'Monday' │\n",
       "│ PO5kt1_EXm ┆ Italian   ┆ Bay Dr    ┆           ┆   ┆         ┆ Seating': ┆ Delis,    ┆ : '10:0-1 │\n",
       "│ NQ         ┆ Market    ┆           ┆           ┆   ┆         ┆ 'False',  ┆ Italian,  ┆ 8:0',     │\n",
       "│            ┆           ┆           ┆           ┆   ┆         ┆ 'R…       ┆ Bakeries… ┆ 'Tuesd…   │\n",
       "└────────────┴───────────┴───────────┴───────────┴───┴─────────┴───────────┴───────────┴───────────┘"
      ]
     },
     "execution_count": 22,
     "metadata": {},
     "output_type": "execute_result"
    }
   ],
   "source": [
    "# Select the row start from 12 and take 3 rows\n",
    "# slice(where to start, how many to select)\n",
    "df.slice(12,3)"
   ]
  },
  {
   "cell_type": "markdown",
   "id": "2fbace6a",
   "metadata": {},
   "source": [
    "## <strong style=\"color:#5e17eb\">  Cell Selection </strong>\n",
    "\n",
    "- Row + Column"
   ]
  },
  {
   "cell_type": "code",
   "execution_count": 25,
   "id": "ba750c38",
   "metadata": {},
   "outputs": [
    {
     "data": {
      "text/html": [
       "<div><style>\n",
       ".dataframe > thead > tr,\n",
       ".dataframe > tbody > tr {\n",
       "  text-align: right;\n",
       "  white-space: pre-wrap;\n",
       "}\n",
       "</style>\n",
       "<small>shape: (3, 2)</small><table border=\"1\" class=\"dataframe\"><thead><tr><th>name</th><th>city</th></tr><tr><td>str</td><td>str</td></tr></thead><tbody><tr><td>&quot;Perkiomen Valley Brewery&quot;</td><td>&quot;Green Lane&quot;</td></tr><tr><td>&quot;Famous Footwear&quot;</td><td>&quot;Brentwood&quot;</td></tr><tr><td>&quot;Tsevi&#x27;s Pub And Grill&quot;</td><td>&quot;Affton&quot;</td></tr></tbody></table></div>"
      ],
      "text/plain": [
       "shape: (3, 2)\n",
       "┌──────────────────────────┬────────────┐\n",
       "│ name                     ┆ city       │\n",
       "│ ---                      ┆ ---        │\n",
       "│ str                      ┆ str        │\n",
       "╞══════════════════════════╪════════════╡\n",
       "│ Perkiomen Valley Brewery ┆ Green Lane │\n",
       "│ Famous Footwear          ┆ Brentwood  │\n",
       "│ Tsevi's Pub And Grill    ┆ Affton     │\n",
       "└──────────────────────────┴────────────┘"
      ]
     },
     "execution_count": 25,
     "metadata": {},
     "output_type": "execute_result"
    }
   ],
   "source": [
    "df[4:9:2, ['name', 'city']]"
   ]
  },
  {
   "cell_type": "markdown",
   "id": "99f4fdef",
   "metadata": {},
   "source": [
    "## <strong style=\"color:#5e17eb\"> Boolean Row Filtering </strong>\n"
   ]
  },
  {
   "cell_type": "code",
   "execution_count": 40,
   "id": "3204508f",
   "metadata": {},
   "outputs": [
    {
     "data": {
      "text/html": [
       "<div><style>\n",
       ".dataframe > thead > tr,\n",
       ".dataframe > tbody > tr {\n",
       "  text-align: right;\n",
       "  white-space: pre-wrap;\n",
       "}\n",
       "</style>\n",
       "<small>shape: (6, 14)</small><table border=\"1\" class=\"dataframe\"><thead><tr><th>business_id</th><th>name</th><th>address</th><th>city</th><th>state</th><th>postal_code</th><th>latitude</th><th>longitude</th><th>stars</th><th>review_count</th><th>is_open</th><th>attributes</th><th>categories</th><th>hours</th></tr><tr><td>str</td><td>str</td><td>str</td><td>str</td><td>str</td><td>str</td><td>f64</td><td>f64</td><td>f64</td><td>i64</td><td>i64</td><td>str</td><td>str</td><td>str</td></tr></thead><tbody><tr><td>&quot;mWMc6_wTdE0EUBKIGXDVfA&quot;</td><td>&quot;Perkiomen Valley Brewery&quot;</td><td>&quot;101 Walnut St&quot;</td><td>&quot;Green Lane&quot;</td><td>&quot;PA&quot;</td><td>&quot;18054&quot;</td><td>40.338183</td><td>-75.471659</td><td>4.5</td><td>13</td><td>1</td><td>&quot;{&#x27;BusinessAcceptsCreditCards&#x27;:…</td><td>&quot;Brewpubs, Breweries, Food&quot;</td><td>&quot;{&#x27;Wednesday&#x27;: &#x27;14:0-22:0&#x27;, &#x27;Th…</td></tr><tr><td>&quot;3H6LFT4Pgv0ayy8HZPUFHQ&quot;</td><td>&quot;Green Lane Veterinary Hospital&quot;</td><td>&quot;3015 Main St&quot;</td><td>&quot;Green Lane&quot;</td><td>&quot;PA&quot;</td><td>&quot;18054&quot;</td><td>40.333964</td><td>-75.460804</td><td>4.5</td><td>7</td><td>1</td><td>null</td><td>&quot;Emergency Pet Hospital, Veteri…</td><td>&quot;{&#x27;Monday&#x27;: &#x27;9:0-18:0&#x27;, &#x27;Tuesda…</td></tr><tr><td>&quot;4mYPqTpCjHqx8Ee4TIERXA&quot;</td><td>&quot;Green Lane Naturals&quot;</td><td>&quot;3113 Main St&quot;</td><td>&quot;Green Lane&quot;</td><td>&quot;PA&quot;</td><td>&quot;18054&quot;</td><td>40.33101</td><td>-75.457254</td><td>5.0</td><td>9</td><td>1</td><td>&quot;{&#x27;RestaurantsDelivery&#x27;: &#x27;True&#x27;…</td><td>&quot;Acai Bowls, Coffee &amp; Tea, Juic…</td><td>&quot;{&#x27;Monday&#x27;: &#x27;0:0-0:0&#x27;, &#x27;Wednesd…</td></tr><tr><td>&quot;CNGE5oRnF79TGImAIC1VAQ&quot;</td><td>&quot;Macoby Run Golf Course&quot;</td><td>&quot;5275 McLean Station Rd&quot;</td><td>&quot;Green Lane&quot;</td><td>&quot;PA&quot;</td><td>&quot;18054&quot;</td><td>40.359263</td><td>-75.46853</td><td>4.5</td><td>7</td><td>1</td><td>&quot;{&#x27;BikeParking&#x27;: &#x27;True&#x27;, &#x27;GoodF…</td><td>&quot;Event Planning &amp; Services, Gol…</td><td>&quot;{&#x27;Monday&#x27;: &#x27;7:0-19:0&#x27;, &#x27;Tuesda…</td></tr><tr><td>&quot;zbVfCjygZ5W6Qj5cTVF51Q&quot;</td><td>&quot;Van Pelt Hot Dog&quot;</td><td>&quot;8502 Memorial Dr&quot;</td><td>&quot;Green Lane&quot;</td><td>&quot;PA&quot;</td><td>&quot;18054&quot;</td><td>40.345971</td><td>-75.478371</td><td>4.5</td><td>7</td><td>1</td><td>&quot;{&#x27;RestaurantsDelivery&#x27;: &#x27;False…</td><td>&quot;Food, Restaurants, Food Stands…</td><td>null</td></tr><tr><td>&quot;5XRQJm1HBVK4jnIG0aAjVw&quot;</td><td>&quot;Green Lane Park&quot;</td><td>&quot;2144 Snyder Rd&quot;</td><td>&quot;Green Lane&quot;</td><td>&quot;PA&quot;</td><td>&quot;18074&quot;</td><td>40.328543</td><td>-75.484898</td><td>4.5</td><td>20</td><td>1</td><td>&quot;{&#x27;GoodForKids&#x27;: &#x27;True&#x27;, &#x27;Busin…</td><td>&quot;Fishing, Boating, Active Life,…</td><td>&quot;{&#x27;Monday&#x27;: &#x27;9:0-19:0&#x27;, &#x27;Tuesda…</td></tr></tbody></table></div>"
      ],
      "text/plain": [
       "shape: (6, 14)\n",
       "┌────────────┬────────────┬────────────┬───────┬───┬─────────┬────────────┬────────────┬───────────┐\n",
       "│ business_i ┆ name       ┆ address    ┆ city  ┆ … ┆ is_open ┆ attributes ┆ categories ┆ hours     │\n",
       "│ d          ┆ ---        ┆ ---        ┆ ---   ┆   ┆ ---     ┆ ---        ┆ ---        ┆ ---       │\n",
       "│ ---        ┆ str        ┆ str        ┆ str   ┆   ┆ i64     ┆ str        ┆ str        ┆ str       │\n",
       "│ str        ┆            ┆            ┆       ┆   ┆         ┆            ┆            ┆           │\n",
       "╞════════════╪════════════╪════════════╪═══════╪═══╪═════════╪════════════╪════════════╪═══════════╡\n",
       "│ mWMc6_wTdE ┆ Perkiomen  ┆ 101 Walnut ┆ Green ┆ … ┆ 1       ┆ {'Business ┆ Brewpubs,  ┆ {'Wednesd │\n",
       "│ 0EUBKIGXDV ┆ Valley     ┆ St         ┆ Lane  ┆   ┆         ┆ AcceptsCre ┆ Breweries, ┆ ay': '14: │\n",
       "│ fA         ┆ Brewery    ┆            ┆       ┆   ┆         ┆ ditCards': ┆ Food       ┆ 0-22:0',  │\n",
       "│            ┆            ┆            ┆       ┆   ┆         ┆ …          ┆            ┆ 'Th…      │\n",
       "│ 3H6LFT4Pgv ┆ Green Lane ┆ 3015 Main  ┆ Green ┆ … ┆ 1       ┆ null       ┆ Emergency  ┆ {'Monday' │\n",
       "│ 0ayy8HZPUF ┆ Veterinary ┆ St         ┆ Lane  ┆   ┆         ┆            ┆ Pet        ┆ : '9:0-18 │\n",
       "│ HQ         ┆ Hospital   ┆            ┆       ┆   ┆         ┆            ┆ Hospital,  ┆ :0',      │\n",
       "│            ┆            ┆            ┆       ┆   ┆         ┆            ┆ Veteri…    ┆ 'Tuesda…  │\n",
       "│ 4mYPqTpCjH ┆ Green Lane ┆ 3113 Main  ┆ Green ┆ … ┆ 1       ┆ {'Restaura ┆ Acai       ┆ {'Monday' │\n",
       "│ qx8Ee4TIER ┆ Naturals   ┆ St         ┆ Lane  ┆   ┆         ┆ ntsDeliver ┆ Bowls,     ┆ : '0:0-0: │\n",
       "│ XA         ┆            ┆            ┆       ┆   ┆         ┆ y':        ┆ Coffee &   ┆ 0',       │\n",
       "│            ┆            ┆            ┆       ┆   ┆         ┆ 'True'…    ┆ Tea, Juic… ┆ 'Wednesd… │\n",
       "│ CNGE5oRnF7 ┆ Macoby Run ┆ 5275       ┆ Green ┆ … ┆ 1       ┆ {'BikePark ┆ Event      ┆ {'Monday' │\n",
       "│ 9TGImAIC1V ┆ Golf       ┆ McLean     ┆ Lane  ┆   ┆         ┆ ing':      ┆ Planning & ┆ : '7:0-19 │\n",
       "│ AQ         ┆ Course     ┆ Station Rd ┆       ┆   ┆         ┆ 'True',    ┆ Services,  ┆ :0',      │\n",
       "│            ┆            ┆            ┆       ┆   ┆         ┆ 'GoodF…    ┆ Gol…       ┆ 'Tuesda…  │\n",
       "│ zbVfCjygZ5 ┆ Van Pelt   ┆ 8502       ┆ Green ┆ … ┆ 1       ┆ {'Restaura ┆ Food, Rest ┆ null      │\n",
       "│ W6Qj5cTVF5 ┆ Hot Dog    ┆ Memorial   ┆ Lane  ┆   ┆         ┆ ntsDeliver ┆ aurants,   ┆           │\n",
       "│ 1Q         ┆            ┆ Dr         ┆       ┆   ┆         ┆ y':        ┆ Food       ┆           │\n",
       "│            ┆            ┆            ┆       ┆   ┆         ┆ 'False…    ┆ Stands…    ┆           │\n",
       "│ 5XRQJm1HBV ┆ Green Lane ┆ 2144       ┆ Green ┆ … ┆ 1       ┆ {'GoodForK ┆ Fishing,   ┆ {'Monday' │\n",
       "│ K4jnIG0aAj ┆ Park       ┆ Snyder Rd  ┆ Lane  ┆   ┆         ┆ ids':      ┆ Boating,   ┆ : '9:0-19 │\n",
       "│ Vw         ┆            ┆            ┆       ┆   ┆         ┆ 'True',    ┆ Active     ┆ :0',      │\n",
       "│            ┆            ┆            ┆       ┆   ┆         ┆ 'Busin…    ┆ Life,…     ┆ 'Tuesda…  │\n",
       "└────────────┴────────────┴────────────┴───────┴───┴─────────┴────────────┴────────────┴───────────┘"
      ]
     },
     "execution_count": 40,
     "metadata": {},
     "output_type": "execute_result"
    }
   ],
   "source": [
    "df.filter(\n",
    "    (pl.col(\"stars\") > 4.2),\n",
    "    (pl.col(\"city\") == \"Green Lane\"),\n",
    "    (pl.col(\"is_open\") == 1)\n",
    ")"
   ]
  },
  {
   "cell_type": "markdown",
   "id": "de1078bf",
   "metadata": {},
   "source": [
    "## <strong style=\"color:#5e17eb\"> Conditional Selection </strong>\n"
   ]
  },
  {
   "cell_type": "code",
   "execution_count": 43,
   "id": "f18e341f",
   "metadata": {},
   "outputs": [
    {
     "data": {
      "text/html": [
       "<div><style>\n",
       ".dataframe > thead > tr,\n",
       ".dataframe > tbody > tr {\n",
       "  text-align: right;\n",
       "  white-space: pre-wrap;\n",
       "}\n",
       "</style>\n",
       "<small>shape: (6, 14)</small><table border=\"1\" class=\"dataframe\"><thead><tr><th>business_id</th><th>name</th><th>address</th><th>city</th><th>state</th><th>postal_code</th><th>latitude</th><th>longitude</th><th>stars</th><th>review_count</th><th>is_open</th><th>attributes</th><th>categories</th><th>hours</th></tr><tr><td>str</td><td>str</td><td>str</td><td>str</td><td>str</td><td>str</td><td>f64</td><td>f64</td><td>f64</td><td>i64</td><td>i64</td><td>str</td><td>str</td><td>str</td></tr></thead><tbody><tr><td>&quot;mWMc6_wTdE0EUBKIGXDVfA&quot;</td><td>&quot;Perkiomen Valley Brewery&quot;</td><td>&quot;101 Walnut St&quot;</td><td>&quot;Green Lane&quot;</td><td>&quot;PA&quot;</td><td>&quot;18054&quot;</td><td>40.338183</td><td>-75.471659</td><td>4.5</td><td>13</td><td>1</td><td>&quot;{&#x27;BusinessAcceptsCreditCards&#x27;:…</td><td>&quot;Brewpubs, Breweries, Food&quot;</td><td>&quot;{&#x27;Wednesday&#x27;: &#x27;14:0-22:0&#x27;, &#x27;Th…</td></tr><tr><td>&quot;3H6LFT4Pgv0ayy8HZPUFHQ&quot;</td><td>&quot;Green Lane Veterinary Hospital&quot;</td><td>&quot;3015 Main St&quot;</td><td>&quot;Green Lane&quot;</td><td>&quot;PA&quot;</td><td>&quot;18054&quot;</td><td>40.333964</td><td>-75.460804</td><td>4.5</td><td>7</td><td>1</td><td>null</td><td>&quot;Emergency Pet Hospital, Veteri…</td><td>&quot;{&#x27;Monday&#x27;: &#x27;9:0-18:0&#x27;, &#x27;Tuesda…</td></tr><tr><td>&quot;4mYPqTpCjHqx8Ee4TIERXA&quot;</td><td>&quot;Green Lane Naturals&quot;</td><td>&quot;3113 Main St&quot;</td><td>&quot;Green Lane&quot;</td><td>&quot;PA&quot;</td><td>&quot;18054&quot;</td><td>40.33101</td><td>-75.457254</td><td>5.0</td><td>9</td><td>1</td><td>&quot;{&#x27;RestaurantsDelivery&#x27;: &#x27;True&#x27;…</td><td>&quot;Acai Bowls, Coffee &amp; Tea, Juic…</td><td>&quot;{&#x27;Monday&#x27;: &#x27;0:0-0:0&#x27;, &#x27;Wednesd…</td></tr><tr><td>&quot;CNGE5oRnF79TGImAIC1VAQ&quot;</td><td>&quot;Macoby Run Golf Course&quot;</td><td>&quot;5275 McLean Station Rd&quot;</td><td>&quot;Green Lane&quot;</td><td>&quot;PA&quot;</td><td>&quot;18054&quot;</td><td>40.359263</td><td>-75.46853</td><td>4.5</td><td>7</td><td>1</td><td>&quot;{&#x27;BikeParking&#x27;: &#x27;True&#x27;, &#x27;GoodF…</td><td>&quot;Event Planning &amp; Services, Gol…</td><td>&quot;{&#x27;Monday&#x27;: &#x27;7:0-19:0&#x27;, &#x27;Tuesda…</td></tr><tr><td>&quot;zbVfCjygZ5W6Qj5cTVF51Q&quot;</td><td>&quot;Van Pelt Hot Dog&quot;</td><td>&quot;8502 Memorial Dr&quot;</td><td>&quot;Green Lane&quot;</td><td>&quot;PA&quot;</td><td>&quot;18054&quot;</td><td>40.345971</td><td>-75.478371</td><td>4.5</td><td>7</td><td>1</td><td>&quot;{&#x27;RestaurantsDelivery&#x27;: &#x27;False…</td><td>&quot;Food, Restaurants, Food Stands…</td><td>null</td></tr><tr><td>&quot;5XRQJm1HBVK4jnIG0aAjVw&quot;</td><td>&quot;Green Lane Park&quot;</td><td>&quot;2144 Snyder Rd&quot;</td><td>&quot;Green Lane&quot;</td><td>&quot;PA&quot;</td><td>&quot;18074&quot;</td><td>40.328543</td><td>-75.484898</td><td>4.5</td><td>20</td><td>1</td><td>&quot;{&#x27;GoodForKids&#x27;: &#x27;True&#x27;, &#x27;Busin…</td><td>&quot;Fishing, Boating, Active Life,…</td><td>&quot;{&#x27;Monday&#x27;: &#x27;9:0-19:0&#x27;, &#x27;Tuesda…</td></tr></tbody></table></div>"
      ],
      "text/plain": [
       "shape: (6, 14)\n",
       "┌────────────┬────────────┬────────────┬───────┬───┬─────────┬────────────┬────────────┬───────────┐\n",
       "│ business_i ┆ name       ┆ address    ┆ city  ┆ … ┆ is_open ┆ attributes ┆ categories ┆ hours     │\n",
       "│ d          ┆ ---        ┆ ---        ┆ ---   ┆   ┆ ---     ┆ ---        ┆ ---        ┆ ---       │\n",
       "│ ---        ┆ str        ┆ str        ┆ str   ┆   ┆ i64     ┆ str        ┆ str        ┆ str       │\n",
       "│ str        ┆            ┆            ┆       ┆   ┆         ┆            ┆            ┆           │\n",
       "╞════════════╪════════════╪════════════╪═══════╪═══╪═════════╪════════════╪════════════╪═══════════╡\n",
       "│ mWMc6_wTdE ┆ Perkiomen  ┆ 101 Walnut ┆ Green ┆ … ┆ 1       ┆ {'Business ┆ Brewpubs,  ┆ {'Wednesd │\n",
       "│ 0EUBKIGXDV ┆ Valley     ┆ St         ┆ Lane  ┆   ┆         ┆ AcceptsCre ┆ Breweries, ┆ ay': '14: │\n",
       "│ fA         ┆ Brewery    ┆            ┆       ┆   ┆         ┆ ditCards': ┆ Food       ┆ 0-22:0',  │\n",
       "│            ┆            ┆            ┆       ┆   ┆         ┆ …          ┆            ┆ 'Th…      │\n",
       "│ 3H6LFT4Pgv ┆ Green Lane ┆ 3015 Main  ┆ Green ┆ … ┆ 1       ┆ null       ┆ Emergency  ┆ {'Monday' │\n",
       "│ 0ayy8HZPUF ┆ Veterinary ┆ St         ┆ Lane  ┆   ┆         ┆            ┆ Pet        ┆ : '9:0-18 │\n",
       "│ HQ         ┆ Hospital   ┆            ┆       ┆   ┆         ┆            ┆ Hospital,  ┆ :0',      │\n",
       "│            ┆            ┆            ┆       ┆   ┆         ┆            ┆ Veteri…    ┆ 'Tuesda…  │\n",
       "│ 4mYPqTpCjH ┆ Green Lane ┆ 3113 Main  ┆ Green ┆ … ┆ 1       ┆ {'Restaura ┆ Acai       ┆ {'Monday' │\n",
       "│ qx8Ee4TIER ┆ Naturals   ┆ St         ┆ Lane  ┆   ┆         ┆ ntsDeliver ┆ Bowls,     ┆ : '0:0-0: │\n",
       "│ XA         ┆            ┆            ┆       ┆   ┆         ┆ y':        ┆ Coffee &   ┆ 0',       │\n",
       "│            ┆            ┆            ┆       ┆   ┆         ┆ 'True'…    ┆ Tea, Juic… ┆ 'Wednesd… │\n",
       "│ CNGE5oRnF7 ┆ Macoby Run ┆ 5275       ┆ Green ┆ … ┆ 1       ┆ {'BikePark ┆ Event      ┆ {'Monday' │\n",
       "│ 9TGImAIC1V ┆ Golf       ┆ McLean     ┆ Lane  ┆   ┆         ┆ ing':      ┆ Planning & ┆ : '7:0-19 │\n",
       "│ AQ         ┆ Course     ┆ Station Rd ┆       ┆   ┆         ┆ 'True',    ┆ Services,  ┆ :0',      │\n",
       "│            ┆            ┆            ┆       ┆   ┆         ┆ 'GoodF…    ┆ Gol…       ┆ 'Tuesda…  │\n",
       "│ zbVfCjygZ5 ┆ Van Pelt   ┆ 8502       ┆ Green ┆ … ┆ 1       ┆ {'Restaura ┆ Food, Rest ┆ null      │\n",
       "│ W6Qj5cTVF5 ┆ Hot Dog    ┆ Memorial   ┆ Lane  ┆   ┆         ┆ ntsDeliver ┆ aurants,   ┆           │\n",
       "│ 1Q         ┆            ┆ Dr         ┆       ┆   ┆         ┆ y':        ┆ Food       ┆           │\n",
       "│            ┆            ┆            ┆       ┆   ┆         ┆ 'False…    ┆ Stands…    ┆           │\n",
       "│ 5XRQJm1HBV ┆ Green Lane ┆ 2144       ┆ Green ┆ … ┆ 1       ┆ {'GoodForK ┆ Fishing,   ┆ {'Monday' │\n",
       "│ K4jnIG0aAj ┆ Park       ┆ Snyder Rd  ┆ Lane  ┆   ┆         ┆ ids':      ┆ Boating,   ┆ : '9:0-19 │\n",
       "│ Vw         ┆            ┆            ┆       ┆   ┆         ┆ 'True',    ┆ Active     ┆ :0',      │\n",
       "│            ┆            ┆            ┆       ┆   ┆         ┆ 'Busin…    ┆ Life,…     ┆ 'Tuesda…  │\n",
       "└────────────┴────────────┴────────────┴───────┴───┴─────────┴────────────┴────────────┴───────────┘"
      ]
     },
     "execution_count": 43,
     "metadata": {},
     "output_type": "execute_result"
    }
   ],
   "source": [
    "df.filter(\n",
    "    (pl.col(\"stars\") > 4.2) &\n",
    "    (pl.col(\"city\") == \"Green Lane\")\n",
    ")"
   ]
  },
  {
   "cell_type": "markdown",
   "id": "6145bf52",
   "metadata": {},
   "source": [
    "## <strong style=\"color:#5e17eb\"> Expression based Selection </strong>\n"
   ]
  },
  {
   "cell_type": "code",
   "execution_count": 45,
   "id": "ab7738bf",
   "metadata": {},
   "outputs": [
    {
     "data": {
      "text/html": [
       "<div><style>\n",
       ".dataframe > thead > tr,\n",
       ".dataframe > tbody > tr {\n",
       "  text-align: right;\n",
       "  white-space: pre-wrap;\n",
       "}\n",
       "</style>\n",
       "<small>shape: (150_346, 1)</small><table border=\"1\" class=\"dataframe\"><thead><tr><th>star_plus_ten</th></tr><tr><td>f64</td></tr></thead><tbody><tr><td>15.0</td></tr><tr><td>13.0</td></tr><tr><td>13.5</td></tr><tr><td>14.0</td></tr><tr><td>14.5</td></tr><tr><td>&hellip;</td></tr><tr><td>13.0</td></tr><tr><td>14.0</td></tr><tr><td>13.5</td></tr><tr><td>14.0</td></tr><tr><td>14.5</td></tr></tbody></table></div>"
      ],
      "text/plain": [
       "shape: (150_346, 1)\n",
       "┌───────────────┐\n",
       "│ star_plus_ten │\n",
       "│ ---           │\n",
       "│ f64           │\n",
       "╞═══════════════╡\n",
       "│ 15.0          │\n",
       "│ 13.0          │\n",
       "│ 13.5          │\n",
       "│ 14.0          │\n",
       "│ 14.5          │\n",
       "│ …             │\n",
       "│ 13.0          │\n",
       "│ 14.0          │\n",
       "│ 13.5          │\n",
       "│ 14.0          │\n",
       "│ 14.5          │\n",
       "└───────────────┘"
      ]
     },
     "execution_count": 45,
     "metadata": {},
     "output_type": "execute_result"
    }
   ],
   "source": [
    "df.select(\n",
    "   (pl.col(\"stars\") + 10).alias(\"star_plus_ten\")\n",
    ")"
   ]
  },
  {
   "cell_type": "markdown",
   "id": "aa83d627",
   "metadata": {},
   "source": [
    "## <strong style=\"color:#5e17eb\"> Summary </strong>\n"
   ]
  },
  {
   "cell_type": "markdown",
   "id": "b23a59b9",
   "metadata": {},
   "source": [
    "\n",
    "**Goal: View only relevant parts of your data**\n",
    "\n",
    "| **Sub-Topic**                    | **Description / Use**          | **Example**                                                  |\n",
    "| -------------------------------- | ------------------------------ | ------------------------------------------------------------ |\n",
    "| **1.1 Column Selection**         | Select one or multiple columns | `df.select([\"name\", \"price\"])`                               |\n",
    "| **1.2 Row Selection (by index)** | Select rows using slicing      | `df[0:5]` or `df.slice(0, 5)`                                |\n",
    "| **1.3 Cell Selection**           | Select row + column            | `df[3, \"name\"]`                                              |\n",
    "| **1.4 Boolean Row Filtering**    | Select rows by condition       | `df.filter(pl.col(\"price\") > 100)`                           |\n",
    "| **1.5 Conditional Selection**    | Multiple conditions            | `df.filter((pl.col(\"price\") > 50) & (pl.col(\"rating\") > 4))` |\n",
    "| **1.6 Select with `pl.col()`**   | Expression-based selection     | `df.select(pl.col(\"price\") + 10)`                            |\n"
   ]
  },
  {
   "cell_type": "markdown",
   "id": "8a200b2e",
   "metadata": {},
   "source": [
    "# <strong style=\"color:#5e17eb\"> II. Editing / Modifying the Data Frame </strong>\n"
   ]
  },
  {
   "cell_type": "markdown",
   "id": "aebfc680",
   "metadata": {},
   "source": [
    "## <strong style=\"color:#5e17eb\"> Add New Column </strong>\n"
   ]
  },
  {
   "cell_type": "code",
   "execution_count": 12,
   "id": "283cde09",
   "metadata": {},
   "outputs": [
    {
     "data": {
      "text/html": [
       "<div><style>\n",
       ".dataframe > thead > tr,\n",
       ".dataframe > tbody > tr {\n",
       "  text-align: right;\n",
       "  white-space: pre-wrap;\n",
       "}\n",
       "</style>\n",
       "<small>shape: (150_346, 1)</small><table border=\"1\" class=\"dataframe\"><thead><tr><th>review_count_plus_stars</th></tr><tr><td>f64</td></tr></thead><tbody><tr><td>12.0</td></tr><tr><td>18.0</td></tr><tr><td>25.5</td></tr><tr><td>84.0</td></tr><tr><td>17.5</td></tr><tr><td>&hellip;</td></tr><tr><td>16.0</td></tr><tr><td>9.0</td></tr><tr><td>11.5</td></tr><tr><td>28.0</td></tr><tr><td>13.5</td></tr></tbody></table></div>"
      ],
      "text/plain": [
       "shape: (150_346, 1)\n",
       "┌─────────────────────────┐\n",
       "│ review_count_plus_stars │\n",
       "│ ---                     │\n",
       "│ f64                     │\n",
       "╞═════════════════════════╡\n",
       "│ 12.0                    │\n",
       "│ 18.0                    │\n",
       "│ 25.5                    │\n",
       "│ 84.0                    │\n",
       "│ 17.5                    │\n",
       "│ …                       │\n",
       "│ 16.0                    │\n",
       "│ 9.0                     │\n",
       "│ 11.5                    │\n",
       "│ 28.0                    │\n",
       "│ 13.5                    │\n",
       "└─────────────────────────┘"
      ]
     },
     "execution_count": 12,
     "metadata": {},
     "output_type": "execute_result"
    }
   ],
   "source": [
    "df.with_columns(\n",
    "    (pl.col(\"review_count\") + (pl.col(\"stars\"))).alias(\"review_count_plus_stars\") \n",
    ").select([\"review_count_plus_stars\"])"
   ]
  },
  {
   "cell_type": "code",
   "execution_count": 6,
   "id": "639d0ebb",
   "metadata": {},
   "outputs": [
    {
     "data": {
      "text/html": [
       "<div><style>\n",
       ".dataframe > thead > tr,\n",
       ".dataframe > tbody > tr {\n",
       "  text-align: right;\n",
       "  white-space: pre-wrap;\n",
       "}\n",
       "</style>\n",
       "<small>shape: (150_346, 2)</small><table border=\"1\" class=\"dataframe\"><thead><tr><th>double_stars</th><th>len_name</th></tr><tr><td>f64</td><td>u32</td></tr></thead><tbody><tr><td>10.0</td><td>24</td></tr><tr><td>6.0</td><td>13</td></tr><tr><td>7.0</td><td>6</td></tr><tr><td>8.0</td><td>18</td></tr><tr><td>9.0</td><td>24</td></tr><tr><td>&hellip;</td><td>&hellip;</td></tr><tr><td>6.0</td><td>12</td></tr><tr><td>8.0</td><td>20</td></tr><tr><td>7.0</td><td>17</td></tr><tr><td>8.0</td><td>24</td></tr><tr><td>9.0</td><td>7</td></tr></tbody></table></div>"
      ],
      "text/plain": [
       "shape: (150_346, 2)\n",
       "┌──────────────┬──────────┐\n",
       "│ double_stars ┆ len_name │\n",
       "│ ---          ┆ ---      │\n",
       "│ f64          ┆ u32      │\n",
       "╞══════════════╪══════════╡\n",
       "│ 10.0         ┆ 24       │\n",
       "│ 6.0          ┆ 13       │\n",
       "│ 7.0          ┆ 6        │\n",
       "│ 8.0          ┆ 18       │\n",
       "│ 9.0          ┆ 24       │\n",
       "│ …            ┆ …        │\n",
       "│ 6.0          ┆ 12       │\n",
       "│ 8.0          ┆ 20       │\n",
       "│ 7.0          ┆ 17       │\n",
       "│ 8.0          ┆ 24       │\n",
       "│ 9.0          ┆ 7        │\n",
       "└──────────────┴──────────┘"
      ]
     },
     "execution_count": 6,
     "metadata": {},
     "output_type": "execute_result"
    }
   ],
   "source": [
    "# Multiple columns\n",
    "df.with_columns([\n",
    "    (pl.col(\"stars\") * 2).alias(\"double_stars\"),\n",
    "    (pl.col(\"name\").str.len_chars().alias(\"len_name\"))\n",
    "])[[\"double_stars\", \"len_name\"]]"
   ]
  },
  {
   "cell_type": "code",
   "execution_count": 7,
   "id": "4ab3fb72",
   "metadata": {},
   "outputs": [
    {
     "data": {
      "text/html": [
       "<div><style>\n",
       ".dataframe > thead > tr,\n",
       ".dataframe > tbody > tr {\n",
       "  text-align: right;\n",
       "  white-space: pre-wrap;\n",
       "}\n",
       "</style>\n",
       "<small>shape: (150_346,)</small><table border=\"1\" class=\"dataframe\"><thead><tr><th>double_stars</th></tr><tr><td>f64</td></tr></thead><tbody><tr><td>10.0</td></tr><tr><td>6.0</td></tr><tr><td>7.0</td></tr><tr><td>8.0</td></tr><tr><td>9.0</td></tr><tr><td>&hellip;</td></tr><tr><td>6.0</td></tr><tr><td>8.0</td></tr><tr><td>7.0</td></tr><tr><td>8.0</td></tr><tr><td>9.0</td></tr></tbody></table></div>"
      ],
      "text/plain": [
       "shape: (150_346,)\n",
       "Series: 'double_stars' [f64]\n",
       "[\n",
       "\t10.0\n",
       "\t6.0\n",
       "\t7.0\n",
       "\t8.0\n",
       "\t9.0\n",
       "\t…\n",
       "\t6.0\n",
       "\t8.0\n",
       "\t7.0\n",
       "\t8.0\n",
       "\t9.0\n",
       "]"
      ]
     },
     "execution_count": 7,
     "metadata": {},
     "output_type": "execute_result"
    }
   ],
   "source": [
    "# single columns\n",
    "df.with_columns(\n",
    "     (pl.col(\"stars\") * 2).alias(\"double_stars\")\n",
    ")[\"double_stars\"]"
   ]
  },
  {
   "cell_type": "markdown",
   "id": "b5ac08c9",
   "metadata": {},
   "source": [
    "## <strong style=\"color:#5e17eb\">  Modify Column Values\t </strong>\n"
   ]
  },
  {
   "cell_type": "code",
   "execution_count": 15,
   "id": "fde9d48e",
   "metadata": {},
   "outputs": [
    {
     "data": {
      "text/html": [
       "<div><style>\n",
       ".dataframe > thead > tr,\n",
       ".dataframe > tbody > tr {\n",
       "  text-align: right;\n",
       "  white-space: pre-wrap;\n",
       "}\n",
       "</style>\n",
       "<small>shape: (150_346,)</small><table border=\"1\" class=\"dataframe\"><thead><tr><th>stars_2</th></tr><tr><td>f64</td></tr></thead><tbody><tr><td>7.0</td></tr><tr><td>5.0</td></tr><tr><td>5.5</td></tr><tr><td>6.0</td></tr><tr><td>6.5</td></tr><tr><td>&hellip;</td></tr><tr><td>5.0</td></tr><tr><td>6.0</td></tr><tr><td>5.5</td></tr><tr><td>6.0</td></tr><tr><td>6.5</td></tr></tbody></table></div>"
      ],
      "text/plain": [
       "shape: (150_346,)\n",
       "Series: 'stars_2' [f64]\n",
       "[\n",
       "\t7.0\n",
       "\t5.0\n",
       "\t5.5\n",
       "\t6.0\n",
       "\t6.5\n",
       "\t…\n",
       "\t5.0\n",
       "\t6.0\n",
       "\t5.5\n",
       "\t6.0\n",
       "\t6.5\n",
       "]"
      ]
     },
     "execution_count": 15,
     "metadata": {},
     "output_type": "execute_result"
    }
   ],
   "source": [
    "df.with_columns(\n",
    "    (pl.col(\"stars\") + 2).alias(\"stars_2\")\n",
    ")['stars_2']"
   ]
  },
  {
   "cell_type": "markdown",
   "id": "39f1ac0a",
   "metadata": {},
   "source": [
    "## <strong style=\"color:#5e17eb\">Rename Columns  </strong>\n"
   ]
  },
  {
   "cell_type": "code",
   "execution_count": 18,
   "id": "004d8b16",
   "metadata": {},
   "outputs": [
    {
     "data": {
      "text/html": [
       "<div><style>\n",
       ".dataframe > thead > tr,\n",
       ".dataframe > tbody > tr {\n",
       "  text-align: right;\n",
       "  white-space: pre-wrap;\n",
       "}\n",
       "</style>\n",
       "<small>shape: (1, 14)</small><table border=\"1\" class=\"dataframe\"><thead><tr><th>business_id</th><th>name</th><th>address</th><th>city</th><th>state</th><th>postal_code</th><th>latitude</th><th>longitude</th><th>stars</th><th>review_count</th><th>is_open</th><th>attributes</th><th>categories</th><th>week_hours</th></tr><tr><td>str</td><td>str</td><td>str</td><td>str</td><td>str</td><td>str</td><td>f64</td><td>f64</td><td>f64</td><td>i64</td><td>i64</td><td>str</td><td>str</td><td>str</td></tr></thead><tbody><tr><td>&quot;2KUJThsDLEIb8_D1x0SoKg&quot;</td><td>&quot;Uplift Intimate Apparel&quot;</td><td>&quot;711 Veterans Way, Ste 136&quot;</td><td>&quot;Carmel&quot;</td><td>&quot;IN&quot;</td><td>&quot;46032&quot;</td><td>39.970093</td><td>-86.128117</td><td>5.0</td><td>18</td><td>1</td><td>&quot;{&#x27;BikeParking&#x27;: &#x27;True&#x27;, &#x27;Wheel…</td><td>&quot;Lingerie, Fashion, Accessories…</td><td>&quot;{&#x27;Monday&#x27;: &#x27;0:0-0:0&#x27;, &#x27;Tuesday…</td></tr></tbody></table></div>"
      ],
      "text/plain": [
       "shape: (1, 14)\n",
       "┌────────────┬────────────┬────────────┬────────┬───┬─────────┬────────────┬───────────┬───────────┐\n",
       "│ business_i ┆ name       ┆ address    ┆ city   ┆ … ┆ is_open ┆ attributes ┆ categorie ┆ week_hour │\n",
       "│ d          ┆ ---        ┆ ---        ┆ ---    ┆   ┆ ---     ┆ ---        ┆ s         ┆ s         │\n",
       "│ ---        ┆ str        ┆ str        ┆ str    ┆   ┆ i64     ┆ str        ┆ ---       ┆ ---       │\n",
       "│ str        ┆            ┆            ┆        ┆   ┆         ┆            ┆ str       ┆ str       │\n",
       "╞════════════╪════════════╪════════════╪════════╪═══╪═════════╪════════════╪═══════════╪═══════════╡\n",
       "│ 2KUJThsDLE ┆ Uplift     ┆ 711        ┆ Carmel ┆ … ┆ 1       ┆ {'BikePark ┆ Lingerie, ┆ {'Monday' │\n",
       "│ Ib8_D1x0So ┆ Intimate   ┆ Veterans   ┆        ┆   ┆         ┆ ing':      ┆ Fashion,  ┆ : '0:0-0: │\n",
       "│ Kg         ┆ Apparel    ┆ Way, Ste   ┆        ┆   ┆         ┆ 'True',    ┆ Accessori ┆ 0',       │\n",
       "│            ┆            ┆ 136        ┆        ┆   ┆         ┆ 'Wheel…    ┆ es…       ┆ 'Tuesday… │\n",
       "└────────────┴────────────┴────────────┴────────┴───┴─────────┴────────────┴───────────┴───────────┘"
      ]
     },
     "execution_count": 18,
     "metadata": {},
     "output_type": "execute_result"
    }
   ],
   "source": [
    "df.rename({ \"hours\" : \"week_hours\"}).sample()"
   ]
  },
  {
   "cell_type": "markdown",
   "id": "68656aae",
   "metadata": {},
   "source": [
    "## <strong style=\"color:#5e17eb\">   Drop Columns</strong>\n"
   ]
  },
  {
   "cell_type": "code",
   "execution_count": 20,
   "id": "caa61cca",
   "metadata": {},
   "outputs": [
    {
     "data": {
      "text/html": [
       "<div><style>\n",
       ".dataframe > thead > tr,\n",
       ".dataframe > tbody > tr {\n",
       "  text-align: right;\n",
       "  white-space: pre-wrap;\n",
       "}\n",
       "</style>\n",
       "<small>shape: (1, 13)</small><table border=\"1\" class=\"dataframe\"><thead><tr><th>business_id</th><th>name</th><th>address</th><th>city</th><th>state</th><th>latitude</th><th>longitude</th><th>stars</th><th>review_count</th><th>is_open</th><th>attributes</th><th>categories</th><th>hours</th></tr><tr><td>str</td><td>str</td><td>str</td><td>str</td><td>str</td><td>f64</td><td>f64</td><td>f64</td><td>i64</td><td>i64</td><td>str</td><td>str</td><td>str</td></tr></thead><tbody><tr><td>&quot;HUQi0RDGPgLOCNq6j30ykQ&quot;</td><td>&quot;The Cipra Method&quot;</td><td>&quot;6053 Corporal Ln&quot;</td><td>&quot;Boise&quot;</td><td>&quot;ID&quot;</td><td>43.608573</td><td>-116.257718</td><td>5.0</td><td>6</td><td>0</td><td>&quot;{&#x27;GoodForKids&#x27;: &#x27;False&#x27;, &#x27;ByAp…</td><td>&quot;Pilates, Barre Classes, Dance …</td><td>&quot;{&#x27;Monday&#x27;: &#x27;9:15-19:30&#x27;, &#x27;Tues…</td></tr></tbody></table></div>"
      ],
      "text/plain": [
       "shape: (1, 13)\n",
       "┌────────────┬────────────┬────────────┬───────┬───┬─────────┬────────────┬────────────┬───────────┐\n",
       "│ business_i ┆ name       ┆ address    ┆ city  ┆ … ┆ is_open ┆ attributes ┆ categories ┆ hours     │\n",
       "│ d          ┆ ---        ┆ ---        ┆ ---   ┆   ┆ ---     ┆ ---        ┆ ---        ┆ ---       │\n",
       "│ ---        ┆ str        ┆ str        ┆ str   ┆   ┆ i64     ┆ str        ┆ str        ┆ str       │\n",
       "│ str        ┆            ┆            ┆       ┆   ┆         ┆            ┆            ┆           │\n",
       "╞════════════╪════════════╪════════════╪═══════╪═══╪═════════╪════════════╪════════════╪═══════════╡\n",
       "│ HUQi0RDGPg ┆ The Cipra  ┆ 6053       ┆ Boise ┆ … ┆ 0       ┆ {'GoodForK ┆ Pilates,   ┆ {'Monday' │\n",
       "│ LOCNq6j30y ┆ Method     ┆ Corporal   ┆       ┆   ┆         ┆ ids':      ┆ Barre      ┆ : '9:15-1 │\n",
       "│ kQ         ┆            ┆ Ln         ┆       ┆   ┆         ┆ 'False',   ┆ Classes,   ┆ 9:30',    │\n",
       "│            ┆            ┆            ┆       ┆   ┆         ┆ 'ByAp…     ┆ Dance …    ┆ 'Tues…    │\n",
       "└────────────┴────────────┴────────────┴───────┴───┴─────────┴────────────┴────────────┴───────────┘"
      ]
     },
     "execution_count": 20,
     "metadata": {},
     "output_type": "execute_result"
    }
   ],
   "source": [
    "df.drop([\"postal_code\"]).sample()"
   ]
  },
  {
   "cell_type": "markdown",
   "id": "65bea2b4",
   "metadata": {},
   "source": [
    "## <strong style=\"color:#5e17eb\">  Change Data Types </strong>\n"
   ]
  },
  {
   "cell_type": "code",
   "execution_count": 27,
   "id": "dc143152",
   "metadata": {},
   "outputs": [
    {
     "data": {
      "text/plain": [
       "Schema([('business_id', String),\n",
       "        ('name', String),\n",
       "        ('address', String),\n",
       "        ('city', String),\n",
       "        ('state', String),\n",
       "        ('postal_code', String),\n",
       "        ('latitude', Float64),\n",
       "        ('longitude', Float64),\n",
       "        ('stars', Int32),\n",
       "        ('review_count', Int64),\n",
       "        ('is_open', Int64),\n",
       "        ('attributes', String),\n",
       "        ('categories', String),\n",
       "        ('hours', String)])"
      ]
     },
     "execution_count": 27,
     "metadata": {},
     "output_type": "execute_result"
    }
   ],
   "source": [
    "df.with_columns(\n",
    "    (pl.col(\"stars\")).cast(pl.Int32)\n",
    ").schema"
   ]
  },
  {
   "cell_type": "markdown",
   "id": "31004393",
   "metadata": {},
   "source": [
    "## <strong style=\"color:#5e17eb\">  Fill Missing Values</strong>\n"
   ]
  },
  {
   "cell_type": "code",
   "execution_count": 28,
   "id": "44c84873",
   "metadata": {},
   "outputs": [
    {
     "data": {
      "text/html": [
       "<div><style>\n",
       ".dataframe > thead > tr,\n",
       ".dataframe > tbody > tr {\n",
       "  text-align: right;\n",
       "  white-space: pre-wrap;\n",
       "}\n",
       "</style>\n",
       "<small>shape: (1, 14)</small><table border=\"1\" class=\"dataframe\"><thead><tr><th>business_id</th><th>name</th><th>address</th><th>city</th><th>state</th><th>postal_code</th><th>latitude</th><th>longitude</th><th>stars</th><th>review_count</th><th>is_open</th><th>attributes</th><th>categories</th><th>hours</th></tr><tr><td>u32</td><td>u32</td><td>u32</td><td>u32</td><td>u32</td><td>u32</td><td>u32</td><td>u32</td><td>u32</td><td>u32</td><td>u32</td><td>u32</td><td>u32</td><td>u32</td></tr></thead><tbody><tr><td>0</td><td>0</td><td>5127</td><td>0</td><td>0</td><td>73</td><td>0</td><td>0</td><td>0</td><td>0</td><td>0</td><td>13744</td><td>103</td><td>23223</td></tr></tbody></table></div>"
      ],
      "text/plain": [
       "shape: (1, 14)\n",
       "┌─────────────┬──────┬─────────┬──────┬───┬─────────┬────────────┬────────────┬───────┐\n",
       "│ business_id ┆ name ┆ address ┆ city ┆ … ┆ is_open ┆ attributes ┆ categories ┆ hours │\n",
       "│ ---         ┆ ---  ┆ ---     ┆ ---  ┆   ┆ ---     ┆ ---        ┆ ---        ┆ ---   │\n",
       "│ u32         ┆ u32  ┆ u32     ┆ u32  ┆   ┆ u32     ┆ u32        ┆ u32        ┆ u32   │\n",
       "╞═════════════╪══════╪═════════╪══════╪═══╪═════════╪════════════╪════════════╪═══════╡\n",
       "│ 0           ┆ 0    ┆ 5127    ┆ 0    ┆ … ┆ 0       ┆ 13744      ┆ 103        ┆ 23223 │\n",
       "└─────────────┴──────┴─────────┴──────┴───┴─────────┴────────────┴────────────┴───────┘"
      ]
     },
     "execution_count": 28,
     "metadata": {},
     "output_type": "execute_result"
    }
   ],
   "source": [
    "df.null_count()"
   ]
  },
  {
   "cell_type": "code",
   "execution_count": null,
   "id": "fd037bdc",
   "metadata": {},
   "outputs": [
    {
     "data": {
      "text/plain": [
       "3.5967235576603303"
      ]
     },
     "execution_count": 38,
     "metadata": {},
     "output_type": "execute_result"
    }
   ],
   "source": [
    "# fill with mean values\n",
    "mean_val = df.select(pl.col(\"stars\").mean()).item()\n",
    "mean_val"
   ]
  },
  {
   "cell_type": "code",
   "execution_count": 41,
   "id": "8a8d178a",
   "metadata": {},
   "outputs": [
    {
     "data": {
      "text/html": [
       "<div><style>\n",
       ".dataframe > thead > tr,\n",
       ".dataframe > tbody > tr {\n",
       "  text-align: right;\n",
       "  white-space: pre-wrap;\n",
       "}\n",
       "</style>\n",
       "<small>shape: (3,)</small><table border=\"1\" class=\"dataframe\"><thead><tr><th>stars_mean</th></tr><tr><td>f64</td></tr></thead><tbody><tr><td>3.5</td></tr><tr><td>3.5</td></tr><tr><td>1.5</td></tr></tbody></table></div>"
      ],
      "text/plain": [
       "shape: (3,)\n",
       "Series: 'stars_mean' [f64]\n",
       "[\n",
       "\t3.5\n",
       "\t3.5\n",
       "\t1.5\n",
       "]"
      ]
     },
     "execution_count": 41,
     "metadata": {},
     "output_type": "execute_result"
    }
   ],
   "source": [
    "df.with_columns(\n",
    "    (pl.col(\"stars\").fill_null(mean_val)).alias(\"stars_mean\")\n",
    ")['stars_mean'].sample(3)"
   ]
  },
  {
   "cell_type": "code",
   "execution_count": 43,
   "id": "5cd68edb",
   "metadata": {},
   "outputs": [
    {
     "data": {
      "text/html": [
       "<div><style>\n",
       ".dataframe > thead > tr,\n",
       ".dataframe > tbody > tr {\n",
       "  text-align: right;\n",
       "  white-space: pre-wrap;\n",
       "}\n",
       "</style>\n",
       "<small>shape: (3,)</small><table border=\"1\" class=\"dataframe\"><thead><tr><th>stars_no_nan</th></tr><tr><td>f64</td></tr></thead><tbody><tr><td>1.0</td></tr><tr><td>3.5</td></tr><tr><td>3.5</td></tr></tbody></table></div>"
      ],
      "text/plain": [
       "shape: (3,)\n",
       "Series: 'stars_no_nan' [f64]\n",
       "[\n",
       "\t1.0\n",
       "\t3.5\n",
       "\t3.5\n",
       "]"
      ]
     },
     "execution_count": 43,
     "metadata": {},
     "output_type": "execute_result"
    }
   ],
   "source": [
    "df.with_columns(\n",
    "    pl.col(\"stars\").fill_nan(0).alias(\"stars_no_nan\")\n",
    ")['stars_no_nan'].sample(3)"
   ]
  },
  {
   "cell_type": "code",
   "execution_count": null,
   "id": "116034ec",
   "metadata": {},
   "outputs": [
    {
     "data": {
      "text/plain": [
       "(5127, 16)"
      ]
     },
     "execution_count": 58,
     "metadata": {},
     "output_type": "execute_result"
    }
   ],
   "source": [
    "# Null values fill with the unknown\n",
    "df = df.with_columns(\n",
    "    (pl.col(\"address\").fill_null(\"Unknown\")).alias(\"fill_address\")\n",
    ")\n",
    "\n",
    "df.filter(pl.col(\"fill_address\") == \"Unknown\").shape"
   ]
  },
  {
   "cell_type": "markdown",
   "id": "88962136",
   "metadata": {},
   "source": [
    "| Fill Method           | Code Example                                             |\n",
    "| --------------------- | -------------------------------------------------------- |\n",
    "| Constant              | `fill_null(0)` or `fill_null(\"Unknown\")`                 |\n",
    "| Mean                  | `fill_null(df[\"col\"].mean())` (use `.item()` to extract) |\n",
    "| Forward Fill (ffill)  | `fill_null(strategy=\"forward\")`                          |\n",
    "| Backward Fill (bfill) | `fill_null(strategy=\"backward\")`                         |\n",
    "| Fill NaN (not null)   | `fill_nan(0)`                                            |\n"
   ]
  },
  {
   "cell_type": "markdown",
   "id": "7fbcbeb9",
   "metadata": {},
   "source": [
    "## <strong style=\"color:#5e17eb\">   Replace Values</strong>\n"
   ]
  },
  {
   "cell_type": "code",
   "execution_count": 62,
   "id": "2b1df2d0",
   "metadata": {},
   "outputs": [
    {
     "data": {
      "text/plain": [
       "(5127, 16)"
      ]
     },
     "execution_count": 62,
     "metadata": {},
     "output_type": "execute_result"
    }
   ],
   "source": [
    "# Unknown values replace with the missing\n",
    "df = df.with_columns(\n",
    "    (pl.col(\"fill_address\").replace({\"Unknown\" : \"Missing\"}))\n",
    ")\n",
    "\n",
    "df.filter(pl.col(\"fill_address\") == \"Missing\").shape"
   ]
  },
  {
   "cell_type": "markdown",
   "id": "e4d52d3c",
   "metadata": {},
   "source": [
    "## <strong style=\"color:#5e17eb\"> Round / Format Columns  </strong>\n"
   ]
  },
  {
   "cell_type": "code",
   "execution_count": null,
   "id": "dc154874",
   "metadata": {},
   "outputs": [
    {
     "data": {
      "text/plain": [
       "<bound method Series.item of shape: (5,)\n",
       "Series: 'stars' [f64]\n",
       "[\n",
       "\t4.0\n",
       "\t4.0\n",
       "\t3.0\n",
       "\t2.0\n",
       "\t2.0\n",
       "]>"
      ]
     },
     "execution_count": 73,
     "metadata": {},
     "output_type": "execute_result"
    }
   ],
   "source": [
    "df.with_columns(\n",
    "    (pl.col(\"stars\").round())\n",
    ")['stars'].sample(5)"
   ]
  },
  {
   "cell_type": "markdown",
   "id": "45b1ee62",
   "metadata": {},
   "source": [
    "## <strong style=\"color:#5e17eb\"> Summary </strong>\n"
   ]
  },
  {
   "cell_type": "markdown",
   "id": "ed1b735a",
   "metadata": {},
   "source": [
    "\n",
    "**Goal: Change or enrich the structure/content**\n",
    "\n",
    "\n",
    "| **Sub-Topic**                  | **Description / Use**              | **Example**                                                 |\n",
    "| ------------------------------ | ---------------------------------- | ----------------------------------------------------------- |\n",
    "| **2.1 Add New Column**         | Add derived column                 | `df.with_columns((pl.col(\"a\") + pl.col(\"b\")).alias(\"sum\"))` |\n",
    "| **2.2 Modify Column Values**   | Change existing column             | `df.with_columns(pl.col(\"price\") * 2)`                      |\n",
    "| **2.3 Rename Columns**         | Rename one or more columns         | `df.rename({\"old\": \"new\"})`                                 |\n",
    "| **2.4 Drop Columns**           | Remove unwanted columns            | `df.drop([\"extra\", \"useless\"])`                             |\n",
    "| **2.5 Change Data Types**      | Cast data to specific types        | `df.with_columns(pl.col(\"age\").cast(pl.Int32))`             |\n",
    "| **2.6 Fill Missing Values**    | Fill `null` with value or strategy | `df.fill_null(0)`                                           |\n",
    "| **2.7 Replace Values**         | Replace specific values            | `df.with_columns(pl.col(\"status\").replace(\"Old\", \"New\"))`   |\n",
    "| **2.8 Round / Format Columns** | Round floats or format strings     | `pl.col(\"score\").round(2)`                                  |\n"
   ]
  },
  {
   "cell_type": "markdown",
   "id": "099d22ef",
   "metadata": {},
   "source": [
    "# <strong style=\"color:#5e17eb\"> III. Rearranging / Reordering </strong>\n"
   ]
  },
  {
   "cell_type": "markdown",
   "id": "303cfb46",
   "metadata": {},
   "source": [
    "## <strong style=\"color:#5e17eb\"> Reorder Columns  </strong>\n"
   ]
  },
  {
   "cell_type": "code",
   "execution_count": 74,
   "id": "4318194a",
   "metadata": {},
   "outputs": [
    {
     "data": {
      "text/html": [
       "<div><style>\n",
       ".dataframe > thead > tr,\n",
       ".dataframe > tbody > tr {\n",
       "  text-align: right;\n",
       "  white-space: pre-wrap;\n",
       "}\n",
       "</style>\n",
       "<small>shape: (150_346, 3)</small><table border=\"1\" class=\"dataframe\"><thead><tr><th>business_id</th><th>name</th><th>city</th></tr><tr><td>str</td><td>str</td><td>str</td></tr></thead><tbody><tr><td>&quot;Pns2l4eNsfO8kk83dixA6A&quot;</td><td>&quot;Abby Rappoport, LAC, CMQ&quot;</td><td>&quot;Santa Barbara&quot;</td></tr><tr><td>&quot;mpf3x-BjTdTEA3yCZrAYPw&quot;</td><td>&quot;The UPS Store&quot;</td><td>&quot;Affton&quot;</td></tr><tr><td>&quot;tUFrWirKiKi_TAnsVWINQQ&quot;</td><td>&quot;Target&quot;</td><td>&quot;Tucson&quot;</td></tr><tr><td>&quot;MTSW4McQd7CbVtyjqoe9mw&quot;</td><td>&quot;St Honore Pastries&quot;</td><td>&quot;Philadelphia&quot;</td></tr><tr><td>&quot;mWMc6_wTdE0EUBKIGXDVfA&quot;</td><td>&quot;Perkiomen Valley Brewery&quot;</td><td>&quot;Green Lane&quot;</td></tr><tr><td>&hellip;</td><td>&hellip;</td><td>&hellip;</td></tr><tr><td>&quot;IUQopTMmYQG-qRtBk-8QnA&quot;</td><td>&quot;Binh&#x27;s Nails&quot;</td><td>&quot;Edmonton&quot;</td></tr><tr><td>&quot;c8GjPIOTGVmIemT7j5_SyQ&quot;</td><td>&quot;Wild Birds Unlimited&quot;</td><td>&quot;Nashville&quot;</td></tr><tr><td>&quot;_QAMST-NrQobXduilWEqSw&quot;</td><td>&quot;Claire&#x27;s Boutique&quot;</td><td>&quot;Indianapolis&quot;</td></tr><tr><td>&quot;mtGm22y5c2UHNXDFAjaPNw&quot;</td><td>&quot;Cyclery &amp; Fitness Center&quot;</td><td>&quot;Edwardsville&quot;</td></tr><tr><td>&quot;jV_XOycEzSlTx-65W906pg&quot;</td><td>&quot;Sic Ink&quot;</td><td>&quot;Apollo beach&quot;</td></tr></tbody></table></div>"
      ],
      "text/plain": [
       "shape: (150_346, 3)\n",
       "┌────────────────────────┬──────────────────────────┬───────────────┐\n",
       "│ business_id            ┆ name                     ┆ city          │\n",
       "│ ---                    ┆ ---                      ┆ ---           │\n",
       "│ str                    ┆ str                      ┆ str           │\n",
       "╞════════════════════════╪══════════════════════════╪═══════════════╡\n",
       "│ Pns2l4eNsfO8kk83dixA6A ┆ Abby Rappoport, LAC, CMQ ┆ Santa Barbara │\n",
       "│ mpf3x-BjTdTEA3yCZrAYPw ┆ The UPS Store            ┆ Affton        │\n",
       "│ tUFrWirKiKi_TAnsVWINQQ ┆ Target                   ┆ Tucson        │\n",
       "│ MTSW4McQd7CbVtyjqoe9mw ┆ St Honore Pastries       ┆ Philadelphia  │\n",
       "│ mWMc6_wTdE0EUBKIGXDVfA ┆ Perkiomen Valley Brewery ┆ Green Lane    │\n",
       "│ …                      ┆ …                        ┆ …             │\n",
       "│ IUQopTMmYQG-qRtBk-8QnA ┆ Binh's Nails             ┆ Edmonton      │\n",
       "│ c8GjPIOTGVmIemT7j5_SyQ ┆ Wild Birds Unlimited     ┆ Nashville     │\n",
       "│ _QAMST-NrQobXduilWEqSw ┆ Claire's Boutique        ┆ Indianapolis  │\n",
       "│ mtGm22y5c2UHNXDFAjaPNw ┆ Cyclery & Fitness Center ┆ Edwardsville  │\n",
       "│ jV_XOycEzSlTx-65W906pg ┆ Sic Ink                  ┆ Apollo beach  │\n",
       "└────────────────────────┴──────────────────────────┴───────────────┘"
      ]
     },
     "execution_count": 74,
     "metadata": {},
     "output_type": "execute_result"
    }
   ],
   "source": [
    "df.select([\"business_id\", \"name\", \"city\"])"
   ]
  },
  {
   "cell_type": "markdown",
   "id": "12470026",
   "metadata": {},
   "source": [
    "## <strong style=\"color:#5e17eb\">  Sort Rows</strong>\n"
   ]
  },
  {
   "cell_type": "code",
   "execution_count": null,
   "id": "7d718cf3",
   "metadata": {},
   "outputs": [
    {
     "data": {
      "text/html": [
       "<div><style>\n",
       ".dataframe > thead > tr,\n",
       ".dataframe > tbody > tr {\n",
       "  text-align: right;\n",
       "  white-space: pre-wrap;\n",
       "}\n",
       "</style>\n",
       "<small>shape: (150_346,)</small><table border=\"1\" class=\"dataframe\"><thead><tr><th>stars</th></tr><tr><td>f64</td></tr></thead><tbody><tr><td>5.0</td></tr><tr><td>5.0</td></tr><tr><td>5.0</td></tr><tr><td>5.0</td></tr><tr><td>5.0</td></tr><tr><td>&hellip;</td></tr><tr><td>1.0</td></tr><tr><td>1.0</td></tr><tr><td>1.0</td></tr><tr><td>1.0</td></tr><tr><td>1.0</td></tr></tbody></table></div>"
      ],
      "text/plain": [
       "shape: (150_346,)\n",
       "Series: 'stars' [f64]\n",
       "[\n",
       "\t5.0\n",
       "\t5.0\n",
       "\t5.0\n",
       "\t5.0\n",
       "\t5.0\n",
       "\t…\n",
       "\t1.0\n",
       "\t1.0\n",
       "\t1.0\n",
       "\t1.0\n",
       "\t1.0\n",
       "]"
      ]
     },
     "execution_count": 85,
     "metadata": {},
     "output_type": "execute_result"
    }
   ],
   "source": [
    "# sort the values in descending orders\n",
    "df  = df.sort(\"stars\", descending=True)\n",
    "\n",
    "df['stars']"
   ]
  },
  {
   "cell_type": "markdown",
   "id": "b6f5f861",
   "metadata": {},
   "source": [
    "## <strong style=\"color:#5e17eb\">Reverse Rows  </strong>\n"
   ]
  },
  {
   "cell_type": "code",
   "execution_count": null,
   "id": "1d0adce4",
   "metadata": {},
   "outputs": [
    {
     "data": {
      "text/html": [
       "<div><style>\n",
       ".dataframe > thead > tr,\n",
       ".dataframe > tbody > tr {\n",
       "  text-align: right;\n",
       "  white-space: pre-wrap;\n",
       "}\n",
       "</style>\n",
       "<small>shape: (150_346,)</small><table border=\"1\" class=\"dataframe\"><thead><tr><th>stars</th></tr><tr><td>f64</td></tr></thead><tbody><tr><td>1.0</td></tr><tr><td>1.0</td></tr><tr><td>1.0</td></tr><tr><td>1.0</td></tr><tr><td>1.0</td></tr><tr><td>&hellip;</td></tr><tr><td>5.0</td></tr><tr><td>5.0</td></tr><tr><td>5.0</td></tr><tr><td>5.0</td></tr><tr><td>5.0</td></tr></tbody></table></div>"
      ],
      "text/plain": [
       "shape: (150_346,)\n",
       "Series: 'stars' [f64]\n",
       "[\n",
       "\t1.0\n",
       "\t1.0\n",
       "\t1.0\n",
       "\t1.0\n",
       "\t1.0\n",
       "\t…\n",
       "\t5.0\n",
       "\t5.0\n",
       "\t5.0\n",
       "\t5.0\n",
       "\t5.0\n",
       "]"
      ]
     },
     "execution_count": 84,
     "metadata": {},
     "output_type": "execute_result"
    }
   ],
   "source": [
    "# Reverse the rows\n",
    "df['stars'].reverse()"
   ]
  },
  {
   "cell_type": "markdown",
   "id": "05d305a0",
   "metadata": {},
   "source": [
    "## <strong style=\"color:#5e17eb\">Drop Duplicate Rows  </strong>\n"
   ]
  },
  {
   "cell_type": "code",
   "execution_count": 96,
   "id": "d474ad31",
   "metadata": {},
   "outputs": [
    {
     "name": "stdout",
     "output_type": "stream",
     "text": [
      "Unique postal code is : 3362\n"
     ]
    }
   ],
   "source": [
    "print(\"Unique postal code is :\",df['postal_code'].unique().shape[0])"
   ]
  },
  {
   "cell_type": "markdown",
   "id": "b5a9bcfe",
   "metadata": {},
   "source": [
    "## <strong style=\"color:#5e17eb\"> Limit Rows </strong>\n",
    "\n",
    "- slice()\n",
    "- head()\n",
    "- tail()\n",
    "- sample()"
   ]
  },
  {
   "cell_type": "code",
   "execution_count": 97,
   "id": "ef477956",
   "metadata": {},
   "outputs": [
    {
     "data": {
      "text/html": [
       "<div><style>\n",
       ".dataframe > thead > tr,\n",
       ".dataframe > tbody > tr {\n",
       "  text-align: right;\n",
       "  white-space: pre-wrap;\n",
       "}\n",
       "</style>\n",
       "<small>shape: (3, 16)</small><table border=\"1\" class=\"dataframe\"><thead><tr><th>business_id</th><th>name</th><th>address</th><th>city</th><th>state</th><th>postal_code</th><th>latitude</th><th>longitude</th><th>stars</th><th>review_count</th><th>is_open</th><th>attributes</th><th>categories</th><th>hours</th><th>fill_name</th><th>fill_address</th></tr><tr><td>str</td><td>str</td><td>str</td><td>str</td><td>str</td><td>str</td><td>f64</td><td>f64</td><td>f64</td><td>i64</td><td>i64</td><td>str</td><td>str</td><td>str</td><td>str</td><td>str</td></tr></thead><tbody><tr><td>&quot;PSo_C1Sfa13JHjzVNW6ziQ&quot;</td><td>&quot;Indian Walk Veterinary Center&quot;</td><td>&quot;662 Durham Rd&quot;</td><td>&quot;Newtown&quot;</td><td>&quot;PA&quot;</td><td>&quot;18940&quot;</td><td>40.273493</td><td>-74.987496</td><td>5.0</td><td>15</td><td>1</td><td>null</td><td>&quot;Pet Services, Pet Groomers, Pe…</td><td>&quot;{&#x27;Monday&#x27;: &#x27;8:0-19:0&#x27;, &#x27;Tuesda…</td><td>&quot;Indian Walk Veterinary Center&quot;</td><td>&quot;662 Durham Rd&quot;</td></tr><tr><td>&quot;fvWn8oXXwbj2l79cochZyw&quot;</td><td>&quot;Altitude Trampoline Park - Boi…</td><td>&quot;1301 N Milwaukee St&quot;</td><td>&quot;Boise&quot;</td><td>&quot;ID&quot;</td><td>&quot;83704&quot;</td><td>43.616763</td><td>-116.285382</td><td>5.0</td><td>30</td><td>1</td><td>&quot;{&#x27;BusinessParking&#x27;: &quot;{&#x27;garage&#x27;…</td><td>&quot;Trampoline Parks, Active Life&quot;</td><td>&quot;{&#x27;Monday&#x27;: &#x27;10:0-20:0&#x27;, &#x27;Tuesd…</td><td>&quot;Altitude Trampoline Park - Boi…</td><td>&quot;1301 N Milwaukee St&quot;</td></tr><tr><td>&quot;fSCNwMtNNQY9QT69Cj9fiA&quot;</td><td>&quot;Sierra Pro Events&quot;</td><td>null</td><td>&quot;Sparks&quot;</td><td>&quot;NV&quot;</td><td>&quot;89431&quot;</td><td>39.540154</td><td>-119.748395</td><td>5.0</td><td>7</td><td>1</td><td>&quot;{&#x27;BusinessAcceptsCreditCards&#x27;:…</td><td>&quot;Musicians, DJs, Karaoke, Event…</td><td>&quot;{&#x27;Monday&#x27;: &#x27;9:0-17:0&#x27;, &#x27;Tuesda…</td><td>&quot;Sierra Pro Events&quot;</td><td>&quot;Missing&quot;</td></tr></tbody></table></div>"
      ],
      "text/plain": [
       "shape: (3, 16)\n",
       "┌────────────┬───────────┬───────────┬─────────┬───┬───────────┬───────────┬───────────┬───────────┐\n",
       "│ business_i ┆ name      ┆ address   ┆ city    ┆ … ┆ categorie ┆ hours     ┆ fill_name ┆ fill_addr │\n",
       "│ d          ┆ ---       ┆ ---       ┆ ---     ┆   ┆ s         ┆ ---       ┆ ---       ┆ ess       │\n",
       "│ ---        ┆ str       ┆ str       ┆ str     ┆   ┆ ---       ┆ str       ┆ str       ┆ ---       │\n",
       "│ str        ┆           ┆           ┆         ┆   ┆ str       ┆           ┆           ┆ str       │\n",
       "╞════════════╪═══════════╪═══════════╪═════════╪═══╪═══════════╪═══════════╪═══════════╪═══════════╡\n",
       "│ PSo_C1Sfa1 ┆ Indian    ┆ 662       ┆ Newtown ┆ … ┆ Pet       ┆ {'Monday' ┆ Indian    ┆ 662       │\n",
       "│ 3JHjzVNW6z ┆ Walk Vete ┆ Durham Rd ┆         ┆   ┆ Services, ┆ : '8:0-19 ┆ Walk Vete ┆ Durham Rd │\n",
       "│ iQ         ┆ rinary    ┆           ┆         ┆   ┆ Pet       ┆ :0',      ┆ rinary    ┆           │\n",
       "│            ┆ Center    ┆           ┆         ┆   ┆ Groomers, ┆ 'Tuesda…  ┆ Center    ┆           │\n",
       "│            ┆           ┆           ┆         ┆   ┆ Pe…       ┆           ┆           ┆           │\n",
       "│ fvWn8oXXwb ┆ Altitude  ┆ 1301 N    ┆ Boise   ┆ … ┆ Trampolin ┆ {'Monday' ┆ Altitude  ┆ 1301 N    │\n",
       "│ j2l79cochZ ┆ Trampolin ┆ Milwaukee ┆         ┆   ┆ e Parks,  ┆ : '10:0-2 ┆ Trampolin ┆ Milwaukee │\n",
       "│ yw         ┆ e Park -  ┆ St        ┆         ┆   ┆ Active    ┆ 0:0',     ┆ e Park -  ┆ St        │\n",
       "│            ┆ Boi…      ┆           ┆         ┆   ┆ Life      ┆ 'Tuesd…   ┆ Boi…      ┆           │\n",
       "│ fSCNwMtNNQ ┆ Sierra    ┆ null      ┆ Sparks  ┆ … ┆ Musicians ┆ {'Monday' ┆ Sierra    ┆ Missing   │\n",
       "│ Y9QT69Cj9f ┆ Pro       ┆           ┆         ┆   ┆ , DJs,    ┆ : '9:0-17 ┆ Pro       ┆           │\n",
       "│ iA         ┆ Events    ┆           ┆         ┆   ┆ Karaoke,  ┆ :0',      ┆ Events    ┆           │\n",
       "│            ┆           ┆           ┆         ┆   ┆ Event…    ┆ 'Tuesda…  ┆           ┆           │\n",
       "└────────────┴───────────┴───────────┴─────────┴───┴───────────┴───────────┴───────────┴───────────┘"
      ]
     },
     "execution_count": 97,
     "metadata": {},
     "output_type": "execute_result"
    }
   ],
   "source": [
    "df.slice(2, 3)"
   ]
  },
  {
   "cell_type": "markdown",
   "id": "becf89dc",
   "metadata": {},
   "source": [
    "## <strong style=\"color:#5e17eb\"> Summary </strong>\n",
    "\n",
    " **Goal: Change how data is organized**\n",
    "\n",
    "| **Sub-Topic**               | **Description / Use**         | **Example**                          |\n",
    "| --------------------------- | ----------------------------- | ------------------------------------ |\n",
    "| **3.1 Reorder Columns**     | Move column order             | `df.select([\"id\", \"name\", \"price\"])` |\n",
    "| **3.2 Sort Rows**           | Sort rows by column           | `df.sort(\"rating\", descending=True)` |\n",
    "| **3.3 Reverse Rows**        | Flip the row order            | `df.reverse()`                       |\n",
    "| **3.4 Drop Duplicate Rows** | Remove repeated rows          | `df.unique()`                        |\n",
    "| **3.5 Limit Rows**          | Select top-N or bottom-N rows | `df.head(10)`, `df.tail(5)`          |\n"
   ]
  },
  {
   "cell_type": "markdown",
   "id": "514d42d3",
   "metadata": {},
   "source": [
    "# <strong style=\"color:#5e17eb\"> IV. Conditional Logic & Feature Engineering  </strong>\n"
   ]
  },
  {
   "cell_type": "markdown",
   "id": "b12071d8",
   "metadata": {},
   "source": [
    "## <strong style=\"color:#5e17eb\">   Conditional Columns</strong>\n"
   ]
  },
  {
   "cell_type": "code",
   "execution_count": 17,
   "id": "0f320031",
   "metadata": {},
   "outputs": [
    {
     "data": {
      "text/html": [
       "<div><style>\n",
       ".dataframe > thead > tr,\n",
       ".dataframe > tbody > tr {\n",
       "  text-align: right;\n",
       "  white-space: pre-wrap;\n",
       "}\n",
       "</style>\n",
       "<small>shape: (4, 2)</small><table border=\"1\" class=\"dataframe\"><thead><tr><th>rating_label</th><th>count</th></tr><tr><td>str</td><td>u32</td></tr></thead><tbody><tr><td>&quot;Poor&quot;</td><td>16445</td></tr><tr><td>&quot;Good&quot;</td><td>57644</td></tr><tr><td>&quot;Average&quot;</td><td>32769</td></tr><tr><td>&quot;Excellent&quot;</td><td>43488</td></tr></tbody></table></div>"
      ],
      "text/plain": [
       "shape: (4, 2)\n",
       "┌──────────────┬───────┐\n",
       "│ rating_label ┆ count │\n",
       "│ ---          ┆ ---   │\n",
       "│ str          ┆ u32   │\n",
       "╞══════════════╪═══════╡\n",
       "│ Poor         ┆ 16445 │\n",
       "│ Good         ┆ 57644 │\n",
       "│ Average      ┆ 32769 │\n",
       "│ Excellent    ┆ 43488 │\n",
       "└──────────────┴───────┘"
      ]
     },
     "execution_count": 17,
     "metadata": {},
     "output_type": "execute_result"
    }
   ],
   "source": [
    "df = df.with_columns([\n",
    "    pl.when(pl.col(\"stars\") >= 4.5).then(pl.lit(\"Excellent\"))\\\n",
    "    .when(pl.col(\"stars\") >= 3.5).then(pl.lit(\"Good\"))\\\n",
    "    .when(pl.col(\"stars\") >= 2.5).then(pl.lit(\"Average\"))\\\n",
    "    .otherwise(pl.lit(\"Poor\"))\\\n",
    "    .alias(\"rating_label\")\n",
    "])\n",
    "\n",
    "df.group_by(\"rating_label\").agg(pl.count())"
   ]
  },
  {
   "cell_type": "markdown",
   "id": "57f8d17b",
   "metadata": {},
   "source": [
    "`pl.lit()` is a fundamental tool for incorporating static, constant values into dynamic Polars expressions, enabling flexible and efficient data manipulations."
   ]
  },
  {
   "cell_type": "markdown",
   "id": "eb0d7927",
   "metadata": {},
   "source": [
    "## <strong style=\"color:#5e17eb\">  Binning / Bucketing</strong>\n"
   ]
  },
  {
   "cell_type": "code",
   "execution_count": 128,
   "id": "231a56cf",
   "metadata": {},
   "outputs": [],
   "source": [
    "df = df.with_columns([\n",
    "    pl.when((pl.col(\"is_open\") == 1) & (pl.col(\"review_count\") > 100))\n",
    "    .then(pl.lit(\"Active\"))\n",
    "    .otherwise(pl.lit(\"Inactive\"))\n",
    "    .alias(\"activity_status\")\n",
    "])"
   ]
  },
  {
   "cell_type": "code",
   "execution_count": 129,
   "id": "f12b1a4c",
   "metadata": {},
   "outputs": [
    {
     "data": {
      "text/html": [
       "<div><style>\n",
       ".dataframe > thead > tr,\n",
       ".dataframe > tbody > tr {\n",
       "  text-align: right;\n",
       "  white-space: pre-wrap;\n",
       "}\n",
       "</style>\n",
       "<small>shape: (2, 2)</small><table border=\"1\" class=\"dataframe\"><thead><tr><th>activity_status</th><th>count</th></tr><tr><td>str</td><td>u32</td></tr></thead><tbody><tr><td>&quot;Active&quot;</td><td>11922</td></tr><tr><td>&quot;Inactive&quot;</td><td>138424</td></tr></tbody></table></div>"
      ],
      "text/plain": [
       "shape: (2, 2)\n",
       "┌─────────────────┬────────┐\n",
       "│ activity_status ┆ count  │\n",
       "│ ---             ┆ ---    │\n",
       "│ str             ┆ u32    │\n",
       "╞═════════════════╪════════╡\n",
       "│ Active          ┆ 11922  │\n",
       "│ Inactive        ┆ 138424 │\n",
       "└─────────────────┴────────┘"
      ]
     },
     "execution_count": 129,
     "metadata": {},
     "output_type": "execute_result"
    }
   ],
   "source": [
    "df.group_by(\"activity_status\").agg(pl.count())"
   ]
  },
  {
   "cell_type": "markdown",
   "id": "e1b9b2ef",
   "metadata": {},
   "source": [
    "| Goal                        | Method Used                     |\n",
    "| --------------------------- | ------------------------------- |\n",
    "| Categorize values           | `pl.when().then().otherwise()`  |\n",
    "| Element-wise Python logic   | `pl.col().map_elements()`       |\n",
    "| Combine fields into strings | `pl.struct(...).map_elements()` |\n"
   ]
  },
  {
   "cell_type": "markdown",
   "id": "14598aaf",
   "metadata": {},
   "source": [
    "## <strong style=\"color:#5e17eb\">  Map / Custom Functions</strong>\n"
   ]
  },
  {
   "cell_type": "code",
   "execution_count": 125,
   "id": "f25a9029",
   "metadata": {},
   "outputs": [],
   "source": [
    "df = df.with_columns(\n",
    "    pl.col(\"review_count\").map_elements(\n",
    "        lambda x: \"Popular\" if x > 500 else \"Regular\"\n",
    "    ).alias(\"popularity\")\n",
    ")"
   ]
  },
  {
   "cell_type": "code",
   "execution_count": 126,
   "id": "67917c27",
   "metadata": {},
   "outputs": [
    {
     "data": {
      "text/html": [
       "<div><style>\n",
       ".dataframe > thead > tr,\n",
       ".dataframe > tbody > tr {\n",
       "  text-align: right;\n",
       "  white-space: pre-wrap;\n",
       "}\n",
       "</style>\n",
       "<small>shape: (2, 2)</small><table border=\"1\" class=\"dataframe\"><thead><tr><th>popularity</th><th>count</th></tr><tr><td>str</td><td>u32</td></tr></thead><tbody><tr><td>&quot;Regular&quot;</td><td>148998</td></tr><tr><td>&quot;Popular&quot;</td><td>1348</td></tr></tbody></table></div>"
      ],
      "text/plain": [
       "shape: (2, 2)\n",
       "┌────────────┬────────┐\n",
       "│ popularity ┆ count  │\n",
       "│ ---        ┆ ---    │\n",
       "│ str        ┆ u32    │\n",
       "╞════════════╪════════╡\n",
       "│ Regular    ┆ 148998 │\n",
       "│ Popular    ┆ 1348   │\n",
       "└────────────┴────────┘"
      ]
     },
     "execution_count": 126,
     "metadata": {},
     "output_type": "execute_result"
    }
   ],
   "source": [
    "df.group_by(\"popularity\").agg(pl.count())"
   ]
  },
  {
   "cell_type": "code",
   "execution_count": 122,
   "id": "19df265f",
   "metadata": {},
   "outputs": [
    {
     "data": {
      "text/html": [
       "<div><style>\n",
       ".dataframe > thead > tr,\n",
       ".dataframe > tbody > tr {\n",
       "  text-align: right;\n",
       "  white-space: pre-wrap;\n",
       "}\n",
       "</style>\n",
       "<small>shape: (150_346, 3)</small><table border=\"1\" class=\"dataframe\"><thead><tr><th>name</th><th>longitude</th><th>region</th></tr><tr><td>str</td><td>f64</td><td>str</td></tr></thead><tbody><tr><td>&quot;Abby Rappoport, LAC, CMQ&quot;</td><td>-119.711197</td><td>&quot;West&quot;</td></tr><tr><td>&quot;Adams Dental&quot;</td><td>-82.787412</td><td>&quot;Central&quot;</td></tr><tr><td>&quot;Indian Walk Veterinary Center&quot;</td><td>-74.987496</td><td>&quot;East&quot;</td></tr><tr><td>&quot;Altitude Trampoline Park - Boi…</td><td>-116.285382</td><td>&quot;West&quot;</td></tr><tr><td>&quot;Sierra Pro Events&quot;</td><td>-119.748395</td><td>&quot;West&quot;</td></tr><tr><td>&hellip;</td><td>&hellip;</td><td>&hellip;</td></tr><tr><td>&quot;AMS Cars&quot;</td><td>-86.325654</td><td>&quot;Central&quot;</td></tr><tr><td>&quot;Specialists PC Endocrine&quot;</td><td>-75.136393</td><td>&quot;East&quot;</td></tr><tr><td>&quot;Papa John&#x27;s Pizza&quot;</td><td>-90.052369</td><td>&quot;Central&quot;</td></tr><tr><td>&quot;Verizon FiOS&quot;</td><td>-75.170362</td><td>&quot;East&quot;</td></tr><tr><td>&quot;National Property Inspections&quot;</td><td>-74.93226</td><td>&quot;East&quot;</td></tr></tbody></table></div>"
      ],
      "text/plain": [
       "shape: (150_346, 3)\n",
       "┌─────────────────────────────────┬─────────────┬─────────┐\n",
       "│ name                            ┆ longitude   ┆ region  │\n",
       "│ ---                             ┆ ---         ┆ ---     │\n",
       "│ str                             ┆ f64         ┆ str     │\n",
       "╞═════════════════════════════════╪═════════════╪═════════╡\n",
       "│ Abby Rappoport, LAC, CMQ        ┆ -119.711197 ┆ West    │\n",
       "│ Adams Dental                    ┆ -82.787412  ┆ Central │\n",
       "│ Indian Walk Veterinary Center   ┆ -74.987496  ┆ East    │\n",
       "│ Altitude Trampoline Park - Boi… ┆ -116.285382 ┆ West    │\n",
       "│ Sierra Pro Events               ┆ -119.748395 ┆ West    │\n",
       "│ …                               ┆ …           ┆ …       │\n",
       "│ AMS Cars                        ┆ -86.325654  ┆ Central │\n",
       "│ Specialists PC Endocrine        ┆ -75.136393  ┆ East    │\n",
       "│ Papa John's Pizza               ┆ -90.052369  ┆ Central │\n",
       "│ Verizon FiOS                    ┆ -75.170362  ┆ East    │\n",
       "│ National Property Inspections   ┆ -74.93226   ┆ East    │\n",
       "└─────────────────────────────────┴─────────────┴─────────┘"
      ]
     },
     "execution_count": 122,
     "metadata": {},
     "output_type": "execute_result"
    }
   ],
   "source": [
    "df = df.with_columns([\n",
    "    pl.when(pl.col(\"longitude\") < -100).then(pl.lit(\"West\"))\n",
    "    .when(pl.col(\"longitude\") > -80).then(pl.lit(\"East\"))\n",
    "    .otherwise(pl.lit(\"Central\"))\n",
    "    .alias(\"region\")\n",
    "])\n",
    "\n",
    "df.select([\"name\", \"longitude\", \"region\"])"
   ]
  },
  {
   "cell_type": "markdown",
   "id": "776d8014",
   "metadata": {},
   "source": [
    "## <strong style=\"color:#5e17eb\"> Summary </strong>\n",
    "\n",
    " **Goal: Build intelligent features or rules**\n",
    "| **Sub-Topic**                  | **Description / Use**                  | **Example**                                      |\n",
    "| ------------------------------ | -------------------------------------- | ------------------------------------------------ |\n",
    "| **4.1 Conditional Columns**    | Create values based on `if/else` logic | `pl.when(...).then(...).otherwise(...)`          |\n",
    "| **4.2 Binning / Bucketing**    | Create bins from continuous data       | `pl.when(pl.col(\"age\") > 50).then(\"Old\")`        |\n",
    "| **4.3 Map / Custom Functions** | Apply custom logic                     | `df.with_columns(pl.col(\"x\").map_elements(...))` |\n"
   ]
  },
  {
   "cell_type": "markdown",
   "id": "fde0dfb5",
   "metadata": {},
   "source": [
    " # <strong style=\"color:#5e17eb\"> V.  Inspecting & Validating\n",
    " </strong>\n"
   ]
  },
  {
   "cell_type": "markdown",
   "id": "54410eb3",
   "metadata": {},
   "source": [
    "## <strong style=\"color:#5e17eb\"> View Schema </strong>\n"
   ]
  },
  {
   "cell_type": "code",
   "execution_count": 130,
   "id": "1b294a4a",
   "metadata": {},
   "outputs": [
    {
     "data": {
      "text/plain": [
       "Schema([('business_id', String),\n",
       "        ('name', String),\n",
       "        ('address', String),\n",
       "        ('city', String),\n",
       "        ('state', String),\n",
       "        ('postal_code', String),\n",
       "        ('latitude', Float64),\n",
       "        ('longitude', Float64),\n",
       "        ('stars', Float64),\n",
       "        ('review_count', Int64),\n",
       "        ('is_open', Int64),\n",
       "        ('attributes', String),\n",
       "        ('categories', String),\n",
       "        ('hours', String),\n",
       "        ('fill_name', String),\n",
       "        ('fill_address', String),\n",
       "        ('region', String),\n",
       "        ('popularity', String),\n",
       "        ('activity_status', String)])"
      ]
     },
     "execution_count": 130,
     "metadata": {},
     "output_type": "execute_result"
    }
   ],
   "source": [
    "df.schema"
   ]
  },
  {
   "cell_type": "markdown",
   "id": "a80d5c63",
   "metadata": {},
   "source": [
    "## <strong style=\"color:#5e17eb\"> Summary Stats </strong>\n"
   ]
  },
  {
   "cell_type": "code",
   "execution_count": 131,
   "id": "63f54246",
   "metadata": {},
   "outputs": [
    {
     "data": {
      "text/html": [
       "<div><style>\n",
       ".dataframe > thead > tr,\n",
       ".dataframe > tbody > tr {\n",
       "  text-align: right;\n",
       "  white-space: pre-wrap;\n",
       "}\n",
       "</style>\n",
       "<small>shape: (9, 20)</small><table border=\"1\" class=\"dataframe\"><thead><tr><th>statistic</th><th>business_id</th><th>name</th><th>address</th><th>city</th><th>state</th><th>postal_code</th><th>latitude</th><th>longitude</th><th>stars</th><th>review_count</th><th>is_open</th><th>attributes</th><th>categories</th><th>hours</th><th>fill_name</th><th>fill_address</th><th>region</th><th>popularity</th><th>activity_status</th></tr><tr><td>str</td><td>str</td><td>str</td><td>str</td><td>str</td><td>str</td><td>str</td><td>f64</td><td>f64</td><td>f64</td><td>f64</td><td>f64</td><td>str</td><td>str</td><td>str</td><td>str</td><td>str</td><td>str</td><td>str</td><td>str</td></tr></thead><tbody><tr><td>&quot;count&quot;</td><td>&quot;150346&quot;</td><td>&quot;150346&quot;</td><td>&quot;145219&quot;</td><td>&quot;150346&quot;</td><td>&quot;150346&quot;</td><td>&quot;150273&quot;</td><td>150346.0</td><td>150346.0</td><td>150346.0</td><td>150346.0</td><td>150346.0</td><td>&quot;136602&quot;</td><td>&quot;150243&quot;</td><td>&quot;127123&quot;</td><td>&quot;150346&quot;</td><td>&quot;150346&quot;</td><td>&quot;150346&quot;</td><td>&quot;150346&quot;</td><td>&quot;150346&quot;</td></tr><tr><td>&quot;null_count&quot;</td><td>&quot;0&quot;</td><td>&quot;0&quot;</td><td>&quot;5127&quot;</td><td>&quot;0&quot;</td><td>&quot;0&quot;</td><td>&quot;73&quot;</td><td>0.0</td><td>0.0</td><td>0.0</td><td>0.0</td><td>0.0</td><td>&quot;13744&quot;</td><td>&quot;103&quot;</td><td>&quot;23223&quot;</td><td>&quot;0&quot;</td><td>&quot;0&quot;</td><td>&quot;0&quot;</td><td>&quot;0&quot;</td><td>&quot;0&quot;</td></tr><tr><td>&quot;mean&quot;</td><td>null</td><td>null</td><td>null</td><td>null</td><td>null</td><td>null</td><td>36.67115</td><td>-89.357339</td><td>3.596724</td><td>44.866561</td><td>0.79615</td><td>null</td><td>null</td><td>null</td><td>null</td><td>null</td><td>null</td><td>null</td><td>null</td></tr><tr><td>&quot;std&quot;</td><td>null</td><td>null</td><td>null</td><td>null</td><td>null</td><td>null</td><td>5.872759</td><td>14.918502</td><td>0.974421</td><td>121.120136</td><td>0.40286</td><td>null</td><td>null</td><td>null</td><td>null</td><td>null</td><td>null</td><td>null</td><td>null</td></tr><tr><td>&quot;min&quot;</td><td>&quot;---kPU91CF4Lq2-WlRu9Lw&quot;</td><td>&quot; Grow Academy&quot;</td><td>&quot;#1088 Northgate Mail, 9499 137…</td><td>&quot;AB Edmonton&quot;</td><td>&quot;AB&quot;</td><td>&quot;00802&quot;</td><td>27.555127</td><td>-120.095137</td><td>1.0</td><td>5.0</td><td>0.0</td><td>&quot;{&#x27;AcceptsInsurance&#x27;: &#x27;False&#x27;, …</td><td>&quot;3D Printing, Local Services, H…</td><td>&quot;{&#x27;Friday&#x27;: &#x27;10:0-0:0&#x27;, &#x27;Saturd…</td><td>&quot; Grow Academy&quot;</td><td>&quot;#1088 Northgate Mail, 9499 137…</td><td>&quot;Central&quot;</td><td>&quot;Popular&quot;</td><td>&quot;Active&quot;</td></tr><tr><td>&quot;25%&quot;</td><td>null</td><td>null</td><td>null</td><td>null</td><td>null</td><td>null</td><td>32.187283</td><td>-90.357811</td><td>3.0</td><td>8.0</td><td>1.0</td><td>null</td><td>null</td><td>null</td><td>null</td><td>null</td><td>null</td><td>null</td><td>null</td></tr><tr><td>&quot;50%&quot;</td><td>null</td><td>null</td><td>null</td><td>null</td><td>null</td><td>null</td><td>38.777418</td><td>-86.121178</td><td>3.5</td><td>15.0</td><td>1.0</td><td>null</td><td>null</td><td>null</td><td>null</td><td>null</td><td>null</td><td>null</td><td>null</td></tr><tr><td>&quot;75%&quot;</td><td>null</td><td>null</td><td>null</td><td>null</td><td>null</td><td>null</td><td>39.954036</td><td>-75.421526</td><td>4.5</td><td>37.0</td><td>1.0</td><td>null</td><td>null</td><td>null</td><td>null</td><td>null</td><td>null</td><td>null</td><td>null</td></tr><tr><td>&quot;max&quot;</td><td>&quot;zzyx5x0Z7xXWWvWnZFuxlQ&quot;</td><td>&quot;​​Transformational Abdominal M…</td><td>&quot;​185 E State St&quot;</td><td>&quot;​Lithia&quot;</td><td>&quot;XMS&quot;</td><td>&quot;T9E 0V3&quot;</td><td>53.679197</td><td>-73.200457</td><td>5.0</td><td>7568.0</td><td>1.0</td><td>&quot;{&#x27;WiFi&#x27;: &#x27;None&#x27;}&quot;</td><td>&quot;Zoos, Tours, Arts &amp; Entertainm…</td><td>&quot;{&#x27;Wednesday&#x27;: &#x27;9:30-20:0&#x27;, &#x27;Th…</td><td>&quot;​​Transformational Abdominal M…</td><td>&quot;​185 E State St&quot;</td><td>&quot;West&quot;</td><td>&quot;Regular&quot;</td><td>&quot;Inactive&quot;</td></tr></tbody></table></div>"
      ],
      "text/plain": [
       "shape: (9, 20)\n",
       "┌────────────┬───────────┬───────────┬───────────┬───┬───────────┬─────────┬───────────┬───────────┐\n",
       "│ statistic  ┆ business_ ┆ name      ┆ address   ┆ … ┆ fill_addr ┆ region  ┆ popularit ┆ activity_ │\n",
       "│ ---        ┆ id        ┆ ---       ┆ ---       ┆   ┆ ess       ┆ ---     ┆ y         ┆ status    │\n",
       "│ str        ┆ ---       ┆ str       ┆ str       ┆   ┆ ---       ┆ str     ┆ ---       ┆ ---       │\n",
       "│            ┆ str       ┆           ┆           ┆   ┆ str       ┆         ┆ str       ┆ str       │\n",
       "╞════════════╪═══════════╪═══════════╪═══════════╪═══╪═══════════╪═════════╪═══════════╪═══════════╡\n",
       "│ count      ┆ 150346    ┆ 150346    ┆ 145219    ┆ … ┆ 150346    ┆ 150346  ┆ 150346    ┆ 150346    │\n",
       "│ null_count ┆ 0         ┆ 0         ┆ 5127      ┆ … ┆ 0         ┆ 0       ┆ 0         ┆ 0         │\n",
       "│ mean       ┆ null      ┆ null      ┆ null      ┆ … ┆ null      ┆ null    ┆ null      ┆ null      │\n",
       "│ std        ┆ null      ┆ null      ┆ null      ┆ … ┆ null      ┆ null    ┆ null      ┆ null      │\n",
       "│ min        ┆ ---kPU91C ┆ Grow      ┆ #1088     ┆ … ┆ #1088     ┆ Central ┆ Popular   ┆ Active    │\n",
       "│            ┆ F4Lq2-WlR ┆ Academy   ┆ Northgate ┆   ┆ Northgate ┆         ┆           ┆           │\n",
       "│            ┆ u9Lw      ┆           ┆ Mail,     ┆   ┆ Mail,     ┆         ┆           ┆           │\n",
       "│            ┆           ┆           ┆ 9499 137… ┆   ┆ 9499 137… ┆         ┆           ┆           │\n",
       "│ 25%        ┆ null      ┆ null      ┆ null      ┆ … ┆ null      ┆ null    ┆ null      ┆ null      │\n",
       "│ 50%        ┆ null      ┆ null      ┆ null      ┆ … ┆ null      ┆ null    ┆ null      ┆ null      │\n",
       "│ 75%        ┆ null      ┆ null      ┆ null      ┆ … ┆ null      ┆ null    ┆ null      ┆ null      │\n",
       "│ max        ┆ zzyx5x0Z7 ┆ ​​Transform ┆ ​185 E     ┆ … ┆ ​185 E     ┆ West    ┆ Regular   ┆ Inactive  │\n",
       "│            ┆ xXWWvWnZF ┆ ational   ┆ State St  ┆   ┆ State St  ┆         ┆           ┆           │\n",
       "│            ┆ uxlQ      ┆ Abdominal ┆           ┆   ┆           ┆         ┆           ┆           │\n",
       "│            ┆           ┆ M…        ┆           ┆   ┆           ┆         ┆           ┆           │\n",
       "└────────────┴───────────┴───────────┴───────────┴───┴───────────┴─────────┴───────────┴───────────┘"
      ]
     },
     "execution_count": 131,
     "metadata": {},
     "output_type": "execute_result"
    }
   ],
   "source": [
    "df.describe()"
   ]
  },
  {
   "cell_type": "markdown",
   "id": "1f57b0f0",
   "metadata": {},
   "source": [
    "## <strong style=\"color:#5e17eb\">  Check Column Nulls </strong>\n"
   ]
  },
  {
   "cell_type": "code",
   "execution_count": 132,
   "id": "475633c8",
   "metadata": {},
   "outputs": [
    {
     "data": {
      "text/html": [
       "<div><style>\n",
       ".dataframe > thead > tr,\n",
       ".dataframe > tbody > tr {\n",
       "  text-align: right;\n",
       "  white-space: pre-wrap;\n",
       "}\n",
       "</style>\n",
       "<small>shape: (1, 19)</small><table border=\"1\" class=\"dataframe\"><thead><tr><th>business_id</th><th>name</th><th>address</th><th>city</th><th>state</th><th>postal_code</th><th>latitude</th><th>longitude</th><th>stars</th><th>review_count</th><th>is_open</th><th>attributes</th><th>categories</th><th>hours</th><th>fill_name</th><th>fill_address</th><th>region</th><th>popularity</th><th>activity_status</th></tr><tr><td>u32</td><td>u32</td><td>u32</td><td>u32</td><td>u32</td><td>u32</td><td>u32</td><td>u32</td><td>u32</td><td>u32</td><td>u32</td><td>u32</td><td>u32</td><td>u32</td><td>u32</td><td>u32</td><td>u32</td><td>u32</td><td>u32</td></tr></thead><tbody><tr><td>0</td><td>0</td><td>5127</td><td>0</td><td>0</td><td>73</td><td>0</td><td>0</td><td>0</td><td>0</td><td>0</td><td>13744</td><td>103</td><td>23223</td><td>0</td><td>0</td><td>0</td><td>0</td><td>0</td></tr></tbody></table></div>"
      ],
      "text/plain": [
       "shape: (1, 19)\n",
       "┌─────────────┬──────┬─────────┬──────┬───┬──────────────┬────────┬────────────┬─────────────────┐\n",
       "│ business_id ┆ name ┆ address ┆ city ┆ … ┆ fill_address ┆ region ┆ popularity ┆ activity_status │\n",
       "│ ---         ┆ ---  ┆ ---     ┆ ---  ┆   ┆ ---          ┆ ---    ┆ ---        ┆ ---             │\n",
       "│ u32         ┆ u32  ┆ u32     ┆ u32  ┆   ┆ u32          ┆ u32    ┆ u32        ┆ u32             │\n",
       "╞═════════════╪══════╪═════════╪══════╪═══╪══════════════╪════════╪════════════╪═════════════════╡\n",
       "│ 0           ┆ 0    ┆ 5127    ┆ 0    ┆ … ┆ 0            ┆ 0      ┆ 0          ┆ 0               │\n",
       "└─────────────┴──────┴─────────┴──────┴───┴──────────────┴────────┴────────────┴─────────────────┘"
      ]
     },
     "execution_count": 132,
     "metadata": {},
     "output_type": "execute_result"
    }
   ],
   "source": [
    "df.null_count()"
   ]
  },
  {
   "cell_type": "markdown",
   "id": "194e9649",
   "metadata": {},
   "source": [
    "`df.iter_columns()`\n",
    "- Iterates over Series (each column) in the DataFrame."
   ]
  },
  {
   "cell_type": "code",
   "execution_count": 8,
   "id": "bb27505d",
   "metadata": {},
   "outputs": [
    {
     "name": "stdout",
     "output_type": "stream",
     "text": [
      "business_id String shape: (3,)\n",
      "Series: 'business_id' [str]\n",
      "[\n",
      "\t\"mpf3x-BjTdTEA3yCZrAYPw\"\n",
      "\t\"tUFrWirKiKi_TAnsVWINQQ\"\n",
      "\t\"MTSW4McQd7CbVtyjqoe9mw\"\n",
      "]\n",
      "name String shape: (3,)\n",
      "Series: 'name' [str]\n",
      "[\n",
      "\t\"The UPS Store\"\n",
      "\t\"Target\"\n",
      "\t\"St Honore Pastries\"\n",
      "]\n",
      "address String shape: (3,)\n",
      "Series: 'address' [str]\n",
      "[\n",
      "\t\"87 Grasso Plaza Shopping Cente…\n",
      "\t\"5255 E Broadway Blvd\"\n",
      "\t\"935 Race St\"\n",
      "]\n",
      "city String shape: (3,)\n",
      "Series: 'city' [str]\n",
      "[\n",
      "\t\"Affton\"\n",
      "\t\"Tucson\"\n",
      "\t\"Philadelphia\"\n",
      "]\n",
      "state String shape: (3,)\n",
      "Series: 'state' [str]\n",
      "[\n",
      "\t\"MO\"\n",
      "\t\"AZ\"\n",
      "\t\"PA\"\n",
      "]\n",
      "postal_code String shape: (3,)\n",
      "Series: 'postal_code' [str]\n",
      "[\n",
      "\t\"63123\"\n",
      "\t\"85711\"\n",
      "\t\"19107\"\n",
      "]\n",
      "latitude Float64 shape: (3,)\n",
      "Series: 'latitude' [f64]\n",
      "[\n",
      "\t38.551126\n",
      "\t32.223236\n",
      "\t39.955505\n",
      "]\n",
      "longitude Float64 shape: (3,)\n",
      "Series: 'longitude' [f64]\n",
      "[\n",
      "\t-90.335695\n",
      "\t-110.880452\n",
      "\t-75.155564\n",
      "]\n",
      "stars Float64 shape: (3,)\n",
      "Series: 'stars' [f64]\n",
      "[\n",
      "\t3.0\n",
      "\t3.5\n",
      "\t4.0\n",
      "]\n",
      "review_count Int64 shape: (3,)\n",
      "Series: 'review_count' [i64]\n",
      "[\n",
      "\t15\n",
      "\t22\n",
      "\t80\n",
      "]\n",
      "is_open Int64 shape: (3,)\n",
      "Series: 'is_open' [i64]\n",
      "[\n",
      "\t1\n",
      "\t0\n",
      "\t1\n",
      "]\n",
      "attributes String shape: (3,)\n",
      "Series: 'attributes' [str]\n",
      "[\n",
      "\t\"{'BusinessAcceptsCreditCards':…\n",
      "\t\"{'BikeParking': 'True', 'Busin…\n",
      "\t\"{'RestaurantsDelivery': 'False…\n",
      "]\n",
      "categories String shape: (3,)\n",
      "Series: 'categories' [str]\n",
      "[\n",
      "\t\"Shipping Centers, Local Servic…\n",
      "\t\"Department Stores, Shopping, F…\n",
      "\t\"Restaurants, Food, Bubble Tea,…\n",
      "]\n",
      "hours String shape: (3,)\n",
      "Series: 'hours' [str]\n",
      "[\n",
      "\t\"{'Monday': '0:0-0:0', 'Tuesday…\n",
      "\t\"{'Monday': '8:0-22:0', 'Tuesda…\n",
      "\t\"{'Monday': '7:0-20:0', 'Tuesda…\n",
      "]\n"
     ]
    }
   ],
   "source": [
    "for col in df.iter_columns():\n",
    "    print(col.name, col.dtype, col[1:4])"
   ]
  },
  {
   "cell_type": "markdown",
   "id": "ed71ea1a",
   "metadata": {},
   "source": [
    "| Function                  | What it Does                       | Returns            | Use Case                         |\n",
    "| ------------------------- | ---------------------------------- | ------------------ | -------------------------------- |\n",
    "| `with_column()`           | Add/modify one column              | New DataFrame      | Add a new computed field         |\n",
    "| `with_columns([...])`     | Add/modify multiple columns        | New DataFrame      | Add several fields efficiently   |\n",
    "| `iter_columns()`          | Iterate over Series (columns)      | Iterator of Series | Inspect or loop through columns  |\n",
    "| `iter_columns_seq()`      | Indexable list of Series (columns) | Sequence of Series | Use indexing (`cols[0]`, etc.)   |\n",
    "| `get_column(\"col\")`       | Get a single column as Series      | `pl.Series`        | Direct column access (read-only) |\n",
    "| `find_idx_by_name(\"col\")` | Get column index                   | Integer            | Map name → position in DataFrame |\n"
   ]
  },
  {
   "cell_type": "markdown",
   "id": "739b1ae6",
   "metadata": {},
   "source": [
    "## <strong style=\"color:#5e17eb\">  Unique / Value Counts</strong>\n"
   ]
  },
  {
   "cell_type": "code",
   "execution_count": null,
   "id": "c60494c0",
   "metadata": {},
   "outputs": [
    {
     "data": {
      "text/html": [
       "<div><style>\n",
       ".dataframe > thead > tr,\n",
       ".dataframe > tbody > tr {\n",
       "  text-align: right;\n",
       "  white-space: pre-wrap;\n",
       "}\n",
       "</style>\n",
       "<small>shape: (87_662,)</small><table border=\"1\" class=\"dataframe\"><thead><tr><th>attributes</th></tr><tr><td>u32</td></tr></thead><tbody><tr><td>1598</td></tr><tr><td>13744</td></tr><tr><td>1</td></tr><tr><td>184</td></tr><tr><td>9385</td></tr><tr><td>&hellip;</td></tr><tr><td>1</td></tr><tr><td>1</td></tr><tr><td>1</td></tr><tr><td>1</td></tr><tr><td>1</td></tr></tbody></table></div>"
      ],
      "text/plain": [
       "shape: (87_662,)\n",
       "Series: 'attributes' [u32]\n",
       "[\n",
       "\t1598\n",
       "\t13744\n",
       "\t1\n",
       "\t184\n",
       "\t9385\n",
       "\t…\n",
       "\t1\n",
       "\t1\n",
       "\t1\n",
       "\t1\n",
       "\t1\n",
       "]"
      ]
     },
     "execution_count": 138,
     "metadata": {},
     "output_type": "execute_result"
    }
   ],
   "source": [
    "df['attributes'].unique_counts()"
   ]
  },
  {
   "cell_type": "markdown",
   "id": "3419fe03",
   "metadata": {},
   "source": [
    "## <strong style=\"color:#5e17eb\"> Summary </strong>\n",
    "**Goal: Check the structure and correctness**\n",
    "\n",
    "| **Sub-Topic**                 | **Description / Use**           | **Example**                              |\n",
    "| ----------------------------- | ------------------------------- | ---------------------------------------- |\n",
    "| **5.1 View Schema**           | See column names and types      | `df.schema`                              |\n",
    "| **5.2 Summary Stats**         | Quick stats for numeric columns | `df.describe()`                          |\n",
    "| **5.3 Check Column Nulls**    | Check for missing values        | `df.null_count()`                        |\n",
    "| **5.4 Unique / Value Counts** | Count distinct values           | `df.select(pl.col(\"category\").unique())` |\n"
   ]
  },
  {
   "cell_type": "markdown",
   "id": "ce95d82e",
   "metadata": {},
   "source": [
    "<div style=\"text-align: center;\">\n",
    "  <h4 style=\"\n",
    "    display: inline-block;\n",
    "    color: #5e17eb;\n",
    "    font-family: 'Segoe UI';\n",
    "    border-left: 5px solid #5e17eb;\n",
    "    background-color: #F8F9F9;\n",
    "    padding: 10px 20px;\n",
    "    border-radius: 5px;\n",
    "    text-align: left;\n",
    "  \">\n",
    "  <b>\n",
    "    Thank You 💜\n",
    "    </b>\n",
    "  </h4>\n",
    "</div>"
   ]
  }
 ],
 "metadata": {
  "kernelspec": {
   "display_name": "Python 3",
   "language": "python",
   "name": "python3"
  },
  "language_info": {
   "codemirror_mode": {
    "name": "ipython",
    "version": 3
   },
   "file_extension": ".py",
   "mimetype": "text/x-python",
   "name": "python",
   "nbconvert_exporter": "python",
   "pygments_lexer": "ipython3",
   "version": "3.11.9"
  }
 },
 "nbformat": 4,
 "nbformat_minor": 5
}
