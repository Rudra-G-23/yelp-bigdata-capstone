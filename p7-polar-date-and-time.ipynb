{
 "cells": [
  {
   "cell_type": "code",
   "execution_count": 133,
   "id": "8ed3981b",
   "metadata": {},
   "outputs": [],
   "source": [
    "import polars as pl\n",
    "import datetime\n",
    "from warnings import filterwarnings\n",
    "\n",
    "filterwarnings('ignore')"
   ]
  },
  {
   "cell_type": "code",
   "execution_count": 134,
   "id": "07a45ab9",
   "metadata": {},
   "outputs": [],
   "source": [
    "business_lf = pl.scan_parquet(r\"C:\\Users\\Rudra\\Desktop\\yelp\\parquet-data\\business.parquet\")\n",
    "checkin_lf = pl.scan_parquet(r\"C:\\Users\\Rudra\\Desktop\\yelp\\parquet-data\\checkin.parquet\")\n",
    "review_lf = pl.scan_parquet(r\"C:\\Users\\Rudra\\Desktop\\yelp\\parquet-data\\review.parquet\")\n",
    "tip_lf = pl.scan_parquet(r\"C:\\Users\\Rudra\\Desktop\\yelp\\parquet-data\\tip.parquet\")\n",
    "user_lf = pl.scan_parquet(r\"C:\\Users\\Rudra\\Desktop\\yelp\\parquet-data\\yelp_user.parquet\")"
   ]
  },
  {
   "cell_type": "code",
   "execution_count": 135,
   "id": "837691dc",
   "metadata": {},
   "outputs": [
    {
     "data": {
      "text/plain": [
       "Schema([('user_id', String),\n",
       "        ('name', String),\n",
       "        ('review_count', Int64),\n",
       "        ('yelping_since', String),\n",
       "        ('useful', Int64),\n",
       "        ('funny', Int64),\n",
       "        ('cool', Int64),\n",
       "        ('elite', String),\n",
       "        ('friends', String),\n",
       "        ('fans', Int64),\n",
       "        ('average_stars', Float64),\n",
       "        ('compliment_hot', Int64),\n",
       "        ('compliment_more', Int64),\n",
       "        ('compliment_profile', Int64),\n",
       "        ('compliment_cute', Int64),\n",
       "        ('compliment_list', Int64),\n",
       "        ('compliment_note', Int64),\n",
       "        ('compliment_plain', Int64),\n",
       "        ('compliment_cool', Int64),\n",
       "        ('compliment_funny', Int64),\n",
       "        ('compliment_writer', Int64),\n",
       "        ('compliment_photos', Int64)])"
      ]
     },
     "execution_count": 135,
     "metadata": {},
     "output_type": "execute_result"
    }
   ],
   "source": [
    "user_lf.collect_schema()"
   ]
  },
  {
   "cell_type": "code",
   "execution_count": 136,
   "id": "f9528b63",
   "metadata": {},
   "outputs": [
    {
     "data": {
      "text/html": [
       "<div><style>\n",
       ".dataframe > thead > tr,\n",
       ".dataframe > tbody > tr {\n",
       "  text-align: right;\n",
       "  white-space: pre-wrap;\n",
       "}\n",
       "</style>\n",
       "<small>shape: (1_987_897, 1)</small><table border=\"1\" class=\"dataframe\"><thead><tr><th>yelping_since</th></tr><tr><td>str</td></tr></thead><tbody><tr><td>&quot;2007-01-25 16:47:26&quot;</td></tr><tr><td>&quot;2009-01-25 04:35:42&quot;</td></tr><tr><td>&quot;2008-07-25 10:41:00&quot;</td></tr><tr><td>&quot;2005-11-29 04:38:33&quot;</td></tr><tr><td>&quot;2007-01-05 19:40:59&quot;</td></tr><tr><td>&hellip;</td></tr><tr><td>&quot;2015-01-06 00:31:31&quot;</td></tr><tr><td>&quot;2016-06-14 07:20:52&quot;</td></tr><tr><td>&quot;2017-02-04 15:31:58&quot;</td></tr><tr><td>&quot;2011-01-14 00:29:08&quot;</td></tr><tr><td>&quot;2020-12-19 02:32:39&quot;</td></tr></tbody></table></div>"
      ],
      "text/plain": [
       "shape: (1_987_897, 1)\n",
       "┌─────────────────────┐\n",
       "│ yelping_since       │\n",
       "│ ---                 │\n",
       "│ str                 │\n",
       "╞═════════════════════╡\n",
       "│ 2007-01-25 16:47:26 │\n",
       "│ 2009-01-25 04:35:42 │\n",
       "│ 2008-07-25 10:41:00 │\n",
       "│ 2005-11-29 04:38:33 │\n",
       "│ 2007-01-05 19:40:59 │\n",
       "│ …                   │\n",
       "│ 2015-01-06 00:31:31 │\n",
       "│ 2016-06-14 07:20:52 │\n",
       "│ 2017-02-04 15:31:58 │\n",
       "│ 2011-01-14 00:29:08 │\n",
       "│ 2020-12-19 02:32:39 │\n",
       "└─────────────────────┘"
      ]
     },
     "execution_count": 136,
     "metadata": {},
     "output_type": "execute_result"
    }
   ],
   "source": [
    "user_lf.select(['yelping_since']).collect()"
   ]
  },
  {
   "cell_type": "markdown",
   "id": "1d55fb8b",
   "metadata": {},
   "source": [
    "# here is code"
   ]
  },
  {
   "cell_type": "markdown",
   "id": "9df37cc5",
   "metadata": {},
   "source": [
    "user_lf = pl.DataFrame({\n",
    "    \"user_id\": [\"u1\", \"u2\", \"u3\"],\n",
    "    \"yelping_since\": [\n",
    "        \"2007-01-25 16:47:26\",\n",
    "        \"2009-01-25 04:35:42\",\n",
    "        \"2020-12-19 02:32:39\"\n",
    "    ]\n",
    "}).lazy()\n"
   ]
  },
  {
   "cell_type": "markdown",
   "id": "bd2e9779",
   "metadata": {},
   "source": [
    "# <strong style=\"color:#5e17eb\"> 1. Creating & Parsing Date/Time Columns </strong>\n"
   ]
  },
  {
   "cell_type": "markdown",
   "id": "2189a63d",
   "metadata": {},
   "source": [
    "## <strong style=\"color:#5e17eb\"> Parse from String </strong>\n"
   ]
  },
  {
   "cell_type": "code",
   "execution_count": 137,
   "id": "10c71c1c",
   "metadata": {},
   "outputs": [
    {
     "data": {
      "text/html": [
       "<div><style>\n",
       ".dataframe > thead > tr,\n",
       ".dataframe > tbody > tr {\n",
       "  text-align: right;\n",
       "  white-space: pre-wrap;\n",
       "}\n",
       "</style>\n",
       "<small>shape: (1, 22)</small><table border=\"1\" class=\"dataframe\"><thead><tr><th>user_id</th><th>name</th><th>review_count</th><th>yelping_since</th><th>useful</th><th>funny</th><th>cool</th><th>elite</th><th>friends</th><th>fans</th><th>average_stars</th><th>compliment_hot</th><th>compliment_more</th><th>compliment_profile</th><th>compliment_cute</th><th>compliment_list</th><th>compliment_note</th><th>compliment_plain</th><th>compliment_cool</th><th>compliment_funny</th><th>compliment_writer</th><th>compliment_photos</th></tr><tr><td>str</td><td>str</td><td>i64</td><td>str</td><td>i64</td><td>i64</td><td>i64</td><td>str</td><td>str</td><td>i64</td><td>f64</td><td>i64</td><td>i64</td><td>i64</td><td>i64</td><td>i64</td><td>i64</td><td>i64</td><td>i64</td><td>i64</td><td>i64</td><td>i64</td></tr></thead><tbody><tr><td>&quot;qVc8ODYU5SZjKXVBgXdI7w&quot;</td><td>&quot;Walker&quot;</td><td>585</td><td>&quot;2007-01-25 16:47:26&quot;</td><td>7217</td><td>1259</td><td>5994</td><td>&quot;2007&quot;</td><td>&quot;NSCy54eWehBJyZdG2iE84w, pe42u7…</td><td>267</td><td>3.91</td><td>250</td><td>65</td><td>55</td><td>56</td><td>18</td><td>232</td><td>844</td><td>467</td><td>467</td><td>239</td><td>180</td></tr></tbody></table></div>"
      ],
      "text/plain": [
       "shape: (1, 22)\n",
       "┌────────────┬────────┬────────────┬───────────┬───┬───────────┬───────────┬───────────┬───────────┐\n",
       "│ user_id    ┆ name   ┆ review_cou ┆ yelping_s ┆ … ┆ complimen ┆ complimen ┆ complimen ┆ complimen │\n",
       "│ ---        ┆ ---    ┆ nt         ┆ ince      ┆   ┆ t_cool    ┆ t_funny   ┆ t_writer  ┆ t_photos  │\n",
       "│ str        ┆ str    ┆ ---        ┆ ---       ┆   ┆ ---       ┆ ---       ┆ ---       ┆ ---       │\n",
       "│            ┆        ┆ i64        ┆ str       ┆   ┆ i64       ┆ i64       ┆ i64       ┆ i64       │\n",
       "╞════════════╪════════╪════════════╪═══════════╪═══╪═══════════╪═══════════╪═══════════╪═══════════╡\n",
       "│ qVc8ODYU5S ┆ Walker ┆ 585        ┆ 2007-01-2 ┆ … ┆ 467       ┆ 467       ┆ 239       ┆ 180       │\n",
       "│ ZjKXVBgXdI ┆        ┆            ┆ 5         ┆   ┆           ┆           ┆           ┆           │\n",
       "│ 7w         ┆        ┆            ┆ 16:47:26  ┆   ┆           ┆           ┆           ┆           │\n",
       "└────────────┴────────┴────────────┴───────────┴───┴───────────┴───────────┴───────────┴───────────┘"
      ]
     },
     "execution_count": 137,
     "metadata": {},
     "output_type": "execute_result"
    }
   ],
   "source": [
    "user_lf.head(1).collect()"
   ]
  },
  {
   "cell_type": "markdown",
   "id": "cbf441b1",
   "metadata": {},
   "source": [
    "%Y = year, %m = month, %d = day, %H = hour, %M = minute, %S = seconds.\n",
    "\n"
   ]
  },
  {
   "cell_type": "code",
   "execution_count": 138,
   "id": "4367a103",
   "metadata": {},
   "outputs": [
    {
     "data": {
      "text/html": [
       "<div><style>\n",
       ".dataframe > thead > tr,\n",
       ".dataframe > tbody > tr {\n",
       "  text-align: right;\n",
       "  white-space: pre-wrap;\n",
       "}\n",
       "</style>\n",
       "<small>shape: (1_987_897, 2)</small><table border=\"1\" class=\"dataframe\"><thead><tr><th>yelping_since</th><th>yelping_since_dt</th></tr><tr><td>str</td><td>datetime[μs]</td></tr></thead><tbody><tr><td>&quot;2007-01-25 16:47:26&quot;</td><td>2007-01-25 16:47:26</td></tr><tr><td>&quot;2009-01-25 04:35:42&quot;</td><td>2009-01-25 04:35:42</td></tr><tr><td>&quot;2008-07-25 10:41:00&quot;</td><td>2008-07-25 10:41:00</td></tr><tr><td>&quot;2005-11-29 04:38:33&quot;</td><td>2005-11-29 04:38:33</td></tr><tr><td>&quot;2007-01-05 19:40:59&quot;</td><td>2007-01-05 19:40:59</td></tr><tr><td>&hellip;</td><td>&hellip;</td></tr><tr><td>&quot;2015-01-06 00:31:31&quot;</td><td>2015-01-06 00:31:31</td></tr><tr><td>&quot;2016-06-14 07:20:52&quot;</td><td>2016-06-14 07:20:52</td></tr><tr><td>&quot;2017-02-04 15:31:58&quot;</td><td>2017-02-04 15:31:58</td></tr><tr><td>&quot;2011-01-14 00:29:08&quot;</td><td>2011-01-14 00:29:08</td></tr><tr><td>&quot;2020-12-19 02:32:39&quot;</td><td>2020-12-19 02:32:39</td></tr></tbody></table></div>"
      ],
      "text/plain": [
       "shape: (1_987_897, 2)\n",
       "┌─────────────────────┬─────────────────────┐\n",
       "│ yelping_since       ┆ yelping_since_dt    │\n",
       "│ ---                 ┆ ---                 │\n",
       "│ str                 ┆ datetime[μs]        │\n",
       "╞═════════════════════╪═════════════════════╡\n",
       "│ 2007-01-25 16:47:26 ┆ 2007-01-25 16:47:26 │\n",
       "│ 2009-01-25 04:35:42 ┆ 2009-01-25 04:35:42 │\n",
       "│ 2008-07-25 10:41:00 ┆ 2008-07-25 10:41:00 │\n",
       "│ 2005-11-29 04:38:33 ┆ 2005-11-29 04:38:33 │\n",
       "│ 2007-01-05 19:40:59 ┆ 2007-01-05 19:40:59 │\n",
       "│ …                   ┆ …                   │\n",
       "│ 2015-01-06 00:31:31 ┆ 2015-01-06 00:31:31 │\n",
       "│ 2016-06-14 07:20:52 ┆ 2016-06-14 07:20:52 │\n",
       "│ 2017-02-04 15:31:58 ┆ 2017-02-04 15:31:58 │\n",
       "│ 2011-01-14 00:29:08 ┆ 2011-01-14 00:29:08 │\n",
       "│ 2020-12-19 02:32:39 ┆ 2020-12-19 02:32:39 │\n",
       "└─────────────────────┴─────────────────────┘"
      ]
     },
     "execution_count": 138,
     "metadata": {},
     "output_type": "execute_result"
    }
   ],
   "source": [
    "user_lf.with_columns(\n",
    "    pl.col(\"yelping_since\") \\\n",
    "        .str.strptime(pl.Datetime, \"%Y-%m-%d %H:%M:%S\")\n",
    "        .alias(\"yelping_since_dt\")\n",
    ").select(['yelping_since',\t'yelping_since_dt']).collect()"
   ]
  },
  {
   "cell_type": "markdown",
   "id": "041ca4ef",
   "metadata": {},
   "source": [
    "## <strong style=\"color:#5e17eb\">Auto-parse  </strong>\n"
   ]
  },
  {
   "cell_type": "code",
   "execution_count": 139,
   "id": "b830fb61",
   "metadata": {},
   "outputs": [
    {
     "data": {
      "text/html": [
       "<div><style>\n",
       ".dataframe > thead > tr,\n",
       ".dataframe > tbody > tr {\n",
       "  text-align: right;\n",
       "  white-space: pre-wrap;\n",
       "}\n",
       "</style>\n",
       "<small>shape: (1_987_897, 2)</small><table border=\"1\" class=\"dataframe\"><thead><tr><th>yelping_since</th><th>yelping_since_dt</th></tr><tr><td>str</td><td>datetime[μs]</td></tr></thead><tbody><tr><td>&quot;2007-01-25 16:47:26&quot;</td><td>2007-01-25 16:47:26</td></tr><tr><td>&quot;2009-01-25 04:35:42&quot;</td><td>2009-01-25 04:35:42</td></tr><tr><td>&quot;2008-07-25 10:41:00&quot;</td><td>2008-07-25 10:41:00</td></tr><tr><td>&quot;2005-11-29 04:38:33&quot;</td><td>2005-11-29 04:38:33</td></tr><tr><td>&quot;2007-01-05 19:40:59&quot;</td><td>2007-01-05 19:40:59</td></tr><tr><td>&hellip;</td><td>&hellip;</td></tr><tr><td>&quot;2015-01-06 00:31:31&quot;</td><td>2015-01-06 00:31:31</td></tr><tr><td>&quot;2016-06-14 07:20:52&quot;</td><td>2016-06-14 07:20:52</td></tr><tr><td>&quot;2017-02-04 15:31:58&quot;</td><td>2017-02-04 15:31:58</td></tr><tr><td>&quot;2011-01-14 00:29:08&quot;</td><td>2011-01-14 00:29:08</td></tr><tr><td>&quot;2020-12-19 02:32:39&quot;</td><td>2020-12-19 02:32:39</td></tr></tbody></table></div>"
      ],
      "text/plain": [
       "shape: (1_987_897, 2)\n",
       "┌─────────────────────┬─────────────────────┐\n",
       "│ yelping_since       ┆ yelping_since_dt    │\n",
       "│ ---                 ┆ ---                 │\n",
       "│ str                 ┆ datetime[μs]        │\n",
       "╞═════════════════════╪═════════════════════╡\n",
       "│ 2007-01-25 16:47:26 ┆ 2007-01-25 16:47:26 │\n",
       "│ 2009-01-25 04:35:42 ┆ 2009-01-25 04:35:42 │\n",
       "│ 2008-07-25 10:41:00 ┆ 2008-07-25 10:41:00 │\n",
       "│ 2005-11-29 04:38:33 ┆ 2005-11-29 04:38:33 │\n",
       "│ 2007-01-05 19:40:59 ┆ 2007-01-05 19:40:59 │\n",
       "│ …                   ┆ …                   │\n",
       "│ 2015-01-06 00:31:31 ┆ 2015-01-06 00:31:31 │\n",
       "│ 2016-06-14 07:20:52 ┆ 2016-06-14 07:20:52 │\n",
       "│ 2017-02-04 15:31:58 ┆ 2017-02-04 15:31:58 │\n",
       "│ 2011-01-14 00:29:08 ┆ 2011-01-14 00:29:08 │\n",
       "│ 2020-12-19 02:32:39 ┆ 2020-12-19 02:32:39 │\n",
       "└─────────────────────┴─────────────────────┘"
      ]
     },
     "execution_count": 139,
     "metadata": {},
     "output_type": "execute_result"
    }
   ],
   "source": [
    "user_lf.with_columns(\n",
    "    pl.col(\"yelping_since\") \n",
    "        .str.to_datetime()\n",
    "        .alias(\"yelping_since_dt\")\n",
    ").select(['yelping_since',\t'yelping_since_dt']).collect()"
   ]
  },
  {
   "cell_type": "markdown",
   "id": "eb4cbe99",
   "metadata": {},
   "source": [
    "## <strong style=\"color:#5e17eb\"> From Timestamps </strong>\n"
   ]
  },
  {
   "cell_type": "code",
   "execution_count": 140,
   "id": "d8301927",
   "metadata": {},
   "outputs": [
    {
     "data": {
      "text/html": [
       "<div><style>\n",
       ".dataframe > thead > tr,\n",
       ".dataframe > tbody > tr {\n",
       "  text-align: right;\n",
       "  white-space: pre-wrap;\n",
       "}\n",
       "</style>\n",
       "<small>shape: (1, 1)</small><table border=\"1\" class=\"dataframe\"><thead><tr><th>custom_date</th></tr><tr><td>object</td></tr></thead><tbody><tr><td>2025-08-05 00:00:00.alias(&quot;datetime&quot;).strict_cast(Date).alias(&quot;date&quot;)</td></tr></tbody></table></div>"
      ],
      "text/plain": [
       "shape: (1, 1)\n",
       "┌─────────────────────────────────┐\n",
       "│ custom_date                     │\n",
       "│ ---                             │\n",
       "│ object                          │\n",
       "╞═════════════════════════════════╡\n",
       "│ 2025-08-05 00:00:00.alias(\"dat… │\n",
       "└─────────────────────────────────┘"
      ]
     },
     "execution_count": 140,
     "metadata": {},
     "output_type": "execute_result"
    }
   ],
   "source": [
    "pl.DataFrame({\n",
    "    \"custom_date\": [pl.date(2025, 8, 5)]\n",
    "})\n"
   ]
  },
  {
   "cell_type": "markdown",
   "id": "8f98efc3",
   "metadata": {},
   "source": [
    "## <strong style=\"color:#5e17eb\">Create from Components  </strong>\n"
   ]
  },
  {
   "cell_type": "code",
   "execution_count": 141,
   "id": "c0359bea",
   "metadata": {},
   "outputs": [
    {
     "data": {
      "text/html": [
       "<div><style>\n",
       ".dataframe > thead > tr,\n",
       ".dataframe > tbody > tr {\n",
       "  text-align: right;\n",
       "  white-space: pre-wrap;\n",
       "}\n",
       "</style>\n",
       "<small>shape: (1_987_897, 27)</small><table border=\"1\" class=\"dataframe\"><thead><tr><th>user_id</th><th>name</th><th>review_count</th><th>yelping_since</th><th>useful</th><th>funny</th><th>cool</th><th>elite</th><th>friends</th><th>fans</th><th>average_stars</th><th>compliment_hot</th><th>compliment_more</th><th>compliment_profile</th><th>compliment_cute</th><th>compliment_list</th><th>compliment_note</th><th>compliment_plain</th><th>compliment_cool</th><th>compliment_funny</th><th>compliment_writer</th><th>compliment_photos</th><th>yelping_since_dt</th><th>year_joined</th><th>month_joined</th><th>days_joined</th><th>membership_duration</th></tr><tr><td>str</td><td>str</td><td>i64</td><td>str</td><td>i64</td><td>i64</td><td>i64</td><td>str</td><td>str</td><td>i64</td><td>f64</td><td>i64</td><td>i64</td><td>i64</td><td>i64</td><td>i64</td><td>i64</td><td>i64</td><td>i64</td><td>i64</td><td>i64</td><td>i64</td><td>datetime[μs]</td><td>i32</td><td>i8</td><td>i8</td><td>duration[μs]</td></tr></thead><tbody><tr><td>&quot;qVc8ODYU5SZjKXVBgXdI7w&quot;</td><td>&quot;Walker&quot;</td><td>585</td><td>&quot;2007-01-25 16:47:26&quot;</td><td>7217</td><td>1259</td><td>5994</td><td>&quot;2007&quot;</td><td>&quot;NSCy54eWehBJyZdG2iE84w, pe42u7…</td><td>267</td><td>3.91</td><td>250</td><td>65</td><td>55</td><td>56</td><td>18</td><td>232</td><td>844</td><td>467</td><td>467</td><td>239</td><td>180</td><td>2007-01-25 16:47:26</td><td>2007</td><td>1</td><td>25</td><td>6767d 7h 12m 34s</td></tr><tr><td>&quot;j14WgRoU_-2ZE1aw1dXrJg&quot;</td><td>&quot;Daniel&quot;</td><td>4333</td><td>&quot;2009-01-25 04:35:42&quot;</td><td>43091</td><td>13066</td><td>27281</td><td>&quot;2009,2010,2011,2012,2013,2014,…</td><td>&quot;ueRPE0CX75ePGMqOFVj6IQ, 52oH4D…</td><td>3138</td><td>3.74</td><td>1145</td><td>264</td><td>184</td><td>157</td><td>251</td><td>1847</td><td>7054</td><td>3131</td><td>3131</td><td>1521</td><td>1946</td><td>2009-01-25 04:35:42</td><td>2009</td><td>1</td><td>25</td><td>6036d 19h 24m 18s</td></tr><tr><td>&quot;2WnXYQFK0hXEoTxPtV2zvg&quot;</td><td>&quot;Steph&quot;</td><td>665</td><td>&quot;2008-07-25 10:41:00&quot;</td><td>2086</td><td>1010</td><td>1003</td><td>&quot;2009,2010,2011,2012,2013&quot;</td><td>&quot;LuO3Bn4f3rlhyHIaNfTlnA, j9B4Xd…</td><td>52</td><td>3.32</td><td>89</td><td>13</td><td>10</td><td>17</td><td>3</td><td>66</td><td>96</td><td>119</td><td>119</td><td>35</td><td>18</td><td>2008-07-25 10:41:00</td><td>2008</td><td>7</td><td>25</td><td>6220d 13h 19m</td></tr><tr><td>&quot;SZDeASXq7o05mMNLshsdIA&quot;</td><td>&quot;Gwen&quot;</td><td>224</td><td>&quot;2005-11-29 04:38:33&quot;</td><td>512</td><td>330</td><td>299</td><td>&quot;2009,2010,2011&quot;</td><td>&quot;enx1vVPnfdNUdPho6PH_wg, 4wOcvM…</td><td>28</td><td>4.27</td><td>24</td><td>4</td><td>1</td><td>6</td><td>2</td><td>12</td><td>16</td><td>26</td><td>26</td><td>10</td><td>9</td><td>2005-11-29 04:38:33</td><td>2005</td><td>11</td><td>29</td><td>7189d 19h 21m 27s</td></tr><tr><td>&quot;hA5lMy-EnncsH4JoR-hFGQ&quot;</td><td>&quot;Karen&quot;</td><td>79</td><td>&quot;2007-01-05 19:40:59&quot;</td><td>29</td><td>15</td><td>7</td><td>null</td><td>&quot;PBK4q9KEEBHhFvSXCUirIw, 3FWPpM…</td><td>1</td><td>3.54</td><td>1</td><td>1</td><td>0</td><td>0</td><td>0</td><td>1</td><td>1</td><td>0</td><td>0</td><td>0</td><td>0</td><td>2007-01-05 19:40:59</td><td>2007</td><td>1</td><td>5</td><td>6787d 4h 19m 1s</td></tr><tr><td>&hellip;</td><td>&hellip;</td><td>&hellip;</td><td>&hellip;</td><td>&hellip;</td><td>&hellip;</td><td>&hellip;</td><td>&hellip;</td><td>&hellip;</td><td>&hellip;</td><td>&hellip;</td><td>&hellip;</td><td>&hellip;</td><td>&hellip;</td><td>&hellip;</td><td>&hellip;</td><td>&hellip;</td><td>&hellip;</td><td>&hellip;</td><td>&hellip;</td><td>&hellip;</td><td>&hellip;</td><td>&hellip;</td><td>&hellip;</td><td>&hellip;</td><td>&hellip;</td><td>&hellip;</td></tr><tr><td>&quot;fB3jbHi3m0L2KgGOxBv6uw&quot;</td><td>&quot;Jerrold&quot;</td><td>23</td><td>&quot;2015-01-06 00:31:31&quot;</td><td>7</td><td>0</td><td>0</td><td>null</td><td>null</td><td>0</td><td>4.92</td><td>0</td><td>0</td><td>0</td><td>0</td><td>0</td><td>0</td><td>0</td><td>0</td><td>0</td><td>0</td><td>0</td><td>2015-01-06 00:31:31</td><td>2015</td><td>1</td><td>6</td><td>3864d 23h 28m 29s</td></tr><tr><td>&quot;68czcr4BxJyMQ9cJBm6C7Q&quot;</td><td>&quot;Jane&quot;</td><td>1</td><td>&quot;2016-06-14 07:20:52&quot;</td><td>0</td><td>0</td><td>0</td><td>null</td><td>null</td><td>0</td><td>5.0</td><td>0</td><td>0</td><td>0</td><td>0</td><td>0</td><td>0</td><td>0</td><td>0</td><td>0</td><td>0</td><td>0</td><td>2016-06-14 07:20:52</td><td>2016</td><td>6</td><td>14</td><td>3339d 16h 39m 8s</td></tr><tr><td>&quot;1x3KMskYxOuJCjRz70xOqQ&quot;</td><td>&quot;Shomari&quot;</td><td>4</td><td>&quot;2017-02-04 15:31:58&quot;</td><td>1</td><td>1</td><td>0</td><td>null</td><td>null</td><td>0</td><td>2.0</td><td>0</td><td>0</td><td>0</td><td>0</td><td>0</td><td>0</td><td>0</td><td>0</td><td>0</td><td>0</td><td>0</td><td>2017-02-04 15:31:58</td><td>2017</td><td>2</td><td>4</td><td>3104d 8h 28m 2s</td></tr><tr><td>&quot;ulfGl4tdbrH05xKzh5lnog&quot;</td><td>&quot;Susanne&quot;</td><td>2</td><td>&quot;2011-01-14 00:29:08&quot;</td><td>0</td><td>0</td><td>0</td><td>null</td><td>null</td><td>0</td><td>3.0</td><td>0</td><td>0</td><td>0</td><td>0</td><td>0</td><td>0</td><td>0</td><td>0</td><td>0</td><td>0</td><td>0</td><td>2011-01-14 00:29:08</td><td>2011</td><td>1</td><td>14</td><td>5317d 23h 30m 52s</td></tr><tr><td>&quot;wL5jPrLRVCK_Pmo4lM1zpA&quot;</td><td>&quot;Isa&quot;</td><td>2</td><td>&quot;2020-12-19 02:32:39&quot;</td><td>0</td><td>0</td><td>0</td><td>null</td><td>null</td><td>0</td><td>5.0</td><td>0</td><td>0</td><td>0</td><td>0</td><td>0</td><td>0</td><td>0</td><td>0</td><td>0</td><td>0</td><td>0</td><td>2020-12-19 02:32:39</td><td>2020</td><td>12</td><td>19</td><td>1690d 21h 27m 21s</td></tr></tbody></table></div>"
      ],
      "text/plain": [
       "shape: (1_987_897, 27)\n",
       "┌────────────┬─────────┬───────────┬───────────┬───┬───────────┬───────────┬───────────┬───────────┐\n",
       "│ user_id    ┆ name    ┆ review_co ┆ yelping_s ┆ … ┆ year_join ┆ month_joi ┆ days_join ┆ membershi │\n",
       "│ ---        ┆ ---     ┆ unt       ┆ ince      ┆   ┆ ed        ┆ ned       ┆ ed        ┆ p_duratio │\n",
       "│ str        ┆ str     ┆ ---       ┆ ---       ┆   ┆ ---       ┆ ---       ┆ ---       ┆ n         │\n",
       "│            ┆         ┆ i64       ┆ str       ┆   ┆ i32       ┆ i8        ┆ i8        ┆ ---       │\n",
       "│            ┆         ┆           ┆           ┆   ┆           ┆           ┆           ┆ duration[ │\n",
       "│            ┆         ┆           ┆           ┆   ┆           ┆           ┆           ┆ μs]       │\n",
       "╞════════════╪═════════╪═══════════╪═══════════╪═══╪═══════════╪═══════════╪═══════════╪═══════════╡\n",
       "│ qVc8ODYU5S ┆ Walker  ┆ 585       ┆ 2007-01-2 ┆ … ┆ 2007      ┆ 1         ┆ 25        ┆ 6767d 7h  │\n",
       "│ ZjKXVBgXdI ┆         ┆           ┆ 5         ┆   ┆           ┆           ┆           ┆ 12m 34s   │\n",
       "│ 7w         ┆         ┆           ┆ 16:47:26  ┆   ┆           ┆           ┆           ┆           │\n",
       "│ j14WgRoU_- ┆ Daniel  ┆ 4333      ┆ 2009-01-2 ┆ … ┆ 2009      ┆ 1         ┆ 25        ┆ 6036d 19h │\n",
       "│ 2ZE1aw1dXr ┆         ┆           ┆ 5         ┆   ┆           ┆           ┆           ┆ 24m 18s   │\n",
       "│ Jg         ┆         ┆           ┆ 04:35:42  ┆   ┆           ┆           ┆           ┆           │\n",
       "│ 2WnXYQFK0h ┆ Steph   ┆ 665       ┆ 2008-07-2 ┆ … ┆ 2008      ┆ 7         ┆ 25        ┆ 6220d 13h │\n",
       "│ XEoTxPtV2z ┆         ┆           ┆ 5         ┆   ┆           ┆           ┆           ┆ 19m       │\n",
       "│ vg         ┆         ┆           ┆ 10:41:00  ┆   ┆           ┆           ┆           ┆           │\n",
       "│ SZDeASXq7o ┆ Gwen    ┆ 224       ┆ 2005-11-2 ┆ … ┆ 2005      ┆ 11        ┆ 29        ┆ 7189d 19h │\n",
       "│ 05mMNLshsd ┆         ┆           ┆ 9         ┆   ┆           ┆           ┆           ┆ 21m 27s   │\n",
       "│ IA         ┆         ┆           ┆ 04:38:33  ┆   ┆           ┆           ┆           ┆           │\n",
       "│ hA5lMy-Enn ┆ Karen   ┆ 79        ┆ 2007-01-0 ┆ … ┆ 2007      ┆ 1         ┆ 5         ┆ 6787d 4h  │\n",
       "│ csH4JoR-hF ┆         ┆           ┆ 5         ┆   ┆           ┆           ┆           ┆ 19m 1s    │\n",
       "│ GQ         ┆         ┆           ┆ 19:40:59  ┆   ┆           ┆           ┆           ┆           │\n",
       "│ …          ┆ …       ┆ …         ┆ …         ┆ … ┆ …         ┆ …         ┆ …         ┆ …         │\n",
       "│ fB3jbHi3m0 ┆ Jerrold ┆ 23        ┆ 2015-01-0 ┆ … ┆ 2015      ┆ 1         ┆ 6         ┆ 3864d 23h │\n",
       "│ L2KgGOxBv6 ┆         ┆           ┆ 6         ┆   ┆           ┆           ┆           ┆ 28m 29s   │\n",
       "│ uw         ┆         ┆           ┆ 00:31:31  ┆   ┆           ┆           ┆           ┆           │\n",
       "│ 68czcr4BxJ ┆ Jane    ┆ 1         ┆ 2016-06-1 ┆ … ┆ 2016      ┆ 6         ┆ 14        ┆ 3339d 16h │\n",
       "│ yMQ9cJBm6C ┆         ┆           ┆ 4         ┆   ┆           ┆           ┆           ┆ 39m 8s    │\n",
       "│ 7Q         ┆         ┆           ┆ 07:20:52  ┆   ┆           ┆           ┆           ┆           │\n",
       "│ 1x3KMskYxO ┆ Shomari ┆ 4         ┆ 2017-02-0 ┆ … ┆ 2017      ┆ 2         ┆ 4         ┆ 3104d 8h  │\n",
       "│ uJCjRz70xO ┆         ┆           ┆ 4         ┆   ┆           ┆           ┆           ┆ 28m 2s    │\n",
       "│ qQ         ┆         ┆           ┆ 15:31:58  ┆   ┆           ┆           ┆           ┆           │\n",
       "│ ulfGl4tdbr ┆ Susanne ┆ 2         ┆ 2011-01-1 ┆ … ┆ 2011      ┆ 1         ┆ 14        ┆ 5317d 23h │\n",
       "│ H05xKzh5ln ┆         ┆           ┆ 4         ┆   ┆           ┆           ┆           ┆ 30m 52s   │\n",
       "│ og         ┆         ┆           ┆ 00:29:08  ┆   ┆           ┆           ┆           ┆           │\n",
       "│ wL5jPrLRVC ┆ Isa     ┆ 2         ┆ 2020-12-1 ┆ … ┆ 2020      ┆ 12        ┆ 19        ┆ 1690d 21h │\n",
       "│ K_Pmo4lM1z ┆         ┆           ┆ 9         ┆   ┆           ┆           ┆           ┆ 27m 21s   │\n",
       "│ pA         ┆         ┆           ┆ 02:32:39  ┆   ┆           ┆           ┆           ┆           │\n",
       "└────────────┴─────────┴───────────┴───────────┴───┴───────────┴───────────┴───────────┴───────────┘"
      ]
     },
     "execution_count": 141,
     "metadata": {},
     "output_type": "execute_result"
    }
   ],
   "source": [
    "user_lf.with_columns(\n",
    "    pl.col(\"yelping_since\").str.to_datetime().alias(\"yelping_since_dt\")\n",
    ").with_columns([\n",
    "    pl.col(\"yelping_since_dt\").dt.year().alias(\"year_joined\"),\n",
    "    pl.col(\"yelping_since_dt\").dt.month().alias(\"month_joined\"),\n",
    "    pl.col(\"yelping_since_dt\").dt.day().alias(\"days_joined\"),\n",
    "    (pl.lit(\"2025-08-06\").str.to_datetime() - pl.col(\"yelping_since_dt\")).alias(\"membership_duration\")\n",
    "]).collect()"
   ]
  },
  {
   "cell_type": "markdown",
   "id": "0054822e",
   "metadata": {},
   "source": [
    "## <strong style=\"color:#5e17eb\">  From Epoch Seconds</strong>\n"
   ]
  },
  {
   "cell_type": "code",
   "execution_count": 142,
   "id": "84aeb074",
   "metadata": {},
   "outputs": [
    {
     "data": {
      "text/html": [
       "<div><style>\n",
       ".dataframe > thead > tr,\n",
       ".dataframe > tbody > tr {\n",
       "  text-align: right;\n",
       "  white-space: pre-wrap;\n",
       "}\n",
       "</style>\n",
       "<small>shape: (5, 2)</small><table border=\"1\" class=\"dataframe\"><thead><tr><th>yelping_since</th><th>yelping_dt</th></tr><tr><td>str</td><td>datetime[μs]</td></tr></thead><tbody><tr><td>&quot;2007-01-25 16:47:26&quot;</td><td>2007-01-25 16:47:26</td></tr><tr><td>&quot;2009-01-25 04:35:42&quot;</td><td>2009-01-25 04:35:42</td></tr><tr><td>&quot;2008-07-25 10:41:00&quot;</td><td>2008-07-25 10:41:00</td></tr><tr><td>&quot;2005-11-29 04:38:33&quot;</td><td>2005-11-29 04:38:33</td></tr><tr><td>&quot;2007-01-05 19:40:59&quot;</td><td>2007-01-05 19:40:59</td></tr></tbody></table></div>"
      ],
      "text/plain": [
       "shape: (5, 2)\n",
       "┌─────────────────────┬─────────────────────┐\n",
       "│ yelping_since       ┆ yelping_dt          │\n",
       "│ ---                 ┆ ---                 │\n",
       "│ str                 ┆ datetime[μs]        │\n",
       "╞═════════════════════╪═════════════════════╡\n",
       "│ 2007-01-25 16:47:26 ┆ 2007-01-25 16:47:26 │\n",
       "│ 2009-01-25 04:35:42 ┆ 2009-01-25 04:35:42 │\n",
       "│ 2008-07-25 10:41:00 ┆ 2008-07-25 10:41:00 │\n",
       "│ 2005-11-29 04:38:33 ┆ 2005-11-29 04:38:33 │\n",
       "│ 2007-01-05 19:40:59 ┆ 2007-01-05 19:40:59 │\n",
       "└─────────────────────┴─────────────────────┘"
      ]
     },
     "execution_count": 142,
     "metadata": {},
     "output_type": "execute_result"
    }
   ],
   "source": [
    "user_lf_parsed = user_lf.with_columns(\n",
    "    pl.col(\"yelping_since\").str.strptime(pl.Datetime, format=\"%Y-%m-%d %H:%M:%S\").alias(\"yelping_dt\")\n",
    ")\n",
    "user_lf_parsed.select([\"yelping_since\", \"yelping_dt\"]).collect().head()"
   ]
  },
  {
   "cell_type": "code",
   "execution_count": 143,
   "id": "06c9c573",
   "metadata": {},
   "outputs": [
    {
     "ename": "TypeError",
     "evalue": "LazyFrame is not subscriptable (aside from slicing)\n\nUse `select()` or `filter()` instead.",
     "output_type": "error",
     "traceback": [
      "\u001b[31m---------------------------------------------------------------------------\u001b[39m",
      "\u001b[31mTypeError\u001b[39m                                 Traceback (most recent call last)",
      "\u001b[36mCell\u001b[39m\u001b[36m \u001b[39m\u001b[32mIn[143]\u001b[39m\u001b[32m, line 1\u001b[39m\n\u001b[32m----> \u001b[39m\u001b[32m1\u001b[39m user_lf = \u001b[43muser_lf\u001b[49m\u001b[43m.\u001b[49m\u001b[43mwith_columns\u001b[49m\u001b[43m(\u001b[49m\n\u001b[32m      2\u001b[39m \u001b[43m    \u001b[49m\u001b[43mpl\u001b[49m\u001b[43m.\u001b[49m\u001b[43mcol\u001b[49m\u001b[43m(\u001b[49m\u001b[33;43m\"\u001b[39;49m\u001b[33;43myelping_since\u001b[39;49m\u001b[33;43m\"\u001b[39;49m\u001b[43m)\u001b[49m\u001b[43m.\u001b[49m\u001b[43mstr\u001b[49m\u001b[43m.\u001b[49m\u001b[43mto_datetime\u001b[49m\u001b[43m(\u001b[49m\u001b[43m)\u001b[49m\u001b[43m.\u001b[49m\u001b[43malias\u001b[49m\u001b[43m(\u001b[49m\u001b[33;43m\"\u001b[39;49m\u001b[33;43myelping_dt\u001b[39;49m\u001b[33;43m\"\u001b[39;49m\u001b[43m)\u001b[49m\n\u001b[32m      3\u001b[39m \u001b[43m)\u001b[49m\u001b[43m[\u001b[49m\u001b[33;43m\"\u001b[39;49m\u001b[33;43myelping_dt\u001b[39;49m\u001b[33;43m\"\u001b[39;49m\u001b[43m]\u001b[49m.collect()\n",
      "\u001b[36mFile \u001b[39m\u001b[32m~\\AppData\\Roaming\\Python\\Python311\\site-packages\\polars\\lazyframe\\frame.py:760\u001b[39m, in \u001b[36mLazyFrame.__getitem__\u001b[39m\u001b[34m(self, item)\u001b[39m\n\u001b[32m    755\u001b[39m \u001b[38;5;28;01mif\u001b[39;00m \u001b[38;5;129;01mnot\u001b[39;00m \u001b[38;5;28misinstance\u001b[39m(item, \u001b[38;5;28mslice\u001b[39m):\n\u001b[32m    756\u001b[39m     msg = (\n\u001b[32m    757\u001b[39m         \u001b[33m\"\u001b[39m\u001b[33mLazyFrame is not subscriptable (aside from slicing)\u001b[39m\u001b[33m\"\u001b[39m\n\u001b[32m    758\u001b[39m         \u001b[33m\"\u001b[39m\u001b[38;5;130;01m\\n\u001b[39;00m\u001b[38;5;130;01m\\n\u001b[39;00m\u001b[33mUse `select()` or `filter()` instead.\u001b[39m\u001b[33m\"\u001b[39m\n\u001b[32m    759\u001b[39m     )\n\u001b[32m--> \u001b[39m\u001b[32m760\u001b[39m     \u001b[38;5;28;01mraise\u001b[39;00m \u001b[38;5;167;01mTypeError\u001b[39;00m(msg)\n\u001b[32m    761\u001b[39m \u001b[38;5;28;01mreturn\u001b[39;00m LazyPolarsSlice(\u001b[38;5;28mself\u001b[39m).apply(item)\n",
      "\u001b[31mTypeError\u001b[39m: LazyFrame is not subscriptable (aside from slicing)\n\nUse `select()` or `filter()` instead."
     ]
    }
   ],
   "source": [
    "user_lf = user_lf.with_columns(\n",
    "    pl.col(\"yelping_since\").str.to_datetime().alias(\"yelping_dt\")\n",
    ")[\"yelping_dt\"].collect()\n"
   ]
  },
  {
   "cell_type": "code",
   "execution_count": null,
   "id": "5d06ddd6",
   "metadata": {},
   "outputs": [
    {
     "data": {
      "text/html": [
       "<div><style>\n",
       ".dataframe > thead > tr,\n",
       ".dataframe > tbody > tr {\n",
       "  text-align: right;\n",
       "  white-space: pre-wrap;\n",
       "}\n",
       "</style>\n",
       "<small>shape: (1_987_897, 24)</small><table border=\"1\" class=\"dataframe\"><thead><tr><th>user_id</th><th>name</th><th>review_count</th><th>yelping_since</th><th>useful</th><th>funny</th><th>cool</th><th>elite</th><th>friends</th><th>fans</th><th>average_stars</th><th>compliment_hot</th><th>compliment_more</th><th>compliment_profile</th><th>compliment_cute</th><th>compliment_list</th><th>compliment_note</th><th>compliment_plain</th><th>compliment_cool</th><th>compliment_funny</th><th>compliment_writer</th><th>compliment_photos</th><th>yelping_dt</th><th>epoch_days</th></tr><tr><td>str</td><td>str</td><td>i64</td><td>str</td><td>i64</td><td>i64</td><td>i64</td><td>str</td><td>str</td><td>i64</td><td>f64</td><td>i64</td><td>i64</td><td>i64</td><td>i64</td><td>i64</td><td>i64</td><td>i64</td><td>i64</td><td>i64</td><td>i64</td><td>i64</td><td>datetime[μs]</td><td>i32</td></tr></thead><tbody><tr><td>&quot;qVc8ODYU5SZjKXVBgXdI7w&quot;</td><td>&quot;Walker&quot;</td><td>585</td><td>&quot;2007-01-25 16:47:26&quot;</td><td>7217</td><td>1259</td><td>5994</td><td>&quot;2007&quot;</td><td>&quot;NSCy54eWehBJyZdG2iE84w, pe42u7…</td><td>267</td><td>3.91</td><td>250</td><td>65</td><td>55</td><td>56</td><td>18</td><td>232</td><td>844</td><td>467</td><td>467</td><td>239</td><td>180</td><td>2007-01-25 16:47:26</td><td>13538</td></tr><tr><td>&quot;j14WgRoU_-2ZE1aw1dXrJg&quot;</td><td>&quot;Daniel&quot;</td><td>4333</td><td>&quot;2009-01-25 04:35:42&quot;</td><td>43091</td><td>13066</td><td>27281</td><td>&quot;2009,2010,2011,2012,2013,2014,…</td><td>&quot;ueRPE0CX75ePGMqOFVj6IQ, 52oH4D…</td><td>3138</td><td>3.74</td><td>1145</td><td>264</td><td>184</td><td>157</td><td>251</td><td>1847</td><td>7054</td><td>3131</td><td>3131</td><td>1521</td><td>1946</td><td>2009-01-25 04:35:42</td><td>14269</td></tr><tr><td>&quot;2WnXYQFK0hXEoTxPtV2zvg&quot;</td><td>&quot;Steph&quot;</td><td>665</td><td>&quot;2008-07-25 10:41:00&quot;</td><td>2086</td><td>1010</td><td>1003</td><td>&quot;2009,2010,2011,2012,2013&quot;</td><td>&quot;LuO3Bn4f3rlhyHIaNfTlnA, j9B4Xd…</td><td>52</td><td>3.32</td><td>89</td><td>13</td><td>10</td><td>17</td><td>3</td><td>66</td><td>96</td><td>119</td><td>119</td><td>35</td><td>18</td><td>2008-07-25 10:41:00</td><td>14085</td></tr><tr><td>&quot;SZDeASXq7o05mMNLshsdIA&quot;</td><td>&quot;Gwen&quot;</td><td>224</td><td>&quot;2005-11-29 04:38:33&quot;</td><td>512</td><td>330</td><td>299</td><td>&quot;2009,2010,2011&quot;</td><td>&quot;enx1vVPnfdNUdPho6PH_wg, 4wOcvM…</td><td>28</td><td>4.27</td><td>24</td><td>4</td><td>1</td><td>6</td><td>2</td><td>12</td><td>16</td><td>26</td><td>26</td><td>10</td><td>9</td><td>2005-11-29 04:38:33</td><td>13116</td></tr><tr><td>&quot;hA5lMy-EnncsH4JoR-hFGQ&quot;</td><td>&quot;Karen&quot;</td><td>79</td><td>&quot;2007-01-05 19:40:59&quot;</td><td>29</td><td>15</td><td>7</td><td>null</td><td>&quot;PBK4q9KEEBHhFvSXCUirIw, 3FWPpM…</td><td>1</td><td>3.54</td><td>1</td><td>1</td><td>0</td><td>0</td><td>0</td><td>1</td><td>1</td><td>0</td><td>0</td><td>0</td><td>0</td><td>2007-01-05 19:40:59</td><td>13518</td></tr><tr><td>&hellip;</td><td>&hellip;</td><td>&hellip;</td><td>&hellip;</td><td>&hellip;</td><td>&hellip;</td><td>&hellip;</td><td>&hellip;</td><td>&hellip;</td><td>&hellip;</td><td>&hellip;</td><td>&hellip;</td><td>&hellip;</td><td>&hellip;</td><td>&hellip;</td><td>&hellip;</td><td>&hellip;</td><td>&hellip;</td><td>&hellip;</td><td>&hellip;</td><td>&hellip;</td><td>&hellip;</td><td>&hellip;</td><td>&hellip;</td></tr><tr><td>&quot;fB3jbHi3m0L2KgGOxBv6uw&quot;</td><td>&quot;Jerrold&quot;</td><td>23</td><td>&quot;2015-01-06 00:31:31&quot;</td><td>7</td><td>0</td><td>0</td><td>null</td><td>null</td><td>0</td><td>4.92</td><td>0</td><td>0</td><td>0</td><td>0</td><td>0</td><td>0</td><td>0</td><td>0</td><td>0</td><td>0</td><td>0</td><td>2015-01-06 00:31:31</td><td>16441</td></tr><tr><td>&quot;68czcr4BxJyMQ9cJBm6C7Q&quot;</td><td>&quot;Jane&quot;</td><td>1</td><td>&quot;2016-06-14 07:20:52&quot;</td><td>0</td><td>0</td><td>0</td><td>null</td><td>null</td><td>0</td><td>5.0</td><td>0</td><td>0</td><td>0</td><td>0</td><td>0</td><td>0</td><td>0</td><td>0</td><td>0</td><td>0</td><td>0</td><td>2016-06-14 07:20:52</td><td>16966</td></tr><tr><td>&quot;1x3KMskYxOuJCjRz70xOqQ&quot;</td><td>&quot;Shomari&quot;</td><td>4</td><td>&quot;2017-02-04 15:31:58&quot;</td><td>1</td><td>1</td><td>0</td><td>null</td><td>null</td><td>0</td><td>2.0</td><td>0</td><td>0</td><td>0</td><td>0</td><td>0</td><td>0</td><td>0</td><td>0</td><td>0</td><td>0</td><td>0</td><td>2017-02-04 15:31:58</td><td>17201</td></tr><tr><td>&quot;ulfGl4tdbrH05xKzh5lnog&quot;</td><td>&quot;Susanne&quot;</td><td>2</td><td>&quot;2011-01-14 00:29:08&quot;</td><td>0</td><td>0</td><td>0</td><td>null</td><td>null</td><td>0</td><td>3.0</td><td>0</td><td>0</td><td>0</td><td>0</td><td>0</td><td>0</td><td>0</td><td>0</td><td>0</td><td>0</td><td>0</td><td>2011-01-14 00:29:08</td><td>14988</td></tr><tr><td>&quot;wL5jPrLRVCK_Pmo4lM1zpA&quot;</td><td>&quot;Isa&quot;</td><td>2</td><td>&quot;2020-12-19 02:32:39&quot;</td><td>0</td><td>0</td><td>0</td><td>null</td><td>null</td><td>0</td><td>5.0</td><td>0</td><td>0</td><td>0</td><td>0</td><td>0</td><td>0</td><td>0</td><td>0</td><td>0</td><td>0</td><td>0</td><td>2020-12-19 02:32:39</td><td>18615</td></tr></tbody></table></div>"
      ],
      "text/plain": [
       "shape: (1_987_897, 24)\n",
       "┌────────────┬─────────┬───────────┬───────────┬───┬───────────┬───────────┬───────────┬───────────┐\n",
       "│ user_id    ┆ name    ┆ review_co ┆ yelping_s ┆ … ┆ complimen ┆ complimen ┆ yelping_d ┆ epoch_day │\n",
       "│ ---        ┆ ---     ┆ unt       ┆ ince      ┆   ┆ t_writer  ┆ t_photos  ┆ t         ┆ s         │\n",
       "│ str        ┆ str     ┆ ---       ┆ ---       ┆   ┆ ---       ┆ ---       ┆ ---       ┆ ---       │\n",
       "│            ┆         ┆ i64       ┆ str       ┆   ┆ i64       ┆ i64       ┆ datetime[ ┆ i32       │\n",
       "│            ┆         ┆           ┆           ┆   ┆           ┆           ┆ μs]       ┆           │\n",
       "╞════════════╪═════════╪═══════════╪═══════════╪═══╪═══════════╪═══════════╪═══════════╪═══════════╡\n",
       "│ qVc8ODYU5S ┆ Walker  ┆ 585       ┆ 2007-01-2 ┆ … ┆ 239       ┆ 180       ┆ 2007-01-2 ┆ 13538     │\n",
       "│ ZjKXVBgXdI ┆         ┆           ┆ 5         ┆   ┆           ┆           ┆ 5         ┆           │\n",
       "│ 7w         ┆         ┆           ┆ 16:47:26  ┆   ┆           ┆           ┆ 16:47:26  ┆           │\n",
       "│ j14WgRoU_- ┆ Daniel  ┆ 4333      ┆ 2009-01-2 ┆ … ┆ 1521      ┆ 1946      ┆ 2009-01-2 ┆ 14269     │\n",
       "│ 2ZE1aw1dXr ┆         ┆           ┆ 5         ┆   ┆           ┆           ┆ 5         ┆           │\n",
       "│ Jg         ┆         ┆           ┆ 04:35:42  ┆   ┆           ┆           ┆ 04:35:42  ┆           │\n",
       "│ 2WnXYQFK0h ┆ Steph   ┆ 665       ┆ 2008-07-2 ┆ … ┆ 35        ┆ 18        ┆ 2008-07-2 ┆ 14085     │\n",
       "│ XEoTxPtV2z ┆         ┆           ┆ 5         ┆   ┆           ┆           ┆ 5         ┆           │\n",
       "│ vg         ┆         ┆           ┆ 10:41:00  ┆   ┆           ┆           ┆ 10:41:00  ┆           │\n",
       "│ SZDeASXq7o ┆ Gwen    ┆ 224       ┆ 2005-11-2 ┆ … ┆ 10        ┆ 9         ┆ 2005-11-2 ┆ 13116     │\n",
       "│ 05mMNLshsd ┆         ┆           ┆ 9         ┆   ┆           ┆           ┆ 9         ┆           │\n",
       "│ IA         ┆         ┆           ┆ 04:38:33  ┆   ┆           ┆           ┆ 04:38:33  ┆           │\n",
       "│ hA5lMy-Enn ┆ Karen   ┆ 79        ┆ 2007-01-0 ┆ … ┆ 0         ┆ 0         ┆ 2007-01-0 ┆ 13518     │\n",
       "│ csH4JoR-hF ┆         ┆           ┆ 5         ┆   ┆           ┆           ┆ 5         ┆           │\n",
       "│ GQ         ┆         ┆           ┆ 19:40:59  ┆   ┆           ┆           ┆ 19:40:59  ┆           │\n",
       "│ …          ┆ …       ┆ …         ┆ …         ┆ … ┆ …         ┆ …         ┆ …         ┆ …         │\n",
       "│ fB3jbHi3m0 ┆ Jerrold ┆ 23        ┆ 2015-01-0 ┆ … ┆ 0         ┆ 0         ┆ 2015-01-0 ┆ 16441     │\n",
       "│ L2KgGOxBv6 ┆         ┆           ┆ 6         ┆   ┆           ┆           ┆ 6         ┆           │\n",
       "│ uw         ┆         ┆           ┆ 00:31:31  ┆   ┆           ┆           ┆ 00:31:31  ┆           │\n",
       "│ 68czcr4BxJ ┆ Jane    ┆ 1         ┆ 2016-06-1 ┆ … ┆ 0         ┆ 0         ┆ 2016-06-1 ┆ 16966     │\n",
       "│ yMQ9cJBm6C ┆         ┆           ┆ 4         ┆   ┆           ┆           ┆ 4         ┆           │\n",
       "│ 7Q         ┆         ┆           ┆ 07:20:52  ┆   ┆           ┆           ┆ 07:20:52  ┆           │\n",
       "│ 1x3KMskYxO ┆ Shomari ┆ 4         ┆ 2017-02-0 ┆ … ┆ 0         ┆ 0         ┆ 2017-02-0 ┆ 17201     │\n",
       "│ uJCjRz70xO ┆         ┆           ┆ 4         ┆   ┆           ┆           ┆ 4         ┆           │\n",
       "│ qQ         ┆         ┆           ┆ 15:31:58  ┆   ┆           ┆           ┆ 15:31:58  ┆           │\n",
       "│ ulfGl4tdbr ┆ Susanne ┆ 2         ┆ 2011-01-1 ┆ … ┆ 0         ┆ 0         ┆ 2011-01-1 ┆ 14988     │\n",
       "│ H05xKzh5ln ┆         ┆           ┆ 4         ┆   ┆           ┆           ┆ 4         ┆           │\n",
       "│ og         ┆         ┆           ┆ 00:29:08  ┆   ┆           ┆           ┆ 00:29:08  ┆           │\n",
       "│ wL5jPrLRVC ┆ Isa     ┆ 2         ┆ 2020-12-1 ┆ … ┆ 0         ┆ 0         ┆ 2020-12-1 ┆ 18615     │\n",
       "│ K_Pmo4lM1z ┆         ┆           ┆ 9         ┆   ┆           ┆           ┆ 9         ┆           │\n",
       "│ pA         ┆         ┆           ┆ 02:32:39  ┆   ┆           ┆           ┆ 02:32:39  ┆           │\n",
       "└────────────┴─────────┴───────────┴───────────┴───┴───────────┴───────────┴───────────┴───────────┘"
      ]
     },
     "execution_count": 92,
     "metadata": {},
     "output_type": "execute_result"
    }
   ],
   "source": [
    "user_lf_epoch = user_lf.with_columns(\n",
    "    pl.col(\"yelping_since\")\n",
    "      .str.strptime(pl.Datetime, \"%Y-%m-%d %H:%M:%S\")\n",
    "      .dt.epoch(\"d\")\n",
    "      .alias(\"epoch_days\")\n",
    ")\n",
    "user_lf_epoch.collect()"
   ]
  },
  {
   "cell_type": "code",
   "execution_count": null,
   "id": "35ab6e6d",
   "metadata": {},
   "outputs": [
    {
     "data": {
      "text/html": [
       "<div><style>\n",
       ".dataframe > thead > tr,\n",
       ".dataframe > tbody > tr {\n",
       "  text-align: right;\n",
       "  white-space: pre-wrap;\n",
       "}\n",
       "</style>\n",
       "<small>shape: (1_987_897, 3)</small><table border=\"1\" class=\"dataframe\"><thead><tr><th>year</th><th>month</th><th>weekday</th></tr><tr><td>i32</td><td>i8</td><td>i8</td></tr></thead><tbody><tr><td>2007</td><td>1</td><td>4</td></tr><tr><td>2009</td><td>1</td><td>7</td></tr><tr><td>2008</td><td>7</td><td>5</td></tr><tr><td>2005</td><td>11</td><td>2</td></tr><tr><td>2007</td><td>1</td><td>5</td></tr><tr><td>&hellip;</td><td>&hellip;</td><td>&hellip;</td></tr><tr><td>2015</td><td>1</td><td>2</td></tr><tr><td>2016</td><td>6</td><td>2</td></tr><tr><td>2017</td><td>2</td><td>6</td></tr><tr><td>2011</td><td>1</td><td>5</td></tr><tr><td>2020</td><td>12</td><td>6</td></tr></tbody></table></div>"
      ],
      "text/plain": [
       "shape: (1_987_897, 3)\n",
       "┌──────┬───────┬─────────┐\n",
       "│ year ┆ month ┆ weekday │\n",
       "│ ---  ┆ ---   ┆ ---     │\n",
       "│ i32  ┆ i8    ┆ i8      │\n",
       "╞══════╪═══════╪═════════╡\n",
       "│ 2007 ┆ 1     ┆ 4       │\n",
       "│ 2009 ┆ 1     ┆ 7       │\n",
       "│ 2008 ┆ 7     ┆ 5       │\n",
       "│ 2005 ┆ 11    ┆ 2       │\n",
       "│ 2007 ┆ 1     ┆ 5       │\n",
       "│ …    ┆ …     ┆ …       │\n",
       "│ 2015 ┆ 1     ┆ 2       │\n",
       "│ 2016 ┆ 6     ┆ 2       │\n",
       "│ 2017 ┆ 2     ┆ 6       │\n",
       "│ 2011 ┆ 1     ┆ 5       │\n",
       "│ 2020 ┆ 12    ┆ 6       │\n",
       "└──────┴───────┴─────────┘"
      ]
     },
     "execution_count": 93,
     "metadata": {},
     "output_type": "execute_result"
    }
   ],
   "source": [
    "user_lf.select([\n",
    "    pl.col(\"yelping_since\").str.to_datetime().dt.year().alias(\"year\"),\n",
    "    pl.col(\"yelping_since\").str.to_datetime().dt.month().alias(\"month\"),\n",
    "    pl.col(\"yelping_since\").str.to_datetime().dt.weekday().alias(\"weekday\")\n",
    "]).collect()\n"
   ]
  },
  {
   "cell_type": "code",
   "execution_count": null,
   "id": "044e09cd",
   "metadata": {},
   "outputs": [
    {
     "data": {
      "text/html": [
       "<div><style>\n",
       ".dataframe > thead > tr,\n",
       ".dataframe > tbody > tr {\n",
       "  text-align: right;\n",
       "  white-space: pre-wrap;\n",
       "}\n",
       "</style>\n",
       "<small>shape: (1_987_897, 23)</small><table border=\"1\" class=\"dataframe\"><thead><tr><th>user_id</th><th>name</th><th>review_count</th><th>yelping_since</th><th>useful</th><th>funny</th><th>cool</th><th>elite</th><th>friends</th><th>fans</th><th>average_stars</th><th>compliment_hot</th><th>compliment_more</th><th>compliment_profile</th><th>compliment_cute</th><th>compliment_list</th><th>compliment_note</th><th>compliment_plain</th><th>compliment_cool</th><th>compliment_funny</th><th>compliment_writer</th><th>compliment_photos</th><th>yelping_dt</th></tr><tr><td>str</td><td>str</td><td>i64</td><td>str</td><td>i64</td><td>i64</td><td>i64</td><td>str</td><td>str</td><td>i64</td><td>f64</td><td>i64</td><td>i64</td><td>i64</td><td>i64</td><td>i64</td><td>i64</td><td>i64</td><td>i64</td><td>i64</td><td>i64</td><td>i64</td><td>datetime[μs]</td></tr></thead><tbody><tr><td>&quot;qVc8ODYU5SZjKXVBgXdI7w&quot;</td><td>&quot;Walker&quot;</td><td>585</td><td>&quot;2007-01-25 16:47:26&quot;</td><td>7217</td><td>1259</td><td>5994</td><td>&quot;2007&quot;</td><td>&quot;NSCy54eWehBJyZdG2iE84w, pe42u7…</td><td>267</td><td>3.91</td><td>250</td><td>65</td><td>55</td><td>56</td><td>18</td><td>232</td><td>844</td><td>467</td><td>467</td><td>239</td><td>180</td><td>2007-01-25 16:47:26</td></tr><tr><td>&quot;j14WgRoU_-2ZE1aw1dXrJg&quot;</td><td>&quot;Daniel&quot;</td><td>4333</td><td>&quot;2009-01-25 04:35:42&quot;</td><td>43091</td><td>13066</td><td>27281</td><td>&quot;2009,2010,2011,2012,2013,2014,…</td><td>&quot;ueRPE0CX75ePGMqOFVj6IQ, 52oH4D…</td><td>3138</td><td>3.74</td><td>1145</td><td>264</td><td>184</td><td>157</td><td>251</td><td>1847</td><td>7054</td><td>3131</td><td>3131</td><td>1521</td><td>1946</td><td>2009-01-25 04:35:42</td></tr><tr><td>&quot;2WnXYQFK0hXEoTxPtV2zvg&quot;</td><td>&quot;Steph&quot;</td><td>665</td><td>&quot;2008-07-25 10:41:00&quot;</td><td>2086</td><td>1010</td><td>1003</td><td>&quot;2009,2010,2011,2012,2013&quot;</td><td>&quot;LuO3Bn4f3rlhyHIaNfTlnA, j9B4Xd…</td><td>52</td><td>3.32</td><td>89</td><td>13</td><td>10</td><td>17</td><td>3</td><td>66</td><td>96</td><td>119</td><td>119</td><td>35</td><td>18</td><td>2008-07-25 10:41:00</td></tr><tr><td>&quot;SZDeASXq7o05mMNLshsdIA&quot;</td><td>&quot;Gwen&quot;</td><td>224</td><td>&quot;2005-11-29 04:38:33&quot;</td><td>512</td><td>330</td><td>299</td><td>&quot;2009,2010,2011&quot;</td><td>&quot;enx1vVPnfdNUdPho6PH_wg, 4wOcvM…</td><td>28</td><td>4.27</td><td>24</td><td>4</td><td>1</td><td>6</td><td>2</td><td>12</td><td>16</td><td>26</td><td>26</td><td>10</td><td>9</td><td>2005-11-29 04:38:33</td></tr><tr><td>&quot;hA5lMy-EnncsH4JoR-hFGQ&quot;</td><td>&quot;Karen&quot;</td><td>79</td><td>&quot;2007-01-05 19:40:59&quot;</td><td>29</td><td>15</td><td>7</td><td>null</td><td>&quot;PBK4q9KEEBHhFvSXCUirIw, 3FWPpM…</td><td>1</td><td>3.54</td><td>1</td><td>1</td><td>0</td><td>0</td><td>0</td><td>1</td><td>1</td><td>0</td><td>0</td><td>0</td><td>0</td><td>2007-01-05 19:40:59</td></tr><tr><td>&hellip;</td><td>&hellip;</td><td>&hellip;</td><td>&hellip;</td><td>&hellip;</td><td>&hellip;</td><td>&hellip;</td><td>&hellip;</td><td>&hellip;</td><td>&hellip;</td><td>&hellip;</td><td>&hellip;</td><td>&hellip;</td><td>&hellip;</td><td>&hellip;</td><td>&hellip;</td><td>&hellip;</td><td>&hellip;</td><td>&hellip;</td><td>&hellip;</td><td>&hellip;</td><td>&hellip;</td><td>&hellip;</td></tr><tr><td>&quot;fB3jbHi3m0L2KgGOxBv6uw&quot;</td><td>&quot;Jerrold&quot;</td><td>23</td><td>&quot;2015-01-06 00:31:31&quot;</td><td>7</td><td>0</td><td>0</td><td>null</td><td>null</td><td>0</td><td>4.92</td><td>0</td><td>0</td><td>0</td><td>0</td><td>0</td><td>0</td><td>0</td><td>0</td><td>0</td><td>0</td><td>0</td><td>2015-01-06 00:31:31</td></tr><tr><td>&quot;68czcr4BxJyMQ9cJBm6C7Q&quot;</td><td>&quot;Jane&quot;</td><td>1</td><td>&quot;2016-06-14 07:20:52&quot;</td><td>0</td><td>0</td><td>0</td><td>null</td><td>null</td><td>0</td><td>5.0</td><td>0</td><td>0</td><td>0</td><td>0</td><td>0</td><td>0</td><td>0</td><td>0</td><td>0</td><td>0</td><td>0</td><td>2016-06-14 07:20:52</td></tr><tr><td>&quot;1x3KMskYxOuJCjRz70xOqQ&quot;</td><td>&quot;Shomari&quot;</td><td>4</td><td>&quot;2017-02-04 15:31:58&quot;</td><td>1</td><td>1</td><td>0</td><td>null</td><td>null</td><td>0</td><td>2.0</td><td>0</td><td>0</td><td>0</td><td>0</td><td>0</td><td>0</td><td>0</td><td>0</td><td>0</td><td>0</td><td>0</td><td>2017-02-04 15:31:58</td></tr><tr><td>&quot;ulfGl4tdbrH05xKzh5lnog&quot;</td><td>&quot;Susanne&quot;</td><td>2</td><td>&quot;2011-01-14 00:29:08&quot;</td><td>0</td><td>0</td><td>0</td><td>null</td><td>null</td><td>0</td><td>3.0</td><td>0</td><td>0</td><td>0</td><td>0</td><td>0</td><td>0</td><td>0</td><td>0</td><td>0</td><td>0</td><td>0</td><td>2011-01-14 00:29:08</td></tr><tr><td>&quot;wL5jPrLRVCK_Pmo4lM1zpA&quot;</td><td>&quot;Isa&quot;</td><td>2</td><td>&quot;2020-12-19 02:32:39&quot;</td><td>0</td><td>0</td><td>0</td><td>null</td><td>null</td><td>0</td><td>5.0</td><td>0</td><td>0</td><td>0</td><td>0</td><td>0</td><td>0</td><td>0</td><td>0</td><td>0</td><td>0</td><td>0</td><td>2020-12-19 02:32:39</td></tr></tbody></table></div>"
      ],
      "text/plain": [
       "shape: (1_987_897, 23)\n",
       "┌────────────┬─────────┬───────────┬───────────┬───┬───────────┬───────────┬───────────┬───────────┐\n",
       "│ user_id    ┆ name    ┆ review_co ┆ yelping_s ┆ … ┆ complimen ┆ complimen ┆ complimen ┆ yelping_d │\n",
       "│ ---        ┆ ---     ┆ unt       ┆ ince      ┆   ┆ t_funny   ┆ t_writer  ┆ t_photos  ┆ t         │\n",
       "│ str        ┆ str     ┆ ---       ┆ ---       ┆   ┆ ---       ┆ ---       ┆ ---       ┆ ---       │\n",
       "│            ┆         ┆ i64       ┆ str       ┆   ┆ i64       ┆ i64       ┆ i64       ┆ datetime[ │\n",
       "│            ┆         ┆           ┆           ┆   ┆           ┆           ┆           ┆ μs]       │\n",
       "╞════════════╪═════════╪═══════════╪═══════════╪═══╪═══════════╪═══════════╪═══════════╪═══════════╡\n",
       "│ qVc8ODYU5S ┆ Walker  ┆ 585       ┆ 2007-01-2 ┆ … ┆ 467       ┆ 239       ┆ 180       ┆ 2007-01-2 │\n",
       "│ ZjKXVBgXdI ┆         ┆           ┆ 5         ┆   ┆           ┆           ┆           ┆ 5         │\n",
       "│ 7w         ┆         ┆           ┆ 16:47:26  ┆   ┆           ┆           ┆           ┆ 16:47:26  │\n",
       "│ j14WgRoU_- ┆ Daniel  ┆ 4333      ┆ 2009-01-2 ┆ … ┆ 3131      ┆ 1521      ┆ 1946      ┆ 2009-01-2 │\n",
       "│ 2ZE1aw1dXr ┆         ┆           ┆ 5         ┆   ┆           ┆           ┆           ┆ 5         │\n",
       "│ Jg         ┆         ┆           ┆ 04:35:42  ┆   ┆           ┆           ┆           ┆ 04:35:42  │\n",
       "│ 2WnXYQFK0h ┆ Steph   ┆ 665       ┆ 2008-07-2 ┆ … ┆ 119       ┆ 35        ┆ 18        ┆ 2008-07-2 │\n",
       "│ XEoTxPtV2z ┆         ┆           ┆ 5         ┆   ┆           ┆           ┆           ┆ 5         │\n",
       "│ vg         ┆         ┆           ┆ 10:41:00  ┆   ┆           ┆           ┆           ┆ 10:41:00  │\n",
       "│ SZDeASXq7o ┆ Gwen    ┆ 224       ┆ 2005-11-2 ┆ … ┆ 26        ┆ 10        ┆ 9         ┆ 2005-11-2 │\n",
       "│ 05mMNLshsd ┆         ┆           ┆ 9         ┆   ┆           ┆           ┆           ┆ 9         │\n",
       "│ IA         ┆         ┆           ┆ 04:38:33  ┆   ┆           ┆           ┆           ┆ 04:38:33  │\n",
       "│ hA5lMy-Enn ┆ Karen   ┆ 79        ┆ 2007-01-0 ┆ … ┆ 0         ┆ 0         ┆ 0         ┆ 2007-01-0 │\n",
       "│ csH4JoR-hF ┆         ┆           ┆ 5         ┆   ┆           ┆           ┆           ┆ 5         │\n",
       "│ GQ         ┆         ┆           ┆ 19:40:59  ┆   ┆           ┆           ┆           ┆ 19:40:59  │\n",
       "│ …          ┆ …       ┆ …         ┆ …         ┆ … ┆ …         ┆ …         ┆ …         ┆ …         │\n",
       "│ fB3jbHi3m0 ┆ Jerrold ┆ 23        ┆ 2015-01-0 ┆ … ┆ 0         ┆ 0         ┆ 0         ┆ 2015-01-0 │\n",
       "│ L2KgGOxBv6 ┆         ┆           ┆ 6         ┆   ┆           ┆           ┆           ┆ 6         │\n",
       "│ uw         ┆         ┆           ┆ 00:31:31  ┆   ┆           ┆           ┆           ┆ 00:31:31  │\n",
       "│ 68czcr4BxJ ┆ Jane    ┆ 1         ┆ 2016-06-1 ┆ … ┆ 0         ┆ 0         ┆ 0         ┆ 2016-06-1 │\n",
       "│ yMQ9cJBm6C ┆         ┆           ┆ 4         ┆   ┆           ┆           ┆           ┆ 4         │\n",
       "│ 7Q         ┆         ┆           ┆ 07:20:52  ┆   ┆           ┆           ┆           ┆ 07:20:52  │\n",
       "│ 1x3KMskYxO ┆ Shomari ┆ 4         ┆ 2017-02-0 ┆ … ┆ 0         ┆ 0         ┆ 0         ┆ 2017-02-0 │\n",
       "│ uJCjRz70xO ┆         ┆           ┆ 4         ┆   ┆           ┆           ┆           ┆ 4         │\n",
       "│ qQ         ┆         ┆           ┆ 15:31:58  ┆   ┆           ┆           ┆           ┆ 15:31:58  │\n",
       "│ ulfGl4tdbr ┆ Susanne ┆ 2         ┆ 2011-01-1 ┆ … ┆ 0         ┆ 0         ┆ 0         ┆ 2011-01-1 │\n",
       "│ H05xKzh5ln ┆         ┆           ┆ 4         ┆   ┆           ┆           ┆           ┆ 4         │\n",
       "│ og         ┆         ┆           ┆ 00:29:08  ┆   ┆           ┆           ┆           ┆ 00:29:08  │\n",
       "│ wL5jPrLRVC ┆ Isa     ┆ 2         ┆ 2020-12-1 ┆ … ┆ 0         ┆ 0         ┆ 0         ┆ 2020-12-1 │\n",
       "│ K_Pmo4lM1z ┆         ┆           ┆ 9         ┆   ┆           ┆           ┆           ┆ 9         │\n",
       "│ pA         ┆         ┆           ┆ 02:32:39  ┆   ┆           ┆           ┆           ┆ 02:32:39  │\n",
       "└────────────┴─────────┴───────────┴───────────┴───┴───────────┴───────────┴───────────┴───────────┘"
      ]
     },
     "execution_count": 94,
     "metadata": {},
     "output_type": "execute_result"
    }
   ],
   "source": [
    "user_lf.with_columns(\n",
    "    pl.col(\"yelping_since\").str.to_datetime().alias(\"yelping_dt\")\n",
    ").collect()"
   ]
  },
  {
   "cell_type": "markdown",
   "id": "7fb4acb6",
   "metadata": {},
   "source": [
    "## <strong style=\"color:#5e17eb\"> Summary </strong>\n",
    "\n",
    "**Goal: Convert raw strings or numbers into Polars date/time types.**\n",
    "| Sub-Topic                      | Function / Method                                        | Example                                                |\n",
    "| ------------------------------ | -------------------------------------------------------- | ------------------------------------------------------ |\n",
    "| **1.1 Parse from String**      | `.str.strptime(dtype, format=...)`                       | `pl.col(\"date_str\").str.strptime(pl.Date, \"%Y-%m-%d\")` |\n",
    "| **1.2 Auto-parse**             | `.str.to_date()`, `.str.to_datetime()`, `.str.to_time()` | `pl.col(\"date_str\").str.to_datetime()`                 |\n",
    "| **1.3 From Timestamps**        | `.cast(pl.Datetime)`                                     | `pl.col(\"timestamp\").cast(pl.Datetime)`                |\n",
    "| **1.4 Create from Components** | `pl.date(year, month, day)`                              | `pl.date(2025, 8, 5)`                                  |\n",
    "| **1.5 From Epoch Seconds**     | `.dt.epoch(time_unit=\"s\")`                               | `pl.Series([1620000000]).cast(pl.Datetime(\"s\"))`       |\n",
    "\n"
   ]
  },
  {
   "cell_type": "markdown",
   "id": "da96b7f4",
   "metadata": {},
   "source": [
    "# <strong style=\"color:#5e17eb\"> 2. Extracting Date/Time Parts </strong>\n"
   ]
  },
  {
   "cell_type": "markdown",
   "id": "a6a3812d",
   "metadata": {},
   "source": [
    "## <strong style=\"color:#5e17eb\">Calender Parts  </strong>"
   ]
  },
  {
   "cell_type": "code",
   "execution_count": null,
   "id": "51bd51b2",
   "metadata": {},
   "outputs": [
    {
     "data": {
      "text/html": [
       "<div><style>\n",
       ".dataframe > thead > tr,\n",
       ".dataframe > tbody > tr {\n",
       "  text-align: right;\n",
       "  white-space: pre-wrap;\n",
       "}\n",
       "</style>\n",
       "<small>shape: (1_987_897, 3)</small><table border=\"1\" class=\"dataframe\"><thead><tr><th>year</th><th>month</th><th>day</th></tr><tr><td>i32</td><td>i8</td><td>i8</td></tr></thead><tbody><tr><td>2007</td><td>1</td><td>25</td></tr><tr><td>2009</td><td>1</td><td>25</td></tr><tr><td>2008</td><td>7</td><td>25</td></tr><tr><td>2005</td><td>11</td><td>29</td></tr><tr><td>2007</td><td>1</td><td>5</td></tr><tr><td>&hellip;</td><td>&hellip;</td><td>&hellip;</td></tr><tr><td>2015</td><td>1</td><td>6</td></tr><tr><td>2016</td><td>6</td><td>14</td></tr><tr><td>2017</td><td>2</td><td>4</td></tr><tr><td>2011</td><td>1</td><td>14</td></tr><tr><td>2020</td><td>12</td><td>19</td></tr></tbody></table></div>"
      ],
      "text/plain": [
       "shape: (1_987_897, 3)\n",
       "┌──────┬───────┬─────┐\n",
       "│ year ┆ month ┆ day │\n",
       "│ ---  ┆ ---   ┆ --- │\n",
       "│ i32  ┆ i8    ┆ i8  │\n",
       "╞══════╪═══════╪═════╡\n",
       "│ 2007 ┆ 1     ┆ 25  │\n",
       "│ 2009 ┆ 1     ┆ 25  │\n",
       "│ 2008 ┆ 7     ┆ 25  │\n",
       "│ 2005 ┆ 11    ┆ 29  │\n",
       "│ 2007 ┆ 1     ┆ 5   │\n",
       "│ …    ┆ …     ┆ …   │\n",
       "│ 2015 ┆ 1     ┆ 6   │\n",
       "│ 2016 ┆ 6     ┆ 14  │\n",
       "│ 2017 ┆ 2     ┆ 4   │\n",
       "│ 2011 ┆ 1     ┆ 14  │\n",
       "│ 2020 ┆ 12    ┆ 19  │\n",
       "└──────┴───────┴─────┘"
      ]
     },
     "execution_count": 95,
     "metadata": {},
     "output_type": "execute_result"
    }
   ],
   "source": [
    "user_lf.select([\n",
    "    pl.col(\"yelping_dt\").dt.year().alias(\"year\"),\n",
    "    pl.col(\"yelping_dt\").dt.month().alias(\"month\"),\n",
    "    pl.col(\"yelping_dt\").dt.day().alias(\"day\")\n",
    "]).collect()"
   ]
  },
  {
   "cell_type": "markdown",
   "id": "a726f0f7",
   "metadata": {},
   "source": [
    "## <strong style=\"color:#5e17eb\">  Time Pats</strong>"
   ]
  },
  {
   "cell_type": "code",
   "execution_count": null,
   "id": "67ce392a",
   "metadata": {},
   "outputs": [
    {
     "data": {
      "text/html": [
       "<div><style>\n",
       ".dataframe > thead > tr,\n",
       ".dataframe > tbody > tr {\n",
       "  text-align: right;\n",
       "  white-space: pre-wrap;\n",
       "}\n",
       "</style>\n",
       "<small>shape: (1_987_897, 4)</small><table border=\"1\" class=\"dataframe\"><thead><tr><th>yelping_since</th><th>year</th><th>month</th><th>day</th></tr><tr><td>str</td><td>i32</td><td>i8</td><td>i8</td></tr></thead><tbody><tr><td>&quot;2007-01-25 16:47:26&quot;</td><td>2007</td><td>1</td><td>25</td></tr><tr><td>&quot;2009-01-25 04:35:42&quot;</td><td>2009</td><td>1</td><td>25</td></tr><tr><td>&quot;2008-07-25 10:41:00&quot;</td><td>2008</td><td>7</td><td>25</td></tr><tr><td>&quot;2005-11-29 04:38:33&quot;</td><td>2005</td><td>11</td><td>29</td></tr><tr><td>&quot;2007-01-05 19:40:59&quot;</td><td>2007</td><td>1</td><td>5</td></tr><tr><td>&hellip;</td><td>&hellip;</td><td>&hellip;</td><td>&hellip;</td></tr><tr><td>&quot;2015-01-06 00:31:31&quot;</td><td>2015</td><td>1</td><td>6</td></tr><tr><td>&quot;2016-06-14 07:20:52&quot;</td><td>2016</td><td>6</td><td>14</td></tr><tr><td>&quot;2017-02-04 15:31:58&quot;</td><td>2017</td><td>2</td><td>4</td></tr><tr><td>&quot;2011-01-14 00:29:08&quot;</td><td>2011</td><td>1</td><td>14</td></tr><tr><td>&quot;2020-12-19 02:32:39&quot;</td><td>2020</td><td>12</td><td>19</td></tr></tbody></table></div>"
      ],
      "text/plain": [
       "shape: (1_987_897, 4)\n",
       "┌─────────────────────┬──────┬───────┬─────┐\n",
       "│ yelping_since       ┆ year ┆ month ┆ day │\n",
       "│ ---                 ┆ ---  ┆ ---   ┆ --- │\n",
       "│ str                 ┆ i32  ┆ i8    ┆ i8  │\n",
       "╞═════════════════════╪══════╪═══════╪═════╡\n",
       "│ 2007-01-25 16:47:26 ┆ 2007 ┆ 1     ┆ 25  │\n",
       "│ 2009-01-25 04:35:42 ┆ 2009 ┆ 1     ┆ 25  │\n",
       "│ 2008-07-25 10:41:00 ┆ 2008 ┆ 7     ┆ 25  │\n",
       "│ 2005-11-29 04:38:33 ┆ 2005 ┆ 11    ┆ 29  │\n",
       "│ 2007-01-05 19:40:59 ┆ 2007 ┆ 1     ┆ 5   │\n",
       "│ …                   ┆ …    ┆ …     ┆ …   │\n",
       "│ 2015-01-06 00:31:31 ┆ 2015 ┆ 1     ┆ 6   │\n",
       "│ 2016-06-14 07:20:52 ┆ 2016 ┆ 6     ┆ 14  │\n",
       "│ 2017-02-04 15:31:58 ┆ 2017 ┆ 2     ┆ 4   │\n",
       "│ 2011-01-14 00:29:08 ┆ 2011 ┆ 1     ┆ 14  │\n",
       "│ 2020-12-19 02:32:39 ┆ 2020 ┆ 12    ┆ 19  │\n",
       "└─────────────────────┴──────┴───────┴─────┘"
      ]
     },
     "execution_count": 96,
     "metadata": {},
     "output_type": "execute_result"
    }
   ],
   "source": [
    "calendar_parts = user_lf.with_columns([\n",
    "    pl.col(\"yelping_dt\").dt.year().alias(\"year\"),\n",
    "    pl.col(\"yelping_dt\").dt.month().alias(\"month\"),\n",
    "    pl.col(\"yelping_dt\").dt.day().alias(\"day\")\n",
    "])\n",
    "\n",
    "calendar_parts.select([\"yelping_since\", \"year\", \"month\", \"day\"]).collect()\n"
   ]
  },
  {
   "cell_type": "markdown",
   "id": "e50143fe",
   "metadata": {},
   "source": [
    "## <strong style=\"color:#5e17eb\"> Week and day Info\n",
    " </strong>"
   ]
  },
  {
   "cell_type": "code",
   "execution_count": null,
   "id": "fe75d8b4",
   "metadata": {},
   "outputs": [
    {
     "data": {
      "text/html": [
       "<div><style>\n",
       ".dataframe > thead > tr,\n",
       ".dataframe > tbody > tr {\n",
       "  text-align: right;\n",
       "  white-space: pre-wrap;\n",
       "}\n",
       "</style>\n",
       "<small>shape: (5, 5)</small><table border=\"1\" class=\"dataframe\"><thead><tr><th>yelping_since</th><th>hour</th><th>minute</th><th>second</th><th>millisecond</th></tr><tr><td>str</td><td>i8</td><td>i8</td><td>i8</td><td>i32</td></tr></thead><tbody><tr><td>&quot;2007-01-25 16:47:26&quot;</td><td>16</td><td>47</td><td>26</td><td>0</td></tr><tr><td>&quot;2009-01-25 04:35:42&quot;</td><td>4</td><td>35</td><td>42</td><td>0</td></tr><tr><td>&quot;2008-07-25 10:41:00&quot;</td><td>10</td><td>41</td><td>0</td><td>0</td></tr><tr><td>&quot;2005-11-29 04:38:33&quot;</td><td>4</td><td>38</td><td>33</td><td>0</td></tr><tr><td>&quot;2007-01-05 19:40:59&quot;</td><td>19</td><td>40</td><td>59</td><td>0</td></tr></tbody></table></div>"
      ],
      "text/plain": [
       "shape: (5, 5)\n",
       "┌─────────────────────┬──────┬────────┬────────┬─────────────┐\n",
       "│ yelping_since       ┆ hour ┆ minute ┆ second ┆ millisecond │\n",
       "│ ---                 ┆ ---  ┆ ---    ┆ ---    ┆ ---         │\n",
       "│ str                 ┆ i8   ┆ i8     ┆ i8     ┆ i32         │\n",
       "╞═════════════════════╪══════╪════════╪════════╪═════════════╡\n",
       "│ 2007-01-25 16:47:26 ┆ 16   ┆ 47     ┆ 26     ┆ 0           │\n",
       "│ 2009-01-25 04:35:42 ┆ 4    ┆ 35     ┆ 42     ┆ 0           │\n",
       "│ 2008-07-25 10:41:00 ┆ 10   ┆ 41     ┆ 0      ┆ 0           │\n",
       "│ 2005-11-29 04:38:33 ┆ 4    ┆ 38     ┆ 33     ┆ 0           │\n",
       "│ 2007-01-05 19:40:59 ┆ 19   ┆ 40     ┆ 59     ┆ 0           │\n",
       "└─────────────────────┴──────┴────────┴────────┴─────────────┘"
      ]
     },
     "execution_count": 97,
     "metadata": {},
     "output_type": "execute_result"
    }
   ],
   "source": [
    "time_parts = user_lf.with_columns([\n",
    "    pl.col(\"yelping_dt\").dt.hour().alias(\"hour\"),\n",
    "    pl.col(\"yelping_dt\").dt.minute().alias(\"minute\"),\n",
    "    pl.col(\"yelping_dt\").dt.second().alias(\"second\"),\n",
    "    pl.col(\"yelping_dt\").dt.millisecond().alias(\"millisecond\")\n",
    "])\n",
    "\n",
    "time_parts.select([\"yelping_since\", \"hour\", \"minute\", \"second\", \"millisecond\"]).collect().head()\n"
   ]
  },
  {
   "cell_type": "code",
   "execution_count": null,
   "id": "39d12d55",
   "metadata": {},
   "outputs": [
    {
     "data": {
      "text/html": [
       "<div><style>\n",
       ".dataframe > thead > tr,\n",
       ".dataframe > tbody > tr {\n",
       "  text-align: right;\n",
       "  white-space: pre-wrap;\n",
       "}\n",
       "</style>\n",
       "<small>shape: (5, 4)</small><table border=\"1\" class=\"dataframe\"><thead><tr><th>yelping_since</th><th>week</th><th>weekday</th><th>ordinal_day</th></tr><tr><td>str</td><td>i8</td><td>i8</td><td>i16</td></tr></thead><tbody><tr><td>&quot;2007-01-25 16:47:26&quot;</td><td>4</td><td>4</td><td>25</td></tr><tr><td>&quot;2009-01-25 04:35:42&quot;</td><td>4</td><td>7</td><td>25</td></tr><tr><td>&quot;2008-07-25 10:41:00&quot;</td><td>30</td><td>5</td><td>207</td></tr><tr><td>&quot;2005-11-29 04:38:33&quot;</td><td>48</td><td>2</td><td>333</td></tr><tr><td>&quot;2007-01-05 19:40:59&quot;</td><td>1</td><td>5</td><td>5</td></tr></tbody></table></div>"
      ],
      "text/plain": [
       "shape: (5, 4)\n",
       "┌─────────────────────┬──────┬─────────┬─────────────┐\n",
       "│ yelping_since       ┆ week ┆ weekday ┆ ordinal_day │\n",
       "│ ---                 ┆ ---  ┆ ---     ┆ ---         │\n",
       "│ str                 ┆ i8   ┆ i8      ┆ i16         │\n",
       "╞═════════════════════╪══════╪═════════╪═════════════╡\n",
       "│ 2007-01-25 16:47:26 ┆ 4    ┆ 4       ┆ 25          │\n",
       "│ 2009-01-25 04:35:42 ┆ 4    ┆ 7       ┆ 25          │\n",
       "│ 2008-07-25 10:41:00 ┆ 30   ┆ 5       ┆ 207         │\n",
       "│ 2005-11-29 04:38:33 ┆ 48   ┆ 2       ┆ 333         │\n",
       "│ 2007-01-05 19:40:59 ┆ 1    ┆ 5       ┆ 5           │\n",
       "└─────────────────────┴──────┴─────────┴─────────────┘"
      ]
     },
     "execution_count": 98,
     "metadata": {},
     "output_type": "execute_result"
    }
   ],
   "source": [
    "week_day_info = user_lf.with_columns([\n",
    "    pl.col(\"yelping_dt\").dt.week().alias(\"week\"),\n",
    "    pl.col(\"yelping_dt\").dt.weekday().alias(\"weekday\"),       # Monday=0\n",
    "    pl.col(\"yelping_dt\").dt.ordinal_day().alias(\"ordinal_day\") # Day of year (1-366)\n",
    "])\n",
    "\n",
    "week_day_info.select([\"yelping_since\", \"week\", \"weekday\", \"ordinal_day\"]).collect().head()\n"
   ]
  },
  {
   "cell_type": "markdown",
   "id": "20005154",
   "metadata": {},
   "source": [
    "## <strong style=\"color:#5e17eb\"> Start/end Info  </strong>"
   ]
  },
  {
   "cell_type": "code",
   "execution_count": null,
   "id": "1fecc5f4",
   "metadata": {},
   "outputs": [
    {
     "data": {
      "text/html": [
       "<div><style>\n",
       ".dataframe > thead > tr,\n",
       ".dataframe > tbody > tr {\n",
       "  text-align: right;\n",
       "  white-space: pre-wrap;\n",
       "}\n",
       "</style>\n",
       "<small>shape: (1_987_897, 5)</small><table border=\"1\" class=\"dataframe\"><thead><tr><th>yelping_dt</th><th>start_of_month</th><th>end_of_month</th><th>start_of_year</th><th>end_of_year</th></tr><tr><td>datetime[μs]</td><td>datetime[μs]</td><td>datetime[μs]</td><td>datetime[μs]</td><td>datetime[μs]</td></tr></thead><tbody><tr><td>2007-01-25 16:47:26</td><td>2007-01-01 00:00:00</td><td>2007-02-01 00:00:00</td><td>2007-01-01 00:00:00</td><td>2008-01-01 00:00:00</td></tr><tr><td>2009-01-25 04:35:42</td><td>2009-01-01 00:00:00</td><td>2009-02-01 00:00:00</td><td>2009-01-01 00:00:00</td><td>2010-01-01 00:00:00</td></tr><tr><td>2008-07-25 10:41:00</td><td>2008-07-01 00:00:00</td><td>2008-08-01 00:00:00</td><td>2008-01-01 00:00:00</td><td>2009-01-01 00:00:00</td></tr><tr><td>2005-11-29 04:38:33</td><td>2005-11-01 00:00:00</td><td>2005-12-01 00:00:00</td><td>2005-01-01 00:00:00</td><td>2006-01-01 00:00:00</td></tr><tr><td>2007-01-05 19:40:59</td><td>2007-01-01 00:00:00</td><td>2007-02-01 00:00:00</td><td>2007-01-01 00:00:00</td><td>2008-01-01 00:00:00</td></tr><tr><td>&hellip;</td><td>&hellip;</td><td>&hellip;</td><td>&hellip;</td><td>&hellip;</td></tr><tr><td>2015-01-06 00:31:31</td><td>2015-01-01 00:00:00</td><td>2015-02-01 00:00:00</td><td>2015-01-01 00:00:00</td><td>2016-01-01 00:00:00</td></tr><tr><td>2016-06-14 07:20:52</td><td>2016-06-01 00:00:00</td><td>2016-07-01 00:00:00</td><td>2016-01-01 00:00:00</td><td>2017-01-01 00:00:00</td></tr><tr><td>2017-02-04 15:31:58</td><td>2017-02-01 00:00:00</td><td>2017-03-01 00:00:00</td><td>2017-01-01 00:00:00</td><td>2018-01-01 00:00:00</td></tr><tr><td>2011-01-14 00:29:08</td><td>2011-01-01 00:00:00</td><td>2011-02-01 00:00:00</td><td>2011-01-01 00:00:00</td><td>2012-01-01 00:00:00</td></tr><tr><td>2020-12-19 02:32:39</td><td>2020-12-01 00:00:00</td><td>2021-01-01 00:00:00</td><td>2020-01-01 00:00:00</td><td>2021-01-01 00:00:00</td></tr></tbody></table></div>"
      ],
      "text/plain": [
       "shape: (1_987_897, 5)\n",
       "┌──────────────┬────────────────┬──────────────────────┬─────────────────────┬─────────────────────┐\n",
       "│ yelping_dt   ┆ start_of_month ┆ end_of_month         ┆ start_of_year       ┆ end_of_year         │\n",
       "│ ---          ┆ ---            ┆ ---                  ┆ ---                 ┆ ---                 │\n",
       "│ datetime[μs] ┆ datetime[μs]   ┆ datetime[μs]         ┆ datetime[μs]        ┆ datetime[μs]        │\n",
       "╞══════════════╪════════════════╪══════════════════════╪═════════════════════╪═════════════════════╡\n",
       "│ 2007-01-25   ┆ 2007-01-01     ┆ 2007-02-01 00:00:00  ┆ 2007-01-01 00:00:00 ┆ 2008-01-01 00:00:00 │\n",
       "│ 16:47:26     ┆ 00:00:00       ┆                      ┆                     ┆                     │\n",
       "│ 2009-01-25   ┆ 2009-01-01     ┆ 2009-02-01 00:00:00  ┆ 2009-01-01 00:00:00 ┆ 2010-01-01 00:00:00 │\n",
       "│ 04:35:42     ┆ 00:00:00       ┆                      ┆                     ┆                     │\n",
       "│ 2008-07-25   ┆ 2008-07-01     ┆ 2008-08-01 00:00:00  ┆ 2008-01-01 00:00:00 ┆ 2009-01-01 00:00:00 │\n",
       "│ 10:41:00     ┆ 00:00:00       ┆                      ┆                     ┆                     │\n",
       "│ 2005-11-29   ┆ 2005-11-01     ┆ 2005-12-01 00:00:00  ┆ 2005-01-01 00:00:00 ┆ 2006-01-01 00:00:00 │\n",
       "│ 04:38:33     ┆ 00:00:00       ┆                      ┆                     ┆                     │\n",
       "│ 2007-01-05   ┆ 2007-01-01     ┆ 2007-02-01 00:00:00  ┆ 2007-01-01 00:00:00 ┆ 2008-01-01 00:00:00 │\n",
       "│ 19:40:59     ┆ 00:00:00       ┆                      ┆                     ┆                     │\n",
       "│ …            ┆ …              ┆ …                    ┆ …                   ┆ …                   │\n",
       "│ 2015-01-06   ┆ 2015-01-01     ┆ 2015-02-01 00:00:00  ┆ 2015-01-01 00:00:00 ┆ 2016-01-01 00:00:00 │\n",
       "│ 00:31:31     ┆ 00:00:00       ┆                      ┆                     ┆                     │\n",
       "│ 2016-06-14   ┆ 2016-06-01     ┆ 2016-07-01 00:00:00  ┆ 2016-01-01 00:00:00 ┆ 2017-01-01 00:00:00 │\n",
       "│ 07:20:52     ┆ 00:00:00       ┆                      ┆                     ┆                     │\n",
       "│ 2017-02-04   ┆ 2017-02-01     ┆ 2017-03-01 00:00:00  ┆ 2017-01-01 00:00:00 ┆ 2018-01-01 00:00:00 │\n",
       "│ 15:31:58     ┆ 00:00:00       ┆                      ┆                     ┆                     │\n",
       "│ 2011-01-14   ┆ 2011-01-01     ┆ 2011-02-01 00:00:00  ┆ 2011-01-01 00:00:00 ┆ 2012-01-01 00:00:00 │\n",
       "│ 00:29:08     ┆ 00:00:00       ┆                      ┆                     ┆                     │\n",
       "│ 2020-12-19   ┆ 2020-12-01     ┆ 2021-01-01 00:00:00  ┆ 2020-01-01 00:00:00 ┆ 2021-01-01 00:00:00 │\n",
       "│ 02:32:39     ┆ 00:00:00       ┆                      ┆                     ┆                     │\n",
       "└──────────────┴────────────────┴──────────────────────┴─────────────────────┴─────────────────────┘"
      ]
     },
     "execution_count": 100,
     "metadata": {},
     "output_type": "execute_result"
    }
   ],
   "source": [
    "start_end_period = user_lf.with_columns([\n",
    "    # Start of month/year\n",
    "    pl.col(\"yelping_dt\").dt.truncate(\"1mo\").alias(\"start_of_month\"),\n",
    "    pl.col(\"yelping_dt\").dt.truncate(\"1y\").alias(\"start_of_year\"),\n",
    "\n",
    "    # End of month/year\n",
    "    (pl.col(\"yelping_dt\").dt.truncate(\"1mo\") + pl.duration(days=31)).dt.truncate(\"1mo\").alias(\"end_of_month\"),\n",
    "    (pl.col(\"yelping_dt\").dt.truncate(\"1y\") + pl.duration(days=366)).dt.truncate(\"1y\").alias(\"end_of_year\")\n",
    "])\n",
    "\n",
    "start_end_period.select([\n",
    "    \"yelping_dt\", \"start_of_month\", \"end_of_month\", \"start_of_year\", \"end_of_year\"\n",
    "]).collect()"
   ]
  },
  {
   "cell_type": "markdown",
   "id": "6ae1ac2e",
   "metadata": {},
   "source": [
    "## <strong style=\"color:#5e17eb\"> Summary </strong>\n",
    "\n",
    "**Goal: Break date/time into components for analysis.**\n",
    "\n",
    "| Sub-Topic                   | Function / Method                                                 | Example                               |\n",
    "| --------------------------- | ----------------------------------------------------------------- | ------------------------------------- |\n",
    "| **2.1 Calendar Parts**      | `.dt.year()`, `.dt.month()`, `.dt.day()`                          | `df.select(pl.col(\"date\").dt.year())` |\n",
    "| **2.2 Time Parts**          | `.dt.hour()`, `.dt.minute()`, `.dt.second()`, `.dt.millisecond()` | `df.select(pl.col(\"time\").dt.hour())` |\n",
    "| **2.3 Week & Day Info**     | `.dt.week()`, `.dt.weekday()`, `.dt.ordinal_day()`                | `pl.col(\"date\").dt.weekday()`         |\n",
    "| **2.4 Start/End of Period** | `.dt.start_of(unit)`, `.dt.end_of(unit)`                          | `pl.col(\"date\").dt.start_of(\"month\")` |\n"
   ]
  },
  {
   "cell_type": "markdown",
   "id": "b684fd5e",
   "metadata": {},
   "source": [
    "# <strong style=\"color:#5e17eb\">  3. Manipulating Dates & Times</strong>\n"
   ]
  },
  {
   "cell_type": "markdown",
   "id": "3de70d08",
   "metadata": {},
   "source": [
    "> Offsets support d (days), h (hours), m (minutes), s (seconds), mo (months), y (years)."
   ]
  },
  {
   "cell_type": "markdown",
   "id": "8ae06ea3",
   "metadata": {},
   "source": [
    "## <strong style=\"color:#5e17eb\">  Add & subtract </strong>"
   ]
  },
  {
   "cell_type": "code",
   "execution_count": null,
   "id": "7ad4d950",
   "metadata": {},
   "outputs": [
    {
     "data": {
      "text/html": [
       "<div><style>\n",
       ".dataframe > thead > tr,\n",
       ".dataframe > tbody > tr {\n",
       "  text-align: right;\n",
       "  white-space: pre-wrap;\n",
       "}\n",
       "</style>\n",
       "<small>shape: (5, 3)</small><table border=\"1\" class=\"dataframe\"><thead><tr><th>yelping_dt</th><th>plus_1_day</th><th>minus_2_hours</th></tr><tr><td>datetime[μs]</td><td>datetime[μs]</td><td>datetime[μs]</td></tr></thead><tbody><tr><td>2007-01-25 16:47:26</td><td>2007-01-26 16:47:26</td><td>2007-01-25 14:47:26</td></tr><tr><td>2009-01-25 04:35:42</td><td>2009-01-26 04:35:42</td><td>2009-01-25 02:35:42</td></tr><tr><td>2008-07-25 10:41:00</td><td>2008-07-26 10:41:00</td><td>2008-07-25 08:41:00</td></tr><tr><td>2005-11-29 04:38:33</td><td>2005-11-30 04:38:33</td><td>2005-11-29 02:38:33</td></tr><tr><td>2007-01-05 19:40:59</td><td>2007-01-06 19:40:59</td><td>2007-01-05 17:40:59</td></tr></tbody></table></div>"
      ],
      "text/plain": [
       "shape: (5, 3)\n",
       "┌─────────────────────┬─────────────────────┬─────────────────────┐\n",
       "│ yelping_dt          ┆ plus_1_day          ┆ minus_2_hours       │\n",
       "│ ---                 ┆ ---                 ┆ ---                 │\n",
       "│ datetime[μs]        ┆ datetime[μs]        ┆ datetime[μs]        │\n",
       "╞═════════════════════╪═════════════════════╪═════════════════════╡\n",
       "│ 2007-01-25 16:47:26 ┆ 2007-01-26 16:47:26 ┆ 2007-01-25 14:47:26 │\n",
       "│ 2009-01-25 04:35:42 ┆ 2009-01-26 04:35:42 ┆ 2009-01-25 02:35:42 │\n",
       "│ 2008-07-25 10:41:00 ┆ 2008-07-26 10:41:00 ┆ 2008-07-25 08:41:00 │\n",
       "│ 2005-11-29 04:38:33 ┆ 2005-11-30 04:38:33 ┆ 2005-11-29 02:38:33 │\n",
       "│ 2007-01-05 19:40:59 ┆ 2007-01-06 19:40:59 ┆ 2007-01-05 17:40:59 │\n",
       "└─────────────────────┴─────────────────────┴─────────────────────┘"
      ]
     },
     "execution_count": 101,
     "metadata": {},
     "output_type": "execute_result"
    }
   ],
   "source": [
    "add_subtract = user_lf.with_columns([\n",
    "    pl.col(\"yelping_dt\").dt.offset_by(\"1d\").alias(\"plus_1_day\"),\n",
    "    pl.col(\"yelping_dt\").dt.offset_by(\"-2h\").alias(\"minus_2_hours\")\n",
    "])\n",
    "\n",
    "add_subtract.select([\"yelping_dt\", \"plus_1_day\", \"minus_2_hours\"]).collect().head()\n"
   ]
  },
  {
   "cell_type": "markdown",
   "id": "8919dcf7",
   "metadata": {},
   "source": [
    "## <strong style=\"color:#5e17eb\">Rounding  </strong>"
   ]
  },
  {
   "cell_type": "code",
   "execution_count": null,
   "id": "3d14a0ef",
   "metadata": {},
   "outputs": [
    {
     "data": {
      "text/html": [
       "<div><style>\n",
       ".dataframe > thead > tr,\n",
       ".dataframe > tbody > tr {\n",
       "  text-align: right;\n",
       "  white-space: pre-wrap;\n",
       "}\n",
       "</style>\n",
       "<small>shape: (5, 4)</small><table border=\"1\" class=\"dataframe\"><thead><tr><th>yelping_dt</th><th>round_to_hour</th><th>truncate_to_day</th><th>truncate_to_week</th></tr><tr><td>datetime[μs]</td><td>datetime[μs]</td><td>datetime[μs]</td><td>datetime[μs]</td></tr></thead><tbody><tr><td>2007-01-25 16:47:26</td><td>2007-01-25 17:00:00</td><td>2007-01-25 00:00:00</td><td>2007-01-22 00:00:00</td></tr><tr><td>2009-01-25 04:35:42</td><td>2009-01-25 05:00:00</td><td>2009-01-25 00:00:00</td><td>2009-01-19 00:00:00</td></tr><tr><td>2008-07-25 10:41:00</td><td>2008-07-25 11:00:00</td><td>2008-07-25 00:00:00</td><td>2008-07-21 00:00:00</td></tr><tr><td>2005-11-29 04:38:33</td><td>2005-11-29 05:00:00</td><td>2005-11-29 00:00:00</td><td>2005-11-28 00:00:00</td></tr><tr><td>2007-01-05 19:40:59</td><td>2007-01-05 20:00:00</td><td>2007-01-05 00:00:00</td><td>2007-01-01 00:00:00</td></tr></tbody></table></div>"
      ],
      "text/plain": [
       "shape: (5, 4)\n",
       "┌─────────────────────┬─────────────────────┬─────────────────────┬─────────────────────┐\n",
       "│ yelping_dt          ┆ round_to_hour       ┆ truncate_to_day     ┆ truncate_to_week    │\n",
       "│ ---                 ┆ ---                 ┆ ---                 ┆ ---                 │\n",
       "│ datetime[μs]        ┆ datetime[μs]        ┆ datetime[μs]        ┆ datetime[μs]        │\n",
       "╞═════════════════════╪═════════════════════╪═════════════════════╪═════════════════════╡\n",
       "│ 2007-01-25 16:47:26 ┆ 2007-01-25 17:00:00 ┆ 2007-01-25 00:00:00 ┆ 2007-01-22 00:00:00 │\n",
       "│ 2009-01-25 04:35:42 ┆ 2009-01-25 05:00:00 ┆ 2009-01-25 00:00:00 ┆ 2009-01-19 00:00:00 │\n",
       "│ 2008-07-25 10:41:00 ┆ 2008-07-25 11:00:00 ┆ 2008-07-25 00:00:00 ┆ 2008-07-21 00:00:00 │\n",
       "│ 2005-11-29 04:38:33 ┆ 2005-11-29 05:00:00 ┆ 2005-11-29 00:00:00 ┆ 2005-11-28 00:00:00 │\n",
       "│ 2007-01-05 19:40:59 ┆ 2007-01-05 20:00:00 ┆ 2007-01-05 00:00:00 ┆ 2007-01-01 00:00:00 │\n",
       "└─────────────────────┴─────────────────────┴─────────────────────┴─────────────────────┘"
      ]
     },
     "execution_count": 102,
     "metadata": {},
     "output_type": "execute_result"
    }
   ],
   "source": [
    "rounding = user_lf.with_columns([\n",
    "    pl.col(\"yelping_dt\").dt.round(\"1h\").alias(\"round_to_hour\"),\n",
    "    pl.col(\"yelping_dt\").dt.truncate(\"1d\").alias(\"truncate_to_day\"),\n",
    "    pl.col(\"yelping_dt\").dt.truncate(\"1w\").alias(\"truncate_to_week\")\n",
    "])\n",
    "rounding.select([\"yelping_dt\", \"round_to_hour\", \"truncate_to_day\", \"truncate_to_week\"]).collect().head()"
   ]
  },
  {
   "cell_type": "markdown",
   "id": "3694bec1",
   "metadata": {},
   "source": [
    "## <strong style=\"color:#5e17eb\">  Replace Components </strong>"
   ]
  },
  {
   "cell_type": "code",
   "execution_count": null,
   "id": "4f810b36",
   "metadata": {},
   "outputs": [
    {
     "data": {
      "text/html": [
       "<div><style>\n",
       ".dataframe > thead > tr,\n",
       ".dataframe > tbody > tr {\n",
       "  text-align: right;\n",
       "  white-space: pre-wrap;\n",
       "}\n",
       "</style>\n",
       "<small>shape: (5, 2)</small><table border=\"1\" class=\"dataframe\"><thead><tr><th>yelping_since</th><th>replaced_date</th></tr><tr><td>str</td><td>datetime[μs]</td></tr></thead><tbody><tr><td>&quot;2007-01-25 16:47:26&quot;</td><td>2025-12-25 16:47:26</td></tr><tr><td>&quot;2009-01-25 04:35:42&quot;</td><td>2025-12-25 04:35:42</td></tr><tr><td>&quot;2008-07-25 10:41:00&quot;</td><td>2025-12-25 10:41:00</td></tr><tr><td>&quot;2005-11-29 04:38:33&quot;</td><td>2025-12-29 04:38:33</td></tr><tr><td>&quot;2007-01-05 19:40:59&quot;</td><td>2025-12-05 19:40:59</td></tr></tbody></table></div>"
      ],
      "text/plain": [
       "shape: (5, 2)\n",
       "┌─────────────────────┬─────────────────────┐\n",
       "│ yelping_since       ┆ replaced_date       │\n",
       "│ ---                 ┆ ---                 │\n",
       "│ str                 ┆ datetime[μs]        │\n",
       "╞═════════════════════╪═════════════════════╡\n",
       "│ 2007-01-25 16:47:26 ┆ 2025-12-25 16:47:26 │\n",
       "│ 2009-01-25 04:35:42 ┆ 2025-12-25 04:35:42 │\n",
       "│ 2008-07-25 10:41:00 ┆ 2025-12-25 10:41:00 │\n",
       "│ 2005-11-29 04:38:33 ┆ 2025-12-29 04:38:33 │\n",
       "│ 2007-01-05 19:40:59 ┆ 2025-12-05 19:40:59 │\n",
       "└─────────────────────┴─────────────────────┘"
      ]
     },
     "execution_count": 103,
     "metadata": {},
     "output_type": "execute_result"
    }
   ],
   "source": [
    "replace_parts = user_lf.with_columns(\n",
    "    pl.col(\"yelping_dt\").dt.replace(year=2025, month=12).alias(\"replaced_date\")\n",
    ")\n",
    "\n",
    "replace_parts.select([\"yelping_since\", \"replaced_date\"]).collect().head()\n"
   ]
  },
  {
   "cell_type": "markdown",
   "id": "d10bdec6",
   "metadata": {},
   "source": [
    "## <strong style=\"color:#5e17eb\">Clips Ranges  </strong>"
   ]
  },
  {
   "cell_type": "code",
   "execution_count": null,
   "id": "771b7901",
   "metadata": {},
   "outputs": [
    {
     "data": {
      "text/html": [
       "<div><style>\n",
       ".dataframe > thead > tr,\n",
       ".dataframe > tbody > tr {\n",
       "  text-align: right;\n",
       "  white-space: pre-wrap;\n",
       "}\n",
       "</style>\n",
       "<small>shape: (5, 2)</small><table border=\"1\" class=\"dataframe\"><thead><tr><th>yelping_since</th><th>clipped_date</th></tr><tr><td>str</td><td>datetime[μs]</td></tr></thead><tbody><tr><td>&quot;2007-01-25 16:47:26&quot;</td><td>2007-01-25 16:47:26</td></tr><tr><td>&quot;2009-01-25 04:35:42&quot;</td><td>2009-01-25 04:35:42</td></tr><tr><td>&quot;2008-07-25 10:41:00&quot;</td><td>2008-07-25 10:41:00</td></tr><tr><td>&quot;2005-11-29 04:38:33&quot;</td><td>2007-01-01 00:00:00</td></tr><tr><td>&quot;2007-01-05 19:40:59&quot;</td><td>2007-01-05 19:40:59</td></tr></tbody></table></div>"
      ],
      "text/plain": [
       "shape: (5, 2)\n",
       "┌─────────────────────┬─────────────────────┐\n",
       "│ yelping_since       ┆ clipped_date        │\n",
       "│ ---                 ┆ ---                 │\n",
       "│ str                 ┆ datetime[μs]        │\n",
       "╞═════════════════════╪═════════════════════╡\n",
       "│ 2007-01-25 16:47:26 ┆ 2007-01-25 16:47:26 │\n",
       "│ 2009-01-25 04:35:42 ┆ 2009-01-25 04:35:42 │\n",
       "│ 2008-07-25 10:41:00 ┆ 2008-07-25 10:41:00 │\n",
       "│ 2005-11-29 04:38:33 ┆ 2007-01-01 00:00:00 │\n",
       "│ 2007-01-05 19:40:59 ┆ 2007-01-05 19:40:59 │\n",
       "└─────────────────────┴─────────────────────┘"
      ]
     },
     "execution_count": 104,
     "metadata": {},
     "output_type": "execute_result"
    }
   ],
   "source": [
    "clip_ranges = user_lf.with_columns(\n",
    "    pl.col(\"yelping_dt\").clip(\n",
    "        pl.date(2007, 1, 1), \n",
    "        pl.date(2010, 1, 1)\n",
    "    ).alias(\"clipped_date\")\n",
    ")\n",
    "\n",
    "clip_ranges.select([\"yelping_since\", \"clipped_date\"]).collect().head()\n"
   ]
  },
  {
   "cell_type": "markdown",
   "id": "2973f70e",
   "metadata": {},
   "source": [
    "## <strong style=\"color:#5e17eb\"> Summary </strong>\n",
    "\n",
    "**Goal: Shift, round, and adjust date/time values.**\n",
    "\n",
    "| Sub-Topic                  | Function / Method                                      | Example                                |\n",
    "| -------------------------- | ------------------------------------------------------ | -------------------------------------- |\n",
    "| **3.1 Add/Subtract**       | `.dt.offset_by(\"1d\")`, `.dt.offset_by(\"-2h\")`          | `pl.col(\"date\").dt.offset_by(\"7d\")`    |\n",
    "| **3.2 Rounding**           | `.dt.round(\"1h\")`, `.dt.floor(\"1d\")`, `.dt.ceil(\"1w\")` | `pl.col(\"date\").dt.round(\"1h\")`        |\n",
    "| **3.3 Replace Components** | `.dt.replace(year=2025, month=12)`                     | `pl.col(\"date\").dt.replace(year=2025)` |\n",
    "| **3.4 Clip Ranges**        | `.clip(pl.date(2024,1,1), pl.date(2025,1,1))`          | Restrict values to range               |\n"
   ]
  },
  {
   "cell_type": "markdown",
   "id": "5cdd89f1",
   "metadata": {},
   "source": [
    "# <strong style=\"color:#5e17eb\"> 4. Time Differences & Durations </strong>\n"
   ]
  },
  {
   "cell_type": "markdown",
   "id": "cf3426bd",
   "metadata": {},
   "source": [
    "## <strong style=\"color:#5e17eb\"> total_# </strong>"
   ]
  },
  {
   "cell_type": "code",
   "execution_count": null,
   "id": "8b9c941b",
   "metadata": {},
   "outputs": [
    {
     "data": {
      "text/html": [
       "<div><style>\n",
       ".dataframe > thead > tr,\n",
       ".dataframe > tbody > tr {\n",
       "  text-align: right;\n",
       "  white-space: pre-wrap;\n",
       "}\n",
       "</style>\n",
       "<small>shape: (1_987_897, 2)</small><table border=\"1\" class=\"dataframe\"><thead><tr><th>yelping_dt</th><th>diff_in_days</th></tr><tr><td>datetime[μs]</td><td>i64</td></tr></thead><tbody><tr><td>2007-01-25 16:47:26</td><td>null</td></tr><tr><td>2009-01-25 04:35:42</td><td>730</td></tr><tr><td>2008-07-25 10:41:00</td><td>-183</td></tr><tr><td>2005-11-29 04:38:33</td><td>-969</td></tr><tr><td>2007-01-05 19:40:59</td><td>402</td></tr><tr><td>&hellip;</td><td>&hellip;</td></tr><tr><td>2015-01-06 00:31:31</td><td>134</td></tr><tr><td>2016-06-14 07:20:52</td><td>525</td></tr><tr><td>2017-02-04 15:31:58</td><td>235</td></tr><tr><td>2011-01-14 00:29:08</td><td>-2213</td></tr><tr><td>2020-12-19 02:32:39</td><td>3627</td></tr></tbody></table></div>"
      ],
      "text/plain": [
       "shape: (1_987_897, 2)\n",
       "┌─────────────────────┬──────────────┐\n",
       "│ yelping_dt          ┆ diff_in_days │\n",
       "│ ---                 ┆ ---          │\n",
       "│ datetime[μs]        ┆ i64          │\n",
       "╞═════════════════════╪══════════════╡\n",
       "│ 2007-01-25 16:47:26 ┆ null         │\n",
       "│ 2009-01-25 04:35:42 ┆ 730          │\n",
       "│ 2008-07-25 10:41:00 ┆ -183         │\n",
       "│ 2005-11-29 04:38:33 ┆ -969         │\n",
       "│ 2007-01-05 19:40:59 ┆ 402          │\n",
       "│ …                   ┆ …            │\n",
       "│ 2015-01-06 00:31:31 ┆ 134          │\n",
       "│ 2016-06-14 07:20:52 ┆ 525          │\n",
       "│ 2017-02-04 15:31:58 ┆ 235          │\n",
       "│ 2011-01-14 00:29:08 ┆ -2213        │\n",
       "│ 2020-12-19 02:32:39 ┆ 3627         │\n",
       "└─────────────────────┴──────────────┘"
      ]
     },
     "execution_count": 119,
     "metadata": {},
     "output_type": "execute_result"
    }
   ],
   "source": [
    "user_lf.with_columns(\n",
    "    pl.col(\"yelping_dt\")\n",
    "      .diff(n=1, null_behavior=\"ignore\")      \n",
    "      .dt.total_days()                         \n",
    "      .alias(\"diff_in_days\")\n",
    ").select(['yelping_dt', 'diff_in_days']).collect()\n"
   ]
  },
  {
   "cell_type": "markdown",
   "id": "0ad53937",
   "metadata": {},
   "source": [
    "## <strong style=\"color:#5e17eb\"> diff </strong>"
   ]
  },
  {
   "cell_type": "code",
   "execution_count": null,
   "id": "88f36f7c",
   "metadata": {},
   "outputs": [
    {
     "data": {
      "text/html": [
       "<div><style>\n",
       ".dataframe > thead > tr,\n",
       ".dataframe > tbody > tr {\n",
       "  text-align: right;\n",
       "  white-space: pre-wrap;\n",
       "}\n",
       "</style>\n",
       "<small>shape: (1_987_897, 2)</small><table border=\"1\" class=\"dataframe\"><thead><tr><th>yelping_dt</th><th>days_between</th></tr><tr><td>datetime[μs]</td><td>i64</td></tr></thead><tbody><tr><td>2007-01-25 16:47:26</td><td>null</td></tr><tr><td>2009-01-25 04:35:42</td><td>730</td></tr><tr><td>2008-07-25 10:41:00</td><td>-183</td></tr><tr><td>2005-11-29 04:38:33</td><td>-969</td></tr><tr><td>2007-01-05 19:40:59</td><td>402</td></tr><tr><td>&hellip;</td><td>&hellip;</td></tr><tr><td>2015-01-06 00:31:31</td><td>134</td></tr><tr><td>2016-06-14 07:20:52</td><td>525</td></tr><tr><td>2017-02-04 15:31:58</td><td>235</td></tr><tr><td>2011-01-14 00:29:08</td><td>-2213</td></tr><tr><td>2020-12-19 02:32:39</td><td>3627</td></tr></tbody></table></div>"
      ],
      "text/plain": [
       "shape: (1_987_897, 2)\n",
       "┌─────────────────────┬──────────────┐\n",
       "│ yelping_dt          ┆ days_between │\n",
       "│ ---                 ┆ ---          │\n",
       "│ datetime[μs]        ┆ i64          │\n",
       "╞═════════════════════╪══════════════╡\n",
       "│ 2007-01-25 16:47:26 ┆ null         │\n",
       "│ 2009-01-25 04:35:42 ┆ 730          │\n",
       "│ 2008-07-25 10:41:00 ┆ -183         │\n",
       "│ 2005-11-29 04:38:33 ┆ -969         │\n",
       "│ 2007-01-05 19:40:59 ┆ 402          │\n",
       "│ …                   ┆ …            │\n",
       "│ 2015-01-06 00:31:31 ┆ 134          │\n",
       "│ 2016-06-14 07:20:52 ┆ 525          │\n",
       "│ 2017-02-04 15:31:58 ┆ 235          │\n",
       "│ 2011-01-14 00:29:08 ┆ -2213        │\n",
       "│ 2020-12-19 02:32:39 ┆ 3627         │\n",
       "└─────────────────────┴──────────────┘"
      ]
     },
     "execution_count": 126,
     "metadata": {},
     "output_type": "execute_result"
    }
   ],
   "source": [
    "user_lf.with_columns(\n",
    "    pl.col(\"yelping_dt\") \\\n",
    "        .diff().dt.total_days().alias(\"days_between\")\n",
    ").select([\"yelping_dt\", \"days_between\"]).collect()"
   ]
  },
  {
   "cell_type": "markdown",
   "id": "6d23720a",
   "metadata": {},
   "source": [
    "## <strong style=\"color:#5e17eb\"> Summary </strong>\n"
   ]
  },
  {
   "cell_type": "markdown",
   "id": "d974e35b",
   "metadata": {},
   "source": [
    "**Goal: Measure time gaps and durations.**\n",
    "\n",
    "| Sub-Topic                   | Function / Method                              | Example                           |\n",
    "| --------------------------- | ---------------------------------------------- | --------------------------------- |\n",
    "| **4.1 Difference in Units** | `.dt.diff()`                                   | `pl.col(\"date\").diff().dt.days()` |\n",
    "| **4.2 Duration Conversion** | `.dt.total_days()`, `.dt.total_seconds()`      | `pl.col(\"end\") - pl.col(\"start\")` |\n",
    "| **4.3 Absolute Time Gaps**  | `(pl.col(\"end\") - pl.col(\"start\")).dt.hours()` | Difference in hours               |\n"
   ]
  },
  {
   "cell_type": "markdown",
   "id": "bf328fa0",
   "metadata": {},
   "source": [
    "# <strong style=\"color:#5e17eb\"> 5. Grouping & Resampling with Dates </strong>\n"
   ]
  },
  {
   "cell_type": "markdown",
   "id": "4861f175",
   "metadata": {},
   "source": [
    "## <strong style=\"color:#5e17eb\"> Regular Group_by </strong>"
   ]
  },
  {
   "cell_type": "code",
   "execution_count": null,
   "id": "bda8d6e3",
   "metadata": {},
   "outputs": [],
   "source": [
    "user_lf = user_lf.with_columns(\n",
    "    pl.col(\"yelping_since\").str.strptime(pl.Datetime)\n",
    ")"
   ]
  },
  {
   "cell_type": "code",
   "execution_count": null,
   "id": "c708bd2a",
   "metadata": {},
   "outputs": [
    {
     "data": {
      "text/html": [
       "<div><style>\n",
       ".dataframe > thead > tr,\n",
       ".dataframe > tbody > tr {\n",
       "  text-align: right;\n",
       "  white-space: pre-wrap;\n",
       "}\n",
       "</style>\n",
       "<small>shape: (1, 23)</small><table border=\"1\" class=\"dataframe\"><thead><tr><th>user_id</th><th>name</th><th>review_count</th><th>yelping_since</th><th>useful</th><th>funny</th><th>cool</th><th>elite</th><th>friends</th><th>fans</th><th>average_stars</th><th>compliment_hot</th><th>compliment_more</th><th>compliment_profile</th><th>compliment_cute</th><th>compliment_list</th><th>compliment_note</th><th>compliment_plain</th><th>compliment_cool</th><th>compliment_funny</th><th>compliment_writer</th><th>compliment_photos</th><th>yelping_dt</th></tr><tr><td>str</td><td>str</td><td>i64</td><td>datetime[μs]</td><td>i64</td><td>i64</td><td>i64</td><td>str</td><td>str</td><td>i64</td><td>f64</td><td>i64</td><td>i64</td><td>i64</td><td>i64</td><td>i64</td><td>i64</td><td>i64</td><td>i64</td><td>i64</td><td>i64</td><td>i64</td><td>datetime[μs]</td></tr></thead><tbody><tr><td>&quot;qVc8ODYU5SZjKXVBgXdI7w&quot;</td><td>&quot;Walker&quot;</td><td>585</td><td>2007-01-25 16:47:26</td><td>7217</td><td>1259</td><td>5994</td><td>&quot;2007&quot;</td><td>&quot;NSCy54eWehBJyZdG2iE84w, pe42u7…</td><td>267</td><td>3.91</td><td>250</td><td>65</td><td>55</td><td>56</td><td>18</td><td>232</td><td>844</td><td>467</td><td>467</td><td>239</td><td>180</td><td>2007-01-25 16:47:26</td></tr></tbody></table></div>"
      ],
      "text/plain": [
       "shape: (1, 23)\n",
       "┌────────────┬────────┬────────────┬───────────┬───┬───────────┬───────────┬───────────┬───────────┐\n",
       "│ user_id    ┆ name   ┆ review_cou ┆ yelping_s ┆ … ┆ complimen ┆ complimen ┆ complimen ┆ yelping_d │\n",
       "│ ---        ┆ ---    ┆ nt         ┆ ince      ┆   ┆ t_funny   ┆ t_writer  ┆ t_photos  ┆ t         │\n",
       "│ str        ┆ str    ┆ ---        ┆ ---       ┆   ┆ ---       ┆ ---       ┆ ---       ┆ ---       │\n",
       "│            ┆        ┆ i64        ┆ datetime[ ┆   ┆ i64       ┆ i64       ┆ i64       ┆ datetime[ │\n",
       "│            ┆        ┆            ┆ μs]       ┆   ┆           ┆           ┆           ┆ μs]       │\n",
       "╞════════════╪════════╪════════════╪═══════════╪═══╪═══════════╪═══════════╪═══════════╪═══════════╡\n",
       "│ qVc8ODYU5S ┆ Walker ┆ 585        ┆ 2007-01-2 ┆ … ┆ 467       ┆ 239       ┆ 180       ┆ 2007-01-2 │\n",
       "│ ZjKXVBgXdI ┆        ┆            ┆ 5         ┆   ┆           ┆           ┆           ┆ 5         │\n",
       "│ 7w         ┆        ┆            ┆ 16:47:26  ┆   ┆           ┆           ┆           ┆ 16:47:26  │\n",
       "└────────────┴────────┴────────────┴───────────┴───┴───────────┴───────────┴───────────┴───────────┘"
      ]
     },
     "execution_count": 108,
     "metadata": {},
     "output_type": "execute_result"
    }
   ],
   "source": [
    "user_lf.head(1).collect()"
   ]
  },
  {
   "cell_type": "markdown",
   "id": "4c9a5761",
   "metadata": {},
   "source": [
    "## <strong style=\"color:#5e17eb\"> Time based Grouping </strong>"
   ]
  },
  {
   "cell_type": "code",
   "execution_count": null,
   "id": "f6b4736c",
   "metadata": {},
   "outputs": [
    {
     "data": {
      "text/html": [
       "<div><style>\n",
       ".dataframe > thead > tr,\n",
       ".dataframe > tbody > tr {\n",
       "  text-align: right;\n",
       "  white-space: pre-wrap;\n",
       "}\n",
       "</style>\n",
       "<small>shape: (1_158, 2)</small><table border=\"1\" class=\"dataframe\"><thead><tr><th>review_count</th><th>stars</th></tr><tr><td>i64</td><td>f64</td></tr></thead><tbody><tr><td>2126</td><td>4.5</td></tr><tr><td>405</td><td>4.1</td></tr><tr><td>152</td><td>3.914634</td></tr><tr><td>551</td><td>3.75</td></tr><tr><td>280</td><td>3.875</td></tr><tr><td>&hellip;</td><td>&hellip;</td></tr><tr><td>917</td><td>4.0</td></tr><tr><td>896</td><td>4.0</td></tr><tr><td>625</td><td>4.125</td></tr><tr><td>1176</td><td>4.0</td></tr><tr><td>768</td><td>4.0</td></tr></tbody></table></div>"
      ],
      "text/plain": [
       "shape: (1_158, 2)\n",
       "┌──────────────┬──────────┐\n",
       "│ review_count ┆ stars    │\n",
       "│ ---          ┆ ---      │\n",
       "│ i64          ┆ f64      │\n",
       "╞══════════════╪══════════╡\n",
       "│ 2126         ┆ 4.5      │\n",
       "│ 405          ┆ 4.1      │\n",
       "│ 152          ┆ 3.914634 │\n",
       "│ 551          ┆ 3.75     │\n",
       "│ 280          ┆ 3.875    │\n",
       "│ …            ┆ …        │\n",
       "│ 917          ┆ 4.0      │\n",
       "│ 896          ┆ 4.0      │\n",
       "│ 625          ┆ 4.125    │\n",
       "│ 1176         ┆ 4.0      │\n",
       "│ 768          ┆ 4.0      │\n",
       "└──────────────┴──────────┘"
      ]
     },
     "execution_count": 110,
     "metadata": {},
     "output_type": "execute_result"
    }
   ],
   "source": [
    "business_lf.group_by(\"review_count\") \\\n",
    "    .agg([\n",
    "        (pl.col(\"stars\").mean())\n",
    "    ]).collect()"
   ]
  },
  {
   "cell_type": "markdown",
   "id": "70c3bd10",
   "metadata": {},
   "source": [
    "## <strong style=\"color:#5e17eb\"> Rolling Windows </strong>"
   ]
  },
  {
   "cell_type": "code",
   "execution_count": null,
   "id": "3ab9163a",
   "metadata": {},
   "outputs": [
    {
     "data": {
      "text/html": [
       "<div><style>\n",
       ".dataframe > thead > tr,\n",
       ".dataframe > tbody > tr {\n",
       "  text-align: right;\n",
       "  white-space: pre-wrap;\n",
       "}\n",
       "</style>\n",
       "<small>shape: (19, 3)</small><table border=\"1\" class=\"dataframe\"><thead><tr><th>yelping_since</th><th>review_count</th><th>review number</th></tr><tr><td>datetime[μs]</td><td>f64</td><td>u32</td></tr></thead><tbody><tr><td>2004-01-01 00:00:00</td><td>234.257059</td><td>1027</td></tr><tr><td>2005-01-01 00:00:00</td><td>180.217138</td><td>6360</td></tr><tr><td>2006-01-01 00:00:00</td><td>141.196503</td><td>20763</td></tr><tr><td>2007-01-01 00:00:00</td><td>111.428064</td><td>46437</td></tr><tr><td>2008-01-01 00:00:00</td><td>78.78783</td><td>96008</td></tr><tr><td>&hellip;</td><td>&hellip;</td><td>&hellip;</td></tr><tr><td>2018-01-01 00:00:00</td><td>6.28624</td><td>238223</td></tr><tr><td>2019-01-01 00:00:00</td><td>4.975601</td><td>152099</td></tr><tr><td>2020-01-01 00:00:00</td><td>3.521398</td><td>87929</td></tr><tr><td>2021-01-01 00:00:00</td><td>2.682691</td><td>43267</td></tr><tr><td>2022-01-01 00:00:00</td><td>1.338246</td><td>2782</td></tr></tbody></table></div>"
      ],
      "text/plain": [
       "shape: (19, 3)\n",
       "┌─────────────────────┬──────────────┬───────────────┐\n",
       "│ yelping_since       ┆ review_count ┆ review number │\n",
       "│ ---                 ┆ ---          ┆ ---           │\n",
       "│ datetime[μs]        ┆ f64          ┆ u32           │\n",
       "╞═════════════════════╪══════════════╪═══════════════╡\n",
       "│ 2004-01-01 00:00:00 ┆ 234.257059   ┆ 1027          │\n",
       "│ 2005-01-01 00:00:00 ┆ 180.217138   ┆ 6360          │\n",
       "│ 2006-01-01 00:00:00 ┆ 141.196503   ┆ 20763         │\n",
       "│ 2007-01-01 00:00:00 ┆ 111.428064   ┆ 46437         │\n",
       "│ 2008-01-01 00:00:00 ┆ 78.78783     ┆ 96008         │\n",
       "│ …                   ┆ …            ┆ …             │\n",
       "│ 2018-01-01 00:00:00 ┆ 6.28624      ┆ 238223        │\n",
       "│ 2019-01-01 00:00:00 ┆ 4.975601     ┆ 152099        │\n",
       "│ 2020-01-01 00:00:00 ┆ 3.521398     ┆ 87929         │\n",
       "│ 2021-01-01 00:00:00 ┆ 2.682691     ┆ 43267         │\n",
       "│ 2022-01-01 00:00:00 ┆ 1.338246     ┆ 2782          │\n",
       "└─────────────────────┴──────────────┴───────────────┘"
      ]
     },
     "execution_count": 127,
     "metadata": {},
     "output_type": "execute_result"
    }
   ],
   "source": [
    "user_lf.sort(\"yelping_since\") \\\n",
    "    .group_by_dynamic(\n",
    "        index_column=\"yelping_since\",  # Must be datetime\n",
    "        every=\"1y\",\n",
    "        period=\"2y\"\n",
    "    ).agg([\n",
    "        pl.col(\"review_count\").mean(),\n",
    "        pl.count().alias(\"review number\")\n",
    "    ]).collect()\n"
   ]
  },
  {
   "cell_type": "markdown",
   "id": "777b0d86",
   "metadata": {},
   "source": [
    "## <strong style=\"color:#5e17eb\"> Summary </strong>\n",
    "\n",
    "**Goal: Aggregate by date/time buckets.**\n",
    "\n",
    "| Sub-Topic                   | Function / Method                                   | Example             |\n",
    "| --------------------------- | --------------------------------------------------- | ------------------- |\n",
    "| **5.1 Regular group_by**     | `.group_by(\"date\").agg(...)`                         | Group by exact date |\n",
    "| **5.2 Time-based Grouping** | `.group_by_dynamic(\"date\", every=\"1mo\")`             | Monthly aggregation |\n",
    "| **5.3 Rolling Windows**     | `.group_by_dynamic(\"date\", every=\"7d\", period=\"7d\")` | Weekly rolling sums |\n"
   ]
  },
  {
   "cell_type": "markdown",
   "id": "eb1f9c59",
   "metadata": {},
   "source": [
    "# <strong style=\"color:#5e17eb\"> 6. Working with Timezones </strong>\n"
   ]
  },
  {
   "cell_type": "code",
   "execution_count": null,
   "id": "81e46b0a",
   "metadata": {},
   "outputs": [
    {
     "name": "stdout",
     "output_type": "stream",
     "text": [
      "shape: (3, 2)\n",
      "┌────────────┬────────────┐\n",
      "│ date_str   ┆ date       │\n",
      "│ ---        ┆ ---        │\n",
      "│ str        ┆ date       │\n",
      "╞════════════╪════════════╡\n",
      "│ 2024-01-01 ┆ 2024-01-01 │\n",
      "│ 2024-06-15 ┆ 2024-06-15 │\n",
      "│ 2024-12-31 ┆ 2024-12-31 │\n",
      "└────────────┴────────────┘\n"
     ]
    }
   ],
   "source": [
    "df = pl.DataFrame({\n",
    "    \"date_str\": [\"2024-01-01\", \"2024-06-15\", \"2024-12-31\"]\n",
    "})\n",
    "\n",
    "# Convert to Date\n",
    "df = df.with_columns(\n",
    "    pl.col(\"date_str\").str.strptime(pl.Date, \"%Y-%m-%d\").alias(\"date\")\n",
    ")\n",
    "print(df)\n"
   ]
  },
  {
   "cell_type": "markdown",
   "id": "10c53e3b",
   "metadata": {},
   "source": [
    "## <strong style=\"color:#5e17eb\"> Set a Time Zone </strong>"
   ]
  },
  {
   "cell_type": "code",
   "execution_count": null,
   "id": "aff8d6fa",
   "metadata": {},
   "outputs": [],
   "source": [
    "df = pl.DataFrame({\n",
    "    \"date_slash\": [\"01/02/2024\", \"15/03/2024\"]\n",
    "})\n",
    "\n",
    "df = df.with_columns(\n",
    "    pl.col(\"date_slash\").str.strptime(pl.Date, \"%d/%m/%Y\").alias(\"date\")\n",
    ")\n"
   ]
  },
  {
   "cell_type": "code",
   "execution_count": null,
   "id": "e1dbf563",
   "metadata": {},
   "outputs": [
    {
     "name": "stdout",
     "output_type": "stream",
     "text": [
      "shape: (2, 1)\n",
      "┌─────────────────────────┐\n",
      "│ ts                      │\n",
      "│ ---                     │\n",
      "│ datetime[μs, UTC]       │\n",
      "╞═════════════════════════╡\n",
      "│ 2024-01-01 12:00:00 UTC │\n",
      "│ 2024-03-15 18:00:00 UTC │\n",
      "└─────────────────────────┘\n"
     ]
    }
   ],
   "source": [
    "df = pl.DataFrame({\n",
    "    \"ts\": [\n",
    "        datetime.datetime(2024, 1, 1, 12, 0),\n",
    "        datetime.datetime(2024, 3, 15, 18, 0)\n",
    "    ]\n",
    "}).with_columns(\n",
    "    pl.col(\"ts\").dt.replace_time_zone(\"UTC\")\n",
    ")\n",
    "\n",
    "print(df)\n"
   ]
  },
  {
   "cell_type": "markdown",
   "id": "c7d97d3e",
   "metadata": {},
   "source": [
    "## <strong style=\"color:#5e17eb\"> Replace a Time zone </strong>"
   ]
  },
  {
   "cell_type": "code",
   "execution_count": null,
   "id": "96f40aa3",
   "metadata": {},
   "outputs": [
    {
     "data": {
      "text/html": [
       "<div><style>\n",
       ".dataframe > thead > tr,\n",
       ".dataframe > tbody > tr {\n",
       "  text-align: right;\n",
       "  white-space: pre-wrap;\n",
       "}\n",
       "</style>\n",
       "<small>shape: (2, 2)</small><table border=\"1\" class=\"dataframe\"><thead><tr><th>ts</th><th>ts_IST</th></tr><tr><td>datetime[μs, UTC]</td><td>datetime[μs, Asia/Kolkata]</td></tr></thead><tbody><tr><td>2024-01-01 12:00:00 UTC</td><td>2024-01-01 17:30:00 IST</td></tr><tr><td>2024-03-15 18:00:00 UTC</td><td>2024-03-15 23:30:00 IST</td></tr></tbody></table></div>"
      ],
      "text/plain": [
       "shape: (2, 2)\n",
       "┌─────────────────────────┬────────────────────────────┐\n",
       "│ ts                      ┆ ts_IST                     │\n",
       "│ ---                     ┆ ---                        │\n",
       "│ datetime[μs, UTC]       ┆ datetime[μs, Asia/Kolkata] │\n",
       "╞═════════════════════════╪════════════════════════════╡\n",
       "│ 2024-01-01 12:00:00 UTC ┆ 2024-01-01 17:30:00 IST    │\n",
       "│ 2024-03-15 18:00:00 UTC ┆ 2024-03-15 23:30:00 IST    │\n",
       "└─────────────────────────┴────────────────────────────┘"
      ]
     },
     "execution_count": 116,
     "metadata": {},
     "output_type": "execute_result"
    }
   ],
   "source": [
    "df.with_columns(\n",
    "    pl.col(\"ts\").dt.convert_time_zone(\"Asia/Kolkata\").alias(\"ts_IST\")\n",
    ")\n"
   ]
  },
  {
   "cell_type": "markdown",
   "id": "30da4bf6",
   "metadata": {},
   "source": [
    "## <strong style=\"color:#5e17eb\">  Date Range</strong>"
   ]
  },
  {
   "cell_type": "code",
   "execution_count": null,
   "id": "8c5eec48",
   "metadata": {},
   "outputs": [
    {
     "data": {
      "text/html": [
       "<div><style>\n",
       ".dataframe > thead > tr,\n",
       ".dataframe > tbody > tr {\n",
       "  text-align: right;\n",
       "  white-space: pre-wrap;\n",
       "}\n",
       "</style>\n",
       "<small>shape: (4,)</small><table border=\"1\" class=\"dataframe\"><thead><tr><th>literal</th></tr><tr><td>date</td></tr></thead><tbody><tr><td>2024-01-01</td></tr><tr><td>2024-01-04</td></tr><tr><td>2024-01-07</td></tr><tr><td>2024-01-10</td></tr></tbody></table></div>"
      ],
      "text/plain": [
       "shape: (4,)\n",
       "Series: 'literal' [date]\n",
       "[\n",
       "\t2024-01-01\n",
       "\t2024-01-04\n",
       "\t2024-01-07\n",
       "\t2024-01-10\n",
       "]"
      ]
     },
     "execution_count": 128,
     "metadata": {},
     "output_type": "execute_result"
    }
   ],
   "source": [
    "# Create a date range\n",
    "dr = pl.date_range(\n",
    "    start=datetime.datetime(2024, 1, 1),\n",
    "    end=datetime.datetime(2024, 1, 10),\n",
    "    interval=\"3d\",\n",
    "    eager=True\n",
    ")\n",
    "dr\n"
   ]
  },
  {
   "cell_type": "code",
   "execution_count": null,
   "id": "34978eb5",
   "metadata": {},
   "outputs": [
    {
     "data": {
      "text/plain": [
       "Schema([('ts', Datetime(time_unit='us', time_zone='UTC'))])"
      ]
     },
     "execution_count": 129,
     "metadata": {},
     "output_type": "execute_result"
    }
   ],
   "source": [
    "df.schema"
   ]
  },
  {
   "cell_type": "markdown",
   "id": "fe6775ba",
   "metadata": {},
   "source": [
    "## <strong style=\"color:#5e17eb\"> Cast  </strong>"
   ]
  },
  {
   "cell_type": "code",
   "execution_count": null,
   "id": "87204e99",
   "metadata": {},
   "outputs": [
    {
     "data": {
      "text/html": [
       "<div><style>\n",
       ".dataframe > thead > tr,\n",
       ".dataframe > tbody > tr {\n",
       "  text-align: right;\n",
       "  white-space: pre-wrap;\n",
       "}\n",
       "</style>\n",
       "<small>shape: (2, 3)</small><table border=\"1\" class=\"dataframe\"><thead><tr><th>ts</th><th>only_date</th><th>back_to_datetime</th></tr><tr><td>datetime[μs, UTC]</td><td>date</td><td>datetime[μs]</td></tr></thead><tbody><tr><td>2024-01-01 12:00:00 UTC</td><td>2024-01-01</td><td>2024-01-01 00:00:00</td></tr><tr><td>2024-03-15 18:00:00 UTC</td><td>2024-03-15</td><td>2024-03-15 00:00:00</td></tr></tbody></table></div>"
      ],
      "text/plain": [
       "shape: (2, 3)\n",
       "┌─────────────────────────┬────────────┬─────────────────────┐\n",
       "│ ts                      ┆ only_date  ┆ back_to_datetime    │\n",
       "│ ---                     ┆ ---        ┆ ---                 │\n",
       "│ datetime[μs, UTC]       ┆ date       ┆ datetime[μs]        │\n",
       "╞═════════════════════════╪════════════╪═════════════════════╡\n",
       "│ 2024-01-01 12:00:00 UTC ┆ 2024-01-01 ┆ 2024-01-01 00:00:00 │\n",
       "│ 2024-03-15 18:00:00 UTC ┆ 2024-03-15 ┆ 2024-03-15 00:00:00 │\n",
       "└─────────────────────────┴────────────┴─────────────────────┘"
      ]
     },
     "execution_count": 130,
     "metadata": {},
     "output_type": "execute_result"
    }
   ],
   "source": [
    "df = df.with_columns_seq([\n",
    "    pl.col(\"ts\").cast(pl.Date).alias(\"only_date\")\n",
    "])\n",
    "\n",
    "df = df.with_columns_seq([\n",
    "    pl.col(\"only_date\").cast(pl.Datetime).alias(\"back_to_datetime\")\n",
    "])\n",
    "\n",
    "df"
   ]
  },
  {
   "cell_type": "markdown",
   "id": "571c51f6",
   "metadata": {},
   "source": [
    "## <strong style=\"color:#5e17eb\"> Summary </strong>\n",
    "\n",
    "**Goal: Handle local time vs UTC.**\n",
    "\n",
    "| Sub-Topic                | Function / Method                       | Example          |\n",
    "| ------------------------ | --------------------------------------- | ---------------- |\n",
    "| **6.1 Set Timezone**     | `.dt.replace_time_zone(\"UTC\")`          | Convert to UTC   |\n",
    "| **6.2 Convert Timezone** | `.dt.convert_time_zone(\"Asia/Kolkata\")` | Change time zone |\n",
    "| **6.3 Remove Timezone**  | `.dt.replace_time_zone(None)`           | Drop tz info     |\n"
   ]
  },
  {
   "cell_type": "markdown",
   "id": "b642d6bf",
   "metadata": {},
   "source": [
    "# <strong style=\"color:#5e17eb\"> 7. Validation & Cleaning </strong>\n"
   ]
  },
  {
   "cell_type": "code",
   "execution_count": null,
   "id": "c0a5384e",
   "metadata": {},
   "outputs": [
    {
     "data": {
      "text/html": [
       "<div><style>\n",
       ".dataframe > thead > tr,\n",
       ".dataframe > tbody > tr {\n",
       "  text-align: right;\n",
       "  white-space: pre-wrap;\n",
       "}\n",
       "</style>\n",
       "<small>shape: (1, 23)</small><table border=\"1\" class=\"dataframe\"><thead><tr><th>user_id</th><th>name</th><th>review_count</th><th>yelping_since</th><th>useful</th><th>funny</th><th>cool</th><th>elite</th><th>friends</th><th>fans</th><th>average_stars</th><th>compliment_hot</th><th>compliment_more</th><th>compliment_profile</th><th>compliment_cute</th><th>compliment_list</th><th>compliment_note</th><th>compliment_plain</th><th>compliment_cool</th><th>compliment_funny</th><th>compliment_writer</th><th>compliment_photos</th><th>yelping_dt</th></tr><tr><td>u32</td><td>u32</td><td>u32</td><td>u32</td><td>u32</td><td>u32</td><td>u32</td><td>u32</td><td>u32</td><td>u32</td><td>u32</td><td>u32</td><td>u32</td><td>u32</td><td>u32</td><td>u32</td><td>u32</td><td>u32</td><td>u32</td><td>u32</td><td>u32</td><td>u32</td><td>u32</td></tr></thead><tbody><tr><td>0</td><td>37</td><td>0</td><td>0</td><td>0</td><td>0</td><td>0</td><td>1896699</td><td>878551</td><td>0</td><td>0</td><td>0</td><td>0</td><td>0</td><td>0</td><td>0</td><td>0</td><td>0</td><td>0</td><td>0</td><td>0</td><td>0</td><td>0</td></tr></tbody></table></div>"
      ],
      "text/plain": [
       "shape: (1, 23)\n",
       "┌─────────┬──────┬────────────┬────────────┬───┬────────────┬────────────┬────────────┬────────────┐\n",
       "│ user_id ┆ name ┆ review_cou ┆ yelping_si ┆ … ┆ compliment ┆ compliment ┆ compliment ┆ yelping_dt │\n",
       "│ ---     ┆ ---  ┆ nt         ┆ nce        ┆   ┆ _funny     ┆ _writer    ┆ _photos    ┆ ---        │\n",
       "│ u32     ┆ u32  ┆ ---        ┆ ---        ┆   ┆ ---        ┆ ---        ┆ ---        ┆ u32        │\n",
       "│         ┆      ┆ u32        ┆ u32        ┆   ┆ u32        ┆ u32        ┆ u32        ┆            │\n",
       "╞═════════╪══════╪════════════╪════════════╪═══╪════════════╪════════════╪════════════╪════════════╡\n",
       "│ 0       ┆ 37   ┆ 0          ┆ 0          ┆ … ┆ 0          ┆ 0          ┆ 0          ┆ 0          │\n",
       "└─────────┴──────┴────────────┴────────────┴───┴────────────┴────────────┴────────────┴────────────┘"
      ]
     },
     "execution_count": 131,
     "metadata": {},
     "output_type": "execute_result"
    }
   ],
   "source": [
    "user_lf.null_count().collect()"
   ]
  },
  {
   "cell_type": "markdown",
   "id": "28e05c2b",
   "metadata": {},
   "source": [
    "- Rest we already discuss in our previous notebooks"
   ]
  },
  {
   "cell_type": "markdown",
   "id": "3dac771e",
   "metadata": {},
   "source": [
    "## <strong style=\"color:#5e17eb\"> Summary </strong>\n",
    "\n",
    "**Goal: Ensure dates/times are valid and clean.**\n",
    "\n",
    "| Sub-Topic                     | Function / Method                             | Example                                   |\n",
    "| ----------------------------- | --------------------------------------------- | ----------------------------------------- |\n",
    "| **7.1 Check Nulls**           | `.is_null()`, `.is_not_null()`                | `df.filter(pl.col(\"date\").is_not_null())` |\n",
    "| **7.2 Filter by Range**       | `(pl.col(\"date\") >= pl.date(2024,1,1)) & ...` | Keep data in range                        |\n",
    "| **7.3 Detect Parsing Errors** | `.str.strptime(..., strict=False)`            | Avoid failing on bad dates                |\n"
   ]
  },
  {
   "cell_type": "markdown",
   "id": "e05141d7",
   "metadata": {},
   "source": [
    "# <strong style=\"color:#5e17eb\"> 8. Pro Tips for Date/Time in Polars </strong>\n",
    "\n",
    "- Prefer Native Types: Use `pl.Date` / `pl.Datetime` — they are faster and memory-efficient.\n",
    "\n",
    "- Always Specify Format: Avoid ambiguous parsing (%Y-%m-%d is faster than guessing).\n",
    "\n",
    "- Use Lazy API for Big Time Data: Speeds up large range filtering & grouping.\n",
    "\n",
    "- Use `.start_of()` & `.end_of()` for Grouping: Prevents month/week edge errors.\n",
    "\n",
    "- Time Arithmetic: .`dt.offset_by()` is safer than adding integers directly.\n",
    "\n",
    "- Timezones: Convert all to UTC before joins/merges."
   ]
  },
  {
   "cell_type": "markdown",
   "id": "4a213ef6",
   "metadata": {},
   "source": [
    "- https://docs.pola.rs/api/python/stable/reference/series/temporal.html"
   ]
  },
  {
   "cell_type": "markdown",
   "id": "4bc079db",
   "metadata": {},
   "source": [
    "<div style=\"text-align: center;\">\n",
    "  <h4 style=\"\n",
    "    display: inline-block;\n",
    "    color: #5e17eb;\n",
    "    font-family: 'Segoe UI';\n",
    "    border-left: 5px solid #5e17eb;\n",
    "    background-color: #F8F9F9;\n",
    "    padding: 10px 20px;\n",
    "    border-radius: 5px;\n",
    "    text-align: left;\n",
    "  \">\n",
    "  <b>\n",
    "    Thank You 💜\n",
    "    </b>\n",
    "  </h4>\n",
    "</div>"
   ]
  }
 ],
 "metadata": {
  "kernelspec": {
   "display_name": "Python 3",
   "language": "python",
   "name": "python3"
  },
  "language_info": {
   "codemirror_mode": {
    "name": "ipython",
    "version": 3
   },
   "file_extension": ".py",
   "mimetype": "text/x-python",
   "name": "python",
   "nbconvert_exporter": "python",
   "pygments_lexer": "ipython3",
   "version": "3.11.9"
  }
 },
 "nbformat": 4,
 "nbformat_minor": 5
}
